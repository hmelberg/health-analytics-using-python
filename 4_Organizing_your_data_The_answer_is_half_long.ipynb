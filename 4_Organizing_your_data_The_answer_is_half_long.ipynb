{
  "nbformat": 4,
  "nbformat_minor": 0,
  "metadata": {
    "colab": {
      "name": "4 Organizing your data: The answer is half-long.ipynb",
      "provenance": [],
      "collapsed_sections": [],
      "machine_shape": "hm",
      "include_colab_link": true
    },
    "kernelspec": {
      "display_name": "Python 3",
      "language": "python",
      "name": "python3"
    },
    "language_info": {
      "codemirror_mode": {
        "name": "ipython",
        "version": 3
      },
      "file_extension": ".py",
      "mimetype": "text/x-python",
      "name": "python",
      "nbconvert_exporter": "python",
      "pygments_lexer": "ipython3",
      "version": "3.7.3"
    },
    "varInspector": {
      "cols": {
        "lenName": 16,
        "lenType": 16,
        "lenVar": 40
      },
      "kernels_config": {
        "python": {
          "delete_cmd_postfix": "",
          "delete_cmd_prefix": "del ",
          "library": "var_list.py",
          "varRefreshCmd": "print(var_dic_list())"
        },
        "r": {
          "delete_cmd_postfix": ") ",
          "delete_cmd_prefix": "rm(",
          "library": "var_list.r",
          "varRefreshCmd": "cat(var_dic_list()) "
        }
      },
      "types_to_exclude": [
        "module",
        "function",
        "builtin_function_or_method",
        "instance",
        "_Feature"
      ],
      "window_display": false
    }
  },
  "cells": [
    {
      "cell_type": "markdown",
      "metadata": {
        "id": "view-in-github",
        "colab_type": "text"
      },
      "source": [
        "<a href=\"https://colab.research.google.com/github/hmelberg/health-analytics-using-python/blob/master/4_Organizing_your_data_The_answer_is_half_long.ipynb\" target=\"_parent\"><img src=\"https://colab.research.google.com/assets/colab-badge.svg\" alt=\"Open In Colab\"/></a>"
      ]
    },
    {
      "cell_type": "markdown",
      "metadata": {
        "colab_type": "text",
        "id": "9pcYZ-rqpnTS"
      },
      "source": [
        "# Choosing a Data Structure: The answer is half-long!\n",
        "\n",
        "Hans Olav Melberg, Oslo, December, 2019\n",
        "\n",
        "\n",
        "---\n",
        "\n",
        "\n",
        "\n",
        "---\n",
        "\n",
        "\n",
        "\n",
        "Often we have data that can be structured in many columns or rows, or even aggregated in one column. The question is  what format we should choose and how we can reshape the data to this format. For instance: A hospital event for a patient can be associated with many different diagnoses. There are at least three ways of organizing this information in a tabular format:\n",
        "* **Wide with many columns**: The cells in each column has only one diagnostic code\n",
        "* **Long in a single column**: All the relevant codes for the event are merged and separated by a comma or some other symbol\n",
        "* **Long with many rows**: A single column for diagnoses and multiple rows for the same event with a a different diagnosis.\n",
        "\n",
        "The choice of how to organize the data depends on several factors:\n",
        "* **Memory**: Which structure uses the least memory?\n",
        "* **Speed**: Which structure provides the quickest answers to common questions?\n",
        "* **Ease of reasoning**: Which structure makes it easier to reason about the data and reorganize it to get the results you want? \n",
        "\n",
        "In this notebook we will explore the different structures and associated memory requirements and query speed. The aim is to provide information that is useful for choosing when to use the different data structures. Since tabular data tend to be easier to analyze if all codes related to the same event is in the same row, we will only compare different variants of wide and long structures and not the alternative where the same event is split in many rows.\n",
        "\n",
        "The overall conclusion is perhaps surprising: A messy data-structure with multiple comma separated values in the same column seems to be both fast and memory efficient. "
      ]
    },
    {
      "cell_type": "markdown",
      "metadata": {
        "colab_type": "text",
        "id": "dnYJenUmOX_9"
      },
      "source": [
        "### Import packages"
      ]
    },
    {
      "cell_type": "code",
      "metadata": {
        "colab_type": "code",
        "id": "FTljCQ4ypxFP",
        "colab": {}
      },
      "source": [
        "import numpy as np\n",
        "import pandas as pd\n",
        "import time\n",
        "\n",
        "# Make plots slighty bigger and cleaner\n",
        "%config InlineBackend.figure_format = 'svg'"
      ],
      "execution_count": 0,
      "outputs": []
    },
    {
      "cell_type": "markdown",
      "metadata": {
        "colab_type": "text",
        "id": "QijmKCyaM6Lj"
      },
      "source": [
        "### Make data\n",
        "\n",
        "We will use a function to create a dataframe since we want to easily repeating the process with different different number of individuals (n), and with different degrees of cardinality i.e. we might create data with only a few different diagnosis, or many possible diagnoses. \n",
        "\n",
        "Not all events should have the same number of diagnoses. Many will have just one or a few, but some will have more than 20. To simulate this distribution, the number of diagnoses associated with an event will be created by random draws from a [negative binomial distribution](https://en.wikipedia.org/wiki/Negative_binomial_distribution). \n",
        "\n",
        "Exercise:\n",
        "If you believe single valued events are even more common than the negative binominal model suggests, try zero-inflated models. You could also try Poisson distributions. Hint: Read Josef Perktold's [notebook](https://gist.github.com/josef-pkt/c932904296270d75366a24ee92a4eb2f) on zero-inflated models. (Zero inflated in our context is really, \"one-code-only-inflated', since all events have at least one diagnostic code.\n",
        "\n"
      ]
    },
    {
      "cell_type": "code",
      "metadata": {
        "colab_type": "code",
        "id": "o6NErKeasITd",
        "colab": {}
      },
      "source": [
        "\n",
        "def make_data(n, letters=26, numbers=100, seed=False):\n",
        "  \"\"\"\n",
        "  Generate a dataframe with a column of random codes\n",
        "  \n",
        "  Args:\n",
        "    letters (int): The number of different letters to use\n",
        "    numbers (int): The number of different numbers to use\n",
        "\n",
        "  Returns\n",
        "    A dataframe with a column with one or more codes in the rows\n",
        "\n",
        "  \"\"\"\n",
        "  # each code is assumed to consist of a letter and a number\n",
        "  alphabet = list('abcdefghigjklmnopqrstuvwxyz')\n",
        "  letters=alphabet[:letters+1]\n",
        "  \n",
        "  # make random numbers same if seed is specified\n",
        "  if seed:\n",
        "    np.random.seed(0)\n",
        "\n",
        "  # determine the number of codes to be drawn for each event\n",
        "  n_codes=np.random.negative_binomial(1, p=0.3, size=n)\n",
        "  # avoid zero (all events have to have at least one code)\n",
        "  n_codes=n_codes+1\n",
        "  \n",
        "  # for each event, randomly generate a the number of codes specified by n_codes\n",
        "  codes=[]\n",
        "  for i in n_codes:\n",
        "      diag = [np.random.choice(letters).upper()+\n",
        "              str(int(np.random.uniform(low=1, high=numbers))) \n",
        "              for num in range(i)]\n",
        "\n",
        "      code_string=','.join(diag)\n",
        "      codes.append(code_string)\n",
        "\n",
        "  # create a dataframe based on the list   \n",
        "  df=pd.DataFrame(codes)    \n",
        "  df.columns=['code']\n",
        "  \n",
        "  return df\n"
      ],
      "execution_count": 0,
      "outputs": []
    },
    {
      "cell_type": "markdown",
      "metadata": {
        "colab_type": "text",
        "id": "geSKNmSPTWNT"
      },
      "source": [
        "Let's see if it works:"
      ]
    },
    {
      "cell_type": "code",
      "metadata": {
        "colab_type": "code",
        "id": "16XzOjPbGz-h",
        "outputId": "09ab0211-7954-4fac-aac4-33ef897a04e0",
        "colab": {
          "base_uri": "https://localhost:8080/",
          "height": 204
        }
      },
      "source": [
        " df = make_data(10000)\n",
        " df.head()"
      ],
      "execution_count": 0,
      "outputs": [
        {
          "output_type": "execute_result",
          "data": {
            "text/html": [
              "<div>\n",
              "<style scoped>\n",
              "    .dataframe tbody tr th:only-of-type {\n",
              "        vertical-align: middle;\n",
              "    }\n",
              "\n",
              "    .dataframe tbody tr th {\n",
              "        vertical-align: top;\n",
              "    }\n",
              "\n",
              "    .dataframe thead th {\n",
              "        text-align: right;\n",
              "    }\n",
              "</style>\n",
              "<table border=\"1\" class=\"dataframe\">\n",
              "  <thead>\n",
              "    <tr style=\"text-align: right;\">\n",
              "      <th></th>\n",
              "      <th>code</th>\n",
              "    </tr>\n",
              "  </thead>\n",
              "  <tbody>\n",
              "    <tr>\n",
              "      <th>0</th>\n",
              "      <td>D63</td>\n",
              "    </tr>\n",
              "    <tr>\n",
              "      <th>1</th>\n",
              "      <td>Z75,R94,T2,F8,R5,S11,W14</td>\n",
              "    </tr>\n",
              "    <tr>\n",
              "      <th>2</th>\n",
              "      <td>V65,M31,Q43,R5,O5,F9,J99,O41,R79,W71,U25,A71</td>\n",
              "    </tr>\n",
              "    <tr>\n",
              "      <th>3</th>\n",
              "      <td>E19,P89,P54,L51,T47,N60,I15</td>\n",
              "    </tr>\n",
              "    <tr>\n",
              "      <th>4</th>\n",
              "      <td>H44</td>\n",
              "    </tr>\n",
              "  </tbody>\n",
              "</table>\n",
              "</div>"
            ],
            "text/plain": [
              "                                           code\n",
              "0                                           D63\n",
              "1                      Z75,R94,T2,F8,R5,S11,W14\n",
              "2  V65,M31,Q43,R5,O5,F9,J99,O41,R79,W71,U25,A71\n",
              "3                   E19,P89,P54,L51,T47,N60,I15\n",
              "4                                           H44"
            ]
          },
          "metadata": {
            "tags": []
          },
          "execution_count": 7
        }
      ]
    },
    {
      "cell_type": "markdown",
      "metadata": {
        "colab_type": "text",
        "id": "a91wrf8PHsA0"
      },
      "source": [
        "The memory requirement of this dataframe with the codes for 10000 events is:\n"
      ]
    },
    {
      "cell_type": "code",
      "metadata": {
        "colab_type": "code",
        "id": "9qZXSTMgcOl2",
        "outputId": "3d51c6e0-5359-4c7d-c660-d799a5fa5871",
        "colab": {
          "base_uri": "https://localhost:8080/",
          "height": 34
        }
      },
      "source": [
        "df.memory_usage().sum()"
      ],
      "execution_count": 0,
      "outputs": [
        {
          "output_type": "execute_result",
          "data": {
            "text/plain": [
              "80128"
            ]
          },
          "metadata": {
            "tags": []
          },
          "execution_count": 8
        }
      ]
    },
    {
      "cell_type": "markdown",
      "metadata": {
        "colab_type": "text",
        "id": "8rm7XPKvcNfZ"
      },
      "source": [
        "In other words, in this structure with codes in a single merged column takes 80K to store the relevant information. We save this information for future reference, and give the dataframe a more meaningful name:\n"
      ]
    },
    {
      "cell_type": "code",
      "metadata": {
        "colab_type": "code",
        "id": "uApgA4OteyMu",
        "colab": {}
      },
      "source": [
        "# a dataframe with all codes in one column\n",
        "one_df=df.copy()\n",
        "memory_one = one_df.memory_usage().sum()"
      ],
      "execution_count": 0,
      "outputs": []
    },
    {
      "cell_type": "markdown",
      "metadata": {
        "colab_type": "text",
        "id": "XhRLCvk9V2Bw"
      },
      "source": [
        "## Memory use in the different data stuctures"
      ]
    },
    {
      "cell_type": "markdown",
      "metadata": {
        "colab_type": "text",
        "id": "hnpDj2vaenKk"
      },
      "source": [
        "\n",
        "We will now compare the following alternative structures for the columns with the codes:\n",
        "1. **One** column with all codes as a comma separated string\n",
        "2. **Many** columns with a single code in each cell\n",
        "3. **Categorical** code columns datatype\n",
        "4. **Sparse** code columns datatypes\n",
        "\n",
        "\n",
        "The first step is to explore the memory requirement of the different structures for a dataframe of 10 000 events. Be aware that the conclusions from this exploration may not hold for other and larger dataframes. Something that is memory efficient and fast for 10 000 observations need not be equally good when you have 10 million observations or a different coding system. Still, it is good to do some explorations to find potential problems before doing a slightly more systematic analysis with different dataframes.\n",
        "\n",
        "\n",
        "To go from a single column data-structure to multiple columns, we use the *.str.split(expand=True)* method:"
      ]
    },
    {
      "cell_type": "code",
      "metadata": {
        "colab_type": "code",
        "id": "-lo971BHeEDo",
        "outputId": "233a4e3f-8b51-437d-fb07-1dae3698a7fd",
        "colab": {
          "base_uri": "https://localhost:8080/",
          "height": 419
        }
      },
      "source": [
        "df = one_df.code.str.split(',', expand=True)\n",
        "many_df=many_df.add_prefix('code_')\n",
        "many_df"
      ],
      "execution_count": 0,
      "outputs": [
        {
          "output_type": "execute_result",
          "data": {
            "text/html": [
              "<div>\n",
              "<style scoped>\n",
              "    .dataframe tbody tr th:only-of-type {\n",
              "        vertical-align: middle;\n",
              "    }\n",
              "\n",
              "    .dataframe tbody tr th {\n",
              "        vertical-align: top;\n",
              "    }\n",
              "\n",
              "    .dataframe thead th {\n",
              "        text-align: right;\n",
              "    }\n",
              "</style>\n",
              "<table border=\"1\" class=\"dataframe\">\n",
              "  <thead>\n",
              "    <tr style=\"text-align: right;\">\n",
              "      <th></th>\n",
              "      <th>code_0</th>\n",
              "      <th>code_1</th>\n",
              "      <th>code_2</th>\n",
              "      <th>code_3</th>\n",
              "      <th>code_4</th>\n",
              "      <th>code_5</th>\n",
              "      <th>code_6</th>\n",
              "      <th>code_7</th>\n",
              "      <th>code_8</th>\n",
              "      <th>code_9</th>\n",
              "      <th>code_10</th>\n",
              "      <th>code_11</th>\n",
              "      <th>code_12</th>\n",
              "      <th>code_13</th>\n",
              "      <th>code_14</th>\n",
              "      <th>code_15</th>\n",
              "      <th>code_16</th>\n",
              "      <th>code_17</th>\n",
              "      <th>code_18</th>\n",
              "      <th>code_19</th>\n",
              "      <th>code_20</th>\n",
              "      <th>code_21</th>\n",
              "      <th>code_22</th>\n",
              "      <th>code_23</th>\n",
              "      <th>code_24</th>\n",
              "      <th>code_25</th>\n",
              "    </tr>\n",
              "  </thead>\n",
              "  <tbody>\n",
              "    <tr>\n",
              "      <th>0</th>\n",
              "      <td>D63</td>\n",
              "      <td>None</td>\n",
              "      <td>None</td>\n",
              "      <td>None</td>\n",
              "      <td>None</td>\n",
              "      <td>None</td>\n",
              "      <td>None</td>\n",
              "      <td>None</td>\n",
              "      <td>None</td>\n",
              "      <td>None</td>\n",
              "      <td>None</td>\n",
              "      <td>None</td>\n",
              "      <td>None</td>\n",
              "      <td>None</td>\n",
              "      <td>None</td>\n",
              "      <td>None</td>\n",
              "      <td>None</td>\n",
              "      <td>None</td>\n",
              "      <td>None</td>\n",
              "      <td>None</td>\n",
              "      <td>None</td>\n",
              "      <td>None</td>\n",
              "      <td>None</td>\n",
              "      <td>None</td>\n",
              "      <td>None</td>\n",
              "      <td>None</td>\n",
              "    </tr>\n",
              "    <tr>\n",
              "      <th>1</th>\n",
              "      <td>Z75</td>\n",
              "      <td>R94</td>\n",
              "      <td>T2</td>\n",
              "      <td>F8</td>\n",
              "      <td>R5</td>\n",
              "      <td>S11</td>\n",
              "      <td>W14</td>\n",
              "      <td>None</td>\n",
              "      <td>None</td>\n",
              "      <td>None</td>\n",
              "      <td>None</td>\n",
              "      <td>None</td>\n",
              "      <td>None</td>\n",
              "      <td>None</td>\n",
              "      <td>None</td>\n",
              "      <td>None</td>\n",
              "      <td>None</td>\n",
              "      <td>None</td>\n",
              "      <td>None</td>\n",
              "      <td>None</td>\n",
              "      <td>None</td>\n",
              "      <td>None</td>\n",
              "      <td>None</td>\n",
              "      <td>None</td>\n",
              "      <td>None</td>\n",
              "      <td>None</td>\n",
              "    </tr>\n",
              "    <tr>\n",
              "      <th>2</th>\n",
              "      <td>V65</td>\n",
              "      <td>M31</td>\n",
              "      <td>Q43</td>\n",
              "      <td>R5</td>\n",
              "      <td>O5</td>\n",
              "      <td>F9</td>\n",
              "      <td>J99</td>\n",
              "      <td>O41</td>\n",
              "      <td>R79</td>\n",
              "      <td>W71</td>\n",
              "      <td>U25</td>\n",
              "      <td>A71</td>\n",
              "      <td>None</td>\n",
              "      <td>None</td>\n",
              "      <td>None</td>\n",
              "      <td>None</td>\n",
              "      <td>None</td>\n",
              "      <td>None</td>\n",
              "      <td>None</td>\n",
              "      <td>None</td>\n",
              "      <td>None</td>\n",
              "      <td>None</td>\n",
              "      <td>None</td>\n",
              "      <td>None</td>\n",
              "      <td>None</td>\n",
              "      <td>None</td>\n",
              "    </tr>\n",
              "    <tr>\n",
              "      <th>3</th>\n",
              "      <td>E19</td>\n",
              "      <td>P89</td>\n",
              "      <td>P54</td>\n",
              "      <td>L51</td>\n",
              "      <td>T47</td>\n",
              "      <td>N60</td>\n",
              "      <td>I15</td>\n",
              "      <td>None</td>\n",
              "      <td>None</td>\n",
              "      <td>None</td>\n",
              "      <td>None</td>\n",
              "      <td>None</td>\n",
              "      <td>None</td>\n",
              "      <td>None</td>\n",
              "      <td>None</td>\n",
              "      <td>None</td>\n",
              "      <td>None</td>\n",
              "      <td>None</td>\n",
              "      <td>None</td>\n",
              "      <td>None</td>\n",
              "      <td>None</td>\n",
              "      <td>None</td>\n",
              "      <td>None</td>\n",
              "      <td>None</td>\n",
              "      <td>None</td>\n",
              "      <td>None</td>\n",
              "    </tr>\n",
              "    <tr>\n",
              "      <th>4</th>\n",
              "      <td>H44</td>\n",
              "      <td>None</td>\n",
              "      <td>None</td>\n",
              "      <td>None</td>\n",
              "      <td>None</td>\n",
              "      <td>None</td>\n",
              "      <td>None</td>\n",
              "      <td>None</td>\n",
              "      <td>None</td>\n",
              "      <td>None</td>\n",
              "      <td>None</td>\n",
              "      <td>None</td>\n",
              "      <td>None</td>\n",
              "      <td>None</td>\n",
              "      <td>None</td>\n",
              "      <td>None</td>\n",
              "      <td>None</td>\n",
              "      <td>None</td>\n",
              "      <td>None</td>\n",
              "      <td>None</td>\n",
              "      <td>None</td>\n",
              "      <td>None</td>\n",
              "      <td>None</td>\n",
              "      <td>None</td>\n",
              "      <td>None</td>\n",
              "      <td>None</td>\n",
              "    </tr>\n",
              "    <tr>\n",
              "      <th>...</th>\n",
              "      <td>...</td>\n",
              "      <td>...</td>\n",
              "      <td>...</td>\n",
              "      <td>...</td>\n",
              "      <td>...</td>\n",
              "      <td>...</td>\n",
              "      <td>...</td>\n",
              "      <td>...</td>\n",
              "      <td>...</td>\n",
              "      <td>...</td>\n",
              "      <td>...</td>\n",
              "      <td>...</td>\n",
              "      <td>...</td>\n",
              "      <td>...</td>\n",
              "      <td>...</td>\n",
              "      <td>...</td>\n",
              "      <td>...</td>\n",
              "      <td>...</td>\n",
              "      <td>...</td>\n",
              "      <td>...</td>\n",
              "      <td>...</td>\n",
              "      <td>...</td>\n",
              "      <td>...</td>\n",
              "      <td>...</td>\n",
              "      <td>...</td>\n",
              "      <td>...</td>\n",
              "    </tr>\n",
              "    <tr>\n",
              "      <th>9995</th>\n",
              "      <td>H66</td>\n",
              "      <td>None</td>\n",
              "      <td>None</td>\n",
              "      <td>None</td>\n",
              "      <td>None</td>\n",
              "      <td>None</td>\n",
              "      <td>None</td>\n",
              "      <td>None</td>\n",
              "      <td>None</td>\n",
              "      <td>None</td>\n",
              "      <td>None</td>\n",
              "      <td>None</td>\n",
              "      <td>None</td>\n",
              "      <td>None</td>\n",
              "      <td>None</td>\n",
              "      <td>None</td>\n",
              "      <td>None</td>\n",
              "      <td>None</td>\n",
              "      <td>None</td>\n",
              "      <td>None</td>\n",
              "      <td>None</td>\n",
              "      <td>None</td>\n",
              "      <td>None</td>\n",
              "      <td>None</td>\n",
              "      <td>None</td>\n",
              "      <td>None</td>\n",
              "    </tr>\n",
              "    <tr>\n",
              "      <th>9996</th>\n",
              "      <td>L73</td>\n",
              "      <td>None</td>\n",
              "      <td>None</td>\n",
              "      <td>None</td>\n",
              "      <td>None</td>\n",
              "      <td>None</td>\n",
              "      <td>None</td>\n",
              "      <td>None</td>\n",
              "      <td>None</td>\n",
              "      <td>None</td>\n",
              "      <td>None</td>\n",
              "      <td>None</td>\n",
              "      <td>None</td>\n",
              "      <td>None</td>\n",
              "      <td>None</td>\n",
              "      <td>None</td>\n",
              "      <td>None</td>\n",
              "      <td>None</td>\n",
              "      <td>None</td>\n",
              "      <td>None</td>\n",
              "      <td>None</td>\n",
              "      <td>None</td>\n",
              "      <td>None</td>\n",
              "      <td>None</td>\n",
              "      <td>None</td>\n",
              "      <td>None</td>\n",
              "    </tr>\n",
              "    <tr>\n",
              "      <th>9997</th>\n",
              "      <td>Y31</td>\n",
              "      <td>None</td>\n",
              "      <td>None</td>\n",
              "      <td>None</td>\n",
              "      <td>None</td>\n",
              "      <td>None</td>\n",
              "      <td>None</td>\n",
              "      <td>None</td>\n",
              "      <td>None</td>\n",
              "      <td>None</td>\n",
              "      <td>None</td>\n",
              "      <td>None</td>\n",
              "      <td>None</td>\n",
              "      <td>None</td>\n",
              "      <td>None</td>\n",
              "      <td>None</td>\n",
              "      <td>None</td>\n",
              "      <td>None</td>\n",
              "      <td>None</td>\n",
              "      <td>None</td>\n",
              "      <td>None</td>\n",
              "      <td>None</td>\n",
              "      <td>None</td>\n",
              "      <td>None</td>\n",
              "      <td>None</td>\n",
              "      <td>None</td>\n",
              "    </tr>\n",
              "    <tr>\n",
              "      <th>9998</th>\n",
              "      <td>G6</td>\n",
              "      <td>J5</td>\n",
              "      <td>None</td>\n",
              "      <td>None</td>\n",
              "      <td>None</td>\n",
              "      <td>None</td>\n",
              "      <td>None</td>\n",
              "      <td>None</td>\n",
              "      <td>None</td>\n",
              "      <td>None</td>\n",
              "      <td>None</td>\n",
              "      <td>None</td>\n",
              "      <td>None</td>\n",
              "      <td>None</td>\n",
              "      <td>None</td>\n",
              "      <td>None</td>\n",
              "      <td>None</td>\n",
              "      <td>None</td>\n",
              "      <td>None</td>\n",
              "      <td>None</td>\n",
              "      <td>None</td>\n",
              "      <td>None</td>\n",
              "      <td>None</td>\n",
              "      <td>None</td>\n",
              "      <td>None</td>\n",
              "      <td>None</td>\n",
              "    </tr>\n",
              "    <tr>\n",
              "      <th>9999</th>\n",
              "      <td>J55</td>\n",
              "      <td>G18</td>\n",
              "      <td>B39</td>\n",
              "      <td>T8</td>\n",
              "      <td>None</td>\n",
              "      <td>None</td>\n",
              "      <td>None</td>\n",
              "      <td>None</td>\n",
              "      <td>None</td>\n",
              "      <td>None</td>\n",
              "      <td>None</td>\n",
              "      <td>None</td>\n",
              "      <td>None</td>\n",
              "      <td>None</td>\n",
              "      <td>None</td>\n",
              "      <td>None</td>\n",
              "      <td>None</td>\n",
              "      <td>None</td>\n",
              "      <td>None</td>\n",
              "      <td>None</td>\n",
              "      <td>None</td>\n",
              "      <td>None</td>\n",
              "      <td>None</td>\n",
              "      <td>None</td>\n",
              "      <td>None</td>\n",
              "      <td>None</td>\n",
              "    </tr>\n",
              "  </tbody>\n",
              "</table>\n",
              "<p>10000 rows × 26 columns</p>\n",
              "</div>"
            ],
            "text/plain": [
              "     code_0 code_1 code_2 code_3 code_4  ... code_21 code_22 code_23 code_24 code_25\n",
              "0       D63   None   None   None   None  ...    None    None    None    None    None\n",
              "1       Z75    R94     T2     F8     R5  ...    None    None    None    None    None\n",
              "2       V65    M31    Q43     R5     O5  ...    None    None    None    None    None\n",
              "3       E19    P89    P54    L51    T47  ...    None    None    None    None    None\n",
              "4       H44   None   None   None   None  ...    None    None    None    None    None\n",
              "...     ...    ...    ...    ...    ...  ...     ...     ...     ...     ...     ...\n",
              "9995    H66   None   None   None   None  ...    None    None    None    None    None\n",
              "9996    L73   None   None   None   None  ...    None    None    None    None    None\n",
              "9997    Y31   None   None   None   None  ...    None    None    None    None    None\n",
              "9998     G6     J5   None   None   None  ...    None    None    None    None    None\n",
              "9999    J55    G18    B39     T8   None  ...    None    None    None    None    None\n",
              "\n",
              "[10000 rows x 26 columns]"
            ]
          },
          "metadata": {
            "tags": []
          },
          "execution_count": 10
        }
      ]
    },
    {
      "cell_type": "markdown",
      "metadata": {
        "colab_type": "text",
        "id": "kNV0dgd4fIwq"
      },
      "source": [
        "In this structure there is only one code in every cell, but the problem with this structure is also obvious: The events with few codes, will have many missing values that take up space in the memory:"
      ]
    },
    {
      "cell_type": "code",
      "metadata": {
        "colab_type": "code",
        "id": "ZlpO-kqEH9Ip",
        "outputId": "4e539016-c603-40b1-a098-de33b8100037",
        "colab": {
          "base_uri": "https://localhost:8080/",
          "height": 34
        }
      },
      "source": [
        "# memory use in a frame with cods in a separate columns\n",
        "memory_many = many_df.memory_usage().sum()\n",
        "memory_many/memory_one"
      ],
      "execution_count": 0,
      "outputs": [
        {
          "output_type": "execute_result",
          "data": {
            "text/plain": [
              "23.963258785942493"
            ]
          },
          "metadata": {
            "tags": []
          },
          "execution_count": 7
        }
      ]
    },
    {
      "cell_type": "markdown",
      "metadata": {
        "colab_type": "text",
        "id": "chhSHFCofyT3"
      },
      "source": [
        "The new dataframe uses between 20 to 30 times as much memory as the single column dataframe. The precise requirement depends on the number of codes for the event with the most codes. A single event with lots of codes could make the whole dataframe very large. For large datasets this is very expensive, and possibly impossibly large given memory constrains. For instance, a dataset with 10 million observations and 30 columns of diagnostic codes, could take more than 2.5 GB. In addition, we often have several sets of codes with the same structure: multiple diagnostic codes, multiple medical procedure codes, multiple surgical codes and so on. If we use many columns for all codes it could easily require 10 GB for 10 million observations. With 30 million observations it becomes almost impossible on most laptops since we would need very roughly 30 GB just for the dataframe itself.\n",
        "\n",
        "There are at least two  steps we could take to reduce the memory problem and still maintain the principle of having a single code in a cell. The first is to use the categorical datatype i.e. instead of storing the actual code as a string, we store a number that corresponds to the code:"
      ]
    },
    {
      "cell_type": "code",
      "metadata": {
        "colab_type": "code",
        "id": "Xh1N5GgWhY6c",
        "outputId": "15d6f965-e694-4fd6-a7ba-d7d81cd9591c",
        "colab": {
          "base_uri": "https://localhost:8080/",
          "height": 34
        }
      },
      "source": [
        "# Using astype('category') to reduce memory problems\n",
        "categorical_df = many_df.astype('category')\n",
        "memory_cetagorical = categorical_df.memory_usage().sum()\n",
        "memory_cetagorical/memory_one"
      ],
      "execution_count": 0,
      "outputs": [
        {
          "output_type": "execute_result",
          "data": {
            "text/plain": [
              "12.787539936102236"
            ]
          },
          "metadata": {
            "tags": []
          },
          "execution_count": 8
        }
      ]
    },
    {
      "cell_type": "markdown",
      "metadata": {
        "colab_type": "text",
        "id": "54zVkHR9i8Sz"
      },
      "source": [
        "Using categorical variables halved the memory requirement compared to the multiple columns without categorical datatypes, but it is still more than ten times larger than the single column dataframe. \n",
        "\n",
        "Given that there are lots of missing values, we might try a third datatype - sparse - that is designed to handle precisely this kind of data:"
      ]
    },
    {
      "cell_type": "code",
      "metadata": {
        "colab_type": "code",
        "id": "uHDJbY1yfyWt",
        "outputId": "71d334da-edbb-494e-c2fb-6fe887b36188",
        "colab": {
          "base_uri": "https://localhost:8080/",
          "height": 34
        }
      },
      "source": [
        "# Using sparse datatype to reduce memory problems\n",
        "sparse_df = many_df.astype(pd.SparseDtype(\"str\", None))\n",
        "memory_sparse = sparse_df.memory_usage().sum()\n",
        "memory_sparse/memory_one"
      ],
      "execution_count": 0,
      "outputs": [
        {
          "output_type": "execute_result",
          "data": {
            "text/plain": [
              "5.003744009584665"
            ]
          },
          "metadata": {
            "tags": []
          },
          "execution_count": 9
        }
      ]
    },
    {
      "cell_type": "markdown",
      "metadata": {
        "colab_type": "text",
        "id": "bB83JxFxfyjp"
      },
      "source": [
        "This is better, but it is still about five times larger than keeping alle the codes in a single column. \n"
      ]
    },
    {
      "cell_type": "markdown",
      "metadata": {
        "colab_type": "text",
        "id": "wGq5Zh-51_0D"
      },
      "source": [
        "##Summing up memory use in different structures"
      ]
    },
    {
      "cell_type": "code",
      "metadata": {
        "colab_type": "code",
        "id": "vgz-yY2YIZfq",
        "outputId": "0bdca29e-16e8-48fb-f7c8-4fb899b52ac5",
        "colab": {
          "base_uri": "https://localhost:8080/",
          "height": 373
        }
      },
      "source": [
        "memory=[1, 24, 13, 5]\n",
        "index = 'one_column many_columns categorical_datatype sparse_datatype'.split()\n",
        "memory = pd.Series(memory, index=index)\n",
        "# better layout, starting with the simplest case: searching in one column\n",
        "memory = memory.iloc[::-1]\n",
        "memory.plot.barh(title='Memory use relative to a structure with one column with all codes');"
      ],
      "execution_count": 0,
      "outputs": [
        {
          "output_type": "display_data",
          "data": {
            "image/svg+xml": "<?xml version=\"1.0\" encoding=\"utf-8\" standalone=\"no\"?>\n<!DOCTYPE svg PUBLIC \"-//W3C//DTD SVG 1.1//EN\"\n  \"http://www.w3.org/Graphics/SVG/1.1/DTD/svg11.dtd\">\n<!-- Created with matplotlib (https://matplotlib.org/) -->\n<svg height=\"263.63625pt\" version=\"1.1\" viewBox=\"0 0 493.260937 263.63625\" width=\"493.260937pt\" xmlns=\"http://www.w3.org/2000/svg\" xmlns:xlink=\"http://www.w3.org/1999/xlink\">\n <defs>\n  <style type=\"text/css\">\n*{stroke-linecap:butt;stroke-linejoin:round;}\n  </style>\n </defs>\n <g id=\"figure_1\">\n  <g id=\"patch_1\">\n   <path d=\"M 0 263.63625 \nL 493.260937 263.63625 \nL 493.260937 0 \nL 0 0 \nz\n\" style=\"fill:none;\"/>\n  </g>\n  <g id=\"axes_1\">\n   <g id=\"patch_2\">\n    <path d=\"M 119.526563 239.758125 \nL 454.326563 239.758125 \nL 454.326563 22.318125 \nL 119.526563 22.318125 \nz\n\" style=\"fill:#ffffff;\"/>\n   </g>\n   <g id=\"patch_3\">\n    <path clip-path=\"url(#p42e1ad0d35)\" d=\"M 119.526563 226.168125 \nL 185.955134 226.168125 \nL 185.955134 198.988125 \nL 119.526563 198.988125 \nz\n\" style=\"fill:#1f77b4;\"/>\n   </g>\n   <g id=\"patch_4\">\n    <path clip-path=\"url(#p42e1ad0d35)\" d=\"M 119.526563 171.808125 \nL 292.240848 171.808125 \nL 292.240848 144.628125 \nL 119.526563 144.628125 \nz\n\" style=\"fill:#1f77b4;\"/>\n   </g>\n   <g id=\"patch_5\">\n    <path clip-path=\"url(#p42e1ad0d35)\" d=\"M 119.526563 117.448125 \nL 438.383705 117.448125 \nL 438.383705 90.268125 \nL 119.526563 90.268125 \nz\n\" style=\"fill:#1f77b4;\"/>\n   </g>\n   <g id=\"patch_6\">\n    <path clip-path=\"url(#p42e1ad0d35)\" d=\"M 119.526563 63.088125 \nL 132.812277 63.088125 \nL 132.812277 35.908125 \nL 119.526563 35.908125 \nz\n\" style=\"fill:#1f77b4;\"/>\n   </g>\n   <g id=\"matplotlib.axis_1\">\n    <g id=\"xtick_1\">\n     <g id=\"line2d_1\">\n      <defs>\n       <path d=\"M 0 0 \nL 0 3.5 \n\" id=\"m5aa4b72ade\" style=\"stroke:#000000;stroke-width:0.8;\"/>\n      </defs>\n      <g>\n       <use style=\"stroke:#000000;stroke-width:0.8;\" x=\"119.526563\" xlink:href=\"#m5aa4b72ade\" y=\"239.758125\"/>\n      </g>\n     </g>\n     <g id=\"text_1\">\n      <!-- 0 -->\n      <defs>\n       <path d=\"M 31.78125 66.40625 \nQ 24.171875 66.40625 20.328125 58.90625 \nQ 16.5 51.421875 16.5 36.375 \nQ 16.5 21.390625 20.328125 13.890625 \nQ 24.171875 6.390625 31.78125 6.390625 \nQ 39.453125 6.390625 43.28125 13.890625 \nQ 47.125 21.390625 47.125 36.375 \nQ 47.125 51.421875 43.28125 58.90625 \nQ 39.453125 66.40625 31.78125 66.40625 \nz\nM 31.78125 74.21875 \nQ 44.046875 74.21875 50.515625 64.515625 \nQ 56.984375 54.828125 56.984375 36.375 \nQ 56.984375 17.96875 50.515625 8.265625 \nQ 44.046875 -1.421875 31.78125 -1.421875 \nQ 19.53125 -1.421875 13.0625 8.265625 \nQ 6.59375 17.96875 6.59375 36.375 \nQ 6.59375 54.828125 13.0625 64.515625 \nQ 19.53125 74.21875 31.78125 74.21875 \nz\n\" id=\"DejaVuSans-48\"/>\n      </defs>\n      <g transform=\"translate(116.345313 254.356563)scale(0.1 -0.1)\">\n       <use xlink:href=\"#DejaVuSans-48\"/>\n      </g>\n     </g>\n    </g>\n    <g id=\"xtick_2\">\n     <g id=\"line2d_2\">\n      <g>\n       <use style=\"stroke:#000000;stroke-width:0.8;\" x=\"185.955134\" xlink:href=\"#m5aa4b72ade\" y=\"239.758125\"/>\n      </g>\n     </g>\n     <g id=\"text_2\">\n      <!-- 5 -->\n      <defs>\n       <path d=\"M 10.796875 72.90625 \nL 49.515625 72.90625 \nL 49.515625 64.59375 \nL 19.828125 64.59375 \nL 19.828125 46.734375 \nQ 21.96875 47.46875 24.109375 47.828125 \nQ 26.265625 48.1875 28.421875 48.1875 \nQ 40.625 48.1875 47.75 41.5 \nQ 54.890625 34.8125 54.890625 23.390625 \nQ 54.890625 11.625 47.5625 5.09375 \nQ 40.234375 -1.421875 26.90625 -1.421875 \nQ 22.3125 -1.421875 17.546875 -0.640625 \nQ 12.796875 0.140625 7.71875 1.703125 \nL 7.71875 11.625 \nQ 12.109375 9.234375 16.796875 8.0625 \nQ 21.484375 6.890625 26.703125 6.890625 \nQ 35.15625 6.890625 40.078125 11.328125 \nQ 45.015625 15.765625 45.015625 23.390625 \nQ 45.015625 31 40.078125 35.4375 \nQ 35.15625 39.890625 26.703125 39.890625 \nQ 22.75 39.890625 18.8125 39.015625 \nQ 14.890625 38.140625 10.796875 36.28125 \nz\n\" id=\"DejaVuSans-53\"/>\n      </defs>\n      <g transform=\"translate(182.773884 254.356563)scale(0.1 -0.1)\">\n       <use xlink:href=\"#DejaVuSans-53\"/>\n      </g>\n     </g>\n    </g>\n    <g id=\"xtick_3\">\n     <g id=\"line2d_3\">\n      <g>\n       <use style=\"stroke:#000000;stroke-width:0.8;\" x=\"252.383705\" xlink:href=\"#m5aa4b72ade\" y=\"239.758125\"/>\n      </g>\n     </g>\n     <g id=\"text_3\">\n      <!-- 10 -->\n      <defs>\n       <path d=\"M 12.40625 8.296875 \nL 28.515625 8.296875 \nL 28.515625 63.921875 \nL 10.984375 60.40625 \nL 10.984375 69.390625 \nL 28.421875 72.90625 \nL 38.28125 72.90625 \nL 38.28125 8.296875 \nL 54.390625 8.296875 \nL 54.390625 0 \nL 12.40625 0 \nz\n\" id=\"DejaVuSans-49\"/>\n      </defs>\n      <g transform=\"translate(246.021205 254.356563)scale(0.1 -0.1)\">\n       <use xlink:href=\"#DejaVuSans-49\"/>\n       <use x=\"63.623047\" xlink:href=\"#DejaVuSans-48\"/>\n      </g>\n     </g>\n    </g>\n    <g id=\"xtick_4\">\n     <g id=\"line2d_4\">\n      <g>\n       <use style=\"stroke:#000000;stroke-width:0.8;\" x=\"318.812277\" xlink:href=\"#m5aa4b72ade\" y=\"239.758125\"/>\n      </g>\n     </g>\n     <g id=\"text_4\">\n      <!-- 15 -->\n      <g transform=\"translate(312.449777 254.356563)scale(0.1 -0.1)\">\n       <use xlink:href=\"#DejaVuSans-49\"/>\n       <use x=\"63.623047\" xlink:href=\"#DejaVuSans-53\"/>\n      </g>\n     </g>\n    </g>\n    <g id=\"xtick_5\">\n     <g id=\"line2d_5\">\n      <g>\n       <use style=\"stroke:#000000;stroke-width:0.8;\" x=\"385.240848\" xlink:href=\"#m5aa4b72ade\" y=\"239.758125\"/>\n      </g>\n     </g>\n     <g id=\"text_5\">\n      <!-- 20 -->\n      <defs>\n       <path d=\"M 19.1875 8.296875 \nL 53.609375 8.296875 \nL 53.609375 0 \nL 7.328125 0 \nL 7.328125 8.296875 \nQ 12.9375 14.109375 22.625 23.890625 \nQ 32.328125 33.6875 34.8125 36.53125 \nQ 39.546875 41.84375 41.421875 45.53125 \nQ 43.3125 49.21875 43.3125 52.78125 \nQ 43.3125 58.59375 39.234375 62.25 \nQ 35.15625 65.921875 28.609375 65.921875 \nQ 23.96875 65.921875 18.8125 64.3125 \nQ 13.671875 62.703125 7.8125 59.421875 \nL 7.8125 69.390625 \nQ 13.765625 71.78125 18.9375 73 \nQ 24.125 74.21875 28.421875 74.21875 \nQ 39.75 74.21875 46.484375 68.546875 \nQ 53.21875 62.890625 53.21875 53.421875 \nQ 53.21875 48.921875 51.53125 44.890625 \nQ 49.859375 40.875 45.40625 35.40625 \nQ 44.1875 33.984375 37.640625 27.21875 \nQ 31.109375 20.453125 19.1875 8.296875 \nz\n\" id=\"DejaVuSans-50\"/>\n      </defs>\n      <g transform=\"translate(378.878348 254.356563)scale(0.1 -0.1)\">\n       <use xlink:href=\"#DejaVuSans-50\"/>\n       <use x=\"63.623047\" xlink:href=\"#DejaVuSans-48\"/>\n      </g>\n     </g>\n    </g>\n    <g id=\"xtick_6\">\n     <g id=\"line2d_6\">\n      <g>\n       <use style=\"stroke:#000000;stroke-width:0.8;\" x=\"451.66942\" xlink:href=\"#m5aa4b72ade\" y=\"239.758125\"/>\n      </g>\n     </g>\n     <g id=\"text_6\">\n      <!-- 25 -->\n      <g transform=\"translate(445.30692 254.356563)scale(0.1 -0.1)\">\n       <use xlink:href=\"#DejaVuSans-50\"/>\n       <use x=\"63.623047\" xlink:href=\"#DejaVuSans-53\"/>\n      </g>\n     </g>\n    </g>\n   </g>\n   <g id=\"matplotlib.axis_2\">\n    <g id=\"ytick_1\">\n     <g id=\"line2d_7\">\n      <defs>\n       <path d=\"M 0 0 \nL -3.5 0 \n\" id=\"m44ab167225\" style=\"stroke:#000000;stroke-width:0.8;\"/>\n      </defs>\n      <g>\n       <use style=\"stroke:#000000;stroke-width:0.8;\" x=\"119.526563\" xlink:href=\"#m44ab167225\" y=\"212.578125\"/>\n      </g>\n     </g>\n     <g id=\"text_7\">\n      <!-- sparse_datatype -->\n      <defs>\n       <path d=\"M 44.28125 53.078125 \nL 44.28125 44.578125 \nQ 40.484375 46.53125 36.375 47.5 \nQ 32.28125 48.484375 27.875 48.484375 \nQ 21.1875 48.484375 17.84375 46.4375 \nQ 14.5 44.390625 14.5 40.28125 \nQ 14.5 37.15625 16.890625 35.375 \nQ 19.28125 33.59375 26.515625 31.984375 \nL 29.59375 31.296875 \nQ 39.15625 29.25 43.1875 25.515625 \nQ 47.21875 21.78125 47.21875 15.09375 \nQ 47.21875 7.46875 41.1875 3.015625 \nQ 35.15625 -1.421875 24.609375 -1.421875 \nQ 20.21875 -1.421875 15.453125 -0.5625 \nQ 10.6875 0.296875 5.421875 2 \nL 5.421875 11.28125 \nQ 10.40625 8.6875 15.234375 7.390625 \nQ 20.0625 6.109375 24.8125 6.109375 \nQ 31.15625 6.109375 34.5625 8.28125 \nQ 37.984375 10.453125 37.984375 14.40625 \nQ 37.984375 18.0625 35.515625 20.015625 \nQ 33.0625 21.96875 24.703125 23.78125 \nL 21.578125 24.515625 \nQ 13.234375 26.265625 9.515625 29.90625 \nQ 5.8125 33.546875 5.8125 39.890625 \nQ 5.8125 47.609375 11.28125 51.796875 \nQ 16.75 56 26.8125 56 \nQ 31.78125 56 36.171875 55.265625 \nQ 40.578125 54.546875 44.28125 53.078125 \nz\n\" id=\"DejaVuSans-115\"/>\n       <path d=\"M 18.109375 8.203125 \nL 18.109375 -20.796875 \nL 9.078125 -20.796875 \nL 9.078125 54.6875 \nL 18.109375 54.6875 \nL 18.109375 46.390625 \nQ 20.953125 51.265625 25.265625 53.625 \nQ 29.59375 56 35.59375 56 \nQ 45.5625 56 51.78125 48.09375 \nQ 58.015625 40.1875 58.015625 27.296875 \nQ 58.015625 14.40625 51.78125 6.484375 \nQ 45.5625 -1.421875 35.59375 -1.421875 \nQ 29.59375 -1.421875 25.265625 0.953125 \nQ 20.953125 3.328125 18.109375 8.203125 \nz\nM 48.6875 27.296875 \nQ 48.6875 37.203125 44.609375 42.84375 \nQ 40.53125 48.484375 33.40625 48.484375 \nQ 26.265625 48.484375 22.1875 42.84375 \nQ 18.109375 37.203125 18.109375 27.296875 \nQ 18.109375 17.390625 22.1875 11.75 \nQ 26.265625 6.109375 33.40625 6.109375 \nQ 40.53125 6.109375 44.609375 11.75 \nQ 48.6875 17.390625 48.6875 27.296875 \nz\n\" id=\"DejaVuSans-112\"/>\n       <path d=\"M 34.28125 27.484375 \nQ 23.390625 27.484375 19.1875 25 \nQ 14.984375 22.515625 14.984375 16.5 \nQ 14.984375 11.71875 18.140625 8.90625 \nQ 21.296875 6.109375 26.703125 6.109375 \nQ 34.1875 6.109375 38.703125 11.40625 \nQ 43.21875 16.703125 43.21875 25.484375 \nL 43.21875 27.484375 \nz\nM 52.203125 31.203125 \nL 52.203125 0 \nL 43.21875 0 \nL 43.21875 8.296875 \nQ 40.140625 3.328125 35.546875 0.953125 \nQ 30.953125 -1.421875 24.3125 -1.421875 \nQ 15.921875 -1.421875 10.953125 3.296875 \nQ 6 8.015625 6 15.921875 \nQ 6 25.140625 12.171875 29.828125 \nQ 18.359375 34.515625 30.609375 34.515625 \nL 43.21875 34.515625 \nL 43.21875 35.40625 \nQ 43.21875 41.609375 39.140625 45 \nQ 35.0625 48.390625 27.6875 48.390625 \nQ 23 48.390625 18.546875 47.265625 \nQ 14.109375 46.140625 10.015625 43.890625 \nL 10.015625 52.203125 \nQ 14.9375 54.109375 19.578125 55.046875 \nQ 24.21875 56 28.609375 56 \nQ 40.484375 56 46.34375 49.84375 \nQ 52.203125 43.703125 52.203125 31.203125 \nz\n\" id=\"DejaVuSans-97\"/>\n       <path d=\"M 41.109375 46.296875 \nQ 39.59375 47.171875 37.8125 47.578125 \nQ 36.03125 48 33.890625 48 \nQ 26.265625 48 22.1875 43.046875 \nQ 18.109375 38.09375 18.109375 28.8125 \nL 18.109375 0 \nL 9.078125 0 \nL 9.078125 54.6875 \nL 18.109375 54.6875 \nL 18.109375 46.1875 \nQ 20.953125 51.171875 25.484375 53.578125 \nQ 30.03125 56 36.53125 56 \nQ 37.453125 56 38.578125 55.875 \nQ 39.703125 55.765625 41.0625 55.515625 \nz\n\" id=\"DejaVuSans-114\"/>\n       <path d=\"M 56.203125 29.59375 \nL 56.203125 25.203125 \nL 14.890625 25.203125 \nQ 15.484375 15.921875 20.484375 11.0625 \nQ 25.484375 6.203125 34.421875 6.203125 \nQ 39.59375 6.203125 44.453125 7.46875 \nQ 49.3125 8.734375 54.109375 11.28125 \nL 54.109375 2.78125 \nQ 49.265625 0.734375 44.1875 -0.34375 \nQ 39.109375 -1.421875 33.890625 -1.421875 \nQ 20.796875 -1.421875 13.15625 6.1875 \nQ 5.515625 13.8125 5.515625 26.8125 \nQ 5.515625 40.234375 12.765625 48.109375 \nQ 20.015625 56 32.328125 56 \nQ 43.359375 56 49.78125 48.890625 \nQ 56.203125 41.796875 56.203125 29.59375 \nz\nM 47.21875 32.234375 \nQ 47.125 39.59375 43.09375 43.984375 \nQ 39.0625 48.390625 32.421875 48.390625 \nQ 24.90625 48.390625 20.390625 44.140625 \nQ 15.875 39.890625 15.1875 32.171875 \nz\n\" id=\"DejaVuSans-101\"/>\n       <path d=\"M 50.984375 -16.609375 \nL 50.984375 -23.578125 \nL -0.984375 -23.578125 \nL -0.984375 -16.609375 \nz\n\" id=\"DejaVuSans-95\"/>\n       <path d=\"M 45.40625 46.390625 \nL 45.40625 75.984375 \nL 54.390625 75.984375 \nL 54.390625 0 \nL 45.40625 0 \nL 45.40625 8.203125 \nQ 42.578125 3.328125 38.25 0.953125 \nQ 33.9375 -1.421875 27.875 -1.421875 \nQ 17.96875 -1.421875 11.734375 6.484375 \nQ 5.515625 14.40625 5.515625 27.296875 \nQ 5.515625 40.1875 11.734375 48.09375 \nQ 17.96875 56 27.875 56 \nQ 33.9375 56 38.25 53.625 \nQ 42.578125 51.265625 45.40625 46.390625 \nz\nM 14.796875 27.296875 \nQ 14.796875 17.390625 18.875 11.75 \nQ 22.953125 6.109375 30.078125 6.109375 \nQ 37.203125 6.109375 41.296875 11.75 \nQ 45.40625 17.390625 45.40625 27.296875 \nQ 45.40625 37.203125 41.296875 42.84375 \nQ 37.203125 48.484375 30.078125 48.484375 \nQ 22.953125 48.484375 18.875 42.84375 \nQ 14.796875 37.203125 14.796875 27.296875 \nz\n\" id=\"DejaVuSans-100\"/>\n       <path d=\"M 18.3125 70.21875 \nL 18.3125 54.6875 \nL 36.8125 54.6875 \nL 36.8125 47.703125 \nL 18.3125 47.703125 \nL 18.3125 18.015625 \nQ 18.3125 11.328125 20.140625 9.421875 \nQ 21.96875 7.515625 27.59375 7.515625 \nL 36.8125 7.515625 \nL 36.8125 0 \nL 27.59375 0 \nQ 17.1875 0 13.234375 3.875 \nQ 9.28125 7.765625 9.28125 18.015625 \nL 9.28125 47.703125 \nL 2.6875 47.703125 \nL 2.6875 54.6875 \nL 9.28125 54.6875 \nL 9.28125 70.21875 \nz\n\" id=\"DejaVuSans-116\"/>\n       <path d=\"M 32.171875 -5.078125 \nQ 28.375 -14.84375 24.75 -17.8125 \nQ 21.140625 -20.796875 15.09375 -20.796875 \nL 7.90625 -20.796875 \nL 7.90625 -13.28125 \nL 13.1875 -13.28125 \nQ 16.890625 -13.28125 18.9375 -11.515625 \nQ 21 -9.765625 23.484375 -3.21875 \nL 25.09375 0.875 \nL 2.984375 54.6875 \nL 12.5 54.6875 \nL 29.59375 11.921875 \nL 46.6875 54.6875 \nL 56.203125 54.6875 \nz\n\" id=\"DejaVuSans-121\"/>\n      </defs>\n      <g transform=\"translate(29.501563 216.377344)scale(0.1 -0.1)\">\n       <use xlink:href=\"#DejaVuSans-115\"/>\n       <use x=\"52.099609\" xlink:href=\"#DejaVuSans-112\"/>\n       <use x=\"115.576172\" xlink:href=\"#DejaVuSans-97\"/>\n       <use x=\"176.855469\" xlink:href=\"#DejaVuSans-114\"/>\n       <use x=\"217.96875\" xlink:href=\"#DejaVuSans-115\"/>\n       <use x=\"270.068359\" xlink:href=\"#DejaVuSans-101\"/>\n       <use x=\"331.591797\" xlink:href=\"#DejaVuSans-95\"/>\n       <use x=\"381.591797\" xlink:href=\"#DejaVuSans-100\"/>\n       <use x=\"445.068359\" xlink:href=\"#DejaVuSans-97\"/>\n       <use x=\"506.347656\" xlink:href=\"#DejaVuSans-116\"/>\n       <use x=\"545.556641\" xlink:href=\"#DejaVuSans-97\"/>\n       <use x=\"606.835938\" xlink:href=\"#DejaVuSans-116\"/>\n       <use x=\"646.044922\" xlink:href=\"#DejaVuSans-121\"/>\n       <use x=\"705.224609\" xlink:href=\"#DejaVuSans-112\"/>\n       <use x=\"768.701172\" xlink:href=\"#DejaVuSans-101\"/>\n      </g>\n     </g>\n    </g>\n    <g id=\"ytick_2\">\n     <g id=\"line2d_8\">\n      <g>\n       <use style=\"stroke:#000000;stroke-width:0.8;\" x=\"119.526563\" xlink:href=\"#m44ab167225\" y=\"158.218125\"/>\n      </g>\n     </g>\n     <g id=\"text_8\">\n      <!-- categorical_datatype -->\n      <defs>\n       <path d=\"M 48.78125 52.59375 \nL 48.78125 44.1875 \nQ 44.96875 46.296875 41.140625 47.34375 \nQ 37.3125 48.390625 33.40625 48.390625 \nQ 24.65625 48.390625 19.8125 42.84375 \nQ 14.984375 37.3125 14.984375 27.296875 \nQ 14.984375 17.28125 19.8125 11.734375 \nQ 24.65625 6.203125 33.40625 6.203125 \nQ 37.3125 6.203125 41.140625 7.25 \nQ 44.96875 8.296875 48.78125 10.40625 \nL 48.78125 2.09375 \nQ 45.015625 0.34375 40.984375 -0.53125 \nQ 36.96875 -1.421875 32.421875 -1.421875 \nQ 20.0625 -1.421875 12.78125 6.34375 \nQ 5.515625 14.109375 5.515625 27.296875 \nQ 5.515625 40.671875 12.859375 48.328125 \nQ 20.21875 56 33.015625 56 \nQ 37.15625 56 41.109375 55.140625 \nQ 45.0625 54.296875 48.78125 52.59375 \nz\n\" id=\"DejaVuSans-99\"/>\n       <path d=\"M 45.40625 27.984375 \nQ 45.40625 37.75 41.375 43.109375 \nQ 37.359375 48.484375 30.078125 48.484375 \nQ 22.859375 48.484375 18.828125 43.109375 \nQ 14.796875 37.75 14.796875 27.984375 \nQ 14.796875 18.265625 18.828125 12.890625 \nQ 22.859375 7.515625 30.078125 7.515625 \nQ 37.359375 7.515625 41.375 12.890625 \nQ 45.40625 18.265625 45.40625 27.984375 \nz\nM 54.390625 6.78125 \nQ 54.390625 -7.171875 48.1875 -13.984375 \nQ 42 -20.796875 29.203125 -20.796875 \nQ 24.46875 -20.796875 20.265625 -20.09375 \nQ 16.0625 -19.390625 12.109375 -17.921875 \nL 12.109375 -9.1875 \nQ 16.0625 -11.328125 19.921875 -12.34375 \nQ 23.78125 -13.375 27.78125 -13.375 \nQ 36.625 -13.375 41.015625 -8.765625 \nQ 45.40625 -4.15625 45.40625 5.171875 \nL 45.40625 9.625 \nQ 42.625 4.78125 38.28125 2.390625 \nQ 33.9375 0 27.875 0 \nQ 17.828125 0 11.671875 7.65625 \nQ 5.515625 15.328125 5.515625 27.984375 \nQ 5.515625 40.671875 11.671875 48.328125 \nQ 17.828125 56 27.875 56 \nQ 33.9375 56 38.28125 53.609375 \nQ 42.625 51.21875 45.40625 46.390625 \nL 45.40625 54.6875 \nL 54.390625 54.6875 \nz\n\" id=\"DejaVuSans-103\"/>\n       <path d=\"M 30.609375 48.390625 \nQ 23.390625 48.390625 19.1875 42.75 \nQ 14.984375 37.109375 14.984375 27.296875 \nQ 14.984375 17.484375 19.15625 11.84375 \nQ 23.34375 6.203125 30.609375 6.203125 \nQ 37.796875 6.203125 41.984375 11.859375 \nQ 46.1875 17.53125 46.1875 27.296875 \nQ 46.1875 37.015625 41.984375 42.703125 \nQ 37.796875 48.390625 30.609375 48.390625 \nz\nM 30.609375 56 \nQ 42.328125 56 49.015625 48.375 \nQ 55.71875 40.765625 55.71875 27.296875 \nQ 55.71875 13.875 49.015625 6.21875 \nQ 42.328125 -1.421875 30.609375 -1.421875 \nQ 18.84375 -1.421875 12.171875 6.21875 \nQ 5.515625 13.875 5.515625 27.296875 \nQ 5.515625 40.765625 12.171875 48.375 \nQ 18.84375 56 30.609375 56 \nz\n\" id=\"DejaVuSans-111\"/>\n       <path d=\"M 9.421875 54.6875 \nL 18.40625 54.6875 \nL 18.40625 0 \nL 9.421875 0 \nz\nM 9.421875 75.984375 \nL 18.40625 75.984375 \nL 18.40625 64.59375 \nL 9.421875 64.59375 \nz\n\" id=\"DejaVuSans-105\"/>\n       <path d=\"M 9.421875 75.984375 \nL 18.40625 75.984375 \nL 18.40625 0 \nL 9.421875 0 \nz\n\" id=\"DejaVuSans-108\"/>\n      </defs>\n      <g transform=\"translate(7.2 162.017344)scale(0.1 -0.1)\">\n       <use xlink:href=\"#DejaVuSans-99\"/>\n       <use x=\"54.980469\" xlink:href=\"#DejaVuSans-97\"/>\n       <use x=\"116.259766\" xlink:href=\"#DejaVuSans-116\"/>\n       <use x=\"155.46875\" xlink:href=\"#DejaVuSans-101\"/>\n       <use x=\"216.992188\" xlink:href=\"#DejaVuSans-103\"/>\n       <use x=\"280.46875\" xlink:href=\"#DejaVuSans-111\"/>\n       <use x=\"341.650391\" xlink:href=\"#DejaVuSans-114\"/>\n       <use x=\"382.763672\" xlink:href=\"#DejaVuSans-105\"/>\n       <use x=\"410.546875\" xlink:href=\"#DejaVuSans-99\"/>\n       <use x=\"465.527344\" xlink:href=\"#DejaVuSans-97\"/>\n       <use x=\"526.806641\" xlink:href=\"#DejaVuSans-108\"/>\n       <use x=\"554.589844\" xlink:href=\"#DejaVuSans-95\"/>\n       <use x=\"604.589844\" xlink:href=\"#DejaVuSans-100\"/>\n       <use x=\"668.066406\" xlink:href=\"#DejaVuSans-97\"/>\n       <use x=\"729.345703\" xlink:href=\"#DejaVuSans-116\"/>\n       <use x=\"768.554688\" xlink:href=\"#DejaVuSans-97\"/>\n       <use x=\"829.833984\" xlink:href=\"#DejaVuSans-116\"/>\n       <use x=\"869.042969\" xlink:href=\"#DejaVuSans-121\"/>\n       <use x=\"928.222656\" xlink:href=\"#DejaVuSans-112\"/>\n       <use x=\"991.699219\" xlink:href=\"#DejaVuSans-101\"/>\n      </g>\n     </g>\n    </g>\n    <g id=\"ytick_3\">\n     <g id=\"line2d_9\">\n      <g>\n       <use style=\"stroke:#000000;stroke-width:0.8;\" x=\"119.526563\" xlink:href=\"#m44ab167225\" y=\"103.858125\"/>\n      </g>\n     </g>\n     <g id=\"text_9\">\n      <!-- many_columns -->\n      <defs>\n       <path d=\"M 52 44.1875 \nQ 55.375 50.25 60.0625 53.125 \nQ 64.75 56 71.09375 56 \nQ 79.640625 56 84.28125 50.015625 \nQ 88.921875 44.046875 88.921875 33.015625 \nL 88.921875 0 \nL 79.890625 0 \nL 79.890625 32.71875 \nQ 79.890625 40.578125 77.09375 44.375 \nQ 74.3125 48.1875 68.609375 48.1875 \nQ 61.625 48.1875 57.5625 43.546875 \nQ 53.515625 38.921875 53.515625 30.90625 \nL 53.515625 0 \nL 44.484375 0 \nL 44.484375 32.71875 \nQ 44.484375 40.625 41.703125 44.40625 \nQ 38.921875 48.1875 33.109375 48.1875 \nQ 26.21875 48.1875 22.15625 43.53125 \nQ 18.109375 38.875 18.109375 30.90625 \nL 18.109375 0 \nL 9.078125 0 \nL 9.078125 54.6875 \nL 18.109375 54.6875 \nL 18.109375 46.1875 \nQ 21.1875 51.21875 25.484375 53.609375 \nQ 29.78125 56 35.6875 56 \nQ 41.65625 56 45.828125 52.96875 \nQ 50 49.953125 52 44.1875 \nz\n\" id=\"DejaVuSans-109\"/>\n       <path d=\"M 54.890625 33.015625 \nL 54.890625 0 \nL 45.90625 0 \nL 45.90625 32.71875 \nQ 45.90625 40.484375 42.875 44.328125 \nQ 39.84375 48.1875 33.796875 48.1875 \nQ 26.515625 48.1875 22.3125 43.546875 \nQ 18.109375 38.921875 18.109375 30.90625 \nL 18.109375 0 \nL 9.078125 0 \nL 9.078125 54.6875 \nL 18.109375 54.6875 \nL 18.109375 46.1875 \nQ 21.34375 51.125 25.703125 53.5625 \nQ 30.078125 56 35.796875 56 \nQ 45.21875 56 50.046875 50.171875 \nQ 54.890625 44.34375 54.890625 33.015625 \nz\n\" id=\"DejaVuSans-110\"/>\n       <path d=\"M 8.5 21.578125 \nL 8.5 54.6875 \nL 17.484375 54.6875 \nL 17.484375 21.921875 \nQ 17.484375 14.15625 20.5 10.265625 \nQ 23.53125 6.390625 29.59375 6.390625 \nQ 36.859375 6.390625 41.078125 11.03125 \nQ 45.3125 15.671875 45.3125 23.6875 \nL 45.3125 54.6875 \nL 54.296875 54.6875 \nL 54.296875 0 \nL 45.3125 0 \nL 45.3125 8.40625 \nQ 42.046875 3.421875 37.71875 1 \nQ 33.40625 -1.421875 27.6875 -1.421875 \nQ 18.265625 -1.421875 13.375 4.4375 \nQ 8.5 10.296875 8.5 21.578125 \nz\nM 31.109375 56 \nz\n\" id=\"DejaVuSans-117\"/>\n      </defs>\n      <g transform=\"translate(37.38125 107.657344)scale(0.1 -0.1)\">\n       <use xlink:href=\"#DejaVuSans-109\"/>\n       <use x=\"97.412109\" xlink:href=\"#DejaVuSans-97\"/>\n       <use x=\"158.691406\" xlink:href=\"#DejaVuSans-110\"/>\n       <use x=\"222.070312\" xlink:href=\"#DejaVuSans-121\"/>\n       <use x=\"281.25\" xlink:href=\"#DejaVuSans-95\"/>\n       <use x=\"331.25\" xlink:href=\"#DejaVuSans-99\"/>\n       <use x=\"386.230469\" xlink:href=\"#DejaVuSans-111\"/>\n       <use x=\"447.412109\" xlink:href=\"#DejaVuSans-108\"/>\n       <use x=\"475.195312\" xlink:href=\"#DejaVuSans-117\"/>\n       <use x=\"538.574219\" xlink:href=\"#DejaVuSans-109\"/>\n       <use x=\"635.986328\" xlink:href=\"#DejaVuSans-110\"/>\n       <use x=\"699.365234\" xlink:href=\"#DejaVuSans-115\"/>\n      </g>\n     </g>\n    </g>\n    <g id=\"ytick_4\">\n     <g id=\"line2d_10\">\n      <g>\n       <use style=\"stroke:#000000;stroke-width:0.8;\" x=\"119.526563\" xlink:href=\"#m44ab167225\" y=\"49.498125\"/>\n      </g>\n     </g>\n     <g id=\"text_10\">\n      <!-- one_column -->\n      <g transform=\"translate(52.10625 53.297344)scale(0.1 -0.1)\">\n       <use xlink:href=\"#DejaVuSans-111\"/>\n       <use x=\"61.181641\" xlink:href=\"#DejaVuSans-110\"/>\n       <use x=\"124.560547\" xlink:href=\"#DejaVuSans-101\"/>\n       <use x=\"186.083984\" xlink:href=\"#DejaVuSans-95\"/>\n       <use x=\"236.083984\" xlink:href=\"#DejaVuSans-99\"/>\n       <use x=\"291.064453\" xlink:href=\"#DejaVuSans-111\"/>\n       <use x=\"352.246094\" xlink:href=\"#DejaVuSans-108\"/>\n       <use x=\"380.029297\" xlink:href=\"#DejaVuSans-117\"/>\n       <use x=\"443.408203\" xlink:href=\"#DejaVuSans-109\"/>\n       <use x=\"540.820312\" xlink:href=\"#DejaVuSans-110\"/>\n      </g>\n     </g>\n    </g>\n   </g>\n   <g id=\"patch_7\">\n    <path d=\"M 119.526563 239.758125 \nL 119.526563 22.318125 \n\" style=\"fill:none;stroke:#000000;stroke-linecap:square;stroke-linejoin:miter;stroke-width:0.8;\"/>\n   </g>\n   <g id=\"patch_8\">\n    <path d=\"M 454.326563 239.758125 \nL 454.326563 22.318125 \n\" style=\"fill:none;stroke:#000000;stroke-linecap:square;stroke-linejoin:miter;stroke-width:0.8;\"/>\n   </g>\n   <g id=\"patch_9\">\n    <path d=\"M 119.526563 239.758125 \nL 454.326562 239.758125 \n\" style=\"fill:none;stroke:#000000;stroke-linecap:square;stroke-linejoin:miter;stroke-width:0.8;\"/>\n   </g>\n   <g id=\"patch_10\">\n    <path d=\"M 119.526563 22.318125 \nL 454.326562 22.318125 \n\" style=\"fill:none;stroke:#000000;stroke-linecap:square;stroke-linejoin:miter;stroke-width:0.8;\"/>\n   </g>\n   <g id=\"text_11\">\n    <!-- Memory use relative to a structure with one column with all codes -->\n    <defs>\n     <path d=\"M 9.8125 72.90625 \nL 24.515625 72.90625 \nL 43.109375 23.296875 \nL 61.8125 72.90625 \nL 76.515625 72.90625 \nL 76.515625 0 \nL 66.890625 0 \nL 66.890625 64.015625 \nL 48.09375 14.015625 \nL 38.1875 14.015625 \nL 19.390625 64.015625 \nL 19.390625 0 \nL 9.8125 0 \nz\n\" id=\"DejaVuSans-77\"/>\n     <path id=\"DejaVuSans-32\"/>\n     <path d=\"M 2.984375 54.6875 \nL 12.5 54.6875 \nL 29.59375 8.796875 \nL 46.6875 54.6875 \nL 56.203125 54.6875 \nL 35.6875 0 \nL 23.484375 0 \nz\n\" id=\"DejaVuSans-118\"/>\n     <path d=\"M 4.203125 54.6875 \nL 13.1875 54.6875 \nL 24.421875 12.015625 \nL 35.59375 54.6875 \nL 46.1875 54.6875 \nL 57.421875 12.015625 \nL 68.609375 54.6875 \nL 77.59375 54.6875 \nL 63.28125 0 \nL 52.6875 0 \nL 40.921875 44.828125 \nL 29.109375 0 \nL 18.5 0 \nz\n\" id=\"DejaVuSans-119\"/>\n     <path d=\"M 54.890625 33.015625 \nL 54.890625 0 \nL 45.90625 0 \nL 45.90625 32.71875 \nQ 45.90625 40.484375 42.875 44.328125 \nQ 39.84375 48.1875 33.796875 48.1875 \nQ 26.515625 48.1875 22.3125 43.546875 \nQ 18.109375 38.921875 18.109375 30.90625 \nL 18.109375 0 \nL 9.078125 0 \nL 9.078125 75.984375 \nL 18.109375 75.984375 \nL 18.109375 46.1875 \nQ 21.34375 51.125 25.703125 53.5625 \nQ 30.078125 56 35.796875 56 \nQ 45.21875 56 50.046875 50.171875 \nQ 54.890625 44.34375 54.890625 33.015625 \nz\n\" id=\"DejaVuSans-104\"/>\n    </defs>\n    <g transform=\"translate(87.792188 16.318125)scale(0.12 -0.12)\">\n     <use xlink:href=\"#DejaVuSans-77\"/>\n     <use x=\"86.279297\" xlink:href=\"#DejaVuSans-101\"/>\n     <use x=\"147.802734\" xlink:href=\"#DejaVuSans-109\"/>\n     <use x=\"245.214844\" xlink:href=\"#DejaVuSans-111\"/>\n     <use x=\"306.396484\" xlink:href=\"#DejaVuSans-114\"/>\n     <use x=\"347.509766\" xlink:href=\"#DejaVuSans-121\"/>\n     <use x=\"406.689453\" xlink:href=\"#DejaVuSans-32\"/>\n     <use x=\"438.476562\" xlink:href=\"#DejaVuSans-117\"/>\n     <use x=\"501.855469\" xlink:href=\"#DejaVuSans-115\"/>\n     <use x=\"553.955078\" xlink:href=\"#DejaVuSans-101\"/>\n     <use x=\"615.478516\" xlink:href=\"#DejaVuSans-32\"/>\n     <use x=\"647.265625\" xlink:href=\"#DejaVuSans-114\"/>\n     <use x=\"688.347656\" xlink:href=\"#DejaVuSans-101\"/>\n     <use x=\"749.871094\" xlink:href=\"#DejaVuSans-108\"/>\n     <use x=\"777.654297\" xlink:href=\"#DejaVuSans-97\"/>\n     <use x=\"838.933594\" xlink:href=\"#DejaVuSans-116\"/>\n     <use x=\"878.142578\" xlink:href=\"#DejaVuSans-105\"/>\n     <use x=\"905.925781\" xlink:href=\"#DejaVuSans-118\"/>\n     <use x=\"965.105469\" xlink:href=\"#DejaVuSans-101\"/>\n     <use x=\"1026.628906\" xlink:href=\"#DejaVuSans-32\"/>\n     <use x=\"1058.416016\" xlink:href=\"#DejaVuSans-116\"/>\n     <use x=\"1097.625\" xlink:href=\"#DejaVuSans-111\"/>\n     <use x=\"1158.806641\" xlink:href=\"#DejaVuSans-32\"/>\n     <use x=\"1190.59375\" xlink:href=\"#DejaVuSans-97\"/>\n     <use x=\"1251.873047\" xlink:href=\"#DejaVuSans-32\"/>\n     <use x=\"1283.660156\" xlink:href=\"#DejaVuSans-115\"/>\n     <use x=\"1335.759766\" xlink:href=\"#DejaVuSans-116\"/>\n     <use x=\"1374.96875\" xlink:href=\"#DejaVuSans-114\"/>\n     <use x=\"1416.082031\" xlink:href=\"#DejaVuSans-117\"/>\n     <use x=\"1479.460938\" xlink:href=\"#DejaVuSans-99\"/>\n     <use x=\"1534.441406\" xlink:href=\"#DejaVuSans-116\"/>\n     <use x=\"1573.650391\" xlink:href=\"#DejaVuSans-117\"/>\n     <use x=\"1637.029297\" xlink:href=\"#DejaVuSans-114\"/>\n     <use x=\"1678.111328\" xlink:href=\"#DejaVuSans-101\"/>\n     <use x=\"1739.634766\" xlink:href=\"#DejaVuSans-32\"/>\n     <use x=\"1771.421875\" xlink:href=\"#DejaVuSans-119\"/>\n     <use x=\"1853.208984\" xlink:href=\"#DejaVuSans-105\"/>\n     <use x=\"1880.992188\" xlink:href=\"#DejaVuSans-116\"/>\n     <use x=\"1920.201172\" xlink:href=\"#DejaVuSans-104\"/>\n     <use x=\"1983.580078\" xlink:href=\"#DejaVuSans-32\"/>\n     <use x=\"2015.367188\" xlink:href=\"#DejaVuSans-111\"/>\n     <use x=\"2076.548828\" xlink:href=\"#DejaVuSans-110\"/>\n     <use x=\"2139.927734\" xlink:href=\"#DejaVuSans-101\"/>\n     <use x=\"2201.451172\" xlink:href=\"#DejaVuSans-32\"/>\n     <use x=\"2233.238281\" xlink:href=\"#DejaVuSans-99\"/>\n     <use x=\"2288.21875\" xlink:href=\"#DejaVuSans-111\"/>\n     <use x=\"2349.400391\" xlink:href=\"#DejaVuSans-108\"/>\n     <use x=\"2377.183594\" xlink:href=\"#DejaVuSans-117\"/>\n     <use x=\"2440.5625\" xlink:href=\"#DejaVuSans-109\"/>\n     <use x=\"2537.974609\" xlink:href=\"#DejaVuSans-110\"/>\n     <use x=\"2601.353516\" xlink:href=\"#DejaVuSans-32\"/>\n     <use x=\"2633.140625\" xlink:href=\"#DejaVuSans-119\"/>\n     <use x=\"2714.927734\" xlink:href=\"#DejaVuSans-105\"/>\n     <use x=\"2742.710938\" xlink:href=\"#DejaVuSans-116\"/>\n     <use x=\"2781.919922\" xlink:href=\"#DejaVuSans-104\"/>\n     <use x=\"2845.298828\" xlink:href=\"#DejaVuSans-32\"/>\n     <use x=\"2877.085938\" xlink:href=\"#DejaVuSans-97\"/>\n     <use x=\"2938.365234\" xlink:href=\"#DejaVuSans-108\"/>\n     <use x=\"2966.148438\" xlink:href=\"#DejaVuSans-108\"/>\n     <use x=\"2993.931641\" xlink:href=\"#DejaVuSans-32\"/>\n     <use x=\"3025.71875\" xlink:href=\"#DejaVuSans-99\"/>\n     <use x=\"3080.699219\" xlink:href=\"#DejaVuSans-111\"/>\n     <use x=\"3141.880859\" xlink:href=\"#DejaVuSans-100\"/>\n     <use x=\"3205.357422\" xlink:href=\"#DejaVuSans-101\"/>\n     <use x=\"3266.880859\" xlink:href=\"#DejaVuSans-115\"/>\n    </g>\n   </g>\n  </g>\n </g>\n <defs>\n  <clipPath id=\"p42e1ad0d35\">\n   <rect height=\"217.44\" width=\"334.8\" x=\"119.526563\" y=\"22.318125\"/>\n  </clipPath>\n </defs>\n</svg>\n",
            "text/plain": [
              "<Figure size 432x288 with 1 Axes>"
            ]
          },
          "metadata": {
            "tags": []
          }
        }
      ]
    },
    {
      "cell_type": "markdown",
      "metadata": {
        "colab_type": "text",
        "id": "sjiye7GZ2OeQ"
      },
      "source": [
        "The structure where all codes are merged in one column, is far better than all the other data structures. This does not necessarily mean that it is best. People may find a merged column messy and difficult to use. Moreover, memory use is not really a problem unless you get close to the threshold where the data structure takes more memory than you have available. And even if you care about memory use below the threshold, a faster query time might outweigh the memory disadvantage. This means that to determine whether the extra memory cost is worth it, we should analyze the speed of performing a query with the different data structures."
      ]
    },
    {
      "cell_type": "markdown",
      "metadata": {
        "colab_type": "text",
        "id": "O9jra338VsWr"
      },
      "source": [
        "## Speed of queries in the different data structures"
      ]
    },
    {
      "cell_type": "markdown",
      "metadata": {
        "colab_type": "text",
        "id": "xEbho-zSVrQI"
      },
      "source": [
        "\n",
        "One common data query is to find all events with a given code. For instance, with all the data merged in one column, we could search for events with the code T2 using *str.contains()*:"
      ]
    },
    {
      "cell_type": "code",
      "metadata": {
        "colab_type": "code",
        "id": "-18vINPcmASN",
        "outputId": "ca4dc959-41cf-4f0b-b855-8d9a70976e45",
        "colab": {
          "base_uri": "https://localhost:8080/",
          "height": 34
        }
      },
      "source": [
        "%%timeit\n",
        "one_df.code.str.contains('T2')"
      ],
      "execution_count": 0,
      "outputs": [
        {
          "output_type": "stream",
          "text": [
            "100 loops, best of 3: 4.67 ms per loop\n"
          ],
          "name": "stdout"
        }
      ]
    },
    {
      "cell_type": "markdown",
      "metadata": {
        "colab_type": "text",
        "id": "rYmruBTHmWUj"
      },
      "source": [
        "In our case a code cannot appear inside another code. If we have to eliminate this possibility, we have to use a regex when searching:\n"
      ]
    },
    {
      "cell_type": "code",
      "metadata": {
        "colab_type": "code",
        "id": "opb2AfsXm25W",
        "outputId": "d03704da-e634-4ad3-da13-afd16b63fa47",
        "colab": {
          "base_uri": "https://localhost:8080/",
          "height": 34
        }
      },
      "source": [
        "%%timeit\n",
        "one_df.code.str.contains(r'\\bT2\\b')"
      ],
      "execution_count": 0,
      "outputs": [
        {
          "output_type": "stream",
          "text": [
            "100 loops, best of 3: 7.71 ms per loop\n"
          ],
          "name": "stdout"
        }
      ]
    },
    {
      "cell_type": "markdown",
      "metadata": {
        "colab_type": "text",
        "id": "I30eVuWWmW_T"
      },
      "source": [
        "In other words, using a regex it takes almost twice as long. \n",
        "\n",
        "How long will it take to do the same searches in the other data structures? Lets start by identifying events with 'T2' in the dataframe where the codes are in many separate columns:"
      ]
    },
    {
      "cell_type": "code",
      "metadata": {
        "colab_type": "code",
        "id": "HA6UH2--m-am",
        "outputId": "f8635e54-8953-44c7-ed62-38a3a3b015bc",
        "colab": {
          "base_uri": "https://localhost:8080/",
          "height": 34
        }
      },
      "source": [
        "%%timeit\n",
        "many_df=='T2'"
      ],
      "execution_count": 0,
      "outputs": [
        {
          "output_type": "stream",
          "text": [
            "100 loops, best of 3: 15.7 ms per loop\n"
          ],
          "name": "stdout"
        }
      ]
    },
    {
      "cell_type": "markdown",
      "metadata": {
        "colab_type": "text",
        "id": "D22eulN3nhFg"
      },
      "source": [
        "Searching for T2 in multiple columns takes about twice as long as searching with a regex in a single column. If all we are interested is whether the event has a code, we also have to use *any()*:"
      ]
    },
    {
      "cell_type": "code",
      "metadata": {
        "colab_type": "code",
        "id": "FL14aPAGnmbH",
        "outputId": "909ebc2d-c6c1-4c5a-c7a9-94305fb34e8e",
        "colab": {
          "base_uri": "https://localhost:8080/",
          "height": 34
        }
      },
      "source": [
        "%%timeit\n",
        "(many_df=='T2').any(axis=1)"
      ],
      "execution_count": 0,
      "outputs": [
        {
          "output_type": "stream",
          "text": [
            "100 loops, best of 3: 16.2 ms per loop\n"
          ],
          "name": "stdout"
        }
      ]
    },
    {
      "cell_type": "markdown",
      "metadata": {
        "colab_type": "text",
        "id": "2MzsWZ4Ing47"
      },
      "source": [
        "The *any()* was cheap and did not add much time to the calculation. \n",
        "\n",
        "Before we check more data structures, one should also examine whether the method *isin()* is faster than using the equality test *==*:\n"
      ]
    },
    {
      "cell_type": "code",
      "metadata": {
        "colab_type": "code",
        "id": "cNYnShrBWJKI",
        "outputId": "ea7bd7e9-26d9-4b05-9665-2b45bae92ad6",
        "colab": {
          "base_uri": "https://localhost:8080/",
          "height": 34
        }
      },
      "source": [
        "%%timeit\n",
        "many_df.loc[:,:].isin(['T2'])"
      ],
      "execution_count": 0,
      "outputs": [
        {
          "output_type": "stream",
          "text": [
            "100 loops, best of 3: 5.11 ms per loop\n"
          ],
          "name": "stdout"
        }
      ]
    },
    {
      "cell_type": "markdown",
      "metadata": {
        "colab_type": "text",
        "id": "zDuKNy3AXPzj"
      },
      "source": [
        "Interestingly, *isin()* is faster than using *==* when searching multiple columns even when we only search for a single code. This is somewhat surprising - and useful. To quote something some Bayesians probably preaches: Non-intuitive truths are worth more than obvious truths.\n",
        "\n",
        "Let's see if the speed of *isin()*  also applies to categorical datatypes. Compare the result using *==* vs. *isin()* when we have categorical data:\n"
      ]
    },
    {
      "cell_type": "code",
      "metadata": {
        "colab_type": "code",
        "id": "HEs9pWg1t33B",
        "outputId": "85753a9d-5a20-4d04-9a57-ebd09c0021f8",
        "colab": {
          "base_uri": "https://localhost:8080/",
          "height": 34
        }
      },
      "source": [
        "%%timeit\n",
        "categorical_df == 'T2'"
      ],
      "execution_count": 0,
      "outputs": [
        {
          "output_type": "stream",
          "text": [
            "100 loops, best of 3: 11.2 ms per loop\n"
          ],
          "name": "stdout"
        }
      ]
    },
    {
      "cell_type": "markdown",
      "metadata": {
        "colab_type": "text",
        "id": "ja6UgFnZuHkO"
      },
      "source": [
        "Having categorical datatypes makes the search quicker, but it is still slower than the single column search."
      ]
    },
    {
      "cell_type": "code",
      "metadata": {
        "colab_type": "code",
        "id": "RTDCtuOvYT1T",
        "outputId": "f467dad4-5902-42c3-d726-e92ce6113867",
        "colab": {
          "base_uri": "https://localhost:8080/",
          "height": 34
        }
      },
      "source": [
        "%%timeit\n",
        "categorical_df.loc[:,:].isin(['T2'])"
      ],
      "execution_count": 0,
      "outputs": [
        {
          "output_type": "stream",
          "text": [
            "100 loops, best of 3: 16.9 ms per loop\n"
          ],
          "name": "stdout"
        }
      ]
    },
    {
      "cell_type": "markdown",
      "metadata": {
        "colab_type": "text",
        "id": "2S5yBgYOt21B"
      },
      "source": [
        "Surprisingly - again - this time *isin()* is slower: With categorical datatypes *isin()* seems to be slower than *==* when we search for single values (At least in our example with a relatively small dataframe. The sheep may be black if we have a different dataframe.\n",
        "\n",
        "Lastly, how slow is the sparse dataframe?"
      ]
    },
    {
      "cell_type": "code",
      "metadata": {
        "colab_type": "code",
        "id": "601-S44-okn8",
        "outputId": "abb6b06f-4912-448f-c84a-fc864ce2e77f",
        "colab": {
          "base_uri": "https://localhost:8080/",
          "height": 34
        }
      },
      "source": [
        "%%timeit\n",
        "(sparse_df=='T2').any(axis=1)"
      ],
      "execution_count": 0,
      "outputs": [
        {
          "output_type": "stream",
          "text": [
            "10 loops, best of 3: 27.8 ms per loop\n"
          ],
          "name": "stdout"
        }
      ]
    },
    {
      "cell_type": "markdown",
      "metadata": {
        "colab_type": "text",
        "id": "Ke04ZCwntkBk"
      },
      "source": [
        "The sparse data structure is slowest so far. More than 5 times slower than the one merged column structure."
      ]
    },
    {
      "cell_type": "code",
      "metadata": {
        "colab_type": "code",
        "id": "eWTR9_svY7Zw",
        "outputId": "756f5dc3-834b-48a0-cc1f-aac74a69bdb7",
        "colab": {
          "base_uri": "https://localhost:8080/",
          "height": 34
        }
      },
      "source": [
        "%%timeit\n",
        "sparse_df.loc[:,:].isin(['T2']).any(axis=1)"
      ],
      "execution_count": 0,
      "outputs": [
        {
          "output_type": "stream",
          "text": [
            "10 loops, best of 3: 22.7 ms per loop\n"
          ],
          "name": "stdout"
        }
      ]
    },
    {
      "cell_type": "markdown",
      "metadata": {
        "colab_type": "text",
        "id": "vs8jXaboZO6A"
      },
      "source": [
        "Using *isin()* with a sparse dataframe and a single search value made it a little faster."
      ]
    },
    {
      "cell_type": "markdown",
      "metadata": {
        "colab_type": "text",
        "id": "RDOjPsujTikj"
      },
      "source": [
        "## Speed summary, so far\n"
      ]
    },
    {
      "cell_type": "code",
      "metadata": {
        "colab_type": "code",
        "id": "3of5XZbKUlh-",
        "outputId": "8555c4db-bb99-4663-d84d-4b3258f15a9e",
        "colab": {
          "base_uri": "https://localhost:8080/",
          "height": 373
        }
      },
      "source": [
        "speed=[5, 8, 16, 5, 11, 17, 28, 23]\n",
        "index = 'one_column one_regex many_equal many_isin categorical_equal categorical_isin sparse_equal sparse_isin'.split()\n",
        "speed = pd.Series(speed, index=index)\n",
        "# better layor, starting with the simplest case: searching in one column\n",
        "speed = speed.iloc[::-1]\n",
        "speed.plot.barh(title='Time required to identify events with a code, milliseconds');"
      ],
      "execution_count": 0,
      "outputs": [
        {
          "output_type": "display_data",
          "data": {
            "image/svg+xml": "<?xml version=\"1.0\" encoding=\"utf-8\" standalone=\"no\"?>\n<!DOCTYPE svg PUBLIC \"-//W3C//DTD SVG 1.1//EN\"\n  \"http://www.w3.org/Graphics/SVG/1.1/DTD/svg11.dtd\">\n<!-- Created with matplotlib (https://matplotlib.org/) -->\n<svg height=\"263.63625pt\" version=\"1.1\" viewBox=\"0 0 451.237812 263.63625\" width=\"451.237812pt\" xmlns=\"http://www.w3.org/2000/svg\" xmlns:xlink=\"http://www.w3.org/1999/xlink\">\n <defs>\n  <style type=\"text/css\">\n*{stroke-linecap:butt;stroke-linejoin:round;}\n  </style>\n </defs>\n <g id=\"figure_1\">\n  <g id=\"patch_1\">\n   <path d=\"M 0 263.63625 \nL 451.237812 263.63625 \nL 451.237812 0 \nL 0 0 \nz\n\" style=\"fill:none;\"/>\n  </g>\n  <g id=\"axes_1\">\n   <g id=\"patch_2\">\n    <path d=\"M 102.40625 239.758125 \nL 437.20625 239.758125 \nL 437.20625 22.318125 \nL 102.40625 22.318125 \nz\n\" style=\"fill:#ffffff;\"/>\n   </g>\n   <g id=\"patch_3\">\n    <path clip-path=\"url(#p0cc3853f0a)\" d=\"M 102.40625 232.963125 \nL 364.324617 232.963125 \nL 364.324617 219.373125 \nL 102.40625 219.373125 \nz\n\" style=\"fill:#1f77b4;\"/>\n   </g>\n   <g id=\"patch_4\">\n    <path clip-path=\"url(#p0cc3853f0a)\" d=\"M 102.40625 205.783125 \nL 421.263393 205.783125 \nL 421.263393 192.193125 \nL 102.40625 192.193125 \nz\n\" style=\"fill:#1f77b4;\"/>\n   </g>\n   <g id=\"patch_5\">\n    <path clip-path=\"url(#p0cc3853f0a)\" d=\"M 102.40625 178.603125 \nL 295.998087 178.603125 \nL 295.998087 165.013125 \nL 102.40625 165.013125 \nz\n\" style=\"fill:#1f77b4;\"/>\n   </g>\n   <g id=\"patch_6\">\n    <path clip-path=\"url(#p0cc3853f0a)\" d=\"M 102.40625 151.423125 \nL 227.671556 151.423125 \nL 227.671556 137.833125 \nL 102.40625 137.833125 \nz\n\" style=\"fill:#1f77b4;\"/>\n   </g>\n   <g id=\"patch_7\">\n    <path clip-path=\"url(#p0cc3853f0a)\" d=\"M 102.40625 124.243125 \nL 159.345026 124.243125 \nL 159.345026 110.653125 \nL 102.40625 110.653125 \nz\n\" style=\"fill:#1f77b4;\"/>\n   </g>\n   <g id=\"patch_8\">\n    <path clip-path=\"url(#p0cc3853f0a)\" d=\"M 102.40625 97.063125 \nL 284.610332 97.063125 \nL 284.610332 83.473125 \nL 102.40625 83.473125 \nz\n\" style=\"fill:#1f77b4;\"/>\n   </g>\n   <g id=\"patch_9\">\n    <path clip-path=\"url(#p0cc3853f0a)\" d=\"M 102.40625 69.883125 \nL 193.508291 69.883125 \nL 193.508291 56.293125 \nL 102.40625 56.293125 \nz\n\" style=\"fill:#1f77b4;\"/>\n   </g>\n   <g id=\"patch_10\">\n    <path clip-path=\"url(#p0cc3853f0a)\" d=\"M 102.40625 42.703125 \nL 159.345026 42.703125 \nL 159.345026 29.113125 \nL 102.40625 29.113125 \nz\n\" style=\"fill:#1f77b4;\"/>\n   </g>\n   <g id=\"matplotlib.axis_1\">\n    <g id=\"xtick_1\">\n     <g id=\"line2d_1\">\n      <defs>\n       <path d=\"M 0 0 \nL 0 3.5 \n\" id=\"me5bb8a8dbe\" style=\"stroke:#000000;stroke-width:0.8;\"/>\n      </defs>\n      <g>\n       <use style=\"stroke:#000000;stroke-width:0.8;\" x=\"102.40625\" xlink:href=\"#me5bb8a8dbe\" y=\"239.758125\"/>\n      </g>\n     </g>\n     <g id=\"text_1\">\n      <!-- 0 -->\n      <defs>\n       <path d=\"M 31.78125 66.40625 \nQ 24.171875 66.40625 20.328125 58.90625 \nQ 16.5 51.421875 16.5 36.375 \nQ 16.5 21.390625 20.328125 13.890625 \nQ 24.171875 6.390625 31.78125 6.390625 \nQ 39.453125 6.390625 43.28125 13.890625 \nQ 47.125 21.390625 47.125 36.375 \nQ 47.125 51.421875 43.28125 58.90625 \nQ 39.453125 66.40625 31.78125 66.40625 \nz\nM 31.78125 74.21875 \nQ 44.046875 74.21875 50.515625 64.515625 \nQ 56.984375 54.828125 56.984375 36.375 \nQ 56.984375 17.96875 50.515625 8.265625 \nQ 44.046875 -1.421875 31.78125 -1.421875 \nQ 19.53125 -1.421875 13.0625 8.265625 \nQ 6.59375 17.96875 6.59375 36.375 \nQ 6.59375 54.828125 13.0625 64.515625 \nQ 19.53125 74.21875 31.78125 74.21875 \nz\n\" id=\"DejaVuSans-48\"/>\n      </defs>\n      <g transform=\"translate(99.225 254.356563)scale(0.1 -0.1)\">\n       <use xlink:href=\"#DejaVuSans-48\"/>\n      </g>\n     </g>\n    </g>\n    <g id=\"xtick_2\">\n     <g id=\"line2d_2\">\n      <g>\n       <use style=\"stroke:#000000;stroke-width:0.8;\" x=\"159.345026\" xlink:href=\"#me5bb8a8dbe\" y=\"239.758125\"/>\n      </g>\n     </g>\n     <g id=\"text_2\">\n      <!-- 5 -->\n      <defs>\n       <path d=\"M 10.796875 72.90625 \nL 49.515625 72.90625 \nL 49.515625 64.59375 \nL 19.828125 64.59375 \nL 19.828125 46.734375 \nQ 21.96875 47.46875 24.109375 47.828125 \nQ 26.265625 48.1875 28.421875 48.1875 \nQ 40.625 48.1875 47.75 41.5 \nQ 54.890625 34.8125 54.890625 23.390625 \nQ 54.890625 11.625 47.5625 5.09375 \nQ 40.234375 -1.421875 26.90625 -1.421875 \nQ 22.3125 -1.421875 17.546875 -0.640625 \nQ 12.796875 0.140625 7.71875 1.703125 \nL 7.71875 11.625 \nQ 12.109375 9.234375 16.796875 8.0625 \nQ 21.484375 6.890625 26.703125 6.890625 \nQ 35.15625 6.890625 40.078125 11.328125 \nQ 45.015625 15.765625 45.015625 23.390625 \nQ 45.015625 31 40.078125 35.4375 \nQ 35.15625 39.890625 26.703125 39.890625 \nQ 22.75 39.890625 18.8125 39.015625 \nQ 14.890625 38.140625 10.796875 36.28125 \nz\n\" id=\"DejaVuSans-53\"/>\n      </defs>\n      <g transform=\"translate(156.163776 254.356563)scale(0.1 -0.1)\">\n       <use xlink:href=\"#DejaVuSans-53\"/>\n      </g>\n     </g>\n    </g>\n    <g id=\"xtick_3\">\n     <g id=\"line2d_3\">\n      <g>\n       <use style=\"stroke:#000000;stroke-width:0.8;\" x=\"216.283801\" xlink:href=\"#me5bb8a8dbe\" y=\"239.758125\"/>\n      </g>\n     </g>\n     <g id=\"text_3\">\n      <!-- 10 -->\n      <defs>\n       <path d=\"M 12.40625 8.296875 \nL 28.515625 8.296875 \nL 28.515625 63.921875 \nL 10.984375 60.40625 \nL 10.984375 69.390625 \nL 28.421875 72.90625 \nL 38.28125 72.90625 \nL 38.28125 8.296875 \nL 54.390625 8.296875 \nL 54.390625 0 \nL 12.40625 0 \nz\n\" id=\"DejaVuSans-49\"/>\n      </defs>\n      <g transform=\"translate(209.921301 254.356563)scale(0.1 -0.1)\">\n       <use xlink:href=\"#DejaVuSans-49\"/>\n       <use x=\"63.623047\" xlink:href=\"#DejaVuSans-48\"/>\n      </g>\n     </g>\n    </g>\n    <g id=\"xtick_4\">\n     <g id=\"line2d_4\">\n      <g>\n       <use style=\"stroke:#000000;stroke-width:0.8;\" x=\"273.222577\" xlink:href=\"#me5bb8a8dbe\" y=\"239.758125\"/>\n      </g>\n     </g>\n     <g id=\"text_4\">\n      <!-- 15 -->\n      <g transform=\"translate(266.860077 254.356563)scale(0.1 -0.1)\">\n       <use xlink:href=\"#DejaVuSans-49\"/>\n       <use x=\"63.623047\" xlink:href=\"#DejaVuSans-53\"/>\n      </g>\n     </g>\n    </g>\n    <g id=\"xtick_5\">\n     <g id=\"line2d_5\">\n      <g>\n       <use style=\"stroke:#000000;stroke-width:0.8;\" x=\"330.161352\" xlink:href=\"#me5bb8a8dbe\" y=\"239.758125\"/>\n      </g>\n     </g>\n     <g id=\"text_5\">\n      <!-- 20 -->\n      <defs>\n       <path d=\"M 19.1875 8.296875 \nL 53.609375 8.296875 \nL 53.609375 0 \nL 7.328125 0 \nL 7.328125 8.296875 \nQ 12.9375 14.109375 22.625 23.890625 \nQ 32.328125 33.6875 34.8125 36.53125 \nQ 39.546875 41.84375 41.421875 45.53125 \nQ 43.3125 49.21875 43.3125 52.78125 \nQ 43.3125 58.59375 39.234375 62.25 \nQ 35.15625 65.921875 28.609375 65.921875 \nQ 23.96875 65.921875 18.8125 64.3125 \nQ 13.671875 62.703125 7.8125 59.421875 \nL 7.8125 69.390625 \nQ 13.765625 71.78125 18.9375 73 \nQ 24.125 74.21875 28.421875 74.21875 \nQ 39.75 74.21875 46.484375 68.546875 \nQ 53.21875 62.890625 53.21875 53.421875 \nQ 53.21875 48.921875 51.53125 44.890625 \nQ 49.859375 40.875 45.40625 35.40625 \nQ 44.1875 33.984375 37.640625 27.21875 \nQ 31.109375 20.453125 19.1875 8.296875 \nz\n\" id=\"DejaVuSans-50\"/>\n      </defs>\n      <g transform=\"translate(323.798852 254.356563)scale(0.1 -0.1)\">\n       <use xlink:href=\"#DejaVuSans-50\"/>\n       <use x=\"63.623047\" xlink:href=\"#DejaVuSans-48\"/>\n      </g>\n     </g>\n    </g>\n    <g id=\"xtick_6\">\n     <g id=\"line2d_6\">\n      <g>\n       <use style=\"stroke:#000000;stroke-width:0.8;\" x=\"387.100128\" xlink:href=\"#me5bb8a8dbe\" y=\"239.758125\"/>\n      </g>\n     </g>\n     <g id=\"text_6\">\n      <!-- 25 -->\n      <g transform=\"translate(380.737628 254.356563)scale(0.1 -0.1)\">\n       <use xlink:href=\"#DejaVuSans-50\"/>\n       <use x=\"63.623047\" xlink:href=\"#DejaVuSans-53\"/>\n      </g>\n     </g>\n    </g>\n   </g>\n   <g id=\"matplotlib.axis_2\">\n    <g id=\"ytick_1\">\n     <g id=\"line2d_7\">\n      <defs>\n       <path d=\"M 0 0 \nL -3.5 0 \n\" id=\"m63d8ca8b17\" style=\"stroke:#000000;stroke-width:0.8;\"/>\n      </defs>\n      <g>\n       <use style=\"stroke:#000000;stroke-width:0.8;\" x=\"102.40625\" xlink:href=\"#m63d8ca8b17\" y=\"226.168125\"/>\n      </g>\n     </g>\n     <g id=\"text_7\">\n      <!-- sparse_isin -->\n      <defs>\n       <path d=\"M 44.28125 53.078125 \nL 44.28125 44.578125 \nQ 40.484375 46.53125 36.375 47.5 \nQ 32.28125 48.484375 27.875 48.484375 \nQ 21.1875 48.484375 17.84375 46.4375 \nQ 14.5 44.390625 14.5 40.28125 \nQ 14.5 37.15625 16.890625 35.375 \nQ 19.28125 33.59375 26.515625 31.984375 \nL 29.59375 31.296875 \nQ 39.15625 29.25 43.1875 25.515625 \nQ 47.21875 21.78125 47.21875 15.09375 \nQ 47.21875 7.46875 41.1875 3.015625 \nQ 35.15625 -1.421875 24.609375 -1.421875 \nQ 20.21875 -1.421875 15.453125 -0.5625 \nQ 10.6875 0.296875 5.421875 2 \nL 5.421875 11.28125 \nQ 10.40625 8.6875 15.234375 7.390625 \nQ 20.0625 6.109375 24.8125 6.109375 \nQ 31.15625 6.109375 34.5625 8.28125 \nQ 37.984375 10.453125 37.984375 14.40625 \nQ 37.984375 18.0625 35.515625 20.015625 \nQ 33.0625 21.96875 24.703125 23.78125 \nL 21.578125 24.515625 \nQ 13.234375 26.265625 9.515625 29.90625 \nQ 5.8125 33.546875 5.8125 39.890625 \nQ 5.8125 47.609375 11.28125 51.796875 \nQ 16.75 56 26.8125 56 \nQ 31.78125 56 36.171875 55.265625 \nQ 40.578125 54.546875 44.28125 53.078125 \nz\n\" id=\"DejaVuSans-115\"/>\n       <path d=\"M 18.109375 8.203125 \nL 18.109375 -20.796875 \nL 9.078125 -20.796875 \nL 9.078125 54.6875 \nL 18.109375 54.6875 \nL 18.109375 46.390625 \nQ 20.953125 51.265625 25.265625 53.625 \nQ 29.59375 56 35.59375 56 \nQ 45.5625 56 51.78125 48.09375 \nQ 58.015625 40.1875 58.015625 27.296875 \nQ 58.015625 14.40625 51.78125 6.484375 \nQ 45.5625 -1.421875 35.59375 -1.421875 \nQ 29.59375 -1.421875 25.265625 0.953125 \nQ 20.953125 3.328125 18.109375 8.203125 \nz\nM 48.6875 27.296875 \nQ 48.6875 37.203125 44.609375 42.84375 \nQ 40.53125 48.484375 33.40625 48.484375 \nQ 26.265625 48.484375 22.1875 42.84375 \nQ 18.109375 37.203125 18.109375 27.296875 \nQ 18.109375 17.390625 22.1875 11.75 \nQ 26.265625 6.109375 33.40625 6.109375 \nQ 40.53125 6.109375 44.609375 11.75 \nQ 48.6875 17.390625 48.6875 27.296875 \nz\n\" id=\"DejaVuSans-112\"/>\n       <path d=\"M 34.28125 27.484375 \nQ 23.390625 27.484375 19.1875 25 \nQ 14.984375 22.515625 14.984375 16.5 \nQ 14.984375 11.71875 18.140625 8.90625 \nQ 21.296875 6.109375 26.703125 6.109375 \nQ 34.1875 6.109375 38.703125 11.40625 \nQ 43.21875 16.703125 43.21875 25.484375 \nL 43.21875 27.484375 \nz\nM 52.203125 31.203125 \nL 52.203125 0 \nL 43.21875 0 \nL 43.21875 8.296875 \nQ 40.140625 3.328125 35.546875 0.953125 \nQ 30.953125 -1.421875 24.3125 -1.421875 \nQ 15.921875 -1.421875 10.953125 3.296875 \nQ 6 8.015625 6 15.921875 \nQ 6 25.140625 12.171875 29.828125 \nQ 18.359375 34.515625 30.609375 34.515625 \nL 43.21875 34.515625 \nL 43.21875 35.40625 \nQ 43.21875 41.609375 39.140625 45 \nQ 35.0625 48.390625 27.6875 48.390625 \nQ 23 48.390625 18.546875 47.265625 \nQ 14.109375 46.140625 10.015625 43.890625 \nL 10.015625 52.203125 \nQ 14.9375 54.109375 19.578125 55.046875 \nQ 24.21875 56 28.609375 56 \nQ 40.484375 56 46.34375 49.84375 \nQ 52.203125 43.703125 52.203125 31.203125 \nz\n\" id=\"DejaVuSans-97\"/>\n       <path d=\"M 41.109375 46.296875 \nQ 39.59375 47.171875 37.8125 47.578125 \nQ 36.03125 48 33.890625 48 \nQ 26.265625 48 22.1875 43.046875 \nQ 18.109375 38.09375 18.109375 28.8125 \nL 18.109375 0 \nL 9.078125 0 \nL 9.078125 54.6875 \nL 18.109375 54.6875 \nL 18.109375 46.1875 \nQ 20.953125 51.171875 25.484375 53.578125 \nQ 30.03125 56 36.53125 56 \nQ 37.453125 56 38.578125 55.875 \nQ 39.703125 55.765625 41.0625 55.515625 \nz\n\" id=\"DejaVuSans-114\"/>\n       <path d=\"M 56.203125 29.59375 \nL 56.203125 25.203125 \nL 14.890625 25.203125 \nQ 15.484375 15.921875 20.484375 11.0625 \nQ 25.484375 6.203125 34.421875 6.203125 \nQ 39.59375 6.203125 44.453125 7.46875 \nQ 49.3125 8.734375 54.109375 11.28125 \nL 54.109375 2.78125 \nQ 49.265625 0.734375 44.1875 -0.34375 \nQ 39.109375 -1.421875 33.890625 -1.421875 \nQ 20.796875 -1.421875 13.15625 6.1875 \nQ 5.515625 13.8125 5.515625 26.8125 \nQ 5.515625 40.234375 12.765625 48.109375 \nQ 20.015625 56 32.328125 56 \nQ 43.359375 56 49.78125 48.890625 \nQ 56.203125 41.796875 56.203125 29.59375 \nz\nM 47.21875 32.234375 \nQ 47.125 39.59375 43.09375 43.984375 \nQ 39.0625 48.390625 32.421875 48.390625 \nQ 24.90625 48.390625 20.390625 44.140625 \nQ 15.875 39.890625 15.1875 32.171875 \nz\n\" id=\"DejaVuSans-101\"/>\n       <path d=\"M 50.984375 -16.609375 \nL 50.984375 -23.578125 \nL -0.984375 -23.578125 \nL -0.984375 -16.609375 \nz\n\" id=\"DejaVuSans-95\"/>\n       <path d=\"M 9.421875 54.6875 \nL 18.40625 54.6875 \nL 18.40625 0 \nL 9.421875 0 \nz\nM 9.421875 75.984375 \nL 18.40625 75.984375 \nL 18.40625 64.59375 \nL 9.421875 64.59375 \nz\n\" id=\"DejaVuSans-105\"/>\n       <path d=\"M 54.890625 33.015625 \nL 54.890625 0 \nL 45.90625 0 \nL 45.90625 32.71875 \nQ 45.90625 40.484375 42.875 44.328125 \nQ 39.84375 48.1875 33.796875 48.1875 \nQ 26.515625 48.1875 22.3125 43.546875 \nQ 18.109375 38.921875 18.109375 30.90625 \nL 18.109375 0 \nL 9.078125 0 \nL 9.078125 54.6875 \nL 18.109375 54.6875 \nL 18.109375 46.1875 \nQ 21.34375 51.125 25.703125 53.5625 \nQ 30.078125 56 35.796875 56 \nQ 45.21875 56 50.046875 50.171875 \nQ 54.890625 44.34375 54.890625 33.015625 \nz\n\" id=\"DejaVuSans-110\"/>\n      </defs>\n      <g transform=\"translate(40.14375 229.967344)scale(0.1 -0.1)\">\n       <use xlink:href=\"#DejaVuSans-115\"/>\n       <use x=\"52.099609\" xlink:href=\"#DejaVuSans-112\"/>\n       <use x=\"115.576172\" xlink:href=\"#DejaVuSans-97\"/>\n       <use x=\"176.855469\" xlink:href=\"#DejaVuSans-114\"/>\n       <use x=\"217.96875\" xlink:href=\"#DejaVuSans-115\"/>\n       <use x=\"270.068359\" xlink:href=\"#DejaVuSans-101\"/>\n       <use x=\"331.591797\" xlink:href=\"#DejaVuSans-95\"/>\n       <use x=\"381.591797\" xlink:href=\"#DejaVuSans-105\"/>\n       <use x=\"409.375\" xlink:href=\"#DejaVuSans-115\"/>\n       <use x=\"461.474609\" xlink:href=\"#DejaVuSans-105\"/>\n       <use x=\"489.257812\" xlink:href=\"#DejaVuSans-110\"/>\n      </g>\n     </g>\n    </g>\n    <g id=\"ytick_2\">\n     <g id=\"line2d_8\">\n      <g>\n       <use style=\"stroke:#000000;stroke-width:0.8;\" x=\"102.40625\" xlink:href=\"#m63d8ca8b17\" y=\"198.988125\"/>\n      </g>\n     </g>\n     <g id=\"text_8\">\n      <!-- sparse_equal -->\n      <defs>\n       <path d=\"M 14.796875 27.296875 \nQ 14.796875 17.390625 18.875 11.75 \nQ 22.953125 6.109375 30.078125 6.109375 \nQ 37.203125 6.109375 41.296875 11.75 \nQ 45.40625 17.390625 45.40625 27.296875 \nQ 45.40625 37.203125 41.296875 42.84375 \nQ 37.203125 48.484375 30.078125 48.484375 \nQ 22.953125 48.484375 18.875 42.84375 \nQ 14.796875 37.203125 14.796875 27.296875 \nz\nM 45.40625 8.203125 \nQ 42.578125 3.328125 38.25 0.953125 \nQ 33.9375 -1.421875 27.875 -1.421875 \nQ 17.96875 -1.421875 11.734375 6.484375 \nQ 5.515625 14.40625 5.515625 27.296875 \nQ 5.515625 40.1875 11.734375 48.09375 \nQ 17.96875 56 27.875 56 \nQ 33.9375 56 38.25 53.625 \nQ 42.578125 51.265625 45.40625 46.390625 \nL 45.40625 54.6875 \nL 54.390625 54.6875 \nL 54.390625 -20.796875 \nL 45.40625 -20.796875 \nz\n\" id=\"DejaVuSans-113\"/>\n       <path d=\"M 8.5 21.578125 \nL 8.5 54.6875 \nL 17.484375 54.6875 \nL 17.484375 21.921875 \nQ 17.484375 14.15625 20.5 10.265625 \nQ 23.53125 6.390625 29.59375 6.390625 \nQ 36.859375 6.390625 41.078125 11.03125 \nQ 45.3125 15.671875 45.3125 23.6875 \nL 45.3125 54.6875 \nL 54.296875 54.6875 \nL 54.296875 0 \nL 45.3125 0 \nL 45.3125 8.40625 \nQ 42.046875 3.421875 37.71875 1 \nQ 33.40625 -1.421875 27.6875 -1.421875 \nQ 18.265625 -1.421875 13.375 4.4375 \nQ 8.5 10.296875 8.5 21.578125 \nz\nM 31.109375 56 \nz\n\" id=\"DejaVuSans-117\"/>\n       <path d=\"M 9.421875 75.984375 \nL 18.40625 75.984375 \nL 18.40625 0 \nL 9.421875 0 \nz\n\" id=\"DejaVuSans-108\"/>\n      </defs>\n      <g transform=\"translate(29.501562 202.787344)scale(0.1 -0.1)\">\n       <use xlink:href=\"#DejaVuSans-115\"/>\n       <use x=\"52.099609\" xlink:href=\"#DejaVuSans-112\"/>\n       <use x=\"115.576172\" xlink:href=\"#DejaVuSans-97\"/>\n       <use x=\"176.855469\" xlink:href=\"#DejaVuSans-114\"/>\n       <use x=\"217.96875\" xlink:href=\"#DejaVuSans-115\"/>\n       <use x=\"270.068359\" xlink:href=\"#DejaVuSans-101\"/>\n       <use x=\"331.591797\" xlink:href=\"#DejaVuSans-95\"/>\n       <use x=\"381.591797\" xlink:href=\"#DejaVuSans-101\"/>\n       <use x=\"443.115234\" xlink:href=\"#DejaVuSans-113\"/>\n       <use x=\"506.591797\" xlink:href=\"#DejaVuSans-117\"/>\n       <use x=\"569.970703\" xlink:href=\"#DejaVuSans-97\"/>\n       <use x=\"631.25\" xlink:href=\"#DejaVuSans-108\"/>\n      </g>\n     </g>\n    </g>\n    <g id=\"ytick_3\">\n     <g id=\"line2d_9\">\n      <g>\n       <use style=\"stroke:#000000;stroke-width:0.8;\" x=\"102.40625\" xlink:href=\"#m63d8ca8b17\" y=\"171.808125\"/>\n      </g>\n     </g>\n     <g id=\"text_9\">\n      <!-- categorical_isin -->\n      <defs>\n       <path d=\"M 48.78125 52.59375 \nL 48.78125 44.1875 \nQ 44.96875 46.296875 41.140625 47.34375 \nQ 37.3125 48.390625 33.40625 48.390625 \nQ 24.65625 48.390625 19.8125 42.84375 \nQ 14.984375 37.3125 14.984375 27.296875 \nQ 14.984375 17.28125 19.8125 11.734375 \nQ 24.65625 6.203125 33.40625 6.203125 \nQ 37.3125 6.203125 41.140625 7.25 \nQ 44.96875 8.296875 48.78125 10.40625 \nL 48.78125 2.09375 \nQ 45.015625 0.34375 40.984375 -0.53125 \nQ 36.96875 -1.421875 32.421875 -1.421875 \nQ 20.0625 -1.421875 12.78125 6.34375 \nQ 5.515625 14.109375 5.515625 27.296875 \nQ 5.515625 40.671875 12.859375 48.328125 \nQ 20.21875 56 33.015625 56 \nQ 37.15625 56 41.109375 55.140625 \nQ 45.0625 54.296875 48.78125 52.59375 \nz\n\" id=\"DejaVuSans-99\"/>\n       <path d=\"M 18.3125 70.21875 \nL 18.3125 54.6875 \nL 36.8125 54.6875 \nL 36.8125 47.703125 \nL 18.3125 47.703125 \nL 18.3125 18.015625 \nQ 18.3125 11.328125 20.140625 9.421875 \nQ 21.96875 7.515625 27.59375 7.515625 \nL 36.8125 7.515625 \nL 36.8125 0 \nL 27.59375 0 \nQ 17.1875 0 13.234375 3.875 \nQ 9.28125 7.765625 9.28125 18.015625 \nL 9.28125 47.703125 \nL 2.6875 47.703125 \nL 2.6875 54.6875 \nL 9.28125 54.6875 \nL 9.28125 70.21875 \nz\n\" id=\"DejaVuSans-116\"/>\n       <path d=\"M 45.40625 27.984375 \nQ 45.40625 37.75 41.375 43.109375 \nQ 37.359375 48.484375 30.078125 48.484375 \nQ 22.859375 48.484375 18.828125 43.109375 \nQ 14.796875 37.75 14.796875 27.984375 \nQ 14.796875 18.265625 18.828125 12.890625 \nQ 22.859375 7.515625 30.078125 7.515625 \nQ 37.359375 7.515625 41.375 12.890625 \nQ 45.40625 18.265625 45.40625 27.984375 \nz\nM 54.390625 6.78125 \nQ 54.390625 -7.171875 48.1875 -13.984375 \nQ 42 -20.796875 29.203125 -20.796875 \nQ 24.46875 -20.796875 20.265625 -20.09375 \nQ 16.0625 -19.390625 12.109375 -17.921875 \nL 12.109375 -9.1875 \nQ 16.0625 -11.328125 19.921875 -12.34375 \nQ 23.78125 -13.375 27.78125 -13.375 \nQ 36.625 -13.375 41.015625 -8.765625 \nQ 45.40625 -4.15625 45.40625 5.171875 \nL 45.40625 9.625 \nQ 42.625 4.78125 38.28125 2.390625 \nQ 33.9375 0 27.875 0 \nQ 17.828125 0 11.671875 7.65625 \nQ 5.515625 15.328125 5.515625 27.984375 \nQ 5.515625 40.671875 11.671875 48.328125 \nQ 17.828125 56 27.875 56 \nQ 33.9375 56 38.28125 53.609375 \nQ 42.625 51.21875 45.40625 46.390625 \nL 45.40625 54.6875 \nL 54.390625 54.6875 \nz\n\" id=\"DejaVuSans-103\"/>\n       <path d=\"M 30.609375 48.390625 \nQ 23.390625 48.390625 19.1875 42.75 \nQ 14.984375 37.109375 14.984375 27.296875 \nQ 14.984375 17.484375 19.15625 11.84375 \nQ 23.34375 6.203125 30.609375 6.203125 \nQ 37.796875 6.203125 41.984375 11.859375 \nQ 46.1875 17.53125 46.1875 27.296875 \nQ 46.1875 37.015625 41.984375 42.703125 \nQ 37.796875 48.390625 30.609375 48.390625 \nz\nM 30.609375 56 \nQ 42.328125 56 49.015625 48.375 \nQ 55.71875 40.765625 55.71875 27.296875 \nQ 55.71875 13.875 49.015625 6.21875 \nQ 42.328125 -1.421875 30.609375 -1.421875 \nQ 18.84375 -1.421875 12.171875 6.21875 \nQ 5.515625 13.875 5.515625 27.296875 \nQ 5.515625 40.765625 12.171875 48.375 \nQ 18.84375 56 30.609375 56 \nz\n\" id=\"DejaVuSans-111\"/>\n      </defs>\n      <g transform=\"translate(17.842187 175.607344)scale(0.1 -0.1)\">\n       <use xlink:href=\"#DejaVuSans-99\"/>\n       <use x=\"54.980469\" xlink:href=\"#DejaVuSans-97\"/>\n       <use x=\"116.259766\" xlink:href=\"#DejaVuSans-116\"/>\n       <use x=\"155.46875\" xlink:href=\"#DejaVuSans-101\"/>\n       <use x=\"216.992188\" xlink:href=\"#DejaVuSans-103\"/>\n       <use x=\"280.46875\" xlink:href=\"#DejaVuSans-111\"/>\n       <use x=\"341.650391\" xlink:href=\"#DejaVuSans-114\"/>\n       <use x=\"382.763672\" xlink:href=\"#DejaVuSans-105\"/>\n       <use x=\"410.546875\" xlink:href=\"#DejaVuSans-99\"/>\n       <use x=\"465.527344\" xlink:href=\"#DejaVuSans-97\"/>\n       <use x=\"526.806641\" xlink:href=\"#DejaVuSans-108\"/>\n       <use x=\"554.589844\" xlink:href=\"#DejaVuSans-95\"/>\n       <use x=\"604.589844\" xlink:href=\"#DejaVuSans-105\"/>\n       <use x=\"632.373047\" xlink:href=\"#DejaVuSans-115\"/>\n       <use x=\"684.472656\" xlink:href=\"#DejaVuSans-105\"/>\n       <use x=\"712.255859\" xlink:href=\"#DejaVuSans-110\"/>\n      </g>\n     </g>\n    </g>\n    <g id=\"ytick_4\">\n     <g id=\"line2d_10\">\n      <g>\n       <use style=\"stroke:#000000;stroke-width:0.8;\" x=\"102.40625\" xlink:href=\"#m63d8ca8b17\" y=\"144.628125\"/>\n      </g>\n     </g>\n     <g id=\"text_10\">\n      <!-- categorical_equal -->\n      <g transform=\"translate(7.2 148.427344)scale(0.1 -0.1)\">\n       <use xlink:href=\"#DejaVuSans-99\"/>\n       <use x=\"54.980469\" xlink:href=\"#DejaVuSans-97\"/>\n       <use x=\"116.259766\" xlink:href=\"#DejaVuSans-116\"/>\n       <use x=\"155.46875\" xlink:href=\"#DejaVuSans-101\"/>\n       <use x=\"216.992188\" xlink:href=\"#DejaVuSans-103\"/>\n       <use x=\"280.46875\" xlink:href=\"#DejaVuSans-111\"/>\n       <use x=\"341.650391\" xlink:href=\"#DejaVuSans-114\"/>\n       <use x=\"382.763672\" xlink:href=\"#DejaVuSans-105\"/>\n       <use x=\"410.546875\" xlink:href=\"#DejaVuSans-99\"/>\n       <use x=\"465.527344\" xlink:href=\"#DejaVuSans-97\"/>\n       <use x=\"526.806641\" xlink:href=\"#DejaVuSans-108\"/>\n       <use x=\"554.589844\" xlink:href=\"#DejaVuSans-95\"/>\n       <use x=\"604.589844\" xlink:href=\"#DejaVuSans-101\"/>\n       <use x=\"666.113281\" xlink:href=\"#DejaVuSans-113\"/>\n       <use x=\"729.589844\" xlink:href=\"#DejaVuSans-117\"/>\n       <use x=\"792.96875\" xlink:href=\"#DejaVuSans-97\"/>\n       <use x=\"854.248047\" xlink:href=\"#DejaVuSans-108\"/>\n      </g>\n     </g>\n    </g>\n    <g id=\"ytick_5\">\n     <g id=\"line2d_11\">\n      <g>\n       <use style=\"stroke:#000000;stroke-width:0.8;\" x=\"102.40625\" xlink:href=\"#m63d8ca8b17\" y=\"117.448125\"/>\n      </g>\n     </g>\n     <g id=\"text_11\">\n      <!-- many_isin -->\n      <defs>\n       <path d=\"M 52 44.1875 \nQ 55.375 50.25 60.0625 53.125 \nQ 64.75 56 71.09375 56 \nQ 79.640625 56 84.28125 50.015625 \nQ 88.921875 44.046875 88.921875 33.015625 \nL 88.921875 0 \nL 79.890625 0 \nL 79.890625 32.71875 \nQ 79.890625 40.578125 77.09375 44.375 \nQ 74.3125 48.1875 68.609375 48.1875 \nQ 61.625 48.1875 57.5625 43.546875 \nQ 53.515625 38.921875 53.515625 30.90625 \nL 53.515625 0 \nL 44.484375 0 \nL 44.484375 32.71875 \nQ 44.484375 40.625 41.703125 44.40625 \nQ 38.921875 48.1875 33.109375 48.1875 \nQ 26.21875 48.1875 22.15625 43.53125 \nQ 18.109375 38.875 18.109375 30.90625 \nL 18.109375 0 \nL 9.078125 0 \nL 9.078125 54.6875 \nL 18.109375 54.6875 \nL 18.109375 46.1875 \nQ 21.1875 51.21875 25.484375 53.609375 \nQ 29.78125 56 35.6875 56 \nQ 41.65625 56 45.828125 52.96875 \nQ 50 49.953125 52 44.1875 \nz\n\" id=\"DejaVuSans-109\"/>\n       <path d=\"M 32.171875 -5.078125 \nQ 28.375 -14.84375 24.75 -17.8125 \nQ 21.140625 -20.796875 15.09375 -20.796875 \nL 7.90625 -20.796875 \nL 7.90625 -13.28125 \nL 13.1875 -13.28125 \nQ 16.890625 -13.28125 18.9375 -11.515625 \nQ 21 -9.765625 23.484375 -3.21875 \nL 25.09375 0.875 \nL 2.984375 54.6875 \nL 12.5 54.6875 \nL 29.59375 11.921875 \nL 46.6875 54.6875 \nL 56.203125 54.6875 \nz\n\" id=\"DejaVuSans-121\"/>\n      </defs>\n      <g transform=\"translate(45.178125 121.247344)scale(0.1 -0.1)\">\n       <use xlink:href=\"#DejaVuSans-109\"/>\n       <use x=\"97.412109\" xlink:href=\"#DejaVuSans-97\"/>\n       <use x=\"158.691406\" xlink:href=\"#DejaVuSans-110\"/>\n       <use x=\"222.070312\" xlink:href=\"#DejaVuSans-121\"/>\n       <use x=\"281.25\" xlink:href=\"#DejaVuSans-95\"/>\n       <use x=\"331.25\" xlink:href=\"#DejaVuSans-105\"/>\n       <use x=\"359.033203\" xlink:href=\"#DejaVuSans-115\"/>\n       <use x=\"411.132812\" xlink:href=\"#DejaVuSans-105\"/>\n       <use x=\"438.916016\" xlink:href=\"#DejaVuSans-110\"/>\n      </g>\n     </g>\n    </g>\n    <g id=\"ytick_6\">\n     <g id=\"line2d_12\">\n      <g>\n       <use style=\"stroke:#000000;stroke-width:0.8;\" x=\"102.40625\" xlink:href=\"#m63d8ca8b17\" y=\"90.268125\"/>\n      </g>\n     </g>\n     <g id=\"text_12\">\n      <!-- many_equal -->\n      <g transform=\"translate(34.535937 94.067344)scale(0.1 -0.1)\">\n       <use xlink:href=\"#DejaVuSans-109\"/>\n       <use x=\"97.412109\" xlink:href=\"#DejaVuSans-97\"/>\n       <use x=\"158.691406\" xlink:href=\"#DejaVuSans-110\"/>\n       <use x=\"222.070312\" xlink:href=\"#DejaVuSans-121\"/>\n       <use x=\"281.25\" xlink:href=\"#DejaVuSans-95\"/>\n       <use x=\"331.25\" xlink:href=\"#DejaVuSans-101\"/>\n       <use x=\"392.773438\" xlink:href=\"#DejaVuSans-113\"/>\n       <use x=\"456.25\" xlink:href=\"#DejaVuSans-117\"/>\n       <use x=\"519.628906\" xlink:href=\"#DejaVuSans-97\"/>\n       <use x=\"580.908203\" xlink:href=\"#DejaVuSans-108\"/>\n      </g>\n     </g>\n    </g>\n    <g id=\"ytick_7\">\n     <g id=\"line2d_13\">\n      <g>\n       <use style=\"stroke:#000000;stroke-width:0.8;\" x=\"102.40625\" xlink:href=\"#m63d8ca8b17\" y=\"63.088125\"/>\n      </g>\n     </g>\n     <g id=\"text_13\">\n      <!-- one_regex -->\n      <defs>\n       <path d=\"M 54.890625 54.6875 \nL 35.109375 28.078125 \nL 55.90625 0 \nL 45.3125 0 \nL 29.390625 21.484375 \nL 13.484375 0 \nL 2.875 0 \nL 24.125 28.609375 \nL 4.6875 54.6875 \nL 15.28125 54.6875 \nL 29.78125 35.203125 \nL 44.28125 54.6875 \nz\n\" id=\"DejaVuSans-120\"/>\n      </defs>\n      <g transform=\"translate(43.117188 66.748281)scale(0.1 -0.1)\">\n       <use xlink:href=\"#DejaVuSans-111\"/>\n       <use x=\"61.181641\" xlink:href=\"#DejaVuSans-110\"/>\n       <use x=\"124.560547\" xlink:href=\"#DejaVuSans-101\"/>\n       <use x=\"186.083984\" xlink:href=\"#DejaVuSans-95\"/>\n       <use x=\"236.083984\" xlink:href=\"#DejaVuSans-114\"/>\n       <use x=\"277.166016\" xlink:href=\"#DejaVuSans-101\"/>\n       <use x=\"338.689453\" xlink:href=\"#DejaVuSans-103\"/>\n       <use x=\"402.166016\" xlink:href=\"#DejaVuSans-101\"/>\n       <use x=\"463.673828\" xlink:href=\"#DejaVuSans-120\"/>\n      </g>\n     </g>\n    </g>\n    <g id=\"ytick_8\">\n     <g id=\"line2d_14\">\n      <g>\n       <use style=\"stroke:#000000;stroke-width:0.8;\" x=\"102.40625\" xlink:href=\"#m63d8ca8b17\" y=\"35.908125\"/>\n      </g>\n     </g>\n     <g id=\"text_14\">\n      <!-- one_column -->\n      <g transform=\"translate(34.985937 39.707344)scale(0.1 -0.1)\">\n       <use xlink:href=\"#DejaVuSans-111\"/>\n       <use x=\"61.181641\" xlink:href=\"#DejaVuSans-110\"/>\n       <use x=\"124.560547\" xlink:href=\"#DejaVuSans-101\"/>\n       <use x=\"186.083984\" xlink:href=\"#DejaVuSans-95\"/>\n       <use x=\"236.083984\" xlink:href=\"#DejaVuSans-99\"/>\n       <use x=\"291.064453\" xlink:href=\"#DejaVuSans-111\"/>\n       <use x=\"352.246094\" xlink:href=\"#DejaVuSans-108\"/>\n       <use x=\"380.029297\" xlink:href=\"#DejaVuSans-117\"/>\n       <use x=\"443.408203\" xlink:href=\"#DejaVuSans-109\"/>\n       <use x=\"540.820312\" xlink:href=\"#DejaVuSans-110\"/>\n      </g>\n     </g>\n    </g>\n   </g>\n   <g id=\"patch_11\">\n    <path d=\"M 102.40625 239.758125 \nL 102.40625 22.318125 \n\" style=\"fill:none;stroke:#000000;stroke-linecap:square;stroke-linejoin:miter;stroke-width:0.8;\"/>\n   </g>\n   <g id=\"patch_12\">\n    <path d=\"M 437.20625 239.758125 \nL 437.20625 22.318125 \n\" style=\"fill:none;stroke:#000000;stroke-linecap:square;stroke-linejoin:miter;stroke-width:0.8;\"/>\n   </g>\n   <g id=\"patch_13\">\n    <path d=\"M 102.40625 239.758125 \nL 437.20625 239.758125 \n\" style=\"fill:none;stroke:#000000;stroke-linecap:square;stroke-linejoin:miter;stroke-width:0.8;\"/>\n   </g>\n   <g id=\"patch_14\">\n    <path d=\"M 102.40625 22.318125 \nL 437.20625 22.318125 \n\" style=\"fill:none;stroke:#000000;stroke-linecap:square;stroke-linejoin:miter;stroke-width:0.8;\"/>\n   </g>\n   <g id=\"text_15\">\n    <!-- Time required to identify events with a code, milliseconds -->\n    <defs>\n     <path d=\"M -0.296875 72.90625 \nL 61.375 72.90625 \nL 61.375 64.59375 \nL 35.5 64.59375 \nL 35.5 0 \nL 25.59375 0 \nL 25.59375 64.59375 \nL -0.296875 64.59375 \nz\n\" id=\"DejaVuSans-84\"/>\n     <path id=\"DejaVuSans-32\"/>\n     <path d=\"M 45.40625 46.390625 \nL 45.40625 75.984375 \nL 54.390625 75.984375 \nL 54.390625 0 \nL 45.40625 0 \nL 45.40625 8.203125 \nQ 42.578125 3.328125 38.25 0.953125 \nQ 33.9375 -1.421875 27.875 -1.421875 \nQ 17.96875 -1.421875 11.734375 6.484375 \nQ 5.515625 14.40625 5.515625 27.296875 \nQ 5.515625 40.1875 11.734375 48.09375 \nQ 17.96875 56 27.875 56 \nQ 33.9375 56 38.25 53.625 \nQ 42.578125 51.265625 45.40625 46.390625 \nz\nM 14.796875 27.296875 \nQ 14.796875 17.390625 18.875 11.75 \nQ 22.953125 6.109375 30.078125 6.109375 \nQ 37.203125 6.109375 41.296875 11.75 \nQ 45.40625 17.390625 45.40625 27.296875 \nQ 45.40625 37.203125 41.296875 42.84375 \nQ 37.203125 48.484375 30.078125 48.484375 \nQ 22.953125 48.484375 18.875 42.84375 \nQ 14.796875 37.203125 14.796875 27.296875 \nz\n\" id=\"DejaVuSans-100\"/>\n     <path d=\"M 37.109375 75.984375 \nL 37.109375 68.5 \nL 28.515625 68.5 \nQ 23.6875 68.5 21.796875 66.546875 \nQ 19.921875 64.59375 19.921875 59.515625 \nL 19.921875 54.6875 \nL 34.71875 54.6875 \nL 34.71875 47.703125 \nL 19.921875 47.703125 \nL 19.921875 0 \nL 10.890625 0 \nL 10.890625 47.703125 \nL 2.296875 47.703125 \nL 2.296875 54.6875 \nL 10.890625 54.6875 \nL 10.890625 58.5 \nQ 10.890625 67.625 15.140625 71.796875 \nQ 19.390625 75.984375 28.609375 75.984375 \nz\n\" id=\"DejaVuSans-102\"/>\n     <path d=\"M 2.984375 54.6875 \nL 12.5 54.6875 \nL 29.59375 8.796875 \nL 46.6875 54.6875 \nL 56.203125 54.6875 \nL 35.6875 0 \nL 23.484375 0 \nz\n\" id=\"DejaVuSans-118\"/>\n     <path d=\"M 4.203125 54.6875 \nL 13.1875 54.6875 \nL 24.421875 12.015625 \nL 35.59375 54.6875 \nL 46.1875 54.6875 \nL 57.421875 12.015625 \nL 68.609375 54.6875 \nL 77.59375 54.6875 \nL 63.28125 0 \nL 52.6875 0 \nL 40.921875 44.828125 \nL 29.109375 0 \nL 18.5 0 \nz\n\" id=\"DejaVuSans-119\"/>\n     <path d=\"M 54.890625 33.015625 \nL 54.890625 0 \nL 45.90625 0 \nL 45.90625 32.71875 \nQ 45.90625 40.484375 42.875 44.328125 \nQ 39.84375 48.1875 33.796875 48.1875 \nQ 26.515625 48.1875 22.3125 43.546875 \nQ 18.109375 38.921875 18.109375 30.90625 \nL 18.109375 0 \nL 9.078125 0 \nL 9.078125 75.984375 \nL 18.109375 75.984375 \nL 18.109375 46.1875 \nQ 21.34375 51.125 25.703125 53.5625 \nQ 30.078125 56 35.796875 56 \nQ 45.21875 56 50.046875 50.171875 \nQ 54.890625 44.34375 54.890625 33.015625 \nz\n\" id=\"DejaVuSans-104\"/>\n     <path d=\"M 11.71875 12.40625 \nL 22.015625 12.40625 \nL 22.015625 4 \nL 14.015625 -11.625 \nL 7.71875 -11.625 \nL 11.71875 4 \nz\n\" id=\"DejaVuSans-44\"/>\n    </defs>\n    <g transform=\"translate(95.574687 16.318125)scale(0.12 -0.12)\">\n     <use xlink:href=\"#DejaVuSans-84\"/>\n     <use x=\"61.037109\" xlink:href=\"#DejaVuSans-105\"/>\n     <use x=\"88.820312\" xlink:href=\"#DejaVuSans-109\"/>\n     <use x=\"186.232422\" xlink:href=\"#DejaVuSans-101\"/>\n     <use x=\"247.755859\" xlink:href=\"#DejaVuSans-32\"/>\n     <use x=\"279.542969\" xlink:href=\"#DejaVuSans-114\"/>\n     <use x=\"320.625\" xlink:href=\"#DejaVuSans-101\"/>\n     <use x=\"382.148438\" xlink:href=\"#DejaVuSans-113\"/>\n     <use x=\"445.625\" xlink:href=\"#DejaVuSans-117\"/>\n     <use x=\"509.003906\" xlink:href=\"#DejaVuSans-105\"/>\n     <use x=\"536.787109\" xlink:href=\"#DejaVuSans-114\"/>\n     <use x=\"577.869141\" xlink:href=\"#DejaVuSans-101\"/>\n     <use x=\"639.392578\" xlink:href=\"#DejaVuSans-100\"/>\n     <use x=\"702.869141\" xlink:href=\"#DejaVuSans-32\"/>\n     <use x=\"734.65625\" xlink:href=\"#DejaVuSans-116\"/>\n     <use x=\"773.865234\" xlink:href=\"#DejaVuSans-111\"/>\n     <use x=\"835.046875\" xlink:href=\"#DejaVuSans-32\"/>\n     <use x=\"866.833984\" xlink:href=\"#DejaVuSans-105\"/>\n     <use x=\"894.617188\" xlink:href=\"#DejaVuSans-100\"/>\n     <use x=\"958.09375\" xlink:href=\"#DejaVuSans-101\"/>\n     <use x=\"1019.617188\" xlink:href=\"#DejaVuSans-110\"/>\n     <use x=\"1082.996094\" xlink:href=\"#DejaVuSans-116\"/>\n     <use x=\"1122.205078\" xlink:href=\"#DejaVuSans-105\"/>\n     <use x=\"1149.988281\" xlink:href=\"#DejaVuSans-102\"/>\n     <use x=\"1185.177734\" xlink:href=\"#DejaVuSans-121\"/>\n     <use x=\"1244.357422\" xlink:href=\"#DejaVuSans-32\"/>\n     <use x=\"1276.144531\" xlink:href=\"#DejaVuSans-101\"/>\n     <use x=\"1337.667969\" xlink:href=\"#DejaVuSans-118\"/>\n     <use x=\"1396.847656\" xlink:href=\"#DejaVuSans-101\"/>\n     <use x=\"1458.371094\" xlink:href=\"#DejaVuSans-110\"/>\n     <use x=\"1521.75\" xlink:href=\"#DejaVuSans-116\"/>\n     <use x=\"1560.958984\" xlink:href=\"#DejaVuSans-115\"/>\n     <use x=\"1613.058594\" xlink:href=\"#DejaVuSans-32\"/>\n     <use x=\"1644.845703\" xlink:href=\"#DejaVuSans-119\"/>\n     <use x=\"1726.632812\" xlink:href=\"#DejaVuSans-105\"/>\n     <use x=\"1754.416016\" xlink:href=\"#DejaVuSans-116\"/>\n     <use x=\"1793.625\" xlink:href=\"#DejaVuSans-104\"/>\n     <use x=\"1857.003906\" xlink:href=\"#DejaVuSans-32\"/>\n     <use x=\"1888.791016\" xlink:href=\"#DejaVuSans-97\"/>\n     <use x=\"1950.070312\" xlink:href=\"#DejaVuSans-32\"/>\n     <use x=\"1981.857422\" xlink:href=\"#DejaVuSans-99\"/>\n     <use x=\"2036.837891\" xlink:href=\"#DejaVuSans-111\"/>\n     <use x=\"2098.019531\" xlink:href=\"#DejaVuSans-100\"/>\n     <use x=\"2161.496094\" xlink:href=\"#DejaVuSans-101\"/>\n     <use x=\"2223.019531\" xlink:href=\"#DejaVuSans-44\"/>\n     <use x=\"2254.806641\" xlink:href=\"#DejaVuSans-32\"/>\n     <use x=\"2286.59375\" xlink:href=\"#DejaVuSans-109\"/>\n     <use x=\"2384.005859\" xlink:href=\"#DejaVuSans-105\"/>\n     <use x=\"2411.789062\" xlink:href=\"#DejaVuSans-108\"/>\n     <use x=\"2439.572266\" xlink:href=\"#DejaVuSans-108\"/>\n     <use x=\"2467.355469\" xlink:href=\"#DejaVuSans-105\"/>\n     <use x=\"2495.138672\" xlink:href=\"#DejaVuSans-115\"/>\n     <use x=\"2547.238281\" xlink:href=\"#DejaVuSans-101\"/>\n     <use x=\"2608.761719\" xlink:href=\"#DejaVuSans-99\"/>\n     <use x=\"2663.742188\" xlink:href=\"#DejaVuSans-111\"/>\n     <use x=\"2724.923828\" xlink:href=\"#DejaVuSans-110\"/>\n     <use x=\"2788.302734\" xlink:href=\"#DejaVuSans-100\"/>\n     <use x=\"2851.779297\" xlink:href=\"#DejaVuSans-115\"/>\n    </g>\n   </g>\n  </g>\n </g>\n <defs>\n  <clipPath id=\"p0cc3853f0a\">\n   <rect height=\"217.44\" width=\"334.8\" x=\"102.40625\" y=\"22.318125\"/>\n  </clipPath>\n </defs>\n</svg>\n",
            "text/plain": [
              "<Figure size 432x288 with 1 Axes>"
            ]
          },
          "metadata": {
            "tags": []
          }
        }
      ]
    },
    {
      "cell_type": "markdown",
      "metadata": {
        "colab_type": "text",
        "id": "vmoIpkQJubdz"
      },
      "source": [
        "The explorative analysis so far indicates that the single column data structure is both the most memory efficient and the quickest data structure when we want to search for events with a given code. It may not be very clean, but the savings seem to be significant. For instance, if - OK, a big if! - we extrapolate from our explorative analysis, it would take more than 20 seconds to query a sparse datastructure with 10 million rows, while the same search would take 5 seconds with all codes merged in a single column.\n",
        "\n"
      ]
    },
    {
      "cell_type": "markdown",
      "metadata": {
        "colab_type": "text",
        "id": "okZRZq89u5HD"
      },
      "source": [
        "## Does increasing the size of the dataframes or the number of codes in the search change the results?\n",
        "\n",
        "The results so far should be taken with a bucket of salt. For instance, if we have a larger dataframe or search for more than one code, we may get different relative results. The next step is to experiment with different sizes and structures to seem how these changes affect the results. This is easier to do if we have the memory and speed checks in a function:"
      ]
    },
    {
      "cell_type": "code",
      "metadata": {
        "colab_type": "code",
        "id": "1cRlCA4WCfth",
        "colab": {}
      },
      "source": [
        "\n",
        "def check(df, ncodes=1):\n",
        "  \"\"\"\n",
        "  Returns memory use and query time for different structures of the dataframe\n",
        "\n",
        "  Args:\n",
        "    df: a dataframe with one columm of codes, merged and comma separated\n",
        "    ncodes: the number of codes to search for\n",
        "\n",
        "  Note: The results could be affected by other processes. Repeat for consistency \n",
        "  \"\"\"\n",
        "\n",
        "  mem={}\n",
        "  search={}\n",
        "  df.columns=['d']\n",
        "  \n",
        "  mem['one'] = df.memory_usage().sum()\n",
        "  \n",
        "  df_exploded = df.d.str.split(',', expand=True)\n",
        "  mem['many'] = df_exploded.memory_usage().sum()/mem['one']\n",
        "  \n",
        "  df_category = df_exploded.astype('category')\n",
        "  mem['category'] = df_category.memory_usage().sum()/mem['one']\n",
        "  \n",
        "  df_sparse = df_exploded.astype(pd.SparseDtype(\"str\", np.nan))\n",
        "  mem['sparse'] = df_sparse.memory_usage().sum()/mem['one']\n",
        "  \n",
        "  df_merged_category=df.astype('category')\n",
        "  mem['one_category'] = df_merged_category.memory_usage().sum()/mem['one']\n",
        "\n",
        "  unique_codes = list(set(df_exploded.loc[:,0].unique()))\n",
        "  search_terms = np.random.choice(unique_codes, size=ncodes, replace=False)\n",
        "  \n",
        "  search_terms_regex = '|'.join([rf'\\b{term}\\b' for term in search_terms])\n",
        "\n",
        "  start = time.time()\n",
        "  df.d.str.contains(search_terms_regex).sum()\n",
        "  end = time.time()\n",
        "  search['one'] = (end-start)\n",
        "\n",
        "  start = time.time()\n",
        "  df_exploded.isin(search_terms).values.sum()\n",
        "  end = time.time()\n",
        "  search['many'] = (end-start)/search['one'] \n",
        "\n",
        "  start = time.time()\n",
        "  df_category.isin(search_terms).values.sum()\n",
        "  end = time.time()\n",
        "  search['category'] = (end-start)/search['one']\n",
        "  \n",
        "  start = time.time()\n",
        "  df_sparse.isin(search_terms).values.sum()\n",
        "  end = time.time()\n",
        "  search['sparse'] = (end-start)/search['one']\n",
        "\n",
        "  start = time.time()\n",
        "  df_merged_category.d.str.contains('|'.join(search_terms)).values.sum()\n",
        "  end = time.time()\n",
        "  search['one_category'] = (end-start)/search['one']\n",
        "\n",
        "  df_merged_category.d.str.contains(search_terms_regex).values.sum()\n",
        "  end = time.time()\n",
        "  search['one_category_regex'] = (end-start)/search['one']\n",
        "  \n",
        "  return mem, search\n",
        "  "
      ],
      "execution_count": 0,
      "outputs": []
    },
    {
      "cell_type": "markdown",
      "metadata": {
        "colab_type": "text",
        "id": "32pE6oItvtUD"
      },
      "source": [
        "## Guesses. Hopefully Educated "
      ]
    },
    {
      "cell_type": "markdown",
      "metadata": {
        "colab_type": "text",
        "id": "18Eae-ZuKGbI"
      },
      "source": [
        "Before running the function to test the memory use and query speeds with different data structures, it is possible to make some educated guesses as to how the different variables will affect the results. In this way we also learn something about why one structure is good or bad, and not just \"this is the way it is.\"\n",
        "\n",
        "First, the category datatype will be beneficial if the number of codes is relatively low compared to the overall number of events (also called [low cardinality](https://en.wikipedia.org/wiki/Cardinality_(SQL_statements))). So far we have used a relatively small dataframe, and increasing the size of the dataframe should improve the relative memory performance of the categorical data structure.\n",
        "\n",
        "Second, the format of one column with merged codes will probably continue to perform well even if we add more codes to the search. Why? If it is smart - which I think it is - it will not conduct wasteful searches. That is, if you search for multiple codes, and it finds the first code, there is no need to search for the second code. The event is already marked as \"having one of the codes.\" In this way a regex search in a single column will probably continue to be relatively fast even with larger dataframes. The more codes, the relatively faster it will be.\n",
        "\n",
        "The performance of the sparse structure will - naturally - depend on the sparseness of the data. If we have many events with missing codes, it will do better than if we have many events with many codes.\n",
        "\n",
        "All in all, and perhaps surprisingly, the hypothesis is that the single column with merged codes will continue to perform well. It is somewhat surprising since string searches are often time-consuming, and checking for equality of numbers is quicker. However, it seems like those who implemented the *str.contains()* method in Pandas did a very good job at making it fast - even with regex.\n"
      ]
    },
    {
      "cell_type": "markdown",
      "metadata": {
        "colab_type": "text",
        "id": "d-J51SuW3LXn"
      },
      "source": [
        "## How does the size of the dataframe affect the results?\n",
        "\n",
        "Let us examine the memory requirements and the time it takes to search for a code when we increase the size of the dataframe from 1 to 9 million events in incremental steps of 1 million:"
      ]
    },
    {
      "cell_type": "code",
      "metadata": {
        "colab_type": "code",
        "id": "Azjt60d4y0B0",
        "colab": {}
      },
      "source": [
        "# make and check different sized dataframes\n",
        "# warning: This can take along time, around 30 minutes\n",
        "\n",
        "mems=[]\n",
        "searches=[]\n",
        "for n in range(1000000,10000000,1000000):\n",
        "  df=make_data(n=n)\n",
        "  mem, search = check(df=df)\n",
        "  mems.append(mem)\n",
        "  searches.append(search)\n"
      ],
      "execution_count": 0,
      "outputs": []
    },
    {
      "cell_type": "markdown",
      "metadata": {
        "colab_type": "text",
        "id": "aaqtx7tE35Lu"
      },
      "source": [
        "### Memory requirement of larger dataframes"
      ]
    },
    {
      "cell_type": "code",
      "metadata": {
        "colab_type": "code",
        "id": "onQZekImJ3qc",
        "colab": {}
      },
      "source": [
        "# convert the results to a dataframe\n",
        "mem_df = pd.DataFrame(mems, index = range(1000000,10000000,1000000))"
      ],
      "execution_count": 0,
      "outputs": []
    },
    {
      "cell_type": "code",
      "metadata": {
        "colab_type": "code",
        "id": "Gci1dadtJR1E",
        "outputId": "c0883ec7-f403-4599-f7ab-e9ba7e9cda9d",
        "colab": {
          "base_uri": "https://localhost:8080/",
          "height": 371
        }
      },
      "source": [
        "# plot it\n",
        "\n",
        "# one column structure is the reference category\n",
        "mem_df['one_column'] = 1\n",
        "\n",
        "# measure dataframe size in millions of rows\n",
        "mem_df.index=mem_df.index/1000000\n",
        "\n",
        "mem_df.iloc[:,[1,2,3,5]].plot(title=\"\"\"\n",
        "Memory use of different data structures\n",
        "\n",
        "Relative to one column with all codes\n",
        "\n",
        "(For dataframes between 1 and 9 million rows)\n",
        "\"\"\");"
      ],
      "execution_count": 0,
      "outputs": [
        {
          "output_type": "display_data",
          "data": {
            "image/png": "[encoded data removed]",
            "text/plain": [
              "<Figure size 432x288 with 1 Axes>"
            ]
          },
          "metadata": {
            "tags": []
          }
        }
      ]
    },
    {
      "cell_type": "markdown",
      "metadata": {
        "colab_type": "text",
        "id": "qudGRZ174UyZ"
      },
      "source": [
        "The relative differences are very stable: One column with all the codes is the most memory efficient for dataframes of all sized between 1 and 9 millions, and the structure with many columns is more than 40 times worse. The multiple columns with sparse datatypes is the second best, but it is still five times worse, and the multiple columns with categorical datatypes takes ten times as much memory as the one column version.\n",
        "\n",
        "To get an idea of how bad it is to be 40 times worse etc, we might plot the absolute memory requirement for a one column dataframe as the size of the dataframe increases:"
      ]
    },
    {
      "cell_type": "code",
      "metadata": {
        "colab_type": "code",
        "id": "mylG8KDCrc-i",
        "outputId": "5291c7a6-3d3a-4d7b-8fbd-e6e5c2592f97",
        "colab": {
          "base_uri": "https://localhost:8080/",
          "height": 356
        }
      },
      "source": [
        "mem_df['one'].div(1000*1000).plot(title=\"\"\"\n",
        "Memory use (MB)\n",
        "\n",
        "of one column with comma separated codes \n",
        "\n",
        "as the dataframe grows from 1 to 9 million rows\"\"\");"
      ],
      "execution_count": 0,
      "outputs": [
        {
          "output_type": "display_data",
          "data": {
            "image/png": "[encoded data removed]",
            "text/plain": [
              "<Figure size 432x288 with 1 Axes>"
            ]
          },
          "metadata": {
            "tags": []
          }
        }
      ]
    },
    {
      "cell_type": "markdown",
      "metadata": {
        "colab_type": "text",
        "id": "e7asiQSE5WMo"
      },
      "source": [
        "Very roughly, 10 million rows would take almost 100 MB in a one column structure, and almost 4 GB in a multi column structure."
      ]
    },
    {
      "cell_type": "markdown",
      "metadata": {
        "colab_type": "text",
        "id": "IPM1V1Fk4G1z"
      },
      "source": [
        "### Speed of searches in larger dataframes\n",
        "\n",
        "The figure below plots how much time it takes to search for a code in the other structures compared to the one column search (which is normalized to 1):"
      ]
    },
    {
      "cell_type": "code",
      "metadata": {
        "colab_type": "code",
        "id": "c1EyhL9EImKP",
        "colab": {}
      },
      "source": [
        "search_df = pd.DataFrame(searches, index =range(1,10,1))"
      ],
      "execution_count": 0,
      "outputs": []
    },
    {
      "cell_type": "code",
      "metadata": {
        "colab_type": "code",
        "id": "W6R_Qm0G76l5",
        "outputId": "5fa845a3-c9e9-4604-8f87-b6d31484f0b8",
        "colab": {
          "base_uri": "https://localhost:8080/",
          "height": 401
        }
      },
      "source": [
        "search_df['one_column']=1\n",
        "\n",
        "search_df.iloc[:,[1,2,3,6]].plot(title=\"\"\"\n",
        "\n",
        "Time to search for a code in different data structures\n",
        "\n",
        "Relative to searching in one column with all codes\n",
        "\n",
        "(For dataframes between 1 and 9 million rows)\n",
        "\n",
        "\"\"\");"
      ],
      "execution_count": 0,
      "outputs": [
        {
          "output_type": "display_data",
          "data": {
            "image/png": "[encoded data removed]",
            "text/plain": [
              "<Figure size 432x288 with 1 Axes>"
            ]
          },
          "metadata": {
            "tags": []
          }
        }
      ]
    },
    {
      "cell_type": "markdown",
      "metadata": {
        "colab_type": "text",
        "id": "0UXjRPwJpRj-"
      },
      "source": [
        "Once again, the picture is consistent across different dataframe sizes: Searching takes the least time in a one column structure, and the most time in a sparse datatype. Searching in multiple columns (using *isin()*) is almost as fast as the one-column structure, while categorical datatypes seem slow.\n",
        "\n",
        "To get an idea of the absolute time requirement for a search, the figure below plots the time (in seconds) it takes to search for a code in a one column structure."
      ]
    },
    {
      "cell_type": "code",
      "metadata": {
        "colab_type": "code",
        "id": "eRujsqc8pRYq",
        "outputId": "bdeca46c-e58f-400a-aeaf-9b09cb30c029",
        "colab": {
          "base_uri": "https://localhost:8080/",
          "height": 356
        }
      },
      "source": [
        "search_df['one'].plot(title=\"\"\"\n",
        "Seconds used to search for a code \n",
        "\n",
        "in one column dataframes with comma separated codes \n",
        "\n",
        "as the size grows from 1 to 9 million rows\"\"\");"
      ],
      "execution_count": 0,
      "outputs": [
        {
          "output_type": "display_data",
          "data": {
            "image/png": "[encoded data removed]",
            "text/plain": [
              "<Figure size 432x288 with 1 Axes>"
            ]
          },
          "metadata": {
            "tags": []
          }
        }
      ]
    },
    {
      "cell_type": "markdown",
      "metadata": {
        "colab_type": "text",
        "id": "IH12fQY_8EVG"
      },
      "source": [
        "The search time grows linearly and it takes less than ten seconds to query codes in ten million rows when they are merged in one column. The worst data-structure for searching, is the sparse datatype, which is approaching 100 seconds."
      ]
    },
    {
      "cell_type": "markdown",
      "metadata": {
        "colab_type": "text",
        "id": "yFtbxnRA9ZW-"
      },
      "source": [
        "##Searching for more than one code"
      ]
    },
    {
      "cell_type": "markdown",
      "metadata": {
        "colab_type": "text",
        "id": "o3VFrg0l8uOB"
      },
      "source": [
        "So far we have searched for only one code. Do the results change if we search for many codes at the same time. Not only T2 (Ford!), but also M3 (Tesla!). Or, more seriously: Select a random set of codes of size 1 to 10 and examine how long time it takes to search for rows with one of these codes in the different data structures:"
      ]
    },
    {
      "cell_type": "code",
      "metadata": {
        "colab_type": "code",
        "id": "xIws1GSW9aRW",
        "colab": {}
      },
      "source": [
        "mems2=[]\n",
        "searches2=[]\n",
        "for n in range(1,10,2):\n",
        "  df=make_data(n=1000000)\n",
        "  mem, search = check(df=df, ncodes=n)\n",
        "  mems2.append(mem)\n",
        "  searches2.append(search)"
      ],
      "execution_count": 0,
      "outputs": []
    },
    {
      "cell_type": "code",
      "metadata": {
        "colab_type": "code",
        "id": "Lpf6h7TfIQ7f",
        "colab": {}
      },
      "source": [
        "search_df2 = pd.DataFrame(searches2, index = range(1,10,2))\n",
        "search_df2['one_column'] = 1"
      ],
      "execution_count": 0,
      "outputs": []
    },
    {
      "cell_type": "code",
      "metadata": {
        "colab_type": "code",
        "id": "DERHpFD1-YC1",
        "outputId": "608cb356-860b-45fa-875d-61f72b5b8046",
        "colab": {
          "base_uri": "https://localhost:8080/",
          "height": 265
        }
      },
      "source": [
        "search_df2.iloc[:,[1,2,3,6]].plot();"
      ],
      "execution_count": 0,
      "outputs": [
        {
          "output_type": "display_data",
          "data": {
            "image/png": "[encoded data removed]",
            "text/plain": [
              "<Figure size 432x288 with 1 Axes>"
            ]
          },
          "metadata": {
            "tags": []
          }
        }
      ]
    },
    {
      "cell_type": "markdown",
      "metadata": {
        "colab_type": "text",
        "id": "Z0WdZOWm9bpb"
      },
      "source": [
        "In short, the one column data structure continues to perform well, and as the number of codes gets gets closer to ten, it seems to do perform relatively better than the other data-structures. "
      ]
    },
    {
      "cell_type": "markdown",
      "metadata": {
        "colab_type": "text",
        "id": "JNbhlvs2H_sj"
      },
      "source": [
        "## How to transform a dataframe from one structure to another\n",
        "\n",
        "If - and we still need to use a slightly salty *if* - the one column data structure really is both faster and smaller than the other data structures, the question becomes how you can create this datastructure. If you have been handed a file with separate columns for diagnoses, how do you merge the codes in these columns to a single column with comma separated values?\n",
        "\n",
        "Often these files have millions of observations and dozens of columns with diagnoses. Merging millions of rows for dozens of columns can be very time consuming, which means that we not only need a method that works, but one that works efficiently. Once again we can use *%%timeit* to experiment with different approaches.\n"
      ]
    },
    {
      "cell_type": "code",
      "metadata": {
        "colab_type": "code",
        "id": "nd2TCkks5IWz",
        "colab": {}
      },
      "source": [
        "df = make_data(n=100000)"
      ],
      "execution_count": 0,
      "outputs": []
    },
    {
      "cell_type": "code",
      "metadata": {
        "colab_type": "code",
        "id": "iYphypn450A5",
        "outputId": "5347a38a-c9ee-4aec-fe77-13b7ebce5fac",
        "colab": {
          "base_uri": "https://localhost:8080/",
          "height": 224
        }
      },
      "source": [
        "df.columns=['code']\n",
        "df = df['code'].str.split(',', expand=True)\n",
        "df = df.add_prefix('code_')\n",
        "df.head()\n"
      ],
      "execution_count": 0,
      "outputs": [
        {
          "output_type": "execute_result",
          "data": {
            "text/html": [
              "<div>\n",
              "<style scoped>\n",
              "    .dataframe tbody tr th:only-of-type {\n",
              "        vertical-align: middle;\n",
              "    }\n",
              "\n",
              "    .dataframe tbody tr th {\n",
              "        vertical-align: top;\n",
              "    }\n",
              "\n",
              "    .dataframe thead th {\n",
              "        text-align: right;\n",
              "    }\n",
              "</style>\n",
              "<table border=\"1\" class=\"dataframe\">\n",
              "  <thead>\n",
              "    <tr style=\"text-align: right;\">\n",
              "      <th></th>\n",
              "      <th>code_0</th>\n",
              "      <th>code_1</th>\n",
              "      <th>code_2</th>\n",
              "      <th>code_3</th>\n",
              "      <th>code_4</th>\n",
              "      <th>code_5</th>\n",
              "      <th>code_6</th>\n",
              "      <th>code_7</th>\n",
              "      <th>code_8</th>\n",
              "      <th>code_9</th>\n",
              "      <th>code_10</th>\n",
              "      <th>code_11</th>\n",
              "      <th>code_12</th>\n",
              "      <th>code_13</th>\n",
              "      <th>code_14</th>\n",
              "      <th>code_15</th>\n",
              "      <th>code_16</th>\n",
              "      <th>code_17</th>\n",
              "      <th>code_18</th>\n",
              "      <th>code_19</th>\n",
              "      <th>code_20</th>\n",
              "      <th>code_21</th>\n",
              "      <th>code_22</th>\n",
              "      <th>code_23</th>\n",
              "      <th>code_24</th>\n",
              "      <th>code_25</th>\n",
              "      <th>code_26</th>\n",
              "      <th>code_27</th>\n",
              "      <th>code_28</th>\n",
              "      <th>code_29</th>\n",
              "      <th>code_30</th>\n",
              "      <th>code_31</th>\n",
              "      <th>code_32</th>\n",
              "      <th>code_33</th>\n",
              "      <th>code_34</th>\n",
              "      <th>code_35</th>\n",
              "      <th>code_36</th>\n",
              "      <th>code_37</th>\n",
              "    </tr>\n",
              "  </thead>\n",
              "  <tbody>\n",
              "    <tr>\n",
              "      <th>0</th>\n",
              "      <td>A16</td>\n",
              "      <td>None</td>\n",
              "      <td>None</td>\n",
              "      <td>None</td>\n",
              "      <td>None</td>\n",
              "      <td>None</td>\n",
              "      <td>None</td>\n",
              "      <td>None</td>\n",
              "      <td>None</td>\n",
              "      <td>None</td>\n",
              "      <td>None</td>\n",
              "      <td>None</td>\n",
              "      <td>None</td>\n",
              "      <td>None</td>\n",
              "      <td>None</td>\n",
              "      <td>None</td>\n",
              "      <td>None</td>\n",
              "      <td>None</td>\n",
              "      <td>None</td>\n",
              "      <td>None</td>\n",
              "      <td>None</td>\n",
              "      <td>None</td>\n",
              "      <td>None</td>\n",
              "      <td>None</td>\n",
              "      <td>None</td>\n",
              "      <td>None</td>\n",
              "      <td>None</td>\n",
              "      <td>None</td>\n",
              "      <td>None</td>\n",
              "      <td>None</td>\n",
              "      <td>None</td>\n",
              "      <td>None</td>\n",
              "      <td>None</td>\n",
              "      <td>None</td>\n",
              "      <td>None</td>\n",
              "      <td>None</td>\n",
              "      <td>None</td>\n",
              "      <td>None</td>\n",
              "    </tr>\n",
              "    <tr>\n",
              "      <th>1</th>\n",
              "      <td>P12</td>\n",
              "      <td>Q60</td>\n",
              "      <td>Y10</td>\n",
              "      <td>Z73</td>\n",
              "      <td>C54</td>\n",
              "      <td>R60</td>\n",
              "      <td>None</td>\n",
              "      <td>None</td>\n",
              "      <td>None</td>\n",
              "      <td>None</td>\n",
              "      <td>None</td>\n",
              "      <td>None</td>\n",
              "      <td>None</td>\n",
              "      <td>None</td>\n",
              "      <td>None</td>\n",
              "      <td>None</td>\n",
              "      <td>None</td>\n",
              "      <td>None</td>\n",
              "      <td>None</td>\n",
              "      <td>None</td>\n",
              "      <td>None</td>\n",
              "      <td>None</td>\n",
              "      <td>None</td>\n",
              "      <td>None</td>\n",
              "      <td>None</td>\n",
              "      <td>None</td>\n",
              "      <td>None</td>\n",
              "      <td>None</td>\n",
              "      <td>None</td>\n",
              "      <td>None</td>\n",
              "      <td>None</td>\n",
              "      <td>None</td>\n",
              "      <td>None</td>\n",
              "      <td>None</td>\n",
              "      <td>None</td>\n",
              "      <td>None</td>\n",
              "      <td>None</td>\n",
              "      <td>None</td>\n",
              "    </tr>\n",
              "    <tr>\n",
              "      <th>2</th>\n",
              "      <td>D60</td>\n",
              "      <td>None</td>\n",
              "      <td>None</td>\n",
              "      <td>None</td>\n",
              "      <td>None</td>\n",
              "      <td>None</td>\n",
              "      <td>None</td>\n",
              "      <td>None</td>\n",
              "      <td>None</td>\n",
              "      <td>None</td>\n",
              "      <td>None</td>\n",
              "      <td>None</td>\n",
              "      <td>None</td>\n",
              "      <td>None</td>\n",
              "      <td>None</td>\n",
              "      <td>None</td>\n",
              "      <td>None</td>\n",
              "      <td>None</td>\n",
              "      <td>None</td>\n",
              "      <td>None</td>\n",
              "      <td>None</td>\n",
              "      <td>None</td>\n",
              "      <td>None</td>\n",
              "      <td>None</td>\n",
              "      <td>None</td>\n",
              "      <td>None</td>\n",
              "      <td>None</td>\n",
              "      <td>None</td>\n",
              "      <td>None</td>\n",
              "      <td>None</td>\n",
              "      <td>None</td>\n",
              "      <td>None</td>\n",
              "      <td>None</td>\n",
              "      <td>None</td>\n",
              "      <td>None</td>\n",
              "      <td>None</td>\n",
              "      <td>None</td>\n",
              "      <td>None</td>\n",
              "    </tr>\n",
              "    <tr>\n",
              "      <th>3</th>\n",
              "      <td>A80</td>\n",
              "      <td>G92</td>\n",
              "      <td>W85</td>\n",
              "      <td>E53</td>\n",
              "      <td>None</td>\n",
              "      <td>None</td>\n",
              "      <td>None</td>\n",
              "      <td>None</td>\n",
              "      <td>None</td>\n",
              "      <td>None</td>\n",
              "      <td>None</td>\n",
              "      <td>None</td>\n",
              "      <td>None</td>\n",
              "      <td>None</td>\n",
              "      <td>None</td>\n",
              "      <td>None</td>\n",
              "      <td>None</td>\n",
              "      <td>None</td>\n",
              "      <td>None</td>\n",
              "      <td>None</td>\n",
              "      <td>None</td>\n",
              "      <td>None</td>\n",
              "      <td>None</td>\n",
              "      <td>None</td>\n",
              "      <td>None</td>\n",
              "      <td>None</td>\n",
              "      <td>None</td>\n",
              "      <td>None</td>\n",
              "      <td>None</td>\n",
              "      <td>None</td>\n",
              "      <td>None</td>\n",
              "      <td>None</td>\n",
              "      <td>None</td>\n",
              "      <td>None</td>\n",
              "      <td>None</td>\n",
              "      <td>None</td>\n",
              "      <td>None</td>\n",
              "      <td>None</td>\n",
              "    </tr>\n",
              "    <tr>\n",
              "      <th>4</th>\n",
              "      <td>B42</td>\n",
              "      <td>None</td>\n",
              "      <td>None</td>\n",
              "      <td>None</td>\n",
              "      <td>None</td>\n",
              "      <td>None</td>\n",
              "      <td>None</td>\n",
              "      <td>None</td>\n",
              "      <td>None</td>\n",
              "      <td>None</td>\n",
              "      <td>None</td>\n",
              "      <td>None</td>\n",
              "      <td>None</td>\n",
              "      <td>None</td>\n",
              "      <td>None</td>\n",
              "      <td>None</td>\n",
              "      <td>None</td>\n",
              "      <td>None</td>\n",
              "      <td>None</td>\n",
              "      <td>None</td>\n",
              "      <td>None</td>\n",
              "      <td>None</td>\n",
              "      <td>None</td>\n",
              "      <td>None</td>\n",
              "      <td>None</td>\n",
              "      <td>None</td>\n",
              "      <td>None</td>\n",
              "      <td>None</td>\n",
              "      <td>None</td>\n",
              "      <td>None</td>\n",
              "      <td>None</td>\n",
              "      <td>None</td>\n",
              "      <td>None</td>\n",
              "      <td>None</td>\n",
              "      <td>None</td>\n",
              "      <td>None</td>\n",
              "      <td>None</td>\n",
              "      <td>None</td>\n",
              "    </tr>\n",
              "  </tbody>\n",
              "</table>\n",
              "</div>"
            ],
            "text/plain": [
              "  code_0 code_1 code_2 code_3 code_4  ... code_33 code_34 code_35 code_36 code_37\n",
              "0    A16   None   None   None   None  ...    None    None    None    None    None\n",
              "1    P12    Q60    Y10    Z73    C54  ...    None    None    None    None    None\n",
              "2    D60   None   None   None   None  ...    None    None    None    None    None\n",
              "3    A80    G92    W85    E53   None  ...    None    None    None    None    None\n",
              "4    B42   None   None   None   None  ...    None    None    None    None    None\n",
              "\n",
              "[5 rows x 38 columns]"
            ]
          },
          "metadata": {
            "tags": []
          },
          "execution_count": 4
        }
      ]
    },
    {
      "cell_type": "code",
      "metadata": {
        "colab_type": "code",
        "id": "cNvmpIcWRbK_",
        "colab": {}
      },
      "source": [
        "# concatenate content from many columns to one string\n",
        "many_df = many_df[code_columns[0]].str.cat(many_df[code_columns[1:]], sep=',', na_rep='').str.rstrip(',')\n",
        "many_df.head()"
      ],
      "execution_count": 0,
      "outputs": []
    },
    {
      "cell_type": "markdown",
      "metadata": {
        "colab_type": "text",
        "id": "wjfGsotCHa_w"
      },
      "source": [
        "### Here are some approches we might try\n",
        "1. *cat': Using pandas own *.str.cat()* method (starting with a single column we can use this to concatenate it and the other columns)\n",
        "2. *sum*: Interestingly *sum()* also works on text - and combined with groupby we could use this to \"sum\" all the diagnoses for an event (sum can take an axis keyword i.e. we can sum horizontally by writing *sum(axis=1)*\n",
        "3. *pd.Series()*: We make a single series of all the columns\n",
        "4. *apply*: Use *apply()* and *set*, or *apply()* and a *lambda* function that merges the codes\n",
        "5. *list comprehensions* Loop over the rows and make a string of codes in all columns\n",
        "\n",
        "In addition to the general approach highlighted by the keywords above, we also need to take care of a few details:\n",
        "* We have to make sure that all columns we merge contain strings and not floats, integers or other datatypes (If we are sure it already has the correct datatype. this step in unnecessary and we may speed up the process.)\n",
        "* We want to avoid listing missing values as a code, and in general we need an approach to handle missing values (skip or delete)\n",
        "* We may need to do some munging to make sure that there are no space around the code, not too many commas and so on\n",
        "\n",
        "The code, and the time it takes to create a merged column, is presented below:\n"
      ]
    },
    {
      "cell_type": "code",
      "metadata": {
        "colab_type": "code",
        "id": "BiojgupSckIX",
        "colab": {}
      },
      "source": [
        "columns = df.columns"
      ],
      "execution_count": 0,
      "outputs": []
    },
    {
      "cell_type": "markdown",
      "metadata": {
        "colab_type": "text",
        "id": "XZXzD40rcl56"
      },
      "source": [
        "Using *str.cat()* to concatenate the first and all the other columns "
      ]
    },
    {
      "cell_type": "code",
      "metadata": {
        "colab_type": "code",
        "id": "zUiGbxweIO6C",
        "colab": {}
      },
      "source": [
        "def merge(df):\n",
        "  columns = list(df.columns)\n",
        "  comma_separated_columns=[]\n",
        "  df['comma']=','\n",
        "  for col in columns:\n",
        "    comma_separated_columns.append(col)\n",
        "    comma_separated_columns.append('comma')\n",
        "  seconds={}\n",
        "\n",
        "  strcat = %timeit -o df[columns[0]].str.cat(df[columns[1:]], sep=',', na_rep='').str.rstrip(',')\n",
        "  summing = %timeit -o df[comma_separated_columns].fillna('').sum(axis=1)\n",
        "  series = %timeit -o pd.Series(df[columns].fillna('').values.tolist()).str.join(sep=',').str.rstrip(',')\n",
        "  apply = %timeit -o df[columns].fillna('').apply(','.join, axis=1).str.rstrip(',')\n",
        "  list_comprehension = %timeit -o [','.join(row).rstrip(',') for row in df[columns].fillna('').values]\n",
        "    \n",
        "  seconds['strcat'] = strcat\n",
        "  seconds['summing'] = summing\n",
        "  seconds['series'] =  series\n",
        "  seconds['apply'] = apply\n",
        "  seconds['list_comprehension'] = list_comprehension\n",
        "\n",
        "  return seconds"
      ],
      "execution_count": 0,
      "outputs": []
    },
    {
      "cell_type": "markdown",
      "metadata": {
        "colab_type": "text",
        "id": "oHBsJ37if-EC"
      },
      "source": [
        "Next we use the merge function on dataframes with different sizes and record the time it takes:"
      ]
    },
    {
      "cell_type": "code",
      "metadata": {
        "colab_type": "code",
        "id": "Nz0bQNH4PeiI",
        "outputId": "1cea11b3-83e0-4168-f483-50898e08a70c",
        "colab": {
          "base_uri": "https://localhost:8080/",
          "height": 351
        }
      },
      "source": [
        "speed_for_size={}\n",
        "for n in range(10000,100000,30000):\n",
        "  print(n)\n",
        "  df = make_data(n=n)\n",
        "  df.columns=['code']\n",
        "  df = df['code'].str.split(',', expand=True)\n",
        "  df = df.add_prefix('code_')\n",
        "  df=df.fillna(np.nan)\n",
        "  columns=df.columns\n",
        "  comma_separated_columns=[]\n",
        "  df['comma']=','\n",
        "  df=df.astype(str)\n",
        "  for col in columns:\n",
        "    comma_separated_columns.append(col)\n",
        "    comma_separated_columns.append('comma')\n",
        "  speed = merge(df=df)\n",
        "  best_speed= {name: results.best for name, results in speed.items()}\n",
        "  speed_for_size[n] = pd.Series(best_speed)"
      ],
      "execution_count": 0,
      "outputs": [
        {
          "output_type": "stream",
          "text": [
            "10000\n",
            "10 loops, best of 3: 50.7 ms per loop\n",
            "10 loops, best of 3: 111 ms per loop\n",
            "10 loops, best of 3: 53.4 ms per loop\n",
            "1 loop, best of 3: 209 ms per loop\n",
            "10 loops, best of 3: 52.3 ms per loop\n",
            "40000\n",
            "1 loop, best of 3: 246 ms per loop\n",
            "1 loop, best of 3: 547 ms per loop\n",
            "1 loop, best of 3: 303 ms per loop\n",
            "1 loop, best of 3: 884 ms per loop\n",
            "1 loop, best of 3: 242 ms per loop\n",
            "70000\n",
            "1 loop, best of 3: 522 ms per loop\n",
            "1 loop, best of 3: 1.1 s per loop\n",
            "1 loop, best of 3: 588 ms per loop\n",
            "1 loop, best of 3: 1.61 s per loop\n",
            "1 loop, best of 3: 452 ms per loop\n"
          ],
          "name": "stdout"
        }
      ]
    },
    {
      "cell_type": "code",
      "metadata": {
        "colab_type": "code",
        "id": "oNyxyjqQYF2W",
        "outputId": "92a29c56-6678-424a-9eb4-e0a08317e3f6",
        "colab": {
          "base_uri": "https://localhost:8080/",
          "height": 352
        }
      },
      "source": [
        "speed_df = pd.DataFrame(speed_for_size).T\n",
        "speed_df.plot();"
      ],
      "execution_count": 0,
      "outputs": [
        {
          "output_type": "display_data",
          "data": {
            "image/svg+xml": "<?xml version=\"1.0\" encoding=\"utf-8\" standalone=\"no\"?>\n<!DOCTYPE svg PUBLIC \"-//W3C//DTD SVG 1.1//EN\"\n  \"http://www.w3.org/Graphics/SVG/1.1/DTD/svg11.dtd\">\n<!-- Created with matplotlib (https://matplotlib.org/) -->\n<svg height=\"248.518125pt\" version=\"1.1\" viewBox=\"0 0 397.553125 248.518125\" width=\"397.553125pt\" xmlns=\"http://www.w3.org/2000/svg\" xmlns:xlink=\"http://www.w3.org/1999/xlink\">\n <defs>\n  <style type=\"text/css\">\n*{stroke-linecap:butt;stroke-linejoin:round;}\n  </style>\n </defs>\n <g id=\"figure_1\">\n  <g id=\"patch_1\">\n   <path d=\"M 0 248.518125 \nL 397.553125 248.518125 \nL 397.553125 0 \nL 0 0 \nz\n\" style=\"fill:none;\"/>\n  </g>\n  <g id=\"axes_1\">\n   <g id=\"patch_2\">\n    <path d=\"M 36.465625 224.64 \nL 371.265625 224.64 \nL 371.265625 7.2 \nL 36.465625 7.2 \nz\n\" style=\"fill:#ffffff;\"/>\n   </g>\n   <g id=\"matplotlib.axis_1\">\n    <g id=\"xtick_1\">\n     <g id=\"line2d_1\">\n      <defs>\n       <path d=\"M 0 0 \nL 0 3.5 \n\" id=\"m61455798d6\" style=\"stroke:#000000;stroke-width:0.8;\"/>\n      </defs>\n      <g>\n       <use style=\"stroke:#000000;stroke-width:0.8;\" x=\"36.465625\" xlink:href=\"#m61455798d6\" y=\"224.64\"/>\n      </g>\n     </g>\n     <g id=\"text_1\">\n      <!-- 100000 -->\n      <defs>\n       <path d=\"M 12.40625 8.296875 \nL 28.515625 8.296875 \nL 28.515625 63.921875 \nL 10.984375 60.40625 \nL 10.984375 69.390625 \nL 28.421875 72.90625 \nL 38.28125 72.90625 \nL 38.28125 8.296875 \nL 54.390625 8.296875 \nL 54.390625 0 \nL 12.40625 0 \nz\n\" id=\"DejaVuSans-49\"/>\n       <path d=\"M 31.78125 66.40625 \nQ 24.171875 66.40625 20.328125 58.90625 \nQ 16.5 51.421875 16.5 36.375 \nQ 16.5 21.390625 20.328125 13.890625 \nQ 24.171875 6.390625 31.78125 6.390625 \nQ 39.453125 6.390625 43.28125 13.890625 \nQ 47.125 21.390625 47.125 36.375 \nQ 47.125 51.421875 43.28125 58.90625 \nQ 39.453125 66.40625 31.78125 66.40625 \nz\nM 31.78125 74.21875 \nQ 44.046875 74.21875 50.515625 64.515625 \nQ 56.984375 54.828125 56.984375 36.375 \nQ 56.984375 17.96875 50.515625 8.265625 \nQ 44.046875 -1.421875 31.78125 -1.421875 \nQ 19.53125 -1.421875 13.0625 8.265625 \nQ 6.59375 17.96875 6.59375 36.375 \nQ 6.59375 54.828125 13.0625 64.515625 \nQ 19.53125 74.21875 31.78125 74.21875 \nz\n\" id=\"DejaVuSans-48\"/>\n      </defs>\n      <g transform=\"translate(17.378125 239.238437)scale(0.1 -0.1)\">\n       <use xlink:href=\"#DejaVuSans-49\"/>\n       <use x=\"63.623047\" xlink:href=\"#DejaVuSans-48\"/>\n       <use x=\"127.246094\" xlink:href=\"#DejaVuSans-48\"/>\n       <use x=\"190.869141\" xlink:href=\"#DejaVuSans-48\"/>\n       <use x=\"254.492188\" xlink:href=\"#DejaVuSans-48\"/>\n       <use x=\"318.115234\" xlink:href=\"#DejaVuSans-48\"/>\n      </g>\n     </g>\n    </g>\n    <g id=\"xtick_2\">\n     <g id=\"line2d_2\">\n      <g>\n       <use style=\"stroke:#000000;stroke-width:0.8;\" x=\"92.265625\" xlink:href=\"#m61455798d6\" y=\"224.64\"/>\n      </g>\n     </g>\n     <g id=\"text_2\">\n      <!-- 200000 -->\n      <defs>\n       <path d=\"M 19.1875 8.296875 \nL 53.609375 8.296875 \nL 53.609375 0 \nL 7.328125 0 \nL 7.328125 8.296875 \nQ 12.9375 14.109375 22.625 23.890625 \nQ 32.328125 33.6875 34.8125 36.53125 \nQ 39.546875 41.84375 41.421875 45.53125 \nQ 43.3125 49.21875 43.3125 52.78125 \nQ 43.3125 58.59375 39.234375 62.25 \nQ 35.15625 65.921875 28.609375 65.921875 \nQ 23.96875 65.921875 18.8125 64.3125 \nQ 13.671875 62.703125 7.8125 59.421875 \nL 7.8125 69.390625 \nQ 13.765625 71.78125 18.9375 73 \nQ 24.125 74.21875 28.421875 74.21875 \nQ 39.75 74.21875 46.484375 68.546875 \nQ 53.21875 62.890625 53.21875 53.421875 \nQ 53.21875 48.921875 51.53125 44.890625 \nQ 49.859375 40.875 45.40625 35.40625 \nQ 44.1875 33.984375 37.640625 27.21875 \nQ 31.109375 20.453125 19.1875 8.296875 \nz\n\" id=\"DejaVuSans-50\"/>\n      </defs>\n      <g transform=\"translate(73.178125 239.238437)scale(0.1 -0.1)\">\n       <use xlink:href=\"#DejaVuSans-50\"/>\n       <use x=\"63.623047\" xlink:href=\"#DejaVuSans-48\"/>\n       <use x=\"127.246094\" xlink:href=\"#DejaVuSans-48\"/>\n       <use x=\"190.869141\" xlink:href=\"#DejaVuSans-48\"/>\n       <use x=\"254.492188\" xlink:href=\"#DejaVuSans-48\"/>\n       <use x=\"318.115234\" xlink:href=\"#DejaVuSans-48\"/>\n      </g>\n     </g>\n    </g>\n    <g id=\"xtick_3\">\n     <g id=\"line2d_3\">\n      <g>\n       <use style=\"stroke:#000000;stroke-width:0.8;\" x=\"148.065625\" xlink:href=\"#m61455798d6\" y=\"224.64\"/>\n      </g>\n     </g>\n     <g id=\"text_3\">\n      <!-- 300000 -->\n      <defs>\n       <path d=\"M 40.578125 39.3125 \nQ 47.65625 37.796875 51.625 33 \nQ 55.609375 28.21875 55.609375 21.1875 \nQ 55.609375 10.40625 48.1875 4.484375 \nQ 40.765625 -1.421875 27.09375 -1.421875 \nQ 22.515625 -1.421875 17.65625 -0.515625 \nQ 12.796875 0.390625 7.625 2.203125 \nL 7.625 11.71875 \nQ 11.71875 9.328125 16.59375 8.109375 \nQ 21.484375 6.890625 26.8125 6.890625 \nQ 36.078125 6.890625 40.9375 10.546875 \nQ 45.796875 14.203125 45.796875 21.1875 \nQ 45.796875 27.640625 41.28125 31.265625 \nQ 36.765625 34.90625 28.71875 34.90625 \nL 20.21875 34.90625 \nL 20.21875 43.015625 \nL 29.109375 43.015625 \nQ 36.375 43.015625 40.234375 45.921875 \nQ 44.09375 48.828125 44.09375 54.296875 \nQ 44.09375 59.90625 40.109375 62.90625 \nQ 36.140625 65.921875 28.71875 65.921875 \nQ 24.65625 65.921875 20.015625 65.03125 \nQ 15.375 64.15625 9.8125 62.3125 \nL 9.8125 71.09375 \nQ 15.4375 72.65625 20.34375 73.4375 \nQ 25.25 74.21875 29.59375 74.21875 \nQ 40.828125 74.21875 47.359375 69.109375 \nQ 53.90625 64.015625 53.90625 55.328125 \nQ 53.90625 49.265625 50.4375 45.09375 \nQ 46.96875 40.921875 40.578125 39.3125 \nz\n\" id=\"DejaVuSans-51\"/>\n      </defs>\n      <g transform=\"translate(128.978125 239.238437)scale(0.1 -0.1)\">\n       <use xlink:href=\"#DejaVuSans-51\"/>\n       <use x=\"63.623047\" xlink:href=\"#DejaVuSans-48\"/>\n       <use x=\"127.246094\" xlink:href=\"#DejaVuSans-48\"/>\n       <use x=\"190.869141\" xlink:href=\"#DejaVuSans-48\"/>\n       <use x=\"254.492188\" xlink:href=\"#DejaVuSans-48\"/>\n       <use x=\"318.115234\" xlink:href=\"#DejaVuSans-48\"/>\n      </g>\n     </g>\n    </g>\n    <g id=\"xtick_4\">\n     <g id=\"line2d_4\">\n      <g>\n       <use style=\"stroke:#000000;stroke-width:0.8;\" x=\"203.865625\" xlink:href=\"#m61455798d6\" y=\"224.64\"/>\n      </g>\n     </g>\n     <g id=\"text_4\">\n      <!-- 400000 -->\n      <defs>\n       <path d=\"M 37.796875 64.3125 \nL 12.890625 25.390625 \nL 37.796875 25.390625 \nz\nM 35.203125 72.90625 \nL 47.609375 72.90625 \nL 47.609375 25.390625 \nL 58.015625 25.390625 \nL 58.015625 17.1875 \nL 47.609375 17.1875 \nL 47.609375 0 \nL 37.796875 0 \nL 37.796875 17.1875 \nL 4.890625 17.1875 \nL 4.890625 26.703125 \nz\n\" id=\"DejaVuSans-52\"/>\n      </defs>\n      <g transform=\"translate(184.778125 239.238437)scale(0.1 -0.1)\">\n       <use xlink:href=\"#DejaVuSans-52\"/>\n       <use x=\"63.623047\" xlink:href=\"#DejaVuSans-48\"/>\n       <use x=\"127.246094\" xlink:href=\"#DejaVuSans-48\"/>\n       <use x=\"190.869141\" xlink:href=\"#DejaVuSans-48\"/>\n       <use x=\"254.492188\" xlink:href=\"#DejaVuSans-48\"/>\n       <use x=\"318.115234\" xlink:href=\"#DejaVuSans-48\"/>\n      </g>\n     </g>\n    </g>\n    <g id=\"xtick_5\">\n     <g id=\"line2d_5\">\n      <g>\n       <use style=\"stroke:#000000;stroke-width:0.8;\" x=\"259.665625\" xlink:href=\"#m61455798d6\" y=\"224.64\"/>\n      </g>\n     </g>\n     <g id=\"text_5\">\n      <!-- 500000 -->\n      <defs>\n       <path d=\"M 10.796875 72.90625 \nL 49.515625 72.90625 \nL 49.515625 64.59375 \nL 19.828125 64.59375 \nL 19.828125 46.734375 \nQ 21.96875 47.46875 24.109375 47.828125 \nQ 26.265625 48.1875 28.421875 48.1875 \nQ 40.625 48.1875 47.75 41.5 \nQ 54.890625 34.8125 54.890625 23.390625 \nQ 54.890625 11.625 47.5625 5.09375 \nQ 40.234375 -1.421875 26.90625 -1.421875 \nQ 22.3125 -1.421875 17.546875 -0.640625 \nQ 12.796875 0.140625 7.71875 1.703125 \nL 7.71875 11.625 \nQ 12.109375 9.234375 16.796875 8.0625 \nQ 21.484375 6.890625 26.703125 6.890625 \nQ 35.15625 6.890625 40.078125 11.328125 \nQ 45.015625 15.765625 45.015625 23.390625 \nQ 45.015625 31 40.078125 35.4375 \nQ 35.15625 39.890625 26.703125 39.890625 \nQ 22.75 39.890625 18.8125 39.015625 \nQ 14.890625 38.140625 10.796875 36.28125 \nz\n\" id=\"DejaVuSans-53\"/>\n      </defs>\n      <g transform=\"translate(240.578125 239.238437)scale(0.1 -0.1)\">\n       <use xlink:href=\"#DejaVuSans-53\"/>\n       <use x=\"63.623047\" xlink:href=\"#DejaVuSans-48\"/>\n       <use x=\"127.246094\" xlink:href=\"#DejaVuSans-48\"/>\n       <use x=\"190.869141\" xlink:href=\"#DejaVuSans-48\"/>\n       <use x=\"254.492188\" xlink:href=\"#DejaVuSans-48\"/>\n       <use x=\"318.115234\" xlink:href=\"#DejaVuSans-48\"/>\n      </g>\n     </g>\n    </g>\n    <g id=\"xtick_6\">\n     <g id=\"line2d_6\">\n      <g>\n       <use style=\"stroke:#000000;stroke-width:0.8;\" x=\"315.465625\" xlink:href=\"#m61455798d6\" y=\"224.64\"/>\n      </g>\n     </g>\n     <g id=\"text_6\">\n      <!-- 600000 -->\n      <defs>\n       <path d=\"M 33.015625 40.375 \nQ 26.375 40.375 22.484375 35.828125 \nQ 18.609375 31.296875 18.609375 23.390625 \nQ 18.609375 15.53125 22.484375 10.953125 \nQ 26.375 6.390625 33.015625 6.390625 \nQ 39.65625 6.390625 43.53125 10.953125 \nQ 47.40625 15.53125 47.40625 23.390625 \nQ 47.40625 31.296875 43.53125 35.828125 \nQ 39.65625 40.375 33.015625 40.375 \nz\nM 52.59375 71.296875 \nL 52.59375 62.3125 \nQ 48.875 64.0625 45.09375 64.984375 \nQ 41.3125 65.921875 37.59375 65.921875 \nQ 27.828125 65.921875 22.671875 59.328125 \nQ 17.53125 52.734375 16.796875 39.40625 \nQ 19.671875 43.65625 24.015625 45.921875 \nQ 28.375 48.1875 33.59375 48.1875 \nQ 44.578125 48.1875 50.953125 41.515625 \nQ 57.328125 34.859375 57.328125 23.390625 \nQ 57.328125 12.15625 50.6875 5.359375 \nQ 44.046875 -1.421875 33.015625 -1.421875 \nQ 20.359375 -1.421875 13.671875 8.265625 \nQ 6.984375 17.96875 6.984375 36.375 \nQ 6.984375 53.65625 15.1875 63.9375 \nQ 23.390625 74.21875 37.203125 74.21875 \nQ 40.921875 74.21875 44.703125 73.484375 \nQ 48.484375 72.75 52.59375 71.296875 \nz\n\" id=\"DejaVuSans-54\"/>\n      </defs>\n      <g transform=\"translate(296.378125 239.238437)scale(0.1 -0.1)\">\n       <use xlink:href=\"#DejaVuSans-54\"/>\n       <use x=\"63.623047\" xlink:href=\"#DejaVuSans-48\"/>\n       <use x=\"127.246094\" xlink:href=\"#DejaVuSans-48\"/>\n       <use x=\"190.869141\" xlink:href=\"#DejaVuSans-48\"/>\n       <use x=\"254.492188\" xlink:href=\"#DejaVuSans-48\"/>\n       <use x=\"318.115234\" xlink:href=\"#DejaVuSans-48\"/>\n      </g>\n     </g>\n    </g>\n    <g id=\"xtick_7\">\n     <g id=\"line2d_7\">\n      <g>\n       <use style=\"stroke:#000000;stroke-width:0.8;\" x=\"371.265625\" xlink:href=\"#m61455798d6\" y=\"224.64\"/>\n      </g>\n     </g>\n     <g id=\"text_7\">\n      <!-- 700000 -->\n      <defs>\n       <path d=\"M 8.203125 72.90625 \nL 55.078125 72.90625 \nL 55.078125 68.703125 \nL 28.609375 0 \nL 18.3125 0 \nL 43.21875 64.59375 \nL 8.203125 64.59375 \nz\n\" id=\"DejaVuSans-55\"/>\n      </defs>\n      <g transform=\"translate(352.178125 239.238437)scale(0.1 -0.1)\">\n       <use xlink:href=\"#DejaVuSans-55\"/>\n       <use x=\"63.623047\" xlink:href=\"#DejaVuSans-48\"/>\n       <use x=\"127.246094\" xlink:href=\"#DejaVuSans-48\"/>\n       <use x=\"190.869141\" xlink:href=\"#DejaVuSans-48\"/>\n       <use x=\"254.492188\" xlink:href=\"#DejaVuSans-48\"/>\n       <use x=\"318.115234\" xlink:href=\"#DejaVuSans-48\"/>\n      </g>\n     </g>\n    </g>\n   </g>\n   <g id=\"matplotlib.axis_2\">\n    <g id=\"ytick_1\">\n     <g id=\"line2d_8\">\n      <defs>\n       <path d=\"M 0 0 \nL -3.5 0 \n\" id=\"m898d8e33dc\" style=\"stroke:#000000;stroke-width:0.8;\"/>\n      </defs>\n      <g>\n       <use style=\"stroke:#000000;stroke-width:0.8;\" x=\"36.465625\" xlink:href=\"#m898d8e33dc\" y=\"218.996488\"/>\n      </g>\n     </g>\n     <g id=\"text_8\">\n      <!-- 0.0 -->\n      <defs>\n       <path d=\"M 10.6875 12.40625 \nL 21 12.40625 \nL 21 0 \nL 10.6875 0 \nz\n\" id=\"DejaVuSans-46\"/>\n      </defs>\n      <g transform=\"translate(13.5625 222.795706)scale(0.1 -0.1)\">\n       <use xlink:href=\"#DejaVuSans-48\"/>\n       <use x=\"63.623047\" xlink:href=\"#DejaVuSans-46\"/>\n       <use x=\"95.410156\" xlink:href=\"#DejaVuSans-48\"/>\n      </g>\n     </g>\n    </g>\n    <g id=\"ytick_2\">\n     <g id=\"line2d_9\">\n      <g>\n       <use style=\"stroke:#000000;stroke-width:0.8;\" x=\"36.465625\" xlink:href=\"#m898d8e33dc\" y=\"190.902688\"/>\n      </g>\n     </g>\n     <g id=\"text_9\">\n      <!-- 2.5 -->\n      <g transform=\"translate(13.5625 194.701907)scale(0.1 -0.1)\">\n       <use xlink:href=\"#DejaVuSans-50\"/>\n       <use x=\"63.623047\" xlink:href=\"#DejaVuSans-46\"/>\n       <use x=\"95.410156\" xlink:href=\"#DejaVuSans-53\"/>\n      </g>\n     </g>\n    </g>\n    <g id=\"ytick_3\">\n     <g id=\"line2d_10\">\n      <g>\n       <use style=\"stroke:#000000;stroke-width:0.8;\" x=\"36.465625\" xlink:href=\"#m898d8e33dc\" y=\"162.808889\"/>\n      </g>\n     </g>\n     <g id=\"text_10\">\n      <!-- 5.0 -->\n      <g transform=\"translate(13.5625 166.608107)scale(0.1 -0.1)\">\n       <use xlink:href=\"#DejaVuSans-53\"/>\n       <use x=\"63.623047\" xlink:href=\"#DejaVuSans-46\"/>\n       <use x=\"95.410156\" xlink:href=\"#DejaVuSans-48\"/>\n      </g>\n     </g>\n    </g>\n    <g id=\"ytick_4\">\n     <g id=\"line2d_11\">\n      <g>\n       <use style=\"stroke:#000000;stroke-width:0.8;\" x=\"36.465625\" xlink:href=\"#m898d8e33dc\" y=\"134.715089\"/>\n      </g>\n     </g>\n     <g id=\"text_11\">\n      <!-- 7.5 -->\n      <g transform=\"translate(13.5625 138.514308)scale(0.1 -0.1)\">\n       <use xlink:href=\"#DejaVuSans-55\"/>\n       <use x=\"63.623047\" xlink:href=\"#DejaVuSans-46\"/>\n       <use x=\"95.410156\" xlink:href=\"#DejaVuSans-53\"/>\n      </g>\n     </g>\n    </g>\n    <g id=\"ytick_5\">\n     <g id=\"line2d_12\">\n      <g>\n       <use style=\"stroke:#000000;stroke-width:0.8;\" x=\"36.465625\" xlink:href=\"#m898d8e33dc\" y=\"106.62129\"/>\n      </g>\n     </g>\n     <g id=\"text_12\">\n      <!-- 10.0 -->\n      <g transform=\"translate(7.2 110.420508)scale(0.1 -0.1)\">\n       <use xlink:href=\"#DejaVuSans-49\"/>\n       <use x=\"63.623047\" xlink:href=\"#DejaVuSans-48\"/>\n       <use x=\"127.246094\" xlink:href=\"#DejaVuSans-46\"/>\n       <use x=\"159.033203\" xlink:href=\"#DejaVuSans-48\"/>\n      </g>\n     </g>\n    </g>\n    <g id=\"ytick_6\">\n     <g id=\"line2d_13\">\n      <g>\n       <use style=\"stroke:#000000;stroke-width:0.8;\" x=\"36.465625\" xlink:href=\"#m898d8e33dc\" y=\"78.52749\"/>\n      </g>\n     </g>\n     <g id=\"text_13\">\n      <!-- 12.5 -->\n      <g transform=\"translate(7.2 82.326709)scale(0.1 -0.1)\">\n       <use xlink:href=\"#DejaVuSans-49\"/>\n       <use x=\"63.623047\" xlink:href=\"#DejaVuSans-50\"/>\n       <use x=\"127.246094\" xlink:href=\"#DejaVuSans-46\"/>\n       <use x=\"159.033203\" xlink:href=\"#DejaVuSans-53\"/>\n      </g>\n     </g>\n    </g>\n    <g id=\"ytick_7\">\n     <g id=\"line2d_14\">\n      <g>\n       <use style=\"stroke:#000000;stroke-width:0.8;\" x=\"36.465625\" xlink:href=\"#m898d8e33dc\" y=\"50.433691\"/>\n      </g>\n     </g>\n     <g id=\"text_14\">\n      <!-- 15.0 -->\n      <g transform=\"translate(7.2 54.232909)scale(0.1 -0.1)\">\n       <use xlink:href=\"#DejaVuSans-49\"/>\n       <use x=\"63.623047\" xlink:href=\"#DejaVuSans-53\"/>\n       <use x=\"127.246094\" xlink:href=\"#DejaVuSans-46\"/>\n       <use x=\"159.033203\" xlink:href=\"#DejaVuSans-48\"/>\n      </g>\n     </g>\n    </g>\n    <g id=\"ytick_8\">\n     <g id=\"line2d_15\">\n      <g>\n       <use style=\"stroke:#000000;stroke-width:0.8;\" x=\"36.465625\" xlink:href=\"#m898d8e33dc\" y=\"22.339891\"/>\n      </g>\n     </g>\n     <g id=\"text_15\">\n      <!-- 17.5 -->\n      <g transform=\"translate(7.2 26.13911)scale(0.1 -0.1)\">\n       <use xlink:href=\"#DejaVuSans-49\"/>\n       <use x=\"63.623047\" xlink:href=\"#DejaVuSans-55\"/>\n       <use x=\"127.246094\" xlink:href=\"#DejaVuSans-46\"/>\n       <use x=\"159.033203\" xlink:href=\"#DejaVuSans-53\"/>\n      </g>\n     </g>\n    </g>\n   </g>\n   <g id=\"line2d_16\">\n    <path clip-path=\"url(#p730d867378)\" d=\"M 36.465625 210.287338 \nL 203.865625 169.393107 \nL 371.265625 121.518925 \n\" style=\"fill:none;stroke:#1f77b4;stroke-linecap:square;stroke-width:1.5;\"/>\n   </g>\n   <g id=\"line2d_17\">\n    <path clip-path=\"url(#p730d867378)\" d=\"M 36.465625 206.997993 \nL 203.865625 159.484822 \nL 371.265625 108.190147 \n\" style=\"fill:none;stroke:#ff7f0e;stroke-linecap:square;stroke-width:1.5;\"/>\n   </g>\n   <g id=\"line2d_18\">\n    <path clip-path=\"url(#p730d867378)\" d=\"M 36.465625 209.56296 \nL 203.865625 175.023938 \nL 371.265625 138.73008 \n\" style=\"fill:none;stroke:#2ca02c;stroke-linecap:square;stroke-width:1.5;\"/>\n   </g>\n   <g id=\"line2d_19\">\n    <path clip-path=\"url(#p730d867378)\" d=\"M 36.465625 193.519571 \nL 203.865625 105.888979 \nL 371.265625 17.083636 \n\" style=\"fill:none;stroke:#d62728;stroke-linecap:square;stroke-width:1.5;\"/>\n   </g>\n   <g id=\"line2d_20\">\n    <path clip-path=\"url(#p730d867378)\" d=\"M 36.465625 214.756364 \nL 203.865625 199.90606 \nL 371.265625 184.059101 \n\" style=\"fill:none;stroke:#9467bd;stroke-linecap:square;stroke-width:1.5;\"/>\n   </g>\n   <g id=\"patch_3\">\n    <path d=\"M 36.465625 224.64 \nL 36.465625 7.2 \n\" style=\"fill:none;stroke:#000000;stroke-linecap:square;stroke-linejoin:miter;stroke-width:0.8;\"/>\n   </g>\n   <g id=\"patch_4\">\n    <path d=\"M 371.265625 224.64 \nL 371.265625 7.2 \n\" style=\"fill:none;stroke:#000000;stroke-linecap:square;stroke-linejoin:miter;stroke-width:0.8;\"/>\n   </g>\n   <g id=\"patch_5\">\n    <path d=\"M 36.465625 224.64 \nL 371.265625 224.64 \n\" style=\"fill:none;stroke:#000000;stroke-linecap:square;stroke-linejoin:miter;stroke-width:0.8;\"/>\n   </g>\n   <g id=\"patch_6\">\n    <path d=\"M 36.465625 7.2 \nL 371.265625 7.2 \n\" style=\"fill:none;stroke:#000000;stroke-linecap:square;stroke-linejoin:miter;stroke-width:0.8;\"/>\n   </g>\n   <g id=\"legend_1\">\n    <g id=\"patch_7\">\n     <path d=\"M 43.465625 88.86875 \nL 172.390625 88.86875 \nQ 174.390625 88.86875 174.390625 86.86875 \nL 174.390625 14.2 \nQ 174.390625 12.2 172.390625 12.2 \nL 43.465625 12.2 \nQ 41.465625 12.2 41.465625 14.2 \nL 41.465625 86.86875 \nQ 41.465625 88.86875 43.465625 88.86875 \nz\n\" style=\"fill:#ffffff;opacity:0.8;stroke:#cccccc;stroke-linejoin:miter;\"/>\n    </g>\n    <g id=\"line2d_21\">\n     <path d=\"M 45.465625 20.298437 \nL 65.465625 20.298437 \n\" style=\"fill:none;stroke:#1f77b4;stroke-linecap:square;stroke-width:1.5;\"/>\n    </g>\n    <g id=\"line2d_22\"/>\n    <g id=\"text_16\">\n     <!-- strcat -->\n     <defs>\n      <path d=\"M 44.28125 53.078125 \nL 44.28125 44.578125 \nQ 40.484375 46.53125 36.375 47.5 \nQ 32.28125 48.484375 27.875 48.484375 \nQ 21.1875 48.484375 17.84375 46.4375 \nQ 14.5 44.390625 14.5 40.28125 \nQ 14.5 37.15625 16.890625 35.375 \nQ 19.28125 33.59375 26.515625 31.984375 \nL 29.59375 31.296875 \nQ 39.15625 29.25 43.1875 25.515625 \nQ 47.21875 21.78125 47.21875 15.09375 \nQ 47.21875 7.46875 41.1875 3.015625 \nQ 35.15625 -1.421875 24.609375 -1.421875 \nQ 20.21875 -1.421875 15.453125 -0.5625 \nQ 10.6875 0.296875 5.421875 2 \nL 5.421875 11.28125 \nQ 10.40625 8.6875 15.234375 7.390625 \nQ 20.0625 6.109375 24.8125 6.109375 \nQ 31.15625 6.109375 34.5625 8.28125 \nQ 37.984375 10.453125 37.984375 14.40625 \nQ 37.984375 18.0625 35.515625 20.015625 \nQ 33.0625 21.96875 24.703125 23.78125 \nL 21.578125 24.515625 \nQ 13.234375 26.265625 9.515625 29.90625 \nQ 5.8125 33.546875 5.8125 39.890625 \nQ 5.8125 47.609375 11.28125 51.796875 \nQ 16.75 56 26.8125 56 \nQ 31.78125 56 36.171875 55.265625 \nQ 40.578125 54.546875 44.28125 53.078125 \nz\n\" id=\"DejaVuSans-115\"/>\n      <path d=\"M 18.3125 70.21875 \nL 18.3125 54.6875 \nL 36.8125 54.6875 \nL 36.8125 47.703125 \nL 18.3125 47.703125 \nL 18.3125 18.015625 \nQ 18.3125 11.328125 20.140625 9.421875 \nQ 21.96875 7.515625 27.59375 7.515625 \nL 36.8125 7.515625 \nL 36.8125 0 \nL 27.59375 0 \nQ 17.1875 0 13.234375 3.875 \nQ 9.28125 7.765625 9.28125 18.015625 \nL 9.28125 47.703125 \nL 2.6875 47.703125 \nL 2.6875 54.6875 \nL 9.28125 54.6875 \nL 9.28125 70.21875 \nz\n\" id=\"DejaVuSans-116\"/>\n      <path d=\"M 41.109375 46.296875 \nQ 39.59375 47.171875 37.8125 47.578125 \nQ 36.03125 48 33.890625 48 \nQ 26.265625 48 22.1875 43.046875 \nQ 18.109375 38.09375 18.109375 28.8125 \nL 18.109375 0 \nL 9.078125 0 \nL 9.078125 54.6875 \nL 18.109375 54.6875 \nL 18.109375 46.1875 \nQ 20.953125 51.171875 25.484375 53.578125 \nQ 30.03125 56 36.53125 56 \nQ 37.453125 56 38.578125 55.875 \nQ 39.703125 55.765625 41.0625 55.515625 \nz\n\" id=\"DejaVuSans-114\"/>\n      <path d=\"M 48.78125 52.59375 \nL 48.78125 44.1875 \nQ 44.96875 46.296875 41.140625 47.34375 \nQ 37.3125 48.390625 33.40625 48.390625 \nQ 24.65625 48.390625 19.8125 42.84375 \nQ 14.984375 37.3125 14.984375 27.296875 \nQ 14.984375 17.28125 19.8125 11.734375 \nQ 24.65625 6.203125 33.40625 6.203125 \nQ 37.3125 6.203125 41.140625 7.25 \nQ 44.96875 8.296875 48.78125 10.40625 \nL 48.78125 2.09375 \nQ 45.015625 0.34375 40.984375 -0.53125 \nQ 36.96875 -1.421875 32.421875 -1.421875 \nQ 20.0625 -1.421875 12.78125 6.34375 \nQ 5.515625 14.109375 5.515625 27.296875 \nQ 5.515625 40.671875 12.859375 48.328125 \nQ 20.21875 56 33.015625 56 \nQ 37.15625 56 41.109375 55.140625 \nQ 45.0625 54.296875 48.78125 52.59375 \nz\n\" id=\"DejaVuSans-99\"/>\n      <path d=\"M 34.28125 27.484375 \nQ 23.390625 27.484375 19.1875 25 \nQ 14.984375 22.515625 14.984375 16.5 \nQ 14.984375 11.71875 18.140625 8.90625 \nQ 21.296875 6.109375 26.703125 6.109375 \nQ 34.1875 6.109375 38.703125 11.40625 \nQ 43.21875 16.703125 43.21875 25.484375 \nL 43.21875 27.484375 \nz\nM 52.203125 31.203125 \nL 52.203125 0 \nL 43.21875 0 \nL 43.21875 8.296875 \nQ 40.140625 3.328125 35.546875 0.953125 \nQ 30.953125 -1.421875 24.3125 -1.421875 \nQ 15.921875 -1.421875 10.953125 3.296875 \nQ 6 8.015625 6 15.921875 \nQ 6 25.140625 12.171875 29.828125 \nQ 18.359375 34.515625 30.609375 34.515625 \nL 43.21875 34.515625 \nL 43.21875 35.40625 \nQ 43.21875 41.609375 39.140625 45 \nQ 35.0625 48.390625 27.6875 48.390625 \nQ 23 48.390625 18.546875 47.265625 \nQ 14.109375 46.140625 10.015625 43.890625 \nL 10.015625 52.203125 \nQ 14.9375 54.109375 19.578125 55.046875 \nQ 24.21875 56 28.609375 56 \nQ 40.484375 56 46.34375 49.84375 \nQ 52.203125 43.703125 52.203125 31.203125 \nz\n\" id=\"DejaVuSans-97\"/>\n     </defs>\n     <g transform=\"translate(73.465625 23.798437)scale(0.1 -0.1)\">\n      <use xlink:href=\"#DejaVuSans-115\"/>\n      <use x=\"52.099609\" xlink:href=\"#DejaVuSans-116\"/>\n      <use x=\"91.308594\" xlink:href=\"#DejaVuSans-114\"/>\n      <use x=\"132.390625\" xlink:href=\"#DejaVuSans-99\"/>\n      <use x=\"187.371094\" xlink:href=\"#DejaVuSans-97\"/>\n      <use x=\"248.650391\" xlink:href=\"#DejaVuSans-116\"/>\n     </g>\n    </g>\n    <g id=\"line2d_23\">\n     <path d=\"M 45.465625 34.976562 \nL 65.465625 34.976562 \n\" style=\"fill:none;stroke:#ff7f0e;stroke-linecap:square;stroke-width:1.5;\"/>\n    </g>\n    <g id=\"line2d_24\"/>\n    <g id=\"text_17\">\n     <!-- summing -->\n     <defs>\n      <path d=\"M 8.5 21.578125 \nL 8.5 54.6875 \nL 17.484375 54.6875 \nL 17.484375 21.921875 \nQ 17.484375 14.15625 20.5 10.265625 \nQ 23.53125 6.390625 29.59375 6.390625 \nQ 36.859375 6.390625 41.078125 11.03125 \nQ 45.3125 15.671875 45.3125 23.6875 \nL 45.3125 54.6875 \nL 54.296875 54.6875 \nL 54.296875 0 \nL 45.3125 0 \nL 45.3125 8.40625 \nQ 42.046875 3.421875 37.71875 1 \nQ 33.40625 -1.421875 27.6875 -1.421875 \nQ 18.265625 -1.421875 13.375 4.4375 \nQ 8.5 10.296875 8.5 21.578125 \nz\nM 31.109375 56 \nz\n\" id=\"DejaVuSans-117\"/>\n      <path d=\"M 52 44.1875 \nQ 55.375 50.25 60.0625 53.125 \nQ 64.75 56 71.09375 56 \nQ 79.640625 56 84.28125 50.015625 \nQ 88.921875 44.046875 88.921875 33.015625 \nL 88.921875 0 \nL 79.890625 0 \nL 79.890625 32.71875 \nQ 79.890625 40.578125 77.09375 44.375 \nQ 74.3125 48.1875 68.609375 48.1875 \nQ 61.625 48.1875 57.5625 43.546875 \nQ 53.515625 38.921875 53.515625 30.90625 \nL 53.515625 0 \nL 44.484375 0 \nL 44.484375 32.71875 \nQ 44.484375 40.625 41.703125 44.40625 \nQ 38.921875 48.1875 33.109375 48.1875 \nQ 26.21875 48.1875 22.15625 43.53125 \nQ 18.109375 38.875 18.109375 30.90625 \nL 18.109375 0 \nL 9.078125 0 \nL 9.078125 54.6875 \nL 18.109375 54.6875 \nL 18.109375 46.1875 \nQ 21.1875 51.21875 25.484375 53.609375 \nQ 29.78125 56 35.6875 56 \nQ 41.65625 56 45.828125 52.96875 \nQ 50 49.953125 52 44.1875 \nz\n\" id=\"DejaVuSans-109\"/>\n      <path d=\"M 9.421875 54.6875 \nL 18.40625 54.6875 \nL 18.40625 0 \nL 9.421875 0 \nz\nM 9.421875 75.984375 \nL 18.40625 75.984375 \nL 18.40625 64.59375 \nL 9.421875 64.59375 \nz\n\" id=\"DejaVuSans-105\"/>\n      <path d=\"M 54.890625 33.015625 \nL 54.890625 0 \nL 45.90625 0 \nL 45.90625 32.71875 \nQ 45.90625 40.484375 42.875 44.328125 \nQ 39.84375 48.1875 33.796875 48.1875 \nQ 26.515625 48.1875 22.3125 43.546875 \nQ 18.109375 38.921875 18.109375 30.90625 \nL 18.109375 0 \nL 9.078125 0 \nL 9.078125 54.6875 \nL 18.109375 54.6875 \nL 18.109375 46.1875 \nQ 21.34375 51.125 25.703125 53.5625 \nQ 30.078125 56 35.796875 56 \nQ 45.21875 56 50.046875 50.171875 \nQ 54.890625 44.34375 54.890625 33.015625 \nz\n\" id=\"DejaVuSans-110\"/>\n      <path d=\"M 45.40625 27.984375 \nQ 45.40625 37.75 41.375 43.109375 \nQ 37.359375 48.484375 30.078125 48.484375 \nQ 22.859375 48.484375 18.828125 43.109375 \nQ 14.796875 37.75 14.796875 27.984375 \nQ 14.796875 18.265625 18.828125 12.890625 \nQ 22.859375 7.515625 30.078125 7.515625 \nQ 37.359375 7.515625 41.375 12.890625 \nQ 45.40625 18.265625 45.40625 27.984375 \nz\nM 54.390625 6.78125 \nQ 54.390625 -7.171875 48.1875 -13.984375 \nQ 42 -20.796875 29.203125 -20.796875 \nQ 24.46875 -20.796875 20.265625 -20.09375 \nQ 16.0625 -19.390625 12.109375 -17.921875 \nL 12.109375 -9.1875 \nQ 16.0625 -11.328125 19.921875 -12.34375 \nQ 23.78125 -13.375 27.78125 -13.375 \nQ 36.625 -13.375 41.015625 -8.765625 \nQ 45.40625 -4.15625 45.40625 5.171875 \nL 45.40625 9.625 \nQ 42.625 4.78125 38.28125 2.390625 \nQ 33.9375 0 27.875 0 \nQ 17.828125 0 11.671875 7.65625 \nQ 5.515625 15.328125 5.515625 27.984375 \nQ 5.515625 40.671875 11.671875 48.328125 \nQ 17.828125 56 27.875 56 \nQ 33.9375 56 38.28125 53.609375 \nQ 42.625 51.21875 45.40625 46.390625 \nL 45.40625 54.6875 \nL 54.390625 54.6875 \nz\n\" id=\"DejaVuSans-103\"/>\n     </defs>\n     <g transform=\"translate(73.465625 38.476562)scale(0.1 -0.1)\">\n      <use xlink:href=\"#DejaVuSans-115\"/>\n      <use x=\"52.099609\" xlink:href=\"#DejaVuSans-117\"/>\n      <use x=\"115.478516\" xlink:href=\"#DejaVuSans-109\"/>\n      <use x=\"212.890625\" xlink:href=\"#DejaVuSans-109\"/>\n      <use x=\"310.302734\" xlink:href=\"#DejaVuSans-105\"/>\n      <use x=\"338.085938\" xlink:href=\"#DejaVuSans-110\"/>\n      <use x=\"401.464844\" xlink:href=\"#DejaVuSans-103\"/>\n     </g>\n    </g>\n    <g id=\"line2d_25\">\n     <path d=\"M 45.465625 49.654687 \nL 65.465625 49.654687 \n\" style=\"fill:none;stroke:#2ca02c;stroke-linecap:square;stroke-width:1.5;\"/>\n    </g>\n    <g id=\"line2d_26\"/>\n    <g id=\"text_18\">\n     <!-- series -->\n     <defs>\n      <path d=\"M 56.203125 29.59375 \nL 56.203125 25.203125 \nL 14.890625 25.203125 \nQ 15.484375 15.921875 20.484375 11.0625 \nQ 25.484375 6.203125 34.421875 6.203125 \nQ 39.59375 6.203125 44.453125 7.46875 \nQ 49.3125 8.734375 54.109375 11.28125 \nL 54.109375 2.78125 \nQ 49.265625 0.734375 44.1875 -0.34375 \nQ 39.109375 -1.421875 33.890625 -1.421875 \nQ 20.796875 -1.421875 13.15625 6.1875 \nQ 5.515625 13.8125 5.515625 26.8125 \nQ 5.515625 40.234375 12.765625 48.109375 \nQ 20.015625 56 32.328125 56 \nQ 43.359375 56 49.78125 48.890625 \nQ 56.203125 41.796875 56.203125 29.59375 \nz\nM 47.21875 32.234375 \nQ 47.125 39.59375 43.09375 43.984375 \nQ 39.0625 48.390625 32.421875 48.390625 \nQ 24.90625 48.390625 20.390625 44.140625 \nQ 15.875 39.890625 15.1875 32.171875 \nz\n\" id=\"DejaVuSans-101\"/>\n     </defs>\n     <g transform=\"translate(73.465625 53.154687)scale(0.1 -0.1)\">\n      <use xlink:href=\"#DejaVuSans-115\"/>\n      <use x=\"52.099609\" xlink:href=\"#DejaVuSans-101\"/>\n      <use x=\"113.623047\" xlink:href=\"#DejaVuSans-114\"/>\n      <use x=\"154.736328\" xlink:href=\"#DejaVuSans-105\"/>\n      <use x=\"182.519531\" xlink:href=\"#DejaVuSans-101\"/>\n      <use x=\"244.042969\" xlink:href=\"#DejaVuSans-115\"/>\n     </g>\n    </g>\n    <g id=\"line2d_27\">\n     <path d=\"M 45.465625 64.332812 \nL 65.465625 64.332812 \n\" style=\"fill:none;stroke:#d62728;stroke-linecap:square;stroke-width:1.5;\"/>\n    </g>\n    <g id=\"line2d_28\"/>\n    <g id=\"text_19\">\n     <!-- apply -->\n     <defs>\n      <path d=\"M 18.109375 8.203125 \nL 18.109375 -20.796875 \nL 9.078125 -20.796875 \nL 9.078125 54.6875 \nL 18.109375 54.6875 \nL 18.109375 46.390625 \nQ 20.953125 51.265625 25.265625 53.625 \nQ 29.59375 56 35.59375 56 \nQ 45.5625 56 51.78125 48.09375 \nQ 58.015625 40.1875 58.015625 27.296875 \nQ 58.015625 14.40625 51.78125 6.484375 \nQ 45.5625 -1.421875 35.59375 -1.421875 \nQ 29.59375 -1.421875 25.265625 0.953125 \nQ 20.953125 3.328125 18.109375 8.203125 \nz\nM 48.6875 27.296875 \nQ 48.6875 37.203125 44.609375 42.84375 \nQ 40.53125 48.484375 33.40625 48.484375 \nQ 26.265625 48.484375 22.1875 42.84375 \nQ 18.109375 37.203125 18.109375 27.296875 \nQ 18.109375 17.390625 22.1875 11.75 \nQ 26.265625 6.109375 33.40625 6.109375 \nQ 40.53125 6.109375 44.609375 11.75 \nQ 48.6875 17.390625 48.6875 27.296875 \nz\n\" id=\"DejaVuSans-112\"/>\n      <path d=\"M 9.421875 75.984375 \nL 18.40625 75.984375 \nL 18.40625 0 \nL 9.421875 0 \nz\n\" id=\"DejaVuSans-108\"/>\n      <path d=\"M 32.171875 -5.078125 \nQ 28.375 -14.84375 24.75 -17.8125 \nQ 21.140625 -20.796875 15.09375 -20.796875 \nL 7.90625 -20.796875 \nL 7.90625 -13.28125 \nL 13.1875 -13.28125 \nQ 16.890625 -13.28125 18.9375 -11.515625 \nQ 21 -9.765625 23.484375 -3.21875 \nL 25.09375 0.875 \nL 2.984375 54.6875 \nL 12.5 54.6875 \nL 29.59375 11.921875 \nL 46.6875 54.6875 \nL 56.203125 54.6875 \nz\n\" id=\"DejaVuSans-121\"/>\n     </defs>\n     <g transform=\"translate(73.465625 67.832812)scale(0.1 -0.1)\">\n      <use xlink:href=\"#DejaVuSans-97\"/>\n      <use x=\"61.279297\" xlink:href=\"#DejaVuSans-112\"/>\n      <use x=\"124.755859\" xlink:href=\"#DejaVuSans-112\"/>\n      <use x=\"188.232422\" xlink:href=\"#DejaVuSans-108\"/>\n      <use x=\"216.015625\" xlink:href=\"#DejaVuSans-121\"/>\n     </g>\n    </g>\n    <g id=\"line2d_29\">\n     <path d=\"M 45.465625 79.010937 \nL 65.465625 79.010937 \n\" style=\"fill:none;stroke:#9467bd;stroke-linecap:square;stroke-width:1.5;\"/>\n    </g>\n    <g id=\"line2d_30\"/>\n    <g id=\"text_20\">\n     <!-- list_comprehension -->\n     <defs>\n      <path d=\"M 50.984375 -16.609375 \nL 50.984375 -23.578125 \nL -0.984375 -23.578125 \nL -0.984375 -16.609375 \nz\n\" id=\"DejaVuSans-95\"/>\n      <path d=\"M 30.609375 48.390625 \nQ 23.390625 48.390625 19.1875 42.75 \nQ 14.984375 37.109375 14.984375 27.296875 \nQ 14.984375 17.484375 19.15625 11.84375 \nQ 23.34375 6.203125 30.609375 6.203125 \nQ 37.796875 6.203125 41.984375 11.859375 \nQ 46.1875 17.53125 46.1875 27.296875 \nQ 46.1875 37.015625 41.984375 42.703125 \nQ 37.796875 48.390625 30.609375 48.390625 \nz\nM 30.609375 56 \nQ 42.328125 56 49.015625 48.375 \nQ 55.71875 40.765625 55.71875 27.296875 \nQ 55.71875 13.875 49.015625 6.21875 \nQ 42.328125 -1.421875 30.609375 -1.421875 \nQ 18.84375 -1.421875 12.171875 6.21875 \nQ 5.515625 13.875 5.515625 27.296875 \nQ 5.515625 40.765625 12.171875 48.375 \nQ 18.84375 56 30.609375 56 \nz\n\" id=\"DejaVuSans-111\"/>\n      <path d=\"M 54.890625 33.015625 \nL 54.890625 0 \nL 45.90625 0 \nL 45.90625 32.71875 \nQ 45.90625 40.484375 42.875 44.328125 \nQ 39.84375 48.1875 33.796875 48.1875 \nQ 26.515625 48.1875 22.3125 43.546875 \nQ 18.109375 38.921875 18.109375 30.90625 \nL 18.109375 0 \nL 9.078125 0 \nL 9.078125 75.984375 \nL 18.109375 75.984375 \nL 18.109375 46.1875 \nQ 21.34375 51.125 25.703125 53.5625 \nQ 30.078125 56 35.796875 56 \nQ 45.21875 56 50.046875 50.171875 \nQ 54.890625 44.34375 54.890625 33.015625 \nz\n\" id=\"DejaVuSans-104\"/>\n     </defs>\n     <g transform=\"translate(73.465625 82.510937)scale(0.1 -0.1)\">\n      <use xlink:href=\"#DejaVuSans-108\"/>\n      <use x=\"27.783203\" xlink:href=\"#DejaVuSans-105\"/>\n      <use x=\"55.566406\" xlink:href=\"#DejaVuSans-115\"/>\n      <use x=\"107.666016\" xlink:href=\"#DejaVuSans-116\"/>\n      <use x=\"146.875\" xlink:href=\"#DejaVuSans-95\"/>\n      <use x=\"196.875\" xlink:href=\"#DejaVuSans-99\"/>\n      <use x=\"251.855469\" xlink:href=\"#DejaVuSans-111\"/>\n      <use x=\"313.037109\" xlink:href=\"#DejaVuSans-109\"/>\n      <use x=\"410.449219\" xlink:href=\"#DejaVuSans-112\"/>\n      <use x=\"473.925781\" xlink:href=\"#DejaVuSans-114\"/>\n      <use x=\"515.007812\" xlink:href=\"#DejaVuSans-101\"/>\n      <use x=\"576.53125\" xlink:href=\"#DejaVuSans-104\"/>\n      <use x=\"639.910156\" xlink:href=\"#DejaVuSans-101\"/>\n      <use x=\"701.433594\" xlink:href=\"#DejaVuSans-110\"/>\n      <use x=\"764.8125\" xlink:href=\"#DejaVuSans-115\"/>\n      <use x=\"816.912109\" xlink:href=\"#DejaVuSans-105\"/>\n      <use x=\"844.695312\" xlink:href=\"#DejaVuSans-111\"/>\n      <use x=\"905.876953\" xlink:href=\"#DejaVuSans-110\"/>\n     </g>\n    </g>\n   </g>\n  </g>\n </g>\n <defs>\n  <clipPath id=\"p730d867378\">\n   <rect height=\"217.44\" width=\"334.8\" x=\"36.465625\" y=\"7.2\"/>\n  </clipPath>\n </defs>\n</svg>\n",
            "text/plain": [
              "<Figure size 432x288 with 1 Axes>"
            ]
          },
          "metadata": {
            "tags": []
          }
        }
      ]
    },
    {
      "cell_type": "markdown",
      "metadata": {
        "colab_type": "text",
        "id": "evtoyzODgNi9"
      },
      "source": [
        "Concerted to dataframe and plotted, we see that the quickest merge method, given the datastructure we have, is list comprehension:\n",
        "```\n",
        "[','.join(row).rstrip(',') for row in df[columns].fillna('').values]\n",
        "```"
      ]
    },
    {
      "cell_type": "markdown",
      "metadata": {
        "colab_type": "text",
        "id": "IbKWtALGgwEs"
      },
      "source": [
        "The differences between the methods seem stable, but just to make sure, we could try a dataframe with three million observations:"
      ]
    },
    {
      "cell_type": "code",
      "metadata": {
        "colab_type": "code",
        "id": "1BPIaz5yYl1Y",
        "colab": {}
      },
      "source": [
        "# Note: This takes several minutes to execute \n",
        "n=3000000\n",
        "df = make_data(n=n)\n",
        "df.columns=['code']\n",
        "df = df['code'].str.split(',', expand=True)\n",
        "df = df.add_prefix('code_')\n",
        "df=df.fillna(np.nan)\n",
        "columns=df.columns\n",
        "comma_separated_columns=[]\n",
        "df['comma']=','\n",
        "for col in columns:\n",
        "  comma_separated_columns.append(col)\n",
        "  comma_separated_columns.append('comma')\n",
        "df.head()"
      ],
      "execution_count": 0,
      "outputs": []
    },
    {
      "cell_type": "code",
      "metadata": {
        "colab_type": "code",
        "id": "M_QlFouVdcQI",
        "outputId": "46f8125f-facd-4b5a-d113-3544635f4671",
        "colab": {
          "base_uri": "https://localhost:8080/",
          "height": 110
        }
      },
      "source": [
        "  speed = merge(df=df)\n",
        "  best_speed= {name: results.best for name, results in speed.items()}\n",
        "  speed_for_size = pd.Series(best_speed)"
      ],
      "execution_count": 0,
      "outputs": [
        {
          "output_type": "stream",
          "text": [
            "1 loop, best of 3: 29.4 s per loop\n",
            "1 loop, best of 3: 45.1 s per loop\n",
            "1 loop, best of 3: 21.5 s per loop\n",
            "1 loop, best of 3: 1min 10s per loop\n",
            "1 loop, best of 3: 18.7 s per loop\n"
          ],
          "name": "stdout"
        }
      ]
    },
    {
      "cell_type": "markdown",
      "metadata": {
        "colab_type": "text",
        "id": "vhnZP4A9hSYk"
      },
      "source": [
        "With 30 million rows, this process could take more than 10 minutes if you used the worst method (apply). The fastests method would take about 3 minutes. Even if you only this once, it is important to avoid apply when mering text columns.\n"
      ]
    },
    {
      "cell_type": "markdown",
      "metadata": {
        "colab_type": "text",
        "id": "9Dv6LuBnpxII"
      },
      "source": [
        "# Summing up\n",
        "\n",
        "The conclusion is as stark as it is surprising: Not only is having all codes in a single column very memory efficient, it is also the fastests structure to search for the existence of a group of codes.\n",
        "\n",
        "It may not be the prettiest solution. For instance, Hadley Wickham has argued in favor of a long data structure because it makes it easier to reason about the data. Having all codes in one column long in the sense that we avoid lots of columns like *diagnosis_1*, *diagnosis_2* etc that are typical symptoms of a wide structure. However, merging all the information on one column is perhaps half-long. We do not go all the way: having a single valued cell with a single diagnosis on each row. But we do not go wide either. \n",
        "\n",
        "\n",
        "In the end it the data structure depends on the kind of questions you would like to be answered. For instance, if you were to do grupby on a single code, this would be more difficult when you have a merged diagnostic column. However, in my experience, we commonly do groupby's on groups of codes (e.g. all cancer codes), which would require a selection those events that belong to the group first - which, in turn, requires a fast structure for marking rows with different diagnoses.\n",
        "\n",
        "\n",
        "# Afternotes\n",
        "A radically different approach would be to store the data in a database instead of a tabular structure. To save memory it is often sensible to store large data in databases, but the starting point of this notebook is not the optimal storage of data alone. True, tabular dataformats are wasteful: We often repeat the gender for the same person in different rows and so on. But a tabular format is still very useful for analysis. For instance, we avoid having to repeatedly join information from many separate tables and analyzing results by different sub-groups (groupby's) is quick and non-verbose. The tabular format makes it easier to analyze the data. The best formats to store the data need not be the best format to analyze the data. The argument in this notebook is not that all data should be stored in a half-long tabular structure. Instead, the argument made in this notebook is about medium sized data dataset you get after it has been extracted from a very large database. \n",
        "\n",
        "\n",
        "# Further reading\n",
        "Hadley Wickham has a good discussion of how data should be structured: [Tidy data](https://vita.had.co.nz/papers/tidy-data.pdf) "
      ]
    }
  ]
}