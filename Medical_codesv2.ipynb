{
  "nbformat": 4,
  "nbformat_minor": 0,
  "metadata": {
    "colab": {
      "name": "Medical codesv2.ipynb",
      "provenance": [],
      "collapsed_sections": [],
      "include_colab_link": true
    },
    "kernelspec": {
      "name": "python3",
      "display_name": "Python 3"
    }
  },
  "cells": [
    {
      "cell_type": "markdown",
      "metadata": {
        "id": "view-in-github",
        "colab_type": "text"
      },
      "source": [
        "<a href=\"https://colab.research.google.com/github/hmelberg/health-analytics-using-python/blob/master/Medical_codesv2.ipynb\" target=\"_parent\"><img src=\"https://colab.research.google.com/assets/colab-badge.svg\" alt=\"Open In Colab\"/></a>"
      ]
    },
    {
      "cell_type": "markdown",
      "metadata": {
        "id": "vosA89WEixQc"
      },
      "source": [
        "# Handling medical codes using Python\n",
        "\n"
      ]
    },
    {
      "cell_type": "markdown",
      "metadata": {
        "id": "2GUKCMPsixU0"
      },
      "source": [
        "Information about health events - diagnosis, prescriptions, procedures -   is often recorded using medical codes. For instance a patient with Crohn's disease may be recorded with the code _K50.0_ if the hospital uses the International Classification of Diseases version 10 (ICD-10). To analyse these data it is necessary to know that _K50.0_ means Crohn's Disease. It would also be useful to have tools that make it easier to use codes effectively. Some of the things we would like such a tool to do is:\n",
        "- Translate from codes to text  (What does _K50_ mean?)\n",
        "- Search for all codes that is used for a given disease (Find all codes that are used for or related to stroke) \n",
        "- Handle multiple coding systems with different versions, years, and languages\n",
        "- Recode so analysis is possible when you have data that uses different coding systems (eg. from ICD 9 to 10 or from ICD to SNOMED)\n",
        "\n",
        "In this notebook we will build such a tool. The starting point is the simplest possible solution: To use a dictionary. This solution is perfectly fine, but if you for those that deal with medical codes daily a more sophisticated tool is necessary - and we will build this too. But first; the easy solution!\n"
      ]
    },
    {
      "cell_type": "markdown",
      "metadata": {
        "id": "_BTQBowI7knx"
      },
      "source": [
        "# Starting example: Which diseases are most common?\n",
        "\n",
        "The starting point is that we have data on all hospital events and we want to know what type of events that are most common. To do so we first count the frequency of the different codes. Next we create a dictionary to make it easier to see what diseases the different codes represent."
      ]
    },
    {
      "cell_type": "markdown",
      "metadata": {
        "id": "ZbLLRYi3mgYy"
      },
      "source": [
        "### Get necessary libraries and data"
      ]
    },
    {
      "cell_type": "code",
      "metadata": {
        "id": "5ntpfR-cycAM"
      },
      "source": [
        "# Use pandas\n",
        "import pandas as pd"
      ],
      "execution_count": 1,
      "outputs": []
    },
    {
      "cell_type": "code",
      "metadata": {
        "id": "q_jPK3K_0Vzu"
      },
      "source": [
        "# Read synthetic medicare sample data on inpatient hospital stays\n",
        "path = 'https://www.cms.gov/Research-Statistics-Data-and-Systems/Downloadable-Public-Use-Files/SynPUFs/Downloads/'\n",
        "inpatient_file = 'DE1_0_2008_to_2010_Inpatient_Claims_Sample_1.zip'\n",
        "\n",
        "inpatient = pd.read_csv(path+inpatient_file)\n"
      ],
      "execution_count": 2,
      "outputs": []
    },
    {
      "cell_type": "markdown",
      "metadata": {
        "id": "ynyUNdjWm0mQ"
      },
      "source": [
        "## First look"
      ]
    },
    {
      "cell_type": "code",
      "metadata": {
        "id": "94QOpsRDpt2g",
        "outputId": "47b9938e-ea5a-4de7-a17b-48ce16434a78",
        "colab": {
          "base_uri": "https://localhost:8080/",
          "height": 252
        }
      },
      "source": [
        "inpatient.head()"
      ],
      "execution_count": 3,
      "outputs": [
        {
          "output_type": "execute_result",
          "data": {
            "text/html": [
              "<div>\n",
              "<style scoped>\n",
              "    .dataframe tbody tr th:only-of-type {\n",
              "        vertical-align: middle;\n",
              "    }\n",
              "\n",
              "    .dataframe tbody tr th {\n",
              "        vertical-align: top;\n",
              "    }\n",
              "\n",
              "    .dataframe thead th {\n",
              "        text-align: right;\n",
              "    }\n",
              "</style>\n",
              "<table border=\"1\" class=\"dataframe\">\n",
              "  <thead>\n",
              "    <tr style=\"text-align: right;\">\n",
              "      <th></th>\n",
              "      <th>DESYNPUF_ID</th>\n",
              "      <th>CLM_ID</th>\n",
              "      <th>SEGMENT</th>\n",
              "      <th>CLM_FROM_DT</th>\n",
              "      <th>CLM_THRU_DT</th>\n",
              "      <th>PRVDR_NUM</th>\n",
              "      <th>CLM_PMT_AMT</th>\n",
              "      <th>NCH_PRMRY_PYR_CLM_PD_AMT</th>\n",
              "      <th>AT_PHYSN_NPI</th>\n",
              "      <th>OP_PHYSN_NPI</th>\n",
              "      <th>OT_PHYSN_NPI</th>\n",
              "      <th>CLM_ADMSN_DT</th>\n",
              "      <th>ADMTNG_ICD9_DGNS_CD</th>\n",
              "      <th>CLM_PASS_THRU_PER_DIEM_AMT</th>\n",
              "      <th>NCH_BENE_IP_DDCTBL_AMT</th>\n",
              "      <th>NCH_BENE_PTA_COINSRNC_LBLTY_AM</th>\n",
              "      <th>NCH_BENE_BLOOD_DDCTBL_LBLTY_AM</th>\n",
              "      <th>CLM_UTLZTN_DAY_CNT</th>\n",
              "      <th>NCH_BENE_DSCHRG_DT</th>\n",
              "      <th>CLM_DRG_CD</th>\n",
              "      <th>ICD9_DGNS_CD_1</th>\n",
              "      <th>ICD9_DGNS_CD_2</th>\n",
              "      <th>ICD9_DGNS_CD_3</th>\n",
              "      <th>ICD9_DGNS_CD_4</th>\n",
              "      <th>ICD9_DGNS_CD_5</th>\n",
              "      <th>ICD9_DGNS_CD_6</th>\n",
              "      <th>ICD9_DGNS_CD_7</th>\n",
              "      <th>ICD9_DGNS_CD_8</th>\n",
              "      <th>ICD9_DGNS_CD_9</th>\n",
              "      <th>ICD9_DGNS_CD_10</th>\n",
              "      <th>ICD9_PRCDR_CD_1</th>\n",
              "      <th>ICD9_PRCDR_CD_2</th>\n",
              "      <th>ICD9_PRCDR_CD_3</th>\n",
              "      <th>ICD9_PRCDR_CD_4</th>\n",
              "      <th>ICD9_PRCDR_CD_5</th>\n",
              "      <th>ICD9_PRCDR_CD_6</th>\n",
              "      <th>HCPCS_CD_1</th>\n",
              "      <th>HCPCS_CD_2</th>\n",
              "      <th>HCPCS_CD_3</th>\n",
              "      <th>HCPCS_CD_4</th>\n",
              "      <th>...</th>\n",
              "      <th>HCPCS_CD_6</th>\n",
              "      <th>HCPCS_CD_7</th>\n",
              "      <th>HCPCS_CD_8</th>\n",
              "      <th>HCPCS_CD_9</th>\n",
              "      <th>HCPCS_CD_10</th>\n",
              "      <th>HCPCS_CD_11</th>\n",
              "      <th>HCPCS_CD_12</th>\n",
              "      <th>HCPCS_CD_13</th>\n",
              "      <th>HCPCS_CD_14</th>\n",
              "      <th>HCPCS_CD_15</th>\n",
              "      <th>HCPCS_CD_16</th>\n",
              "      <th>HCPCS_CD_17</th>\n",
              "      <th>HCPCS_CD_18</th>\n",
              "      <th>HCPCS_CD_19</th>\n",
              "      <th>HCPCS_CD_20</th>\n",
              "      <th>HCPCS_CD_21</th>\n",
              "      <th>HCPCS_CD_22</th>\n",
              "      <th>HCPCS_CD_23</th>\n",
              "      <th>HCPCS_CD_24</th>\n",
              "      <th>HCPCS_CD_25</th>\n",
              "      <th>HCPCS_CD_26</th>\n",
              "      <th>HCPCS_CD_27</th>\n",
              "      <th>HCPCS_CD_28</th>\n",
              "      <th>HCPCS_CD_29</th>\n",
              "      <th>HCPCS_CD_30</th>\n",
              "      <th>HCPCS_CD_31</th>\n",
              "      <th>HCPCS_CD_32</th>\n",
              "      <th>HCPCS_CD_33</th>\n",
              "      <th>HCPCS_CD_34</th>\n",
              "      <th>HCPCS_CD_35</th>\n",
              "      <th>HCPCS_CD_36</th>\n",
              "      <th>HCPCS_CD_37</th>\n",
              "      <th>HCPCS_CD_38</th>\n",
              "      <th>HCPCS_CD_39</th>\n",
              "      <th>HCPCS_CD_40</th>\n",
              "      <th>HCPCS_CD_41</th>\n",
              "      <th>HCPCS_CD_42</th>\n",
              "      <th>HCPCS_CD_43</th>\n",
              "      <th>HCPCS_CD_44</th>\n",
              "      <th>HCPCS_CD_45</th>\n",
              "    </tr>\n",
              "  </thead>\n",
              "  <tbody>\n",
              "    <tr>\n",
              "      <th>0</th>\n",
              "      <td>00013D2EFD8E45D1</td>\n",
              "      <td>196661176988405</td>\n",
              "      <td>1</td>\n",
              "      <td>20100312.0</td>\n",
              "      <td>20100313.0</td>\n",
              "      <td>2600GD</td>\n",
              "      <td>4000.0</td>\n",
              "      <td>0.0</td>\n",
              "      <td>3.139084e+09</td>\n",
              "      <td>NaN</td>\n",
              "      <td>NaN</td>\n",
              "      <td>20100312</td>\n",
              "      <td>4580</td>\n",
              "      <td>0.0</td>\n",
              "      <td>1100.0</td>\n",
              "      <td>0.0</td>\n",
              "      <td>0.0</td>\n",
              "      <td>1.0</td>\n",
              "      <td>20100313</td>\n",
              "      <td>217</td>\n",
              "      <td>7802</td>\n",
              "      <td>78820</td>\n",
              "      <td>V4501</td>\n",
              "      <td>4280</td>\n",
              "      <td>2720</td>\n",
              "      <td>4019</td>\n",
              "      <td>V4502</td>\n",
              "      <td>73300</td>\n",
              "      <td>E9330</td>\n",
              "      <td>NaN</td>\n",
              "      <td>NaN</td>\n",
              "      <td>NaN</td>\n",
              "      <td>NaN</td>\n",
              "      <td>NaN</td>\n",
              "      <td>NaN</td>\n",
              "      <td>NaN</td>\n",
              "      <td>NaN</td>\n",
              "      <td>NaN</td>\n",
              "      <td>NaN</td>\n",
              "      <td>NaN</td>\n",
              "      <td>...</td>\n",
              "      <td>NaN</td>\n",
              "      <td>NaN</td>\n",
              "      <td>NaN</td>\n",
              "      <td>NaN</td>\n",
              "      <td>NaN</td>\n",
              "      <td>NaN</td>\n",
              "      <td>NaN</td>\n",
              "      <td>NaN</td>\n",
              "      <td>NaN</td>\n",
              "      <td>NaN</td>\n",
              "      <td>NaN</td>\n",
              "      <td>NaN</td>\n",
              "      <td>NaN</td>\n",
              "      <td>NaN</td>\n",
              "      <td>NaN</td>\n",
              "      <td>NaN</td>\n",
              "      <td>NaN</td>\n",
              "      <td>NaN</td>\n",
              "      <td>NaN</td>\n",
              "      <td>NaN</td>\n",
              "      <td>NaN</td>\n",
              "      <td>NaN</td>\n",
              "      <td>NaN</td>\n",
              "      <td>NaN</td>\n",
              "      <td>NaN</td>\n",
              "      <td>NaN</td>\n",
              "      <td>NaN</td>\n",
              "      <td>NaN</td>\n",
              "      <td>NaN</td>\n",
              "      <td>NaN</td>\n",
              "      <td>NaN</td>\n",
              "      <td>NaN</td>\n",
              "      <td>NaN</td>\n",
              "      <td>NaN</td>\n",
              "      <td>NaN</td>\n",
              "      <td>NaN</td>\n",
              "      <td>NaN</td>\n",
              "      <td>NaN</td>\n",
              "      <td>NaN</td>\n",
              "      <td>NaN</td>\n",
              "    </tr>\n",
              "    <tr>\n",
              "      <th>1</th>\n",
              "      <td>00016F745862898F</td>\n",
              "      <td>196201177000368</td>\n",
              "      <td>1</td>\n",
              "      <td>20090412.0</td>\n",
              "      <td>20090418.0</td>\n",
              "      <td>3900MB</td>\n",
              "      <td>26000.0</td>\n",
              "      <td>0.0</td>\n",
              "      <td>6.476809e+09</td>\n",
              "      <td>NaN</td>\n",
              "      <td>NaN</td>\n",
              "      <td>20090412</td>\n",
              "      <td>7866</td>\n",
              "      <td>0.0</td>\n",
              "      <td>1068.0</td>\n",
              "      <td>0.0</td>\n",
              "      <td>0.0</td>\n",
              "      <td>6.0</td>\n",
              "      <td>20090418</td>\n",
              "      <td>201</td>\n",
              "      <td>1970</td>\n",
              "      <td>4019</td>\n",
              "      <td>5853</td>\n",
              "      <td>7843</td>\n",
              "      <td>2768</td>\n",
              "      <td>71590</td>\n",
              "      <td>2724</td>\n",
              "      <td>19889</td>\n",
              "      <td>5849</td>\n",
              "      <td>NaN</td>\n",
              "      <td>NaN</td>\n",
              "      <td>NaN</td>\n",
              "      <td>NaN</td>\n",
              "      <td>NaN</td>\n",
              "      <td>NaN</td>\n",
              "      <td>NaN</td>\n",
              "      <td>NaN</td>\n",
              "      <td>NaN</td>\n",
              "      <td>NaN</td>\n",
              "      <td>NaN</td>\n",
              "      <td>...</td>\n",
              "      <td>NaN</td>\n",
              "      <td>NaN</td>\n",
              "      <td>NaN</td>\n",
              "      <td>NaN</td>\n",
              "      <td>NaN</td>\n",
              "      <td>NaN</td>\n",
              "      <td>NaN</td>\n",
              "      <td>NaN</td>\n",
              "      <td>NaN</td>\n",
              "      <td>NaN</td>\n",
              "      <td>NaN</td>\n",
              "      <td>NaN</td>\n",
              "      <td>NaN</td>\n",
              "      <td>NaN</td>\n",
              "      <td>NaN</td>\n",
              "      <td>NaN</td>\n",
              "      <td>NaN</td>\n",
              "      <td>NaN</td>\n",
              "      <td>NaN</td>\n",
              "      <td>NaN</td>\n",
              "      <td>NaN</td>\n",
              "      <td>NaN</td>\n",
              "      <td>NaN</td>\n",
              "      <td>NaN</td>\n",
              "      <td>NaN</td>\n",
              "      <td>NaN</td>\n",
              "      <td>NaN</td>\n",
              "      <td>NaN</td>\n",
              "      <td>NaN</td>\n",
              "      <td>NaN</td>\n",
              "      <td>NaN</td>\n",
              "      <td>NaN</td>\n",
              "      <td>NaN</td>\n",
              "      <td>NaN</td>\n",
              "      <td>NaN</td>\n",
              "      <td>NaN</td>\n",
              "      <td>NaN</td>\n",
              "      <td>NaN</td>\n",
              "      <td>NaN</td>\n",
              "      <td>NaN</td>\n",
              "    </tr>\n",
              "    <tr>\n",
              "      <th>2</th>\n",
              "      <td>00016F745862898F</td>\n",
              "      <td>196661177015632</td>\n",
              "      <td>1</td>\n",
              "      <td>20090831.0</td>\n",
              "      <td>20090902.0</td>\n",
              "      <td>3900HM</td>\n",
              "      <td>5000.0</td>\n",
              "      <td>0.0</td>\n",
              "      <td>6.119985e+08</td>\n",
              "      <td>6.119985e+08</td>\n",
              "      <td>NaN</td>\n",
              "      <td>20090831</td>\n",
              "      <td>6186</td>\n",
              "      <td>0.0</td>\n",
              "      <td>1068.0</td>\n",
              "      <td>0.0</td>\n",
              "      <td>0.0</td>\n",
              "      <td>2.0</td>\n",
              "      <td>20090902</td>\n",
              "      <td>750</td>\n",
              "      <td>6186</td>\n",
              "      <td>2948</td>\n",
              "      <td>56400</td>\n",
              "      <td>NaN</td>\n",
              "      <td>NaN</td>\n",
              "      <td>NaN</td>\n",
              "      <td>NaN</td>\n",
              "      <td>NaN</td>\n",
              "      <td>NaN</td>\n",
              "      <td>NaN</td>\n",
              "      <td>7092.0</td>\n",
              "      <td>6186</td>\n",
              "      <td>V5866</td>\n",
              "      <td>NaN</td>\n",
              "      <td>NaN</td>\n",
              "      <td>NaN</td>\n",
              "      <td>NaN</td>\n",
              "      <td>NaN</td>\n",
              "      <td>NaN</td>\n",
              "      <td>NaN</td>\n",
              "      <td>...</td>\n",
              "      <td>NaN</td>\n",
              "      <td>NaN</td>\n",
              "      <td>NaN</td>\n",
              "      <td>NaN</td>\n",
              "      <td>NaN</td>\n",
              "      <td>NaN</td>\n",
              "      <td>NaN</td>\n",
              "      <td>NaN</td>\n",
              "      <td>NaN</td>\n",
              "      <td>NaN</td>\n",
              "      <td>NaN</td>\n",
              "      <td>NaN</td>\n",
              "      <td>NaN</td>\n",
              "      <td>NaN</td>\n",
              "      <td>NaN</td>\n",
              "      <td>NaN</td>\n",
              "      <td>NaN</td>\n",
              "      <td>NaN</td>\n",
              "      <td>NaN</td>\n",
              "      <td>NaN</td>\n",
              "      <td>NaN</td>\n",
              "      <td>NaN</td>\n",
              "      <td>NaN</td>\n",
              "      <td>NaN</td>\n",
              "      <td>NaN</td>\n",
              "      <td>NaN</td>\n",
              "      <td>NaN</td>\n",
              "      <td>NaN</td>\n",
              "      <td>NaN</td>\n",
              "      <td>NaN</td>\n",
              "      <td>NaN</td>\n",
              "      <td>NaN</td>\n",
              "      <td>NaN</td>\n",
              "      <td>NaN</td>\n",
              "      <td>NaN</td>\n",
              "      <td>NaN</td>\n",
              "      <td>NaN</td>\n",
              "      <td>NaN</td>\n",
              "      <td>NaN</td>\n",
              "      <td>NaN</td>\n",
              "    </tr>\n",
              "    <tr>\n",
              "      <th>3</th>\n",
              "      <td>00016F745862898F</td>\n",
              "      <td>196091176981058</td>\n",
              "      <td>1</td>\n",
              "      <td>20090917.0</td>\n",
              "      <td>20090920.0</td>\n",
              "      <td>3913XU</td>\n",
              "      <td>5000.0</td>\n",
              "      <td>0.0</td>\n",
              "      <td>4.971603e+09</td>\n",
              "      <td>NaN</td>\n",
              "      <td>1.119000e+09</td>\n",
              "      <td>20090917</td>\n",
              "      <td>29590</td>\n",
              "      <td>0.0</td>\n",
              "      <td>1068.0</td>\n",
              "      <td>0.0</td>\n",
              "      <td>0.0</td>\n",
              "      <td>3.0</td>\n",
              "      <td>20090920</td>\n",
              "      <td>883</td>\n",
              "      <td>29623</td>\n",
              "      <td>30390</td>\n",
              "      <td>71690</td>\n",
              "      <td>34590</td>\n",
              "      <td>V1581</td>\n",
              "      <td>32723</td>\n",
              "      <td>NaN</td>\n",
              "      <td>NaN</td>\n",
              "      <td>NaN</td>\n",
              "      <td>NaN</td>\n",
              "      <td>NaN</td>\n",
              "      <td>NaN</td>\n",
              "      <td>NaN</td>\n",
              "      <td>NaN</td>\n",
              "      <td>NaN</td>\n",
              "      <td>NaN</td>\n",
              "      <td>NaN</td>\n",
              "      <td>NaN</td>\n",
              "      <td>NaN</td>\n",
              "      <td>NaN</td>\n",
              "      <td>...</td>\n",
              "      <td>NaN</td>\n",
              "      <td>NaN</td>\n",
              "      <td>NaN</td>\n",
              "      <td>NaN</td>\n",
              "      <td>NaN</td>\n",
              "      <td>NaN</td>\n",
              "      <td>NaN</td>\n",
              "      <td>NaN</td>\n",
              "      <td>NaN</td>\n",
              "      <td>NaN</td>\n",
              "      <td>NaN</td>\n",
              "      <td>NaN</td>\n",
              "      <td>NaN</td>\n",
              "      <td>NaN</td>\n",
              "      <td>NaN</td>\n",
              "      <td>NaN</td>\n",
              "      <td>NaN</td>\n",
              "      <td>NaN</td>\n",
              "      <td>NaN</td>\n",
              "      <td>NaN</td>\n",
              "      <td>NaN</td>\n",
              "      <td>NaN</td>\n",
              "      <td>NaN</td>\n",
              "      <td>NaN</td>\n",
              "      <td>NaN</td>\n",
              "      <td>NaN</td>\n",
              "      <td>NaN</td>\n",
              "      <td>NaN</td>\n",
              "      <td>NaN</td>\n",
              "      <td>NaN</td>\n",
              "      <td>NaN</td>\n",
              "      <td>NaN</td>\n",
              "      <td>NaN</td>\n",
              "      <td>NaN</td>\n",
              "      <td>NaN</td>\n",
              "      <td>NaN</td>\n",
              "      <td>NaN</td>\n",
              "      <td>NaN</td>\n",
              "      <td>NaN</td>\n",
              "      <td>NaN</td>\n",
              "    </tr>\n",
              "    <tr>\n",
              "      <th>4</th>\n",
              "      <td>00016F745862898F</td>\n",
              "      <td>196261176983265</td>\n",
              "      <td>1</td>\n",
              "      <td>20100626.0</td>\n",
              "      <td>20100701.0</td>\n",
              "      <td>3900MB</td>\n",
              "      <td>16000.0</td>\n",
              "      <td>0.0</td>\n",
              "      <td>6.408400e+09</td>\n",
              "      <td>1.960860e+09</td>\n",
              "      <td>NaN</td>\n",
              "      <td>20100626</td>\n",
              "      <td>5849</td>\n",
              "      <td>0.0</td>\n",
              "      <td>1100.0</td>\n",
              "      <td>0.0</td>\n",
              "      <td>0.0</td>\n",
              "      <td>5.0</td>\n",
              "      <td>20100701</td>\n",
              "      <td>983</td>\n",
              "      <td>3569</td>\n",
              "      <td>4019</td>\n",
              "      <td>3542</td>\n",
              "      <td>V8801</td>\n",
              "      <td>78820</td>\n",
              "      <td>2639</td>\n",
              "      <td>7840</td>\n",
              "      <td>7856</td>\n",
              "      <td>4271</td>\n",
              "      <td>NaN</td>\n",
              "      <td>NaN</td>\n",
              "      <td>E8889</td>\n",
              "      <td>NaN</td>\n",
              "      <td>NaN</td>\n",
              "      <td>NaN</td>\n",
              "      <td>NaN</td>\n",
              "      <td>NaN</td>\n",
              "      <td>NaN</td>\n",
              "      <td>NaN</td>\n",
              "      <td>NaN</td>\n",
              "      <td>...</td>\n",
              "      <td>NaN</td>\n",
              "      <td>NaN</td>\n",
              "      <td>NaN</td>\n",
              "      <td>NaN</td>\n",
              "      <td>NaN</td>\n",
              "      <td>NaN</td>\n",
              "      <td>NaN</td>\n",
              "      <td>NaN</td>\n",
              "      <td>NaN</td>\n",
              "      <td>NaN</td>\n",
              "      <td>NaN</td>\n",
              "      <td>NaN</td>\n",
              "      <td>NaN</td>\n",
              "      <td>NaN</td>\n",
              "      <td>NaN</td>\n",
              "      <td>NaN</td>\n",
              "      <td>NaN</td>\n",
              "      <td>NaN</td>\n",
              "      <td>NaN</td>\n",
              "      <td>NaN</td>\n",
              "      <td>NaN</td>\n",
              "      <td>NaN</td>\n",
              "      <td>NaN</td>\n",
              "      <td>NaN</td>\n",
              "      <td>NaN</td>\n",
              "      <td>NaN</td>\n",
              "      <td>NaN</td>\n",
              "      <td>NaN</td>\n",
              "      <td>NaN</td>\n",
              "      <td>NaN</td>\n",
              "      <td>NaN</td>\n",
              "      <td>NaN</td>\n",
              "      <td>NaN</td>\n",
              "      <td>NaN</td>\n",
              "      <td>NaN</td>\n",
              "      <td>NaN</td>\n",
              "      <td>NaN</td>\n",
              "      <td>NaN</td>\n",
              "      <td>NaN</td>\n",
              "      <td>NaN</td>\n",
              "    </tr>\n",
              "  </tbody>\n",
              "</table>\n",
              "<p>5 rows × 81 columns</p>\n",
              "</div>"
            ],
            "text/plain": [
              "        DESYNPUF_ID           CLM_ID  ...  HCPCS_CD_44  HCPCS_CD_45\n",
              "0  00013D2EFD8E45D1  196661176988405  ...          NaN          NaN\n",
              "1  00016F745862898F  196201177000368  ...          NaN          NaN\n",
              "2  00016F745862898F  196661177015632  ...          NaN          NaN\n",
              "3  00016F745862898F  196091176981058  ...          NaN          NaN\n",
              "4  00016F745862898F  196261176983265  ...          NaN          NaN\n",
              "\n",
              "[5 rows x 81 columns]"
            ]
          },
          "metadata": {
            "tags": []
          },
          "execution_count": 3
        }
      ]
    },
    {
      "cell_type": "markdown",
      "metadata": {
        "id": "5axih4Gf3FXH"
      },
      "source": [
        "The column names are slightly cryptic, but if you want more information, it is available here: [Explanations from ResDac, HTML](https://www.resdac.org/cms-data/files/ip-encounter-final/data-documentation). Right now, the only thing we really need to know, is that the column _icd9_dgns_cd_1_ contains the first (of many) diagnoses connected to each event. We focus on this variable and use the method _value_counts()_ to count the number of times the different diagnoses are used:"
      ]
    },
    {
      "cell_type": "markdown",
      "metadata": {
        "id": "1pOXdWcAuAT6"
      },
      "source": [
        "#Common diseases\n",
        "\n",
        "The aim is to examine how often different types of diagnosis are used. The column *icd9_dgns_cd_1* contains the first (of many) diagnoses connected to each event. We focus on this variable and use the method *value_counts()* to count the number of times the different diagnoses are used:\n"
      ]
    },
    {
      "cell_type": "code",
      "metadata": {
        "id": "nBj9sKFJuFOR",
        "outputId": "bb02b8f7-054e-483c-820e-8af7f650e305",
        "colab": {
          "base_uri": "https://localhost:8080/",
          "height": 265
        }
      },
      "source": [
        "cases = inpatient['ICD9_DGNS_CD_1'].value_counts()\n",
        "cases.index.name='code'\n",
        "cases.name='cases'\n",
        "cases.to_frame().head().plot.barh();"
      ],
      "execution_count": 5,
      "outputs": [
        {
          "output_type": "display_data",
          "data": {
            "image/png": "[encoded data removed]",
            "text/plain": [
              "<Figure size 432x288 with 1 Axes>"
            ]
          },
          "metadata": {
            "tags": [],
            "needs_background": "light"
          }
        }
      ]
    },
    {
      "cell_type": "markdown",
      "metadata": {
        "id": "Xj33t7bbCls1"
      },
      "source": [
        "To interpret this result, it is necessary to know the name of the disease behind the codes, and it is very time consumping to look up each separately. What we need is an easy way to go from codes to a label.\n",
        "\n",
        "One easy solution in Python is to use dictionaries, but first of all we need to find a file that has both the code and the text label. A good place to look for these is the National Bureau of Economic Research which maintain a collection of commonly used codebooks in the US:\n",
        "  - Link to links: https://www.nber.org/data\n",
        "  - Link to the specific codebook for ICD-9 (US version, 2010):  https://www.nber.org/data/ICD9ProviderDiagnosticCodes/2010/icd9dx2010.csv"
      ]
    },
    {
      "cell_type": "markdown",
      "metadata": {
        "id": "B-f55av6vJeX"
      },
      "source": [
        "### Read the codebook"
      ]
    },
    {
      "cell_type": "code",
      "metadata": {
        "id": "dVhRW6i0vjw5",
        "outputId": "49554200-fde8-4718-8cf2-661d4bda8462",
        "colab": {
          "base_uri": "https://localhost:8080/",
          "height": 203
        }
      },
      "source": [
        "icd9_codebook = pd.read_csv('https://www.nber.org/data/ICD9ProviderDiagnosticCodes/2010/icd9dx2010.csv')\n",
        "icd9_codebook.head()\n"
      ],
      "execution_count": 6,
      "outputs": [
        {
          "output_type": "execute_result",
          "data": {
            "text/html": [
              "<div>\n",
              "<style scoped>\n",
              "    .dataframe tbody tr th:only-of-type {\n",
              "        vertical-align: middle;\n",
              "    }\n",
              "\n",
              "    .dataframe tbody tr th {\n",
              "        vertical-align: top;\n",
              "    }\n",
              "\n",
              "    .dataframe thead th {\n",
              "        text-align: right;\n",
              "    }\n",
              "</style>\n",
              "<table border=\"1\" class=\"dataframe\">\n",
              "  <thead>\n",
              "    <tr style=\"text-align: right;\">\n",
              "      <th></th>\n",
              "      <th>dgns_cd</th>\n",
              "      <th>shortdesc</th>\n",
              "      <th>version</th>\n",
              "      <th>fyear</th>\n",
              "    </tr>\n",
              "  </thead>\n",
              "  <tbody>\n",
              "    <tr>\n",
              "      <th>0</th>\n",
              "      <td>0010</td>\n",
              "      <td>Cholera d/t vib cholerae</td>\n",
              "      <td>27</td>\n",
              "      <td>2010</td>\n",
              "    </tr>\n",
              "    <tr>\n",
              "      <th>1</th>\n",
              "      <td>0011</td>\n",
              "      <td>Cholera d/t vib el tor</td>\n",
              "      <td>27</td>\n",
              "      <td>2010</td>\n",
              "    </tr>\n",
              "    <tr>\n",
              "      <th>2</th>\n",
              "      <td>0019</td>\n",
              "      <td>Cholera NOS</td>\n",
              "      <td>27</td>\n",
              "      <td>2010</td>\n",
              "    </tr>\n",
              "    <tr>\n",
              "      <th>3</th>\n",
              "      <td>0020</td>\n",
              "      <td>Typhoid fever</td>\n",
              "      <td>27</td>\n",
              "      <td>2010</td>\n",
              "    </tr>\n",
              "    <tr>\n",
              "      <th>4</th>\n",
              "      <td>0021</td>\n",
              "      <td>Paratyphoid fever a</td>\n",
              "      <td>27</td>\n",
              "      <td>2010</td>\n",
              "    </tr>\n",
              "  </tbody>\n",
              "</table>\n",
              "</div>"
            ],
            "text/plain": [
              "  dgns_cd                 shortdesc  version  fyear\n",
              "0    0010  Cholera d/t vib cholerae       27   2010\n",
              "1    0011    Cholera d/t vib el tor       27   2010\n",
              "2    0019               Cholera NOS       27   2010\n",
              "3    0020             Typhoid fever       27   2010\n",
              "4    0021       Paratyphoid fever a       27   2010"
            ]
          },
          "metadata": {
            "tags": []
          },
          "execution_count": 6
        }
      ]
    },
    {
      "cell_type": "markdown",
      "metadata": {
        "id": "MEgD6AxhFmgY"
      },
      "source": [
        "Note that the codes in the codebook include leading zeros, while the data in the other file may or may not use codes with (the same number of) leading zeros. To make it consistent, we might elminate leading zeros from both."
      ]
    },
    {
      "cell_type": "code",
      "metadata": {
        "id": "J8MSvuMIxmfr"
      },
      "source": [
        "# Use .str.lstrip('0') to eliminate leading zeros in a column\n",
        "icd9_codebook['dgns_cd']=icd9_codebook['dgns_cd'].str.lstrip('0')\n",
        "inpatient['ICD9_DGNS_CD_1'] = inpatient['ICD9_DGNS_CD_1'].str.lstrip('0')"
      ],
      "execution_count": 7,
      "outputs": []
    },
    {
      "cell_type": "code",
      "metadata": {
        "id": "ckrHh-LH4kyJ"
      },
      "source": [
        "icd9_code2text=dict(zip(icd9_codebook['dgns_cd'], icd9_codebook['shortdesc']))\n",
        "icd9_code2text"
      ],
      "execution_count": null,
      "outputs": []
    },
    {
      "cell_type": "markdown",
      "metadata": {
        "id": "Scl6oyaAGHGQ"
      },
      "source": [
        "Make a dictionary with codes and description only"
      ]
    },
    {
      "cell_type": "code",
      "metadata": {
        "id": "V5os9kIIGJTj"
      },
      "source": [
        "# to_dict\n",
        "icd9_code2text=icd9_codebook.set_index('dgns_cd')['shortdesc'].to_dict()\n",
        "icd9_code2text"
      ],
      "execution_count": null,
      "outputs": []
    },
    {
      "cell_type": "code",
      "metadata": {
        "id": "3P0_-IWpXBnx",
        "outputId": "74e6fc8f-ca5c-4ff7-c9ba-45982152e862",
        "colab": {
          "base_uri": "https://localhost:8080/",
          "height": 1000
        }
      },
      "source": [
        "# to_dict\n",
        "icd9_code2text=icd9_codebook[['dgns_cd', 'shortdesc']].to_dict()\n",
        "icd9_code2text"
      ],
      "execution_count": 16,
      "outputs": [
        {
          "output_type": "execute_result",
          "data": {
            "text/plain": [
              "{0: {'dgns_cd': '10', 'shortdesc': 'Cholera d/t vib cholerae'},\n",
              " 1: {'dgns_cd': '11', 'shortdesc': 'Cholera d/t vib el tor'},\n",
              " 2: {'dgns_cd': '19', 'shortdesc': 'Cholera NOS'},\n",
              " 3: {'dgns_cd': '20', 'shortdesc': 'Typhoid fever'},\n",
              " 4: {'dgns_cd': '21', 'shortdesc': 'Paratyphoid fever a'},\n",
              " 5: {'dgns_cd': '22', 'shortdesc': 'Paratyphoid fever b'},\n",
              " 6: {'dgns_cd': '23', 'shortdesc': 'Paratyphoid fever c'},\n",
              " 7: {'dgns_cd': '29', 'shortdesc': 'Paratyphoid fever NOS'},\n",
              " 8: {'dgns_cd': '30', 'shortdesc': 'Salmonella enteritis'},\n",
              " 9: {'dgns_cd': '31', 'shortdesc': 'Salmonella septicemia'},\n",
              " 10: {'dgns_cd': '320', 'shortdesc': 'Local salmonella inf NOS'},\n",
              " 11: {'dgns_cd': '321', 'shortdesc': 'Salmonella meningitis'},\n",
              " 12: {'dgns_cd': '322', 'shortdesc': 'Salmonella pneumonia'},\n",
              " 13: {'dgns_cd': '323', 'shortdesc': 'Salmonella arthritis'},\n",
              " 14: {'dgns_cd': '324', 'shortdesc': 'Salmonella osteomyelitis'},\n",
              " 15: {'dgns_cd': '329', 'shortdesc': 'Local salmonella inf NEC'},\n",
              " 16: {'dgns_cd': '38', 'shortdesc': 'Salmonella infection NEC'},\n",
              " 17: {'dgns_cd': '39', 'shortdesc': 'Salmonella infection NOS'},\n",
              " 18: {'dgns_cd': '40', 'shortdesc': 'Shigella dysenteriae'},\n",
              " 19: {'dgns_cd': '41', 'shortdesc': 'Shigella flexneri'},\n",
              " 20: {'dgns_cd': '42', 'shortdesc': 'Shigella boydii'},\n",
              " 21: {'dgns_cd': '43', 'shortdesc': 'Shigella sonnei'},\n",
              " 22: {'dgns_cd': '48', 'shortdesc': 'Shigella infection NEC'},\n",
              " 23: {'dgns_cd': '49', 'shortdesc': 'Shigellosis NOS'},\n",
              " 24: {'dgns_cd': '50', 'shortdesc': 'Staph food poisoning'},\n",
              " 25: {'dgns_cd': '51', 'shortdesc': 'Botulism food poisoning'},\n",
              " 26: {'dgns_cd': '52', 'shortdesc': 'Food pois d/t c. perfrin'},\n",
              " 27: {'dgns_cd': '53', 'shortdesc': 'Food pois: clostrid NEC'},\n",
              " 28: {'dgns_cd': '54', 'shortdesc': 'Food pois: v. parahaem'},\n",
              " 29: {'dgns_cd': '581', 'shortdesc': 'Food poisn d/t v. vulnif'},\n",
              " 30: {'dgns_cd': '589', 'shortdesc': 'Bact food poisoning NEC'},\n",
              " 31: {'dgns_cd': '59', 'shortdesc': 'Food poisoning NOS'},\n",
              " 32: {'dgns_cd': '60', 'shortdesc': 'Ac amebiasis w/o abscess'},\n",
              " 33: {'dgns_cd': '61', 'shortdesc': 'Chr amebiasis w/o absces'},\n",
              " 34: {'dgns_cd': '62', 'shortdesc': 'Amebic nondysent colitis'},\n",
              " 35: {'dgns_cd': '63', 'shortdesc': 'Amebic liver abscess'},\n",
              " 36: {'dgns_cd': '64', 'shortdesc': 'Amebic lung abscess'},\n",
              " 37: {'dgns_cd': '65', 'shortdesc': 'Amebic brain abscess'},\n",
              " 38: {'dgns_cd': '66', 'shortdesc': 'Amebic skin ulceration'},\n",
              " 39: {'dgns_cd': '68', 'shortdesc': 'Amebic infection NEC'},\n",
              " 40: {'dgns_cd': '69', 'shortdesc': 'Amebiasis NOS'},\n",
              " 41: {'dgns_cd': '70', 'shortdesc': 'Balantidiasis'},\n",
              " 42: {'dgns_cd': '71', 'shortdesc': 'Giardiasis'},\n",
              " 43: {'dgns_cd': '72', 'shortdesc': 'Coccidiosis'},\n",
              " 44: {'dgns_cd': '73', 'shortdesc': 'Intest trichomoniasis'},\n",
              " 45: {'dgns_cd': '74', 'shortdesc': 'Cryptosporidiosis'},\n",
              " 46: {'dgns_cd': '75', 'shortdesc': 'Cyclosporiasis'},\n",
              " 47: {'dgns_cd': '78', 'shortdesc': 'Protozoal intest dis NEC'},\n",
              " 48: {'dgns_cd': '79', 'shortdesc': 'Protozoal intest dis NOS'},\n",
              " 49: {'dgns_cd': '800', 'shortdesc': 'Intest infec e coli NOS'},\n",
              " 50: {'dgns_cd': '801', 'shortdesc': 'Int inf e coli entrpath'},\n",
              " 51: {'dgns_cd': '802', 'shortdesc': 'Int inf e coli entrtoxgn'},\n",
              " 52: {'dgns_cd': '803', 'shortdesc': 'Int inf e coli entrnvsv'},\n",
              " 53: {'dgns_cd': '804', 'shortdesc': 'Int inf e coli entrhmrg'},\n",
              " 54: {'dgns_cd': '809', 'shortdesc': 'Int inf e coli spcf NEC'},\n",
              " 55: {'dgns_cd': '81', 'shortdesc': 'Arizona enteritis'},\n",
              " 56: {'dgns_cd': '82', 'shortdesc': 'Aerobacter enteritis'},\n",
              " 57: {'dgns_cd': '83', 'shortdesc': 'Proteus enteritis'},\n",
              " 58: {'dgns_cd': '841', 'shortdesc': 'Staphylococc enteritis'},\n",
              " 59: {'dgns_cd': '842', 'shortdesc': 'Pseudomonas enteritis'},\n",
              " 60: {'dgns_cd': '843', 'shortdesc': 'Int infec campylobacter'},\n",
              " 61: {'dgns_cd': '844', 'shortdesc': 'Int inf yrsnia entrcltca'},\n",
              " 62: {'dgns_cd': '845', 'shortdesc': 'Int inf clstrdium dfcile'},\n",
              " 63: {'dgns_cd': '846', 'shortdesc': 'Intes infec oth anerobes'},\n",
              " 64: {'dgns_cd': '847', 'shortdesc': 'Int inf oth grm neg bctr'},\n",
              " 65: {'dgns_cd': '849', 'shortdesc': 'Bacterial enteritis NEC'},\n",
              " 66: {'dgns_cd': '85', 'shortdesc': 'Bacterial enteritis NOS'},\n",
              " 67: {'dgns_cd': '861', 'shortdesc': 'Intes infec rotavirus'},\n",
              " 68: {'dgns_cd': '862', 'shortdesc': 'Intes infec adenovirus'},\n",
              " 69: {'dgns_cd': '863', 'shortdesc': 'Int inf norwalk virus'},\n",
              " 70: {'dgns_cd': '864', 'shortdesc': 'Int inf oth sml rnd vrus'},\n",
              " 71: {'dgns_cd': '865', 'shortdesc': 'Enteritis d/t calicivirs'},\n",
              " 72: {'dgns_cd': '866', 'shortdesc': 'Intes infec astrovirus'},\n",
              " 73: {'dgns_cd': '867', 'shortdesc': 'Int inf enterovirus NEC'},\n",
              " 74: {'dgns_cd': '869', 'shortdesc': 'Other viral intes infec'},\n",
              " 75: {'dgns_cd': '88', 'shortdesc': 'Viral enteritis NOS'},\n",
              " 76: {'dgns_cd': '90', 'shortdesc': 'Infectious enteritis NOS'},\n",
              " 77: {'dgns_cd': '91', 'shortdesc': 'Enteritis of infect orig'},\n",
              " 78: {'dgns_cd': '92', 'shortdesc': 'Infectious diarrhea NOS'},\n",
              " 79: {'dgns_cd': '93', 'shortdesc': 'Diarrhea of infect orig'},\n",
              " 80: {'dgns_cd': '1000', 'shortdesc': 'Prim TB complex-unspec'},\n",
              " 81: {'dgns_cd': '1001', 'shortdesc': 'Prim TB complex-no exam'},\n",
              " 82: {'dgns_cd': '1002', 'shortdesc': 'Prim TB complex-exm unkn'},\n",
              " 83: {'dgns_cd': '1003', 'shortdesc': 'Prim TB complex-micro dx'},\n",
              " 84: {'dgns_cd': '1004', 'shortdesc': 'Prim TB complex-cult dx'},\n",
              " 85: {'dgns_cd': '1005', 'shortdesc': 'Prim TB complex-histo dx'},\n",
              " 86: {'dgns_cd': '1006', 'shortdesc': 'Prim TB complex-oth test'},\n",
              " 87: {'dgns_cd': '1010', 'shortdesc': 'Prim TB pleurisy-unspec'},\n",
              " 88: {'dgns_cd': '1011', 'shortdesc': 'Prim TB pleurisy-no exam'},\n",
              " 89: {'dgns_cd': '1012', 'shortdesc': 'Prim TB pleur-exam unkn'},\n",
              " 90: {'dgns_cd': '1013', 'shortdesc': 'Prim TB pleuris-micro dx'},\n",
              " 91: {'dgns_cd': '1014', 'shortdesc': 'Prim TB pleurisy-cult dx'},\n",
              " 92: {'dgns_cd': '1015', 'shortdesc': 'Prim TB pleuris-histo dx'},\n",
              " 93: {'dgns_cd': '1016', 'shortdesc': 'Prim TB pleuris-oth test'},\n",
              " 94: {'dgns_cd': '1080', 'shortdesc': 'Prim prog TB NEC-unspec'},\n",
              " 95: {'dgns_cd': '1081', 'shortdesc': 'Prim prog TB NEC-no exam'},\n",
              " 96: {'dgns_cd': '1082', 'shortdesc': 'Prim pr TB NEC-exam unkn'},\n",
              " 97: {'dgns_cd': '1083', 'shortdesc': 'Prim prg TB NEC-micro dx'},\n",
              " 98: {'dgns_cd': '1084', 'shortdesc': 'Prim prog TB NEC-cult dx'},\n",
              " 99: {'dgns_cd': '1085', 'shortdesc': 'Prim prg TB NEC-histo dx'},\n",
              " 100: {'dgns_cd': '1086', 'shortdesc': 'Prim prg TB NEC-oth test'},\n",
              " 101: {'dgns_cd': '1090', 'shortdesc': 'Primary TB NOS-unspec'},\n",
              " 102: {'dgns_cd': '1091', 'shortdesc': 'Primary TB NOS-no exam'},\n",
              " 103: {'dgns_cd': '1092', 'shortdesc': 'Primary TB NOS-exam unkn'},\n",
              " 104: {'dgns_cd': '1093', 'shortdesc': 'Primary TB NOS-micro dx'},\n",
              " 105: {'dgns_cd': '1094', 'shortdesc': 'Primary TB NOS-cult dx'},\n",
              " 106: {'dgns_cd': '1095', 'shortdesc': 'Primary TB NOS-histo dx'},\n",
              " 107: {'dgns_cd': '1096', 'shortdesc': 'Primary TB NOS-oth test'},\n",
              " 108: {'dgns_cd': '1100', 'shortdesc': 'TB lung infiltr-unspec'},\n",
              " 109: {'dgns_cd': '1101', 'shortdesc': 'TB lung infiltr-no exam'},\n",
              " 110: {'dgns_cd': '1102', 'shortdesc': 'TB lung infiltr-exm unkn'},\n",
              " 111: {'dgns_cd': '1103', 'shortdesc': 'TB lung infiltr-micro dx'},\n",
              " 112: {'dgns_cd': '1104', 'shortdesc': 'TB lung infiltr-cult dx'},\n",
              " 113: {'dgns_cd': '1105', 'shortdesc': 'TB lung infiltr-histo dx'},\n",
              " 114: {'dgns_cd': '1106', 'shortdesc': 'TB lung infiltr-oth test'},\n",
              " 115: {'dgns_cd': '1110', 'shortdesc': 'TB lung nodular-unspec'},\n",
              " 116: {'dgns_cd': '1111', 'shortdesc': 'TB lung nodular-no exam'},\n",
              " 117: {'dgns_cd': '1112', 'shortdesc': 'TB lung nodul-exam unkn'},\n",
              " 118: {'dgns_cd': '1113', 'shortdesc': 'TB lung nodular-micro dx'},\n",
              " 119: {'dgns_cd': '1114', 'shortdesc': 'TB lung nodular-cult dx'},\n",
              " 120: {'dgns_cd': '1115', 'shortdesc': 'TB lung nodular-histo dx'},\n",
              " 121: {'dgns_cd': '1116', 'shortdesc': 'TB lung nodular-oth test'},\n",
              " 122: {'dgns_cd': '1120', 'shortdesc': 'TB lung w cavity-unspec'},\n",
              " 123: {'dgns_cd': '1121', 'shortdesc': 'TB lung w cavity-no exam'},\n",
              " 124: {'dgns_cd': '1122', 'shortdesc': 'TB lung cavity-exam unkn'},\n",
              " 125: {'dgns_cd': '1123', 'shortdesc': 'TB lung w cavit-micro dx'},\n",
              " 126: {'dgns_cd': '1124', 'shortdesc': 'TB lung w cavity-cult dx'},\n",
              " 127: {'dgns_cd': '1125', 'shortdesc': 'TB lung w cavit-histo dx'},\n",
              " 128: {'dgns_cd': '1126', 'shortdesc': 'TB lung w cavit-oth test'},\n",
              " 129: {'dgns_cd': '1130', 'shortdesc': 'TB of bronchus-unspec'},\n",
              " 130: {'dgns_cd': '1131', 'shortdesc': 'TB of bronchus-no exam'},\n",
              " 131: {'dgns_cd': '1132', 'shortdesc': 'TB of bronchus-exam unkn'},\n",
              " 132: {'dgns_cd': '1133', 'shortdesc': 'TB of bronchus-micro dx'},\n",
              " 133: {'dgns_cd': '1134', 'shortdesc': 'TB of bronchus-cult dx'},\n",
              " 134: {'dgns_cd': '1135', 'shortdesc': 'TB of bronchus-histo dx'},\n",
              " 135: {'dgns_cd': '1136', 'shortdesc': 'TB of bronchus-oth test'},\n",
              " 136: {'dgns_cd': '1140', 'shortdesc': 'TB lung fibrosis-unspec'},\n",
              " 137: {'dgns_cd': '1141', 'shortdesc': 'TB lung fibrosis-no exam'},\n",
              " 138: {'dgns_cd': '1142', 'shortdesc': 'TB lung fibros-exam unkn'},\n",
              " 139: {'dgns_cd': '1143', 'shortdesc': 'TB lung fibros-micro dx'},\n",
              " 140: {'dgns_cd': '1144', 'shortdesc': 'TB lung fibrosis-cult dx'},\n",
              " 141: {'dgns_cd': '1145', 'shortdesc': 'TB lung fibros-histo dx'},\n",
              " 142: {'dgns_cd': '1146', 'shortdesc': 'TB lung fibros-oth test'},\n",
              " 143: {'dgns_cd': '1150', 'shortdesc': 'TB bronchiectasis-unspec'},\n",
              " 144: {'dgns_cd': '1151', 'shortdesc': 'TB bronchiect-no exam'},\n",
              " 145: {'dgns_cd': '1152', 'shortdesc': 'TB bronchiect-exam unkn'},\n",
              " 146: {'dgns_cd': '1153', 'shortdesc': 'TB bronchiect-micro dx'},\n",
              " 147: {'dgns_cd': '1154', 'shortdesc': 'TB bronchiect-cult dx'},\n",
              " 148: {'dgns_cd': '1155', 'shortdesc': 'TB bronchiect-histo dx'},\n",
              " 149: {'dgns_cd': '1156', 'shortdesc': 'TB bronchiect-oth test'},\n",
              " 150: {'dgns_cd': '1160', 'shortdesc': 'TB pneumonia-unspec'},\n",
              " 151: {'dgns_cd': '1161', 'shortdesc': 'TB pneumonia-no exam'},\n",
              " 152: {'dgns_cd': '1162', 'shortdesc': 'TB pneumonia-exam unkn'},\n",
              " 153: {'dgns_cd': '1163', 'shortdesc': 'TB pneumonia-micro dx'},\n",
              " 154: {'dgns_cd': '1164', 'shortdesc': 'TB pneumonia-cult dx'},\n",
              " 155: {'dgns_cd': '1165', 'shortdesc': 'TB pneumonia-histo dx'},\n",
              " 156: {'dgns_cd': '1166', 'shortdesc': 'TB pneumonia-oth test'},\n",
              " 157: {'dgns_cd': '1170', 'shortdesc': 'TB pneumothorax-unspec'},\n",
              " 158: {'dgns_cd': '1171', 'shortdesc': 'TB pneumothorax-no exam'},\n",
              " 159: {'dgns_cd': '1172', 'shortdesc': 'TB pneumothorx-exam unkn'},\n",
              " 160: {'dgns_cd': '1173', 'shortdesc': 'TB pneumothorax-micro dx'},\n",
              " 161: {'dgns_cd': '1174', 'shortdesc': 'TB pneumothorax-cult dx'},\n",
              " 162: {'dgns_cd': '1175', 'shortdesc': 'TB pneumothorax-histo dx'},\n",
              " 163: {'dgns_cd': '1176', 'shortdesc': 'TB pneumothorax-oth test'},\n",
              " 164: {'dgns_cd': '1180', 'shortdesc': 'Pulmonary TB NEC-unspec'},\n",
              " 165: {'dgns_cd': '1181', 'shortdesc': 'Pulmonary TB NEC-no exam'},\n",
              " 166: {'dgns_cd': '1182', 'shortdesc': 'Pulmon TB NEC-exam unkn'},\n",
              " 167: {'dgns_cd': '1183', 'shortdesc': 'Pulmon TB NEC-micro dx'},\n",
              " 168: {'dgns_cd': '1184', 'shortdesc': 'Pulmon TB NEC-cult dx'},\n",
              " 169: {'dgns_cd': '1185', 'shortdesc': 'Pulmon TB NEC-histo dx'},\n",
              " 170: {'dgns_cd': '1186', 'shortdesc': 'Pulmon TB NEC-oth test'},\n",
              " 171: {'dgns_cd': '1190', 'shortdesc': 'Pulmonary TB NOS-unspec'},\n",
              " 172: {'dgns_cd': '1191', 'shortdesc': 'Pulmonary TB NOS-no exam'},\n",
              " 173: {'dgns_cd': '1192', 'shortdesc': 'Pulmon TB NOS-exam unkn'},\n",
              " 174: {'dgns_cd': '1193', 'shortdesc': 'Pulmon TB NOS-micro dx'},\n",
              " 175: {'dgns_cd': '1194', 'shortdesc': 'Pulmon TB NOS-cult dx'},\n",
              " 176: {'dgns_cd': '1195', 'shortdesc': 'Pulmon TB NOS-histo dx'},\n",
              " 177: {'dgns_cd': '1196', 'shortdesc': 'Pulmon TB NOS-oth test'},\n",
              " 178: {'dgns_cd': '1200', 'shortdesc': 'TB pleurisy-unspec'},\n",
              " 179: {'dgns_cd': '1201', 'shortdesc': 'TB pleurisy-no exam'},\n",
              " 180: {'dgns_cd': '1202', 'shortdesc': 'TB pleurisy-exam unkn'},\n",
              " 181: {'dgns_cd': '1203', 'shortdesc': 'TB pleurisy-micro dx'},\n",
              " 182: {'dgns_cd': '1204', 'shortdesc': 'TB pleurisy-cult dx'},\n",
              " 183: {'dgns_cd': '1205', 'shortdesc': 'TB pleurisy-histolog dx'},\n",
              " 184: {'dgns_cd': '1206', 'shortdesc': 'TB pleurisy-oth test'},\n",
              " 185: {'dgns_cd': '1210', 'shortdesc': 'TB thoracic nodes-unspec'},\n",
              " 186: {'dgns_cd': '1211', 'shortdesc': 'TB thorax node-no exam'},\n",
              " 187: {'dgns_cd': '1212', 'shortdesc': 'TB thorax node-exam unkn'},\n",
              " 188: {'dgns_cd': '1213', 'shortdesc': 'TB thorax node-micro dx'},\n",
              " 189: {'dgns_cd': '1214', 'shortdesc': 'TB thorax node-cult dx'},\n",
              " 190: {'dgns_cd': '1215', 'shortdesc': 'TB thorax node-histo dx'},\n",
              " 191: {'dgns_cd': '1216', 'shortdesc': 'TB thorax node-oth test'},\n",
              " 192: {'dgns_cd': '1220', 'shortdesc': 'Isol tracheal tb-unspec'},\n",
              " 193: {'dgns_cd': '1221', 'shortdesc': 'Isol tracheal tb-no exam'},\n",
              " 194: {'dgns_cd': '1222', 'shortdesc': 'Isol trach tb-exam unkn'},\n",
              " 195: {'dgns_cd': '1223', 'shortdesc': 'Isolat trach tb-micro dx'},\n",
              " 196: {'dgns_cd': '1224', 'shortdesc': 'Isol tracheal tb-cult dx'},\n",
              " 197: {'dgns_cd': '1225', 'shortdesc': 'Isolat trach tb-histo dx'},\n",
              " 198: {'dgns_cd': '1226', 'shortdesc': 'Isolat trach tb-oth test'},\n",
              " 199: {'dgns_cd': '1230', 'shortdesc': 'TB laryngitis-unspec'},\n",
              " 200: {'dgns_cd': '1231', 'shortdesc': 'TB laryngitis-no exam'},\n",
              " 201: {'dgns_cd': '1232', 'shortdesc': 'TB laryngitis-exam unkn'},\n",
              " 202: {'dgns_cd': '1233', 'shortdesc': 'TB laryngitis-micro dx'},\n",
              " 203: {'dgns_cd': '1234', 'shortdesc': 'TB laryngitis-cult dx'},\n",
              " 204: {'dgns_cd': '1235', 'shortdesc': 'TB laryngitis-histo dx'},\n",
              " 205: {'dgns_cd': '1236', 'shortdesc': 'TB laryngitis-oth test'},\n",
              " 206: {'dgns_cd': '1280', 'shortdesc': 'Resp TB NEC-unspec'},\n",
              " 207: {'dgns_cd': '1281', 'shortdesc': 'Resp TB NEC-no exam'},\n",
              " 208: {'dgns_cd': '1282', 'shortdesc': 'Resp TB NEC-exam unkn'},\n",
              " 209: {'dgns_cd': '1283', 'shortdesc': 'Resp TB NEC-micro dx'},\n",
              " 210: {'dgns_cd': '1284', 'shortdesc': 'Resp TB NEC-cult dx'},\n",
              " 211: {'dgns_cd': '1285', 'shortdesc': 'Resp TB NEC-histo dx'},\n",
              " 212: {'dgns_cd': '1286', 'shortdesc': 'Resp TB NEC-oth test'},\n",
              " 213: {'dgns_cd': '1300', 'shortdesc': 'TB meningitis-unspec'},\n",
              " 214: {'dgns_cd': '1301', 'shortdesc': 'TB meningitis-no exam'},\n",
              " 215: {'dgns_cd': '1302', 'shortdesc': 'TB meningitis-exam unkn'},\n",
              " 216: {'dgns_cd': '1303', 'shortdesc': 'TB meningitis-micro dx'},\n",
              " 217: {'dgns_cd': '1304', 'shortdesc': 'TB meningitis-cult dx'},\n",
              " 218: {'dgns_cd': '1305', 'shortdesc': 'TB meningitis-histo dx'},\n",
              " 219: {'dgns_cd': '1306', 'shortdesc': 'TB meningitis-oth test'},\n",
              " 220: {'dgns_cd': '1310', 'shortdesc': 'Tubrclma meninges-unspec'},\n",
              " 221: {'dgns_cd': '1311', 'shortdesc': 'Tubrclma mening-no exam'},\n",
              " 222: {'dgns_cd': '1312', 'shortdesc': 'Tubrclma menin-exam unkn'},\n",
              " 223: {'dgns_cd': '1313', 'shortdesc': 'Tubrclma mening-micro dx'},\n",
              " 224: {'dgns_cd': '1314', 'shortdesc': 'Tubrclma mening-cult dx'},\n",
              " 225: {'dgns_cd': '1315', 'shortdesc': 'Tubrclma mening-histo dx'},\n",
              " 226: {'dgns_cd': '1316', 'shortdesc': 'Tubrclma mening-oth test'},\n",
              " 227: {'dgns_cd': '1320', 'shortdesc': 'Tuberculoma brain-unspec'},\n",
              " 228: {'dgns_cd': '1321', 'shortdesc': 'Tubrcloma brain-no exam'},\n",
              " 229: {'dgns_cd': '1322', 'shortdesc': 'Tubrclma brain-exam unkn'},\n",
              " 230: {'dgns_cd': '1323', 'shortdesc': 'Tubrcloma brain-micro dx'},\n",
              " 231: {'dgns_cd': '1324', 'shortdesc': 'Tubrcloma brain-cult dx'},\n",
              " 232: {'dgns_cd': '1325', 'shortdesc': 'Tubrcloma brain-histo dx'},\n",
              " 233: {'dgns_cd': '1326', 'shortdesc': 'Tubrcloma brain-oth test'},\n",
              " 234: {'dgns_cd': '1330', 'shortdesc': 'TB brain abscess-unspec'},\n",
              " 235: {'dgns_cd': '1331', 'shortdesc': 'TB brain abscess-no exam'},\n",
              " 236: {'dgns_cd': '1332', 'shortdesc': 'TB brain absc-exam unkn'},\n",
              " 237: {'dgns_cd': '1333', 'shortdesc': 'TB brain absc-micro dx'},\n",
              " 238: {'dgns_cd': '1334', 'shortdesc': 'TB brain abscess-cult dx'},\n",
              " 239: {'dgns_cd': '1335', 'shortdesc': 'TB brain absc-histo dx'},\n",
              " 240: {'dgns_cd': '1336', 'shortdesc': 'TB brain absc-oth test'},\n",
              " 241: {'dgns_cd': '1340', 'shortdesc': 'Tubrclma sp cord-unspec'},\n",
              " 242: {'dgns_cd': '1341', 'shortdesc': 'Tubrclma sp cord-no exam'},\n",
              " 243: {'dgns_cd': '1342', 'shortdesc': 'Tubrclma sp cd-exam unkn'},\n",
              " 244: {'dgns_cd': '1343', 'shortdesc': 'Tubrclma sp crd-micro dx'},\n",
              " 245: {'dgns_cd': '1344', 'shortdesc': 'Tubrclma sp cord-cult dx'},\n",
              " 246: {'dgns_cd': '1345', 'shortdesc': 'Tubrclma sp crd-histo dx'},\n",
              " 247: {'dgns_cd': '1346', 'shortdesc': 'Tubrclma sp crd-oth test'},\n",
              " 248: {'dgns_cd': '1350', 'shortdesc': 'TB sp crd abscess-unspec'},\n",
              " 249: {'dgns_cd': '1351', 'shortdesc': 'TB sp crd absc-no exam'},\n",
              " 250: {'dgns_cd': '1352', 'shortdesc': 'TB sp crd absc-exam unkn'},\n",
              " 251: {'dgns_cd': '1353', 'shortdesc': 'TB sp crd absc-micro dx'},\n",
              " 252: {'dgns_cd': '1354', 'shortdesc': 'TB sp crd absc-cult dx'},\n",
              " 253: {'dgns_cd': '1355', 'shortdesc': 'TB sp crd absc-histo dx'},\n",
              " 254: {'dgns_cd': '1356', 'shortdesc': 'TB sp crd absc-oth test'},\n",
              " 255: {'dgns_cd': '1360', 'shortdesc': 'TB encephalitis-unspec'},\n",
              " 256: {'dgns_cd': '1361', 'shortdesc': 'TB encephalitis-no exam'},\n",
              " 257: {'dgns_cd': '1362', 'shortdesc': 'TB encephalit-exam unkn'},\n",
              " 258: {'dgns_cd': '1363', 'shortdesc': 'TB encephalitis-micro dx'},\n",
              " 259: {'dgns_cd': '1364', 'shortdesc': 'TB encephalitis-cult dx'},\n",
              " 260: {'dgns_cd': '1365', 'shortdesc': 'TB encephalitis-histo dx'},\n",
              " 261: {'dgns_cd': '1366', 'shortdesc': 'TB encephalitis-oth test'},\n",
              " 262: {'dgns_cd': '1380', 'shortdesc': 'Cns TB NEC-unspec'},\n",
              " 263: {'dgns_cd': '1381', 'shortdesc': 'Cns TB NEC-no exam'},\n",
              " 264: {'dgns_cd': '1382', 'shortdesc': 'Cns TB NEC-exam unkn'},\n",
              " 265: {'dgns_cd': '1383', 'shortdesc': 'Cns TB NEC-micro dx'},\n",
              " 266: {'dgns_cd': '1384', 'shortdesc': 'Cns TB NEC-cult dx'},\n",
              " 267: {'dgns_cd': '1385', 'shortdesc': 'Cns TB NEC-histo dx'},\n",
              " 268: {'dgns_cd': '1386', 'shortdesc': 'Cns TB NEC-oth test'},\n",
              " 269: {'dgns_cd': '1390', 'shortdesc': 'Cns TB NOS-unspec'},\n",
              " 270: {'dgns_cd': '1391', 'shortdesc': 'Cns TB NOS-no exam'},\n",
              " 271: {'dgns_cd': '1392', 'shortdesc': 'Cns TB NOS-exam unkn'},\n",
              " 272: {'dgns_cd': '1393', 'shortdesc': 'Cns TB NOS-micro dx'},\n",
              " 273: {'dgns_cd': '1394', 'shortdesc': 'Cns TB NOS-cult dx'},\n",
              " 274: {'dgns_cd': '1395', 'shortdesc': 'Cns TB NOS-histo dx'},\n",
              " 275: {'dgns_cd': '1396', 'shortdesc': 'Cns TB NOS-oth test'},\n",
              " 276: {'dgns_cd': '1400', 'shortdesc': 'TB peritonitis-unspec'},\n",
              " 277: {'dgns_cd': '1401', 'shortdesc': 'TB peritonitis-no exam'},\n",
              " 278: {'dgns_cd': '1402', 'shortdesc': 'TB peritonitis-exam unkn'},\n",
              " 279: {'dgns_cd': '1403', 'shortdesc': 'TB peritonitis-micro dx'},\n",
              " 280: {'dgns_cd': '1404', 'shortdesc': 'TB peritonitis-cult dx'},\n",
              " 281: {'dgns_cd': '1405', 'shortdesc': 'TB peritonitis-histo dx'},\n",
              " 282: {'dgns_cd': '1406', 'shortdesc': 'TB peritonitis-oth test'},\n",
              " 283: {'dgns_cd': '1480', 'shortdesc': 'Intestinal TB NEC-unspec'},\n",
              " 284: {'dgns_cd': '1481', 'shortdesc': 'Intestin TB NEC-no exam'},\n",
              " 285: {'dgns_cd': '1482', 'shortdesc': 'Intest TB NEC-exam unkn'},\n",
              " 286: {'dgns_cd': '1483', 'shortdesc': 'Intestin TB NEC-micro dx'},\n",
              " 287: {'dgns_cd': '1484', 'shortdesc': 'Intestin TB NEC-cult dx'},\n",
              " 288: {'dgns_cd': '1485', 'shortdesc': 'Intestin TB NEC-histo dx'},\n",
              " 289: {'dgns_cd': '1486', 'shortdesc': 'Intestin TB NEC-oth test'},\n",
              " 290: {'dgns_cd': '1500', 'shortdesc': 'TB of vertebra-unspec'},\n",
              " 291: {'dgns_cd': '1501', 'shortdesc': 'TB of vertebra-no exam'},\n",
              " 292: {'dgns_cd': '1502', 'shortdesc': 'TB of vertebra-exam unkn'},\n",
              " 293: {'dgns_cd': '1503', 'shortdesc': 'TB of vertebra-micro dx'},\n",
              " 294: {'dgns_cd': '1504', 'shortdesc': 'TB of vertebra-cult dx'},\n",
              " 295: {'dgns_cd': '1505', 'shortdesc': 'TB of vertebra-histo dx'},\n",
              " 296: {'dgns_cd': '1506', 'shortdesc': 'TB of vertebra-oth test'},\n",
              " 297: {'dgns_cd': '1510', 'shortdesc': 'TB of hip-unspec'},\n",
              " 298: {'dgns_cd': '1511', 'shortdesc': 'TB of hip-no exam'},\n",
              " 299: {'dgns_cd': '1512', 'shortdesc': 'TB of hip-exam unkn'},\n",
              " 300: {'dgns_cd': '1513', 'shortdesc': 'TB of hip-micro dx'},\n",
              " 301: {'dgns_cd': '1514', 'shortdesc': 'TB of hip-cult dx'},\n",
              " 302: {'dgns_cd': '1515', 'shortdesc': 'TB of hip-histo dx'},\n",
              " 303: {'dgns_cd': '1516', 'shortdesc': 'TB of hip-oth test'},\n",
              " 304: {'dgns_cd': '1520', 'shortdesc': 'TB of knee-unspec'},\n",
              " 305: {'dgns_cd': '1521', 'shortdesc': 'TB of knee-no exam'},\n",
              " 306: {'dgns_cd': '1522', 'shortdesc': 'TB of knee-exam unkn'},\n",
              " 307: {'dgns_cd': '1523', 'shortdesc': 'TB of knee-micro dx'},\n",
              " 308: {'dgns_cd': '1524', 'shortdesc': 'TB of knee-cult dx'},\n",
              " 309: {'dgns_cd': '1525', 'shortdesc': 'TB of knee-histo dx'},\n",
              " 310: {'dgns_cd': '1526', 'shortdesc': 'TB of knee-oth test'},\n",
              " 311: {'dgns_cd': '1550', 'shortdesc': 'TB of limb bones-unspec'},\n",
              " 312: {'dgns_cd': '1551', 'shortdesc': 'TB limb bones-no exam'},\n",
              " 313: {'dgns_cd': '1552', 'shortdesc': 'TB limb bones-exam unkn'},\n",
              " 314: {'dgns_cd': '1553', 'shortdesc': 'TB limb bones-micro dx'},\n",
              " 315: {'dgns_cd': '1554', 'shortdesc': 'TB limb bones-cult dx'},\n",
              " 316: {'dgns_cd': '1555', 'shortdesc': 'TB limb bones-histo dx'},\n",
              " 317: {'dgns_cd': '1556', 'shortdesc': 'TB limb bones-oth test'},\n",
              " 318: {'dgns_cd': '1560', 'shortdesc': 'TB of mastoid-unspec'},\n",
              " 319: {'dgns_cd': '1561', 'shortdesc': 'TB of mastoid-no exam'},\n",
              " 320: {'dgns_cd': '1562', 'shortdesc': 'TB of mastoid-exam unkn'},\n",
              " 321: {'dgns_cd': '1563', 'shortdesc': 'TB of mastoid-micro dx'},\n",
              " 322: {'dgns_cd': '1564', 'shortdesc': 'TB of mastoid-cult dx'},\n",
              " 323: {'dgns_cd': '1565', 'shortdesc': 'TB of mastoid-histo dx'},\n",
              " 324: {'dgns_cd': '1566', 'shortdesc': 'TB of mastoid-oth test'},\n",
              " 325: {'dgns_cd': '1570', 'shortdesc': 'TB of bone NEC-unspec'},\n",
              " 326: {'dgns_cd': '1571', 'shortdesc': 'TB of bone NEC-no exam'},\n",
              " 327: {'dgns_cd': '1572', 'shortdesc': 'TB of bone NEC-exam unkn'},\n",
              " 328: {'dgns_cd': '1573', 'shortdesc': 'TB of bone NEC-micro dx'},\n",
              " 329: {'dgns_cd': '1574', 'shortdesc': 'TB of bone NEC-cult dx'},\n",
              " 330: {'dgns_cd': '1575', 'shortdesc': 'TB of bone NEC-histo dx'},\n",
              " 331: {'dgns_cd': '1576', 'shortdesc': 'TB of bone NEC-oth test'},\n",
              " 332: {'dgns_cd': '1580', 'shortdesc': 'TB of joint NEC-unspec'},\n",
              " 333: {'dgns_cd': '1581', 'shortdesc': 'TB of joint NEC-no exam'},\n",
              " 334: {'dgns_cd': '1582', 'shortdesc': 'TB joint NEC-exam unkn'},\n",
              " 335: {'dgns_cd': '1583', 'shortdesc': 'TB of joint NEC-micro dx'},\n",
              " 336: {'dgns_cd': '1584', 'shortdesc': 'TB of joint NEC-cult dx'},\n",
              " 337: {'dgns_cd': '1585', 'shortdesc': 'TB of joint NEC-histo dx'},\n",
              " 338: {'dgns_cd': '1586', 'shortdesc': 'TB of joint NEC-oth test'},\n",
              " 339: {'dgns_cd': '1590', 'shortdesc': 'TB bone/joint NOS-unspec'},\n",
              " 340: {'dgns_cd': '1591', 'shortdesc': 'TB bone/jt NOS-no exam'},\n",
              " 341: {'dgns_cd': '1592', 'shortdesc': 'TB bone/jt NOS-exam unkn'},\n",
              " 342: {'dgns_cd': '1593', 'shortdesc': 'TB bone/jt NOS-micro dx'},\n",
              " 343: {'dgns_cd': '1594', 'shortdesc': 'TB bone/jt NOS-cult dx'},\n",
              " 344: {'dgns_cd': '1595', 'shortdesc': 'TB bone/jt NOS-histo dx'},\n",
              " 345: {'dgns_cd': '1596', 'shortdesc': 'TB bone/jt NOS-oth test'},\n",
              " 346: {'dgns_cd': '1600', 'shortdesc': 'TB of kidney-unspec'},\n",
              " 347: {'dgns_cd': '1601', 'shortdesc': 'TB of kidney-no exam'},\n",
              " 348: {'dgns_cd': '1602', 'shortdesc': 'TB of kidney-exam unkn'},\n",
              " 349: {'dgns_cd': '1603', 'shortdesc': 'TB of kidney-micro dx'},\n",
              " 350: {'dgns_cd': '1604', 'shortdesc': 'TB of kidney-cult dx'},\n",
              " 351: {'dgns_cd': '1605', 'shortdesc': 'TB of kidney-histo dx'},\n",
              " 352: {'dgns_cd': '1606', 'shortdesc': 'TB of kidney-oth test'},\n",
              " 353: {'dgns_cd': '1610', 'shortdesc': 'TB of bladder-unspec'},\n",
              " 354: {'dgns_cd': '1611', 'shortdesc': 'TB of bladder-no exam'},\n",
              " 355: {'dgns_cd': '1612', 'shortdesc': 'TB of bladder-exam unkn'},\n",
              " 356: {'dgns_cd': '1613', 'shortdesc': 'TB of bladder-micro dx'},\n",
              " 357: {'dgns_cd': '1614', 'shortdesc': 'TB of bladder-cult dx'},\n",
              " 358: {'dgns_cd': '1615', 'shortdesc': 'TB of bladder-histo dx'},\n",
              " 359: {'dgns_cd': '1616', 'shortdesc': 'TB of bladder-oth test'},\n",
              " 360: {'dgns_cd': '1620', 'shortdesc': 'TB of ureter-unspec'},\n",
              " 361: {'dgns_cd': '1621', 'shortdesc': 'TB of ureter-no exam'},\n",
              " 362: {'dgns_cd': '1622', 'shortdesc': 'TB of ureter-exam unkn'},\n",
              " 363: {'dgns_cd': '1623', 'shortdesc': 'TB of ureter-micro dx'},\n",
              " 364: {'dgns_cd': '1624', 'shortdesc': 'TB of ureter-cult dx'},\n",
              " 365: {'dgns_cd': '1625', 'shortdesc': 'TB of ureter-histo dx'},\n",
              " 366: {'dgns_cd': '1626', 'shortdesc': 'TB of ureter-oth test'},\n",
              " 367: {'dgns_cd': '1630', 'shortdesc': 'TB urinary NEC-unspec'},\n",
              " 368: {'dgns_cd': '1631', 'shortdesc': 'TB urinary NEC-no exam'},\n",
              " 369: {'dgns_cd': '1632', 'shortdesc': 'TB urinary NEC-exam unkn'},\n",
              " 370: {'dgns_cd': '1633', 'shortdesc': 'TB urinary NEC-micro dx'},\n",
              " 371: {'dgns_cd': '1634', 'shortdesc': 'TB urinary NEC-cult dx'},\n",
              " 372: {'dgns_cd': '1635', 'shortdesc': 'TB urinary NEC-histo dx'},\n",
              " 373: {'dgns_cd': '1636', 'shortdesc': 'TB urinary NEC-oth test'},\n",
              " 374: {'dgns_cd': '1640', 'shortdesc': 'TB epididymis-unspec'},\n",
              " 375: {'dgns_cd': '1641', 'shortdesc': 'TB epididymis-no exam'},\n",
              " 376: {'dgns_cd': '1642', 'shortdesc': 'TB epididymis-exam unkn'},\n",
              " 377: {'dgns_cd': '1643', 'shortdesc': 'TB epididymis-micro dx'},\n",
              " 378: {'dgns_cd': '1644', 'shortdesc': 'TB epididymis-cult dx'},\n",
              " 379: {'dgns_cd': '1645', 'shortdesc': 'TB epididymis-histo dx'},\n",
              " 380: {'dgns_cd': '1646', 'shortdesc': 'TB epididymis-oth test'},\n",
              " 381: {'dgns_cd': '1650', 'shortdesc': 'TB male genit NEC-unspec'},\n",
              " 382: {'dgns_cd': '1651', 'shortdesc': 'TB male gen NEC-no exam'},\n",
              " 383: {'dgns_cd': '1652', 'shortdesc': 'TB male gen NEC-ex unkn'},\n",
              " 384: {'dgns_cd': '1653', 'shortdesc': 'TB male gen NEC-micro dx'},\n",
              " 385: {'dgns_cd': '1654', 'shortdesc': 'TB male gen NEC-cult dx'},\n",
              " 386: {'dgns_cd': '1655', 'shortdesc': 'TB male gen NEC-histo dx'},\n",
              " 387: {'dgns_cd': '1656', 'shortdesc': 'TB male gen NEC-oth test'},\n",
              " 388: {'dgns_cd': '1660', 'shortdesc': 'TB ovary & tube-unspec'},\n",
              " 389: {'dgns_cd': '1661', 'shortdesc': 'TB ovary & tube-no exam'},\n",
              " 390: {'dgns_cd': '1662', 'shortdesc': 'TB ovary/tube-exam unkn'},\n",
              " 391: {'dgns_cd': '1663', 'shortdesc': 'TB ovary & tube-micro dx'},\n",
              " 392: {'dgns_cd': '1664', 'shortdesc': 'TB ovary & tube-cult dx'},\n",
              " 393: {'dgns_cd': '1665', 'shortdesc': 'TB ovary & tube-histo dx'},\n",
              " 394: {'dgns_cd': '1666', 'shortdesc': 'TB ovary & tube-oth test'},\n",
              " 395: {'dgns_cd': '1670', 'shortdesc': 'TB female gen NEC-unspec'},\n",
              " 396: {'dgns_cd': '1671', 'shortdesc': 'TB fem gen NEC-no exam'},\n",
              " 397: {'dgns_cd': '1672', 'shortdesc': 'TB fem gen NEC-exam unkn'},\n",
              " 398: {'dgns_cd': '1673', 'shortdesc': 'TB fem gen NEC-micro dx'},\n",
              " 399: {'dgns_cd': '1674', 'shortdesc': 'TB fem gen NEC-cult dx'},\n",
              " 400: {'dgns_cd': '1675', 'shortdesc': 'TB fem gen NEC-histo dx'},\n",
              " 401: {'dgns_cd': '1676', 'shortdesc': 'TB fem gen NEC-oth test'},\n",
              " 402: {'dgns_cd': '1690', 'shortdesc': 'Gu TB NOS-unspec'},\n",
              " 403: {'dgns_cd': '1691', 'shortdesc': 'Gu TB NOS-no exam'},\n",
              " 404: {'dgns_cd': '1692', 'shortdesc': 'Gu TB NOS-exam unkn'},\n",
              " 405: {'dgns_cd': '1693', 'shortdesc': 'Gu TB NOS-micro dx'},\n",
              " 406: {'dgns_cd': '1694', 'shortdesc': 'Gu TB NOS-cult dx'},\n",
              " 407: {'dgns_cd': '1695', 'shortdesc': 'Gu TB NOS-histo dx'},\n",
              " 408: {'dgns_cd': '1696', 'shortdesc': 'Gu TB NOS-oth test'},\n",
              " 409: {'dgns_cd': '1700', 'shortdesc': 'TB skin/subcutan-unspec'},\n",
              " 410: {'dgns_cd': '1701', 'shortdesc': 'TB skin/subcut-no exam'},\n",
              " 411: {'dgns_cd': '1702', 'shortdesc': 'TB skin/subcut-exam unkn'},\n",
              " 412: {'dgns_cd': '1703', 'shortdesc': 'TB skin/subcut-micro dx'},\n",
              " 413: {'dgns_cd': '1704', 'shortdesc': 'TB skin/subcut-cult dx'},\n",
              " 414: {'dgns_cd': '1705', 'shortdesc': 'TB skin/subcut-histo dx'},\n",
              " 415: {'dgns_cd': '1706', 'shortdesc': 'TB skin/subcut-oth test'},\n",
              " 416: {'dgns_cd': '1710', 'shortdesc': 'Erythema nodos tb-unspec'},\n",
              " 417: {'dgns_cd': '1711', 'shortdesc': 'Erythem nodos tb-no exam'},\n",
              " 418: {'dgns_cd': '1712', 'shortdesc': 'Erythem nod tb-exam unkn'},\n",
              " 419: {'dgns_cd': '1713', 'shortdesc': 'Erythem nod tb-micro dx'},\n",
              " 420: {'dgns_cd': '1714', 'shortdesc': 'Erythem nodos tb-cult dx'},\n",
              " 421: {'dgns_cd': '1715', 'shortdesc': 'Erythem nod tb-histo dx'},\n",
              " 422: {'dgns_cd': '1716', 'shortdesc': 'Erythem nod tb-oth test'},\n",
              " 423: {'dgns_cd': '1720', 'shortdesc': 'TB periph lymph-unspec'},\n",
              " 424: {'dgns_cd': '1721', 'shortdesc': 'TB periph lymph-no exam'},\n",
              " 425: {'dgns_cd': '1722', 'shortdesc': 'TB periph lymph-exam unk'},\n",
              " 426: {'dgns_cd': '1723', 'shortdesc': 'TB periph lymph-micro dx'},\n",
              " 427: {'dgns_cd': '1724', 'shortdesc': 'TB periph lymph-cult dx'},\n",
              " 428: {'dgns_cd': '1725', 'shortdesc': 'TB periph lymph-histo dx'},\n",
              " 429: {'dgns_cd': '1726', 'shortdesc': 'TB periph lymph-oth test'},\n",
              " 430: {'dgns_cd': '1730', 'shortdesc': 'TB of eye-unspec'},\n",
              " 431: {'dgns_cd': '1731', 'shortdesc': 'TB of eye-no exam'},\n",
              " 432: {'dgns_cd': '1732', 'shortdesc': 'TB of eye-exam unkn'},\n",
              " 433: {'dgns_cd': '1733', 'shortdesc': 'TB of eye-micro dx'},\n",
              " 434: {'dgns_cd': '1734', 'shortdesc': 'TB of eye-cult dx'},\n",
              " 435: {'dgns_cd': '1735', 'shortdesc': 'TB of eye-histo dx'},\n",
              " 436: {'dgns_cd': '1736', 'shortdesc': 'TB of eye-oth test'},\n",
              " 437: {'dgns_cd': '1740', 'shortdesc': 'TB of ear-unspec'},\n",
              " 438: {'dgns_cd': '1741', 'shortdesc': 'TB of ear-no exam'},\n",
              " 439: {'dgns_cd': '1742', 'shortdesc': 'TB of ear-exam unkn'},\n",
              " 440: {'dgns_cd': '1743', 'shortdesc': 'TB of ear-micro dx'},\n",
              " 441: {'dgns_cd': '1744', 'shortdesc': 'TB of ear-cult dx'},\n",
              " 442: {'dgns_cd': '1745', 'shortdesc': 'TB of ear-histo dx'},\n",
              " 443: {'dgns_cd': '1746', 'shortdesc': 'TB of ear-oth test'},\n",
              " 444: {'dgns_cd': '1750', 'shortdesc': 'TB of thyroid-unspec'},\n",
              " 445: {'dgns_cd': '1751', 'shortdesc': 'TB of thyroid-no exam'},\n",
              " 446: {'dgns_cd': '1752', 'shortdesc': 'TB of thyroid-exam unkn'},\n",
              " 447: {'dgns_cd': '1753', 'shortdesc': 'TB of thyroid-micro dx'},\n",
              " 448: {'dgns_cd': '1754', 'shortdesc': 'TB of thyroid-cult dx'},\n",
              " 449: {'dgns_cd': '1755', 'shortdesc': 'TB of thyroid-histo dx'},\n",
              " 450: {'dgns_cd': '1756', 'shortdesc': 'TB of thyroid-oth test'},\n",
              " 451: {'dgns_cd': '1760', 'shortdesc': 'TB of adrenal-unspec'},\n",
              " 452: {'dgns_cd': '1761', 'shortdesc': 'TB of adrenal-no exam'},\n",
              " 453: {'dgns_cd': '1762', 'shortdesc': 'TB of adrenal-exam unkn'},\n",
              " 454: {'dgns_cd': '1763', 'shortdesc': 'TB of adrenal-micro dx'},\n",
              " 455: {'dgns_cd': '1764', 'shortdesc': 'TB of adrenal-cult dx'},\n",
              " 456: {'dgns_cd': '1765', 'shortdesc': 'TB of adrenal-histo dx'},\n",
              " 457: {'dgns_cd': '1766', 'shortdesc': 'TB of adrenal-oth test'},\n",
              " 458: {'dgns_cd': '1770', 'shortdesc': 'TB of spleen-unspec'},\n",
              " 459: {'dgns_cd': '1771', 'shortdesc': 'TB of spleen-no exam'},\n",
              " 460: {'dgns_cd': '1772', 'shortdesc': 'TB of spleen-exam unkn'},\n",
              " 461: {'dgns_cd': '1773', 'shortdesc': 'TB of spleen-micro dx'},\n",
              " 462: {'dgns_cd': '1774', 'shortdesc': 'TB of spleen-cult dx'},\n",
              " 463: {'dgns_cd': '1775', 'shortdesc': 'TB of spleen-histo dx'},\n",
              " 464: {'dgns_cd': '1776', 'shortdesc': 'TB of spleen-oth test'},\n",
              " 465: {'dgns_cd': '1780', 'shortdesc': 'TB esophagus-unspec'},\n",
              " 466: {'dgns_cd': '1781', 'shortdesc': 'TB esophagus-no exam'},\n",
              " 467: {'dgns_cd': '1782', 'shortdesc': 'TB esophagus-exam unkn'},\n",
              " 468: {'dgns_cd': '1783', 'shortdesc': 'TB esophagus-micro dx'},\n",
              " 469: {'dgns_cd': '1784', 'shortdesc': 'TB esophagus-cult dx'},\n",
              " 470: {'dgns_cd': '1785', 'shortdesc': 'TB esophagus-histo dx'},\n",
              " 471: {'dgns_cd': '1786', 'shortdesc': 'TB esophagus-oth test'},\n",
              " 472: {'dgns_cd': '1790', 'shortdesc': 'TB of organ NEC-unspec'},\n",
              " 473: {'dgns_cd': '1791', 'shortdesc': 'TB of organ NEC-no exam'},\n",
              " 474: {'dgns_cd': '1792', 'shortdesc': 'TB organ NEC-exam unkn'},\n",
              " 475: {'dgns_cd': '1793', 'shortdesc': 'TB of organ NEC-micro dx'},\n",
              " 476: {'dgns_cd': '1794', 'shortdesc': 'TB of organ NEC-cult dx'},\n",
              " 477: {'dgns_cd': '1795', 'shortdesc': 'TB of organ NEC-histo dx'},\n",
              " 478: {'dgns_cd': '1796', 'shortdesc': 'TB of organ NEC-oth test'},\n",
              " 479: {'dgns_cd': '1800', 'shortdesc': 'Acute miliary tb-unspec'},\n",
              " 480: {'dgns_cd': '1801', 'shortdesc': 'Acute miliary tb-no exam'},\n",
              " 481: {'dgns_cd': '1802', 'shortdesc': 'Ac miliary tb-exam unkn'},\n",
              " 482: {'dgns_cd': '1803', 'shortdesc': 'Ac miliary tb-micro dx'},\n",
              " 483: {'dgns_cd': '1804', 'shortdesc': 'Acute miliary tb-cult dx'},\n",
              " 484: {'dgns_cd': '1805', 'shortdesc': 'Ac miliary tb-histo dx'},\n",
              " 485: {'dgns_cd': '1806', 'shortdesc': 'Ac miliary tb-oth test'},\n",
              " 486: {'dgns_cd': '1880', 'shortdesc': 'Miliary TB NEC-unspec'},\n",
              " 487: {'dgns_cd': '1881', 'shortdesc': 'Miliary TB NEC-no exam'},\n",
              " 488: {'dgns_cd': '1882', 'shortdesc': 'Miliary TB NEC-exam unkn'},\n",
              " 489: {'dgns_cd': '1883', 'shortdesc': 'Miliary TB NEC-micro dx'},\n",
              " 490: {'dgns_cd': '1884', 'shortdesc': 'Miliary TB NEC-cult dx'},\n",
              " 491: {'dgns_cd': '1885', 'shortdesc': 'Miliary TB NEC-histo dx'},\n",
              " 492: {'dgns_cd': '1886', 'shortdesc': 'Miliary TB NEC-oth test'},\n",
              " 493: {'dgns_cd': '1890', 'shortdesc': 'Miliary TB NOS-unspec'},\n",
              " 494: {'dgns_cd': '1891', 'shortdesc': 'Miliary TB NOS-no exam'},\n",
              " 495: {'dgns_cd': '1892', 'shortdesc': 'Miliary TB NOS-exam unkn'},\n",
              " 496: {'dgns_cd': '1893', 'shortdesc': 'Miliary TB NOS-micro dx'},\n",
              " 497: {'dgns_cd': '1894', 'shortdesc': 'Miliary TB NOS-cult dx'},\n",
              " 498: {'dgns_cd': '1895', 'shortdesc': 'Miliary TB NOS-histo dx'},\n",
              " 499: {'dgns_cd': '1896', 'shortdesc': 'Miliary TB NOS-oth test'},\n",
              " 500: {'dgns_cd': '200', 'shortdesc': 'Bubonic plague'},\n",
              " 501: {'dgns_cd': '201', 'shortdesc': 'Cellulocutaneous plague'},\n",
              " 502: {'dgns_cd': '202', 'shortdesc': 'Septicemic plague'},\n",
              " 503: {'dgns_cd': '203', 'shortdesc': 'Primary pneumonic plague'},\n",
              " 504: {'dgns_cd': '204', 'shortdesc': 'Secondary pneumon plague'},\n",
              " 505: {'dgns_cd': '205', 'shortdesc': 'Pneumonic plague NOS'},\n",
              " 506: {'dgns_cd': '208', 'shortdesc': 'Other types of plague'},\n",
              " 507: {'dgns_cd': '209', 'shortdesc': 'Plague NOS'},\n",
              " 508: {'dgns_cd': '210', 'shortdesc': 'Ulceroglandul tularemia'},\n",
              " 509: {'dgns_cd': '211', 'shortdesc': 'Enteric tularemia'},\n",
              " 510: {'dgns_cd': '212', 'shortdesc': 'Pulmonary tularemia'},\n",
              " 511: {'dgns_cd': '213', 'shortdesc': 'Oculoglandular tularemia'},\n",
              " 512: {'dgns_cd': '218', 'shortdesc': 'Tularemia NEC'},\n",
              " 513: {'dgns_cd': '219', 'shortdesc': 'Tularemia NOS'},\n",
              " 514: {'dgns_cd': '220', 'shortdesc': 'Cutaneous anthrax'},\n",
              " 515: {'dgns_cd': '221', 'shortdesc': 'Pulmonary anthrax'},\n",
              " 516: {'dgns_cd': '222', 'shortdesc': 'Gastrointestinal anthrax'},\n",
              " 517: {'dgns_cd': '223', 'shortdesc': 'Anthrax septicemia'},\n",
              " 518: {'dgns_cd': '228', 'shortdesc': 'Other anthrax manifest'},\n",
              " 519: {'dgns_cd': '229', 'shortdesc': 'Anthrax NOS'},\n",
              " 520: {'dgns_cd': '230', 'shortdesc': 'Brucella melitensis'},\n",
              " 521: {'dgns_cd': '231', 'shortdesc': 'Brucella abortus'},\n",
              " 522: {'dgns_cd': '232', 'shortdesc': 'Brucella suis'},\n",
              " 523: {'dgns_cd': '233', 'shortdesc': 'Brucella canis'},\n",
              " 524: {'dgns_cd': '238', 'shortdesc': 'Brucellosis NEC'},\n",
              " 525: {'dgns_cd': '239', 'shortdesc': 'Brucellosis NOS'},\n",
              " 526: {'dgns_cd': '24', 'shortdesc': 'Glanders'},\n",
              " 527: {'dgns_cd': '25', 'shortdesc': 'Melioidosis'},\n",
              " 528: {'dgns_cd': '260', 'shortdesc': 'Spirillary fever'},\n",
              " 529: {'dgns_cd': '261', 'shortdesc': 'Streptobacillary fever'},\n",
              " 530: {'dgns_cd': '269', 'shortdesc': 'Rat-bite fever NOS'},\n",
              " 531: {'dgns_cd': '270', 'shortdesc': 'Listeriosis'},\n",
              " 532: {'dgns_cd': '271', 'shortdesc': 'Erysipelothrix infection'},\n",
              " 533: {'dgns_cd': '272', 'shortdesc': 'Pasteurellosis'},\n",
              " 534: {'dgns_cd': '278', 'shortdesc': 'Zoonotic bact dis NEC'},\n",
              " 535: {'dgns_cd': '279', 'shortdesc': 'Zoonotic bact dis NOS'},\n",
              " 536: {'dgns_cd': '300', 'shortdesc': 'Lepromatous leprosy'},\n",
              " 537: {'dgns_cd': '301', 'shortdesc': 'Tuberculoid leprosy'},\n",
              " 538: {'dgns_cd': '302', 'shortdesc': 'Indeterminate leprosy'},\n",
              " 539: {'dgns_cd': '303', 'shortdesc': 'Borderline leprosy'},\n",
              " 540: {'dgns_cd': '308', 'shortdesc': 'Leprosy NEC'},\n",
              " 541: {'dgns_cd': '309', 'shortdesc': 'Leprosy NOS'},\n",
              " 542: {'dgns_cd': '310', 'shortdesc': 'Pulmonary mycobacteria'},\n",
              " 543: {'dgns_cd': '311', 'shortdesc': 'Cutaneous mycobacteria'},\n",
              " 544: {'dgns_cd': '312', 'shortdesc': 'DMAC bacteremia'},\n",
              " 545: {'dgns_cd': '318', 'shortdesc': 'Mycobacterial dis NEC'},\n",
              " 546: {'dgns_cd': '319', 'shortdesc': 'Mycobacterial dis NOS'},\n",
              " 547: {'dgns_cd': '320', 'shortdesc': 'Faucial diphtheria'},\n",
              " 548: {'dgns_cd': '321', 'shortdesc': 'Nasopharynx diphtheria'},\n",
              " 549: {'dgns_cd': '322', 'shortdesc': 'Ant nasal diphtheria'},\n",
              " 550: {'dgns_cd': '323', 'shortdesc': 'Laryngeal diphtheria'},\n",
              " 551: {'dgns_cd': '3281', 'shortdesc': 'Conjunctival diphtheria'},\n",
              " 552: {'dgns_cd': '3282', 'shortdesc': 'Diphtheritic myocarditis'},\n",
              " 553: {'dgns_cd': '3283', 'shortdesc': 'Diphtheritic peritonitis'},\n",
              " 554: {'dgns_cd': '3284', 'shortdesc': 'Diphtheritic cystitis'},\n",
              " 555: {'dgns_cd': '3285', 'shortdesc': 'Cutaneous diphtheria'},\n",
              " 556: {'dgns_cd': '3289', 'shortdesc': 'Diphtheria NEC'},\n",
              " 557: {'dgns_cd': '329', 'shortdesc': 'Diphtheria NOS'},\n",
              " 558: {'dgns_cd': '330', 'shortdesc': 'Bordetella pertussis'},\n",
              " 559: {'dgns_cd': '331', 'shortdesc': 'Bordetella parapertussis'},\n",
              " 560: {'dgns_cd': '338', 'shortdesc': 'Whooping cough NEC'},\n",
              " 561: {'dgns_cd': '339', 'shortdesc': 'Whooping cough NOS'},\n",
              " 562: {'dgns_cd': '340', 'shortdesc': 'Strep sore throat'},\n",
              " 563: {'dgns_cd': '341', 'shortdesc': 'Scarlet fever'},\n",
              " 564: {'dgns_cd': '35', 'shortdesc': 'Erysipelas'},\n",
              " 565: {'dgns_cd': '360', 'shortdesc': 'Meningococcal meningitis'},\n",
              " 566: {'dgns_cd': '361', 'shortdesc': 'Meningococc encephalitis'},\n",
              " 567: {'dgns_cd': '362', 'shortdesc': 'Meningococcemia'},\n",
              " 568: {'dgns_cd': '363', 'shortdesc': 'Meningococc adrenal synd'},\n",
              " 569: {'dgns_cd': '3640', 'shortdesc': 'Meningococc carditis NOS'},\n",
              " 570: {'dgns_cd': '3641', 'shortdesc': 'Meningococc pericarditis'},\n",
              " 571: {'dgns_cd': '3642', 'shortdesc': 'Meningococc endocarditis'},\n",
              " 572: {'dgns_cd': '3643', 'shortdesc': 'Meningococc myocarditis'},\n",
              " 573: {'dgns_cd': '3681', 'shortdesc': 'Meningococc optic neurit'},\n",
              " 574: {'dgns_cd': '3682', 'shortdesc': 'Meningococc arthropathy'},\n",
              " 575: {'dgns_cd': '3689', 'shortdesc': 'Meningococcal infect NEC'},\n",
              " 576: {'dgns_cd': '369', 'shortdesc': 'Meningococcal infect NOS'},\n",
              " 577: {'dgns_cd': '37', 'shortdesc': 'Tetanus'},\n",
              " 578: {'dgns_cd': '380', 'shortdesc': 'Streptococcal septicemia'},\n",
              " 579: {'dgns_cd': '3810', 'shortdesc': 'Staphylcocc septicem NOS'},\n",
              " 580: {'dgns_cd': '3811', 'shortdesc': 'Meth susc Staph aur sept'},\n",
              " 581: {'dgns_cd': '3812', 'shortdesc': 'MRSA septicemia'},\n",
              " 582: {'dgns_cd': '3819', 'shortdesc': 'Staphylcocc septicem NEC'},\n",
              " 583: {'dgns_cd': '382', 'shortdesc': 'Pneumococcal septicemia'},\n",
              " 584: {'dgns_cd': '383', 'shortdesc': 'Anaerobic septicemia'},\n",
              " 585: {'dgns_cd': '3840', 'shortdesc': 'Gram-neg septicemia NOS'},\n",
              " 586: {'dgns_cd': '3841', 'shortdesc': 'H. influenae septicemia'},\n",
              " 587: {'dgns_cd': '3842', 'shortdesc': 'E coli septicemia'},\n",
              " 588: {'dgns_cd': '3843', 'shortdesc': 'Pseudomonas septicemia'},\n",
              " 589: {'dgns_cd': '3844', 'shortdesc': 'Serratia septicemia'},\n",
              " 590: {'dgns_cd': '3849', 'shortdesc': 'Gram-neg septicemia NEC'},\n",
              " 591: {'dgns_cd': '388', 'shortdesc': 'Septicemia NEC'},\n",
              " 592: {'dgns_cd': '389', 'shortdesc': 'Septicemia NOS'},\n",
              " 593: {'dgns_cd': '390', 'shortdesc': 'Cutaneous actinomycosis'},\n",
              " 594: {'dgns_cd': '391', 'shortdesc': 'Pulmonary actinomycosis'},\n",
              " 595: {'dgns_cd': '392', 'shortdesc': 'Abdominal actinomycosis'},\n",
              " 596: {'dgns_cd': '393', 'shortdesc': 'Cervicofac actinomycosis'},\n",
              " 597: {'dgns_cd': '394', 'shortdesc': 'Madura foot'},\n",
              " 598: {'dgns_cd': '398', 'shortdesc': 'Actinomycosis NEC'},\n",
              " 599: {'dgns_cd': '399', 'shortdesc': 'Actinomycosis NOS'},\n",
              " 600: {'dgns_cd': '400', 'shortdesc': 'Gas gangrene'},\n",
              " 601: {'dgns_cd': '401', 'shortdesc': 'Rhinoscleroma'},\n",
              " 602: {'dgns_cd': '402', 'shortdesc': \"Whipple's disease\"},\n",
              " 603: {'dgns_cd': '403', 'shortdesc': 'Necrobacillosis'},\n",
              " 604: {'dgns_cd': '4041', 'shortdesc': 'Infant botulism'},\n",
              " 605: {'dgns_cd': '4042', 'shortdesc': 'Wound botulism'},\n",
              " 606: {'dgns_cd': '4081', 'shortdesc': 'Tropical pyomyositis'},\n",
              " 607: {'dgns_cd': '4082', 'shortdesc': 'Toxic shock syndrome'},\n",
              " 608: {'dgns_cd': '4089', 'shortdesc': 'Bacterial diseases NEC'},\n",
              " 609: {'dgns_cd': '4100', 'shortdesc': 'Streptococcus unspecf'},\n",
              " 610: {'dgns_cd': '4101', 'shortdesc': 'Streptococcus group a'},\n",
              " 611: {'dgns_cd': '4102', 'shortdesc': 'Streptococcus group b'},\n",
              " 612: {'dgns_cd': '4103', 'shortdesc': 'Streptococcus group c'},\n",
              " 613: {'dgns_cd': '4104', 'shortdesc': 'Enterococcus group d'},\n",
              " 614: {'dgns_cd': '4105', 'shortdesc': 'Streptococcus group g'},\n",
              " 615: {'dgns_cd': '4109', 'shortdesc': 'Other streptococcus'},\n",
              " 616: {'dgns_cd': '4110', 'shortdesc': 'Staphylococcus unspcfied'},\n",
              " 617: {'dgns_cd': '4111', 'shortdesc': 'Mth sus Stph aur els/NOS'},\n",
              " 618: {'dgns_cd': '4112', 'shortdesc': 'MRSA elsewhere/NOS'},\n",
              " 619: {'dgns_cd': '4119', 'shortdesc': 'Other staphylococcus'},\n",
              " 620: {'dgns_cd': '412', 'shortdesc': 'Pneumococcus infect NOS'},\n",
              " 621: {'dgns_cd': '413', 'shortdesc': 'Klebsiella pneumoniae'},\n",
              " 622: {'dgns_cd': '414', 'shortdesc': 'E. coli infect NOS'},\n",
              " 623: {'dgns_cd': '415', 'shortdesc': 'H. influenzae infect NOS'},\n",
              " 624: {'dgns_cd': '416', 'shortdesc': 'Proteus infection NOS'},\n",
              " 625: {'dgns_cd': '417', 'shortdesc': 'Pseudomonas infect NOS'},\n",
              " 626: {'dgns_cd': '4181', 'shortdesc': 'Mycoplasma'},\n",
              " 627: {'dgns_cd': '4182', 'shortdesc': 'Bacteroides fragilis'},\n",
              " 628: {'dgns_cd': '4183', 'shortdesc': 'Clostridium perfringens'},\n",
              " 629: {'dgns_cd': '4184', 'shortdesc': 'Other anaerobes'},\n",
              " 630: {'dgns_cd': '4185', 'shortdesc': 'Oth gram negatv bacteria'},\n",
              " 631: {'dgns_cd': '4186', 'shortdesc': 'Helicobacter pylori'},\n",
              " 632: {'dgns_cd': '4189', 'shortdesc': 'Oth specf bacteria'},\n",
              " 633: {'dgns_cd': '419', 'shortdesc': 'Bacterial infection NOS'},\n",
              " 634: {'dgns_cd': '42', 'shortdesc': 'Human immuno virus dis'},\n",
              " 635: {'dgns_cd': '4500', 'shortdesc': 'Ac bulbar polio-type NOS'},\n",
              " 636: {'dgns_cd': '4501', 'shortdesc': 'Ac bulbar polio-type 1'},\n",
              " 637: {'dgns_cd': '4502', 'shortdesc': 'Ac bulbar polio-type 2'},\n",
              " 638: {'dgns_cd': '4503', 'shortdesc': 'Ac bulbar polio-type 3'},\n",
              " 639: {'dgns_cd': '4510', 'shortdesc': 'Paral polio NEC-type NOS'},\n",
              " 640: {'dgns_cd': '4511', 'shortdesc': 'Paral polio NEC-type 1'},\n",
              " 641: {'dgns_cd': '4512', 'shortdesc': 'Paral polio NEC-type 2'},\n",
              " 642: {'dgns_cd': '4513', 'shortdesc': 'Paral polio NEC-type 3'},\n",
              " 643: {'dgns_cd': '4520', 'shortdesc': 'Nonparaly polio-type NOS'},\n",
              " 644: {'dgns_cd': '4521', 'shortdesc': 'Nonparalyt polio-type 1'},\n",
              " 645: {'dgns_cd': '4522', 'shortdesc': 'Nonparalyt polio-type 2'},\n",
              " 646: {'dgns_cd': '4523', 'shortdesc': 'Nonparalyt polio-type 3'},\n",
              " 647: {'dgns_cd': '4590', 'shortdesc': 'Ac polio NOS-type NOS'},\n",
              " 648: {'dgns_cd': '4591', 'shortdesc': 'Ac polio NOS-type 1'},\n",
              " 649: {'dgns_cd': '4592', 'shortdesc': 'Ac polio NOS-type 2'},\n",
              " 650: {'dgns_cd': '4593', 'shortdesc': 'Ac polio NOS-type 3'},\n",
              " 651: {'dgns_cd': '460', 'shortdesc': 'Kuru'},\n",
              " 652: {'dgns_cd': '4611', 'shortdesc': 'Varnt Creutzfeldt-Jakob'},\n",
              " 653: {'dgns_cd': '4619', 'shortdesc': 'Creutzfldt-Jakob NEC/NOS'},\n",
              " 654: {'dgns_cd': '462', 'shortdesc': 'Subac scleros panenceph'},\n",
              " 655: {'dgns_cd': '463', 'shortdesc': 'Prog multifoc leukoencep'},\n",
              " 656: {'dgns_cd': '4671', 'shortdesc': 'Gerstmn-Straus-Schnk syn'},\n",
              " 657: {'dgns_cd': '4672', 'shortdesc': 'Fatal familial insomnia'},\n",
              " 658: {'dgns_cd': '4679', 'shortdesc': 'Prion dis of CNS NEC/NOS'},\n",
              " 659: {'dgns_cd': '468', 'shortdesc': 'Cns slow virus infec NEC'},\n",
              " 660: {'dgns_cd': '469', 'shortdesc': 'Cns slow virus infec NOS'},\n",
              " 661: {'dgns_cd': '470', 'shortdesc': 'Coxsackie virus mening'},\n",
              " 662: {'dgns_cd': '471', 'shortdesc': 'Echo virus meningitis'},\n",
              " 663: {'dgns_cd': '478', 'shortdesc': 'Viral meningitis NEC'},\n",
              " 664: {'dgns_cd': '479', 'shortdesc': 'Viral meningitis NOS'},\n",
              " 665: {'dgns_cd': '48', 'shortdesc': 'Oth enteroviral cns dis'},\n",
              " 666: {'dgns_cd': '490', 'shortdesc': 'Lymphocytic choriomening'},\n",
              " 667: {'dgns_cd': '491', 'shortdesc': 'Adenoviral meningitis'},\n",
              " 668: {'dgns_cd': '498', 'shortdesc': 'Viral encephalitis NEC'},\n",
              " 669: {'dgns_cd': '499', 'shortdesc': 'Viral encephalitis NOS'},\n",
              " 670: {'dgns_cd': '500', 'shortdesc': 'Variola major'},\n",
              " 671: {'dgns_cd': '501', 'shortdesc': 'Alastrim'},\n",
              " 672: {'dgns_cd': '502', 'shortdesc': 'Modified smallpox'},\n",
              " 673: {'dgns_cd': '509', 'shortdesc': 'Smallpox NOS'},\n",
              " 674: {'dgns_cd': '5101', 'shortdesc': 'Cowpox'},\n",
              " 675: {'dgns_cd': '5102', 'shortdesc': 'Vaccinia n/f vaccination'},\n",
              " 676: {'dgns_cd': '511', 'shortdesc': 'Pseudocowpox'},\n",
              " 677: {'dgns_cd': '512', 'shortdesc': 'Contagious pustular derm'},\n",
              " 678: {'dgns_cd': '519', 'shortdesc': 'Paravaccinia NOS'},\n",
              " 679: {'dgns_cd': '520', 'shortdesc': 'Postvaricella encephalit'},\n",
              " 680: {'dgns_cd': '521', 'shortdesc': 'Varicella pneumonitis'},\n",
              " 681: {'dgns_cd': '522', 'shortdesc': 'Postvaricella myelitis'},\n",
              " 682: {'dgns_cd': '527', 'shortdesc': 'Varicella complicat NEC'},\n",
              " 683: {'dgns_cd': '528', 'shortdesc': 'Varicella complicat NOS'},\n",
              " 684: {'dgns_cd': '529', 'shortdesc': 'Varicella uncomplicated'},\n",
              " 685: {'dgns_cd': '530', 'shortdesc': 'Herpes zoster meningitis'},\n",
              " 686: {'dgns_cd': '5310', 'shortdesc': 'H zoster nerv syst NOS'},\n",
              " 687: {'dgns_cd': '5311', 'shortdesc': 'Geniculate herpes zoster'},\n",
              " 688: {'dgns_cd': '5312', 'shortdesc': 'Postherpes trigem neural'},\n",
              " 689: {'dgns_cd': '5313', 'shortdesc': 'Postherpes polyneuropath'},\n",
              " 690: {'dgns_cd': '5314', 'shortdesc': 'Herpes zoster myelitis'},\n",
              " 691: {'dgns_cd': '5319', 'shortdesc': 'H zoster nerv syst NEC'},\n",
              " 692: {'dgns_cd': '5320', 'shortdesc': 'Herpes zoster of eyelid'},\n",
              " 693: {'dgns_cd': '5321', 'shortdesc': 'H zoster keratoconjunct'},\n",
              " 694: {'dgns_cd': '5322', 'shortdesc': 'H zoster iridocyclitis'},\n",
              " 695: {'dgns_cd': '5329', 'shortdesc': 'Herpes zoster of eye NEC'},\n",
              " 696: {'dgns_cd': '5371', 'shortdesc': 'H zoster otitis externa'},\n",
              " 697: {'dgns_cd': '5379', 'shortdesc': 'H zoster complicated NEC'},\n",
              " 698: {'dgns_cd': '538', 'shortdesc': 'H zoster complicated NOS'},\n",
              " 699: {'dgns_cd': '539', 'shortdesc': 'Herpes zoster NOS'},\n",
              " 700: {'dgns_cd': '540', 'shortdesc': 'Eczema herpeticum'},\n",
              " 701: {'dgns_cd': '5410', 'shortdesc': 'Genital herpes NOS'},\n",
              " 702: {'dgns_cd': '5411', 'shortdesc': 'Herpetic vulvovaginitis'},\n",
              " 703: {'dgns_cd': '5412', 'shortdesc': 'Herpetic ulcer of vulva'},\n",
              " 704: {'dgns_cd': '5413', 'shortdesc': 'Herpetic infect of penis'},\n",
              " 705: {'dgns_cd': '5419', 'shortdesc': 'Genital herpes NEC'},\n",
              " 706: {'dgns_cd': '542', 'shortdesc': 'Herpetic gingivostomat'},\n",
              " 707: {'dgns_cd': '543', 'shortdesc': 'Herpetic encephalitis'},\n",
              " 708: {'dgns_cd': '5440', 'shortdesc': 'Herpes simplex eye NOS'},\n",
              " 709: {'dgns_cd': '5441', 'shortdesc': 'Herpes simplex of eyelid'},\n",
              " 710: {'dgns_cd': '5442', 'shortdesc': 'Dendritic keratitis'},\n",
              " 711: {'dgns_cd': '5443', 'shortdesc': 'H simplex keratitis'},\n",
              " 712: {'dgns_cd': '5444', 'shortdesc': 'H simplex iridocyclitis'},\n",
              " 713: {'dgns_cd': '5449', 'shortdesc': 'Herpes simplex eye NEC'},\n",
              " 714: {'dgns_cd': '545', 'shortdesc': 'Herpetic septicemia'},\n",
              " 715: {'dgns_cd': '546', 'shortdesc': 'Herpetic whitlow'},\n",
              " 716: {'dgns_cd': '5471', 'shortdesc': 'Visceral herpes simplex'},\n",
              " 717: {'dgns_cd': '5472', 'shortdesc': 'H simplex meningitis'},\n",
              " 718: {'dgns_cd': '5473', 'shortdesc': 'H simplex otitis externa'},\n",
              " 719: {'dgns_cd': '5474', 'shortdesc': 'Herpes simplex myelitis'},\n",
              " 720: {'dgns_cd': '5479', 'shortdesc': 'H simplex complicat NEC'},\n",
              " 721: {'dgns_cd': '548', 'shortdesc': 'H simplex complicat NOS'},\n",
              " 722: {'dgns_cd': '549', 'shortdesc': 'Herpes simplex NOS'},\n",
              " 723: {'dgns_cd': '550', 'shortdesc': 'Postmeasles encephalitis'},\n",
              " 724: {'dgns_cd': '551', 'shortdesc': 'Postmeasles pneumonia'},\n",
              " 725: {'dgns_cd': '552', 'shortdesc': 'Postmeasles otitis media'},\n",
              " 726: {'dgns_cd': '5571', 'shortdesc': 'Measles keratitis'},\n",
              " 727: {'dgns_cd': '5579', 'shortdesc': 'Measles complication NEC'},\n",
              " 728: {'dgns_cd': '558', 'shortdesc': 'Measles complication NOS'},\n",
              " 729: {'dgns_cd': '559', 'shortdesc': 'Measles uncomplicated'},\n",
              " 730: {'dgns_cd': '5600', 'shortdesc': 'Rubella nerve compl NOS'},\n",
              " 731: {'dgns_cd': '5601', 'shortdesc': 'Rubella encephalitis'},\n",
              " 732: {'dgns_cd': '5609', 'shortdesc': 'Rubella nerve compl NEC'},\n",
              " 733: {'dgns_cd': '5671', 'shortdesc': 'Arthritis due to rubella'},\n",
              " 734: {'dgns_cd': '5679', 'shortdesc': 'Rubella complication NEC'},\n",
              " 735: {'dgns_cd': '568', 'shortdesc': 'Rubella complication NOS'},\n",
              " 736: {'dgns_cd': '569', 'shortdesc': 'Rubella uncomplicated'},\n",
              " 737: {'dgns_cd': '570', 'shortdesc': 'Erythema infectiosum'},\n",
              " 738: {'dgns_cd': '578', 'shortdesc': 'Viral exanthemata NEC'},\n",
              " 739: {'dgns_cd': '579', 'shortdesc': 'Viral exanthemata NOS'},\n",
              " 740: {'dgns_cd': '5810', 'shortdesc': 'Roseola infantum NOS'},\n",
              " 741: {'dgns_cd': '5811', 'shortdesc': 'Roseola infant d/t HHV-6'},\n",
              " 742: {'dgns_cd': '5812', 'shortdesc': 'Roseola infant d/t HHV-7'},\n",
              " 743: {'dgns_cd': '5821', 'shortdesc': 'Human herpesvir 6 enceph'},\n",
              " 744: {'dgns_cd': '5829', 'shortdesc': 'Human herpesvr encph NEC'},\n",
              " 745: {'dgns_cd': '5881', 'shortdesc': 'Human herpesvirus 6 infc'},\n",
              " 746: {'dgns_cd': '5882', 'shortdesc': 'Human herpesvirus 7 infc'},\n",
              " 747: {'dgns_cd': '5889', 'shortdesc': 'Human herpesvirs inf NEC'},\n",
              " 748: {'dgns_cd': '5900', 'shortdesc': 'Orthopoxvirus infect NOS'},\n",
              " 749: {'dgns_cd': '5901', 'shortdesc': 'Monkeypox'},\n",
              " 750: {'dgns_cd': '5909', 'shortdesc': 'Orthopoxvirus infect NEC'},\n",
              " 751: {'dgns_cd': '5910', 'shortdesc': 'Parapoxvirus infectn NOS'},\n",
              " 752: {'dgns_cd': '5911', 'shortdesc': 'Bovine stomatitis'},\n",
              " 753: {'dgns_cd': '5912', 'shortdesc': 'Sealpox'},\n",
              " 754: {'dgns_cd': '5919', 'shortdesc': 'Parapoxvirus infectn NEC'},\n",
              " 755: {'dgns_cd': '5920', 'shortdesc': 'Yatapoxvirus infectn NOS'},\n",
              " 756: {'dgns_cd': '5921', 'shortdesc': 'Tanapox'},\n",
              " 757: {'dgns_cd': '5922', 'shortdesc': 'Yaba monkey tumor virus'},\n",
              " 758: {'dgns_cd': '598', 'shortdesc': 'Poxvirus infections NEC'},\n",
              " 759: {'dgns_cd': '599', 'shortdesc': 'Poxvirus infection NOS'},\n",
              " 760: {'dgns_cd': '600', 'shortdesc': 'Sylvatic yellow fever'},\n",
              " 761: {'dgns_cd': '601', 'shortdesc': 'Urban yellow fever'},\n",
              " 762: {'dgns_cd': '609', 'shortdesc': 'Yellow fever NOS'},\n",
              " 763: {'dgns_cd': '61', 'shortdesc': 'Dengue'},\n",
              " 764: {'dgns_cd': '620', 'shortdesc': 'Japanese encephalitis'},\n",
              " 765: {'dgns_cd': '621', 'shortdesc': 'West equine encephalitis'},\n",
              " 766: {'dgns_cd': '622', 'shortdesc': 'East equine encephalitis'},\n",
              " 767: {'dgns_cd': '623', 'shortdesc': 'St Louis encephalitis'},\n",
              " 768: {'dgns_cd': '624', 'shortdesc': 'Australian encephalitis'},\n",
              " 769: {'dgns_cd': '625', 'shortdesc': 'California encephalitis'},\n",
              " 770: {'dgns_cd': '628', 'shortdesc': 'Mosquit-borne enceph NEC'},\n",
              " 771: {'dgns_cd': '629', 'shortdesc': 'Mosquit-borne enceph NOS'},\n",
              " 772: {'dgns_cd': '630', 'shortdesc': 'Russia spr-summer enceph'},\n",
              " 773: {'dgns_cd': '631', 'shortdesc': 'Louping ill'},\n",
              " 774: {'dgns_cd': '632', 'shortdesc': 'Cent Europe encephalitis'},\n",
              " 775: {'dgns_cd': '638', 'shortdesc': 'Tick-borne enceph NEC'},\n",
              " 776: {'dgns_cd': '639', 'shortdesc': 'Tick-borne enceph NOS'},\n",
              " 777: {'dgns_cd': '64', 'shortdesc': 'Vir enceph arthropod NEC'},\n",
              " 778: {'dgns_cd': '650', 'shortdesc': 'Crimean hemorrhagic fev'},\n",
              " 779: {'dgns_cd': '651', 'shortdesc': 'Omsk hemorrhagic fever'},\n",
              " 780: {'dgns_cd': '652', 'shortdesc': 'Kyasanur forest disease'},\n",
              " 781: {'dgns_cd': '653', 'shortdesc': 'Tick-borne hem fever NEC'},\n",
              " 782: {'dgns_cd': '654', 'shortdesc': 'Mosquito-borne hem fever'},\n",
              " 783: {'dgns_cd': '658', 'shortdesc': 'Arthropod hem fever NEC'},\n",
              " 784: {'dgns_cd': '659', 'shortdesc': 'Arthropod hem fever NOS'},\n",
              " 785: {'dgns_cd': '660', 'shortdesc': 'Phlebotomus fever'},\n",
              " 786: {'dgns_cd': '661', 'shortdesc': 'Tick-borne fever'},\n",
              " 787: {'dgns_cd': '662', 'shortdesc': 'Venezuelan equine fever'},\n",
              " 788: {'dgns_cd': '663', 'shortdesc': 'Mosquito-borne fever NEC'},\n",
              " 789: {'dgns_cd': '6640', 'shortdesc': 'West Nile Fever NOS'},\n",
              " 790: {'dgns_cd': '6641', 'shortdesc': 'West Nile Fever w/enceph'},\n",
              " 791: {'dgns_cd': '6642', 'shortdesc': 'West Nile neuro man NEC'},\n",
              " 792: {'dgns_cd': '6649', 'shortdesc': 'West Nile w complic NEC'},\n",
              " 793: {'dgns_cd': '668', 'shortdesc': 'Arthropod virus NEC'},\n",
              " 794: {'dgns_cd': '669', 'shortdesc': 'Arthropod virus NOS'},\n",
              " 795: {'dgns_cd': '700', 'shortdesc': 'Hepatitis A with coma'},\n",
              " 796: {'dgns_cd': '701', 'shortdesc': 'Hepatitis A w/o coma'},\n",
              " 797: {'dgns_cd': '7020', 'shortdesc': 'Hpt B acte coma wo dlta'},\n",
              " 798: {'dgns_cd': '7021', 'shortdesc': 'Hpt B acte coma w dlta'},\n",
              " 799: {'dgns_cd': '7022', 'shortdesc': 'Hpt B chrn coma wo dlta'},\n",
              " 800: {'dgns_cd': '7023', 'shortdesc': 'Hpt B chrn coma w dlta'},\n",
              " 801: {'dgns_cd': '7030', 'shortdesc': 'Hpt B acte wo cm wo dlta'},\n",
              " 802: {'dgns_cd': '7031', 'shortdesc': 'Hpt B acte wo cm w dlta'},\n",
              " 803: {'dgns_cd': '7032', 'shortdesc': 'Hpt B chrn wo cm wo dlta'},\n",
              " 804: {'dgns_cd': '7033', 'shortdesc': 'Hpt B chrn wo cm w dlta'},\n",
              " 805: {'dgns_cd': '7041', 'shortdesc': 'Hpt C acute w hepat Coma'},\n",
              " 806: {'dgns_cd': '7042', 'shortdesc': 'Hpt dlt wo b w hpt coma'},\n",
              " 807: {'dgns_cd': '7043', 'shortdesc': 'Hpt E w hepat Coma'},\n",
              " 808: {'dgns_cd': '7044', 'shortdesc': 'Chrnc hpt C w hepat Coma'},\n",
              " 809: {'dgns_cd': '7049', 'shortdesc': 'Oth vrl hepat w hpt coma'},\n",
              " 810: {'dgns_cd': '7051', 'shortdesc': 'Hpt C acute wo hpat coma'},\n",
              " 811: {'dgns_cd': '7052', 'shortdesc': 'Hpt dlt wo b wo hpt coma'},\n",
              " 812: {'dgns_cd': '7053', 'shortdesc': 'Hpt E wo hepat Coma'},\n",
              " 813: {'dgns_cd': '7054', 'shortdesc': 'Chrnc hpt C wo hpat coma'},\n",
              " 814: {'dgns_cd': '7059', 'shortdesc': 'Oth vrl hpat wo hpt coma'},\n",
              " 815: {'dgns_cd': '706', 'shortdesc': 'Viral hepat NOS w coma'},\n",
              " 816: {'dgns_cd': '7070', 'shortdesc': 'Hpt C w/o hepat coma NOS'},\n",
              " 817: {'dgns_cd': '7071', 'shortdesc': 'Hpt C w hepatic coma NOS'},\n",
              " 818: {'dgns_cd': '709', 'shortdesc': 'Viral hepat NOS w/o coma'},\n",
              " 819: {'dgns_cd': '71', 'shortdesc': 'Rabies'},\n",
              " 820: {'dgns_cd': '720', 'shortdesc': 'Mumps orchitis'},\n",
              " 821: {'dgns_cd': '721', 'shortdesc': 'Mumps meningitis'},\n",
              " 822: {'dgns_cd': '722', 'shortdesc': 'Mumps encephalitis'},\n",
              " 823: {'dgns_cd': '723', 'shortdesc': 'Mumps pancreatitis'},\n",
              " 824: {'dgns_cd': '7271', 'shortdesc': 'Mumps hepatitis'},\n",
              " 825: {'dgns_cd': '7272', 'shortdesc': 'Mumps polyneuropathy'},\n",
              " 826: {'dgns_cd': '7279', 'shortdesc': 'Mumps complication NEC'},\n",
              " 827: {'dgns_cd': '728', 'shortdesc': 'Mumps complication NOS'},\n",
              " 828: {'dgns_cd': '729', 'shortdesc': 'Mumps uncomplicated'},\n",
              " 829: {'dgns_cd': '730', 'shortdesc': 'Ornithosis pneumonia'},\n",
              " 830: {'dgns_cd': '737', 'shortdesc': 'Ornithosis complicat NEC'},\n",
              " 831: {'dgns_cd': '738', 'shortdesc': 'Ornithosis complicat NOS'},\n",
              " 832: {'dgns_cd': '739', 'shortdesc': 'Ornithosis NOS'},\n",
              " 833: {'dgns_cd': '740', 'shortdesc': 'Herpangina'},\n",
              " 834: {'dgns_cd': '741', 'shortdesc': 'Epidemic pleurodynia'},\n",
              " 835: {'dgns_cd': '7420', 'shortdesc': 'Coxsackie carditis NOS'},\n",
              " 836: {'dgns_cd': '7421', 'shortdesc': 'Coxsackie pericarditis'},\n",
              " 837: {'dgns_cd': '7422', 'shortdesc': 'Coxsackie endocarditis'},\n",
              " 838: {'dgns_cd': '7423', 'shortdesc': 'Coxsackie myocarditis'},\n",
              " 839: {'dgns_cd': '743', 'shortdesc': 'Hand, foot & mouth dis'},\n",
              " 840: {'dgns_cd': '748', 'shortdesc': 'Coxsackie virus NEC'},\n",
              " 841: {'dgns_cd': '75', 'shortdesc': 'Infectious mononucleosis'},\n",
              " 842: {'dgns_cd': '760', 'shortdesc': 'Trachoma, initial stage'},\n",
              " 843: {'dgns_cd': '761', 'shortdesc': 'Trachoma, active stage'},\n",
              " 844: {'dgns_cd': '769', 'shortdesc': 'Trachoma NOS'},\n",
              " 845: {'dgns_cd': '770', 'shortdesc': 'Inclusion conjunctivitis'},\n",
              " 846: {'dgns_cd': '771', 'shortdesc': 'Epidem keratoconjunctiv'},\n",
              " 847: {'dgns_cd': '772', 'shortdesc': 'Pharyngoconjunct fever'},\n",
              " 848: {'dgns_cd': '773', 'shortdesc': 'Adenoviral conjunct NEC'},\n",
              " 849: {'dgns_cd': '774', 'shortdesc': 'Epidem hem conjunctivit'},\n",
              " 850: {'dgns_cd': '778', 'shortdesc': 'Viral conjunctivitis NEC'},\n",
              " 851: {'dgns_cd': '7798', 'shortdesc': 'Unsp ds conjuc chlamydia'},\n",
              " 852: {'dgns_cd': '7799', 'shortdesc': 'Unsp ds conjuc viruses'},\n",
              " 853: {'dgns_cd': '780', 'shortdesc': 'Molluscum contagiosum'},\n",
              " 854: {'dgns_cd': '7810', 'shortdesc': 'Viral warts NOS'},\n",
              " 855: {'dgns_cd': '7811', 'shortdesc': 'Condyloma acuminatum'},\n",
              " 856: {'dgns_cd': '7812', 'shortdesc': 'Plantar wart'},\n",
              " 857: {'dgns_cd': '7819', 'shortdesc': 'Oth specfd viral warts'},\n",
              " 858: {'dgns_cd': '782', 'shortdesc': 'Sweating fever'},\n",
              " 859: {'dgns_cd': '783', 'shortdesc': 'Cat-scratch disease'},\n",
              " 860: {'dgns_cd': '784', 'shortdesc': 'Foot & mouth disease'},\n",
              " 861: {'dgns_cd': '785', 'shortdesc': 'Cytomegaloviral disease'},\n",
              " 862: {'dgns_cd': '786', 'shortdesc': 'Hem nephrosonephritis'},\n",
              " 863: {'dgns_cd': '787', 'shortdesc': 'Arenaviral hem fever'},\n",
              " 864: {'dgns_cd': '7881', 'shortdesc': 'Epidemic vertigo'},\n",
              " 865: {'dgns_cd': '7882', 'shortdesc': 'Epidemic vomiting synd'},\n",
              " 866: {'dgns_cd': '7888', 'shortdesc': 'Oth spec dis chlamydiae'},\n",
              " 867: {'dgns_cd': '7889', 'shortdesc': 'Oth spec dis viruses'},\n",
              " 868: {'dgns_cd': '790', 'shortdesc': 'Adenovirus infect NOS'},\n",
              " 869: {'dgns_cd': '791', 'shortdesc': 'Echo virus infect NOS'},\n",
              " 870: {'dgns_cd': '792', 'shortdesc': 'Coxsackie virus inf NOS'},\n",
              " 871: {'dgns_cd': '793', 'shortdesc': 'Rhinovirus infect NOS'},\n",
              " 872: {'dgns_cd': '794', 'shortdesc': 'Human papillomavirus'},\n",
              " 873: {'dgns_cd': '7950', 'shortdesc': 'Retrovirus, unspecified'},\n",
              " 874: {'dgns_cd': '7951', 'shortdesc': 'Htlv-1 infection oth dis'},\n",
              " 875: {'dgns_cd': '7952', 'shortdesc': 'Htlv-ii infectn oth dis'},\n",
              " 876: {'dgns_cd': '7953', 'shortdesc': 'Hiv-2 infection oth dis'},\n",
              " 877: {'dgns_cd': '7959', 'shortdesc': 'Oth specfied retrovirus'},\n",
              " 878: {'dgns_cd': '796', 'shortdesc': 'Resprtry syncytial virus'},\n",
              " 879: {'dgns_cd': '7981', 'shortdesc': 'Hantavirus infection'},\n",
              " 880: {'dgns_cd': '7982', 'shortdesc': 'SARS assoc coronavirus'},\n",
              " 881: {'dgns_cd': '7983', 'shortdesc': 'Parvovirus B19'},\n",
              " 882: {'dgns_cd': '7988', 'shortdesc': 'Oth spcf chlamydial infc'},\n",
              " 883: {'dgns_cd': '7989', 'shortdesc': 'Oth specf viral infectn'},\n",
              " 884: {'dgns_cd': '7998', 'shortdesc': 'Chlamydial infection NOS'},\n",
              " 885: {'dgns_cd': '7999', 'shortdesc': 'Viral infection NOS'},\n",
              " 886: {'dgns_cd': '80', 'shortdesc': 'Louse-borne typhus'},\n",
              " 887: {'dgns_cd': '810', 'shortdesc': 'Murine typhus'},\n",
              " 888: {'dgns_cd': '811', 'shortdesc': \"Brill's disease\"},\n",
              " 889: {'dgns_cd': '812', 'shortdesc': 'Scrub typhus'},\n",
              " 890: {'dgns_cd': '819', 'shortdesc': 'Typhus NOS'},\n",
              " 891: {'dgns_cd': '820', 'shortdesc': 'Spotted fevers'},\n",
              " 892: {'dgns_cd': '821', 'shortdesc': 'Boutonneuse fever'},\n",
              " 893: {'dgns_cd': '822', 'shortdesc': 'North asian tick fever'},\n",
              " 894: {'dgns_cd': '823', 'shortdesc': 'Queensland tick typhus'},\n",
              " 895: {'dgns_cd': '8240', 'shortdesc': 'Ehrlichiosis NOS'},\n",
              " 896: {'dgns_cd': '8241', 'shortdesc': 'Ehrlichiosis chafeensis'},\n",
              " 897: {'dgns_cd': '8249', 'shortdesc': 'Ehrlichiosis NEC'},\n",
              " 898: {'dgns_cd': '828', 'shortdesc': 'Tick-borne ricketts NEC'},\n",
              " 899: {'dgns_cd': '829', 'shortdesc': 'Tick-borne ricketts NOS'},\n",
              " 900: {'dgns_cd': '830', 'shortdesc': 'Q fever'},\n",
              " 901: {'dgns_cd': '831', 'shortdesc': 'Trench fever'},\n",
              " 902: {'dgns_cd': '832', 'shortdesc': 'Rickettsialpox'},\n",
              " 903: {'dgns_cd': '838', 'shortdesc': 'Rickettsioses NEC'},\n",
              " 904: {'dgns_cd': '839', 'shortdesc': 'Rickettsiosis NOS'},\n",
              " 905: {'dgns_cd': '840', 'shortdesc': 'Falciparum malaria'},\n",
              " 906: {'dgns_cd': '841', 'shortdesc': 'Vivax malaria'},\n",
              " 907: {'dgns_cd': '842', 'shortdesc': 'Quartan malaria'},\n",
              " 908: {'dgns_cd': '843', 'shortdesc': 'Ovale malaria'},\n",
              " 909: {'dgns_cd': '844', 'shortdesc': 'Malaria NEC'},\n",
              " 910: {'dgns_cd': '845', 'shortdesc': 'Mixed malaria'},\n",
              " 911: {'dgns_cd': '846', 'shortdesc': 'Malaria NOS'},\n",
              " 912: {'dgns_cd': '847', 'shortdesc': 'Induced malaria'},\n",
              " 913: {'dgns_cd': '848', 'shortdesc': 'Blackwater fever'},\n",
              " 914: {'dgns_cd': '849', 'shortdesc': 'Malaria complicated NEC'},\n",
              " 915: {'dgns_cd': '850', 'shortdesc': 'Visceral leishmaniasis'},\n",
              " 916: {'dgns_cd': '851', 'shortdesc': 'Cutan leishmanias urban'},\n",
              " 917: {'dgns_cd': '852', 'shortdesc': 'Cutan leishmanias asian'},\n",
              " 918: {'dgns_cd': '853', 'shortdesc': 'Cutan leishmanias ethiop'},\n",
              " 919: {'dgns_cd': '854', 'shortdesc': 'Cutan leishmanias amer'},\n",
              " 920: {'dgns_cd': '855', 'shortdesc': 'Mucocutan leishmaniasis'},\n",
              " 921: {'dgns_cd': '859', 'shortdesc': 'Leishmaniasis NOS'},\n",
              " 922: {'dgns_cd': '860', 'shortdesc': 'Chagas disease of heart'},\n",
              " 923: {'dgns_cd': '861', 'shortdesc': 'Chagas dis of oth organ'},\n",
              " 924: {'dgns_cd': '862', 'shortdesc': 'Chagas disease NOS'},\n",
              " 925: {'dgns_cd': '863', 'shortdesc': 'Gambian trypanosomiasis'},\n",
              " 926: {'dgns_cd': '864', 'shortdesc': 'Rhodesian trypanosomias'},\n",
              " 927: {'dgns_cd': '865', 'shortdesc': 'African trypanosoma NOS'},\n",
              " 928: {'dgns_cd': '869', 'shortdesc': 'Trypanosomiasis NOS'},\n",
              " 929: {'dgns_cd': '870', 'shortdesc': 'Louse-borne relaps fever'},\n",
              " 930: {'dgns_cd': '871', 'shortdesc': 'Tick-borne relaps fever'},\n",
              " 931: {'dgns_cd': '879', 'shortdesc': 'Relapsing fever NOS'},\n",
              " 932: {'dgns_cd': '880', 'shortdesc': 'Bartonellosis'},\n",
              " 933: {'dgns_cd': '8881', 'shortdesc': 'Lyme disease'},\n",
              " 934: {'dgns_cd': '8882', 'shortdesc': 'Babesiosis'},\n",
              " 935: {'dgns_cd': '8889', 'shortdesc': 'Oth arthropod-borne dis'},\n",
              " 936: {'dgns_cd': '889', 'shortdesc': 'Arthropod-borne dis NOS'},\n",
              " 937: {'dgns_cd': '900', 'shortdesc': 'Early cong syph symptom'},\n",
              " 938: {'dgns_cd': '901', 'shortdesc': 'Early congen syph latent'},\n",
              " 939: {'dgns_cd': '902', 'shortdesc': 'Early congen syph NOS'},\n",
              " 940: {'dgns_cd': '903', 'shortdesc': 'Syphilitic keratitis'},\n",
              " 941: {'dgns_cd': '9040', 'shortdesc': 'Juvenile neurosyph NOS'},\n",
              " 942: {'dgns_cd': '9041', 'shortdesc': 'Congen syph encephalitis'},\n",
              " 943: {'dgns_cd': '9042', 'shortdesc': 'Congen syph meningitis'},\n",
              " 944: {'dgns_cd': '9049', 'shortdesc': 'Juvenile neurosyph NEC'},\n",
              " 945: {'dgns_cd': '905', 'shortdesc': 'Late congen syph symptom'},\n",
              " 946: {'dgns_cd': '906', 'shortdesc': 'Late congen syph latent'},\n",
              " 947: {'dgns_cd': '907', 'shortdesc': 'Late congen syph NOS'},\n",
              " 948: {'dgns_cd': '909', 'shortdesc': 'Congenital syphilis NOS'},\n",
              " 949: {'dgns_cd': '910', 'shortdesc': 'Primary genital syphilis'},\n",
              " 950: {'dgns_cd': '911', 'shortdesc': 'Primary anal syphilis'},\n",
              " 951: {'dgns_cd': '912', 'shortdesc': 'Primary syphilis NEC'},\n",
              " 952: {'dgns_cd': '913', 'shortdesc': 'Secondary syph skin'},\n",
              " 953: {'dgns_cd': '914', 'shortdesc': 'Syphilitic adenopathy'},\n",
              " 954: {'dgns_cd': '9150', 'shortdesc': 'Syphilitic uveitis NOS'},\n",
              " 955: {'dgns_cd': '9151', 'shortdesc': 'Syphilit chorioretinitis'},\n",
              " 956: {'dgns_cd': '9152', 'shortdesc': 'Syphilitic iridocyclitis'},\n",
              " 957: {'dgns_cd': '9161', 'shortdesc': 'Syphilitic periostitis'},\n",
              " 958: {'dgns_cd': '9162', 'shortdesc': 'Syphilitic hepatitis'},\n",
              " 959: {'dgns_cd': '9169', 'shortdesc': 'Second syph viscera NEC'},\n",
              " 960: {'dgns_cd': '917', 'shortdesc': 'Second syphilis relapse'},\n",
              " 961: {'dgns_cd': '9181', 'shortdesc': 'Acute syphil meningitis'},\n",
              " 962: {'dgns_cd': '9182', 'shortdesc': 'Syphilitic alopecia'},\n",
              " 963: {'dgns_cd': '9189', 'shortdesc': 'Secondary syphilis NEC'},\n",
              " 964: {'dgns_cd': '919', 'shortdesc': 'Secondary syphilis NOS'},\n",
              " 965: {'dgns_cd': '920', 'shortdesc': 'Early syph latent relaps'},\n",
              " 966: {'dgns_cd': '929', 'shortdesc': 'Early syphil latent NOS'},\n",
              " 967: {'dgns_cd': '930', 'shortdesc': 'Aortic aneurysm, syphil'},\n",
              " 968: {'dgns_cd': '931', 'shortdesc': 'Syphilitic aortitis'},\n",
              " 969: {'dgns_cd': '9320', 'shortdesc': 'Syphil endocarditis NOS'},\n",
              " 970: {'dgns_cd': '9321', 'shortdesc': 'Syphilitic mitral valve'},\n",
              " 971: {'dgns_cd': '9322', 'shortdesc': 'Syphilitic aortic valve'},\n",
              " 972: {'dgns_cd': '9323', 'shortdesc': 'Syphil tricuspid valve'},\n",
              " 973: {'dgns_cd': '9324', 'shortdesc': 'Syphil pulmonary valve'},\n",
              " 974: {'dgns_cd': '9381', 'shortdesc': 'Syphilitic pericarditis'},\n",
              " 975: {'dgns_cd': '9382', 'shortdesc': 'Syphilitic myocarditis'},\n",
              " 976: {'dgns_cd': '9389', 'shortdesc': 'Cardiovascular syph NEC'},\n",
              " 977: {'dgns_cd': '939', 'shortdesc': 'Cardiovascular syph NOS'},\n",
              " 978: {'dgns_cd': '940', 'shortdesc': 'Tabes dorsalis'},\n",
              " 979: {'dgns_cd': '941', 'shortdesc': 'General paresis'},\n",
              " 980: {'dgns_cd': '942', 'shortdesc': 'Syphilitic meningitis'},\n",
              " 981: {'dgns_cd': '943', 'shortdesc': 'Asymptomat neurosyphilis'},\n",
              " 982: {'dgns_cd': '9481', 'shortdesc': 'Syphilitic encephalitis'},\n",
              " 983: {'dgns_cd': '9482', 'shortdesc': 'Syphilitic parkinsonism'},\n",
              " 984: {'dgns_cd': '9483', 'shortdesc': 'Syph dissem retinitis'},\n",
              " 985: {'dgns_cd': '9484', 'shortdesc': 'Syphilitic optic atrophy'},\n",
              " 986: {'dgns_cd': '9485', 'shortdesc': 'Syph retrobulb neuritis'},\n",
              " 987: {'dgns_cd': '9486', 'shortdesc': 'Syphil acoustic neuritis'},\n",
              " 988: {'dgns_cd': '9487', 'shortdesc': 'Syph rupt cereb aneurysm'},\n",
              " 989: {'dgns_cd': '9489', 'shortdesc': 'Neurosyphilis NEC'},\n",
              " 990: {'dgns_cd': '949', 'shortdesc': 'Neurosyphilis NOS'},\n",
              " 991: {'dgns_cd': '950', 'shortdesc': 'Syphilitic episcleritis'},\n",
              " 992: {'dgns_cd': '951', 'shortdesc': 'Syphilis of lung'},\n",
              " 993: {'dgns_cd': '952', 'shortdesc': 'Syphilitic peritonitis'},\n",
              " 994: {'dgns_cd': '953', 'shortdesc': 'Syphilis of liver'},\n",
              " 995: {'dgns_cd': '954', 'shortdesc': 'Syphilis of kidney'},\n",
              " 996: {'dgns_cd': '955', 'shortdesc': 'Syphilis of bone'},\n",
              " 997: {'dgns_cd': '956', 'shortdesc': 'Syphilis of muscle'},\n",
              " 998: {'dgns_cd': '957', 'shortdesc': 'Syphilis of tendon/bursa'},\n",
              " 999: {'dgns_cd': '958', 'shortdesc': 'Late sympt syphilis NEC'},\n",
              " ...}"
            ]
          },
          "metadata": {
            "tags": []
          },
          "execution_count": 16
        }
      ]
    },
    {
      "cell_type": "markdown",
      "metadata": {
        "id": "QJolJUghGpIn"
      },
      "source": [
        "To translate the codes to text, we use the method *rename*. The codes, in this case, are in the index, so we use the dictionary (*icd9_code2text*) to rename the index column."
      ]
    },
    {
      "cell_type": "code",
      "metadata": {
        "id": "EhU37E382bPw",
        "outputId": "3bc79c57-0662-41ba-bdc7-fa5050139f4d",
        "colab": {
          "base_uri": "https://localhost:8080/",
          "height": 265
        }
      },
      "source": [
        "\n",
        "(inpatient['ICD9_DGNS_CD_1']\n",
        "    .value_counts()\n",
        "    .rename(index=icd9_code2text)\n",
        "    .head()\n",
        "    .plot.barh());"
      ],
      "execution_count": null,
      "outputs": [
        {
          "output_type": "display_data",
          "data": {
            "image/png": "[encoded data removed]",
            "text/plain": [
              "<Figure size 432x288 with 1 Axes>"
            ]
          },
          "metadata": {
            "tags": [],
            "needs_background": "light"
          }
        }
      ]
    },
    {
      "cell_type": "markdown",
      "metadata": {
        "id": "naW6I5ZTAbby"
      },
      "source": [
        "## How to convert between ICD 9 and 10?\n",
        "\n",
        "Medical coding systems change, and if you have two files with different versions of the coding system, you have to convert one of them in order to make the coding consisten across the file you want to analyze. For instance, the US has switched to the ICD 10 system, but many researchers have data with ICD 9 codes. The ICD 10 has many more detailed diagnoses than ICD 9. If you have both type of files, you may want to either change the one with ICD 10 to ICD 9, or try to transform the ICD 9 to ICD 10. The NBER have provided files for both cases and different types of codes (procedures and clinical). More here: https://www.nber.org/gem/icd10cmtoicd9gem.csv\n",
        "\n",
        "As an example, let's try to transform the ICD 9 codes to ICD 10. \n",
        "\n",
        "First we read the conversion codebook:"
      ]
    },
    {
      "cell_type": "code",
      "metadata": {
        "id": "evS33iOiAbCS",
        "outputId": "0ef458ba-6230-4225-8e18-16442d3a50a4",
        "colab": {
          "base_uri": "https://localhost:8080/",
          "height": 203
        }
      },
      "source": [
        "\n",
        "icd9to10 = pd.read_csv('https://www.nber.org/gem/icd9toicd10cmgem.csv')\n",
        "icd9to10.head()"
      ],
      "execution_count": null,
      "outputs": [
        {
          "output_type": "execute_result",
          "data": {
            "text/html": [
              "<div>\n",
              "<style scoped>\n",
              "    .dataframe tbody tr th:only-of-type {\n",
              "        vertical-align: middle;\n",
              "    }\n",
              "\n",
              "    .dataframe tbody tr th {\n",
              "        vertical-align: top;\n",
              "    }\n",
              "\n",
              "    .dataframe thead th {\n",
              "        text-align: right;\n",
              "    }\n",
              "</style>\n",
              "<table border=\"1\" class=\"dataframe\">\n",
              "  <thead>\n",
              "    <tr style=\"text-align: right;\">\n",
              "      <th></th>\n",
              "      <th>icd9cm</th>\n",
              "      <th>icd10cm</th>\n",
              "      <th>flags</th>\n",
              "      <th>approximate</th>\n",
              "      <th>no_map</th>\n",
              "      <th>combination</th>\n",
              "      <th>scenario</th>\n",
              "      <th>choice_list</th>\n",
              "    </tr>\n",
              "  </thead>\n",
              "  <tbody>\n",
              "    <tr>\n",
              "      <th>0</th>\n",
              "      <td>0010</td>\n",
              "      <td>A000</td>\n",
              "      <td>0</td>\n",
              "      <td>0</td>\n",
              "      <td>0</td>\n",
              "      <td>0</td>\n",
              "      <td>0</td>\n",
              "      <td>0</td>\n",
              "    </tr>\n",
              "    <tr>\n",
              "      <th>1</th>\n",
              "      <td>0011</td>\n",
              "      <td>A001</td>\n",
              "      <td>0</td>\n",
              "      <td>0</td>\n",
              "      <td>0</td>\n",
              "      <td>0</td>\n",
              "      <td>0</td>\n",
              "      <td>0</td>\n",
              "    </tr>\n",
              "    <tr>\n",
              "      <th>2</th>\n",
              "      <td>0019</td>\n",
              "      <td>A009</td>\n",
              "      <td>0</td>\n",
              "      <td>0</td>\n",
              "      <td>0</td>\n",
              "      <td>0</td>\n",
              "      <td>0</td>\n",
              "      <td>0</td>\n",
              "    </tr>\n",
              "    <tr>\n",
              "      <th>3</th>\n",
              "      <td>0020</td>\n",
              "      <td>A0100</td>\n",
              "      <td>10000</td>\n",
              "      <td>1</td>\n",
              "      <td>0</td>\n",
              "      <td>0</td>\n",
              "      <td>0</td>\n",
              "      <td>0</td>\n",
              "    </tr>\n",
              "    <tr>\n",
              "      <th>4</th>\n",
              "      <td>0021</td>\n",
              "      <td>A011</td>\n",
              "      <td>0</td>\n",
              "      <td>0</td>\n",
              "      <td>0</td>\n",
              "      <td>0</td>\n",
              "      <td>0</td>\n",
              "      <td>0</td>\n",
              "    </tr>\n",
              "  </tbody>\n",
              "</table>\n",
              "</div>"
            ],
            "text/plain": [
              "  icd9cm icd10cm  flags  ...  combination  scenario  choice_list\n",
              "0   0010    A000      0  ...            0         0            0\n",
              "1   0011    A001      0  ...            0         0            0\n",
              "2   0019    A009      0  ...            0         0            0\n",
              "3   0020   A0100  10000  ...            0         0            0\n",
              "4   0021    A011      0  ...            0         0            0\n",
              "\n",
              "[5 rows x 8 columns]"
            ]
          },
          "metadata": {
            "tags": []
          },
          "execution_count": 20
        }
      ]
    },
    {
      "cell_type": "markdown",
      "metadata": {
        "id": "ha6H2VemDdog"
      },
      "source": [
        "Next we create a dictionary mapping ICD 9 to ICD 10 codes:"
      ]
    },
    {
      "cell_type": "code",
      "metadata": {
        "id": "Qxc-CE_IDlXe"
      },
      "source": [
        "icd_map_9to10 = dict(zip(icd9to10.icd9cm, icd9to10.icd10cm))\n",
        "icd_map_9to10"
      ],
      "execution_count": null,
      "outputs": []
    },
    {
      "cell_type": "markdown",
      "metadata": {
        "id": "zQ-6ud3LE9s2"
      },
      "source": [
        "Make a new column mapping the old to new ICD codes:"
      ]
    },
    {
      "cell_type": "code",
      "metadata": {
        "id": "kmbImcZhFI77",
        "outputId": "d76e1685-53d9-447d-b0d1-bb7995bb6721",
        "colab": {
          "base_uri": "https://localhost:8080/"
        }
      },
      "source": [
        "inpatient['icd10']=inpatient['ICD9_DGNS_CD_1'].map(icd_map_9to10)\n",
        "inpatient['icd10']\n"
      ],
      "execution_count": null,
      "outputs": [
        {
          "output_type": "execute_result",
          "data": {
            "text/plain": [
              "0            R55\n",
              "1          C7800\n",
              "2           N815\n",
              "3           F322\n",
              "4           G609\n",
              "          ...   \n",
              "66768       J111\n",
              "66769    T424X4A\n",
              "66770      C7952\n",
              "66771       C169\n",
              "66772      I2510\n",
              "Name: icd10, Length: 66773, dtype: object"
            ]
          },
          "metadata": {
            "tags": []
          },
          "execution_count": 23
        }
      ]
    },
    {
      "cell_type": "markdown",
      "metadata": {
        "id": "6z2Hy-VkHcI2"
      },
      "source": [
        "Having converted the codes to ICD 10, we now need the codebook for ICD 10 to know what the new codes mean:"
      ]
    },
    {
      "cell_type": "code",
      "metadata": {
        "id": "KacRl692HfJK",
        "outputId": "3940ad94-d28b-4402-bc05-f8f2983ade60",
        "colab": {
          "base_uri": "https://localhost:8080/",
          "height": 473
        }
      },
      "source": [
        "\n",
        "icd10_codebook = pd.read_table('ftp://ftp.cdc.gov/pub/Health_Statistics/NCHS/Publications/ICD10CM/2019/icd10cm_codes_2019.txt', \n",
        "                            header=None, names = ['icd10_code', 'icd10_text'], sep='   ')\n",
        "icd10_codebook"
      ],
      "execution_count": null,
      "outputs": [
        {
          "output_type": "stream",
          "text": [
            "/usr/local/lib/python3.6/dist-packages/pandas/io/parsers.py:755: ParserWarning: Falling back to the 'python' engine because the 'c' engine does not support regex separators (separators > 1 char and different from '\\s+' are interpreted as regex); you can avoid this warning by specifying engine='python'.\n",
            "  return read_csv(**locals())\n"
          ],
          "name": "stderr"
        },
        {
          "output_type": "execute_result",
          "data": {
            "text/html": [
              "<div>\n",
              "<style scoped>\n",
              "    .dataframe tbody tr th:only-of-type {\n",
              "        vertical-align: middle;\n",
              "    }\n",
              "\n",
              "    .dataframe tbody tr th {\n",
              "        vertical-align: top;\n",
              "    }\n",
              "\n",
              "    .dataframe thead th {\n",
              "        text-align: right;\n",
              "    }\n",
              "</style>\n",
              "<table border=\"1\" class=\"dataframe\">\n",
              "  <thead>\n",
              "    <tr style=\"text-align: right;\">\n",
              "      <th></th>\n",
              "      <th>icd10_code</th>\n",
              "      <th>icd10_text</th>\n",
              "    </tr>\n",
              "  </thead>\n",
              "  <tbody>\n",
              "    <tr>\n",
              "      <th>0</th>\n",
              "      <td>A000</td>\n",
              "      <td>Cholera due to Vibrio cholerae 01, biovar cho...</td>\n",
              "    </tr>\n",
              "    <tr>\n",
              "      <th>1</th>\n",
              "      <td>A001</td>\n",
              "      <td>Cholera due to Vibrio cholerae 01, biovar eltor</td>\n",
              "    </tr>\n",
              "    <tr>\n",
              "      <th>2</th>\n",
              "      <td>A009</td>\n",
              "      <td>Cholera, unspecified</td>\n",
              "    </tr>\n",
              "    <tr>\n",
              "      <th>3</th>\n",
              "      <td>A0100</td>\n",
              "      <td>Typhoid fever, unspecified</td>\n",
              "    </tr>\n",
              "    <tr>\n",
              "      <th>4</th>\n",
              "      <td>A0101</td>\n",
              "      <td>Typhoid meningitis</td>\n",
              "    </tr>\n",
              "    <tr>\n",
              "      <th>...</th>\n",
              "      <td>...</td>\n",
              "      <td>...</td>\n",
              "    </tr>\n",
              "    <tr>\n",
              "      <th>71927</th>\n",
              "      <td>Z9912</td>\n",
              "      <td>Encounter for respirator [ventilator] dependen...</td>\n",
              "    </tr>\n",
              "    <tr>\n",
              "      <th>71928</th>\n",
              "      <td>Z992</td>\n",
              "      <td>Dependence on renal dialysis</td>\n",
              "    </tr>\n",
              "    <tr>\n",
              "      <th>71929</th>\n",
              "      <td>Z993</td>\n",
              "      <td>Dependence on wheelchair</td>\n",
              "    </tr>\n",
              "    <tr>\n",
              "      <th>71930</th>\n",
              "      <td>Z9981</td>\n",
              "      <td>Dependence on supplemental oxygen</td>\n",
              "    </tr>\n",
              "    <tr>\n",
              "      <th>71931</th>\n",
              "      <td>Z9989</td>\n",
              "      <td>Dependence on other enabling machines and devices</td>\n",
              "    </tr>\n",
              "  </tbody>\n",
              "</table>\n",
              "<p>71932 rows × 2 columns</p>\n",
              "</div>"
            ],
            "text/plain": [
              "      icd10_code                                         icd10_text\n",
              "0           A000   Cholera due to Vibrio cholerae 01, biovar cho...\n",
              "1           A001    Cholera due to Vibrio cholerae 01, biovar eltor\n",
              "2           A009                               Cholera, unspecified\n",
              "3          A0100                         Typhoid fever, unspecified\n",
              "4          A0101                                 Typhoid meningitis\n",
              "...          ...                                                ...\n",
              "71927      Z9912  Encounter for respirator [ventilator] dependen...\n",
              "71928       Z992                       Dependence on renal dialysis\n",
              "71929       Z993                           Dependence on wheelchair\n",
              "71930      Z9981                  Dependence on supplemental oxygen\n",
              "71931      Z9989  Dependence on other enabling machines and devices\n",
              "\n",
              "[71932 rows x 2 columns]"
            ]
          },
          "metadata": {
            "tags": []
          },
          "execution_count": 24
        }
      ]
    },
    {
      "cell_type": "markdown",
      "metadata": {
        "id": "I_XYet9WT0Zu"
      },
      "source": [
        "And we should get the same result, with new codes:"
      ]
    },
    {
      "cell_type": "code",
      "metadata": {
        "id": "XkRaZYcITyw8",
        "outputId": "0cdbaf68-6618-4472-e21b-1c5e594d91d0",
        "colab": {
          "base_uri": "https://localhost:8080/",
          "height": 265
        }
      },
      "source": [
        "icd10_codes2text=icd10_codebook.set_index('icd10_code').icd10_text.to_dict()\n",
        "inpatient.icd10.value_counts().rename(index=icd10_codes2text).head().plot.barh();"
      ],
      "execution_count": null,
      "outputs": [
        {
          "output_type": "display_data",
          "data": {
            "image/png": "[encoded data removed]",
            "text/plain": [
              "<Figure size 432x288 with 1 Axes>"
            ]
          },
          "metadata": {
            "tags": [],
            "needs_background": "light"
          }
        }
      ]
    },
    {
      "cell_type": "markdown",
      "metadata": {
        "id": "518-OilAVlLv"
      },
      "source": [
        "## Changing the granularity of a a code\n",
        "\n",
        "Overviews at the level of full ICD categories are often too detailed to be useful. For instance, there are meny differnt ICD 10 categories for births, and in order to know how many births there were, we have to group all of these codes into larger categories before counting.\n",
        "\n",
        "First, as a starting point to find relevant categories, we search for \"birth\" in the codebook:"
      ]
    },
    {
      "cell_type": "code",
      "metadata": {
        "id": "p8IESQQ2VkQR",
        "outputId": "11ccf60f-3648-4b7d-b300-f22e643315ea",
        "colab": {
          "base_uri": "https://localhost:8080/",
          "height": 48
        }
      },
      "source": [
        "icd10_codebook.query(\"'birth' in icd10_text\")"
      ],
      "execution_count": null,
      "outputs": [
        {
          "output_type": "execute_result",
          "data": {
            "text/html": [
              "<div>\n",
              "<style scoped>\n",
              "    .dataframe tbody tr th:only-of-type {\n",
              "        vertical-align: middle;\n",
              "    }\n",
              "\n",
              "    .dataframe tbody tr th {\n",
              "        vertical-align: top;\n",
              "    }\n",
              "\n",
              "    .dataframe thead th {\n",
              "        text-align: right;\n",
              "    }\n",
              "</style>\n",
              "<table border=\"1\" class=\"dataframe\">\n",
              "  <thead>\n",
              "    <tr style=\"text-align: right;\">\n",
              "      <th></th>\n",
              "      <th>icd10_code</th>\n",
              "      <th>icd10_text</th>\n",
              "    </tr>\n",
              "  </thead>\n",
              "  <tbody>\n",
              "  </tbody>\n",
              "</table>\n",
              "</div>"
            ],
            "text/plain": [
              "Empty DataFrame\n",
              "Columns: [icd10_code, icd10_text]\n",
              "Index: []"
            ]
          },
          "metadata": {
            "tags": []
          },
          "execution_count": 26
        }
      ]
    },
    {
      "cell_type": "code",
      "metadata": {
        "id": "HaPCeTLTWcSK",
        "outputId": "23d7a575-45a0-4a1c-c5b7-6b59dc8591dc",
        "colab": {
          "base_uri": "https://localhost:8080/",
          "height": 448
        }
      },
      "source": [
        "icd10_codebook = icd10_codebook.set_index('icd10_code')\n",
        "birth_rows=icd10_codebook.icd10_text.str.contains('birth', na=False)\n",
        "icd10_codebook[birth_rows]"
      ],
      "execution_count": null,
      "outputs": [
        {
          "output_type": "execute_result",
          "data": {
            "text/html": [
              "<div>\n",
              "<style scoped>\n",
              "    .dataframe tbody tr th:only-of-type {\n",
              "        vertical-align: middle;\n",
              "    }\n",
              "\n",
              "    .dataframe tbody tr th {\n",
              "        vertical-align: top;\n",
              "    }\n",
              "\n",
              "    .dataframe thead th {\n",
              "        text-align: right;\n",
              "    }\n",
              "</style>\n",
              "<table border=\"1\" class=\"dataframe\">\n",
              "  <thead>\n",
              "    <tr style=\"text-align: right;\">\n",
              "      <th></th>\n",
              "      <th>icd10_text</th>\n",
              "    </tr>\n",
              "    <tr>\n",
              "      <th>icd10_code</th>\n",
              "      <th></th>\n",
              "    </tr>\n",
              "  </thead>\n",
              "  <tbody>\n",
              "    <tr>\n",
              "      <th>N643</th>\n",
              "      <td>Galactorrhea not associated with childbirth</td>\n",
              "    </tr>\n",
              "    <tr>\n",
              "      <th>O1002</th>\n",
              "      <td>Pre-existing essential hypertension complicati...</td>\n",
              "    </tr>\n",
              "    <tr>\n",
              "      <th>O1012</th>\n",
              "      <td>Pre-existing hypertensive heart disease compli...</td>\n",
              "    </tr>\n",
              "    <tr>\n",
              "      <th>O1022</th>\n",
              "      <td>Pre-existing hypertensive chronic kidney disea...</td>\n",
              "    </tr>\n",
              "    <tr>\n",
              "      <th>O1032</th>\n",
              "      <td>Pre-existing hypertensive heart and chronic ki...</td>\n",
              "    </tr>\n",
              "    <tr>\n",
              "      <th>...</th>\n",
              "      <td>...</td>\n",
              "    </tr>\n",
              "    <tr>\n",
              "      <th>Z382</th>\n",
              "      <td>Single liveborn infant, unspecified as to pla...</td>\n",
              "    </tr>\n",
              "    <tr>\n",
              "      <th>Z385</th>\n",
              "      <td>Twin liveborn infant, unspecified as to place...</td>\n",
              "    </tr>\n",
              "    <tr>\n",
              "      <th>Z388</th>\n",
              "      <td>Other multiple liveborn infant, unspecified a...</td>\n",
              "    </tr>\n",
              "    <tr>\n",
              "      <th>Z7681</th>\n",
              "      <td>Expectant parent(s) prebirth pediatrician visit</td>\n",
              "    </tr>\n",
              "    <tr>\n",
              "      <th>Z8759</th>\n",
              "      <td>Personal history of other complications of pre...</td>\n",
              "    </tr>\n",
              "  </tbody>\n",
              "</table>\n",
              "<p>104 rows × 1 columns</p>\n",
              "</div>"
            ],
            "text/plain": [
              "                                                   icd10_text\n",
              "icd10_code                                                   \n",
              "N643              Galactorrhea not associated with childbirth\n",
              "O1002       Pre-existing essential hypertension complicati...\n",
              "O1012       Pre-existing hypertensive heart disease compli...\n",
              "O1022       Pre-existing hypertensive chronic kidney disea...\n",
              "O1032       Pre-existing hypertensive heart and chronic ki...\n",
              "...                                                       ...\n",
              "Z382         Single liveborn infant, unspecified as to pla...\n",
              "Z385         Twin liveborn infant, unspecified as to place...\n",
              "Z388         Other multiple liveborn infant, unspecified a...\n",
              "Z7681         Expectant parent(s) prebirth pediatrician visit\n",
              "Z8759       Personal history of other complications of pre...\n",
              "\n",
              "[104 rows x 1 columns]"
            ]
          },
          "metadata": {
            "tags": []
          },
          "execution_count": 27
        }
      ]
    },
    {
      "cell_type": "markdown",
      "metadata": {
        "id": "etK5S6x2e3ic"
      },
      "source": [
        "Clearly not all of these codes are relevant if we want to make a list of codes related to childbirth. The first, N643, is explicitly *not* about childbirth. But some codes look very relevant, for instance the codes starting with Z38 seem to be important.\n",
        "\n",
        "To look closere at the Z38 codes we use _startswith()_:\n",
        "\n"
      ]
    },
    {
      "cell_type": "code",
      "metadata": {
        "id": "8GahwO69VkKN",
        "outputId": "8443c51f-daaf-4d27-f372-4558d5fc2e2d",
        "colab": {
          "base_uri": "https://localhost:8080/",
          "height": 614
        }
      },
      "source": [
        "icd10_codebook[icd10_codebook.index.str.startswith('Z38')]"
      ],
      "execution_count": null,
      "outputs": [
        {
          "output_type": "execute_result",
          "data": {
            "text/html": [
              "<div>\n",
              "<style scoped>\n",
              "    .dataframe tbody tr th:only-of-type {\n",
              "        vertical-align: middle;\n",
              "    }\n",
              "\n",
              "    .dataframe tbody tr th {\n",
              "        vertical-align: top;\n",
              "    }\n",
              "\n",
              "    .dataframe thead th {\n",
              "        text-align: right;\n",
              "    }\n",
              "</style>\n",
              "<table border=\"1\" class=\"dataframe\">\n",
              "  <thead>\n",
              "    <tr style=\"text-align: right;\">\n",
              "      <th></th>\n",
              "      <th>icd10_text</th>\n",
              "    </tr>\n",
              "    <tr>\n",
              "      <th>icd10_code</th>\n",
              "      <th></th>\n",
              "    </tr>\n",
              "  </thead>\n",
              "  <tbody>\n",
              "    <tr>\n",
              "      <th>Z3800</th>\n",
              "      <td>Single liveborn infant, delivered vaginally</td>\n",
              "    </tr>\n",
              "    <tr>\n",
              "      <th>Z3801</th>\n",
              "      <td>Single liveborn infant, delivered by cesarean</td>\n",
              "    </tr>\n",
              "    <tr>\n",
              "      <th>Z381</th>\n",
              "      <td>Single liveborn infant, born outside hospital</td>\n",
              "    </tr>\n",
              "    <tr>\n",
              "      <th>Z382</th>\n",
              "      <td>Single liveborn infant, unspecified as to pla...</td>\n",
              "    </tr>\n",
              "    <tr>\n",
              "      <th>Z3830</th>\n",
              "      <td>Twin liveborn infant, delivered vaginally</td>\n",
              "    </tr>\n",
              "    <tr>\n",
              "      <th>Z3831</th>\n",
              "      <td>Twin liveborn infant, delivered by cesarean</td>\n",
              "    </tr>\n",
              "    <tr>\n",
              "      <th>Z384</th>\n",
              "      <td>Twin liveborn infant, born outside hospital</td>\n",
              "    </tr>\n",
              "    <tr>\n",
              "      <th>Z385</th>\n",
              "      <td>Twin liveborn infant, unspecified as to place...</td>\n",
              "    </tr>\n",
              "    <tr>\n",
              "      <th>Z3861</th>\n",
              "      <td>Triplet liveborn infant, delivered vaginally</td>\n",
              "    </tr>\n",
              "    <tr>\n",
              "      <th>Z3862</th>\n",
              "      <td>Triplet liveborn infant, delivered by cesarean</td>\n",
              "    </tr>\n",
              "    <tr>\n",
              "      <th>Z3863</th>\n",
              "      <td>Quadruplet liveborn infant, delivered vaginally</td>\n",
              "    </tr>\n",
              "    <tr>\n",
              "      <th>Z3864</th>\n",
              "      <td>Quadruplet liveborn infant, delivered by cesarean</td>\n",
              "    </tr>\n",
              "    <tr>\n",
              "      <th>Z3865</th>\n",
              "      <td>Quintuplet liveborn infant, delivered vaginally</td>\n",
              "    </tr>\n",
              "    <tr>\n",
              "      <th>Z3866</th>\n",
              "      <td>Quintuplet liveborn infant, delivered by cesarean</td>\n",
              "    </tr>\n",
              "    <tr>\n",
              "      <th>Z3868</th>\n",
              "      <td>Other multiple liveborn infant, delivered vagi...</td>\n",
              "    </tr>\n",
              "    <tr>\n",
              "      <th>Z3869</th>\n",
              "      <td>Other multiple liveborn infant, delivered by c...</td>\n",
              "    </tr>\n",
              "    <tr>\n",
              "      <th>Z387</th>\n",
              "      <td>Other multiple liveborn infant, born outside ...</td>\n",
              "    </tr>\n",
              "    <tr>\n",
              "      <th>Z388</th>\n",
              "      <td>Other multiple liveborn infant, unspecified a...</td>\n",
              "    </tr>\n",
              "  </tbody>\n",
              "</table>\n",
              "</div>"
            ],
            "text/plain": [
              "                                                   icd10_text\n",
              "icd10_code                                                   \n",
              "Z3800             Single liveborn infant, delivered vaginally\n",
              "Z3801           Single liveborn infant, delivered by cesarean\n",
              "Z381            Single liveborn infant, born outside hospital\n",
              "Z382         Single liveborn infant, unspecified as to pla...\n",
              "Z3830               Twin liveborn infant, delivered vaginally\n",
              "Z3831             Twin liveborn infant, delivered by cesarean\n",
              "Z384              Twin liveborn infant, born outside hospital\n",
              "Z385         Twin liveborn infant, unspecified as to place...\n",
              "Z3861            Triplet liveborn infant, delivered vaginally\n",
              "Z3862          Triplet liveborn infant, delivered by cesarean\n",
              "Z3863         Quadruplet liveborn infant, delivered vaginally\n",
              "Z3864       Quadruplet liveborn infant, delivered by cesarean\n",
              "Z3865         Quintuplet liveborn infant, delivered vaginally\n",
              "Z3866       Quintuplet liveborn infant, delivered by cesarean\n",
              "Z3868       Other multiple liveborn infant, delivered vagi...\n",
              "Z3869       Other multiple liveborn infant, delivered by c...\n",
              "Z387         Other multiple liveborn infant, born outside ...\n",
              "Z388         Other multiple liveborn infant, unspecified a..."
            ]
          },
          "metadata": {
            "tags": []
          },
          "execution_count": 18
        }
      ]
    },
    {
      "cell_type": "markdown",
      "metadata": {
        "id": "keXXJo5shJ3v"
      },
      "source": [
        "To count codes at a higher level than the most detailed ICD 10 category, we could try to count the number of different codes when we only use the  first three character of the full ICD 10 code:"
      ]
    },
    {
      "cell_type": "code",
      "metadata": {
        "id": "4yveLmfpg1qh",
        "outputId": "3879e52e-1eeb-498a-8345-7175710d3a41",
        "colab": {
          "base_uri": "https://localhost:8080/",
          "height": 217
        }
      },
      "source": [
        "# Use .str()[:3] to slice the first three charcters of all elements in a series\n",
        "inpatient.icd10.str[:3].value_counts()"
      ],
      "execution_count": null,
      "outputs": [
        {
          "output_type": "execute_result",
          "data": {
            "text/plain": [
              "I50    3143\n",
              "J18    2558\n",
              "J44    2397\n",
              "I25    1994\n",
              "Z51    1986\n",
              "       ... \n",
              "E55       1\n",
              "H57       1\n",
              "C62       1\n",
              "O80       1\n",
              "F84       1\n",
              "Name: icd10, Length: 825, dtype: int64"
            ]
          },
          "metadata": {
            "tags": []
          },
          "execution_count": 19
        }
      ]
    },
    {
      "cell_type": "markdown",
      "metadata": {
        "id": "g45bgKE2h4M7"
      },
      "source": [
        "This works, but unfortunately, the file we used from the NBER to create a mapping between text and code, only included the detailed codes and not the text mapping for the more general codes. \n",
        "\n",
        "Exercise: Map the ICD 10 categories to the US system of Hierarchical Condition Categories (HCC) using these files:\n",
        "https://www.nber.org/data/icd-hcc-crosswalk-icd-rxhcc-crosswalk.html\n"
      ]
    },
    {
      "cell_type": "code",
      "metadata": {
        "id": "MA-tpwOLzrTZ"
      },
      "source": [
        ""
      ],
      "execution_count": null,
      "outputs": []
    },
    {
      "cell_type": "markdown",
      "metadata": {
        "id": "njPmvoR4HtI2"
      },
      "source": [
        "# Another example: National Drug Codes\n",
        "\n",
        "National Drug Codes are used in the US to record the different types of pharmaceuticals a patient gets. It is more complicated than the example with the ICD because in order to use these codes, we often have to extracts and reconstruct parts of the code. This is because the code itself has three parts (the labeller, the product, and the package), and there are two different standards (some use NDC codes that are 11 digits, some use 10 digits), and there are different practices with respect to whether a leading zero should be included. More details in this link: https://www.drugs.com/ndc.html\n",
        "\n",
        "But, instead of being caught up in all the problems, let us just dive in and solve the issues as they appear!\n",
        "\n",
        "We will start by loading a sample of synthetic data on prescription events from medicare:"
      ]
    },
    {
      "cell_type": "code",
      "metadata": {
        "id": "R1lRq75-zQ08"
      },
      "source": [
        "# imports\n",
        "import pandas as pd"
      ],
      "execution_count": null,
      "outputs": []
    },
    {
      "cell_type": "code",
      "metadata": {
        "id": "FFi8PfA-xUpb",
        "outputId": "d43ec068-d542-43eb-fd21-dc98af47c3bc",
        "colab": {
          "base_uri": "https://localhost:8080/",
          "height": 70
        }
      },
      "source": [
        "# Read synthetic medicare sample data on pharmaceuticals\n",
        "path= 'http://downloads.cms.gov/files/'\n",
        "rx_file = 'DE1_0_2008_to_2010_Prescription_Drug_Events_Sample_1.zip'\n",
        "#path = 'http://downloads.cms.gov/files/'\n",
        "rx = pd.read_csv(path+rx_file)"
      ],
      "execution_count": null,
      "outputs": [
        {
          "output_type": "stream",
          "text": [
            "/usr/local/lib/python3.6/dist-packages/IPython/core/interactiveshell.py:2718: DtypeWarning: Columns (3) have mixed types. Specify dtype option on import or set low_memory=False.\n",
            "  interactivity=interactivity, compiler=compiler, result=result)\n"
          ],
          "name": "stderr"
        }
      ]
    },
    {
      "cell_type": "code",
      "metadata": {
        "id": "mj5c5BcaxUp4",
        "outputId": "d989672e-e854-4251-8213-a0f6479de0f0",
        "colab": {
          "base_uri": "https://localhost:8080/",
          "height": 196
        }
      },
      "source": [
        "# First look\n",
        "rx.head()"
      ],
      "execution_count": null,
      "outputs": [
        {
          "output_type": "execute_result",
          "data": {
            "text/html": [
              "<div>\n",
              "<style scoped>\n",
              "    .dataframe tbody tr th:only-of-type {\n",
              "        vertical-align: middle;\n",
              "    }\n",
              "\n",
              "    .dataframe tbody tr th {\n",
              "        vertical-align: top;\n",
              "    }\n",
              "\n",
              "    .dataframe thead th {\n",
              "        text-align: right;\n",
              "    }\n",
              "</style>\n",
              "<table border=\"1\" class=\"dataframe\">\n",
              "  <thead>\n",
              "    <tr style=\"text-align: right;\">\n",
              "      <th></th>\n",
              "      <th>DESYNPUF_ID</th>\n",
              "      <th>PDE_ID</th>\n",
              "      <th>SRVC_DT</th>\n",
              "      <th>PROD_SRVC_ID</th>\n",
              "      <th>QTY_DSPNSD_NUM</th>\n",
              "      <th>DAYS_SUPLY_NUM</th>\n",
              "      <th>PTNT_PAY_AMT</th>\n",
              "      <th>TOT_RX_CST_AMT</th>\n",
              "    </tr>\n",
              "  </thead>\n",
              "  <tbody>\n",
              "    <tr>\n",
              "      <th>0</th>\n",
              "      <td>00013D2EFD8E45D1</td>\n",
              "      <td>233664490397622</td>\n",
              "      <td>20080103</td>\n",
              "      <td>247037252</td>\n",
              "      <td>30.0</td>\n",
              "      <td>20</td>\n",
              "      <td>10.0</td>\n",
              "      <td>120.0</td>\n",
              "    </tr>\n",
              "    <tr>\n",
              "      <th>1</th>\n",
              "      <td>00013D2EFD8E45D1</td>\n",
              "      <td>233644490171972</td>\n",
              "      <td>20080105</td>\n",
              "      <td>223039502</td>\n",
              "      <td>10.0</td>\n",
              "      <td>10</td>\n",
              "      <td>0.0</td>\n",
              "      <td>0.0</td>\n",
              "    </tr>\n",
              "    <tr>\n",
              "      <th>2</th>\n",
              "      <td>00013D2EFD8E45D1</td>\n",
              "      <td>233974489116848</td>\n",
              "      <td>20080109</td>\n",
              "      <td>364724812</td>\n",
              "      <td>120.0</td>\n",
              "      <td>30</td>\n",
              "      <td>10.0</td>\n",
              "      <td>110.0</td>\n",
              "    </tr>\n",
              "    <tr>\n",
              "      <th>3</th>\n",
              "      <td>00013D2EFD8E45D1</td>\n",
              "      <td>233574491083209</td>\n",
              "      <td>20080123</td>\n",
              "      <td>179180672</td>\n",
              "      <td>30.0</td>\n",
              "      <td>30</td>\n",
              "      <td>0.0</td>\n",
              "      <td>240.0</td>\n",
              "    </tr>\n",
              "    <tr>\n",
              "      <th>4</th>\n",
              "      <td>00013D2EFD8E45D1</td>\n",
              "      <td>233024491180571</td>\n",
              "      <td>20080124</td>\n",
              "      <td>58016005300</td>\n",
              "      <td>30.0</td>\n",
              "      <td>30</td>\n",
              "      <td>70.0</td>\n",
              "      <td>70.0</td>\n",
              "    </tr>\n",
              "  </tbody>\n",
              "</table>\n",
              "</div>"
            ],
            "text/plain": [
              "        DESYNPUF_ID           PDE_ID  ...  PTNT_PAY_AMT TOT_RX_CST_AMT\n",
              "0  00013D2EFD8E45D1  233664490397622  ...          10.0          120.0\n",
              "1  00013D2EFD8E45D1  233644490171972  ...           0.0            0.0\n",
              "2  00013D2EFD8E45D1  233974489116848  ...          10.0          110.0\n",
              "3  00013D2EFD8E45D1  233574491083209  ...           0.0          240.0\n",
              "4  00013D2EFD8E45D1  233024491180571  ...          70.0           70.0\n",
              "\n",
              "[5 rows x 8 columns]"
            ]
          },
          "metadata": {
            "tags": []
          },
          "execution_count": 22
        }
      ]
    },
    {
      "cell_type": "code",
      "metadata": {
        "id": "E-qgQQJ4xUqI"
      },
      "source": [
        "# Initial preparation\n",
        "\n",
        "rx.columns=rx.columns.str.lower()\n",
        "rx['pid']=rx.desynpuf_id\n",
        "rx=rx.set_index('pid', drop=False)\n",
        "rx.index.name='pid_index'"
      ],
      "execution_count": null,
      "outputs": []
    },
    {
      "cell_type": "markdown",
      "metadata": {
        "id": "OdH4pZQr1B91"
      },
      "source": [
        "# Which type of pharmaceutical is most commonly prescribed?\n",
        "\n",
        "Information about the pharmaceutical, is in the *prod_srvc_id colum*, so we select that column from the *rx* dataframe and do a value_counts() with the argument *normalize=True* in order to get the percentage instead of the absolute number of events with the phamrmaceutical."
      ]
    },
    {
      "cell_type": "code",
      "metadata": {
        "id": "7LRIm-xqW7qo",
        "outputId": "6de3c74b-c4c7-490e-cbb9-83f7a84631b2",
        "colab": {
          "base_uri": "https://localhost:8080/",
          "height": 217
        }
      },
      "source": [
        "rx.prod_srvc_id.value_counts()\n"
      ],
      "execution_count": null,
      "outputs": [
        {
          "output_type": "execute_result",
          "data": {
            "text/plain": [
              "2840001        165\n",
              "54868540600    156\n",
              "62381840001    142\n",
              "52959081303    141\n",
              "54569489700    140\n",
              "              ... \n",
              "67544002570      1\n",
              "00093014810      1\n",
              "00879015010      1\n",
              "51079009501      1\n",
              "52945002301      1\n",
              "Name: prod_srvc_id, Length: 507625, dtype: int64"
            ]
          },
          "metadata": {
            "tags": []
          },
          "execution_count": 24
        }
      ]
    },
    {
      "cell_type": "markdown",
      "metadata": {
        "id": "jMSiXvjExUqU"
      },
      "source": [
        "In order to interpret this we would like to know the name of the products, not just the product code. So we need to get the codebook for drug products. NBER has these codebooks, one for products and one for packages, and we download these."
      ]
    },
    {
      "cell_type": "code",
      "metadata": {
        "id": "xWoXgIlHxUqV",
        "outputId": "0a4d3c9b-4b82-4844-9b0d-7e84f0d8e16c",
        "colab": {
          "base_uri": "https://localhost:8080/",
          "height": 501
        }
      },
      "source": [
        "# Read codebooks for NDC codes\n",
        "ndc_product_codes = pd.read_csv('https://www.nber.org/fda/ndc/product.csv', encoding='latin-1')\n",
        "ndc_product_codes.head()"
      ],
      "execution_count": null,
      "outputs": [
        {
          "output_type": "stream",
          "text": [
            "/usr/local/lib/python3.6/dist-packages/IPython/core/interactiveshell.py:2718: DtypeWarning: Columns (8) have mixed types. Specify dtype option on import or set low_memory=False.\n",
            "  interactivity=interactivity, compiler=compiler, result=result)\n"
          ],
          "name": "stderr"
        },
        {
          "output_type": "execute_result",
          "data": {
            "text/html": [
              "<div>\n",
              "<style scoped>\n",
              "    .dataframe tbody tr th:only-of-type {\n",
              "        vertical-align: middle;\n",
              "    }\n",
              "\n",
              "    .dataframe tbody tr th {\n",
              "        vertical-align: top;\n",
              "    }\n",
              "\n",
              "    .dataframe thead th {\n",
              "        text-align: right;\n",
              "    }\n",
              "</style>\n",
              "<table border=\"1\" class=\"dataframe\">\n",
              "  <thead>\n",
              "    <tr style=\"text-align: right;\">\n",
              "      <th></th>\n",
              "      <th>prodid</th>\n",
              "      <th>ndc</th>\n",
              "      <th>prodtype</th>\n",
              "      <th>propname</th>\n",
              "      <th>propsuf</th>\n",
              "      <th>npropname</th>\n",
              "      <th>dosename</th>\n",
              "      <th>routename</th>\n",
              "      <th>stmarkdatestr</th>\n",
              "      <th>stmarkdate</th>\n",
              "      <th>endmarkdatestr</th>\n",
              "      <th>endmarkdate</th>\n",
              "      <th>markname</th>\n",
              "      <th>appnum</th>\n",
              "      <th>labelname</th>\n",
              "      <th>subname</th>\n",
              "      <th>actnumstr</th>\n",
              "      <th>actingunit</th>\n",
              "      <th>pharmclas</th>\n",
              "      <th>deasched</th>\n",
              "      <th>ndc_exclude_flag</th>\n",
              "      <th>listing_record_certstr</th>\n",
              "      <th>listing_record_cert</th>\n",
              "    </tr>\n",
              "  </thead>\n",
              "  <tbody>\n",
              "    <tr>\n",
              "      <th>0</th>\n",
              "      <td>0002-1200_4bd46cbe-cdc1-4329-a8e7-22816bd7fc33</td>\n",
              "      <td>0002-1200</td>\n",
              "      <td>HUMAN PRESCRIPTION DRUG</td>\n",
              "      <td>Amyvid</td>\n",
              "      <td>NaN</td>\n",
              "      <td>Florbetapir F 18</td>\n",
              "      <td>INJECTION, SOLUTION</td>\n",
              "      <td>INTRAVENOUS</td>\n",
              "      <td>20120601</td>\n",
              "      <td>6/1/2012</td>\n",
              "      <td>.</td>\n",
              "      <td>NaN</td>\n",
              "      <td>NDA</td>\n",
              "      <td>NDA202008</td>\n",
              "      <td>Eli Lilly and Company</td>\n",
              "      <td>FLORBETAPIR F-18</td>\n",
              "      <td>51</td>\n",
              "      <td>mCi/mL</td>\n",
              "      <td>Radioactive Diagnostic Agent [EPC],Positron Em...</td>\n",
              "      <td>NaN</td>\n",
              "      <td>N</td>\n",
              "      <td>20181231</td>\n",
              "      <td>12/31/2018</td>\n",
              "    </tr>\n",
              "    <tr>\n",
              "      <th>1</th>\n",
              "      <td>0002-1407_14757f9d-f641-4836-acf3-229265588d1d</td>\n",
              "      <td>0002-1407</td>\n",
              "      <td>HUMAN PRESCRIPTION DRUG</td>\n",
              "      <td>Quinidine Gluconate</td>\n",
              "      <td>NaN</td>\n",
              "      <td>Quinidine Gluconate</td>\n",
              "      <td>SOLUTION</td>\n",
              "      <td>INTRAVENOUS</td>\n",
              "      <td>19500712</td>\n",
              "      <td>7/12/1950</td>\n",
              "      <td>.</td>\n",
              "      <td>NaN</td>\n",
              "      <td>NDA</td>\n",
              "      <td>NDA007529</td>\n",
              "      <td>Eli Lilly and Company</td>\n",
              "      <td>QUINIDINE GLUCONATE</td>\n",
              "      <td>80</td>\n",
              "      <td>mg/mL</td>\n",
              "      <td>Antiarrhythmic [EPC],Cytochrome P450 2D6 Inhib...</td>\n",
              "      <td>NaN</td>\n",
              "      <td>N</td>\n",
              "      <td>20181231</td>\n",
              "      <td>12/31/2018</td>\n",
              "    </tr>\n",
              "    <tr>\n",
              "      <th>2</th>\n",
              "      <td>0002-1433_b39d3d3d-6b7c-40c2-becb-953830f47f3f</td>\n",
              "      <td>0002-1433</td>\n",
              "      <td>HUMAN PRESCRIPTION DRUG</td>\n",
              "      <td>Trulicity</td>\n",
              "      <td>NaN</td>\n",
              "      <td>Dulaglutide</td>\n",
              "      <td>INJECTION, SOLUTION</td>\n",
              "      <td>SUBCUTANEOUS</td>\n",
              "      <td>20141107</td>\n",
              "      <td>11/7/2014</td>\n",
              "      <td>.</td>\n",
              "      <td>NaN</td>\n",
              "      <td>BLA</td>\n",
              "      <td>BLA125469</td>\n",
              "      <td>Eli Lilly and Company</td>\n",
              "      <td>DULAGLUTIDE</td>\n",
              "      <td>.75</td>\n",
              "      <td>mg/.5mL</td>\n",
              "      <td>GLP-1 Receptor Agonist [EPC],Glucagon-Like Pep...</td>\n",
              "      <td>NaN</td>\n",
              "      <td>N</td>\n",
              "      <td>20181231</td>\n",
              "      <td>12/31/2018</td>\n",
              "    </tr>\n",
              "    <tr>\n",
              "      <th>3</th>\n",
              "      <td>0002-1434_b39d3d3d-6b7c-40c2-becb-953830f47f3f</td>\n",
              "      <td>0002-1434</td>\n",
              "      <td>HUMAN PRESCRIPTION DRUG</td>\n",
              "      <td>Trulicity</td>\n",
              "      <td>NaN</td>\n",
              "      <td>Dulaglutide</td>\n",
              "      <td>INJECTION, SOLUTION</td>\n",
              "      <td>SUBCUTANEOUS</td>\n",
              "      <td>20141107</td>\n",
              "      <td>11/7/2014</td>\n",
              "      <td>.</td>\n",
              "      <td>NaN</td>\n",
              "      <td>BLA</td>\n",
              "      <td>BLA125469</td>\n",
              "      <td>Eli Lilly and Company</td>\n",
              "      <td>DULAGLUTIDE</td>\n",
              "      <td>1.5</td>\n",
              "      <td>mg/.5mL</td>\n",
              "      <td>GLP-1 Receptor Agonist [EPC],Glucagon-Like Pep...</td>\n",
              "      <td>NaN</td>\n",
              "      <td>N</td>\n",
              "      <td>20181231</td>\n",
              "      <td>12/31/2018</td>\n",
              "    </tr>\n",
              "    <tr>\n",
              "      <th>4</th>\n",
              "      <td>0002-1445_5253637b-af17-41b5-84dd-e7fd5e7cf54b</td>\n",
              "      <td>0002-1445</td>\n",
              "      <td>HUMAN PRESCRIPTION DRUG</td>\n",
              "      <td>TALTZ</td>\n",
              "      <td>NaN</td>\n",
              "      <td>ixekizumab</td>\n",
              "      <td>INJECTION, SOLUTION</td>\n",
              "      <td>SUBCUTANEOUS</td>\n",
              "      <td>20160322</td>\n",
              "      <td>3/22/2016</td>\n",
              "      <td>.</td>\n",
              "      <td>NaN</td>\n",
              "      <td>BLA</td>\n",
              "      <td>BLA125521</td>\n",
              "      <td>Eli Lilly and Company</td>\n",
              "      <td>IXEKIZUMAB</td>\n",
              "      <td>80</td>\n",
              "      <td>mg/mL</td>\n",
              "      <td>Interleukin-17A Antagonist [EPC],Interleukin-1...</td>\n",
              "      <td>NaN</td>\n",
              "      <td>N</td>\n",
              "      <td>20191231</td>\n",
              "      <td>12/31/2019</td>\n",
              "    </tr>\n",
              "  </tbody>\n",
              "</table>\n",
              "</div>"
            ],
            "text/plain": [
              "                                           prodid  ... listing_record_cert\n",
              "0  0002-1200_4bd46cbe-cdc1-4329-a8e7-22816bd7fc33  ...          12/31/2018\n",
              "1  0002-1407_14757f9d-f641-4836-acf3-229265588d1d  ...          12/31/2018\n",
              "2  0002-1433_b39d3d3d-6b7c-40c2-becb-953830f47f3f  ...          12/31/2018\n",
              "3  0002-1434_b39d3d3d-6b7c-40c2-becb-953830f47f3f  ...          12/31/2018\n",
              "4  0002-1445_5253637b-af17-41b5-84dd-e7fd5e7cf54b  ...          12/31/2019\n",
              "\n",
              "[5 rows x 23 columns]"
            ]
          },
          "metadata": {
            "tags": []
          },
          "execution_count": 25
        }
      ]
    },
    {
      "cell_type": "markdown",
      "metadata": {
        "id": "5PraRnGIaSsL"
      },
      "source": [
        "When we compare the NDC codes in the prescription file (rx.prod_srvc_id) and the NDC codes in the codebook, we realize that we have to do some transformations for mapping to work. The rx file has an NDC code of mainly - but not always - 11 digits stored as an integer, while the codefile has the first two parts of the code separated by a hyphen.\n",
        "\n",
        "Since we are mainly concerned with the product type, and not how it is packaged, it is OK to focus on the first nine digits of the 11 digit code. However, we need to make sure that we include the leading zeros, so it has to be formatted as a string with 11 digits (filling up with zeros if necessary) and from this we can extract the first nine. We can label this new column *ndc9*, and to create it in the rx file, we:"
      ]
    },
    {
      "cell_type": "code",
      "metadata": {
        "id": "ynqyULA9b064",
        "outputId": "08be244c-8707-4be5-eaed-74776c0e2c60",
        "colab": {
          "base_uri": "https://localhost:8080/",
          "height": 134
        }
      },
      "source": [
        "#rx['ndc9'] = rx.prod_srvc_id.str.zfill(11).str[:9]\n",
        "\n",
        "rx['ndc9'] = rx.prod_srvc_id.astype(str).str.zfill(11).str[:9]\n",
        "rx['ndc9'].head()"
      ],
      "execution_count": null,
      "outputs": [
        {
          "output_type": "execute_result",
          "data": {
            "text/plain": [
              "pid_index\n",
              "00013D2EFD8E45D1    002470372\n",
              "00013D2EFD8E45D1    002230395\n",
              "00013D2EFD8E45D1    003647248\n",
              "00013D2EFD8E45D1    001791806\n",
              "00013D2EFD8E45D1    580160053\n",
              "Name: ndc9, dtype: object"
            ]
          },
          "metadata": {
            "tags": []
          },
          "execution_count": 26
        }
      ]
    },
    {
      "cell_type": "markdown",
      "metadata": {
        "id": "hIk8Z25_OI8d"
      },
      "source": [
        "rx['ndc9'].str.len().value_counts()"
      ]
    },
    {
      "cell_type": "code",
      "metadata": {
        "id": "nwyolaLoOO9Z",
        "outputId": "c1bf31e6-fe5a-44ad-fdc9-cb96515d1c74",
        "colab": {
          "base_uri": "https://localhost:8080/",
          "height": 50
        }
      },
      "source": [
        "rx['ndc9'].str.len().value_counts()"
      ],
      "execution_count": null,
      "outputs": [
        {
          "output_type": "execute_result",
          "data": {
            "text/plain": [
              "9    5552421\n",
              "Name: ndc9, dtype: int64"
            ]
          },
          "metadata": {
            "tags": []
          },
          "execution_count": 28
        }
      ]
    },
    {
      "cell_type": "code",
      "metadata": {
        "id": "HdFnw3Uqlkep"
      },
      "source": [
        "ndcinrx = set(rx['ndc9'])"
      ],
      "execution_count": null,
      "outputs": []
    },
    {
      "cell_type": "code",
      "metadata": {
        "id": "sDl-Dua2lveF",
        "outputId": "0e49967a-5244-4cac-a49b-f1afdc6ba518",
        "colab": {
          "base_uri": "https://localhost:8080/",
          "height": 33
        }
      },
      "source": [
        "len(ndcinrx)"
      ],
      "execution_count": null,
      "outputs": [
        {
          "output_type": "execute_result",
          "data": {
            "text/plain": [
              "117651"
            ]
          },
          "metadata": {
            "tags": []
          },
          "execution_count": 31
        }
      ]
    },
    {
      "cell_type": "code",
      "metadata": {
        "id": "8FssUrE8l0HN"
      },
      "source": [
        ""
      ],
      "execution_count": null,
      "outputs": []
    },
    {
      "cell_type": "markdown",
      "metadata": {
        "id": "uaAKakGZoLli"
      },
      "source": [
        "Ooooops! We did it again! There is still a problem and a major gotcha. The problem is the following: the *prod_srvc_id* colum in the rx file is of mixed datatypes. Some cells as integers, some are strings. For cells that are integers, the return value is missing when we apply the string opertions we tried. Hence, before we apply the string operations, we need to make sure that the column is a string - and noting but a string. (A small problem in the Pyton/Pandas/numpy datatype system is that the dtype 'object' is both a string and mixed dtypes)\n",
        "\n",
        "The datatype was inferred automatically when Pandas read the data, and it underlines how important it is to make sure to fix datatypes before doing analysis - and how vulnerable .csv files are since they do not store information about datatypes (It has to ne infered each time it is read).\n",
        "\n",
        "So, to make a lon gotach end, we have to add *astype(str)* to our chain:\n",
        "\n"
      ]
    },
    {
      "cell_type": "code",
      "metadata": {
        "id": "O-vPoaGipxz6",
        "outputId": "b59e68df-046c-45d2-9ca1-fc8e6c5e6667",
        "colab": {
          "base_uri": "https://localhost:8080/",
          "height": 146
        }
      },
      "source": [
        "#rx['ndc9'] = rx.prod_srvc_id.astype(str).str.strip().str.zfill(11).str[:9]\n",
        "rx['ndc9'] = pd.to_numeric(rx['prod_srvc_id'], errors='coerce').astype('Int64').astype(str).str.strip().str.zfill(11).str[:9]\n",
        "rx['ndc9'].head()"
      ],
      "execution_count": null,
      "outputs": [
        {
          "output_type": "execute_result",
          "data": {
            "text/plain": [
              "pid_index\n",
              "00013D2EFD8E45D1    002470372\n",
              "00013D2EFD8E45D1    002230395\n",
              "00013D2EFD8E45D1    003647248\n",
              "00013D2EFD8E45D1    001791806\n",
              "00013D2EFD8E45D1    580160053\n",
              "Name: ndc9, dtype: object"
            ]
          },
          "metadata": {
            "tags": []
          },
          "execution_count": 76
        }
      ]
    },
    {
      "cell_type": "markdown",
      "metadata": {
        "id": "DhXY9Zdocvdj"
      },
      "source": [
        "Next we need to format the codebook so was have an NDC code that has the same format: 9 digits with leading zeros. We do this by splitting on the hypen and making sure that the first element has five digits (filling up with leading zeros if necessary) and the last part should have four digits (once again filling up with leading zeros if necessary):\n",
        "\n"
      ]
    },
    {
      "cell_type": "code",
      "metadata": {
        "id": "9SEHLiycNlTM"
      },
      "source": [
        "labeler = ndc_product_codes.ndc.str.split('-').str[0].str.zfill(5)\n",
        "product = ndc_product_codes.ndc.str.split('-').str[1].str.zfill(4)\n",
        "ndc_product_codes['ndc9']=labeler + product\n",
        "\n",
        "# Pharmaceuticals have non-proprietary and proprietary names. \n",
        "# Here we use the nonproprietory names in the dictionary\n",
        "ndc2text = ndc_product_codes.set_index('ndc9').npropname.to_dict()"
      ],
      "execution_count": null,
      "outputs": []
    },
    {
      "cell_type": "markdown",
      "metadata": {
        "id": "C4qXgg4FduBA"
      },
      "source": [
        "We now have a column in the prescription file (*ndc9*) for which we have a codebook and a dictionary that can map the code to text. Let's try, as before:"
      ]
    },
    {
      "cell_type": "code",
      "metadata": {
        "id": "sKXwmVi1Phzd",
        "outputId": "4146aed9-be54-4b43-c491-dcccc8feec23",
        "colab": {
          "base_uri": "https://localhost:8080/",
          "height": 217
        }
      },
      "source": [
        "rx.ndc9.value_counts().rename(index=ndc2text)"
      ],
      "execution_count": null,
      "outputs": [
        {
          "output_type": "execute_result",
          "data": {
            "text/plain": [
              "580160892                  8104\n",
              "580160777                  7965\n",
              "580160606                  7506\n",
              "580160252                  7337\n",
              "580160425                  7304\n",
              "                           ... \n",
              "000741582                     1\n",
              "495020820                     1\n",
              "000680205                     1\n",
              "Lopinavir and Ritonavir       1\n",
              "497880256                     1\n",
              "Name: ndc9, Length: 117651, dtype: int64"
            ]
          },
          "metadata": {
            "tags": []
          },
          "execution_count": 34
        }
      ]
    },
    {
      "cell_type": "markdown",
      "metadata": {
        "id": "SuvCJ2WHePoY"
      },
      "source": [
        "Hmm, something looks wrong. There are two problems here. First, we transformed the codes to text *after* doing the counting. This creates a problem in this context because two different codes can refer to the same generic product. For instance, 08453453 could be pharmaceutical X, and 08453445 could also be pharmaceutical X. When we count the codes first, before changing the names, we will get a separate row for each code, and when we rename the codes to text these rows will stay separate. If we want to aggregate everything that has the same text, we have to tell Pandas to do this:"
      ]
    },
    {
      "cell_type": "code",
      "metadata": {
        "id": "R-toYSF_Qgql",
        "outputId": "4d008c69-c294-4586-9abe-8734992dd556",
        "colab": {
          "base_uri": "https://localhost:8080/",
          "height": 217
        }
      },
      "source": [
        "rx.ndc9.value_counts().rename(index=ndc2text).sum(level=0).sort_values(ascending=False)"
      ],
      "execution_count": null,
      "outputs": [
        {
          "output_type": "execute_result",
          "data": {
            "text/plain": [
              "Oxygen         25529\n",
              "Simvastatin    22674\n",
              "Lisinopril     14975\n",
              "Lovastatin     14359\n",
              "OXYGEN         11719\n",
              "               ...  \n",
              "546990015          1\n",
              "003498426          1\n",
              "425070441          1\n",
              "002645808          1\n",
              "497880256          1\n",
              "Name: ndc9, Length: 101150, dtype: int64"
            ]
          },
          "metadata": {
            "tags": []
          },
          "execution_count": 35
        }
      ]
    },
    {
      "cell_type": "markdown",
      "metadata": {
        "id": "ZS9HZO6DglrZ"
      },
      "source": [
        "This shows that we manage to get the names of the major pharmaceuticals, but it also showed a very subtle problem that could easily be overlooked. In fact, there are more problems here (for instance, upper and lower case names should be the same pharmaceutical), and as long as there is not a memory problem, it seems better to simply include a column in the rx file with the names and count these. Like this:"
      ]
    },
    {
      "cell_type": "code",
      "metadata": {
        "id": "1Op1-eh7hTXQ"
      },
      "source": [
        "rx['pharma_name']=rx.ndc9.map(ndc2text).str.capitalize().astype('category')"
      ],
      "execution_count": null,
      "outputs": []
    },
    {
      "cell_type": "markdown",
      "metadata": {
        "id": "NXfxTBbsh31u"
      },
      "source": [
        "Unpacking the code: We create a new column (*name*), by mapping the ndc9 number to its text. Then we make the case consistent (capitalized first letter only), and we use a datatype called category which means that internally each name gets a number, so we do not have to store a long text for each cell."
      ]
    },
    {
      "cell_type": "code",
      "metadata": {
        "id": "kBHxqa7jiyyT",
        "outputId": "90b034c0-51ac-448a-8b72-f80d52c2e7af",
        "colab": {
          "base_uri": "https://localhost:8080/",
          "height": 217
        }
      },
      "source": [
        "rx['pharma_name'].value_counts()"
      ],
      "execution_count": null,
      "outputs": [
        {
          "output_type": "execute_result",
          "data": {
            "text/plain": [
              "Simvastatin                                               37884\n",
              "Oxygen                                                    37713\n",
              "Lisinopril                                                20832\n",
              "Metformin hydrochloride                                   18944\n",
              "Lovastatin                                                18706\n",
              "                                                          ...  \n",
              "Fexofenadine and pseudoephedrine                              1\n",
              "Polyethylene glycol 400 and propylene glycol                  1\n",
              "Dextromethorphan hydrobromide chlorpheniramine maleate        1\n",
              "Polyethylene glycol and propylene glycol                      1\n",
              "Ammonia inhalants                                             1\n",
              "Name: pharma_name, Length: 2964, dtype: int64"
            ]
          },
          "metadata": {
            "tags": []
          },
          "execution_count": 40
        }
      ]
    },
    {
      "cell_type": "markdown",
      "metadata": {
        "id": "uO4Iv98jjMTw"
      },
      "source": [
        "This looks  better. At his point one might convert it to percentages too - sometthing it is often useful not to do while checking if tings work since we need to see absolute number to evaluate whether the code did what it was supposed to do.\n",
        "\n",
        "\n"
      ]
    },
    {
      "cell_type": "code",
      "metadata": {
        "id": "ARF3tQkqk23B"
      },
      "source": [
        ""
      ],
      "execution_count": null,
      "outputs": []
    },
    {
      "cell_type": "markdown",
      "metadata": {
        "id": "-zzoV7Trk33y"
      },
      "source": [
        "\n",
        "Exercise\n",
        "\n",
        "The mapping of codes to text look much better in the last iteration, but there is still some cleaning that could be done. For instance, it seems  the non-proprietary names in the codebook sometimes include long names that are not standardized. One should also at least check how many codes that do not have a mapping to a text description. "
      ]
    },
    {
      "cell_type": "code",
      "metadata": {
        "id": "Fi-TcUr2lZFi",
        "outputId": "07f6395b-e7d1-42e6-c6bc-c48685d5caeb",
        "colab": {
          "base_uri": "https://localhost:8080/",
          "height": 33
        }
      },
      "source": [
        "rx.pharma_name.isnull().sum()/len(rx)\n"
      ],
      "execution_count": null,
      "outputs": [
        {
          "output_type": "execute_result",
          "data": {
            "text/plain": [
              "0.7962146602355982"
            ]
          },
          "metadata": {
            "tags": []
          },
          "execution_count": 41
        }
      ]
    },
    {
      "cell_type": "code",
      "metadata": {
        "id": "9WI5OBV_XaH_",
        "outputId": "c801cec3-1768-47ba-9fc8-16c7c1ab6c15",
        "colab": {
          "base_uri": "https://localhost:8080/",
          "height": 33
        }
      },
      "source": [
        "len(ndc2text)"
      ],
      "execution_count": null,
      "outputs": [
        {
          "output_type": "execute_result",
          "data": {
            "text/plain": [
              "119083"
            ]
          },
          "metadata": {
            "tags": []
          },
          "execution_count": 42
        }
      ]
    },
    {
      "cell_type": "code",
      "metadata": {
        "id": "aVNf2ZLE4TK5",
        "outputId": "216b81db-f121-473d-be39-d6eb5db843d3",
        "colab": {
          "base_uri": "https://localhost:8080/",
          "height": 33
        }
      },
      "source": [
        "len(rx.ndc9.unique())"
      ],
      "execution_count": null,
      "outputs": [
        {
          "output_type": "execute_result",
          "data": {
            "text/plain": [
              "117651"
            ]
          },
          "metadata": {
            "tags": []
          },
          "execution_count": 43
        }
      ]
    },
    {
      "cell_type": "code",
      "metadata": {
        "id": "9wdkTX9ErQEx"
      },
      "source": [
        "ndcincb=set(ndc2text.keys())"
      ],
      "execution_count": null,
      "outputs": []
    },
    {
      "cell_type": "code",
      "metadata": {
        "id": "lrATabCvmwrF",
        "outputId": "0403bd5e-59b0-438a-ad21-3003d204be0f",
        "colab": {
          "base_uri": "https://localhost:8080/",
          "height": 33
        }
      },
      "source": [
        "len(ndcincb & ndcinrx)"
      ],
      "execution_count": null,
      "outputs": [
        {
          "output_type": "execute_result",
          "data": {
            "text/plain": [
              "20524"
            ]
          },
          "metadata": {
            "tags": []
          },
          "execution_count": 47
        }
      ]
    },
    {
      "cell_type": "code",
      "metadata": {
        "id": "oEOdEYDdm9Ij"
      },
      "source": [
        ""
      ],
      "execution_count": null,
      "outputs": []
    },
    {
      "cell_type": "code",
      "metadata": {
        "id": "56qEWnSsrQ5A"
      },
      "source": [
        "no_name = rx.pharma_name.isnull()"
      ],
      "execution_count": null,
      "outputs": []
    },
    {
      "cell_type": "code",
      "metadata": {
        "id": "CbuhEPUYsQNm",
        "outputId": "ed8eeb0b-f77b-4346-d60c-e38b64ace411",
        "colab": {
          "base_uri": "https://localhost:8080/",
          "height": 434
        }
      },
      "source": [
        "rx.loc[no_name, ['prod_srvc_id', 'pharma_name', 'ndc9']]"
      ],
      "execution_count": null,
      "outputs": [
        {
          "output_type": "execute_result",
          "data": {
            "text/html": [
              "<div>\n",
              "<style scoped>\n",
              "    .dataframe tbody tr th:only-of-type {\n",
              "        vertical-align: middle;\n",
              "    }\n",
              "\n",
              "    .dataframe tbody tr th {\n",
              "        vertical-align: top;\n",
              "    }\n",
              "\n",
              "    .dataframe thead th {\n",
              "        text-align: right;\n",
              "    }\n",
              "</style>\n",
              "<table border=\"1\" class=\"dataframe\">\n",
              "  <thead>\n",
              "    <tr style=\"text-align: right;\">\n",
              "      <th></th>\n",
              "      <th>prod_srvc_id</th>\n",
              "      <th>pharma_name</th>\n",
              "      <th>ndc9</th>\n",
              "    </tr>\n",
              "    <tr>\n",
              "      <th>pid_index</th>\n",
              "      <th></th>\n",
              "      <th></th>\n",
              "      <th></th>\n",
              "    </tr>\n",
              "  </thead>\n",
              "  <tbody>\n",
              "    <tr>\n",
              "      <th>00013D2EFD8E45D1</th>\n",
              "      <td>247037252</td>\n",
              "      <td>NaN</td>\n",
              "      <td>002470372</td>\n",
              "    </tr>\n",
              "    <tr>\n",
              "      <th>00013D2EFD8E45D1</th>\n",
              "      <td>223039502</td>\n",
              "      <td>NaN</td>\n",
              "      <td>002230395</td>\n",
              "    </tr>\n",
              "    <tr>\n",
              "      <th>00013D2EFD8E45D1</th>\n",
              "      <td>364724812</td>\n",
              "      <td>NaN</td>\n",
              "      <td>003647248</td>\n",
              "    </tr>\n",
              "    <tr>\n",
              "      <th>00013D2EFD8E45D1</th>\n",
              "      <td>179180672</td>\n",
              "      <td>NaN</td>\n",
              "      <td>001791806</td>\n",
              "    </tr>\n",
              "    <tr>\n",
              "      <th>00013D2EFD8E45D1</th>\n",
              "      <td>58016005300</td>\n",
              "      <td>NaN</td>\n",
              "      <td>580160053</td>\n",
              "    </tr>\n",
              "    <tr>\n",
              "      <th>...</th>\n",
              "      <td>...</td>\n",
              "      <td>...</td>\n",
              "      <td>...</td>\n",
              "    </tr>\n",
              "    <tr>\n",
              "      <th>FFFF7C107A4E385A</th>\n",
              "      <td>51316006301</td>\n",
              "      <td>NaN</td>\n",
              "      <td>513160063</td>\n",
              "    </tr>\n",
              "    <tr>\n",
              "      <th>FFFF7C107A4E385A</th>\n",
              "      <td>58016038477</td>\n",
              "      <td>NaN</td>\n",
              "      <td>580160384</td>\n",
              "    </tr>\n",
              "    <tr>\n",
              "      <th>FFFF7C107A4E385A</th>\n",
              "      <td>52446003528</td>\n",
              "      <td>NaN</td>\n",
              "      <td>524460035</td>\n",
              "    </tr>\n",
              "    <tr>\n",
              "      <th>FFFF7C107A4E385A</th>\n",
              "      <td>55154621709</td>\n",
              "      <td>NaN</td>\n",
              "      <td>551546217</td>\n",
              "    </tr>\n",
              "    <tr>\n",
              "      <th>FFFF7C107A4E385A</th>\n",
              "      <td>49648013300</td>\n",
              "      <td>NaN</td>\n",
              "      <td>496480133</td>\n",
              "    </tr>\n",
              "  </tbody>\n",
              "</table>\n",
              "<p>4420919 rows × 3 columns</p>\n",
              "</div>"
            ],
            "text/plain": [
              "                 prod_srvc_id pharma_name       ndc9\n",
              "pid_index                                           \n",
              "00013D2EFD8E45D1    247037252         NaN  002470372\n",
              "00013D2EFD8E45D1    223039502         NaN  002230395\n",
              "00013D2EFD8E45D1    364724812         NaN  003647248\n",
              "00013D2EFD8E45D1    179180672         NaN  001791806\n",
              "00013D2EFD8E45D1  58016005300         NaN  580160053\n",
              "...                       ...         ...        ...\n",
              "FFFF7C107A4E385A  51316006301         NaN  513160063\n",
              "FFFF7C107A4E385A  58016038477         NaN  580160384\n",
              "FFFF7C107A4E385A  52446003528         NaN  524460035\n",
              "FFFF7C107A4E385A  55154621709         NaN  551546217\n",
              "FFFF7C107A4E385A  49648013300         NaN  496480133\n",
              "\n",
              "[4420919 rows x 3 columns]"
            ]
          },
          "metadata": {
            "tags": []
          },
          "execution_count": 45
        }
      ]
    },
    {
      "cell_type": "code",
      "metadata": {
        "id": "9ghV5zX2yCHE",
        "outputId": "47ff459c-cd82-4d5c-cc54-a2aa18946f46",
        "colab": {
          "base_uri": "https://localhost:8080/",
          "height": 625
        }
      },
      "source": [
        "ndc_product_codes[ndc_product_codes.ndc.str.startswith('6238')]"
      ],
      "execution_count": null,
      "outputs": [
        {
          "output_type": "execute_result",
          "data": {
            "text/html": [
              "<div>\n",
              "<style scoped>\n",
              "    .dataframe tbody tr th:only-of-type {\n",
              "        vertical-align: middle;\n",
              "    }\n",
              "\n",
              "    .dataframe tbody tr th {\n",
              "        vertical-align: top;\n",
              "    }\n",
              "\n",
              "    .dataframe thead th {\n",
              "        text-align: right;\n",
              "    }\n",
              "</style>\n",
              "<table border=\"1\" class=\"dataframe\">\n",
              "  <thead>\n",
              "    <tr style=\"text-align: right;\">\n",
              "      <th></th>\n",
              "      <th>prodid</th>\n",
              "      <th>ndc</th>\n",
              "      <th>prodtype</th>\n",
              "      <th>propname</th>\n",
              "      <th>propsuf</th>\n",
              "      <th>npropname</th>\n",
              "      <th>dosename</th>\n",
              "      <th>routename</th>\n",
              "      <th>stmarkdatestr</th>\n",
              "      <th>stmarkdate</th>\n",
              "      <th>endmarkdatestr</th>\n",
              "      <th>endmarkdate</th>\n",
              "      <th>markname</th>\n",
              "      <th>appnum</th>\n",
              "      <th>labelname</th>\n",
              "      <th>subname</th>\n",
              "      <th>actnumstr</th>\n",
              "      <th>actingunit</th>\n",
              "      <th>pharmclas</th>\n",
              "      <th>deasched</th>\n",
              "      <th>ndc_exclude_flag</th>\n",
              "      <th>listing_record_certstr</th>\n",
              "      <th>listing_record_cert</th>\n",
              "      <th>ndc9</th>\n",
              "    </tr>\n",
              "  </thead>\n",
              "  <tbody>\n",
              "    <tr>\n",
              "      <th>83650</th>\n",
              "      <td>62382-0308_0685b7dd-995c-5175-e054-00144ff8d46c</td>\n",
              "      <td>62382-0308</td>\n",
              "      <td>HUMAN OTC DRUG</td>\n",
              "      <td>Easy to break-off cleaning and disinfecting sw...</td>\n",
              "      <td>NaN</td>\n",
              "      <td>Alcohol swabstick</td>\n",
              "      <td>SWAB</td>\n",
              "      <td>TOPICAL</td>\n",
              "      <td>20140401</td>\n",
              "      <td>4/1/2014</td>\n",
              "      <td>.</td>\n",
              "      <td>NaN</td>\n",
              "      <td>OTC MONOGRAPH NOT FINAL</td>\n",
              "      <td>part333A</td>\n",
              "      <td>Longood Medicine (Beijing) Co., Ltd.</td>\n",
              "      <td>ALCOHOL</td>\n",
              "      <td>.7</td>\n",
              "      <td>mL/mL</td>\n",
              "      <td>NaN</td>\n",
              "      <td>NaN</td>\n",
              "      <td>E</td>\n",
              "      <td>20171231</td>\n",
              "      <td>12/31/2017</td>\n",
              "      <td>623820308</td>\n",
              "    </tr>\n",
              "    <tr>\n",
              "      <th>83651</th>\n",
              "      <td>62382-0315_957329b1-17ac-49d4-b01c-3d39815a9c6d</td>\n",
              "      <td>62382-0315</td>\n",
              "      <td>HUMAN OTC DRUG</td>\n",
              "      <td>Easy to break-off cleaning and disinfecting sw...</td>\n",
              "      <td>NaN</td>\n",
              "      <td>Isopropyl alcohol swabstick</td>\n",
              "      <td>SWAB</td>\n",
              "      <td>TOPICAL</td>\n",
              "      <td>20140401</td>\n",
              "      <td>4/1/2014</td>\n",
              "      <td>.</td>\n",
              "      <td>NaN</td>\n",
              "      <td>OTC MONOGRAPH NOT FINAL</td>\n",
              "      <td>part333A</td>\n",
              "      <td>Longood Medicine (Beijing) Co., Ltd.</td>\n",
              "      <td>ISOPROPYL ALCOHOL</td>\n",
              "      <td>.7</td>\n",
              "      <td>mL/mL</td>\n",
              "      <td>NaN</td>\n",
              "      <td>NaN</td>\n",
              "      <td>E</td>\n",
              "      <td>20171231</td>\n",
              "      <td>12/31/2017</td>\n",
              "      <td>623820315</td>\n",
              "    </tr>\n",
              "    <tr>\n",
              "      <th>83652</th>\n",
              "      <td>62382-0322_f335c19a-4871-40e5-9e38-bf084b68eb5a</td>\n",
              "      <td>62382-0322</td>\n",
              "      <td>HUMAN OTC DRUG</td>\n",
              "      <td>Easy to break-off cleaning and disinfecting sw...</td>\n",
              "      <td>NaN</td>\n",
              "      <td>Povidone iodine swabstick</td>\n",
              "      <td>SWAB</td>\n",
              "      <td>TOPICAL</td>\n",
              "      <td>20140328</td>\n",
              "      <td>3/28/2014</td>\n",
              "      <td>.</td>\n",
              "      <td>NaN</td>\n",
              "      <td>OTC MONOGRAPH NOT FINAL</td>\n",
              "      <td>part333A</td>\n",
              "      <td>Longood Medicine (Beijing) Co., Ltd.</td>\n",
              "      <td>POVIDONE-IODINE</td>\n",
              "      <td>.1</td>\n",
              "      <td>mg/mL</td>\n",
              "      <td>NaN</td>\n",
              "      <td>NaN</td>\n",
              "      <td>E</td>\n",
              "      <td>20171231</td>\n",
              "      <td>12/31/2017</td>\n",
              "      <td>623820322</td>\n",
              "    </tr>\n",
              "    <tr>\n",
              "      <th>83653</th>\n",
              "      <td>62382-0323_11205be3-1a69-4a69-ac14-a18e8fe7ffac</td>\n",
              "      <td>62382-0323</td>\n",
              "      <td>HUMAN OTC DRUG</td>\n",
              "      <td>Easy to break-off cleaning and disinfecting sw...</td>\n",
              "      <td>NaN</td>\n",
              "      <td>Isopropyl Alcohol</td>\n",
              "      <td>SWAB</td>\n",
              "      <td>TOPICAL</td>\n",
              "      <td>20150328</td>\n",
              "      <td>3/28/2015</td>\n",
              "      <td>.</td>\n",
              "      <td>NaN</td>\n",
              "      <td>OTC MONOGRAPH NOT FINAL</td>\n",
              "      <td>part333A</td>\n",
              "      <td>Longood Medicine (Beijing) Co., Ltd.</td>\n",
              "      <td>ISOPROPYL ALCOHOL</td>\n",
              "      <td>.7</td>\n",
              "      <td>mL/mL</td>\n",
              "      <td>NaN</td>\n",
              "      <td>NaN</td>\n",
              "      <td>E</td>\n",
              "      <td>20171231</td>\n",
              "      <td>12/31/2017</td>\n",
              "      <td>623820323</td>\n",
              "    </tr>\n",
              "    <tr>\n",
              "      <th>83654</th>\n",
              "      <td>62382-0324_8c1ab116-be30-43f0-8a71-ff2dcc451946</td>\n",
              "      <td>62382-0324</td>\n",
              "      <td>HUMAN OTC DRUG</td>\n",
              "      <td>CHG</td>\n",
              "      <td>NaN</td>\n",
              "      <td>Isopropyl Alcohol</td>\n",
              "      <td>SWAB</td>\n",
              "      <td>TOPICAL</td>\n",
              "      <td>20150828</td>\n",
              "      <td>8/28/2015</td>\n",
              "      <td>.</td>\n",
              "      <td>NaN</td>\n",
              "      <td>OTC MONOGRAPH NOT FINAL</td>\n",
              "      <td>part333A</td>\n",
              "      <td>Longood Medicine (Beijing) Co., Ltd.</td>\n",
              "      <td>ISOPROPYL ALCOHOL</td>\n",
              "      <td>.7</td>\n",
              "      <td>mL/mL</td>\n",
              "      <td>NaN</td>\n",
              "      <td>NaN</td>\n",
              "      <td>E</td>\n",
              "      <td>20171231</td>\n",
              "      <td>12/31/2017</td>\n",
              "      <td>623820324</td>\n",
              "    </tr>\n",
              "  </tbody>\n",
              "</table>\n",
              "</div>"
            ],
            "text/plain": [
              "                                                prodid  ...       ndc9\n",
              "83650  62382-0308_0685b7dd-995c-5175-e054-00144ff8d46c  ...  623820308\n",
              "83651  62382-0315_957329b1-17ac-49d4-b01c-3d39815a9c6d  ...  623820315\n",
              "83652  62382-0322_f335c19a-4871-40e5-9e38-bf084b68eb5a  ...  623820322\n",
              "83653  62382-0323_11205be3-1a69-4a69-ac14-a18e8fe7ffac  ...  623820323\n",
              "83654  62382-0324_8c1ab116-be30-43f0-8a71-ff2dcc451946  ...  623820324\n",
              "\n",
              "[5 rows x 24 columns]"
            ]
          },
          "metadata": {
            "tags": []
          },
          "execution_count": 94
        }
      ]
    },
    {
      "cell_type": "code",
      "metadata": {
        "id": "ZynbJu4hsE0A",
        "outputId": "ee0080d6-4984-430b-d12a-ccd61156cdc6",
        "colab": {
          "base_uri": "https://localhost:8080/",
          "height": 496
        }
      },
      "source": [
        "rx[no_name]['prod_srvc_id'].value_counts().head(25)"
      ],
      "execution_count": null,
      "outputs": [
        {
          "output_type": "execute_result",
          "data": {
            "text/plain": [
              "54868540600    156\n",
              "62381840001    142\n",
              "52959081303    141\n",
              "54569489700    140\n",
              "490020503      139\n",
              "37024110       137\n",
              "58016060618    136\n",
              "64378033202    136\n",
              "62381897101    135\n",
              "60312096001    134\n",
              "2897101        133\n",
              "58016077792    133\n",
              "58016060650    133\n",
              "61947015803    131\n",
              "57664011583    130\n",
              "58016089232    130\n",
              "66267056520    130\n",
              "24658021010    129\n",
              "54569562500    129\n",
              "55154342502    129\n",
              "247219630      129\n",
              "58016060632    129\n",
              "58016060675    128\n",
              "17088006601    128\n",
              "54868548900    128\n",
              "Name: prod_srvc_id, dtype: int64"
            ]
          },
          "metadata": {
            "tags": []
          },
          "execution_count": 86
        }
      ]
    },
    {
      "cell_type": "code",
      "metadata": {
        "id": "CIIoxpNVtZJf",
        "outputId": "0c66f5d0-4604-42c6-9234-e3d97a042398",
        "colab": {
          "base_uri": "https://localhost:8080/",
          "height": 146
        }
      },
      "source": [
        "rx['prod_srvc_id'].astype(str).str.len().value_counts()"
      ],
      "execution_count": null,
      "outputs": [
        {
          "output_type": "execute_result",
          "data": {
            "text/plain": [
              "11    4231919\n",
              "9      991251\n",
              "8      242384\n",
              "7       80774\n",
              "10       6070\n",
              "5          23\n",
              "Name: prod_srvc_id, dtype: int64"
            ]
          },
          "metadata": {
            "tags": []
          },
          "execution_count": 65
        }
      ]
    },
    {
      "cell_type": "code",
      "metadata": {
        "id": "y6Ouyv12tW6b",
        "outputId": "907853fa-bbd3-493c-fe17-2e4597f909f0",
        "colab": {
          "base_uri": "https://localhost:8080/",
          "height": 35
        }
      },
      "source": [
        "len(rx)"
      ],
      "execution_count": null,
      "outputs": [
        {
          "output_type": "execute_result",
          "data": {
            "text/plain": [
              "5552421"
            ]
          },
          "metadata": {
            "tags": []
          },
          "execution_count": 63
        }
      ]
    },
    {
      "cell_type": "code",
      "metadata": {
        "id": "bDMFAGrBvpCX",
        "outputId": "e888a9db-eca4-46d9-fe6d-6643a59e7489",
        "colab": {
          "base_uri": "https://localhost:8080/",
          "height": 257
        }
      },
      "source": [
        "pd.to_numeric(rx['prod_srvc_id'], errors='coerce').astype('Int64').astype(str).str.strip().str.zfill(11).str[:9]"
      ],
      "execution_count": null,
      "outputs": [
        {
          "output_type": "execute_result",
          "data": {
            "text/plain": [
              "pid_index\n",
              "00013D2EFD8E45D1    002470372\n",
              "00013D2EFD8E45D1    002230395\n",
              "00013D2EFD8E45D1    003647248\n",
              "00013D2EFD8E45D1    001791806\n",
              "00013D2EFD8E45D1    580160053\n",
              "                      ...    \n",
              "FFFF7C107A4E385A    513160063\n",
              "FFFF7C107A4E385A    580160384\n",
              "FFFF7C107A4E385A    524460035\n",
              "FFFF7C107A4E385A    551546217\n",
              "FFFF7C107A4E385A    496480133\n",
              "Name: prod_srvc_id, Length: 5552421, dtype: object"
            ]
          },
          "metadata": {
            "tags": []
          },
          "execution_count": 74
        }
      ]
    },
    {
      "cell_type": "code",
      "metadata": {
        "id": "tCY08HT_X-4s"
      },
      "source": [
        "def expand_codes(df=None,\n",
        "                 codes=None,\n",
        "                 cols=None,\n",
        "                 sep=None,\n",
        "                 codebook=None,\n",
        "                 hyphen=True,\n",
        "                 star=True,\n",
        "                 colon=True,\n",
        "                 regex=None,\n",
        "                 del_dot=False,\n",
        "                 case_sensitive=True,\n",
        "                 exist=True,\n",
        "                 merge=False,\n",
        "                 group=False):\n",
        "    \"\"\"\n",
        "    Expand list of codes with star, hyphen and colon notation to full codes\n",
        "    Args:\n",
        "        codes (str or list of str): a list of codes some of which may need to be expanded to full codes\n",
        "        cols (str): a column with codes that are be used to build a codebook of all codes\n",
        "            If codebook is specified the cols argument is not needed and ignored\n",
        "        sep (str): seperator used if cells have multiple values\n",
        "        codebook (list): User specified list of all possible or allowed codes\n",
        "        expand_hyphen (bool, default: False): If True, codes with hyphens are not expanded\n",
        "        expand_star (bool, default: False): If True, codes with start are not expanded\n",
        "    Returns\n",
        "        List of codes\n",
        "    Examples\n",
        "        >>> codes = expand_codes(df=df, codes=['H02*'], cols='atc')\n",
        "        >>> codes = expand_codes(df=df, codes=['K25*'], cols='icdmain', sep=',', codebook=codebook)\n",
        "        >>> codes = expand_codes(df=df, codes=['K25*-K28*'], cols='icdmain', sep=',', codebook=codebook, merge=True)\n",
        "        >>> codes = expand_codes(df=df, codes=['K50*', 'K51*'], cols='icdmain', sep=',', codebook=codebook, merge=False, group=True)\n",
        "        >>> codes = expand_codes(df=df, codes=['K50*', 'K51*'], cols='icdmain', sep=',', codebook=codebook, merge=False, group=False)\n",
        "        >>> ulcer = ['K25*-K28*']\n",
        "        >>> liver = 'B18* K70.0-K70.3 K70.9 K71.3-K71.5 K71.7 K73* K74* K76.0 K76.2-K76.4 K76.8 K76.9 Z94.4'.split()\n",
        "        >>> diabetes =\t['E10.0', 'E10.l', 'E10.6', 'E10.8', 'E10.9', 'E11.0', 'E11.1', 'E11.6', 'E11.8', 'E11.9', 'E12.0', 'E12.1', 'El2.6', 'E12.8', 'El2.9', 'E13.0', 'E13.1', 'E13.6', 'E13.8', 'E13.9', 'E14.0', 'E14.1', 'E14.6', 'E14.8', 'E14.9']\n",
        "        >>> hemiplegia = ['G04.1', 'G11.4', 'G80.1', 'G80.2', 'G81*', 'G82*', 'G83.0-G83.4', 'G83.9']\n",
        "        >>> expand_codes(df=df, codes=ulcer, cols='icdmain', sep=',')\n",
        "    Note:\n",
        "        Only codes that actually exist in the cols or the codebook are returned\n",
        "    \"\"\"\n",
        "\n",
        "    codes = _listify(codes)\n",
        "\n",
        "    if codebook:\n",
        "        unique_words = set(codebook)\n",
        "    else:\n",
        "        cols = _listify(cols)\n",
        "        cols = _expand_cols(df=df, cols=cols)\n",
        "        unique_words = set(unique_codes(df=df, cols=cols, sep=sep))\n",
        "\n",
        "    # if input is not a list of codes, but a dict with categories and codes,\n",
        "    # then expand each category separately and return the whole dict with\n",
        "    # expanded codes\n",
        "\n",
        "    if isinstance(codes, list):\n",
        "        alist = True\n",
        "    else:\n",
        "        alist = False\n",
        "\n",
        "    codes = _format_codes(codes=codes, merge=merge)\n",
        "\n",
        "    all_new_codes = {}\n",
        "\n",
        "    for name, codelist in codes.items():\n",
        "\n",
        "        # for instance in icd-10 some use codes with dots, some without\n",
        "        if del_dot:\n",
        "            # unique_words = {word.replace('.', '') for word in unique_words}\n",
        "            codelist = [code.replace('.', '') for code in codelist]\n",
        "\n",
        "        if not case_sensitive:\n",
        "            # unique_words = {word.lower() for word in unique_words}\n",
        "            codelist = [code.lower() for code in codelist] + [code.upper() for code in codelist]\n",
        "\n",
        "        # expand hyphens codes but keep only those that are in the cols or the codebook\n",
        "        if hyphen:\n",
        "            codelist = expand_hyphen(codelist)\n",
        "\n",
        "        # expand only codes with star notation and when expand_stars is turned on\n",
        "        if star:\n",
        "            codelist = expand_star(codelist, full_list=unique_words)\n",
        "\n",
        "        # regex can be used, but may be complex if combined with other\n",
        "        # maybe introduce a notation for regex inside the codebook?, like re:\n",
        "        # (so the regex is not done on all codes)\n",
        "        if regex:\n",
        "            codelist = _expand_regex(codelist, full_list=unique_words)\n",
        "\n",
        "        # eliminate codes that have been created by the expansion, but that do not\n",
        "        # exist in the data. For instance, the hyphen expansion may create this.\n",
        "        if exist:\n",
        "            match = set(codelist) & unique_words\n",
        "            codelist = list(match)\n",
        "\n",
        "        all_new_codes[name] = codelist\n",
        "\n",
        "        # Change dictionary depending on whether the user wants codes with\n",
        "        # special notations (star, hyphen, colon, eg. K51* to stay as a\n",
        "        # separate group or be split in its individual subcodes\n",
        "\n",
        "    if (not group) and (not merge):\n",
        "        new_all_new_codes = {}\n",
        "        for name, codelist in all_new_codes.items():\n",
        "            if ('*' in name) or ('-' in name) or (':' in name):\n",
        "                for code in codelist:\n",
        "                    new_all_new_codes[code] = [code]\n",
        "            else:\n",
        "                new_all_new_codes[name] = codelist\n",
        "        all_new_codes = new_all_new_codes\n",
        "\n",
        "    if merge:\n",
        "        pass\n",
        "        # all_new_codes=list(all_new_codes.values())[0]\n",
        "\n",
        "    return all_new_codes\n",
        "\n"
      ],
      "execution_count": null,
      "outputs": []
    },
    {
      "cell_type": "code",
      "metadata": {
        "id": "_5uqpbVGwO4A"
      },
      "source": [
        "def _listify(string_or_list):\n",
        "    \"\"\"\n",
        "    return a list if the input is a string, if not: returns the input as it was\n",
        "    Args:\n",
        "        string_or_list (str or any):\n",
        "    Returns:\n",
        "        A list if the input is a string, if not: returns the input as it was\n",
        "    Note:\n",
        "        - allows user to use a string as an argument instead of single lists\n",
        "        - cols='icd10' is allowed instead of cols=['icd10']\n",
        "        - cols='icd10' is transformed to cols=['icd10'] by this function\n",
        "    \"\"\"\n",
        "    if isinstance(string_or_list, str):\n",
        "        string_or_list = [string_or_list]\n",
        "    return string_or_list\n",
        "\n",
        "\n",
        "def expand_cols(df, cols, star=True, hyphen=True, colon=True, regex=None):\n",
        "    \"\"\"\n",
        "    Expand columns with special notation to their full column names\n",
        "    \"\"\"\n",
        "\n",
        "    cols = _listify(cols)\n",
        "\n",
        "    allcols = list(df.columns)\n",
        "\n",
        "    if hyphen:\n",
        "        cols = expand_hyphen(expr=cols)\n",
        "    if star:\n",
        "        cols = expand_star(expr=cols, full_list=allcols)\n",
        "    if colon:\n",
        "        cols = expand_colon(expr=cols, full_list=allcols)\n",
        "    if regex:\n",
        "        cols = list(df.columns(df.columns.str.contains(regex)))\n",
        "\n",
        "    return cols\n",
        "\n",
        "\n",
        "def expand_colon(expr, full_list):\n",
        "    \"\"\"\n",
        "    Expand expressions with colon notation to a list of complete columns names\n",
        "    expr (str or list): Expression (or list of expressions) to be expanded\n",
        "    full_list (list or array) : The list to slice from\n",
        "    \"\"\"\n",
        "    exprs = _listify(expr)\n",
        "    expanded = []\n",
        "\n",
        "    for expr in exprs:\n",
        "        if ':' in expr:\n",
        "            startstr, endstr = expr.split(':')\n",
        "            startpos = full_list.index(startstr)\n",
        "            endpos = full_list.index(endstr) + 1\n",
        "            my_slice = full_list[startpos:endpos]\n",
        "        else:\n",
        "            my_slice = [expr]\n",
        "\n",
        "        expanded.extend(my_slice)\n",
        "    return expanded\n",
        "\n",
        "\n",
        "def expand_star(expr, cols=None, full_list=None, sep=None):\n",
        "    \"\"\"\n",
        "    Expand expressions with star notation to all matching expressions\n",
        "    \"\"\"\n",
        "\n",
        "    exprs = _listify(expr)\n",
        "\n",
        "    if isinstance(full_list, pd.Series):\n",
        "        pass\n",
        "    elif isinstance(full_list, list):\n",
        "        unique_series = pd.Series(full_list)\n",
        "    elif isinstance(full_list, set):\n",
        "        unique_series = pd.Series(list(full_list))\n",
        "    else:\n",
        "        unique = unique_codes(df=df, cols=cols, sep=sep)\n",
        "        unique_series = pd.Series(list(unique))\n",
        "\n",
        "    expanded = []\n",
        "\n",
        "    for expr in exprs:\n",
        "        if '*' in expr:\n",
        "            startstr, endstr = expr.split('*')\n",
        "            if startstr:\n",
        "                add_expr = list(unique_series[unique_series.str.startswith(startstr)])\n",
        "            if endstr:\n",
        "                add_expr = list(unique_series[unique_series.str.endswith(endstr)])\n",
        "            if startstr and endstr:\n",
        "                # col with single letter not included, start means one or more of something\n",
        "                # beginning is not also end (here!)\n",
        "                start_and_end = (unique_series.str.startswith(startstr)\n",
        "                                 &\n",
        "                                 unique_series.str.endswith(endstr))\n",
        "                add_expr = list(unique_series[start_and_end])\n",
        "        else:\n",
        "            add_expr = [expr]\n",
        "\n",
        "        expanded.extend(add_expr)\n",
        "    return expanded\n",
        "\n",
        "\n",
        "def expand_hyphen(expr):\n",
        "    \"\"\"\n",
        "    Example: Expands ('b01A-b04A') to ['b01A' ,'b02A', 'b03A', 'b04A']\n",
        "    Args:\n",
        "        code\n",
        "    Returns:\n",
        "        List\n",
        "    Examples:\n",
        "        expand_hyphen('b01.1*-b09.9*')\n",
        "        expand_hyphen('n02.2-n02.7')\n",
        "        expand_hyphen('c00*-c260')\n",
        "        expand_hyphen('b01-b09')\n",
        "        expand_hyphen('b001.1*-b009.9*')\n",
        "        expand_hyphen(['b001.1*-b009.9*', 'c11-c15'])\n",
        "    Note:\n",
        "        decimal expression also works: expr = 'n02.2-n02.7'\n",
        "        expr = 'b01*-b09*'\n",
        "        expr = 'C00*-C26*'\n",
        "    \"\"\"\n",
        "\n",
        "    exprs = _listify(expr)\n",
        "    all_codes = []\n",
        "\n",
        "    for expr in exprs:\n",
        "        if '-' in expr:\n",
        "            lower, upper = expr.split('-')\n",
        "            lower_str = re.search(\"[-+]?\\d*\\.\\d+|\\d+\", lower).group()\n",
        "            upper_str = re.search(\"[-+]?\\d*\\.\\d+|\\d+\", upper).group()\n",
        "\n",
        "            lower_num = float(lower_str)\n",
        "            upper_num = float(upper_str)\n",
        "\n",
        "            # leading_nulls = len(lower_str) - len(lower_str.lstrip('0'))\n",
        "            length = len(lower_str)\n",
        "\n",
        "            # must use integers in a loop, not floats\n",
        "            if '.' in lower_str:\n",
        "                decimals = len(lower_str.split('.')[1])\n",
        "                multiplier = 10 * decimals\n",
        "            else:\n",
        "                multiplier = 1\n",
        "\n",
        "            no_dec_lower = int(lower_num * multiplier)\n",
        "            no_dec_upper = int((upper_num) * multiplier) + 1\n",
        "\n",
        "            if '.' in lower_str:\n",
        "                codes = [lower.replace(lower_str, str(num / multiplier).zfill(length)) for num in\n",
        "                         range(no_dec_lower, no_dec_upper)]\n",
        "            else:\n",
        "                codes = [lower.replace(lower_str, str(num).zfill(length)) for num in range(no_dec_lower, no_dec_upper)]\n",
        "\n",
        "\n",
        "        else:\n",
        "            codes = [expr]\n",
        "        all_codes.extend(codes)\n",
        "    return all_codes"
      ],
      "execution_count": null,
      "outputs": []
    },
    {
      "cell_type": "code",
      "metadata": {
        "id": "TBT2TpNPWJaX"
      },
      "source": [
        ""
      ],
      "execution_count": null,
      "outputs": []
    },
    {
      "cell_type": "code",
      "metadata": {
        "id": "NTJdCbmxWXxB"
      },
      "source": [
        "tumor = ['C00*-C26*', 'C30*-C34*', 'C37*-41*', 'C43*-C45*', 'C58*-C60*', 'C76*-C81*', 'C85*-C88*', 'C90*-C97*']\n",
        "sliver = ['I85.0', 'I85.9', 'I86.4', 'I98.2', 'K70.4', 'K71.1', 'K72.1', 'K72.9', 'K76.5', 'K76.6', 'K76.7']\n",
        "mtumor = ['C77*', 'C78*', 'C79*', 'C80*']\n",
        "hiv = ['B20*', 'B21*', 'B22*', 'B24']"
      ],
      "execution_count": null,
      "outputs": []
    },
    {
      "cell_type": "code",
      "metadata": {
        "id": "CiR_c66qWXp2"
      },
      "source": [
        "expand_cols(tumor, "
      ],
      "execution_count": null,
      "outputs": []
    },
    {
      "cell_type": "code",
      "metadata": {
        "id": "67sGwe-8WXbz"
      },
      "source": [
        ""
      ],
      "execution_count": null,
      "outputs": []
    },
    {
      "cell_type": "markdown",
      "metadata": {
        "id": "jYWrMncefG-h"
      },
      "source": [
        "\n",
        "\n",
        "- There are a large number of coding systems, all with different versions and languages.\n",
        "- Useful sources to read more about the specifics of different coding systems\n",
        "  * [Medical classification, Wikipedia](https://en.wikipedia.org/wiki/Medical_classification)\n",
        "  * [Family of international classifications, World Health Organization](https://www.who.int/classifications/en/)\n",
        "  * [Source vocabularies represented in the Unified Medical Language System, National Institute of Health, US National Library of Medicine](\n",
        "https://www.nlm.nih.gov/research/umls/sourcereleasedocs/index.html)\n",
        "\n",
        "wwhy does\n",
        "\n",
        "\n",
        "\n",
        "\n",
        "\n",
        "## Overview\n",
        "- Background \n",
        "- Aim: Make it easier to handle medical codes in health analytics\n",
        "- Starting example: Which diseases are most common?\n",
        "- What does code x mean?\n",
        "- Solution: Dictionary\n",
        "- Searching: Which codes are relevant for a disease?\n",
        "- How to change the granularity of a code?\n",
        "- Crosswalks between different coding systems\n",
        "- Problem: Fine for small project, messy for large projects\n",
        "- Solution: Rulebook"
      ]
    }
  ]
}