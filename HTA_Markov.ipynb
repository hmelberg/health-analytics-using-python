{
  "cells": [
    {
      "cell_type": "markdown",
      "metadata": {
        "colab_type": "text",
        "id": "view-in-github"
      },
      "source": [
        "<a href=\"https://colab.research.google.com/github/hmelberg/health-analytics-using-python/blob/master/HTA_Markov.ipynb\" target=\"_parent\"><img src=\"https://colab.research.google.com/assets/colab-badge.svg\" alt=\"Open In Colab\"/></a>"
      ]
    },
    {
      "cell_type": "markdown",
      "metadata": {
        "id": "I0iEVY8tvRoQ"
      },
      "source": [
        "# Economic Evaluation using Markov models"
      ]
    },
    {
      "cell_type": "markdown",
      "metadata": {
        "id": "-Hi4W3UivgA1"
      },
      "source": [
        "Assume you somebody invents a new pharmaceutical that increases the probability that patients will recover from a disease. In order to estimate the benefits of this pharmaceutical, we could create a model and simulate the outcome in terms of costs and benefits for a large number of individuals with and without the disease. To do so we first make a model."
      ]
    },
    {
      "cell_type": "markdown",
      "metadata": {
        "id": "WqGFSXgEwJrO"
      },
      "source": [
        "## A model of patient flow"
      ]
    },
    {
      "cell_type": "markdown",
      "metadata": {
        "id": "_pOCkMPqvgKt"
      },
      "source": [
        "Imagine that a person can only be in one of three possible states: Healthy, Sick, and Dead. In each time period there is a probability that a person may change state i.e. they may go from healthy to sick, from sick to healthy, and from both health and sick to dead. Also, and unfortunately, once you are dead the probability is very high that you will also be dead in the next time period. On a brigher note, a new pharmaceutical should at least increase the probability of going from sick to healthy or reduce the probability of dying. We could summarize the probabilies of going from one state to another in a table, often called a transition matrix:\n",
        "\n",
        "\n",
        "\n",
        "From/To|Healthy |Sick | Dead\n",
        "-----|--|--|--|\n",
        "Healthy|0.8|0.2| 0.1|\n",
        "Sick|0.2|0.6| 0.2|\n",
        "Dead|0|0| 1|\n",
        "\n",
        " "
      ]
    },
    {
      "cell_type": "markdown",
      "metadata": {
        "id": "NkloteMa5vg3"
      },
      "source": [
        "We could also visualize the information about the different states and transition probabilities in a graph:"
      ]
    },
    {
      "cell_type": "code",
      "execution_count": 1,
      "metadata": {
        "colab": {
          "base_uri": "https://localhost:8080/",
          "height": 311
        },
        "id": "uwWS2v-K5AoC",
        "outputId": "70f57317-02e6-4cb0-9822-d469a1f2daba"
      },
      "outputs": [
        {
          "ename": "ModuleNotFoundError",
          "evalue": "No module named 'graphviz'",
          "output_type": "error",
          "traceback": [
            "\u001b[0;31m---------------------------------------------------------------------------\u001b[0m",
            "\u001b[0;31mModuleNotFoundError\u001b[0m                       Traceback (most recent call last)",
            "Cell \u001b[0;32mIn[1], line 1\u001b[0m\n\u001b[0;32m----> 1\u001b[0m \u001b[38;5;28;01mimport\u001b[39;00m \u001b[38;5;21;01mgraphviz\u001b[39;00m\n\u001b[1;32m      2\u001b[0m \u001b[38;5;28;01mfrom\u001b[39;00m \u001b[38;5;21;01mgraphviz\u001b[39;00m \u001b[38;5;28;01mimport\u001b[39;00m Digraph\n\u001b[1;32m      4\u001b[0m tree \u001b[38;5;241m=\u001b[39m Digraph()\n",
            "\u001b[0;31mModuleNotFoundError\u001b[0m: No module named 'graphviz'"
          ]
        }
      ],
      "source": [
        "import graphviz\n",
        "from graphviz import Digraph\n",
        "\n",
        "tree = Digraph()\n",
        "\n",
        "tree.edge('Healthy', 'Healthy', '0.8')\n",
        "tree.edge('Healthy', 'Sick', '0.2')\n",
        "tree.edge('Healthy', 'Dead', '0.1')\n",
        "tree.edge('Sick', 'Healthy', '0.2')\n",
        "tree.edge('Sick', 'Sick', '0.6')\n",
        "tree.edge('Sick', 'Dead', '0.2')\n",
        "tree.edge('Dead', 'Dead' ,'1')\n",
        "\n",
        "tree"
      ]
    },
    {
      "cell_type": "markdown",
      "metadata": {
        "id": "dVjdeVzKyEBw"
      },
      "source": [
        "# Simulation: How many individuals will be in the different states as time passes?\n",
        "In order to find the number of healthy, sick, and dead people after a given number of steps, we multiply the initial population with the transition matrix. This gives us the number of people the different states after one time period. The result for the next time period can be found by multiplying the new outcome by the transition matrix.\n",
        "\n",
        "To do this in python, it is useful to use numpy and define the initial population as an array. Assume a poulation of 1000 individuals who all start out as healthy, and nobody are sick or dead, initially: "
      ]
    },
    {
      "cell_type": "code",
      "execution_count": 1,
      "metadata": {
        "id": "6PjRe-eRyEDu"
      },
      "outputs": [],
      "source": [
        "import numpy as np\n",
        "\n",
        "individuals = 100\n",
        "\n",
        "initial_population=np.array([individuals, 0 ,0])"
      ]
    },
    {
      "cell_type": "markdown",
      "metadata": {
        "id": "1YBEvu_wyEGB"
      },
      "source": [
        "Next, we need to create the transition matrix with the probabilities that an individual will go from one state to another.  "
      ]
    },
    {
      "cell_type": "code",
      "execution_count": 2,
      "metadata": {
        "id": "uWukWVFoGS44"
      },
      "outputs": [],
      "source": [
        "transition_matrix = np.array([[0.8, 0.1, 0.1], \n",
        "                              [0.2, 0.6, 0.2], \n",
        "                              [0  , 0 ,  1 ]])"
      ]
    },
    {
      "cell_type": "markdown",
      "metadata": {
        "id": "yYB2KSQmGC8_"
      },
      "source": [
        "We then multiply the initial population with the transition matrix to get the number of people who are healthy, sick and dead after the first time period. Note also that the symbol for matrix multiplication is @"
      ]
    },
    {
      "cell_type": "code",
      "execution_count": 3,
      "metadata": {
        "colab": {
          "base_uri": "https://localhost:8080/",
          "height": 35
        },
        "id": "MOhAIhBoyEIC",
        "outputId": "e142e550-2e56-4de8-edd4-4b66e2064463"
      },
      "outputs": [
        {
          "data": {
            "text/plain": [
              "array([80., 10., 10.])"
            ]
          },
          "execution_count": 3,
          "metadata": {},
          "output_type": "execute_result"
        }
      ],
      "source": [
        "population_after_1_step =  initial_population @ transition_matrix\n",
        "population_after_1_step"
      ]
    },
    {
      "cell_type": "markdown",
      "metadata": {
        "id": "pGRmT4pxvgPF"
      },
      "source": [
        "To get the number of individuals after a second sep:"
      ]
    },
    {
      "cell_type": "code",
      "execution_count": 4,
      "metadata": {
        "colab": {
          "base_uri": "https://localhost:8080/",
          "height": 35
        },
        "id": "g2psJj0DHe7f",
        "outputId": "42b5b4c1-8066-465c-a260-fbab4a70490c"
      },
      "outputs": [
        {
          "data": {
            "text/plain": [
              "array([66., 14., 20.])"
            ]
          },
          "execution_count": 4,
          "metadata": {},
          "output_type": "execute_result"
        }
      ],
      "source": [
        "population_after_2_step =  population_after_1_step @ transition_matrix\n",
        "population_after_2_step"
      ]
    },
    {
      "cell_type": "markdown",
      "metadata": {
        "id": "NmiYa3t2vgRb"
      },
      "source": [
        "Instead of doing it step by step, let's create a function that simulates _n_ steps and sends the results back to us:"
      ]
    },
    {
      "cell_type": "code",
      "execution_count": 22,
      "metadata": {
        "id": "iZ37pdXzH0Do"
      },
      "outputs": [],
      "source": [
        "def population_after_n_steps(initial, probabilities, steps=None):\n",
        "  current_population = initial.tolist()   \n",
        "  population_history = [current_population]\n",
        "  \n",
        "  step=0\n",
        "  go_on=True\n",
        "\n",
        "  while go_on:\n",
        "      new_population = current_population @ probabilities\n",
        "      population_history.append(new_population)\n",
        "      current_population=new_population\n",
        "      step=step+1\n",
        "      if steps is not None:\n",
        "         if step>=steps:\n",
        "            go_on=False\n",
        "      else:\n",
        "         if current_population[:-1].sum()<1:\n",
        "            go_on=False  \n",
        "\n",
        "  population_history=np.array(population_history)\n",
        "      \n",
        "  return population_history\n",
        "\n"
      ]
    },
    {
      "cell_type": "code",
      "execution_count": 23,
      "metadata": {
        "colab": {
          "base_uri": "https://localhost:8080/",
          "height": 399
        },
        "id": "hQ1JsBz5JSke",
        "outputId": "88b6c1e6-8a1b-45c5-fbea-42ce8b98fe91"
      },
      "outputs": [
        {
          "data": {
            "text/plain": [
              "array([[100,   0,   0],\n",
              "       [ 80,  10,  10],\n",
              "       [ 66,  14,  20],\n",
              "       [ 55,  15,  29],\n",
              "       [ 47,  14,  37],\n",
              "       [ 40,  13,  45],\n",
              "       [ 35,  12,  52],\n",
              "       [ 30,  10,  58],\n",
              "       [ 26,   9,  63],\n",
              "       [ 23,   8,  68],\n",
              "       [ 20,   7,  72],\n",
              "       [ 17,   6,  75],\n",
              "       [ 15,   5,  78],\n",
              "       [ 13,   4,  81],\n",
              "       [ 11,   4,  83],\n",
              "       [ 10,   3,  85],\n",
              "       [  9,   3,  87],\n",
              "       [  7,   2,  89],\n",
              "       [  6,   2,  90],\n",
              "       [  5,   2,  91],\n",
              "       [  5,   1,  92]])"
            ]
          },
          "execution_count": 23,
          "metadata": {},
          "output_type": "execute_result"
        }
      ],
      "source": [
        "population=population_after_n_steps(initial=initial_population, \n",
        "                       probabilities=transition_matrix, \n",
        "                       steps=20)\n",
        "population.astype(int)"
      ]
    },
    {
      "cell_type": "markdown",
      "metadata": {},
      "source": [
        "This shows the number of people in the different states at different point sin time. We can put the results in a a dataframe and plot it."
      ]
    },
    {
      "cell_type": "code",
      "execution_count": 26,
      "metadata": {},
      "outputs": [
        {
          "data": {
            "text/plain": [
              "array([[100.        ,   0.        ,   0.        ],\n",
              "       [ 80.        ,  10.        ,  10.        ],\n",
              "       [ 66.        ,  14.        ,  20.        ],\n",
              "       [ 55.6       ,  15.        ,  29.4       ],\n",
              "       [ 47.48      ,  14.56      ,  37.96      ],\n",
              "       [ 40.896     ,  13.484     ,  45.62      ],\n",
              "       [ 35.4136    ,  12.18      ,  52.4064    ],\n",
              "       [ 30.76688   ,  10.84936   ,  58.38376   ],\n",
              "       [ 26.783376  ,   9.586304  ,  63.63032   ],\n",
              "       [ 23.3439616 ,   8.43012   ,  68.2259184 ],\n",
              "       [ 20.36119328,   7.39246816,  72.24633856],\n",
              "       [ 17.76744826,   6.47160022,  75.76095152],\n",
              "       [ 15.50827865,   5.65970496,  78.83201639],\n",
              "       [ 13.53856391,   4.94665084,  81.51478525],\n",
              "       [ 11.8201813 ,   4.3218469 ,  83.85797181],\n",
              "       [ 10.32051442,   3.77512627,  85.90435932],\n",
              "       [  9.01143679,   3.2971272 ,  87.69143601],\n",
              "       [  7.86857487,   2.87942   ,  89.25200513],\n",
              "       [  6.8707439 ,   2.51450949,  90.61474662],\n",
              "       [  5.99949701,   2.19578008,  91.8047229 ],\n",
              "       [  5.23875363,   1.91741775,  92.84382862],\n",
              "       [  4.57448645,   1.67432601,  93.75118753],\n",
              "       [  3.99445436,   1.46204425,  94.54350138],\n",
              "       [  3.48797234,   1.27667199,  95.23535567],\n",
              "       [  3.04571227,   1.11480043,  95.8394873 ],\n",
              "       [  2.6595299 ,   0.97345148,  96.36701861],\n",
              "       [  2.32231422,   0.85002388,  96.8276619 ],\n",
              "       [  2.02785615,   0.74224575,  97.2298981 ],\n",
              "       [  1.77073407,   0.64813307,  97.58113286],\n",
              "       [  1.54621387,   0.56595325,  97.88783288],\n",
              "       [  1.35016175,   0.49419333,  98.15564492],\n",
              "       [  1.17896806,   0.43153218,  98.38949976],\n",
              "       [  1.02948089,   0.37681611,  98.593703  ],\n",
              "       [  0.89894793,   0.32903776,  98.77201431],\n",
              "       [  0.7849659 ,   0.28731745,  98.92771666],\n",
              "       [  0.68543621,   0.25088706,  99.06367674]])"
            ]
          },
          "execution_count": 26,
          "metadata": {},
          "output_type": "execute_result"
        }
      ],
      "source": [
        "population=population_after_n_steps(initial=initial_population, probabilities=transition_matrix)\n",
        "population"
      ]
    },
    {
      "cell_type": "code",
      "execution_count": 27,
      "metadata": {
        "colab": {
          "base_uri": "https://localhost:8080/",
          "height": 265
        },
        "id": "aObpazvhLdLe",
        "outputId": "fbbb520e-2fca-46b5-9e81-c7b4f30a54f9"
      },
      "outputs": [
        {
          "data": {
            "image/png": "[encoded data removed]",
            "text/plain": [
              "<Figure size 640x480 with 1 Axes>"
            ]
          },
          "metadata": {},
          "output_type": "display_data"
        }
      ],
      "source": [
        "import pandas as pd\n",
        "df=pd.DataFrame(population)\n",
        "df.columns=['healthy', 'sick', 'dead']\n",
        "df.plot();"
      ]
    },
    {
      "cell_type": "markdown",
      "metadata": {},
      "source": [
        "We are interested not only in the number of individuals in the different states, but the costs and benefits associated with the different states. Assume a person who is healthy has a health related utility of 0.9 during the each time period, a person who is sick has 0.5, and a dead person has no utility. "
      ]
    },
    {
      "cell_type": "code",
      "execution_count": 28,
      "metadata": {
        "colab": {
          "base_uri": "https://localhost:8080/",
          "height": 35
        },
        "id": "eyE9A5PuLdsc",
        "outputId": "68c89304-a245-4bbd-c312-8ffcb029f940"
      },
      "outputs": [
        {
          "data": {
            "text/plain": [
              "array([0.9, 0.5, 0. ])"
            ]
          },
          "execution_count": 28,
          "metadata": {},
          "output_type": "execute_result"
        }
      ],
      "source": [
        "utility = np.array([0.9, 0.5, 0])\n",
        "utility"
      ]
    },
    {
      "cell_type": "markdown",
      "metadata": {},
      "source": [
        "We can now multiply the numper of people in the different states with the utility to get the total utility during each time step."
      ]
    },
    {
      "cell_type": "code",
      "execution_count": 29,
      "metadata": {
        "colab": {
          "base_uri": "https://localhost:8080/",
          "height": 126
        },
        "id": "tQvedLCELdua",
        "outputId": "b0539467-0ca7-40c4-f099-5676a2126c4e"
      },
      "outputs": [
        {
          "data": {
            "text/plain": [
              "array([90.        , 77.        , 66.4       , 57.54      , 50.012     ,\n",
              "       43.5484    , 37.96224   , 33.114872  , 28.8981904 , 25.22462544,\n",
              "       22.02130803, 19.22650354, 16.78730326, 14.65803294, 12.79908662,\n",
              "       11.17602611,  9.75885671,  8.52142738,  7.44092425,  6.49743735,\n",
              "        5.67358714,  4.95420081,  4.32603105,  3.7775111 ,  3.29854126,\n",
              "        2.88030265,  2.51509474,  2.19619341,  1.9177272 ,  1.67456911,\n",
              "        1.46224224,  1.27683734,  1.11494085,  0.97357202,  0.85012803,\n",
              "        0.74233611])"
            ]
          },
          "execution_count": 29,
          "metadata": {},
          "output_type": "execute_result"
        }
      ],
      "source": [
        "annual_utility=population @ utility\n",
        "annual_utility"
      ]
    },
    {
      "cell_type": "markdown",
      "metadata": {},
      "source": [
        "To get the average lifetime utility of an individual in this model, we get the total utility by summing the annual utilities and divide by the number of individuals in the model."
      ]
    },
    {
      "cell_type": "code",
      "execution_count": 30,
      "metadata": {},
      "outputs": [
        {
          "data": {
            "text/plain": [
              "6.7822104910698044"
            ]
          },
          "execution_count": 30,
          "metadata": {},
          "output_type": "execute_result"
        }
      ],
      "source": [
        "lifetime_average_utility=annual_utility.sum()/individuals\n",
        "lifetime_average_utility"
      ]
    },
    {
      "cell_type": "markdown",
      "metadata": {},
      "source": [
        "Similarly, for costs we might assume that being healthy is associated with zero health costs, being sick is associated with a cost of treatment in each time period of 1000, and time as dead - at least for now - does not cost anything!"
      ]
    },
    {
      "cell_type": "code",
      "execution_count": 33,
      "metadata": {
        "colab": {
          "base_uri": "https://localhost:8080/",
          "height": 145
        },
        "id": "4pSIjcYbLdwu",
        "outputId": "527c4e78-6254-42b9-d6bd-36aaa9d453f4"
      },
      "outputs": [
        {
          "data": {
            "text/plain": [
              "1649.3886985661272"
            ]
          },
          "execution_count": 33,
          "metadata": {},
          "output_type": "execute_result"
        }
      ],
      "source": [
        "cost = np.array([0,1000,0])\n",
        "annual_cost=population @ cost\n",
        "lifetime_average_cost=annual_cost.sum()/individuals\n",
        "lifetime_average_cost\n"
      ]
    },
    {
      "cell_type": "code",
      "execution_count": 32,
      "metadata": {},
      "outputs": [
        {
          "data": {
            "text/plain": [
              "243.1933807919839"
            ]
          },
          "execution_count": 32,
          "metadata": {},
          "output_type": "execute_result"
        }
      ],
      "source": [
        "average_cost_per_utility=lifetime_average_cost/lifetime_average_utility\n",
        "average_cost_per_utility"
      ]
    },
    {
      "cell_type": "markdown",
      "metadata": {},
      "source": [
        "In short, in this model, an average individualacross her whole life-course,  has a average health cost of 1649 and a utility og 6.8. This gives an average cost per utility of 243.\n",
        "\n",
        "INstead of doing the calculations above every time we need to find the average cost per utility, it is useful to create a function that calculates the expected utility based on a given transition matrix, the utiity, and the costs:"
      ]
    },
    {
      "cell_type": "code",
      "execution_count": 29,
      "metadata": {},
      "outputs": [],
      "source": [
        "\n",
        "def expected(kind=\"utility, cost, cost_per_utility\", population=None, matrix=None, utility=None, steps=None):\n",
        "    population = population_after_n_steps(initial=initial_population, matrix=matrix, steps=steps)\n",
        "    n_population = population.sum()\n",
        "\n",
        "    total_utility = (population @ utility).sum()\n",
        "    average_utility = total_utility/n_population\n",
        "\n",
        "    total_cost = (population @ cost).sum()\n",
        "    average_cost = total_cost/n_population\n",
        "  \n",
        "    return (average_utility, average_cost)\n",
        "\n",
        "\n",
        "def expected_cost_per_utility(population=None, matrix=None, utility=None, steps=None):\n",
        "    population = population_development(initial=initial_population, matrix=matrix, steps=steps)\n",
        "    n_population = initial.sum()\n",
        "\n",
        "    total_utility = (population @ utility).sum()\n",
        "    average_utility = total_utility/n_population\n",
        "  \n",
        "    return average_utility\n"
      ]
    },
    {
      "cell_type": "code",
      "execution_count": null,
      "metadata": {
        "id": "t2P33Jdjbb8t"
      },
      "outputs": [],
      "source": [
        "def descriptives(initial, probabilities, utility, cost, steps):\n",
        "  population = population_development(initial=initial, probabilities=probabilities, steps=steps)\n",
        "  n_population = initial.sum()\n",
        "\n",
        "  tot_cost = (population @ cost).sum()\n",
        "  avg_cost = tot_cost/n_population\n",
        "\n",
        "  tot_utility = (population @ utility).sum()\n",
        "  avg_utility = tot_utility/n_population\n",
        "  \n",
        "  return avg_cost, avg_utility\n",
        "\n"
      ]
    },
    {
      "cell_type": "code",
      "execution_count": null,
      "metadata": {
        "colab": {
          "base_uri": "https://localhost:8080/",
          "height": 35
        },
        "id": "rVeB6pE2bbwq",
        "outputId": "fdd709c5-f4a4-48c7-89c4-0a5b3ec87236"
      },
      "outputs": [
        {
          "data": {
            "text/plain": [
              "(1534.6143586916928, 6.442608211813452)"
            ]
          },
          "execution_count": 35,
          "metadata": {
            "tags": []
          },
          "output_type": "execute_result"
        }
      ],
      "source": [
        "descriptives(initial=initial_population, \n",
        "             probabilities = transition_matrix,\n",
        "             utility=utility,\n",
        "             cost=cost, \n",
        "             steps=20)"
      ]
    },
    {
      "cell_type": "markdown",
      "metadata": {
        "id": "EKJwx2nlZt3W"
      },
      "source": [
        "## New treatment"
      ]
    },
    {
      "cell_type": "code",
      "execution_count": null,
      "metadata": {
        "id": "C4Zm9qS7aNPR"
      },
      "outputs": [],
      "source": [
        "new_transition_matrix = np.array([[0.8, 0.1, 0.1], [0.3, 0.6, 0.1], [0. , 0. , 1. ]])\n",
        "new_cost = np.array([0,2000,0])"
      ]
    },
    {
      "cell_type": "code",
      "execution_count": null,
      "metadata": {
        "colab": {
          "base_uri": "https://localhost:8080/",
          "height": 415
        },
        "id": "fGirRinFaNRr",
        "outputId": "01d4d115-9a68-4223-e06a-d37be550bc4c"
      },
      "outputs": [
        {
          "ename": "TypeError",
          "evalue": "ignored",
          "output_type": "error",
          "traceback": [
            "\u001b[0;31m---------------------------------------------------------------------------\u001b[0m",
            "\u001b[0;31mTypeError\u001b[0m                                 Traceback (most recent call last)",
            "\u001b[0;32m<ipython-input-112-a4a5ab23e641>\u001b[0m in \u001b[0;36m<module>\u001b[0;34m()\u001b[0m\n\u001b[0;32m----> 1\u001b[0;31m \u001b[0mget_ipython\u001b[0m\u001b[0;34m(\u001b[0m\u001b[0;34m)\u001b[0m\u001b[0;34m.\u001b[0m\u001b[0mrun_cell_magic\u001b[0m\u001b[0;34m(\u001b[0m\u001b[0;34m'timeit'\u001b[0m\u001b[0;34m,\u001b[0m \u001b[0;34m''\u001b[0m\u001b[0;34m,\u001b[0m \u001b[0;34m'descriptives(initial=initial_population, \\n             probabilities = new_transition_matrix,\\n             utility=utility,\\n             cost=new_cost, \\n             steps=20)'\u001b[0m\u001b[0;34m)\u001b[0m\u001b[0;34m\u001b[0m\u001b[0;34m\u001b[0m\u001b[0m\n\u001b[0m",
            "\u001b[0;32m/usr/local/lib/python3.6/dist-packages/IPython/core/interactiveshell.py\u001b[0m in \u001b[0;36mrun_cell_magic\u001b[0;34m(self, magic_name, line, cell)\u001b[0m\n\u001b[1;32m   2115\u001b[0m             \u001b[0mmagic_arg_s\u001b[0m \u001b[0;34m=\u001b[0m \u001b[0mself\u001b[0m\u001b[0;34m.\u001b[0m\u001b[0mvar_expand\u001b[0m\u001b[0;34m(\u001b[0m\u001b[0mline\u001b[0m\u001b[0;34m,\u001b[0m \u001b[0mstack_depth\u001b[0m\u001b[0;34m)\u001b[0m\u001b[0;34m\u001b[0m\u001b[0;34m\u001b[0m\u001b[0m\n\u001b[1;32m   2116\u001b[0m             \u001b[0;32mwith\u001b[0m \u001b[0mself\u001b[0m\u001b[0;34m.\u001b[0m\u001b[0mbuiltin_trap\u001b[0m\u001b[0;34m:\u001b[0m\u001b[0;34m\u001b[0m\u001b[0;34m\u001b[0m\u001b[0m\n\u001b[0;32m-> 2117\u001b[0;31m                 \u001b[0mresult\u001b[0m \u001b[0;34m=\u001b[0m \u001b[0mfn\u001b[0m\u001b[0;34m(\u001b[0m\u001b[0mmagic_arg_s\u001b[0m\u001b[0;34m,\u001b[0m \u001b[0mcell\u001b[0m\u001b[0;34m)\u001b[0m\u001b[0;34m\u001b[0m\u001b[0;34m\u001b[0m\u001b[0m\n\u001b[0m\u001b[1;32m   2118\u001b[0m             \u001b[0;32mreturn\u001b[0m \u001b[0mresult\u001b[0m\u001b[0;34m\u001b[0m\u001b[0;34m\u001b[0m\u001b[0m\n\u001b[1;32m   2119\u001b[0m \u001b[0;34m\u001b[0m\u001b[0m\n",
            "\u001b[0;32m<decorator-gen-59>\u001b[0m in \u001b[0;36mtimeit\u001b[0;34m(self, line, cell)\u001b[0m\n",
            "\u001b[0;32m/usr/local/lib/python3.6/dist-packages/IPython/core/magic.py\u001b[0m in \u001b[0;36m<lambda>\u001b[0;34m(f, *a, **k)\u001b[0m\n\u001b[1;32m    186\u001b[0m     \u001b[0;31m# but it's overkill for just that one bit of state.\u001b[0m\u001b[0;34m\u001b[0m\u001b[0;34m\u001b[0m\u001b[0;34m\u001b[0m\u001b[0m\n\u001b[1;32m    187\u001b[0m     \u001b[0;32mdef\u001b[0m \u001b[0mmagic_deco\u001b[0m\u001b[0;34m(\u001b[0m\u001b[0marg\u001b[0m\u001b[0;34m)\u001b[0m\u001b[0;34m:\u001b[0m\u001b[0;34m\u001b[0m\u001b[0;34m\u001b[0m\u001b[0m\n\u001b[0;32m--> 188\u001b[0;31m         \u001b[0mcall\u001b[0m \u001b[0;34m=\u001b[0m \u001b[0;32mlambda\u001b[0m \u001b[0mf\u001b[0m\u001b[0;34m,\u001b[0m \u001b[0;34m*\u001b[0m\u001b[0ma\u001b[0m\u001b[0;34m,\u001b[0m \u001b[0;34m**\u001b[0m\u001b[0mk\u001b[0m\u001b[0;34m:\u001b[0m \u001b[0mf\u001b[0m\u001b[0;34m(\u001b[0m\u001b[0;34m*\u001b[0m\u001b[0ma\u001b[0m\u001b[0;34m,\u001b[0m \u001b[0;34m**\u001b[0m\u001b[0mk\u001b[0m\u001b[0;34m)\u001b[0m\u001b[0;34m\u001b[0m\u001b[0;34m\u001b[0m\u001b[0m\n\u001b[0m\u001b[1;32m    189\u001b[0m \u001b[0;34m\u001b[0m\u001b[0m\n\u001b[1;32m    190\u001b[0m         \u001b[0;32mif\u001b[0m \u001b[0mcallable\u001b[0m\u001b[0;34m(\u001b[0m\u001b[0marg\u001b[0m\u001b[0;34m)\u001b[0m\u001b[0;34m:\u001b[0m\u001b[0;34m\u001b[0m\u001b[0;34m\u001b[0m\u001b[0m\n",
            "\u001b[0;32m/usr/local/lib/python3.6/dist-packages/IPython/core/magics/execution.py\u001b[0m in \u001b[0;36mtimeit\u001b[0;34m(self, line, cell)\u001b[0m\n\u001b[1;32m   1055\u001b[0m             \u001b[0mnumber\u001b[0m \u001b[0;34m=\u001b[0m \u001b[0;36m1\u001b[0m\u001b[0;34m\u001b[0m\u001b[0;34m\u001b[0m\u001b[0m\n\u001b[1;32m   1056\u001b[0m             \u001b[0;32mfor\u001b[0m \u001b[0m_\u001b[0m \u001b[0;32min\u001b[0m \u001b[0mrange\u001b[0m\u001b[0;34m(\u001b[0m\u001b[0;36m1\u001b[0m\u001b[0;34m,\u001b[0m \u001b[0;36m10\u001b[0m\u001b[0;34m)\u001b[0m\u001b[0;34m:\u001b[0m\u001b[0;34m\u001b[0m\u001b[0;34m\u001b[0m\u001b[0m\n\u001b[0;32m-> 1057\u001b[0;31m                 \u001b[0mtime_number\u001b[0m \u001b[0;34m=\u001b[0m \u001b[0mtimer\u001b[0m\u001b[0;34m.\u001b[0m\u001b[0mtimeit\u001b[0m\u001b[0;34m(\u001b[0m\u001b[0mnumber\u001b[0m\u001b[0;34m)\u001b[0m\u001b[0;34m\u001b[0m\u001b[0;34m\u001b[0m\u001b[0m\n\u001b[0m\u001b[1;32m   1058\u001b[0m                 \u001b[0mworst_tuning\u001b[0m \u001b[0;34m=\u001b[0m \u001b[0mmax\u001b[0m\u001b[0;34m(\u001b[0m\u001b[0mworst_tuning\u001b[0m\u001b[0;34m,\u001b[0m \u001b[0mtime_number\u001b[0m \u001b[0;34m/\u001b[0m \u001b[0mnumber\u001b[0m\u001b[0;34m)\u001b[0m\u001b[0;34m\u001b[0m\u001b[0;34m\u001b[0m\u001b[0m\n\u001b[1;32m   1059\u001b[0m                 \u001b[0;32mif\u001b[0m \u001b[0mtime_number\u001b[0m \u001b[0;34m>=\u001b[0m \u001b[0;36m0.2\u001b[0m\u001b[0;34m:\u001b[0m\u001b[0;34m\u001b[0m\u001b[0;34m\u001b[0m\u001b[0m\n",
            "\u001b[0;32m/usr/local/lib/python3.6/dist-packages/IPython/core/magics/execution.py\u001b[0m in \u001b[0;36mtimeit\u001b[0;34m(self, number)\u001b[0m\n\u001b[1;32m    137\u001b[0m         \u001b[0mgc\u001b[0m\u001b[0;34m.\u001b[0m\u001b[0mdisable\u001b[0m\u001b[0;34m(\u001b[0m\u001b[0;34m)\u001b[0m\u001b[0;34m\u001b[0m\u001b[0;34m\u001b[0m\u001b[0m\n\u001b[1;32m    138\u001b[0m         \u001b[0;32mtry\u001b[0m\u001b[0;34m:\u001b[0m\u001b[0;34m\u001b[0m\u001b[0;34m\u001b[0m\u001b[0m\n\u001b[0;32m--> 139\u001b[0;31m             \u001b[0mtiming\u001b[0m \u001b[0;34m=\u001b[0m \u001b[0mself\u001b[0m\u001b[0;34m.\u001b[0m\u001b[0minner\u001b[0m\u001b[0;34m(\u001b[0m\u001b[0mit\u001b[0m\u001b[0;34m,\u001b[0m \u001b[0mself\u001b[0m\u001b[0;34m.\u001b[0m\u001b[0mtimer\u001b[0m\u001b[0;34m)\u001b[0m\u001b[0;34m\u001b[0m\u001b[0;34m\u001b[0m\u001b[0m\n\u001b[0m\u001b[1;32m    140\u001b[0m         \u001b[0;32mfinally\u001b[0m\u001b[0;34m:\u001b[0m\u001b[0;34m\u001b[0m\u001b[0;34m\u001b[0m\u001b[0m\n\u001b[1;32m    141\u001b[0m             \u001b[0;32mif\u001b[0m \u001b[0mgcold\u001b[0m\u001b[0;34m:\u001b[0m\u001b[0;34m\u001b[0m\u001b[0;34m\u001b[0m\u001b[0m\n",
            "\u001b[0;32m<magic-timeit>\u001b[0m in \u001b[0;36minner\u001b[0;34m(_it, _timer)\u001b[0m\n",
            "\u001b[0;32m<ipython-input-98-5100ece45368>\u001b[0m in \u001b[0;36mdescriptives\u001b[0;34m(initial, probabilities, utility, cost, steps, p_dead_from_age)\u001b[0m\n\u001b[1;32m      1\u001b[0m \u001b[0;32mdef\u001b[0m \u001b[0mdescriptives\u001b[0m\u001b[0;34m(\u001b[0m\u001b[0minitial\u001b[0m\u001b[0;34m,\u001b[0m \u001b[0mprobabilities\u001b[0m\u001b[0;34m,\u001b[0m \u001b[0mutility\u001b[0m\u001b[0;34m,\u001b[0m \u001b[0mcost\u001b[0m\u001b[0;34m,\u001b[0m \u001b[0msteps\u001b[0m\u001b[0;34m,\u001b[0m \u001b[0mp_dead_from_age\u001b[0m\u001b[0;34m=\u001b[0m\u001b[0;32mNone\u001b[0m\u001b[0;34m)\u001b[0m\u001b[0;34m:\u001b[0m\u001b[0;34m\u001b[0m\u001b[0;34m\u001b[0m\u001b[0m\n\u001b[0;32m----> 2\u001b[0;31m   \u001b[0mpopulation\u001b[0m \u001b[0;34m=\u001b[0m \u001b[0mpopulation_development\u001b[0m\u001b[0;34m(\u001b[0m\u001b[0minitial\u001b[0m\u001b[0;34m=\u001b[0m\u001b[0minitial\u001b[0m\u001b[0;34m,\u001b[0m \u001b[0mprobabilities\u001b[0m\u001b[0;34m=\u001b[0m\u001b[0mprobabilities\u001b[0m\u001b[0;34m,\u001b[0m \u001b[0msteps\u001b[0m\u001b[0;34m=\u001b[0m\u001b[0msteps\u001b[0m\u001b[0;34m,\u001b[0m \u001b[0mp_dead_from_age\u001b[0m\u001b[0;34m=\u001b[0m\u001b[0mp_dead_from_age\u001b[0m\u001b[0;34m)\u001b[0m\u001b[0;34m\u001b[0m\u001b[0;34m\u001b[0m\u001b[0m\n\u001b[0m\u001b[1;32m      3\u001b[0m   \u001b[0mn_population\u001b[0m \u001b[0;34m=\u001b[0m \u001b[0minitial\u001b[0m\u001b[0;34m.\u001b[0m\u001b[0msum\u001b[0m\u001b[0;34m(\u001b[0m\u001b[0;34m)\u001b[0m\u001b[0;34m\u001b[0m\u001b[0;34m\u001b[0m\u001b[0m\n\u001b[1;32m      4\u001b[0m \u001b[0;34m\u001b[0m\u001b[0m\n\u001b[1;32m      5\u001b[0m   \u001b[0mtot_cost\u001b[0m \u001b[0;34m=\u001b[0m \u001b[0;34m(\u001b[0m\u001b[0mpopulation\u001b[0m \u001b[0;34m@\u001b[0m \u001b[0mcost\u001b[0m\u001b[0;34m)\u001b[0m\u001b[0;34m.\u001b[0m\u001b[0msum\u001b[0m\u001b[0;34m(\u001b[0m\u001b[0;34m)\u001b[0m\u001b[0;34m\u001b[0m\u001b[0;34m\u001b[0m\u001b[0m\n",
            "\u001b[0;32m<ipython-input-97-c5756a8b93f5>\u001b[0m in \u001b[0;36mpopulation_development\u001b[0;34m(initial, probabilities, steps, p_dead_from_age)\u001b[0m\n\u001b[1;32m      5\u001b[0m \u001b[0;34m\u001b[0m\u001b[0m\n\u001b[1;32m      6\u001b[0m   \u001b[0;32mfor\u001b[0m \u001b[0mstep\u001b[0m \u001b[0;32min\u001b[0m \u001b[0mrange\u001b[0m\u001b[0;34m(\u001b[0m\u001b[0msteps\u001b[0m\u001b[0;34m)\u001b[0m\u001b[0;34m:\u001b[0m\u001b[0;34m\u001b[0m\u001b[0;34m\u001b[0m\u001b[0m\n\u001b[0;32m----> 7\u001b[0;31m     \u001b[0mprobabilities\u001b[0m\u001b[0;34m[\u001b[0m\u001b[0;36m0\u001b[0m\u001b[0;34m,\u001b[0m\u001b[0;36m3\u001b[0m\u001b[0;34m]\u001b[0m\u001b[0;34m=\u001b[0m\u001b[0mp_dead_from_age\u001b[0m\u001b[0;34m[\u001b[0m\u001b[0mstep\u001b[0m\u001b[0;34m]\u001b[0m\u001b[0;34m\u001b[0m\u001b[0;34m\u001b[0m\u001b[0m\n\u001b[0m\u001b[1;32m      8\u001b[0m     \u001b[0mprobabilities\u001b[0m\u001b[0;34m[\u001b[0m\u001b[0;36m1\u001b[0m\u001b[0;34m,\u001b[0m\u001b[0;36m3\u001b[0m\u001b[0;34m]\u001b[0m\u001b[0;34m=\u001b[0m\u001b[0mp_dead_from_age\u001b[0m\u001b[0;34m[\u001b[0m\u001b[0mstep\u001b[0m\u001b[0;34m]\u001b[0m\u001b[0;34m\u001b[0m\u001b[0;34m\u001b[0m\u001b[0m\n\u001b[1;32m      9\u001b[0m \u001b[0;34m\u001b[0m\u001b[0m\n",
            "\u001b[0;31mTypeError\u001b[0m: 'NoneType' object is not subscriptable"
          ]
        }
      ],
      "source": [
        "%%timeit\n",
        "descriptives(initial=initial_population, \n",
        "             probabilities = new_transition_matrix,\n",
        "             utility=utility,\n",
        "             cost=new_cost, \n",
        "             steps=20)"
      ]
    },
    {
      "cell_type": "code",
      "execution_count": null,
      "metadata": {
        "id": "S_fxkUe_aNTz"
      },
      "outputs": [],
      "source": [
        "def icer(initial, old_matrix, old_utility, old_cost, new_matrix, new_utility, new_cost, steps):\n",
        "  old_cost, old_utility = descriptives(initial=initial,  probabilities = old_matrix,  utility=old_utility,  cost=old_cost, steps=steps)\n",
        "  new_cost, new_utility = descriptives(initial=initial,  probabilities = new_matrix,  utility=new_utility,  cost=new_cost, steps=steps)\n",
        "  icer = (new_cost - old_cost)/(new_utility - old_utility)\n",
        "  return icer"
      ]
    },
    {
      "cell_type": "code",
      "execution_count": null,
      "metadata": {
        "colab": {
          "base_uri": "https://localhost:8080/",
          "height": 35
        },
        "id": "JpGZahR5aNV-",
        "outputId": "30b96c8a-6ca1-4b27-e12d-b4f3109a6b85"
      },
      "outputs": [
        {
          "data": {
            "text/plain": [
              "2174.8352132084106"
            ]
          },
          "execution_count": 39,
          "metadata": {
            "tags": []
          },
          "output_type": "execute_result"
        }
      ],
      "source": [
        "icer(initial=initial_population,\n",
        "     old_matrix=transition_matrix,\n",
        "     old_cost=cost,\n",
        "     old_utility=utility,\n",
        "     new_matrix=new_transition_matrix,\n",
        "     new_cost=new_cost,\n",
        "     new_utility=utility,\n",
        "     steps=20)\n"
      ]
    },
    {
      "cell_type": "markdown",
      "metadata": {
        "id": "UF76Ux-jaNax"
      },
      "source": [
        "# Challenge 1: Probability of death may depend on time\n",
        "\n",
        "So far we have assumed that the probability of dying is is the same as time passes. Regardles of how much time has passes, the probability that you will die if you get sick, is 0.2 in every time period while you are sick. This seems wrong. A more realistic assumption - if the time period to be considered spans several years - would be to make the probability of dying increase as time passes i.e. as people get older. The figure below visualizes the model with both deaths from a disease and deats from age:\n"
      ]
    },
    {
      "cell_type": "code",
      "execution_count": null,
      "metadata": {
        "id": "3sor1kw5qcJf"
      },
      "outputs": [],
      "source": []
    },
    {
      "cell_type": "code",
      "execution_count": null,
      "metadata": {
        "id": "nDODtTv0qcDG"
      },
      "outputs": [],
      "source": [
        "#simplify graphs making by creating a functions that connect all states, exept out from those that mention dead, and those listed in delete_edges\n",
        "\n",
        "#from itertools import permutations\n",
        "#from itertools import product\n",
        "from itertools import combinations_with_replacement\n",
        "\n",
        "def make_graph(states=None, ignore_edges=None):\n",
        "  tree = Digraph()\n",
        "  edges = list(combinations_with_replacement(states, 2))\n",
        "  reverse_edges = [(edge[1], edge[0]) for edge in edges]\n",
        "  reverse_edges = [edge for edge in reverse_edges if edge[0]!=edge[1]]\n",
        "  edges.extend(reverse_edges)\n",
        "  edges = [edge for edge in edges if 'dead' not in edge[0].lower()]\n",
        "  \n",
        "  if ignore_edges:\n",
        "    edges = [edge for edge in edges if edge not in ignore_edges]\n",
        "  for edge in edges:\n",
        "      tree.edge(*edge)\n",
        "  return tree\n",
        "  "
      ]
    },
    {
      "cell_type": "code",
      "execution_count": null,
      "metadata": {
        "colab": {
          "base_uri": "https://localhost:8080/",
          "height": 271
        },
        "id": "UgnoXi1fqb_g",
        "outputId": "dc8c22d6-6f54-4cab-ab35-c78c81fcdfde"
      },
      "outputs": [
        {
          "data": {
            "image/svg+xml": [
              "<?xml version=\"1.0\" encoding=\"UTF-8\" standalone=\"no\"?>\n",
              "<!DOCTYPE svg PUBLIC \"-//W3C//DTD SVG 1.1//EN\"\n",
              " \"http://www.w3.org/Graphics/SVG/1.1/DTD/svg11.dtd\">\n",
              "<!-- Generated by graphviz version 2.40.1 (20161225.0304)\n",
              " -->\n",
              "<!-- Title: %3 Pages: 1 -->\n",
              "<svg width=\"316pt\" height=\"188pt\"\n",
              " viewBox=\"0.00 0.00 315.94 188.00\" xmlns=\"http://www.w3.org/2000/svg\" xmlns:xlink=\"http://www.w3.org/1999/xlink\">\n",
              "<g id=\"graph0\" class=\"graph\" transform=\"scale(1 1) rotate(0) translate(4 184)\">\n",
              "<title>%3</title>\n",
              "<polygon fill=\"#ffffff\" stroke=\"transparent\" points=\"-4,4 -4,-184 311.9371,-184 311.9371,4 -4,4\"/>\n",
              "<!-- Healthy -->\n",
              "<g id=\"node1\" class=\"node\">\n",
              "<title>Healthy</title>\n",
              "<ellipse fill=\"none\" stroke=\"#000000\" cx=\"146.6442\" cy=\"-162\" rx=\"40.0939\" ry=\"18\"/>\n",
              "<text text-anchor=\"middle\" x=\"146.6442\" y=\"-158.3\" font-family=\"Times,serif\" font-size=\"14.00\" fill=\"#000000\">Healthy</text>\n",
              "</g>\n",
              "<!-- Healthy&#45;&gt;Healthy -->\n",
              "<g id=\"edge1\" class=\"edge\">\n",
              "<title>Healthy&#45;&gt;Healthy</title>\n",
              "<path fill=\"none\" stroke=\"#000000\" d=\"M175.138,-174.8993C190.6932,-177.1982 204.9406,-172.8984 204.9406,-162 204.9406,-153.5707 196.4178,-149.0888 185.3588,-148.5543\"/>\n",
              "<polygon fill=\"#000000\" stroke=\"#000000\" points=\"184.9369,-145.0718 175.138,-149.1007 185.3106,-152.0618 184.9369,-145.0718\"/>\n",
              "</g>\n",
              "<!-- Sick -->\n",
              "<g id=\"node2\" class=\"node\">\n",
              "<title>Sick</title>\n",
              "<ellipse fill=\"none\" stroke=\"#000000\" cx=\"146.6442\" cy=\"-90\" rx=\"27.0966\" ry=\"18\"/>\n",
              "<text text-anchor=\"middle\" x=\"146.6442\" y=\"-86.3\" font-family=\"Times,serif\" font-size=\"14.00\" fill=\"#000000\">Sick</text>\n",
              "</g>\n",
              "<!-- Healthy&#45;&gt;Sick -->\n",
              "<g id=\"edge2\" class=\"edge\">\n",
              "<title>Healthy&#45;&gt;Sick</title>\n",
              "<path fill=\"none\" stroke=\"#000000\" d=\"M140.6918,-143.8314C139.9298,-136.0125 139.7138,-126.6923 140.0437,-118.0221\"/>\n",
              "<polygon fill=\"#000000\" stroke=\"#000000\" points=\"143.5446,-118.1239 140.7169,-107.9134 136.5601,-117.6587 143.5446,-118.1239\"/>\n",
              "</g>\n",
              "<!-- Dead from age -->\n",
              "<g id=\"node3\" class=\"node\">\n",
              "<title>Dead from age</title>\n",
              "<ellipse fill=\"none\" stroke=\"#000000\" cx=\"65.6442\" cy=\"-18\" rx=\"65.7887\" ry=\"18\"/>\n",
              "<text text-anchor=\"middle\" x=\"65.6442\" y=\"-14.3\" font-family=\"Times,serif\" font-size=\"14.00\" fill=\"#000000\">Dead from age</text>\n",
              "</g>\n",
              "<!-- Healthy&#45;&gt;Dead from age -->\n",
              "<g id=\"edge3\" class=\"edge\">\n",
              "<title>Healthy&#45;&gt;Dead from age</title>\n",
              "<path fill=\"none\" stroke=\"#000000\" d=\"M134.409,-144.8398C127.1647,-134.396 117.9962,-120.6688 110.6442,-108 98.733,-87.4749 86.7919,-63.3906 78.2065,-45.3038\"/>\n",
              "<polygon fill=\"#000000\" stroke=\"#000000\" points=\"81.2241,-43.4956 73.8036,-35.9333 74.8886,-46.4725 81.2241,-43.4956\"/>\n",
              "</g>\n",
              "<!-- Dead from disease -->\n",
              "<g id=\"node4\" class=\"node\">\n",
              "<title>Dead from disease</title>\n",
              "<ellipse fill=\"none\" stroke=\"#000000\" cx=\"228.6442\" cy=\"-18\" rx=\"79.0865\" ry=\"18\"/>\n",
              "<text text-anchor=\"middle\" x=\"228.6442\" y=\"-14.3\" font-family=\"Times,serif\" font-size=\"14.00\" fill=\"#000000\">Dead from disease</text>\n",
              "</g>\n",
              "<!-- Healthy&#45;&gt;Dead from disease -->\n",
              "<g id=\"edge4\" class=\"edge\">\n",
              "<title>Healthy&#45;&gt;Dead from disease</title>\n",
              "<path fill=\"none\" stroke=\"#000000\" d=\"M166.7975,-146.1245C178.1568,-136.236 191.7994,-122.6386 200.6442,-108 212.1576,-88.9446 219.3418,-64.7229 223.5464,-46.2085\"/>\n",
              "<polygon fill=\"#000000\" stroke=\"#000000\" points=\"226.994,-46.8221 225.6361,-36.3147 220.1451,-45.3755 226.994,-46.8221\"/>\n",
              "</g>\n",
              "<!-- Sick&#45;&gt;Healthy -->\n",
              "<g id=\"edge8\" class=\"edge\">\n",
              "<title>Sick&#45;&gt;Healthy</title>\n",
              "<path fill=\"none\" stroke=\"#000000\" d=\"M152.5714,-107.9134C153.3453,-115.6993 153.5733,-125.01 153.2552,-133.6941\"/>\n",
              "<polygon fill=\"#000000\" stroke=\"#000000\" points=\"149.7524,-133.6254 152.5966,-143.8314 156.7377,-134.0794 149.7524,-133.6254\"/>\n",
              "</g>\n",
              "<!-- Sick&#45;&gt;Sick -->\n",
              "<g id=\"edge5\" class=\"edge\">\n",
              "<title>Sick&#45;&gt;Sick</title>\n",
              "<path fill=\"none\" stroke=\"#000000\" d=\"M166.6708,-102.4321C179.5483,-105.6753 191.9418,-101.5313 191.9418,-90 191.9418,-81.6218 185.3993,-77.1433 176.8823,-76.5644\"/>\n",
              "<polygon fill=\"#000000\" stroke=\"#000000\" points=\"176.2805,-73.1066 166.6708,-77.5679 176.9652,-80.0731 176.2805,-73.1066\"/>\n",
              "</g>\n",
              "<!-- Sick&#45;&gt;Dead from age -->\n",
              "<g id=\"edge6\" class=\"edge\">\n",
              "<title>Sick&#45;&gt;Dead from age</title>\n",
              "<path fill=\"none\" stroke=\"#000000\" d=\"M130.2526,-75.4297C119.5589,-65.9242 105.3395,-53.2847 92.9632,-42.2836\"/>\n",
              "<polygon fill=\"#000000\" stroke=\"#000000\" points=\"94.9514,-39.368 85.152,-35.3403 90.3008,-44.5999 94.9514,-39.368\"/>\n",
              "</g>\n",
              "<!-- Sick&#45;&gt;Dead from disease -->\n",
              "<g id=\"edge7\" class=\"edge\">\n",
              "<title>Sick&#45;&gt;Dead from disease</title>\n",
              "<path fill=\"none\" stroke=\"#000000\" d=\"M163.2381,-75.4297C174.0894,-65.9017 188.5269,-53.2249 201.0767,-42.2056\"/>\n",
              "<polygon fill=\"#000000\" stroke=\"#000000\" points=\"203.3927,-44.8298 208.5978,-35.6017 198.7741,-39.5697 203.3927,-44.8298\"/>\n",
              "</g>\n",
              "</g>\n",
              "</svg>\n"
            ],
            "text/plain": [
              "<graphviz.dot.Digraph at 0x7fadb0edecf8>"
            ]
          },
          "execution_count": 41,
          "metadata": {
            "tags": []
          },
          "output_type": "execute_result"
        }
      ],
      "source": [
        "states=['Healthy', 'Sick', 'Dead from age','Dead from disease']\n",
        "make_graph(states)\n"
      ]
    },
    {
      "cell_type": "markdown",
      "metadata": {
        "id": "TH3UbDGbqafd"
      },
      "source": [
        "\n",
        "In standard Markov models the transition probabilities cannot depend on time, but in Python it is quite easy to introduce time dependence. We introduce a new state 'Dead from age' we make the probability of dying from age increase every time unit. For instance, assume the people we model are often about 40 years old, and that the unit of time is one year. We could introduce a formula or a table that makes the probability of death dependent on time."
      ]
    },
    {
      "cell_type": "code",
      "execution_count": null,
      "metadata": {
        "id": "HfniGBXRpr7y"
      },
      "outputs": [],
      "source": [
        "#  the probability of death should be 0.1 every time period until time period 5, when it becomes 0.2, In timee period 10 it increases to 0.3 and so on\n",
        "p_dead_from_age = {0:0.1, 5:0.2, 10: 0.3, 15:0.4, 20:0.4, 25:0.5}\n",
        "           "
      ]
    },
    {
      "cell_type": "markdown",
      "metadata": {
        "id": "L7crMeoT8BM0"
      },
      "source": [
        "But how can this be included in the model itself? Remember the transition matrix only has constant numbers, but now we want one of these numbers - the probablilyty of dying from age - to increase each time step, and the increase should be based on the information we provided in a table."
      ]
    },
    {
      "cell_type": "code",
      "execution_count": null,
      "metadata": {
        "id": "k_FSll7qc80Q"
      },
      "outputs": [],
      "source": [
        "transition_matrix = np.array([\n",
        "       [0.8, 0.1, 0.1, 0.1],\n",
        "       [0.2, 0.6, 0.2, 0.1],\n",
        "       [0. , 0. , 1., 0. ],\n",
        "       [0. , 0. , 0., 1. ]])\n"
      ]
    },
    {
      "cell_type": "code",
      "execution_count": null,
      "metadata": {
        "id": "8dY85-99c-Qs"
      },
      "outputs": [],
      "source": [
        "cost = np.array([0,1000,0,0])\n",
        "utility = np.array([0.9, .5, 0, 0])\n",
        "initial_population=np.array([1,0,0,0])"
      ]
    },
    {
      "cell_type": "code",
      "execution_count": null,
      "metadata": {
        "colab": {
          "base_uri": "https://localhost:8080/",
          "height": 798
        },
        "id": "fdq6AVZxf_fT",
        "outputId": "d49e88e2-e8f3-45af-89f0-7c448aa0fe30"
      },
      "outputs": [
        {
          "data": {
            "text/html": [
              "<div>\n",
              "<style scoped>\n",
              "    .dataframe tbody tr th:only-of-type {\n",
              "        vertical-align: middle;\n",
              "    }\n",
              "\n",
              "    .dataframe tbody tr th {\n",
              "        vertical-align: top;\n",
              "    }\n",
              "\n",
              "    .dataframe thead th {\n",
              "        text-align: right;\n",
              "    }\n",
              "</style>\n",
              "<table border=\"1\" class=\"dataframe\">\n",
              "  <thead>\n",
              "    <tr style=\"text-align: right;\">\n",
              "      <th></th>\n",
              "      <th>0</th>\n",
              "    </tr>\n",
              "  </thead>\n",
              "  <tbody>\n",
              "    <tr>\n",
              "      <th>0</th>\n",
              "      <td>0.1</td>\n",
              "    </tr>\n",
              "    <tr>\n",
              "      <th>1</th>\n",
              "      <td>0.1</td>\n",
              "    </tr>\n",
              "    <tr>\n",
              "      <th>2</th>\n",
              "      <td>0.1</td>\n",
              "    </tr>\n",
              "    <tr>\n",
              "      <th>3</th>\n",
              "      <td>0.1</td>\n",
              "    </tr>\n",
              "    <tr>\n",
              "      <th>4</th>\n",
              "      <td>0.1</td>\n",
              "    </tr>\n",
              "    <tr>\n",
              "      <th>5</th>\n",
              "      <td>0.2</td>\n",
              "    </tr>\n",
              "    <tr>\n",
              "      <th>6</th>\n",
              "      <td>0.2</td>\n",
              "    </tr>\n",
              "    <tr>\n",
              "      <th>7</th>\n",
              "      <td>0.2</td>\n",
              "    </tr>\n",
              "    <tr>\n",
              "      <th>8</th>\n",
              "      <td>0.2</td>\n",
              "    </tr>\n",
              "    <tr>\n",
              "      <th>9</th>\n",
              "      <td>0.2</td>\n",
              "    </tr>\n",
              "    <tr>\n",
              "      <th>10</th>\n",
              "      <td>0.3</td>\n",
              "    </tr>\n",
              "    <tr>\n",
              "      <th>11</th>\n",
              "      <td>0.3</td>\n",
              "    </tr>\n",
              "    <tr>\n",
              "      <th>12</th>\n",
              "      <td>0.3</td>\n",
              "    </tr>\n",
              "    <tr>\n",
              "      <th>13</th>\n",
              "      <td>0.3</td>\n",
              "    </tr>\n",
              "    <tr>\n",
              "      <th>14</th>\n",
              "      <td>0.3</td>\n",
              "    </tr>\n",
              "    <tr>\n",
              "      <th>15</th>\n",
              "      <td>0.4</td>\n",
              "    </tr>\n",
              "    <tr>\n",
              "      <th>16</th>\n",
              "      <td>0.4</td>\n",
              "    </tr>\n",
              "    <tr>\n",
              "      <th>17</th>\n",
              "      <td>0.4</td>\n",
              "    </tr>\n",
              "    <tr>\n",
              "      <th>18</th>\n",
              "      <td>0.4</td>\n",
              "    </tr>\n",
              "    <tr>\n",
              "      <th>19</th>\n",
              "      <td>0.4</td>\n",
              "    </tr>\n",
              "    <tr>\n",
              "      <th>20</th>\n",
              "      <td>0.4</td>\n",
              "    </tr>\n",
              "    <tr>\n",
              "      <th>21</th>\n",
              "      <td>0.4</td>\n",
              "    </tr>\n",
              "    <tr>\n",
              "      <th>22</th>\n",
              "      <td>0.4</td>\n",
              "    </tr>\n",
              "    <tr>\n",
              "      <th>23</th>\n",
              "      <td>0.4</td>\n",
              "    </tr>\n",
              "    <tr>\n",
              "      <th>24</th>\n",
              "      <td>0.4</td>\n",
              "    </tr>\n",
              "  </tbody>\n",
              "</table>\n",
              "</div>"
            ],
            "text/plain": [
              "      0\n",
              "0   0.1\n",
              "1   0.1\n",
              "2   0.1\n",
              "3   0.1\n",
              "4   0.1\n",
              "5   0.2\n",
              "6   0.2\n",
              "7   0.2\n",
              "8   0.2\n",
              "9   0.2\n",
              "10  0.3\n",
              "11  0.3\n",
              "12  0.3\n",
              "13  0.3\n",
              "14  0.3\n",
              "15  0.4\n",
              "16  0.4\n",
              "17  0.4\n",
              "18  0.4\n",
              "19  0.4\n",
              "20  0.4\n",
              "21  0.4\n",
              "22  0.4\n",
              "23  0.4\n",
              "24  0.4"
            ]
          },
          "execution_count": 71,
          "metadata": {
            "tags": []
          },
          "output_type": "execute_result"
        }
      ],
      "source": [
        "m = pd.DataFrame.from_dict(p_dead_from_age, orient='index')\n",
        "m=  m.reindex(range(m.index.max())).fillna(method='ffill')\n",
        "m"
      ]
    },
    {
      "cell_type": "code",
      "execution_count": null,
      "metadata": {
        "id": "xNJ76EUoi4pO"
      },
      "outputs": [],
      "source": [
        "p_dead_from_age=m.to_dict()[0]"
      ]
    },
    {
      "cell_type": "code",
      "execution_count": null,
      "metadata": {
        "colab": {
          "base_uri": "https://localhost:8080/",
          "height": 472
        },
        "id": "V0KIg-17jFO5",
        "outputId": "25800248-e75f-42fa-ea20-b5e5a098ab11"
      },
      "outputs": [
        {
          "data": {
            "text/plain": [
              "{0: 0.1,\n",
              " 1: 0.1,\n",
              " 2: 0.1,\n",
              " 3: 0.1,\n",
              " 4: 0.1,\n",
              " 5: 0.2,\n",
              " 6: 0.2,\n",
              " 7: 0.2,\n",
              " 8: 0.2,\n",
              " 9: 0.2,\n",
              " 10: 0.3,\n",
              " 11: 0.3,\n",
              " 12: 0.3,\n",
              " 13: 0.3,\n",
              " 14: 0.3,\n",
              " 15: 0.4,\n",
              " 16: 0.4,\n",
              " 17: 0.4,\n",
              " 18: 0.4,\n",
              " 19: 0.4,\n",
              " 20: 0.4,\n",
              " 21: 0.4,\n",
              " 22: 0.4,\n",
              " 23: 0.4,\n",
              " 24: 0.4}"
            ]
          },
          "execution_count": 87,
          "metadata": {
            "tags": []
          },
          "output_type": "execute_result"
        }
      ],
      "source": [
        "p_dead_from_age"
      ]
    },
    {
      "cell_type": "code",
      "execution_count": null,
      "metadata": {
        "id": "pxRGCMOZbDsA"
      },
      "outputs": [],
      "source": [
        "def descriptives(initial, probabilities, utility, cost, steps, p_dead_from_age=None):\n",
        "  population = population_development(initial=initial, probabilities=probabilities, steps=steps, p_dead_from_age=p_dead_from_age)\n",
        "  n_population = initial.sum()\n",
        "\n",
        "  tot_cost = (population @ cost).sum()\n",
        "  avg_cost = tot_cost/n_population\n",
        "\n",
        "  tot_utility = (population @ utility).sum()\n",
        "  avg_utility = tot_utility/n_population\n",
        "  \n",
        "  return avg_cost, avg_utility"
      ]
    },
    {
      "cell_type": "code",
      "execution_count": null,
      "metadata": {
        "id": "36w1sLPibDia"
      },
      "outputs": [],
      "source": [
        "def population_development(initial, probabilities, steps,  p_dead_from_age=None):\n",
        "  current_population = initial\n",
        "  population_history = np.empty(shape=(steps+1,len(initial)))\n",
        "  population_history[0] = initial\n",
        "\n",
        "  for step in range(steps):\n",
        "    probabilities[0,3]=p_dead_from_age[step]\n",
        "    probabilities[1,3]=p_dead_from_age[step]\n",
        "    \n",
        "    new_population = current_population @ probabilities\n",
        "    population_history[step+1] = new_population\n",
        "    current_population=new_population\n",
        "  return population_history\n"
      ]
    },
    {
      "cell_type": "code",
      "execution_count": null,
      "metadata": {
        "colab": {
          "base_uri": "https://localhost:8080/",
          "height": 54
        },
        "id": "2uNOy_7cjkXC",
        "outputId": "d975114c-fb5e-4768-ae1d-62ae656e971a"
      },
      "outputs": [
        {
          "name": "stdout",
          "output_type": "stream",
          "text": [
            "The slowest run took 9.23 times longer than the fastest. This could mean that an intermediate result is being cached.\n",
            "10000 loops, best of 3: 55.2 µs per loop\n"
          ]
        }
      ],
      "source": [
        "%%timeit\n",
        "descriptives(initial=initial_population, \n",
        "             probabilities = transition_matrix,\n",
        "             utility=utility,\n",
        "             cost=cost,\n",
        "             p_dead_from_age=p_dead_from_age, \n",
        "             steps=20)"
      ]
    },
    {
      "cell_type": "markdown",
      "metadata": {
        "id": "w60av0W0jkZT"
      },
      "source": [
        "## Challenge 2: age and dependent death rates from being sick\n"
      ]
    },
    {
      "cell_type": "code",
      "execution_count": null,
      "metadata": {
        "id": "EAcaSyn2kUby"
      },
      "outputs": [],
      "source": []
    },
    {
      "cell_type": "code",
      "execution_count": null,
      "metadata": {
        "id": "uzacKv-hjkgx"
      },
      "outputs": [],
      "source": []
    },
    {
      "cell_type": "code",
      "execution_count": null,
      "metadata": {
        "id": "Iws-U4K1pjHl"
      },
      "outputs": [],
      "source": [
        "transition_matrix = np.array([[0.8, 0.1, 0.1, 'table:general_mortality(time)'], [0.2, 0.6, 0.2, 'table:general_mortality(time)'], [0. , 0. , 1. , 'table:general_mortality(time)']])"
      ]
    },
    {
      "cell_type": "code",
      "execution_count": null,
      "metadata": {
        "colab": {
          "base_uri": "https://localhost:8080/",
          "height": 90
        },
        "id": "V7PqheizaNdh",
        "outputId": "08d313ea-7d46-4763-ef76-65bd22e9abe3"
      },
      "outputs": [
        {
          "data": {
            "text/plain": [
              "array([['0.8', '0.1', '0.1', 'table:general_mortality(time)'],\n",
              "       ['0.2', '0.6', '0.2', 'table:general_mortality(time)'],\n",
              "       ['0.0', '0.0', '1.0', 'table:general_mortality(time)']],\n",
              "      dtype='<U32')"
            ]
          },
          "execution_count": 96,
          "metadata": {
            "tags": []
          },
          "output_type": "execute_result"
        }
      ],
      "source": [
        "transition_matrix"
      ]
    },
    {
      "cell_type": "code",
      "execution_count": null,
      "metadata": {
        "id": "XWS7yBv4aNfu"
      },
      "outputs": [],
      "source": [
        "def text2num_matrix(matrix):\n",
        "  for line in matrix:\n",
        "    for element in line:\n",
        "      in element.startswith('table:')\n",
        "      \n"
      ]
    },
    {
      "cell_type": "code",
      "execution_count": null,
      "metadata": {
        "id": "-3ED-yKXaNh6"
      },
      "outputs": [],
      "source": []
    },
    {
      "cell_type": "code",
      "execution_count": null,
      "metadata": {
        "id": "kLuFGYNqoSpF"
      },
      "outputs": [],
      "source": []
    },
    {
      "cell_type": "code",
      "execution_count": null,
      "metadata": {
        "id": "yWWRnCrAoSrh"
      },
      "outputs": [],
      "source": []
    },
    {
      "cell_type": "code",
      "execution_count": null,
      "metadata": {
        "id": "dtEnSYPuoSt5"
      },
      "outputs": [],
      "source": []
    },
    {
      "cell_type": "code",
      "execution_count": null,
      "metadata": {
        "id": "t4m7bgZloSvt"
      },
      "outputs": [],
      "source": []
    },
    {
      "cell_type": "code",
      "execution_count": null,
      "metadata": {
        "id": "9JfOVqQ2oSx6"
      },
      "outputs": [],
      "source": []
    },
    {
      "cell_type": "code",
      "execution_count": null,
      "metadata": {
        "id": "CoTdTUT0oS0D"
      },
      "outputs": [],
      "source": []
    },
    {
      "cell_type": "code",
      "execution_count": null,
      "metadata": {
        "id": "ZAsws-ziaNkZ"
      },
      "outputs": [],
      "source": []
    }
  ],
  "metadata": {
    "colab": {
      "authorship_tag": "ABX9TyOPB5IktWHqlDDNfKXKJB9p",
      "collapsed_sections": [],
      "include_colab_link": true,
      "name": "HTA Markov.ipynb",
      "provenance": []
    },
    "kernelspec": {
      "display_name": "Python 3",
      "name": "python3"
    },
    "language_info": {
      "codemirror_mode": {
        "name": "ipython",
        "version": 3
      },
      "file_extension": ".py",
      "mimetype": "text/x-python",
      "name": "python",
      "nbconvert_exporter": "python",
      "pygments_lexer": "ipython3",
      "version": "3.10.13"
    }
  },
  "nbformat": 4,
  "nbformat_minor": 0
}
