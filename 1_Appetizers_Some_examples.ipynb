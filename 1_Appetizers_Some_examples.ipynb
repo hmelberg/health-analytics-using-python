{
  "cells": [
    {
      "cell_type": "markdown",
      "metadata": {
        "colab_type": "text",
        "id": "view-in-github"
      },
      "source": [
        "<a href=\"https://colab.research.google.com/github/hmelberg/health-analytics-using-python/blob/dev/1_Appetizers_Some_examples.ipynb\" target=\"_parent\"><img src=\"https://colab.research.google.com/assets/colab-badge.svg\" alt=\"Open In Colab\"/></a>"
      ]
    },
    {
      "cell_type": "markdown",
      "metadata": {
        "colab_type": "text",
        "id": "vosA89WEixQc"
      },
      "source": [
        "# Health Analytics in Python using Pandas\n",
        "\n"
      ]
    },
    {
      "cell_type": "markdown",
      "metadata": {
        "colab_type": "text",
        "id": "kr_-77hreASx"
      },
      "source": [
        "Hans Olav Melberg, Nashville, November, 2019\n",
        "\n",
        "\n",
        "---\n",
        "\n",
        "\n",
        "\n",
        "---\n",
        "\n",
        "\n"
      ]
    },
    {
      "cell_type": "markdown",
      "metadata": {
        "colab_type": "text",
        "id": "2GUKCMPsixU0"
      },
      "source": [
        "## Why?\n",
        "\n",
        "Python and Pandas provide tools that make it easy to do complicated analysis on data that is often messy in a way that is both fast, readable, and reproducible. It is also free, it comes with a large and friendly user community, and it has an extensive collection of libraries that we can use for everything from visualizations to machine learning. \n",
        "\n",
        "All this is true, but the real proof of the pudding is not cheap talk. Let's instead jump right into some examples that demonstrate the power of Python and its tools. These examples are meant as appetizers, and although I show the code, I will not explain all the details. The point is more to demonstrate that it is possible, using very little code, to quickly analyse health data using Python. The details of the code will be explained in later chapters.\n",
        "\n",
        "By the way, if you are reading this using a notebook (click on the colab link on top of this notebook), you can run and modify the code by typing CTRL+ENTER when you are in a cell.\n"
      ]
    },
    {
      "cell_type": "markdown",
      "metadata": {
        "colab_type": "text",
        "id": "ZbLLRYi3mgYy"
      },
      "source": [
        "### Get necessary libraries and data - and a warning!\n",
        "\n",
        "For the examples below, we will use a sample of synthetic data based on inpatient hospital stays from Medicare in the US. The data is derived from real data, but modified and the results below are meant to illustrate the methods and should not be interpreted as representing real or substantive conclusions."
      ]
    },
    {
      "cell_type": "code",
      "execution_count": null,
      "metadata": {
        "colab": {},
        "colab_type": "code",
        "id": "5ntpfR-cycAM"
      },
      "outputs": [],
      "source": [
        "# Use pandas\n",
        "import pandas as pd"
      ]
    },
    {
      "cell_type": "code",
      "execution_count": null,
      "metadata": {
        "colab": {},
        "colab_type": "code",
        "id": "q_jPK3K_0Vzu"
      },
      "outputs": [],
      "source": [
        "# Read synthetic medicare sample data on inpatient hospital stays\n",
        "path = 'https://www.cms.gov/Research-Statistics-Data-and-Systems/Downloadable-Public-Use-Files/SynPUFs/Downloads/'\n",
        "inpatient_file = 'DE1_0_2008_to_2010_Inpatient_Claims_Sample_1.zip'\n",
        "\n",
        "df = pd.read_csv(path+inpatient_file)\n"
      ]
    },
    {
      "cell_type": "markdown",
      "metadata": {
        "colab_type": "text",
        "id": "MivJozjHxN2S"
      },
      "source": [
        "We import the pandas library, and use functions from this library by typing *pd.* and the name of the function we want to use. A useful hint is that it is often possible to press TAB after typing a dot and you will see a list of available functions or methods. For instance typing `pd.rea` and then TAB will give you many options, including `read_csv`, `read_excel`, and - one of the hidden gems - `read_clipboard()` which will try to read whatever you just copied to the clipboard into a dataframe.\n",
        "\n",
        "Note, by the way, that Pandas easily reads files from the internet, including zipped csv files. There is also a `read_table` function which can be used to read tables you find on a web page, for instance Wikipedia tables.\n",
        "\n",
        "We can give the object we read whatever names we want. Giving objects short, but informative names is always a challenge. We will start by simply naming our data *df* which is short for *dataframe*, but when we get more objects we have to become more imaginative and avoid using the - unfortunately not yet criminalized - practice of naming objects df1, df2, df3. Please do not do this! Suddenly you have twenty objects and you will be confused if they do not have meaningful names."
      ]
    },
    {
      "cell_type": "markdown",
      "metadata": {
        "colab_type": "text",
        "id": "ynyUNdjWm0mQ"
      },
      "source": [
        "## First look"
      ]
    },
    {
      "cell_type": "code",
      "execution_count": null,
      "metadata": {
        "colab": {
          "base_uri": "https://localhost:8080/",
          "height": 255
        },
        "colab_type": "code",
        "id": "94QOpsRDpt2g",
        "outputId": "1cdb9098-adc8-4130-e50b-5c117b90395b"
      },
      "outputs": [
        {
          "data": {
            "text/html": [
              "<div>\n",
              "<style scoped>\n",
              "    .dataframe tbody tr th:only-of-type {\n",
              "        vertical-align: middle;\n",
              "    }\n",
              "\n",
              "    .dataframe tbody tr th {\n",
              "        vertical-align: top;\n",
              "    }\n",
              "\n",
              "    .dataframe thead th {\n",
              "        text-align: right;\n",
              "    }\n",
              "</style>\n",
              "<table border=\"1\" class=\"dataframe\">\n",
              "  <thead>\n",
              "    <tr style=\"text-align: right;\">\n",
              "      <th></th>\n",
              "      <th>DESYNPUF_ID</th>\n",
              "      <th>CLM_ID</th>\n",
              "      <th>SEGMENT</th>\n",
              "      <th>CLM_FROM_DT</th>\n",
              "      <th>CLM_THRU_DT</th>\n",
              "      <th>PRVDR_NUM</th>\n",
              "      <th>CLM_PMT_AMT</th>\n",
              "      <th>NCH_PRMRY_PYR_CLM_PD_AMT</th>\n",
              "      <th>AT_PHYSN_NPI</th>\n",
              "      <th>OP_PHYSN_NPI</th>\n",
              "      <th>OT_PHYSN_NPI</th>\n",
              "      <th>CLM_ADMSN_DT</th>\n",
              "      <th>ADMTNG_ICD9_DGNS_CD</th>\n",
              "      <th>CLM_PASS_THRU_PER_DIEM_AMT</th>\n",
              "      <th>NCH_BENE_IP_DDCTBL_AMT</th>\n",
              "      <th>NCH_BENE_PTA_COINSRNC_LBLTY_AM</th>\n",
              "      <th>NCH_BENE_BLOOD_DDCTBL_LBLTY_AM</th>\n",
              "      <th>CLM_UTLZTN_DAY_CNT</th>\n",
              "      <th>NCH_BENE_DSCHRG_DT</th>\n",
              "      <th>CLM_DRG_CD</th>\n",
              "      <th>ICD9_DGNS_CD_1</th>\n",
              "      <th>ICD9_DGNS_CD_2</th>\n",
              "      <th>ICD9_DGNS_CD_3</th>\n",
              "      <th>ICD9_DGNS_CD_4</th>\n",
              "      <th>ICD9_DGNS_CD_5</th>\n",
              "      <th>ICD9_DGNS_CD_6</th>\n",
              "      <th>ICD9_DGNS_CD_7</th>\n",
              "      <th>ICD9_DGNS_CD_8</th>\n",
              "      <th>ICD9_DGNS_CD_9</th>\n",
              "      <th>ICD9_DGNS_CD_10</th>\n",
              "      <th>ICD9_PRCDR_CD_1</th>\n",
              "      <th>ICD9_PRCDR_CD_2</th>\n",
              "      <th>ICD9_PRCDR_CD_3</th>\n",
              "      <th>ICD9_PRCDR_CD_4</th>\n",
              "      <th>ICD9_PRCDR_CD_5</th>\n",
              "      <th>ICD9_PRCDR_CD_6</th>\n",
              "      <th>HCPCS_CD_1</th>\n",
              "      <th>HCPCS_CD_2</th>\n",
              "      <th>HCPCS_CD_3</th>\n",
              "      <th>HCPCS_CD_4</th>\n",
              "      <th>...</th>\n",
              "      <th>HCPCS_CD_6</th>\n",
              "      <th>HCPCS_CD_7</th>\n",
              "      <th>HCPCS_CD_8</th>\n",
              "      <th>HCPCS_CD_9</th>\n",
              "      <th>HCPCS_CD_10</th>\n",
              "      <th>HCPCS_CD_11</th>\n",
              "      <th>HCPCS_CD_12</th>\n",
              "      <th>HCPCS_CD_13</th>\n",
              "      <th>HCPCS_CD_14</th>\n",
              "      <th>HCPCS_CD_15</th>\n",
              "      <th>HCPCS_CD_16</th>\n",
              "      <th>HCPCS_CD_17</th>\n",
              "      <th>HCPCS_CD_18</th>\n",
              "      <th>HCPCS_CD_19</th>\n",
              "      <th>HCPCS_CD_20</th>\n",
              "      <th>HCPCS_CD_21</th>\n",
              "      <th>HCPCS_CD_22</th>\n",
              "      <th>HCPCS_CD_23</th>\n",
              "      <th>HCPCS_CD_24</th>\n",
              "      <th>HCPCS_CD_25</th>\n",
              "      <th>HCPCS_CD_26</th>\n",
              "      <th>HCPCS_CD_27</th>\n",
              "      <th>HCPCS_CD_28</th>\n",
              "      <th>HCPCS_CD_29</th>\n",
              "      <th>HCPCS_CD_30</th>\n",
              "      <th>HCPCS_CD_31</th>\n",
              "      <th>HCPCS_CD_32</th>\n",
              "      <th>HCPCS_CD_33</th>\n",
              "      <th>HCPCS_CD_34</th>\n",
              "      <th>HCPCS_CD_35</th>\n",
              "      <th>HCPCS_CD_36</th>\n",
              "      <th>HCPCS_CD_37</th>\n",
              "      <th>HCPCS_CD_38</th>\n",
              "      <th>HCPCS_CD_39</th>\n",
              "      <th>HCPCS_CD_40</th>\n",
              "      <th>HCPCS_CD_41</th>\n",
              "      <th>HCPCS_CD_42</th>\n",
              "      <th>HCPCS_CD_43</th>\n",
              "      <th>HCPCS_CD_44</th>\n",
              "      <th>HCPCS_CD_45</th>\n",
              "    </tr>\n",
              "  </thead>\n",
              "  <tbody>\n",
              "    <tr>\n",
              "      <th>0</th>\n",
              "      <td>00013D2EFD8E45D1</td>\n",
              "      <td>196661176988405</td>\n",
              "      <td>1</td>\n",
              "      <td>20100312.0</td>\n",
              "      <td>20100313.0</td>\n",
              "      <td>2600GD</td>\n",
              "      <td>4000.0</td>\n",
              "      <td>0.0</td>\n",
              "      <td>3.139084e+09</td>\n",
              "      <td>NaN</td>\n",
              "      <td>NaN</td>\n",
              "      <td>20100312</td>\n",
              "      <td>4580</td>\n",
              "      <td>0.0</td>\n",
              "      <td>1100.0</td>\n",
              "      <td>0.0</td>\n",
              "      <td>0.0</td>\n",
              "      <td>1.0</td>\n",
              "      <td>20100313</td>\n",
              "      <td>217</td>\n",
              "      <td>7802</td>\n",
              "      <td>78820</td>\n",
              "      <td>V4501</td>\n",
              "      <td>4280</td>\n",
              "      <td>2720</td>\n",
              "      <td>4019</td>\n",
              "      <td>V4502</td>\n",
              "      <td>73300</td>\n",
              "      <td>E9330</td>\n",
              "      <td>NaN</td>\n",
              "      <td>NaN</td>\n",
              "      <td>NaN</td>\n",
              "      <td>NaN</td>\n",
              "      <td>NaN</td>\n",
              "      <td>NaN</td>\n",
              "      <td>NaN</td>\n",
              "      <td>NaN</td>\n",
              "      <td>NaN</td>\n",
              "      <td>NaN</td>\n",
              "      <td>NaN</td>\n",
              "      <td>...</td>\n",
              "      <td>NaN</td>\n",
              "      <td>NaN</td>\n",
              "      <td>NaN</td>\n",
              "      <td>NaN</td>\n",
              "      <td>NaN</td>\n",
              "      <td>NaN</td>\n",
              "      <td>NaN</td>\n",
              "      <td>NaN</td>\n",
              "      <td>NaN</td>\n",
              "      <td>NaN</td>\n",
              "      <td>NaN</td>\n",
              "      <td>NaN</td>\n",
              "      <td>NaN</td>\n",
              "      <td>NaN</td>\n",
              "      <td>NaN</td>\n",
              "      <td>NaN</td>\n",
              "      <td>NaN</td>\n",
              "      <td>NaN</td>\n",
              "      <td>NaN</td>\n",
              "      <td>NaN</td>\n",
              "      <td>NaN</td>\n",
              "      <td>NaN</td>\n",
              "      <td>NaN</td>\n",
              "      <td>NaN</td>\n",
              "      <td>NaN</td>\n",
              "      <td>NaN</td>\n",
              "      <td>NaN</td>\n",
              "      <td>NaN</td>\n",
              "      <td>NaN</td>\n",
              "      <td>NaN</td>\n",
              "      <td>NaN</td>\n",
              "      <td>NaN</td>\n",
              "      <td>NaN</td>\n",
              "      <td>NaN</td>\n",
              "      <td>NaN</td>\n",
              "      <td>NaN</td>\n",
              "      <td>NaN</td>\n",
              "      <td>NaN</td>\n",
              "      <td>NaN</td>\n",
              "      <td>NaN</td>\n",
              "    </tr>\n",
              "    <tr>\n",
              "      <th>1</th>\n",
              "      <td>00016F745862898F</td>\n",
              "      <td>196201177000368</td>\n",
              "      <td>1</td>\n",
              "      <td>20090412.0</td>\n",
              "      <td>20090418.0</td>\n",
              "      <td>3900MB</td>\n",
              "      <td>26000.0</td>\n",
              "      <td>0.0</td>\n",
              "      <td>6.476809e+09</td>\n",
              "      <td>NaN</td>\n",
              "      <td>NaN</td>\n",
              "      <td>20090412</td>\n",
              "      <td>7866</td>\n",
              "      <td>0.0</td>\n",
              "      <td>1068.0</td>\n",
              "      <td>0.0</td>\n",
              "      <td>0.0</td>\n",
              "      <td>6.0</td>\n",
              "      <td>20090418</td>\n",
              "      <td>201</td>\n",
              "      <td>1970</td>\n",
              "      <td>4019</td>\n",
              "      <td>5853</td>\n",
              "      <td>7843</td>\n",
              "      <td>2768</td>\n",
              "      <td>71590</td>\n",
              "      <td>2724</td>\n",
              "      <td>19889</td>\n",
              "      <td>5849</td>\n",
              "      <td>NaN</td>\n",
              "      <td>NaN</td>\n",
              "      <td>NaN</td>\n",
              "      <td>NaN</td>\n",
              "      <td>NaN</td>\n",
              "      <td>NaN</td>\n",
              "      <td>NaN</td>\n",
              "      <td>NaN</td>\n",
              "      <td>NaN</td>\n",
              "      <td>NaN</td>\n",
              "      <td>NaN</td>\n",
              "      <td>...</td>\n",
              "      <td>NaN</td>\n",
              "      <td>NaN</td>\n",
              "      <td>NaN</td>\n",
              "      <td>NaN</td>\n",
              "      <td>NaN</td>\n",
              "      <td>NaN</td>\n",
              "      <td>NaN</td>\n",
              "      <td>NaN</td>\n",
              "      <td>NaN</td>\n",
              "      <td>NaN</td>\n",
              "      <td>NaN</td>\n",
              "      <td>NaN</td>\n",
              "      <td>NaN</td>\n",
              "      <td>NaN</td>\n",
              "      <td>NaN</td>\n",
              "      <td>NaN</td>\n",
              "      <td>NaN</td>\n",
              "      <td>NaN</td>\n",
              "      <td>NaN</td>\n",
              "      <td>NaN</td>\n",
              "      <td>NaN</td>\n",
              "      <td>NaN</td>\n",
              "      <td>NaN</td>\n",
              "      <td>NaN</td>\n",
              "      <td>NaN</td>\n",
              "      <td>NaN</td>\n",
              "      <td>NaN</td>\n",
              "      <td>NaN</td>\n",
              "      <td>NaN</td>\n",
              "      <td>NaN</td>\n",
              "      <td>NaN</td>\n",
              "      <td>NaN</td>\n",
              "      <td>NaN</td>\n",
              "      <td>NaN</td>\n",
              "      <td>NaN</td>\n",
              "      <td>NaN</td>\n",
              "      <td>NaN</td>\n",
              "      <td>NaN</td>\n",
              "      <td>NaN</td>\n",
              "      <td>NaN</td>\n",
              "    </tr>\n",
              "    <tr>\n",
              "      <th>2</th>\n",
              "      <td>00016F745862898F</td>\n",
              "      <td>196661177015632</td>\n",
              "      <td>1</td>\n",
              "      <td>20090831.0</td>\n",
              "      <td>20090902.0</td>\n",
              "      <td>3900HM</td>\n",
              "      <td>5000.0</td>\n",
              "      <td>0.0</td>\n",
              "      <td>6.119985e+08</td>\n",
              "      <td>6.119985e+08</td>\n",
              "      <td>NaN</td>\n",
              "      <td>20090831</td>\n",
              "      <td>6186</td>\n",
              "      <td>0.0</td>\n",
              "      <td>1068.0</td>\n",
              "      <td>0.0</td>\n",
              "      <td>0.0</td>\n",
              "      <td>2.0</td>\n",
              "      <td>20090902</td>\n",
              "      <td>750</td>\n",
              "      <td>6186</td>\n",
              "      <td>2948</td>\n",
              "      <td>56400</td>\n",
              "      <td>NaN</td>\n",
              "      <td>NaN</td>\n",
              "      <td>NaN</td>\n",
              "      <td>NaN</td>\n",
              "      <td>NaN</td>\n",
              "      <td>NaN</td>\n",
              "      <td>NaN</td>\n",
              "      <td>7092.0</td>\n",
              "      <td>6186</td>\n",
              "      <td>V5866</td>\n",
              "      <td>NaN</td>\n",
              "      <td>NaN</td>\n",
              "      <td>NaN</td>\n",
              "      <td>NaN</td>\n",
              "      <td>NaN</td>\n",
              "      <td>NaN</td>\n",
              "      <td>NaN</td>\n",
              "      <td>...</td>\n",
              "      <td>NaN</td>\n",
              "      <td>NaN</td>\n",
              "      <td>NaN</td>\n",
              "      <td>NaN</td>\n",
              "      <td>NaN</td>\n",
              "      <td>NaN</td>\n",
              "      <td>NaN</td>\n",
              "      <td>NaN</td>\n",
              "      <td>NaN</td>\n",
              "      <td>NaN</td>\n",
              "      <td>NaN</td>\n",
              "      <td>NaN</td>\n",
              "      <td>NaN</td>\n",
              "      <td>NaN</td>\n",
              "      <td>NaN</td>\n",
              "      <td>NaN</td>\n",
              "      <td>NaN</td>\n",
              "      <td>NaN</td>\n",
              "      <td>NaN</td>\n",
              "      <td>NaN</td>\n",
              "      <td>NaN</td>\n",
              "      <td>NaN</td>\n",
              "      <td>NaN</td>\n",
              "      <td>NaN</td>\n",
              "      <td>NaN</td>\n",
              "      <td>NaN</td>\n",
              "      <td>NaN</td>\n",
              "      <td>NaN</td>\n",
              "      <td>NaN</td>\n",
              "      <td>NaN</td>\n",
              "      <td>NaN</td>\n",
              "      <td>NaN</td>\n",
              "      <td>NaN</td>\n",
              "      <td>NaN</td>\n",
              "      <td>NaN</td>\n",
              "      <td>NaN</td>\n",
              "      <td>NaN</td>\n",
              "      <td>NaN</td>\n",
              "      <td>NaN</td>\n",
              "      <td>NaN</td>\n",
              "    </tr>\n",
              "    <tr>\n",
              "      <th>3</th>\n",
              "      <td>00016F745862898F</td>\n",
              "      <td>196091176981058</td>\n",
              "      <td>1</td>\n",
              "      <td>20090917.0</td>\n",
              "      <td>20090920.0</td>\n",
              "      <td>3913XU</td>\n",
              "      <td>5000.0</td>\n",
              "      <td>0.0</td>\n",
              "      <td>4.971603e+09</td>\n",
              "      <td>NaN</td>\n",
              "      <td>1.119000e+09</td>\n",
              "      <td>20090917</td>\n",
              "      <td>29590</td>\n",
              "      <td>0.0</td>\n",
              "      <td>1068.0</td>\n",
              "      <td>0.0</td>\n",
              "      <td>0.0</td>\n",
              "      <td>3.0</td>\n",
              "      <td>20090920</td>\n",
              "      <td>883</td>\n",
              "      <td>29623</td>\n",
              "      <td>30390</td>\n",
              "      <td>71690</td>\n",
              "      <td>34590</td>\n",
              "      <td>V1581</td>\n",
              "      <td>32723</td>\n",
              "      <td>NaN</td>\n",
              "      <td>NaN</td>\n",
              "      <td>NaN</td>\n",
              "      <td>NaN</td>\n",
              "      <td>NaN</td>\n",
              "      <td>NaN</td>\n",
              "      <td>NaN</td>\n",
              "      <td>NaN</td>\n",
              "      <td>NaN</td>\n",
              "      <td>NaN</td>\n",
              "      <td>NaN</td>\n",
              "      <td>NaN</td>\n",
              "      <td>NaN</td>\n",
              "      <td>NaN</td>\n",
              "      <td>...</td>\n",
              "      <td>NaN</td>\n",
              "      <td>NaN</td>\n",
              "      <td>NaN</td>\n",
              "      <td>NaN</td>\n",
              "      <td>NaN</td>\n",
              "      <td>NaN</td>\n",
              "      <td>NaN</td>\n",
              "      <td>NaN</td>\n",
              "      <td>NaN</td>\n",
              "      <td>NaN</td>\n",
              "      <td>NaN</td>\n",
              "      <td>NaN</td>\n",
              "      <td>NaN</td>\n",
              "      <td>NaN</td>\n",
              "      <td>NaN</td>\n",
              "      <td>NaN</td>\n",
              "      <td>NaN</td>\n",
              "      <td>NaN</td>\n",
              "      <td>NaN</td>\n",
              "      <td>NaN</td>\n",
              "      <td>NaN</td>\n",
              "      <td>NaN</td>\n",
              "      <td>NaN</td>\n",
              "      <td>NaN</td>\n",
              "      <td>NaN</td>\n",
              "      <td>NaN</td>\n",
              "      <td>NaN</td>\n",
              "      <td>NaN</td>\n",
              "      <td>NaN</td>\n",
              "      <td>NaN</td>\n",
              "      <td>NaN</td>\n",
              "      <td>NaN</td>\n",
              "      <td>NaN</td>\n",
              "      <td>NaN</td>\n",
              "      <td>NaN</td>\n",
              "      <td>NaN</td>\n",
              "      <td>NaN</td>\n",
              "      <td>NaN</td>\n",
              "      <td>NaN</td>\n",
              "      <td>NaN</td>\n",
              "    </tr>\n",
              "    <tr>\n",
              "      <th>4</th>\n",
              "      <td>00016F745862898F</td>\n",
              "      <td>196261176983265</td>\n",
              "      <td>1</td>\n",
              "      <td>20100626.0</td>\n",
              "      <td>20100701.0</td>\n",
              "      <td>3900MB</td>\n",
              "      <td>16000.0</td>\n",
              "      <td>0.0</td>\n",
              "      <td>6.408400e+09</td>\n",
              "      <td>1.960860e+09</td>\n",
              "      <td>NaN</td>\n",
              "      <td>20100626</td>\n",
              "      <td>5849</td>\n",
              "      <td>0.0</td>\n",
              "      <td>1100.0</td>\n",
              "      <td>0.0</td>\n",
              "      <td>0.0</td>\n",
              "      <td>5.0</td>\n",
              "      <td>20100701</td>\n",
              "      <td>983</td>\n",
              "      <td>3569</td>\n",
              "      <td>4019</td>\n",
              "      <td>3542</td>\n",
              "      <td>V8801</td>\n",
              "      <td>78820</td>\n",
              "      <td>2639</td>\n",
              "      <td>7840</td>\n",
              "      <td>7856</td>\n",
              "      <td>4271</td>\n",
              "      <td>NaN</td>\n",
              "      <td>NaN</td>\n",
              "      <td>E8889</td>\n",
              "      <td>NaN</td>\n",
              "      <td>NaN</td>\n",
              "      <td>NaN</td>\n",
              "      <td>NaN</td>\n",
              "      <td>NaN</td>\n",
              "      <td>NaN</td>\n",
              "      <td>NaN</td>\n",
              "      <td>NaN</td>\n",
              "      <td>...</td>\n",
              "      <td>NaN</td>\n",
              "      <td>NaN</td>\n",
              "      <td>NaN</td>\n",
              "      <td>NaN</td>\n",
              "      <td>NaN</td>\n",
              "      <td>NaN</td>\n",
              "      <td>NaN</td>\n",
              "      <td>NaN</td>\n",
              "      <td>NaN</td>\n",
              "      <td>NaN</td>\n",
              "      <td>NaN</td>\n",
              "      <td>NaN</td>\n",
              "      <td>NaN</td>\n",
              "      <td>NaN</td>\n",
              "      <td>NaN</td>\n",
              "      <td>NaN</td>\n",
              "      <td>NaN</td>\n",
              "      <td>NaN</td>\n",
              "      <td>NaN</td>\n",
              "      <td>NaN</td>\n",
              "      <td>NaN</td>\n",
              "      <td>NaN</td>\n",
              "      <td>NaN</td>\n",
              "      <td>NaN</td>\n",
              "      <td>NaN</td>\n",
              "      <td>NaN</td>\n",
              "      <td>NaN</td>\n",
              "      <td>NaN</td>\n",
              "      <td>NaN</td>\n",
              "      <td>NaN</td>\n",
              "      <td>NaN</td>\n",
              "      <td>NaN</td>\n",
              "      <td>NaN</td>\n",
              "      <td>NaN</td>\n",
              "      <td>NaN</td>\n",
              "      <td>NaN</td>\n",
              "      <td>NaN</td>\n",
              "      <td>NaN</td>\n",
              "      <td>NaN</td>\n",
              "      <td>NaN</td>\n",
              "    </tr>\n",
              "  </tbody>\n",
              "</table>\n",
              "<p>5 rows × 81 columns</p>\n",
              "</div>"
            ],
            "text/plain": [
              "        DESYNPUF_ID           CLM_ID  ...  HCPCS_CD_44  HCPCS_CD_45\n",
              "0  00013D2EFD8E45D1  196661176988405  ...          NaN          NaN\n",
              "1  00016F745862898F  196201177000368  ...          NaN          NaN\n",
              "2  00016F745862898F  196661177015632  ...          NaN          NaN\n",
              "3  00016F745862898F  196091176981058  ...          NaN          NaN\n",
              "4  00016F745862898F  196261176983265  ...          NaN          NaN\n",
              "\n",
              "[5 rows x 81 columns]"
            ]
          },
          "execution_count": 9,
          "metadata": {
            "tags": []
          },
          "output_type": "execute_result"
        }
      ],
      "source": [
        "# First look\n",
        "df.head()"
      ]
    },
    {
      "cell_type": "code",
      "execution_count": null,
      "metadata": {
        "colab": {
          "base_uri": "https://localhost:8080/",
          "height": 416
        },
        "colab_type": "code",
        "id": "-p7pbe9o0WBt",
        "outputId": "e667e366-d089-4ad0-e5c2-cec1db24a89c"
      },
      "outputs": [
        {
          "data": {
            "text/plain": [
              "Index(['DESYNPUF_ID', 'CLM_ID', 'SEGMENT', 'CLM_FROM_DT', 'CLM_THRU_DT',\n",
              "       'PRVDR_NUM', 'CLM_PMT_AMT', 'NCH_PRMRY_PYR_CLM_PD_AMT', 'AT_PHYSN_NPI',\n",
              "       'OP_PHYSN_NPI', 'OT_PHYSN_NPI', 'CLM_ADMSN_DT', 'ADMTNG_ICD9_DGNS_CD',\n",
              "       'CLM_PASS_THRU_PER_DIEM_AMT', 'NCH_BENE_IP_DDCTBL_AMT',\n",
              "       'NCH_BENE_PTA_COINSRNC_LBLTY_AM', 'NCH_BENE_BLOOD_DDCTBL_LBLTY_AM',\n",
              "       'CLM_UTLZTN_DAY_CNT', 'NCH_BENE_DSCHRG_DT', 'CLM_DRG_CD',\n",
              "       'ICD9_DGNS_CD_1', 'ICD9_DGNS_CD_2', 'ICD9_DGNS_CD_3', 'ICD9_DGNS_CD_4',\n",
              "       'ICD9_DGNS_CD_5', 'ICD9_DGNS_CD_6', 'ICD9_DGNS_CD_7', 'ICD9_DGNS_CD_8',\n",
              "       'ICD9_DGNS_CD_9', 'ICD9_DGNS_CD_10', 'ICD9_PRCDR_CD_1',\n",
              "       'ICD9_PRCDR_CD_2', 'ICD9_PRCDR_CD_3', 'ICD9_PRCDR_CD_4',\n",
              "       'ICD9_PRCDR_CD_5', 'ICD9_PRCDR_CD_6', 'HCPCS_CD_1', 'HCPCS_CD_2',\n",
              "       'HCPCS_CD_3', 'HCPCS_CD_4', 'HCPCS_CD_5', 'HCPCS_CD_6', 'HCPCS_CD_7',\n",
              "       'HCPCS_CD_8', 'HCPCS_CD_9', 'HCPCS_CD_10', 'HCPCS_CD_11', 'HCPCS_CD_12',\n",
              "       'HCPCS_CD_13', 'HCPCS_CD_14', 'HCPCS_CD_15', 'HCPCS_CD_16',\n",
              "       'HCPCS_CD_17', 'HCPCS_CD_18', 'HCPCS_CD_19', 'HCPCS_CD_20',\n",
              "       'HCPCS_CD_21', 'HCPCS_CD_22', 'HCPCS_CD_23', 'HCPCS_CD_24',\n",
              "       'HCPCS_CD_25', 'HCPCS_CD_26', 'HCPCS_CD_27', 'HCPCS_CD_28',\n",
              "       'HCPCS_CD_29', 'HCPCS_CD_30', 'HCPCS_CD_31', 'HCPCS_CD_32',\n",
              "       'HCPCS_CD_33', 'HCPCS_CD_34', 'HCPCS_CD_35', 'HCPCS_CD_36',\n",
              "       'HCPCS_CD_37', 'HCPCS_CD_38', 'HCPCS_CD_39', 'HCPCS_CD_40',\n",
              "       'HCPCS_CD_41', 'HCPCS_CD_42', 'HCPCS_CD_43', 'HCPCS_CD_44',\n",
              "       'HCPCS_CD_45'],\n",
              "      dtype='object')"
            ]
          },
          "execution_count": 10,
          "metadata": {
            "tags": []
          },
          "output_type": "execute_result"
        }
      ],
      "source": [
        "# List all column names\n",
        "df.columns"
      ]
    },
    {
      "cell_type": "markdown",
      "metadata": {
        "colab_type": "text",
        "id": "5axih4Gf3FXH"
      },
      "source": [
        "## Explanation of variable names\n",
        "\n",
        "[Explanations from ResDac, HTML](https://www.resdac.org/cms-data/files/ip-encounter-final/data-documentation)"
      ]
    },
    {
      "cell_type": "markdown",
      "metadata": {
        "colab_type": "text",
        "id": "gIrY1AlG85UE"
      },
      "source": [
        "## Warm up example: Mean cost per visit, and mean payment made by the patient\n",
        "\n",
        "The data contains several variables that are relevant for payments:\n",
        "* A claim payment amount: *CLM_PMT_AMT*\n",
        "  * Note: The variable does not include all costs \n",
        "* Deductible Amount: *NCH_BENE_IP_DDCTBL_AMT*\n"
      ]
    },
    {
      "cell_type": "code",
      "execution_count": null,
      "metadata": {
        "colab": {
          "base_uri": "https://localhost:8080/",
          "height": 34
        },
        "colab_type": "code",
        "id": "fosYa0nk9HMh",
        "outputId": "0e60030d-4468-4d12-fa0e-c5456313d351"
      },
      "outputs": [
        {
          "data": {
            "text/plain": [
              "9573.632755754572"
            ]
          },
          "execution_count": 12,
          "metadata": {
            "tags": []
          },
          "output_type": "execute_result"
        }
      ],
      "source": [
        "# The mean of a column \n",
        "df['CLM_PMT_AMT'].mean()"
      ]
    },
    {
      "cell_type": "markdown",
      "metadata": {
        "colab_type": "text",
        "id": "Lk86JgeeWIzd"
      },
      "source": [
        "If this is the true costs, we would then conclude that an average hospital episode create a claim of 9573 dollars.\n",
        "\n",
        "Note the structure of the code: We first type the name of the general object (df). We then select a given column, and finally use the method *mean()* on the column. It is important to note this structure because it is a general pattern that we will use. Some find it natural, but others find it confusing until they realize the logic. An alternative to the object oriented approach is a functional approach:\n",
        "* Functional approach: *mean(age)*  \n",
        "* Object oriented approach: *age.mean()* \n",
        "\n",
        "Python can use both approaches, but working with dataframes and Pandas, the object oriented approach is dominant. Both approaches are fine - there is no reason to get into religious wars here, just be aware of the difference in the way you structure the code.\n",
        "\n",
        "Notice that the object oriented approach lends itself naturally to chaining where you just add methods to the result of the previous method in the chain, while the functional approach use nested chains or piping to do the same:\n",
        "* Method chaining: `age.mean().plot()` \n",
        "* Nested functions: `plot(mean(age))` \n",
        "* Piping: `age.pipe(mean).pipe(plot)`\n",
        "\n",
        "Pandas - and life? - becomes easier once you understand that it is object oriented - and that this is how you should structure code when using Pandas to  torture data. \n",
        "\n",
        "If you want more details on chains, functions and pipes, Tom Augspurger has a good discussion in his book [Modern Pandas](https://tomaugspurger.github.io/method-chaining.html). The basic argument is that the code should almost read like a sentence: Take object X, select a subgroup, calculate the mean, make a plot.\n",
        "\n",
        "Here we go on to some other examples:"
      ]
    },
    {
      "cell_type": "code",
      "execution_count": null,
      "metadata": {
        "colab": {
          "base_uri": "https://localhost:8080/",
          "height": 265
        },
        "colab_type": "code",
        "id": "AFqQ7MvS9_EJ",
        "outputId": "770804f3-1aa7-484a-c242-f0df3609908b"
      },
      "outputs": [
        {
          "data": {
            "image/png": "[encoded data removed]",
            "text/plain": [
              "<Figure size 432x288 with 1 Axes>"
            ]
          },
          "metadata": {
            "tags": []
          },
          "output_type": "display_data"
        }
      ],
      "source": [
        "# Histogram showing payment per visit\n",
        "df.CLM_PMT_AMT.hist();"
      ]
    },
    {
      "cell_type": "markdown",
      "metadata": {
        "colab_type": "text",
        "id": "jBP0Wa9bro4H"
      },
      "source": [
        "Note that in this code we selected a column without using the square brackets [...]. In Pandas it is possible to select a column by using the dot notation as well as the square brackets. In other words:\n",
        "`df.clm_pmt_amt.mean()`\n",
        "does the same as:\n",
        "`df['clm_pmt_amt'].mean()`\n",
        "\n",
        "The dot notation is easier, and it is commonly used for exploration, but the square bracket convention is better for long term use. It makes a clearer distinction between variables and methods. For instance, if you happen to name one of your columns mean (which you should not!), it can be confused with the method that finds the mean in the dot notation:\n",
        "* Confusingly similar and may give errors: `age.mean.mean() `\n",
        "* Less confusing and will always work: `age['mean'].mean()`\n",
        "\n",
        "In other words, the rule is that selection on objects is done by square brackets [..], while methods are applied to objects using dot notation.\n",
        "\n",
        "But practicality sometimes beats purity, and you will often see the dot notation used to select a column. Whatever you prefer, just make sure to use column names that are sensible, and not identical to method names. A common gotcha, for instance, is to name a column *first*, but this is a reserved method name (which selects the first row in a group) and we should not use it as a column name.\n",
        "\n",
        "Here is an example of how selection using dot becomes somewhat unclear due to a long variable name:"
      ]
    },
    {
      "cell_type": "code",
      "execution_count": null,
      "metadata": {
        "colab": {
          "base_uri": "https://localhost:8080/",
          "height": 36
        },
        "colab_type": "code",
        "id": "9F55J37P9tFE",
        "outputId": "8c08aa96-7be2-48de-96ad-162b1db8f806"
      },
      "outputs": [
        {
          "data": {
            "text/plain": [
              "1057.0588435637433"
            ]
          },
          "execution_count": 36,
          "metadata": {
            "tags": []
          },
          "output_type": "execute_result"
        }
      ],
      "source": [
        "# How much of the claim was paid by the patient?\n",
        "\n",
        "# Using dot notation for column selection\n",
        "df.NCH_BENE_IP_DDCTBL_AMT.mean()\n",
        "\n",
        "# Using square brackets for column selection\n",
        "df['NCH_BENE_IP_DDCTBL_AMT'].mean()\n",
        "\n"
      ]
    },
    {
      "cell_type": "markdown",
      "metadata": {
        "colab_type": "text",
        "id": "UALsikpnIVmS"
      },
      "source": [
        "The average deductible per event is around 1000 USD.\n",
        "\n",
        "Note that the automatic color marking in notebooks only highlights the variable name if it is within square brackets."
      ]
    },
    {
      "cell_type": "code",
      "execution_count": null,
      "metadata": {
        "colab": {
          "base_uri": "https://localhost:8080/",
          "height": 265
        },
        "colab_type": "code",
        "id": "usSmGqNr93Sj",
        "outputId": "e8a479ea-abbc-4a5c-8713-45cf96f61cb2"
      },
      "outputs": [
        {
          "data": {
            "image/png": "[encoded data removed]",
            "text/plain": [
              "<Figure size 432x288 with 1 Axes>"
            ]
          },
          "metadata": {
            "tags": []
          },
          "output_type": "display_data"
        }
      ],
      "source": [
        "# There seems to be three common deductible amounts\n",
        "df['NCH_BENE_IP_DDCTBL_AMT'].hist();"
      ]
    },
    {
      "cell_type": "markdown",
      "metadata": {
        "colab_type": "text",
        "id": "UzS71-plp95U"
      },
      "source": [
        "## Data preparation\n",
        "\n",
        "Before going on to the other examples, it is helpful to make a few changes to the data. One of the variables we are going to use very often is the personal identifier. In the original data this is called *desynpuf_id* but it will be easier to use a copy called *pid*. I also prefer lower case column names to avoid having to press Caps Lock all the time."
      ]
    },
    {
      "cell_type": "code",
      "execution_count": null,
      "metadata": {
        "colab": {},
        "colab_type": "code",
        "id": "SKyYHyRN0WJd"
      },
      "outputs": [],
      "source": [
        "# easier to use pid than desynpuf_id\n",
        "df['pid']=df.desynpuf_id\n",
        "\n",
        "# lower case column names\n",
        "df.columns=df.columns.str.lower()"
      ]
    },
    {
      "cell_type": "markdown",
      "metadata": {
        "colab_type": "text",
        "id": "14k2YmhOcnSN"
      },
      "source": [
        "## Example 1: What percentage of patients have 1, 2 .. 10 inpatient visits to the hospital?"
      ]
    },
    {
      "cell_type": "code",
      "execution_count": null,
      "metadata": {
        "colab": {
          "base_uri": "https://localhost:8080/",
          "height": 284
        },
        "colab_type": "code",
        "id": "_nHJSZK2clqi",
        "outputId": "c50f4d7b-bfca-42ad-b61b-7bfbf217ceea"
      },
      "outputs": [
        {
          "data": {
            "image/png": "[encoded data removed]",
            "text/plain": [
              "<Figure size 432x288 with 1 Axes>"
            ]
          },
          "metadata": {
            "tags": []
          },
          "output_type": "display_data"
        }
      ],
      "source": [
        "(df.groupby('pid')      # Split the dataframe based on person id\n",
        "          .size()       # Find the size of each of the splitted dataframes \n",
        "          .value_counts(normalize=True) # Count % of persons with 1,2 ... visits\n",
        "          .sort_index() # Sort results  \n",
        "          .head(10)     # Select the first 10 \n",
        "          .plot.bar(title='Percent of patients with 1, 2 ... 10 visits')\n",
        ");"
      ]
    },
    {
      "cell_type": "markdown",
      "metadata": {
        "colab_type": "text",
        "id": "duhAC2SOzc75"
      },
      "source": [
        "60% of the patients had only one visit in the three year period for which we have data (2008-2010).\n",
        "\n",
        "The code is largely self-explanatory with the comments. \n",
        "\n",
        "However, the layout where each method is indented and on a separate line, deserves a comment. It is very good for readability when you have long chains, but as you can see from the code, you have enclose the whole block in  parentheses to indicate that all the methods belong together. \n",
        "\n",
        "Some purist might frawn, or event froth, at this. Python is a language where you are supposed to use intendation and not parentheses to mark code blocks. While I agree, and shutter a bit, the readability of the layout makes me an occasional herectic. \n",
        "\n",
        "The semicolon at the end makes things even worse for some because it reminds them of javascript. Luckily it is not needed. It is just there to avoid an ugly line of text that is produced together with the figure when we plot something. Feel free to drop it!\n"
      ]
    },
    {
      "cell_type": "markdown",
      "metadata": {
        "colab_type": "text",
        "id": "Al62dO1zezFq"
      },
      "source": [
        "## Example 2: How many patients with hospital visits in 2009 also had a visit in 2010\n",
        "\n"
      ]
    },
    {
      "cell_type": "code",
      "execution_count": null,
      "metadata": {
        "colab": {},
        "colab_type": "code",
        "id": "X5OgocVXclrF"
      },
      "outputs": [],
      "source": [
        "# mark all visits from 2010 \n",
        "# the  date is in the *clm_adms_dt* column and we give visits from 2009 the name visits_2009\n",
        "# but it is a numeric format and to extract the first four we must first make it a string)\n",
        "\n",
        "visit_2009 = df.clm_admsn_dt.astype(str).str.startswith('2009')\n",
        "visit_2010 = df.clm_admsn_dt.astype(str).str.startswith('2010')"
      ]
    },
    {
      "cell_type": "markdown",
      "metadata": {
        "colab_type": "text",
        "id": "IxKJX4nhclrN"
      },
      "source": [
        "Find the unique identification number for all patients in 2009 and 2010."
      ]
    },
    {
      "cell_type": "code",
      "execution_count": null,
      "metadata": {
        "colab": {},
        "colab_type": "code",
        "id": "2tbStUl6clrS"
      },
      "outputs": [],
      "source": [
        "patient_2009 = set(df[visit_2009].pid.unique())\n",
        "patient_2010 = set(df[visit_2010].pid.unique())"
      ]
    },
    {
      "cell_type": "markdown",
      "metadata": {
        "colab_type": "text",
        "id": "jevpHr2igrwQ"
      },
      "source": [
        "How many of the persons are in both sets (2009 and 2010)?"
      ]
    },
    {
      "cell_type": "code",
      "execution_count": null,
      "metadata": {
        "colab": {
          "base_uri": "https://localhost:8080/",
          "height": 36
        },
        "colab_type": "code",
        "id": "RA_TVF8ugpHQ",
        "outputId": "f5168d3b-74cd-40f2-d916-e41ed53ee196"
      },
      "outputs": [
        {
          "data": {
            "text/plain": [
              "0.13406605075926517"
            ]
          },
          "execution_count": 19,
          "metadata": {
            "tags": []
          },
          "output_type": "execute_result"
        }
      ],
      "source": [
        "both = patient_2009 & patient_2010\n",
        "\n",
        "len(both)/len(patient_2009)"
      ]
    },
    {
      "cell_type": "markdown",
      "metadata": {
        "colab_type": "text",
        "id": "GhBn8BW-g6kA"
      },
      "source": [
        "13% of the patients registered in 2009 also had an inpatient hospital episode in 2010."
      ]
    },
    {
      "cell_type": "markdown",
      "metadata": {
        "colab_type": "text",
        "id": "SJYUztNZhxP0"
      },
      "source": [
        "## Example 3: Do some costly patients make up a large share of the costs?\n",
        "\n",
        "Decision makers are often interested in factors that affect total costs. This has led to an interest in learning more about the extent to which hospital costs are affected by a relatively small share of very costly patients. \n",
        "\n",
        "Here is some code that help answer this question.\n",
        "\n"
      ]
    },
    {
      "cell_type": "code",
      "execution_count": null,
      "metadata": {
        "colab": {
          "base_uri": "https://localhost:8080/",
          "height": 281
        },
        "colab_type": "code",
        "id": "dmgFWXXNhsZY",
        "outputId": "706fa77d-2c91-4be0-c2af-c0fed5a48964"
      },
      "outputs": [
        {
          "data": {
            "image/png": "[encoded data removed]",
            "text/plain": [
              "<Figure size 432x288 with 1 Axes>"
            ]
          },
          "metadata": {
            "tags": []
          },
          "output_type": "display_data"
        }
      ],
      "source": [
        "all_payments = df.clm_pmt_amt.sum()\n",
        "\n",
        "costs = (df.groupby('pid')\n",
        "              .clm_pmt_amt\n",
        "              .sum()\n",
        "              .div(all_payments)\n",
        "              .sort_values()\n",
        "              .cumsum()\n",
        "              .reset_index())\n",
        "\n",
        "costs.index = (costs.index / len(costs))*100\n",
        "\n",
        "costs.plot(title = 'Share of total cost (y) that goes to x pct of patients',\n",
        "           legend=None);\n"
      ]
    },
    {
      "cell_type": "markdown",
      "metadata": {
        "colab_type": "text",
        "id": "WsYPWlz2OIE-"
      },
      "source": [
        "The code may not be obvious, but if we express it in words, all we do is:\n",
        "- sum the cost for each patient (all events for that person)\n",
        "- divide this sum by the total cost for all patients to find the percentage of all costs that goes to each patient\n",
        "- make a cumulative sum of the costs, starting with the patient that has the smallest costs, and going up to the most costly patient (i.e. we sort before we apply the cumsum() method)\n",
        "\n",
        "This gives us a column with the share of the costs that goes to, for instance, the first 3000 patients with the lowest cost (since the series is sorted). \n",
        "\n",
        "It would be easier to interpret this if we change the unit from 'number of patients' to 'percentage of patients.' Instead of saying that patients from 0 to 3000 gets 21% of the health spending, we could then say that 'half of the patients get 21% of the spending.' \n",
        "\n",
        "To go from an absolute number to the percentage, we first reset the index which means that the index becomes a number counting from 0 and up. To calculate the percent corresponding to a patient number (say patient number 3000), all we need to do is to divide the patient number in the index by the total number of patients. \n",
        "\n",
        "And then we plot! \n",
        "\n",
        "Not only do we plot. We sit back, look at the code, and marvel at the tools that make it possible to do so much with so little. We reflect on this and say thank you to Guido, Wes and all those who built the tools. And, we translate the warm feeling into a donation to [Numfocus](https://numfocus.org/donate) and [The Python Software Foundation](https://www.python.org/psf/donations/) that help to maintain the ecosystem and its communities.\n",
        "\n",
        "Yes!\n",
        "\n",
        "And now back to something not so completely different.\n",
        "\n",
        "So far we have made a plot that tells us how much of the spending that goes to x% of the patients. n addition to the plot, we need a number to communicate to those who cannot interpret the plot right away. For instance, to say something about how much of the spending that goes to the most expensive patients, we could find the percentage of the spending that goes to the 20% most expensive patients:\n"
      ]
    },
    {
      "cell_type": "code",
      "execution_count": null,
      "metadata": {
        "colab": {
          "base_uri": "https://localhost:8080/",
          "height": 73
        },
        "colab_type": "code",
        "id": "iJC3D3zChsZ1",
        "outputId": "91f79357-968c-467b-ee7f-f555e6e1f7e2"
      },
      "outputs": [
        {
          "data": {
            "text/plain": [
              "pid            7177889B3B0200AD\n",
              "clm_pmt_amt            0.458308\n",
              "Name: 80.0, dtype: object"
            ]
          },
          "execution_count": 33,
          "metadata": {
            "tags": []
          },
          "output_type": "execute_result"
        }
      ],
      "source": [
        "eighty_pct = int(len(costs)*0.8)\n",
        "\n",
        "costs.iloc[eighty_pct]\n"
      ]
    },
    {
      "cell_type": "markdown",
      "metadata": {
        "colab_type": "text",
        "id": "rTQBI7BAj-jV"
      },
      "source": [
        "Conclusion:\n",
        "* 80% of the patients receive 46% of the spending\n",
        "* In other words, the 20% most expensive patients, represent 54% of all costs\n",
        "\n",
        "Exercise\n",
        "* Topic: Are the expensive patients chronically expensive, or do they just happen to be unlucky in a given year?\n",
        "* Specific question: What share of the top 20% most expensive that also are in the top 20% in the next year?"
      ]
    },
    {
      "cell_type": "markdown",
      "metadata": {
        "colab_type": "text",
        "id": "cpGRAA82M30B"
      },
      "source": [
        "## Example 4: What are the most common diseases?\n",
        "\n",
        "The column *clm_drg_cd* indicates the claim's Diagnosis Related Group code for the event. Although not a perfect categorization of different diseases, we can use it to get an impression of which diseases are most common for inpatient hospital admissions. We start by counting how often the different codes are used:"
      ]
    },
    {
      "cell_type": "code",
      "execution_count": null,
      "metadata": {
        "colab": {
          "base_uri": "https://localhost:8080/",
          "height": 225
        },
        "colab_type": "code",
        "id": "nyYgvSr8M3gY",
        "outputId": "24a82315-ea75-47ed-942c-1c71ecb3fcde"
      },
      "outputs": [
        {
          "data": {
            "text/plain": [
              "882    0.004223\n",
              "177    0.004208\n",
              "886    0.004118\n",
              "887    0.004103\n",
              "880    0.003954\n",
              "         ...   \n",
              "769    0.000045\n",
              "782    0.000045\n",
              "767    0.000045\n",
              "780    0.000030\n",
              "927    0.000030\n",
              "Name: clm_drg_cd, Length: 739, dtype: float64"
            ]
          },
          "execution_count": 24,
          "metadata": {
            "tags": []
          },
          "output_type": "execute_result"
        }
      ],
      "source": [
        "df.clm_drg_cd.value_counts(normalize=True)"
      ]
    },
    {
      "cell_type": "markdown",
      "metadata": {
        "colab_type": "text",
        "id": "xzkdxusV59e0"
      },
      "source": [
        "But this is not very helpful since we do not know what diseases code 882 or 177 etc represent. We need a codebook! "
      ]
    },
    {
      "cell_type": "code",
      "execution_count": null,
      "metadata": {
        "colab": {
          "base_uri": "https://localhost:8080/",
          "height": 293
        },
        "colab_type": "code",
        "id": "3XXtOn3WNFts",
        "outputId": "86c7128c-e54e-472c-8915-bd14868f072b"
      },
      "outputs": [
        {
          "data": {
            "text/html": [
              "<div>\n",
              "<style scoped>\n",
              "    .dataframe tbody tr th:only-of-type {\n",
              "        vertical-align: middle;\n",
              "    }\n",
              "\n",
              "    .dataframe tbody tr th {\n",
              "        vertical-align: top;\n",
              "    }\n",
              "\n",
              "    .dataframe thead th {\n",
              "        text-align: right;\n",
              "    }\n",
              "</style>\n",
              "<table border=\"1\" class=\"dataframe\">\n",
              "  <thead>\n",
              "    <tr style=\"text-align: right;\">\n",
              "      <th></th>\n",
              "      <th>drg</th>\n",
              "      <th>drgnum</th>\n",
              "      <th>drgweight</th>\n",
              "      <th>drgdesc</th>\n",
              "      <th>drgsys</th>\n",
              "      <th>drgvers</th>\n",
              "      <th>glos</th>\n",
              "      <th>trim</th>\n",
              "      <th>low</th>\n",
              "      <th>alos</th>\n",
              "      <th>postacute</th>\n",
              "      <th>specialpay</th>\n",
              "      <th>mdc</th>\n",
              "      <th>medsurg</th>\n",
              "      <th>fydate</th>\n",
              "      <th>fyear</th>\n",
              "      <th>mdcdesc</th>\n",
              "    </tr>\n",
              "  </thead>\n",
              "  <tbody>\n",
              "    <tr>\n",
              "      <th>0</th>\n",
              "      <td>1</td>\n",
              "      <td>1</td>\n",
              "      <td>24.8548</td>\n",
              "      <td>1: HEART TRANSPLANT OR IMPLANT OF HEART ASSIST...</td>\n",
              "      <td>MS-DRG</td>\n",
              "      <td>27</td>\n",
              "      <td>31.5</td>\n",
              "      <td>0</td>\n",
              "      <td>NaN</td>\n",
              "      <td>43.900002</td>\n",
              "      <td>No</td>\n",
              "      <td>No</td>\n",
              "      <td>0.0</td>\n",
              "      <td>SURG</td>\n",
              "      <td>10/1/2009</td>\n",
              "      <td>2010</td>\n",
              "      <td>0: PRINCIPAL DX CAN NOT BE ASSIGNED TO MDC</td>\n",
              "    </tr>\n",
              "    <tr>\n",
              "      <th>1</th>\n",
              "      <td>2</td>\n",
              "      <td>2</td>\n",
              "      <td>11.7540</td>\n",
              "      <td>2: HEART TRANSPLANT OR IMPLANT OF HEART ASSIST...</td>\n",
              "      <td>MS-DRG</td>\n",
              "      <td>27</td>\n",
              "      <td>16.4</td>\n",
              "      <td>0</td>\n",
              "      <td>NaN</td>\n",
              "      <td>21.200001</td>\n",
              "      <td>No</td>\n",
              "      <td>No</td>\n",
              "      <td>0.0</td>\n",
              "      <td>SURG</td>\n",
              "      <td>10/1/2009</td>\n",
              "      <td>2010</td>\n",
              "      <td>0: PRINCIPAL DX CAN NOT BE ASSIGNED TO MDC</td>\n",
              "    </tr>\n",
              "    <tr>\n",
              "      <th>2</th>\n",
              "      <td>3</td>\n",
              "      <td>3</td>\n",
              "      <td>18.2667</td>\n",
              "      <td>3: ECMO OR TRACH W MV 96+ HRS OR PDX EXC FACE,...</td>\n",
              "      <td>MS-DRG</td>\n",
              "      <td>27</td>\n",
              "      <td>31.6</td>\n",
              "      <td>0</td>\n",
              "      <td>NaN</td>\n",
              "      <td>38.500000</td>\n",
              "      <td>Yes</td>\n",
              "      <td>No</td>\n",
              "      <td>0.0</td>\n",
              "      <td>SURG</td>\n",
              "      <td>10/1/2009</td>\n",
              "      <td>2010</td>\n",
              "      <td>0: PRINCIPAL DX CAN NOT BE ASSIGNED TO MDC</td>\n",
              "    </tr>\n",
              "    <tr>\n",
              "      <th>3</th>\n",
              "      <td>4</td>\n",
              "      <td>4</td>\n",
              "      <td>11.1941</td>\n",
              "      <td>4: TRACH W MV 96+ HRS OR PDX EXC FACE, MOUTH &amp;...</td>\n",
              "      <td>MS-DRG</td>\n",
              "      <td>27</td>\n",
              "      <td>22.9</td>\n",
              "      <td>0</td>\n",
              "      <td>NaN</td>\n",
              "      <td>28.200001</td>\n",
              "      <td>Yes</td>\n",
              "      <td>No</td>\n",
              "      <td>0.0</td>\n",
              "      <td>SURG</td>\n",
              "      <td>10/1/2009</td>\n",
              "      <td>2010</td>\n",
              "      <td>0: PRINCIPAL DX CAN NOT BE ASSIGNED TO MDC</td>\n",
              "    </tr>\n",
              "    <tr>\n",
              "      <th>4</th>\n",
              "      <td>5</td>\n",
              "      <td>5</td>\n",
              "      <td>10.1358</td>\n",
              "      <td>5: LIVER TRANSPLANT W MCC OR INTESTINAL TRANSP...</td>\n",
              "      <td>MS-DRG</td>\n",
              "      <td>27</td>\n",
              "      <td>14.9</td>\n",
              "      <td>0</td>\n",
              "      <td>NaN</td>\n",
              "      <td>20.299999</td>\n",
              "      <td>No</td>\n",
              "      <td>No</td>\n",
              "      <td>0.0</td>\n",
              "      <td>SURG</td>\n",
              "      <td>10/1/2009</td>\n",
              "      <td>2010</td>\n",
              "      <td>0: PRINCIPAL DX CAN NOT BE ASSIGNED TO MDC</td>\n",
              "    </tr>\n",
              "  </tbody>\n",
              "</table>\n",
              "</div>"
            ],
            "text/plain": [
              "  drg  drgnum  ...  fyear                                     mdcdesc\n",
              "0   1       1  ...   2010  0: PRINCIPAL DX CAN NOT BE ASSIGNED TO MDC\n",
              "1   2       2  ...   2010  0: PRINCIPAL DX CAN NOT BE ASSIGNED TO MDC\n",
              "2   3       3  ...   2010  0: PRINCIPAL DX CAN NOT BE ASSIGNED TO MDC\n",
              "3   4       4  ...   2010  0: PRINCIPAL DX CAN NOT BE ASSIGNED TO MDC\n",
              "4   5       5  ...   2010  0: PRINCIPAL DX CAN NOT BE ASSIGNED TO MDC\n",
              "\n",
              "[5 rows x 17 columns]"
            ]
          },
          "execution_count": 25,
          "metadata": {
            "tags": []
          },
          "output_type": "execute_result"
        }
      ],
      "source": [
        "# Read a DRG codebook fron NBER (online) \n",
        "drg_codebook = pd.read_csv('https://www.nber.org/drg/drgweight2010.csv')\n",
        "# Becase the drg is a string in the df, we need to convert it to a string here too\n",
        "drg_codebook['drg'] = drg_codebook['drg'].astype(str) \n",
        "drg_codebook.head()"
      ]
    },
    {
      "cell_type": "markdown",
      "metadata": {
        "colab_type": "text",
        "id": "F1Thu9FT8nLR"
      },
      "source": [
        "Make a dictionary with codes to its text description from the information in the dataframe: "
      ]
    },
    {
      "cell_type": "code",
      "execution_count": null,
      "metadata": {
        "colab": {},
        "colab_type": "code",
        "id": "38njN4zS8lii"
      },
      "outputs": [],
      "source": [
        "drg2text = drg_codebook.set_index('drg').drgdesc.to_dict()"
      ]
    },
    {
      "cell_type": "markdown",
      "metadata": {
        "colab_type": "text",
        "id": "mZRgiWyQ8-xP"
      },
      "source": [
        "Now we can count the drg codes and use *rename* and our newly created dictionary with codes and text, to change the index from coded numbers to plain text."
      ]
    },
    {
      "cell_type": "code",
      "execution_count": null,
      "metadata": {
        "colab": {
          "base_uri": "https://localhost:8080/",
          "height": 225
        },
        "colab_type": "code",
        "id": "oEiBk0EPO6iR",
        "outputId": "4f38d912-646b-4eb8-b283-c997c5c3ce52"
      },
      "outputs": [
        {
          "data": {
            "text/plain": [
              "882: NEUROSES EXCEPT DEPRESSIVE                                           0.004223\n",
              "177: RESPIRATORY INFECTIONS & INFLAMMATIONS W MCC                         0.004208\n",
              "886: BEHAVIORAL & DEVELOPMENTAL DISORDERS                                 0.004118\n",
              "887: OTHER MENTAL DISORDER DIAGNOSES                                      0.004103\n",
              "880: ACUTE ADJUSTMENT REACTION & PSYCHOSOCIAL DYSFUNCTION                 0.003954\n",
              "                                                                            ...   \n",
              "769: POSTPARTUM & POST ABORTION DIAGNOSES W O.R. PROCEDURE                0.000045\n",
              "782: OTHER ANTEPARTUM DIAGNOSES W/O MEDICAL COMPLICATIONS                 0.000045\n",
              "767: VAGINAL DELIVERY W STERILIZATION &/OR D&C                            0.000045\n",
              "780: FALSE LABOR                                                          0.000030\n",
              "927: EXTENSIVE BURNS OR FULL THICKNESS BURNS W MV 96+ HRS W SKIN GRAFT    0.000030\n",
              "Name: clm_drg_cd, Length: 739, dtype: float64"
            ]
          },
          "execution_count": 28,
          "metadata": {
            "tags": []
          },
          "output_type": "execute_result"
        }
      ],
      "source": [
        "df.clm_drg_cd.value_counts(normalize=True).rename(index=drg2text)"
      ]
    },
    {
      "cell_type": "markdown",
      "metadata": {
        "colab_type": "text",
        "id": "OFW7c0kN9T3E"
      },
      "source": [
        "Some might still complain that this conclusion is not very informative, since the categories are so small. The most common DRG represents less than 1% of all events. To solve this, we could use the more general Main Diagnostic Categories, but then we also have to read a codebook that tells us which main diagnostic category a DRG belongs to: "
      ]
    },
    {
      "cell_type": "code",
      "execution_count": null,
      "metadata": {
        "colab": {
          "base_uri": "https://localhost:8080/",
          "height": 206
        },
        "colab_type": "code",
        "id": "8KHEHPrvNyJA",
        "outputId": "5d334c3c-dfb1-42ef-ff9b-b51d853fea4a"
      },
      "outputs": [
        {
          "data": {
            "text/html": [
              "<div>\n",
              "<style scoped>\n",
              "    .dataframe tbody tr th:only-of-type {\n",
              "        vertical-align: middle;\n",
              "    }\n",
              "\n",
              "    .dataframe tbody tr th {\n",
              "        vertical-align: top;\n",
              "    }\n",
              "\n",
              "    .dataframe thead th {\n",
              "        text-align: right;\n",
              "    }\n",
              "</style>\n",
              "<table border=\"1\" class=\"dataframe\">\n",
              "  <thead>\n",
              "    <tr style=\"text-align: right;\">\n",
              "      <th></th>\n",
              "      <th>drg</th>\n",
              "      <th>drgnum</th>\n",
              "      <th>mdc</th>\n",
              "      <th>drgdesc</th>\n",
              "      <th>mdcdesc</th>\n",
              "    </tr>\n",
              "  </thead>\n",
              "  <tbody>\n",
              "    <tr>\n",
              "      <th>0</th>\n",
              "      <td>1</td>\n",
              "      <td>1</td>\n",
              "      <td>0</td>\n",
              "      <td>1: HEART TRANSPLANT OR IMPLANT OF HEART ASSIST...</td>\n",
              "      <td>0: PRINCIPAL DX CAN NOT BE ASSIGNED TO MDC</td>\n",
              "    </tr>\n",
              "    <tr>\n",
              "      <th>1</th>\n",
              "      <td>2</td>\n",
              "      <td>2</td>\n",
              "      <td>0</td>\n",
              "      <td>2: HEART TRANSPLANT OR IMPLANT OF HEART ASSIST...</td>\n",
              "      <td>0: PRINCIPAL DX CAN NOT BE ASSIGNED TO MDC</td>\n",
              "    </tr>\n",
              "    <tr>\n",
              "      <th>2</th>\n",
              "      <td>3</td>\n",
              "      <td>3</td>\n",
              "      <td>0</td>\n",
              "      <td>3: ECMO OR TRACH W MV 96+ HRS OR PDX EXC FACE,...</td>\n",
              "      <td>0: PRINCIPAL DX CAN NOT BE ASSIGNED TO MDC</td>\n",
              "    </tr>\n",
              "    <tr>\n",
              "      <th>3</th>\n",
              "      <td>4</td>\n",
              "      <td>4</td>\n",
              "      <td>0</td>\n",
              "      <td>4: TRACH W MV 96+ HRS OR PDX EXC FACE, MOUTH &amp;...</td>\n",
              "      <td>0: PRINCIPAL DX CAN NOT BE ASSIGNED TO MDC</td>\n",
              "    </tr>\n",
              "    <tr>\n",
              "      <th>4</th>\n",
              "      <td>5</td>\n",
              "      <td>5</td>\n",
              "      <td>0</td>\n",
              "      <td>5: LIVER TRANSPLANT W MCC OR INTESTINAL TRANSP...</td>\n",
              "      <td>0: PRINCIPAL DX CAN NOT BE ASSIGNED TO MDC</td>\n",
              "    </tr>\n",
              "  </tbody>\n",
              "</table>\n",
              "</div>"
            ],
            "text/plain": [
              "  drg  ...                                     mdcdesc\n",
              "0   1  ...  0: PRINCIPAL DX CAN NOT BE ASSIGNED TO MDC\n",
              "1   2  ...  0: PRINCIPAL DX CAN NOT BE ASSIGNED TO MDC\n",
              "2   3  ...  0: PRINCIPAL DX CAN NOT BE ASSIGNED TO MDC\n",
              "3   4  ...  0: PRINCIPAL DX CAN NOT BE ASSIGNED TO MDC\n",
              "4   5  ...  0: PRINCIPAL DX CAN NOT BE ASSIGNED TO MDC\n",
              "\n",
              "[5 rows x 5 columns]"
            ]
          },
          "execution_count": 30,
          "metadata": {
            "tags": []
          },
          "output_type": "execute_result"
        }
      ],
      "source": [
        "# Get the crosswalk codebook from DRG to MDC\n",
        "drg2mdc_codebook = pd.read_csv('https://www.nber.org/drg/drg2mdcxw2010.csv')\n",
        "drg2mdc_codebook['drg'] = drg2mdc_codebook['drg'].astype(str) \n",
        "drg2mdc = drg2mdg_codebook.set_index('drg').mdcdesc.to_dict()\n",
        "drg2mdc_codebook.head()"
      ]
    },
    {
      "cell_type": "markdown",
      "metadata": {
        "colab_type": "text",
        "id": "3OtwQB-u-K--"
      },
      "source": [
        "We then take the dataframe, focus on the drg, map the drg to the text of its main diagnostic category, count (using percentage, not aboslute numbers), select the five most common catgories and plot these using horizontal bars: "
      ]
    },
    {
      "cell_type": "code",
      "execution_count": null,
      "metadata": {
        "colab": {
          "base_uri": "https://localhost:8080/",
          "height": 265
        },
        "colab_type": "code",
        "id": "xR1qUZ4f-GaN",
        "outputId": "823d7c4f-6c1d-4d6f-accd-fe3cdf1461fc"
      },
      "outputs": [
        {
          "data": {
            "image/png": "[encoded data removed]",
            "text/plain": [
              "<Figure size 432x288 with 1 Axes>"
            ]
          },
          "metadata": {
            "tags": []
          },
          "output_type": "display_data"
        }
      ],
      "source": [
        "df.clm_drg_cd.map(drg2mdc).value_counts(normalize=True).head(5).plot.barh();"
      ]
    },
    {
      "cell_type": "markdown",
      "metadata": {
        "colab_type": "text",
        "id": "02iw2qzu_oJS"
      },
      "source": [
        "##Example 5: Typical length of stay\n",
        "\n",
        "How long is a typical inpatient stay in hospital? To answer this, we first have to convert the information in the columns to dates, the calculate the length of stay by subtracting the end date from the start date for all events, and make a plot that shows how many events there are with 1 night in hospital, 2 nights etc:"
      ]
    },
    {
      "cell_type": "code",
      "execution_count": null,
      "metadata": {
        "colab": {
          "base_uri": "https://localhost:8080/",
          "height": 266
        },
        "colab_type": "code",
        "id": "yaGZQjCI_pRV",
        "outputId": "9c303330-61aa-45c0-8795-772c4efd120f"
      },
      "outputs": [
        {
          "data": {
            "image/png": "[encoded data removed]",
            "text/plain": [
              "<Figure size 432x288 with 1 Axes>"
            ]
          },
          "metadata": {
            "tags": []
          },
          "output_type": "display_data"
        }
      ],
      "source": [
        "# Convert numeric date column to a proper date format\n",
        "df['start_date'] = pd.to_datetime(df.clm_from_dt.astype(str).str.strip('.0'), \n",
        "                                  format='%Y/%m/%d', \n",
        "                                  errors='coerce')\n",
        "df['end_date'] = pd.to_datetime(df.clm_thru_dt.astype(str).str.strip('.0'), \n",
        "                                  format='%Y/%m/%d', \n",
        "                                  errors='coerce')\n",
        "# Obvious!\n",
        "df['length_of_stay'] = df.end_date - df.start_date\n",
        "\n",
        "# The difference could be expressed in seconds, minures and many other units\n",
        "# We tell it to transform the difference to number of days\n",
        "\n",
        "df['length_of_stay'] = df['length_of_stay'].dt.days\n",
        "\n",
        "# Draw a plot of the distribution of length of stays\n",
        "df.length_of_stay.hist();\n",
        "\n"
      ]
    },
    {
      "cell_type": "markdown",
      "metadata": {
        "colab_type": "text",
        "id": "f_dYtShWAYsE"
      },
      "source": [
        "Or, if you want a number, you could find the median, which is probably more informative that the mean in this case:"
      ]
    },
    {
      "cell_type": "code",
      "execution_count": null,
      "metadata": {
        "colab": {
          "base_uri": "https://localhost:8080/",
          "height": 34
        },
        "colab_type": "code",
        "id": "Be7pkdF-AmL8",
        "outputId": "e701ea51-a605-44c2-e0cb-996dcd73092d"
      },
      "outputs": [
        {
          "data": {
            "text/plain": [
              "4.0"
            ]
          },
          "execution_count": 38,
          "metadata": {
            "tags": []
          },
          "output_type": "execute_result"
        }
      ],
      "source": [
        "df.length_of_stay.median()"
      ]
    },
    {
      "cell_type": "markdown",
      "metadata": {
        "colab_type": "text",
        "id": "O40ZeyzQBWT9"
      },
      "source": [
        "Or you can use *describe()* to get more information right away:"
      ]
    },
    {
      "cell_type": "code",
      "execution_count": null,
      "metadata": {
        "colab": {
          "base_uri": "https://localhost:8080/",
          "height": 173
        },
        "colab_type": "code",
        "id": "qmryhgnJA0wz",
        "outputId": "83427393-869f-44aa-8752-b5bd133de605"
      },
      "outputs": [
        {
          "data": {
            "text/plain": [
              "count    54273.000000\n",
              "mean         5.677077\n",
              "std          5.643778\n",
              "min          0.000000\n",
              "25%          2.000000\n",
              "50%          4.000000\n",
              "75%          7.000000\n",
              "max         35.000000\n",
              "Name: length_of_stay, dtype: float64"
            ]
          },
          "execution_count": 41,
          "metadata": {
            "tags": []
          },
          "output_type": "execute_result"
        }
      ],
      "source": [
        "df.length_of_stay.describe()"
      ]
    },
    {
      "cell_type": "markdown",
      "metadata": {
        "colab_type": "text",
        "id": "VqjrewppBA2C"
      },
      "source": [
        "## Which disease group has the longest length of stay?"
      ]
    },
    {
      "cell_type": "markdown",
      "metadata": {
        "colab_type": "text",
        "id": "p-aoSud_DYFc"
      },
      "source": [
        "To answer questions about length of stay for diseases, we first make a column with the main diagnostic category:"
      ]
    },
    {
      "cell_type": "code",
      "execution_count": null,
      "metadata": {
        "colab": {},
        "colab_type": "code",
        "id": "lV44PeldDYzc"
      },
      "outputs": [],
      "source": [
        "# Make a column for the main diagnostic category\n",
        "df['main_diagnostic_category'] = df['clm_drg_cd'].map(drg2mdc)"
      ]
    },
    {
      "cell_type": "markdown",
      "metadata": {
        "colab_type": "text",
        "id": "_SoZQPnBDRox"
      },
      "source": [
        "We then take the dataframe, split it by diagnostic category, focus on length of stay, take the mean (for each category) and sort the result:"
      ]
    },
    {
      "cell_type": "code",
      "execution_count": null,
      "metadata": {
        "colab": {
          "base_uri": "https://localhost:8080/",
          "height": 486
        },
        "colab_type": "code",
        "id": "uy48fF9kCCS1",
        "outputId": "dd6e65e9-0171-4694-a33a-9eb236861f18"
      },
      "outputs": [
        {
          "data": {
            "text/plain": [
              "main_diagnostic_category\n",
              "22: BURNS                                                                      12.200000\n",
              "23: FACTORS INFLUENCING HLTH STAT & OTHR CONTACTS WITH HLTH SERVCS             11.409140\n",
              "0: PRINCIPAL DX CAN NOT BE ASSIGNED TO MDC                                     10.763314\n",
              "19: MENTAL DISEASES & DISORDERS                                                 9.958311\n",
              "18: INFECTIOUS & PARASITIC DISEASES, SYSTEMIC OR UNSPECIFIED SITES              7.851896\n",
              "24: MULTIPLE SIGNIFICANT TRAUMA                                                 7.661538\n",
              "17: MYELOPROLIFERATIVE DISEASES & DISORDERS, POORLY DIFFERENTIATED NEOPLASM     7.439093\n",
              "25: HUMAN IMMUNODEFICIENCY VIRUS INFECTIONS                                     7.019231\n",
              "4: DISEASES & DISORDERS OF THE RESPIRATORY SYSTEM                               6.002479\n",
              "20: ALCOHOL/DRUG USE & ALCOHOL/DRUG INDUCED ORGANIC MENTAL DISORDERS            5.879056\n",
              "9: DISEASES & DISORDERS OF THE SKIN, SUBCUTANEOUS TISSUE & BREAST               5.812500\n",
              "7: DISEASES & DISORDERS OF THE HEPATOBILIARY SYSTEM & PANCREAS                  5.757337\n",
              "6: DISEASES & DISORDERS OF THE DIGESTIVE SYSTEM                                 5.523552\n",
              "21: INJURIES, POISONINGS & TOXIC EFFECTS OF DRUGS                               5.108239\n",
              "11: DISEASES & DISORDERS OF THE KIDNEY & URINARY TRACT                          5.059569\n",
              "1: DISEASES & DISORDERS OF THE NERVOUS SYSTEM                                   4.886139\n",
              "8: DISEASES & DISORDERS OF THE MUSCULOSKELETAL SYSTEM & CONN TISSUE             4.589727\n",
              "5: DISEASES & DISORDERS OF THE CIRCULATORY SYSTEM                               4.519918\n",
              "16: DISEASES & DISORDERS OF BLOOD, BLOOD FORMING ORGANS, IMMUNOLOG DISORD       4.188841\n",
              "10: ENDOCRINE, NUTRITIONAL & METABOLIC DISEASES & DISORDERS                     4.180412\n",
              "2: DISEASES & DISORDERS OF THE EYE                                              3.938776\n",
              "13: DISEASES & DISORDERS OF THE FEMALE REPRODUCTIVE SYSTEM                      3.259958\n",
              "3: DISEASES & DISORDERS OF THE EAR, NOSE, MOUTH & THROAT                        3.039216\n",
              "12: DISEASES & DISORDERS OF THE MALE REPRODUCTIVE SYSTEM                        2.981191\n",
              "14: PREGNANCY, CHILDBIRTH & THE PUERPERIUM                                      2.928571\n",
              "Name: length_of_stay, dtype: float64"
            ]
          },
          "execution_count": 47,
          "metadata": {
            "tags": []
          },
          "output_type": "execute_result"
        }
      ],
      "source": [
        "# Find mean length of stay in each diagnostic category\n",
        "df.groupby('main_diagnostic_category').length_of_stay.mean().sort_values(ascending=False)"
      ]
    },
    {
      "cell_type": "markdown",
      "metadata": {
        "colab_type": "text",
        "id": "N8_GkzTLD3LA"
      },
      "source": [
        "Burns appear to have the longest stays with more than 12 days."
      ]
    }
  ],
  "metadata": {
    "colab": {
      "collapsed_sections": [],
      "include_colab_link": true,
      "name": "1. Appetizers:  Some examples.ipynb",
      "provenance": []
    },
    "kernelspec": {
      "display_name": "Python 3",
      "name": "python3"
    }
  },
  "nbformat": 4,
  "nbformat_minor": 0
}
