{
  "nbformat": 4,
  "nbformat_minor": 0,
  "metadata": {
    "colab": {
      "name": "intro.ipynb",
      "provenance": [],
      "authorship_tag": "ABX9TyNGoE/eIh87hR0ErzPEwv8S",
      "include_colab_link": true
    },
    "kernelspec": {
      "name": "python3",
      "display_name": "Python 3"
    }
  },
  "cells": [
    {
      "cell_type": "markdown",
      "metadata": {
        "id": "view-in-github",
        "colab_type": "text"
      },
      "source": [
        "<a href=\"https://colab.research.google.com/github/hmelberg/health-analytics-using-python/blob/master/intro.ipynb\" target=\"_parent\"><img src=\"https://colab.research.google.com/assets/colab-badge.svg\" alt=\"Open In Colab\"/></a>"
      ]
    },
    {
      "cell_type": "markdown",
      "metadata": {
        "id": "g0VBnJgcWHT9"
      },
      "source": [
        "## Software\n",
        "\n",
        "[Useful info](https://www.youtube.com/watch?v=dQw4w9WgXcQ)"
      ]
    },
    {
      "cell_type": "code",
      "metadata": {
        "id": "ZJShuMcQZUhQ"
      },
      "source": [
        ""
      ],
      "execution_count": null,
      "outputs": []
    },
    {
      "cell_type": "code",
      "metadata": {
        "id": "4JH2PbhWWxTm"
      },
      "source": [
        "import pandas as pd"
      ],
      "execution_count": 1,
      "outputs": []
    },
    {
      "cell_type": "code",
      "metadata": {
        "id": "SHWbNMq3YnXk"
      },
      "source": [
        "filename= 'https://raw.githubusercontent.com/hmelberg/health-analytics-using-python/master/hospital.csv'\n",
        "\n",
        "df = pd.read_csv(filename)"
      ],
      "execution_count": 4,
      "outputs": []
    },
    {
      "cell_type": "code",
      "metadata": {
        "colab": {
          "base_uri": "https://localhost:8080/",
          "height": 202
        },
        "id": "N-fVDYSBYvg7",
        "outputId": "30f7bc9a-953d-41b4-daf7-a41c271531a8"
      },
      "source": [
        "df.head()"
      ],
      "execution_count": 5,
      "outputs": [
        {
          "output_type": "execute_result",
          "data": {
            "text/html": [
              "<div>\n",
              "<style scoped>\n",
              "    .dataframe tbody tr th:only-of-type {\n",
              "        vertical-align: middle;\n",
              "    }\n",
              "\n",
              "    .dataframe tbody tr th {\n",
              "        vertical-align: top;\n",
              "    }\n",
              "\n",
              "    .dataframe thead th {\n",
              "        text-align: right;\n",
              "    }\n",
              "</style>\n",
              "<table border=\"1\" class=\"dataframe\">\n",
              "  <thead>\n",
              "    <tr style=\"text-align: right;\">\n",
              "      <th></th>\n",
              "      <th>lnr</th>\n",
              "      <th>lopenr</th>\n",
              "      <th>innDato</th>\n",
              "      <th>utDato</th>\n",
              "      <th>tilstand_1_1</th>\n",
              "      <th>fodselsar</th>\n",
              "      <th>kjonn</th>\n",
              "    </tr>\n",
              "  </thead>\n",
              "  <tbody>\n",
              "    <tr>\n",
              "      <th>0</th>\n",
              "      <td>0</td>\n",
              "      <td>0</td>\n",
              "      <td>2007-10-30</td>\n",
              "      <td>2007-10-30</td>\n",
              "      <td>K30</td>\n",
              "      <td>1951</td>\n",
              "      <td>2</td>\n",
              "    </tr>\n",
              "    <tr>\n",
              "      <th>1</th>\n",
              "      <td>1</td>\n",
              "      <td>1</td>\n",
              "      <td>2008-07-07</td>\n",
              "      <td>2008-07-07</td>\n",
              "      <td>O00</td>\n",
              "      <td>1960</td>\n",
              "      <td>2</td>\n",
              "    </tr>\n",
              "    <tr>\n",
              "      <th>2</th>\n",
              "      <td>2</td>\n",
              "      <td>2</td>\n",
              "      <td>2011-06-27</td>\n",
              "      <td>2011-06-27</td>\n",
              "      <td>K86</td>\n",
              "      <td>1947</td>\n",
              "      <td>2</td>\n",
              "    </tr>\n",
              "    <tr>\n",
              "      <th>3</th>\n",
              "      <td>3</td>\n",
              "      <td>3</td>\n",
              "      <td>2009-09-14</td>\n",
              "      <td>2009-09-14</td>\n",
              "      <td>G50</td>\n",
              "      <td>1972</td>\n",
              "      <td>2</td>\n",
              "    </tr>\n",
              "    <tr>\n",
              "      <th>4</th>\n",
              "      <td>4</td>\n",
              "      <td>4</td>\n",
              "      <td>2007-08-01</td>\n",
              "      <td>2007-08-01</td>\n",
              "      <td>Z46</td>\n",
              "      <td>1963</td>\n",
              "      <td>1</td>\n",
              "    </tr>\n",
              "  </tbody>\n",
              "</table>\n",
              "</div>"
            ],
            "text/plain": [
              "   lnr  lopenr     innDato      utDato tilstand_1_1  fodselsar  kjonn\n",
              "0    0       0  2007-10-30  2007-10-30          K30       1951      2\n",
              "1    1       1  2008-07-07  2008-07-07          O00       1960      2\n",
              "2    2       2  2011-06-27  2011-06-27          K86       1947      2\n",
              "3    3       3  2009-09-14  2009-09-14          G50       1972      2\n",
              "4    4       4  2007-08-01  2007-08-01          Z46       1963      1"
            ]
          },
          "metadata": {
            "tags": []
          },
          "execution_count": 5
        }
      ]
    }
  ]
}