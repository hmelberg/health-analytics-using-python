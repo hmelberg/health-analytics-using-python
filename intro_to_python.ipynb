{
  "nbformat": 4,
  "nbformat_minor": 0,
  "metadata": {
    "colab": {
      "name": "intro to python.ipynb",
      "provenance": [],
      "authorship_tag": "ABX9TyNjGlurA/lZJoC507g/Z3iu",
      "include_colab_link": true
    },
    "kernelspec": {
      "name": "python3",
      "display_name": "Python 3"
    }
  },
  "cells": [
    {
      "cell_type": "markdown",
      "metadata": {
        "id": "view-in-github",
        "colab_type": "text"
      },
      "source": [
        "<a href=\"https://colab.research.google.com/github/hmelberg/health-analytics-using-python/blob/master/intro_to_python.ipynb\" target=\"_parent\"><img src=\"https://colab.research.google.com/assets/colab-badge.svg\" alt=\"Open In Colab\"/></a>"
      ]
    },
    {
      "cell_type": "markdown",
      "metadata": {
        "id": "PzguA9mjo7TM"
      },
      "source": [
        "# Introduction to Python for Data Analysis\n",
        "\n",
        "Hans Olav Melberg"
      ]
    },
    {
      "cell_type": "markdown",
      "metadata": {
        "id": "3CgijepEo-0q"
      },
      "source": [
        "##What?\n",
        "- A computer programming language\n",
        "- Often  used as a tool to analyse data, collect information, make simulations and computer programs\n",
        "- Not a religion!\n",
        "\n",
        "##Alternative tools\n",
        "- Excel\n",
        "- R\n",
        "- Python\n",
        "- SPSS\n",
        "- Stata\n",
        "- etc\n",
        "\n",
        "##What do we want from a tool? Compare tools on these criteria\n",
        "- Easy to use\n",
        "- Flexible and powerful\n",
        "- Fast\n",
        "- Cheap\n",
        "- Reproducible results\n",
        "\n",
        "# Proof of the pudding\n",
        "- ... is in the eating, so lets get started!\n",
        "\n",
        "# Installation\n",
        "- colab: No installation necessary.\n",
        "  - but if you have secret data or want to use if without online access?\n",
        "- Install the anaconda distribution of Python: https://www.anaconda.com/products/individual\n",
        "  - Will install python and many useful packages for data analysis\n",
        "  - After installation, can start python in different ways:\n",
        "    - Start a 'Jupyter notebook' that is installed with anaconda\n",
        "    - Start Spyder (A program designed to help you do data analysis with python)\n",
        "    - Work from the command line\n",
        "    - Many other options VSCode, PyCharm etc (Do not be confused by the wrapping, the engine behind is Python)\n",
        "\n",
        "# Structure\n",
        "  - [Very important preliminary information](https://www.youtube.com/watch?v=dQw4w9WgXcQ&ab_channel=RickAstleyVEVO)\n",
        "  - General topics:\n",
        "    - Data munging (cleaning, selecting, describing). Example: More hospital events in January than July? For males too?\n",
        "    - Statistical analysis (Regression etc). Example: Is alcohol healthy? \n",
        "    - Simulation. Example: Optimal time to leave to get the bus ...\n",
        "  - [Five examples](https://colab.research.google.com/github/hmelberg/health-analytics-using-python/blob/dev/1_Appetizers_Some_examples.ipynb)\n",
        "  - The rest 'will be revealed'\n",
        "  - And I am open to (reasonable) requests\n",
        "  - Optional: Importing data directly (SSB API etc)\n",
        "  - Two sources:\n",
        "    - https://github.com/hmelberg/health-analytics-using-python\n",
        "    - https://github.com/hmelberg/causal\n",
        "\n"
      ]
    },
    {
      "cell_type": "code",
      "metadata": {
        "id": "LmTNlAuPE1zX"
      },
      "source": [
        "filename= 'https://raw.githubusercontent.com/hmelberg/health-analytics-using-python/master/hospital.csv'\r\n"
      ],
      "execution_count": null,
      "outputs": []
    }
  ]
}