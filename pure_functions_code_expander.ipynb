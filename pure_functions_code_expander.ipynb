{
  "cells": [
    {
      "cell_type": "markdown",
      "metadata": {
        "colab_type": "text",
        "id": "view-in-github"
      },
      "source": [
        "<a href=\"https://colab.research.google.com/github/hmelberg/health-analytics-using-python/blob/master/pure_functions_code_expander.ipynb\" target=\"_parent\"><img src=\"https://colab.research.google.com/assets/colab-badge.svg\" alt=\"Open In Colab\"/></a>"
      ]
    },
    {
      "cell_type": "markdown",
      "metadata": {
        "id": "vosA89WEixQc"
      },
      "source": [
        "# Creating notation and functions to deal with medical codes\n",
        "# Case study: Charlson comorbidity index\n",
        "\n",
        "One key problem when dealing with medical codes, is how to describe a group of codes that make up a disease in a short and efficient manner. For instance, there are many dozens of codes that belong under the general category of liver disease. Listing all codes every time we want to select a group of patients with a given conditions, becomes very cumbersome. Instead, we will develop a notation where you can use stars, hyphens and colons to describe sets of medical codes, and functions that expand the shorthand codes to the full set of codes.\n",
        "\n",
        "The Charlson comorbidity index is a good exampe of the usefulness of these notational shortcuts because it requires an overview of all the medical codes relevant for about 20 comorbidities. This would be very verbose without some kind of special notation.\n",
        "\n"
      ]
    },
    {
      "cell_type": "markdown",
      "metadata": {
        "id": "Hxm-5QiEFe60"
      },
      "source": [
        "## Briefly about Charlson and the overall approach"
      ]
    },
    {
      "cell_type": "markdown",
      "metadata": {
        "id": "8kHcjwvuuKxF"
      },
      "source": [
        "The [Charlson Comorbidity Index](https://en.wikipedia.org/wiki/Comorbidity#Charlson_index) is used to measure the frailty a patient. For instance, when comparing two differnt treatments, it is important to make sure that the patients not only have the same severity of the disease, but also that they have the same level of general health. The Charlson Comorbidity index measures this by assinging each patient a score based on the existence of codes for different comorbidities. Here is an example of the comorbidities, their weights, and the medical codes behind the comorbidities from [Lee et al. 2018](http://dx.doi.org/10.5051/jpis.2018.48.2.92):\n",
        "\n",
        "![some text](https://www.jpis.org/ArticleImage/1150JPIS/jpis-48-92-i001-l.jpg)\n",
        "\n",
        "There are several different indicies and one could argue - and people do, of course! - about which index to use and how well the index captures how frail a patient is. One of the reasons there are different versions, is that coding systems differ across time and countries. This means that the precise codes that goes into the calculation will differ. Moreover, the score is supposed to be related to the probability of dying, and this has led some to create new categories and weights that they believe better reflect the importance of each comorbodity for the probability that a patient will die.\n",
        "\n",
        "Here is an overview of some of these various versions from an article by [Fernando et al. in 2019](https://https://www.sciencedirect.com/science/article/pii/S1047279719301036) (See also [Lagergren and Brusselaers](https://www.ncbi.nlm.nih.gov/pubmed/29582935) for another good overview).\n",
        "\n",
        "![alt text](https://ars.els-cdn.com/content/image/1-s2.0-S1047279719301036-gr2.jpg)\n",
        "\n",
        "\n",
        "While it is useful to know the background of the index and the different versions, these discussions are not the focus of this notebook. Instead, the aim is to use the task of calculating the index as a case study for how to develop notation to express groups of codes and, in the second step, use these groups to calculate indicies such as the Charlson Comorbidity Index.  \n",
        "\n",
        "In short, to calculate the index we have to: \n",
        "  - Create a data structure the describe the different diseases and their  medical codes\n",
        "  - Calculate how many of the diseases each patient has and create a weighted sum for each patient based on the diagnoses she has\n",
        "  \n",
        "These two simple steps present surprisingly many interesting problems - and we will start with the first: How to store a list of medical codes that describe a disease?\n",
        "\n",
        "Note that this notebook focuses more on devloping functions using standard Python and less on typical data science tools like Pandas and so on. This illustrates the importance of knowing Python in general in order to build efficient tools for data science. Some might feel that this is not their cup of tea, in which case you can skip this notebook and use the notation we develop without knowing the details behind how it works. \n"
      ]
    },
    {
      "cell_type": "markdown",
      "metadata": {
        "id": "3JWGrObBI8Lf"
      },
      "source": [
        "# Connecting diagnoses and codes using smart notation\n",
        "\n",
        "One of the diagnoses that is neede to calculate the Charlson Comorbidity Index, is tumors. The hard way to describe all the codes that indicates a tumor diagnosis, would be to specify every single individual diganostic code that is relevant for tumors:\n"
      ]
    },
    {
      "cell_type": "code",
      "execution_count": null,
      "metadata": {
        "id": "NDldti0aKjD8"
      },
      "outputs": [],
      "source": [
        "# Some ICD-10 diagnostic codes relevant to tumors\n",
        "tumor = ['C77.0',\n",
        " 'C77.1',\n",
        " 'C77.2',\n",
        " 'C77.3',\n",
        " 'C77.4',\n",
        " 'C77.5',\n",
        " 'C77.6',\n",
        " 'C77.7',\n",
        " 'C77.8',\n",
        " 'C77.9',\n",
        " 'C78.0',\n",
        " 'C78.1',\n",
        " 'C78.2',\n",
        " 'C78.3',\n",
        " 'C78.4',\n",
        " 'C78.5',\n",
        " 'C78.6',\n",
        " 'C78.8',\n",
        " 'C78.9',\n",
        " 'C79.0',\n",
        " 'C79.1',\n",
        " 'C79.2',\n",
        " 'C79.3',\n",
        " 'C79.4',\n",
        " 'C79.5',\n",
        " 'C79.6',\n",
        " 'C79.7',\n",
        " 'C79.8',\n",
        " 'C79.9',\n",
        " 'C80.0',\n",
        " 'C80.1',\n",
        " 'C80.2',\n",
        " 'C80.3',\n",
        " 'C80.4',\n",
        " 'C80.5',\n",
        " 'C80.6',\n",
        " 'C80.7',\n",
        " 'C80.8',\n",
        " 'C80.9']"
      ]
    },
    {
      "cell_type": "markdown",
      "metadata": {
        "id": "zvyrx7wpLJNT"
      },
      "source": [
        "This approach is both cumbersome and dangerous. It is cumbersome because you have to type a lot of codes - and remember that ulcers is only one of  about 20 comorbidities that goes into the Charlson index. More importantly, it is dangerous in the sense it becomes more difficult to discover mistakes when you have long lists of codes. What if you had forgotten to type C78.7? (Yes, it is left out!). You might have discovered this at some point, but it demonstrates the usefulness of inventing notation that makes the description of codes less verbose and less error prone.\n",
        "\n",
        "# Notation\n",
        "\n",
        "There are at least three types of symbols that can make it easier to express  code groups:\n",
        "* Stars: C77* would include all codes that start with C77\n",
        "* Hyphen: C77-C80 would be shorthand for C77, C78, C79 and C80\n",
        "* Colon: C77.0:D80.9 would include all codes that are defined in a codebook to be between C77.0 and D80.9 (including these codes themselves).\n",
        "\n",
        "If this notation is allowed, we could write the codes describing (solid, metastatic) tumors as:\n"
      ]
    },
    {
      "cell_type": "code",
      "execution_count": null,
      "metadata": {
        "id": "17Yt7jBJPYxg"
      },
      "outputs": [],
      "source": [
        "tumor = 'C77.0-C80.9'\n",
        " "
      ]
    },
    {
      "cell_type": "markdown",
      "metadata": {
        "id": "-OYPJK--PtOS"
      },
      "source": [
        "Or, if we allow combinations of notational symbols, we could write:"
      ]
    },
    {
      "cell_type": "code",
      "execution_count": null,
      "metadata": {
        "id": "zW-YWRngP24j"
      },
      "outputs": [],
      "source": [
        "tumor = 'C77*-C80*'\n"
      ]
    },
    {
      "cell_type": "markdown",
      "metadata": {
        "id": "1t5NNr0lRJSV"
      },
      "source": [
        "This kind of notation could simplify things, and make it easier to quickly specify different groups of codes. However, to make use of it we need functions that expand the codes that are written using the notation to the full list of proper codes that the computer can use. \n",
        "\n",
        "\n",
        "These functions are not too difficult, but there are some tricky corners around leading zeros and the precision of decimals. For instance, in order to make hyphen notation work, we could use the following logic to create a function:\n",
        "* Take the string, split it on the hyphen (if it exist), and extract the number component of the start and the end code\n",
        "* Make a list of all the numbers between start and stop (This requires us to convert the start and end to integers and remember the number of decimals and leading zeros since we later have to reconvert it back to its original format)\n",
        "* Convert the list of all the number back to string codes with the same format it had originally (the prefix, leading zeros, number of decimals/trailing zeros, star notation).\n",
        "\n",
        "In code:\n"
      ]
    },
    {
      "cell_type": "code",
      "execution_count": null,
      "metadata": {
        "id": "2OwcbGI7Br2X"
      },
      "outputs": [],
      "source": [
        "# function to expand a string like 'K51.2-K53.8' to a list of codes \n",
        "\n",
        "# Need regex to extract the number component of the input string\n",
        "import re\n",
        "\n",
        "from functools import singledispatch\n",
        "# The singledispach decorator enables us to have the same name, but use \n",
        "# different functions depending on the datatype of the first argument.\n",
        "#\n",
        "# In our case we want one function to deal with a single string input, and\n",
        "# another to handle a list of strings. It could all be handled in a single \n",
        "# function using nested if, but singledispatch makes it less messy and more fun!\n",
        "\n",
        "\n",
        "# Here is the main function, it is just the name and an error message if the \n",
        "# argument does not fit any of the inputs that wil be allowed\n",
        "\n",
        "@singledispatch\n",
        "def expand_hyphen(expr):\n",
        "  \"\"\"\n",
        "  Expands codes expression(s) that have hyphens to list of all codes\n",
        "\n",
        "  Args:\n",
        "      code (str or list of str): String or list of strings to be expanded \n",
        "  \n",
        "  Returns:\n",
        "      List of strings\n",
        "  \n",
        "  Examples:\n",
        "      expand_hyphen('C00*-C26*')\n",
        "      expand_hyphen('b01.1*-b09.9*')\n",
        "      expand_hyphen('n02.2-n02.7')\n",
        "      expand_hyphen('c00*-c260')\n",
        "      expand_hyphen('b01-b09')\n",
        "      expand_hyphen('b001.1*-b009.9*')\n",
        "      expand_hyphen(['b001.1*-b009.9*', 'c11-c15'])\n",
        "  Note:\n",
        "      Unequal number of decimals in start and end code is problematic.\n",
        "      Example: C26.0-C27.11 will not work since the meaning is not obvious:\n",
        "      Is the step size 0.01? In which case C27.1 will not be included, while \n",
        "      C27.10 will be (and traing zeros can be important in codes)\n",
        "  \"\"\"\n",
        "  raise ValueError('The argument must be a string or a list')\n",
        "\n",
        "# register the function to be used if the input is a string\n",
        "@expand_hyphen.register(str)\n",
        "def _(expr):\n",
        "    # return immediately if nothing to expand\n",
        "    if '-' not in expr:\n",
        "      return [expr]\n",
        "\n",
        "    lower, upper = expr.split('-')\n",
        "    \n",
        "    lower=lower.strip()\n",
        "\n",
        "    # identify the numeric component of the code\n",
        "    lower_str = re.search(\"\\d*\\.\\d+|\\d+\", lower).group()\n",
        "    upper_str = re.search(\"\\d*\\.\\d+|\\d+\", upper).group()\n",
        "    # note: what about european decimal notation?\n",
        "    # also note: what if multiple groups K50.1J8.4-etc\n",
        "\n",
        "\n",
        "    lower_num = int(lower_str.replace('.',''))\n",
        "    upper_num = int(upper_str.replace('.','')) +1\n",
        "    \n",
        "    if upper_num<lower_num:\n",
        "      raise ValueError('The start code cannot have a higher number than the end code')\n",
        "\n",
        "    # remember length in case of leading zeros \n",
        "    length = len(lower_str)\n",
        "\n",
        "    nums = range(lower_num, upper_num)\n",
        "\n",
        "    # must use integers in a loop, not floats\n",
        "    # which also means that we must multiply and divide to get decimal back\n",
        "    # and take care of leading and trailing zeros that may disappear\n",
        "    if '.' in lower_str:\n",
        "      lower_decimals = len(lower_str.split('.')[1])\n",
        "      upper_decimals = len(upper_str.split('.')[1])\n",
        "      if lower_decimals==upper_decimals:\n",
        "        multiplier = 10**lower_decimals\n",
        "        codes = [lower.replace(lower_str, format(num /multiplier, f'.{lower_decimals}f').zfill(length)) for num in nums]\n",
        "      # special case: allow k1.1-k1.123, but not k.1-k2.123 the last is ambigious: should it list k2.0 only 2.00?\n",
        "      elif (lower_decimals<upper_decimals) & (upper_str.split('.')[0]==lower_str.split('.')[0]):\n",
        "        from_decimal = int(lower_str.split('.')[1])\n",
        "        to_decimal = int(upper_str.split('.')[1]) +1\n",
        "        nums = range(from_decimal, to_decimal)\n",
        "        decimal_str = '.'+lower.split('.')[1]\n",
        "        codes = [lower.replace(decimal_str, '.'+str(num)) for num in nums]\n",
        "      else:\n",
        "        raise ValueError('The start code and the end code do not have the same number of decimals')\n",
        "    else:\n",
        "        codes = [lower.replace(lower_str, str(num).zfill(length)) for num in nums]\n",
        "    return codes\n",
        " \n",
        "\n",
        "# register the function to be used if if the input is a list of strings\n",
        "@expand_hyphen.register(list)\n",
        "def _(exprs):\n",
        "  extended = []\n",
        "  for expr in exprs:\n",
        "    extended.extend(expand_hyphen(expr))\n",
        "  return extended\n"
      ]
    },
    {
      "cell_type": "markdown",
      "metadata": {
        "id": "hawrmS-2_eh7"
      },
      "source": [
        "And here are some examples:"
      ]
    },
    {
      "cell_type": "code",
      "execution_count": 7,
      "metadata": {
        "colab": {
          "base_uri": "https://localhost:8080/",
          "height": 34
        },
        "id": "D8EP8Tl7dzq2",
        "outputId": "0a2c7f74-d7bd-47d8-c7c1-f943815e8e96"
      },
      "outputs": [
        {
          "data": {
            "text/plain": [
              "['K50', 'K51', 'K52', 'K53', 'K54']"
            ]
          },
          "execution_count": 7,
          "metadata": {},
          "output_type": "execute_result"
        }
      ],
      "source": [
        "# very standard expansion\n",
        "expand_hyphen('K50-K54')"
      ]
    },
    {
      "cell_type": "code",
      "execution_count": 8,
      "metadata": {
        "colab": {
          "base_uri": "https://localhost:8080/",
          "height": 34
        },
        "id": "PbOw59Gglo7L",
        "outputId": "e4b01e28-6873-4a26-abfd-4b44da1fec2f"
      },
      "outputs": [
        {
          "data": {
            "text/plain": [
              "['K50', 'K51', 'K52', 'K53', 'K54']"
            ]
          },
          "execution_count": 8,
          "metadata": {},
          "output_type": "execute_result"
        }
      ],
      "source": [
        "# Leaving out the K in the end code also works\n",
        "expand_hyphen('K50-54')"
      ]
    },
    {
      "cell_type": "code",
      "execution_count": 9,
      "metadata": {
        "colab": {
          "base_uri": "https://localhost:8080/",
          "height": 34
        },
        "id": "hfGXsPFWgbJO",
        "outputId": "74339852-d0b9-45f3-b245-55507d80eb82"
      },
      "outputs": [
        {
          "data": {
            "text/plain": [
              "['K50*', 'K51*', 'K52*', 'K53*', 'K54*']"
            ]
          },
          "execution_count": 9,
          "metadata": {},
          "output_type": "execute_result"
        }
      ],
      "source": [
        "# hyphen-expansion with stars keep the stars\n",
        "expand_hyphen('K50*-K54*')"
      ]
    },
    {
      "cell_type": "code",
      "execution_count": 10,
      "metadata": {
        "colab": {
          "base_uri": "https://localhost:8080/",
          "height": 34
        },
        "id": "23KA1Vhtgb_0",
        "outputId": "89d35306-7566-45f9-8a26-037da613ab55"
      },
      "outputs": [
        {
          "data": {
            "text/plain": [
              "['K50.9', 'K51.0', 'K51.1', 'K51.2']"
            ]
          },
          "execution_count": 10,
          "metadata": {},
          "output_type": "execute_result"
        }
      ],
      "source": [
        "# expansion with decimals also work\n",
        "expand_hyphen('K50.9-K51.2')"
      ]
    },
    {
      "cell_type": "code",
      "execution_count": 11,
      "metadata": {
        "colab": {
          "base_uri": "https://localhost:8080/",
          "height": 34
        },
        "id": "pLt2W73zj0zC",
        "outputId": "4866271c-5f0c-4da0-a805-037ba454da7d"
      },
      "outputs": [
        {
          "data": {
            "text/plain": [
              "['K50.*', 'K51.*', 'K52.*', 'K53.*']"
            ]
          },
          "execution_count": 11,
          "metadata": {},
          "output_type": "execute_result"
        }
      ],
      "source": [
        "# expansion with decimals and stars \n",
        "# (but usually unnecessary to have decimals here)\n",
        "expand_hyphen('K50.*-K53.*')"
      ]
    },
    {
      "cell_type": "code",
      "execution_count": 12,
      "metadata": {
        "colab": {
          "base_uri": "https://localhost:8080/",
          "height": 34
        },
        "id": "ln193YkVpnN3",
        "outputId": "74c953ca-8564-46f0-d669-0bfaa9a15183"
      },
      "outputs": [
        {
          "data": {
            "text/plain": [
              "['K50.8*', 'K50.9*', 'K51.0*', 'K51.1*', 'K51.2*']"
            ]
          },
          "execution_count": 12,
          "metadata": {},
          "output_type": "execute_result"
        }
      ],
      "source": [
        "# decimals and star combined are OK\n",
        "expand_hyphen('K50.8*-K51.2*')"
      ]
    },
    {
      "cell_type": "code",
      "execution_count": 13,
      "metadata": {
        "colab": {
          "base_uri": "https://localhost:8080/",
          "height": 34
        },
        "id": "FLqgN7UiDztV",
        "outputId": "7815ecf0-356a-499d-f06c-ad6a4c9a87c8"
      },
      "outputs": [
        {
          "data": {
            "text/plain": [
              "['K09.8', 'K09.9', 'K10.0', 'K10.1', 'K10.2']"
            ]
          },
          "execution_count": 13,
          "metadata": {},
          "output_type": "execute_result"
        }
      ],
      "source": [
        "# leading zeros \n",
        "expand_hyphen('K09.8-K10.2')"
      ]
    },
    {
      "cell_type": "code",
      "execution_count": 14,
      "metadata": {
        "colab": {
          "base_uri": "https://localhost:8080/",
          "height": 34
        },
        "id": "ES5Jn2gpMiv5",
        "outputId": "70776775-441e-4566-fa2b-7745042649a0"
      },
      "outputs": [
        {
          "data": {
            "text/plain": [
              "['K1.99', 'K2.00', 'K2.01', 'K2.02']"
            ]
          },
          "execution_count": 14,
          "metadata": {},
          "output_type": "execute_result"
        }
      ],
      "source": [
        "# double digit with leading decimal zero\n",
        "expand_hyphen('K1.99-K2.02')"
      ]
    },
    {
      "cell_type": "code",
      "execution_count": 15,
      "metadata": {
        "colab": {
          "base_uri": "https://localhost:8080/",
          "height": 34
        },
        "id": "Zdxq33JnLz0u",
        "outputId": "e0d2afed-78f8-45a1-e47a-9c6944fed1f4"
      },
      "outputs": [
        {
          "data": {
            "text/plain": [
              "['K009.8', 'K009.9', 'K010.0', 'K010.1']"
            ]
          },
          "execution_count": 15,
          "metadata": {},
          "output_type": "execute_result"
        }
      ],
      "source": [
        "# unequal number of main digits with unequal leading zeros\n",
        "# note: Included K010.1, but not K10.1 \n",
        "# (the pattern in the start code always has priority)\n",
        "expand_hyphen('K009.8-K10.1')"
      ]
    },
    {
      "cell_type": "code",
      "execution_count": 16,
      "metadata": {
        "colab": {
          "base_uri": "https://localhost:8080/",
          "height": 34
        },
        "id": "soCk8Y-oVmc5",
        "outputId": "ce1d8202-9596-4b38-a8a2-8c19f35432a3"
      },
      "outputs": [
        {
          "data": {
            "text/plain": [
              "['K01.8', 'K01.9', 'K01.10', 'K01.11', 'K01.12']"
            ]
          },
          "execution_count": 16,
          "metadata": {},
          "output_type": "execute_result"
        }
      ],
      "source": [
        "# special case that works: unequal number of decimals, as long as main digits are the same\n",
        "expand_hyphen('K01.8-K01.12')"
      ]
    },
    {
      "cell_type": "code",
      "execution_count": 17,
      "metadata": {
        "colab": {
          "base_uri": "https://localhost:8080/",
          "height": 34
        },
        "id": "ZYz6TspuE3qw",
        "outputId": "086fcfdb-6bf3-4ed6-923f-a6941ce0e236"
      },
      "outputs": [
        {
          "data": {
            "text/plain": [
              "['K99.8*', 'K99.9*', 'K100.0*', 'K100.1*', 'K100.2*']"
            ]
          },
          "execution_count": 17,
          "metadata": {},
          "output_type": "execute_result"
        }
      ],
      "source": [
        "# different number of leading digits work as expected\n",
        "expand_hyphen('K99.8*-K100.2*')"
      ]
    },
    {
      "cell_type": "markdown",
      "metadata": {
        "id": "uFXjwpeaACNi"
      },
      "source": [
        "The behaviour so far is inuitive, but there are some corner cases that need to be discussed. For instance:\n",
        " \n",
        "    expand_hyphen('K99.1-K100.11')\n",
        "    expand_hyphen('K50.*-K51.2')\n",
        "    expand_hyphen('K50.1-K51.15')\n",
        "    expand_hyphen('K009.8-K10.1')\n",
        "\n",
        "There are several issues here: Differences in the number of leading zeros, different length of the code, mixing notation, and different precision of decimals in the start and end codes. Because of this, there is no way to reliably fill in the intermediate codes in a non-ambigious manner. \n",
        "\n",
        "As an example, consider what codes should be generated if we write 'K50.1-K51.15'? Should the step size be 0.1 or 0.01? If it is 0.01, it would include  K50.20 but not K50.2. There is no inuitive solution and it would make a difference. Remember these are string codes where leading and trailing zeros could be significant for the result.\n",
        "\n"
      ]
    },
    {
      "cell_type": "markdown",
      "metadata": {
        "id": "uBGUBcMIFR31"
      },
      "source": [
        "# dots and zeros\n",
        "\n",
        "Many code systems are schizophrenic when it comes to dots and zeros. Sometimes they are included, sometimes they are not. For instance, the ICD-10 codes officially use decimals (K50.1), but are very often stored in the databases without decimals  (K501). Another example is the DRG codes which sometimes are used with leading zeros (002), but also presented as numbers without leading zeros (2).\n",
        "\n",
        "It helps little to curse the world for being inconsistent, so the best we can do is to create functions that makes it easier to deal with it. Make it consistent by having a function that takes the dots away and delets the leading zeros (and optionally the trailing zeros too):"
      ]
    },
    {
      "cell_type": "code",
      "execution_count": 18,
      "metadata": {
        "id": "ZJNTihADpLB6"
      },
      "outputs": [],
      "source": [
        "def del_dot(code):\n",
        "  if isinstance(code, str):\n",
        "    return code.replace('.','')\n",
        "  else:\n",
        "    codes = [c.replace('.','') for c in code]\n",
        "  return codes\n",
        "\n",
        "def del_zero(code, left=True, right=False):\n",
        "  if isinstance(codes, str):\n",
        "    codes=[code]\n",
        "  if left:\n",
        "    codes = [c.lstrip('0') for c in code]\n",
        "  if right:\n",
        "    codes = [c.rstrip('0') for c in code]\n",
        "  if isinstance(code, str):\n",
        "    codes=codes[0]\n",
        "  return codes"
      ]
    },
    {
      "cell_type": "markdown",
      "metadata": {
        "id": "MXWtNszopK14"
      },
      "source": [
        "# Star notation\n",
        "Expanding codes using star notation is different from hyphens. Hyphens simply insert numbers in increasing order, but star notation requires an external codelist from which we can pick the codes conform with the given string. For instance, 'K50' should include all codes that start with *K50*, but we need the full set of codes to know which codes that start with *K50*. We can get this list in two ways:\n",
        "* Find all unique codes from the codes that exist in the dataframe\n",
        "* Use list of codes from an external codebook\n",
        "\n",
        "Note that there are some small differences between the two approaches. Repeatedly constructing a list of codes from information in columns might be time consuming with large dataframes, and we should be careful to do it in the most efficient manner possible. Also, using the existing codes to define a list of codes, might not identify all possible codes. Instead it will only identify all those codes that have been used in the data. Expansion using 'all codes in my data' as opposed 'all codes in the official codebook' may produce different results. For many purposes we only want a list of those codes that actually exist in the data - and including irrelevant codes would just make things slower. But it is a difference one should be aware of.\n",
        "\n",
        "As soon as we have a list of all possible codes, picking those that start with a given string, is very easy. The hard part is creating that list. \n",
        "\n",
        "We might, however, make the notation slightly more flexible. Instad of only allowing the user to search for everything that starts with a given pattern,  one might allow searching for all codes that end with a given string, for instance everything that ends with **B3*. Even more advanced, one could allow stars in the middle: Searching for codes that start with something and end with something. Finally, if more advanced searches are desired, we could allow expansion based on a regex pattern i.e. include those codes in a codelist that conform to a pattern described by a regex expression. Lastly, there might be codes that actually have stars and hyphens as part of the code itself - in which case we have to be careful not to expand the codes as if the hyphen or star were notational symbols (for instance by introducing a *raw=True* argument to indicate that the codes should not be expanded).\n",
        "\n",
        "These complications will introduce themselves as we progress. For now, we need a function that creates a list of all possible codes by identifying the unique values in one or more columns:\n",
        "\n"
      ]
    },
    {
      "cell_type": "code",
      "execution_count": 19,
      "metadata": {
        "id": "30UCVwHad0Nc"
      },
      "outputs": [],
      "source": [
        "# A function to identify all unique values in one or more columns \n",
        "# with one or multiple codes in each cell\n",
        "\n",
        "import pandas as pd\n",
        "\n",
        "def get_unique(df, cols=None, sep=None, all_str=False):\n",
        "  # if no column(s) are specified, find unique values in whole dataframe\n",
        "  if cols==None:\n",
        "    cols=df.columns\n",
        "  # multiple values with seperator in cells\n",
        "  if sep:\n",
        "    all_unique=set()\n",
        "\n",
        "    for col in cols:\n",
        "      new_unique = set(df[col].str.cat(sep=',').split(','))\n",
        "      all_unique.update(new_unique)\n",
        "  # single valued cells\n",
        "  else:\n",
        "    values = pd.unique(df[cols].values.ravel('K'))\n",
        "  \n",
        "  # if need to make sure all elements are strings without surrounding spaces\n",
        "  if all_str:\n",
        "    values=[str(value).strip() for value in values]\n",
        "\n",
        "  return values"
      ]
    },
    {
      "cell_type": "markdown",
      "metadata": {
        "id": "OTCwojxbXPCt"
      },
      "source": [
        "As long as we have a function to create the list of codes, expanding a code with star notation is a matter of iterating over the full codelist to find codes that start or end (or both) with the specified code string. Once again we create one function for a single code, and another function for when we want a list of codes to be expanded:"
      ]
    },
    {
      "cell_type": "code",
      "execution_count": 21,
      "metadata": {
        "id": "Rb0AiMPhd0Nj"
      },
      "outputs": [],
      "source": [
        "# A function to expand a string with star notation (K50*) \n",
        "# to list of all codes starting with K50\n",
        "\n",
        "@singledispatch\n",
        "def expand_star(code, codelist=None):\n",
        "  \"\"\"\n",
        "  Expand expressions with star notation to a list of all values with the specified pattern\n",
        "  \n",
        "  Args:\n",
        "    expr (str or list): Expression (or list of expressions) to be expanded\n",
        "    codelist (list) : A list of all codes\n",
        "\n",
        "  Examples:\n",
        "    expand_star('K50*', codelist=icd9)\n",
        "    expand_star('K*5', codelist=icd9)\n",
        "    expand_star('*5', codelist=icd9)\n",
        "\n",
        "  \"\"\"\n",
        "  raise ValueError('The argument must be a string or a list')\n",
        "\n",
        "@expand_star.register(str)\n",
        "def _(code, codelist=None): \n",
        "  # return immediately if there is nothing to expand\n",
        "  if '*' not in code:\n",
        "    return [code]\n",
        " \n",
        "  start_str, end_str = code.split('*')\n",
        "\n",
        "  if start_str and end_str:\n",
        "    codes = {code for code in codelist if (code.startswith(start_str) & code.endswith(end_str))}\n",
        "\n",
        "  if start_str:\n",
        "    codes = {code for code in codelist if code.startswith(start_str)}\n",
        "  \n",
        "  if end_str:\n",
        "    codes = {code for code in codelist if code.endswith(end_str)}\n",
        "\n",
        "  return sorted(list(codes))\n",
        "\n",
        "@expand_star.register(list)\n",
        "def _(code, codelist=None):\n",
        "  \n",
        "  expanded=[]\n",
        "  for star_code in code:\n",
        "    new_codes = expand_star(star_code, codelist=codelist)\n",
        "    expanded.extend(new_codes)\n",
        "  \n",
        "  # uniqify in case some overlap\n",
        "  expanded = list(set(expanded))\n",
        "\n",
        "  return sorted(expanded)\n",
        "\n"
      ]
    },
    {
      "cell_type": "markdown",
      "metadata": {
        "id": "tKYb2XVpYMQZ"
      },
      "source": [
        "Before we test this, we might as well create the other funtions since they follow the same pattern. First, a function to expand a code using colons (from a given code, to a given code in a codelist, inclulding all codes in between). Second, a function to include only those codes in a codelist that follow a specified regex pattern. Lastly, we create a function that will handle everything i.e. do all the required expansions regardless of what type it is, and which also work when (relevant) notation is combined. Hyphen and star can be combined, regex and colon notation cannot be combined with anything else:"
      ]
    },
    {
      "cell_type": "markdown",
      "metadata": {
        "id": "4T6rBQZsiwzT"
      },
      "source": [
        "## Colon notation"
      ]
    },
    {
      "cell_type": "markdown",
      "metadata": {
        "id": "2ovJtdJUT6kZ"
      },
      "source": [
        "Hyphen and star notation work fine if the codes are in the same main category (```tumor = 'C77*-C80*'```), but what if you want all codes from, say K40 to L52? In this case we cannot use hyphen or star, and the solution is colon notation. This notation includes all codes (as specified in a list) between two codes (that both must exist in the list). Here is the code:"
      ]
    },
    {
      "cell_type": "code",
      "execution_count": 22,
      "metadata": {
        "id": "KTHKj3y3__kn"
      },
      "outputs": [],
      "source": [
        "# function to get all codes in a list between the specified start and end code \n",
        "# Example: Get all codes between K40:L52\n",
        "\n",
        "@singledispatch\n",
        "def expand_colon(code, codelist=None):\n",
        "  raise ValueError('The argument must be a string or a list')\n",
        "\n",
        "@expand_colon.register(str)\n",
        "def _(code, codelist=None):\n",
        "  \"\"\"\n",
        "  Expand expressions with colon notation to a list of complete code names\n",
        "  code (str or list): Expression (or list of expressions) to be expanded\n",
        "  codelist (list or array) : The list to slice from\n",
        "\n",
        "  Examples\n",
        "    K50:K52\n",
        "    K50.5:K52.19\n",
        "    A3.0:A9.3\n",
        "\n",
        "  Note: This is different from hyphen and star notation because it can handle \n",
        "  different code lengths and different number of decimals \n",
        "\n",
        "  \"\"\"\n",
        "  if ':' not in code:\n",
        "    return [code]\n",
        "  \n",
        "  startstr, endstr = code.split(':')\n",
        "  \n",
        "  # remove spaces\n",
        "  startstr = startstr.strip()\n",
        "  endstr =endstr.strip()\n",
        "\n",
        "  # find start and end position\n",
        "  startpos = codelist.index(startstr)\n",
        "  endpos = codelist.index(endstr) + 1\n",
        "  \n",
        "  # slice list\n",
        "  expanded = codelist[startpos:endpos+1]\n",
        "\n",
        "  return expanded\n",
        "\n",
        "\n",
        "@expand_colon.register(list)\n",
        "def _(code, codelist=None, regex=False): \n",
        "  expanded=[]\n",
        "\n",
        "  for cod in code:\n",
        "    new_codes = expand_colon(cod, codelist=codelist)\n",
        "    expanded.extend(new_codes)\n",
        "  \n",
        "  return expanded\n"
      ]
    },
    {
      "cell_type": "markdown",
      "metadata": {
        "id": "_WwFa6iai3Wq"
      },
      "source": [
        "## Expansion of codes based on regex"
      ]
    },
    {
      "cell_type": "markdown",
      "metadata": {
        "id": "Cd4gPUD_bUks"
      },
      "source": [
        "Notation using hyphen, star, and colon will often be enough to express codes efficiently, but sometimes it may also be useful to have the option of using more complex code expansion. For this purpose we could have a function that picks out all the codes from a codelist based on whether it fits the regex pattern you specify. This would allow almost all kinds of code expansions."
      ]
    },
    {
      "cell_type": "code",
      "execution_count": 23,
      "metadata": {
        "id": "NbPMX0yS4Hmj"
      },
      "outputs": [],
      "source": [
        "\n",
        "# Return all elements in a list that fits a regex pattern\n",
        "\n",
        "@singledispatch\n",
        "def expand_regex(code, codelist):\n",
        "  raise ValueError('The argument must be a string or a list of strings')\n",
        "\n",
        "@expand_regex.register(str)\n",
        "def _(code, codelist=None):\n",
        "  code_regex = re.compile(code)\n",
        "  expanded = {code for code in codelist if code_regex.match(code)}\n",
        "  # uniqify\n",
        "  expanded = list(set(expanded))\n",
        "  return expanded\n",
        "\n",
        "@expand_regex.register(list)\n",
        "def _(code, codelist):  \n",
        "  expanded=[]\n",
        "\n",
        "  for cod in code:\n",
        "    new_codes = expand_regex(cod, codelist=codelist)\n",
        "    expanded.extend(new_codes)\n",
        "  \n",
        "  # uniqify in case some overlap\n",
        "  expanded = sorted(list(set(expanded)))\n",
        "\n",
        "  return expanded"
      ]
    },
    {
      "cell_type": "markdown",
      "metadata": {
        "id": "iNZymQRsi8oW"
      },
      "source": [
        "## A single function that does all the expansion (star, hyphen, colon, regex) and formatting (delete dots and zeros)\n",
        "\n",
        "A list of codes may use a combination of several notations and instead of asking the user to apply all the different functions (hyphen, star, colon), we should have one function that expands and formats the codes regardless of the type of notation, but with an option of ignoring some symbols if you want (in case the star, colon or the hyphen is part of the actual code and not a notational symbol!):"
      ]
    },
    {
      "cell_type": "code",
      "execution_count": 24,
      "metadata": {
        "id": "RpZQsDVgu1hr"
      },
      "outputs": [],
      "source": [
        "@singledispatch\n",
        "def expand_code(code, codelist=None, \n",
        "                hyphen=True, star=True, colon=True, regex=False, \n",
        "                drop_dot=False, drop_leading_zero=False,\n",
        "                sort_unique=True):\n",
        "  raise ValueError('The argument must be a string or a list of strings')\n",
        "\n",
        "@expand_code.register(str)\n",
        "def _(code, codelist=None, \n",
        "      hyphen=True, star=True, colon=True, regex=False, \n",
        "      drop_dot=False, drop_leading_zero=False,\n",
        "      sort_unique=True):\n",
        "  #validating input\n",
        "  if (not regex) and (':' in code) and (('-' in code) or ('*' in code)):\n",
        "    raise ValueError('Notation using colon must start from and end in specific codes, not codes using star or hyphen')\n",
        "\n",
        "  if regex:\n",
        "    codes = expand_regex(code, codelist=codelist)\n",
        "    return codes\n",
        "  \n",
        "  if drop_dot:\n",
        "    code = del_dot(code)\n",
        "  \n",
        "  codes=[code]\n",
        "\n",
        "  if hyphen:\n",
        "    codes=expand_hyphen(code)\n",
        "  if star:\n",
        "    codes=expand_star(codes, codelist=codelist)\n",
        "  if colon:\n",
        "    codes=expand_colon(codes, codelist=codelist)\n",
        "\n",
        "  if sort_unique:\n",
        "    codes = sorted(list(set(codes)))\n",
        "\n",
        "  return codes\n",
        "\n",
        "@expand_code.register(list)\n",
        "def _(code, codelist=None, hyphen=True, star=True, colon=True, regex=False, \n",
        "      drop_dot=False, drop_leading_zero=False,\n",
        "      sort_unique=True):\n",
        "  \n",
        "  expanded=[]\n",
        "\n",
        "  for cod in code:\n",
        "    new_codes = expand_code(cod, codelist=codelist, hyphen=hyphen, star=star, colon=colon, regex=regex, drop_dot=drop_dot, drop_leading_zero=drop_leading_zero)\n",
        "    expanded.extend(new_codes)\n",
        "  \n",
        "  # uniqify in case some overlap\n",
        "  expanded = list(set(expanded))\n",
        "\n",
        "  return sorted(expanded)\n",
        "\n"
      ]
    },
    {
      "cell_type": "markdown",
      "metadata": {
        "id": "3kN7yEOqjm3V"
      },
      "source": [
        "## Get some data to test the functions and calculate Charlson index"
      ]
    },
    {
      "cell_type": "markdown",
      "metadata": {
        "id": "fUwhTeAnzD6q"
      },
      "source": [
        "To test the functions and to calculate the Charslon index we need some data. Here we will use data on hospital visits from Medicare: \n"
      ]
    },
    {
      "cell_type": "code",
      "execution_count": 25,
      "metadata": {
        "id": "3N_2p7tLShTi"
      },
      "outputs": [],
      "source": [
        "# Use pandas\n",
        "import pandas as pd"
      ]
    },
    {
      "cell_type": "code",
      "execution_count": 26,
      "metadata": {
        "id": "q_jPK3K_0Vzu"
      },
      "outputs": [],
      "source": [
        "# Read synthetic medicare sample data on inpatient hospital stays\n",
        "path = 'https://www.cms.gov/Research-Statistics-Data-and-Systems/Downloadable-Public-Use-Files/SynPUFs/Downloads/'\n",
        "inpatient_file = 'DE1_0_2008_to_2010_Inpatient_Claims_Sample_1.zip'\n",
        "\n",
        "inpatient = pd.read_csv(path+inpatient_file)\n",
        "\n",
        "inpatient.columns = inpatient.columns.str.lower()\n",
        "# easier to use a column called 'pid' than 'desynpuf_id'\n",
        "inpatient['pid']=inpatient['desynpuf_id']\n",
        "\n",
        "#set index to the personal id, but also keep id as a column\n",
        "inpatient = inpatient.set_index('pid', drop=False)\n",
        "inpatient.index.name='pid_index'\n"
      ]
    },
    {
      "cell_type": "code",
      "execution_count": 27,
      "metadata": {
        "colab": {
          "base_uri": "https://localhost:8080/",
          "height": 280
        },
        "id": "GY1LiGNUShT8",
        "outputId": "009b3614-e0b8-40e3-8aff-032e92168c67"
      },
      "outputs": [
        {
          "data": {
            "text/html": [
              "<div>\n",
              "<style scoped>\n",
              "    .dataframe tbody tr th:only-of-type {\n",
              "        vertical-align: middle;\n",
              "    }\n",
              "\n",
              "    .dataframe tbody tr th {\n",
              "        vertical-align: top;\n",
              "    }\n",
              "\n",
              "    .dataframe thead th {\n",
              "        text-align: right;\n",
              "    }\n",
              "</style>\n",
              "<table border=\"1\" class=\"dataframe\">\n",
              "  <thead>\n",
              "    <tr style=\"text-align: right;\">\n",
              "      <th></th>\n",
              "      <th>desynpuf_id</th>\n",
              "      <th>clm_id</th>\n",
              "      <th>segment</th>\n",
              "      <th>clm_from_dt</th>\n",
              "      <th>clm_thru_dt</th>\n",
              "      <th>prvdr_num</th>\n",
              "      <th>clm_pmt_amt</th>\n",
              "      <th>nch_prmry_pyr_clm_pd_amt</th>\n",
              "      <th>at_physn_npi</th>\n",
              "      <th>op_physn_npi</th>\n",
              "      <th>...</th>\n",
              "      <th>hcpcs_cd_37</th>\n",
              "      <th>hcpcs_cd_38</th>\n",
              "      <th>hcpcs_cd_39</th>\n",
              "      <th>hcpcs_cd_40</th>\n",
              "      <th>hcpcs_cd_41</th>\n",
              "      <th>hcpcs_cd_42</th>\n",
              "      <th>hcpcs_cd_43</th>\n",
              "      <th>hcpcs_cd_44</th>\n",
              "      <th>hcpcs_cd_45</th>\n",
              "      <th>pid</th>\n",
              "    </tr>\n",
              "    <tr>\n",
              "      <th>pid_index</th>\n",
              "      <th></th>\n",
              "      <th></th>\n",
              "      <th></th>\n",
              "      <th></th>\n",
              "      <th></th>\n",
              "      <th></th>\n",
              "      <th></th>\n",
              "      <th></th>\n",
              "      <th></th>\n",
              "      <th></th>\n",
              "      <th></th>\n",
              "      <th></th>\n",
              "      <th></th>\n",
              "      <th></th>\n",
              "      <th></th>\n",
              "      <th></th>\n",
              "      <th></th>\n",
              "      <th></th>\n",
              "      <th></th>\n",
              "      <th></th>\n",
              "      <th></th>\n",
              "    </tr>\n",
              "  </thead>\n",
              "  <tbody>\n",
              "    <tr>\n",
              "      <th>00013D2EFD8E45D1</th>\n",
              "      <td>00013D2EFD8E45D1</td>\n",
              "      <td>196661176988405</td>\n",
              "      <td>1</td>\n",
              "      <td>20100312.0</td>\n",
              "      <td>20100313.0</td>\n",
              "      <td>2600GD</td>\n",
              "      <td>4000.0</td>\n",
              "      <td>0.0</td>\n",
              "      <td>3.139084e+09</td>\n",
              "      <td>NaN</td>\n",
              "      <td>...</td>\n",
              "      <td>NaN</td>\n",
              "      <td>NaN</td>\n",
              "      <td>NaN</td>\n",
              "      <td>NaN</td>\n",
              "      <td>NaN</td>\n",
              "      <td>NaN</td>\n",
              "      <td>NaN</td>\n",
              "      <td>NaN</td>\n",
              "      <td>NaN</td>\n",
              "      <td>00013D2EFD8E45D1</td>\n",
              "    </tr>\n",
              "    <tr>\n",
              "      <th>00016F745862898F</th>\n",
              "      <td>00016F745862898F</td>\n",
              "      <td>196201177000368</td>\n",
              "      <td>1</td>\n",
              "      <td>20090412.0</td>\n",
              "      <td>20090418.0</td>\n",
              "      <td>3900MB</td>\n",
              "      <td>26000.0</td>\n",
              "      <td>0.0</td>\n",
              "      <td>6.476809e+09</td>\n",
              "      <td>NaN</td>\n",
              "      <td>...</td>\n",
              "      <td>NaN</td>\n",
              "      <td>NaN</td>\n",
              "      <td>NaN</td>\n",
              "      <td>NaN</td>\n",
              "      <td>NaN</td>\n",
              "      <td>NaN</td>\n",
              "      <td>NaN</td>\n",
              "      <td>NaN</td>\n",
              "      <td>NaN</td>\n",
              "      <td>00016F745862898F</td>\n",
              "    </tr>\n",
              "    <tr>\n",
              "      <th>00016F745862898F</th>\n",
              "      <td>00016F745862898F</td>\n",
              "      <td>196661177015632</td>\n",
              "      <td>1</td>\n",
              "      <td>20090831.0</td>\n",
              "      <td>20090902.0</td>\n",
              "      <td>3900HM</td>\n",
              "      <td>5000.0</td>\n",
              "      <td>0.0</td>\n",
              "      <td>6.119985e+08</td>\n",
              "      <td>6.119985e+08</td>\n",
              "      <td>...</td>\n",
              "      <td>NaN</td>\n",
              "      <td>NaN</td>\n",
              "      <td>NaN</td>\n",
              "      <td>NaN</td>\n",
              "      <td>NaN</td>\n",
              "      <td>NaN</td>\n",
              "      <td>NaN</td>\n",
              "      <td>NaN</td>\n",
              "      <td>NaN</td>\n",
              "      <td>00016F745862898F</td>\n",
              "    </tr>\n",
              "    <tr>\n",
              "      <th>00016F745862898F</th>\n",
              "      <td>00016F745862898F</td>\n",
              "      <td>196091176981058</td>\n",
              "      <td>1</td>\n",
              "      <td>20090917.0</td>\n",
              "      <td>20090920.0</td>\n",
              "      <td>3913XU</td>\n",
              "      <td>5000.0</td>\n",
              "      <td>0.0</td>\n",
              "      <td>4.971603e+09</td>\n",
              "      <td>NaN</td>\n",
              "      <td>...</td>\n",
              "      <td>NaN</td>\n",
              "      <td>NaN</td>\n",
              "      <td>NaN</td>\n",
              "      <td>NaN</td>\n",
              "      <td>NaN</td>\n",
              "      <td>NaN</td>\n",
              "      <td>NaN</td>\n",
              "      <td>NaN</td>\n",
              "      <td>NaN</td>\n",
              "      <td>00016F745862898F</td>\n",
              "    </tr>\n",
              "    <tr>\n",
              "      <th>00016F745862898F</th>\n",
              "      <td>00016F745862898F</td>\n",
              "      <td>196261176983265</td>\n",
              "      <td>1</td>\n",
              "      <td>20100626.0</td>\n",
              "      <td>20100701.0</td>\n",
              "      <td>3900MB</td>\n",
              "      <td>16000.0</td>\n",
              "      <td>0.0</td>\n",
              "      <td>6.408400e+09</td>\n",
              "      <td>1.960860e+09</td>\n",
              "      <td>...</td>\n",
              "      <td>NaN</td>\n",
              "      <td>NaN</td>\n",
              "      <td>NaN</td>\n",
              "      <td>NaN</td>\n",
              "      <td>NaN</td>\n",
              "      <td>NaN</td>\n",
              "      <td>NaN</td>\n",
              "      <td>NaN</td>\n",
              "      <td>NaN</td>\n",
              "      <td>00016F745862898F</td>\n",
              "    </tr>\n",
              "  </tbody>\n",
              "</table>\n",
              "<p>5 rows × 82 columns</p>\n",
              "</div>"
            ],
            "text/plain": [
              "                       desynpuf_id           clm_id  segment  clm_from_dt  \\\n",
              "pid_index                                                                   \n",
              "00013D2EFD8E45D1  00013D2EFD8E45D1  196661176988405        1   20100312.0   \n",
              "00016F745862898F  00016F745862898F  196201177000368        1   20090412.0   \n",
              "00016F745862898F  00016F745862898F  196661177015632        1   20090831.0   \n",
              "00016F745862898F  00016F745862898F  196091176981058        1   20090917.0   \n",
              "00016F745862898F  00016F745862898F  196261176983265        1   20100626.0   \n",
              "\n",
              "                  clm_thru_dt prvdr_num  clm_pmt_amt  \\\n",
              "pid_index                                              \n",
              "00013D2EFD8E45D1   20100313.0    2600GD       4000.0   \n",
              "00016F745862898F   20090418.0    3900MB      26000.0   \n",
              "00016F745862898F   20090902.0    3900HM       5000.0   \n",
              "00016F745862898F   20090920.0    3913XU       5000.0   \n",
              "00016F745862898F   20100701.0    3900MB      16000.0   \n",
              "\n",
              "                  nch_prmry_pyr_clm_pd_amt  at_physn_npi  op_physn_npi  ...  \\\n",
              "pid_index                                                               ...   \n",
              "00013D2EFD8E45D1                       0.0  3.139084e+09           NaN  ...   \n",
              "00016F745862898F                       0.0  6.476809e+09           NaN  ...   \n",
              "00016F745862898F                       0.0  6.119985e+08  6.119985e+08  ...   \n",
              "00016F745862898F                       0.0  4.971603e+09           NaN  ...   \n",
              "00016F745862898F                       0.0  6.408400e+09  1.960860e+09  ...   \n",
              "\n",
              "                  hcpcs_cd_37  hcpcs_cd_38 hcpcs_cd_39  hcpcs_cd_40  \\\n",
              "pid_index                                                             \n",
              "00013D2EFD8E45D1          NaN          NaN         NaN          NaN   \n",
              "00016F745862898F          NaN          NaN         NaN          NaN   \n",
              "00016F745862898F          NaN          NaN         NaN          NaN   \n",
              "00016F745862898F          NaN          NaN         NaN          NaN   \n",
              "00016F745862898F          NaN          NaN         NaN          NaN   \n",
              "\n",
              "                  hcpcs_cd_41  hcpcs_cd_42  hcpcs_cd_43  hcpcs_cd_44  \\\n",
              "pid_index                                                              \n",
              "00013D2EFD8E45D1          NaN          NaN          NaN          NaN   \n",
              "00016F745862898F          NaN          NaN          NaN          NaN   \n",
              "00016F745862898F          NaN          NaN          NaN          NaN   \n",
              "00016F745862898F          NaN          NaN          NaN          NaN   \n",
              "00016F745862898F          NaN          NaN          NaN          NaN   \n",
              "\n",
              "                  hcpcs_cd_45               pid  \n",
              "pid_index                                        \n",
              "00013D2EFD8E45D1          NaN  00013D2EFD8E45D1  \n",
              "00016F745862898F          NaN  00016F745862898F  \n",
              "00016F745862898F          NaN  00016F745862898F  \n",
              "00016F745862898F          NaN  00016F745862898F  \n",
              "00016F745862898F          NaN  00016F745862898F  \n",
              "\n",
              "[5 rows x 82 columns]"
            ]
          },
          "execution_count": 27,
          "metadata": {},
          "output_type": "execute_result"
        }
      ],
      "source": [
        "# Have a look\n",
        "inpatient.head()"
      ]
    },
    {
      "cell_type": "code",
      "execution_count": 28,
      "metadata": {
        "colab": {
          "base_uri": "https://localhost:8080/",
          "height": 195
        },
        "id": "MxQSMPBZMYXe",
        "outputId": "249c3f50-3294-41b4-dc8d-1f2a71153dad"
      },
      "outputs": [
        {
          "data": {
            "text/plain": [
              "['icd9_dgns_cd_1',\n",
              " 'icd9_dgns_cd_2',\n",
              " 'icd9_dgns_cd_3',\n",
              " 'icd9_dgns_cd_4',\n",
              " 'icd9_dgns_cd_5',\n",
              " 'icd9_dgns_cd_6',\n",
              " 'icd9_dgns_cd_7',\n",
              " 'icd9_dgns_cd_8',\n",
              " 'icd9_dgns_cd_9',\n",
              " 'icd9_dgns_cd_10']"
            ]
          },
          "execution_count": 28,
          "metadata": {},
          "output_type": "execute_result"
        }
      ],
      "source": [
        "# make a list of columns with information about diagnostic codes\n",
        "icd_cols = list(inpatient.columns[inpatient.columns.str.startswith('icd9_dgns_cd')])\n",
        "icd_cols"
      ]
    },
    {
      "cell_type": "markdown",
      "metadata": {
        "id": "c23WbohBbO4R"
      },
      "source": [
        "Make a list of all unique ICD9 codes that exist, a codelist:"
      ]
    },
    {
      "cell_type": "code",
      "execution_count": 30,
      "metadata": {
        "id": "x-kLY3dNzfRZ"
      },
      "outputs": [],
      "source": [
        "icd9 = get_unique(df=inpatient, cols = icd_cols, all_str=True)"
      ]
    },
    {
      "cell_type": "markdown",
      "metadata": {
        "id": "w4S2fZoyyGdB"
      },
      "source": [
        "## Try out some of the functions"
      ]
    },
    {
      "cell_type": "code",
      "execution_count": 31,
      "metadata": {
        "colab": {
          "base_uri": "https://localhost:8080/",
          "height": 286
        },
        "id": "bBL7tLfSqQIe",
        "outputId": "e52d5172-2e35-4183-c598-7a177d57e841"
      },
      "outputs": [
        {
          "data": {
            "text/plain": [
              "['490*',\n",
              " '491*',\n",
              " '492*',\n",
              " '493*',\n",
              " '494*',\n",
              " '495*',\n",
              " '496*',\n",
              " '497*',\n",
              " '498*',\n",
              " '499*',\n",
              " '500*',\n",
              " '501*',\n",
              " '502*',\n",
              " '503*',\n",
              " '504*',\n",
              " '505*']"
            ]
          },
          "execution_count": 31,
          "metadata": {},
          "output_type": "execute_result"
        }
      ],
      "source": [
        "pulmonary = expand_hyphen('490*-505*')\n",
        "pulmonary "
      ]
    },
    {
      "cell_type": "code",
      "execution_count": 32,
      "metadata": {
        "colab": {
          "base_uri": "https://localhost:8080/",
          "height": 187
        },
        "id": "qkntWD_FqbWJ",
        "outputId": "3f4f6276-3208-4e00-a8cd-8faf56bb1ace"
      },
      "outputs": [
        {
          "data": {
            "text/plain": [
              "['40400',\n",
              " '40401',\n",
              " '40402',\n",
              " '40403',\n",
              " '40411',\n",
              " '40412',\n",
              " '40490',\n",
              " '40491',\n",
              " '40492',\n",
              " '40493']"
            ]
          },
          "execution_count": 32,
          "metadata": {},
          "output_type": "execute_result"
        }
      ],
      "source": [
        "expand_star('404*', codelist=icd9)"
      ]
    },
    {
      "cell_type": "code",
      "execution_count": 33,
      "metadata": {
        "colab": {
          "base_uri": "https://localhost:8080/",
          "height": 544
        },
        "id": "q35JF_xaqbIh",
        "outputId": "ee7f335b-726e-479b-a915-875e25d0add6"
      },
      "outputs": [
        {
          "data": {
            "text/plain": [
              "['490',\n",
              " '4910',\n",
              " '4911',\n",
              " '49120',\n",
              " '49121',\n",
              " '49122',\n",
              " '4918',\n",
              " '4919',\n",
              " '4920',\n",
              " '4928',\n",
              " '49300',\n",
              " '49301',\n",
              " '49302',\n",
              " '49310',\n",
              " '49312',\n",
              " '49320',\n",
              " '49321',\n",
              " '49322',\n",
              " '49382',\n",
              " '49390',\n",
              " '49391',\n",
              " '49392',\n",
              " '4940',\n",
              " '4941',\n",
              " '4950',\n",
              " '4957',\n",
              " '4959',\n",
              " '496',\n",
              " '500',\n",
              " '501',\n",
              " '502']"
            ]
          },
          "execution_count": 33,
          "metadata": {},
          "output_type": "execute_result"
        }
      ],
      "source": [
        "expand_star(pulmonary, codelist=icd9)"
      ]
    },
    {
      "cell_type": "code",
      "execution_count": 34,
      "metadata": {
        "colab": {
          "base_uri": "https://localhost:8080/",
          "height": 307
        },
        "id": "9zEiTwqPq5d5",
        "outputId": "6906324f-fbdc-4f53-9a18-c1403326ef8c"
      },
      "outputs": [
        {
          "ename": "ValueError",
          "evalue": "'505' is not in list",
          "output_type": "error",
          "traceback": [
            "\u001b[0;31m---------------------------------------------------------------------------\u001b[0m",
            "\u001b[0;31mValueError\u001b[0m                                Traceback (most recent call last)",
            "Cell \u001b[0;32mIn[34], line 2\u001b[0m\n\u001b[1;32m      1\u001b[0m \u001b[38;5;66;03m# Error, on purpose!\u001b[39;00m\n\u001b[0;32m----> 2\u001b[0m \u001b[43mexpand_colon\u001b[49m\u001b[43m(\u001b[49m\u001b[38;5;124;43m'\u001b[39;49m\u001b[38;5;124;43m490:505\u001b[39;49m\u001b[38;5;124;43m'\u001b[39;49m\u001b[43m,\u001b[49m\u001b[43m \u001b[49m\u001b[43mcodelist\u001b[49m\u001b[38;5;241;43m=\u001b[39;49m\u001b[43micd9\u001b[49m\u001b[43m)\u001b[49m \n",
            "File \u001b[0;32m~/.python/current/lib/python3.10/functools.py:889\u001b[0m, in \u001b[0;36msingledispatch.<locals>.wrapper\u001b[0;34m(*args, **kw)\u001b[0m\n\u001b[1;32m    885\u001b[0m \u001b[38;5;28;01mif\u001b[39;00m \u001b[38;5;129;01mnot\u001b[39;00m args:\n\u001b[1;32m    886\u001b[0m     \u001b[38;5;28;01mraise\u001b[39;00m \u001b[38;5;167;01mTypeError\u001b[39;00m(\u001b[38;5;124mf\u001b[39m\u001b[38;5;124m'\u001b[39m\u001b[38;5;132;01m{\u001b[39;00mfuncname\u001b[38;5;132;01m}\u001b[39;00m\u001b[38;5;124m requires at least \u001b[39m\u001b[38;5;124m'\u001b[39m\n\u001b[1;32m    887\u001b[0m                     \u001b[38;5;124m'\u001b[39m\u001b[38;5;124m1 positional argument\u001b[39m\u001b[38;5;124m'\u001b[39m)\n\u001b[0;32m--> 889\u001b[0m \u001b[38;5;28;01mreturn\u001b[39;00m \u001b[43mdispatch\u001b[49m\u001b[43m(\u001b[49m\u001b[43margs\u001b[49m\u001b[43m[\u001b[49m\u001b[38;5;241;43m0\u001b[39;49m\u001b[43m]\u001b[49m\u001b[38;5;241;43m.\u001b[39;49m\u001b[38;5;18;43m__class__\u001b[39;49m\u001b[43m)\u001b[49m\u001b[43m(\u001b[49m\u001b[38;5;241;43m*\u001b[39;49m\u001b[43margs\u001b[49m\u001b[43m,\u001b[49m\u001b[43m \u001b[49m\u001b[38;5;241;43m*\u001b[39;49m\u001b[38;5;241;43m*\u001b[39;49m\u001b[43mkw\u001b[49m\u001b[43m)\u001b[49m\n",
            "Cell \u001b[0;32mIn[22], line 35\u001b[0m, in \u001b[0;36m_\u001b[0;34m(code, codelist)\u001b[0m\n\u001b[1;32m     33\u001b[0m \u001b[38;5;66;03m# find start and end position\u001b[39;00m\n\u001b[1;32m     34\u001b[0m startpos \u001b[38;5;241m=\u001b[39m codelist\u001b[38;5;241m.\u001b[39mindex(startstr)\n\u001b[0;32m---> 35\u001b[0m endpos \u001b[38;5;241m=\u001b[39m \u001b[43mcodelist\u001b[49m\u001b[38;5;241;43m.\u001b[39;49m\u001b[43mindex\u001b[49m\u001b[43m(\u001b[49m\u001b[43mendstr\u001b[49m\u001b[43m)\u001b[49m \u001b[38;5;241m+\u001b[39m \u001b[38;5;241m1\u001b[39m\n\u001b[1;32m     37\u001b[0m \u001b[38;5;66;03m# slice list\u001b[39;00m\n\u001b[1;32m     38\u001b[0m expanded \u001b[38;5;241m=\u001b[39m codelist[startpos:endpos\u001b[38;5;241m+\u001b[39m\u001b[38;5;241m1\u001b[39m]\n",
            "\u001b[0;31mValueError\u001b[0m: '505' is not in list"
          ]
        }
      ],
      "source": [
        "# Error, on purpose!\n",
        "expand_colon('490:505', codelist=icd9) "
      ]
    },
    {
      "cell_type": "code",
      "execution_count": 35,
      "metadata": {
        "colab": {
          "base_uri": "https://localhost:8080/",
          "height": 561
        },
        "id": "2lvNvMta4TjV",
        "outputId": "f454a502-c052-474a-879e-829374b09c5b"
      },
      "outputs": [
        {
          "data": {
            "text/plain": [
              "['490',\n",
              " '4910',\n",
              " '4911',\n",
              " '49120',\n",
              " '49121',\n",
              " '49122',\n",
              " '4918',\n",
              " '4919',\n",
              " '4920',\n",
              " '4928',\n",
              " '49300',\n",
              " '49301',\n",
              " '49302',\n",
              " '49310',\n",
              " '49312',\n",
              " '49320',\n",
              " '49321',\n",
              " '49322',\n",
              " '49382',\n",
              " '49390',\n",
              " '49391',\n",
              " '49392',\n",
              " '4940',\n",
              " '4941',\n",
              " '4950',\n",
              " '4957',\n",
              " '4959',\n",
              " '496',\n",
              " '500',\n",
              " '501',\n",
              " '502',\n",
              " '5060']"
            ]
          },
          "execution_count": 35,
          "metadata": {},
          "output_type": "execute_result"
        }
      ],
      "source": [
        "expand_colon('490:502', codelist=sorted(icd9)) "
      ]
    },
    {
      "cell_type": "markdown",
      "metadata": {
        "id": "vc6wNkuQjSjk"
      },
      "source": [
        "# Back to the future of Charlson calculations"
      ]
    },
    {
      "cell_type": "markdown",
      "metadata": {
        "id": "uadMSSRURJFG"
      },
      "source": [
        "Armed with notation it is still quite a task, but a much easier task, to describe the diagnoses and codes that make up the Charlsons Comorbidity Index:"
      ]
    },
    {
      "cell_type": "code",
      "execution_count": 36,
      "metadata": {
        "id": "y2ObFcg_tlMV"
      },
      "outputs": [],
      "source": [
        "# Codes to calculate CCI using ICD-9 (CM, US, Enhanced)\n",
        "# Source: http://mchp-appserv.cpe.umanitoba.ca/concept/Charlson%20Comorbidities%20-%20Coding%20Algorithms%20for%20ICD-9-CM%20and%20ICD-10.pdf\n",
        "\n",
        "infarction = '''\n",
        "      410* \n",
        "      412*\n",
        "      '''\n",
        "\n",
        "heart_failure = '''\n",
        "        390.91 \n",
        "        402.21 402.11 402.91 \n",
        "        404.01 404.03 404.11 404.13 404.91 404.93 \n",
        "        425.4-425.9 \n",
        "        428*\n",
        "        '''\n",
        "\n",
        "peripheral_vascular = '''\n",
        "        093.0\n",
        "        437.3\n",
        "        440*\n",
        "        441*\n",
        "        443.1-443.9\n",
        "        447.1\n",
        "        557.1 557.9\n",
        "        V43.4\n",
        "        '''\n",
        "\n",
        "cerebrovascular = '''\n",
        "        362.34\n",
        "        430*-438*\n",
        "        '''\n",
        "dementia = '''\n",
        "        290*\n",
        "        294.1\n",
        "        331.2\n",
        "        '''\n",
        "\n",
        "pulmonary ='''\n",
        "      416.8 416.9\n",
        "      490*-505* \n",
        "      506.4\n",
        "      508.1 508.8\n",
        "      '''\n",
        "rheumatic = '''\n",
        "      446.5\n",
        "      710.0-710.4\n",
        "      714.0-714.2 714.8\n",
        "      725*\n",
        "      '''\n",
        "\n",
        "peptic_ulcer = '531*-534*'\n",
        "\n",
        "liver_mild ='''\n",
        "      070.22\n",
        "      070.23\n",
        "      070.32\n",
        "      070.33\n",
        "      070.44\n",
        "      070.54\n",
        "      070.6\n",
        "      070.9\n",
        "      570.*\n",
        "      571.*\n",
        "      573.3 573.4 573.8 573.9\n",
        "      V42.7\n",
        "      '''\n",
        "# Interesting, diabetes seems to be 5 digits long in the data, but not the specified codes\n",
        "diabetes_without_complication = '250.0*-250.3* 250.8* 250.9*'\n",
        "\n",
        "diabetes_with_complication = '250.4*-250.7*'\n",
        "\n",
        "plegia = '''\n",
        "    334.1\n",
        "    342.*\n",
        "    343.*\n",
        "    344.0-344.6\n",
        "    344.9\n",
        "    '''\n",
        "\n",
        "renal = '''\n",
        "    403.01 403.11,403.91 \n",
        "    404.02 404.03 404.12 404.13 404.92 404.93\n",
        "    582.*  \n",
        "    583.0-583.7\n",
        "    585*\n",
        "    586*\n",
        "    588.0\n",
        "    V42.0\n",
        "    V45.1\n",
        "    V56*\n",
        "    '''\n",
        "\n",
        "malignancy = '''\n",
        "    140*-172*\n",
        "    174.0-195.8\n",
        "    200*-208*\n",
        "    238.6\n",
        "    '''\n",
        "\n",
        "liver_not_mild = '''\n",
        "    456.0-456.2\n",
        "    572.2-572.8\n",
        "    '''\n",
        "\n",
        "tumor = '196*-199*'\n",
        "\n",
        "hiv = '042*-044*'"
      ]
    },
    {
      "cell_type": "markdown",
      "metadata": {
        "id": "Lbo8b7wixGH7"
      },
      "source": [
        "Put all the strings that describe the codes for the comorbitities in a single datastructure:"
      ]
    },
    {
      "cell_type": "code",
      "execution_count": 37,
      "metadata": {
        "id": "mslB-ZEuxjnm"
      },
      "outputs": [],
      "source": [
        "# A dictionary with names of cormobitities and the associated medical codes\n",
        "\n",
        "code_string = { 'infarction' : infarction, \n",
        "               'heart_failure' : heart_failure, \n",
        "               'peripheral_vascular' : peripheral_vascular, \n",
        "               'cerebrovascular' : cerebrovascular, \n",
        "               'dementia' : dementia, \n",
        "               'pulmonary' : pulmonary, \n",
        "               'rheumatic' : rheumatic, \n",
        "               'peptic_ulcer' : peptic_ulcer, \n",
        "               'liver_mild' : liver_mild, \n",
        "               'diabetes_without_complication' : diabetes_without_complication, \n",
        "               'diabetes_with_complication' : diabetes_with_complication, \n",
        "               'plegia' : plegia, \n",
        "               'renal' : renal, \n",
        "               'malignancy' : malignancy, \n",
        "               'liver_not_mild' : liver_not_mild, \n",
        "               'tumor' : tumor, \n",
        "               'hiv' : hiv}"
      ]
    },
    {
      "cell_type": "markdown",
      "metadata": {
        "id": "ctiAl4mHbve-"
      },
      "source": [
        "Having created a codelist, we can use the functions we have created to expand the description for all the different comorbidities to include all the specific codes:"
      ]
    },
    {
      "cell_type": "code",
      "execution_count": 38,
      "metadata": {
        "id": "l_YMP5Ukbwrv"
      },
      "outputs": [],
      "source": [
        "codes = {disease : expand_code(codes.split(), \n",
        "                               codelist=icd9,\n",
        "                               drop_dot=True,\n",
        "                               drop_leading_zero=True) \n",
        "        for disease, codes in code_string.items()}"
      ]
    },
    {
      "cell_type": "markdown",
      "metadata": {
        "id": "mqLowQI6z9U-"
      },
      "source": [
        "And we can check if it really expanded the codes, for instance by examining the codes for mild liver disease:"
      ]
    },
    {
      "cell_type": "code",
      "execution_count": 39,
      "metadata": {
        "colab": {
          "base_uri": "https://localhost:8080/",
          "height": 437
        },
        "id": "POf4RSz0u20L",
        "outputId": "17c90354-f24d-4e43-f091-213e3cbddc32"
      },
      "outputs": [
        {
          "data": {
            "text/plain": [
              "['07022',\n",
              " '07023',\n",
              " '07032',\n",
              " '07033',\n",
              " '07044',\n",
              " '07054',\n",
              " '0706',\n",
              " '0709',\n",
              " '570',\n",
              " '5710',\n",
              " '5711',\n",
              " '5712',\n",
              " '5713',\n",
              " '57140',\n",
              " '57142',\n",
              " '57149',\n",
              " '5715',\n",
              " '5716',\n",
              " '5718',\n",
              " '5719',\n",
              " '5733',\n",
              " '5734',\n",
              " '5738',\n",
              " '5739',\n",
              " 'V427']"
            ]
          },
          "execution_count": 39,
          "metadata": {},
          "output_type": "execute_result"
        }
      ],
      "source": [
        "codes['liver_mild']"
      ]
    },
    {
      "cell_type": "markdown",
      "metadata": {
        "id": "YXrRqq6xrkHP"
      },
      "source": [
        "In order to do the calculations, we need the weights associated with each comorbidity. These weights are related to the predictive power of the comorbididy for the probability of dying in a given time period. There are a few different standards, but with relatively minor variations. Here we use the following:\n"
      ]
    },
    {
      "cell_type": "code",
      "execution_count": 40,
      "metadata": {
        "id": "7EKmvFTdx8qT"
      },
      "outputs": [],
      "source": [
        "charlson_points = { 'infarction': 1, \n",
        "                   'heart_failure': 1, \n",
        "                   'peripheral_vascular': 1, \n",
        "                   'cerebrovascular': 1, \n",
        "                   'dementia': 1, \n",
        "                   'pulmonary': 1, \n",
        "                   'rheumatic': 1, \n",
        "                   'peptic_ulcer': 1, \n",
        "                   'liver_mild': 1, \n",
        "                   'diabetes_without_complication': 1, \n",
        "                   'diabetes_with_complication': 2, \n",
        "                   'plegia': 2, \n",
        "                   'renal': 2, \n",
        "                   'malignancy': 2, \n",
        "                   'liver_not_mild': 3, \n",
        "                   'tumor': 6, \n",
        "                   'hiv': 6}\n"
      ]
    },
    {
      "cell_type": "markdown",
      "metadata": {
        "id": "wghaUi_Fj2SS"
      },
      "source": [
        "We also need the function that takes a set of codes and identifies the rows and persons who have the codes (a function we developed in a previous notebook):"
      ]
    },
    {
      "cell_type": "code",
      "execution_count": 41,
      "metadata": {
        "id": "sqIDq3lEiGsL"
      },
      "outputs": [],
      "source": [
        "# mark rows that contain certain codes in one or more colums\n",
        "def get_rows(df, codes, cols=None, sep=None, pid='pid'):\n",
        "  \"\"\"\n",
        "  Make a boolean series that is true for all rows that contain the codes\n",
        "  \n",
        "  Args\n",
        "    df (dataframe or series): The dataframe with codes\n",
        "    codes (str, list, set, dict): codes to be counted\n",
        "    cols (str or list): list of columns to search in\n",
        "    sep (str): The symbol that seperates the codes if there are multiple codes in a cell\n",
        "    pid (str): The name of the column with the personal identifier\n",
        "\n",
        "  \"\"\"\n",
        "    \n",
        "  # string as input for single codes is allowed\n",
        "  # but then must make it a list\n",
        "  if isinstance(codes, str):\n",
        "    codes = [codes]\n",
        "  \n",
        "  # same for cols\n",
        "  # must be a list sine we may loop over it\n",
        "  if not isinstance(cols, list):\n",
        "    cols = [cols]\n",
        "  \n",
        "  # approach depends on whether we have multi-value cells or not\n",
        "  # if sep exist, then have multi-value cells\n",
        "  if sep:\n",
        "    # have multi-valued cells\n",
        "    codes = [rf'\\b{code}\\b' for code in codes]\n",
        "    codes_regex = '|'.join(codes)\n",
        "    \n",
        "    # starting point: no codes have been found\n",
        "    # needed since otherwise the function might return None if no codes exist\n",
        "    rows = pd.Series(False*len(df),index=df.index)\n",
        "\n",
        "   # loop over all columns and mark when a code exist  \n",
        "    for col in cols:\n",
        "      rows=rows | df[col].str.contains(codes_regex, na=False)\n",
        "  \n",
        "  # if not multi valued cells\n",
        "  else:\n",
        "    mask = df[cols].isin(codes)\n",
        "    rows = mask.any(axis=1)\n",
        "  return rows"
      ]
    },
    {
      "cell_type": "markdown",
      "metadata": {
        "id": "zDxZH0g_I6J5"
      },
      "source": [
        "The last bit of data we need, is the age of the patients. In the Charlson Comorbidity index, one point is added every ten years for patients above 40 years old, until you get a maximum of four age points. Information about age is in a separate datafile than the one with diagnoses:"
      ]
    },
    {
      "cell_type": "code",
      "execution_count": 42,
      "metadata": {
        "id": "9NLjv6XqI6Gj"
      },
      "outputs": [],
      "source": [
        "path ='''https://www.cms.gov/Research-Statistics-Data-and-Systems/Downloadable-Public-Use-Files/SynPUFs/Downloads/'''\n",
        "file='DE1_0_2008_Beneficiary_Summary_File_Sample_1.zip'\n",
        "\n",
        "beneficiary = pd.read_csv(path + file)"
      ]
    },
    {
      "cell_type": "code",
      "execution_count": 43,
      "metadata": {
        "colab": {
          "base_uri": "https://localhost:8080/",
          "height": 221
        },
        "id": "Uugvj9UgI54p",
        "outputId": "d09f638e-16d8-4cf4-afcf-85c3255a9e05"
      },
      "outputs": [
        {
          "data": {
            "text/html": [
              "<div>\n",
              "<style scoped>\n",
              "    .dataframe tbody tr th:only-of-type {\n",
              "        vertical-align: middle;\n",
              "    }\n",
              "\n",
              "    .dataframe tbody tr th {\n",
              "        vertical-align: top;\n",
              "    }\n",
              "\n",
              "    .dataframe thead th {\n",
              "        text-align: right;\n",
              "    }\n",
              "</style>\n",
              "<table border=\"1\" class=\"dataframe\">\n",
              "  <thead>\n",
              "    <tr style=\"text-align: right;\">\n",
              "      <th></th>\n",
              "      <th>DESYNPUF_ID</th>\n",
              "      <th>BENE_BIRTH_DT</th>\n",
              "      <th>BENE_DEATH_DT</th>\n",
              "      <th>BENE_SEX_IDENT_CD</th>\n",
              "      <th>BENE_RACE_CD</th>\n",
              "      <th>BENE_ESRD_IND</th>\n",
              "      <th>SP_STATE_CODE</th>\n",
              "      <th>BENE_COUNTY_CD</th>\n",
              "      <th>BENE_HI_CVRAGE_TOT_MONS</th>\n",
              "      <th>BENE_SMI_CVRAGE_TOT_MONS</th>\n",
              "      <th>...</th>\n",
              "      <th>SP_STRKETIA</th>\n",
              "      <th>MEDREIMB_IP</th>\n",
              "      <th>BENRES_IP</th>\n",
              "      <th>PPPYMT_IP</th>\n",
              "      <th>MEDREIMB_OP</th>\n",
              "      <th>BENRES_OP</th>\n",
              "      <th>PPPYMT_OP</th>\n",
              "      <th>MEDREIMB_CAR</th>\n",
              "      <th>BENRES_CAR</th>\n",
              "      <th>PPPYMT_CAR</th>\n",
              "    </tr>\n",
              "  </thead>\n",
              "  <tbody>\n",
              "    <tr>\n",
              "      <th>0</th>\n",
              "      <td>00013D2EFD8E45D1</td>\n",
              "      <td>19230501</td>\n",
              "      <td>NaN</td>\n",
              "      <td>1</td>\n",
              "      <td>1</td>\n",
              "      <td>0</td>\n",
              "      <td>26</td>\n",
              "      <td>950</td>\n",
              "      <td>12</td>\n",
              "      <td>12</td>\n",
              "      <td>...</td>\n",
              "      <td>2</td>\n",
              "      <td>0.0</td>\n",
              "      <td>0.0</td>\n",
              "      <td>0.0</td>\n",
              "      <td>50.0</td>\n",
              "      <td>10.0</td>\n",
              "      <td>0.0</td>\n",
              "      <td>0.0</td>\n",
              "      <td>0.0</td>\n",
              "      <td>0.0</td>\n",
              "    </tr>\n",
              "    <tr>\n",
              "      <th>1</th>\n",
              "      <td>00016F745862898F</td>\n",
              "      <td>19430101</td>\n",
              "      <td>NaN</td>\n",
              "      <td>1</td>\n",
              "      <td>1</td>\n",
              "      <td>0</td>\n",
              "      <td>39</td>\n",
              "      <td>230</td>\n",
              "      <td>12</td>\n",
              "      <td>12</td>\n",
              "      <td>...</td>\n",
              "      <td>2</td>\n",
              "      <td>0.0</td>\n",
              "      <td>0.0</td>\n",
              "      <td>0.0</td>\n",
              "      <td>0.0</td>\n",
              "      <td>0.0</td>\n",
              "      <td>0.0</td>\n",
              "      <td>700.0</td>\n",
              "      <td>240.0</td>\n",
              "      <td>0.0</td>\n",
              "    </tr>\n",
              "    <tr>\n",
              "      <th>2</th>\n",
              "      <td>0001FDD721E223DC</td>\n",
              "      <td>19360901</td>\n",
              "      <td>NaN</td>\n",
              "      <td>2</td>\n",
              "      <td>1</td>\n",
              "      <td>0</td>\n",
              "      <td>39</td>\n",
              "      <td>280</td>\n",
              "      <td>12</td>\n",
              "      <td>12</td>\n",
              "      <td>...</td>\n",
              "      <td>2</td>\n",
              "      <td>0.0</td>\n",
              "      <td>0.0</td>\n",
              "      <td>0.0</td>\n",
              "      <td>0.0</td>\n",
              "      <td>0.0</td>\n",
              "      <td>0.0</td>\n",
              "      <td>0.0</td>\n",
              "      <td>0.0</td>\n",
              "      <td>0.0</td>\n",
              "    </tr>\n",
              "    <tr>\n",
              "      <th>3</th>\n",
              "      <td>00021CA6FF03E670</td>\n",
              "      <td>19410601</td>\n",
              "      <td>NaN</td>\n",
              "      <td>1</td>\n",
              "      <td>5</td>\n",
              "      <td>0</td>\n",
              "      <td>6</td>\n",
              "      <td>290</td>\n",
              "      <td>0</td>\n",
              "      <td>0</td>\n",
              "      <td>...</td>\n",
              "      <td>2</td>\n",
              "      <td>0.0</td>\n",
              "      <td>0.0</td>\n",
              "      <td>0.0</td>\n",
              "      <td>0.0</td>\n",
              "      <td>0.0</td>\n",
              "      <td>0.0</td>\n",
              "      <td>0.0</td>\n",
              "      <td>0.0</td>\n",
              "      <td>0.0</td>\n",
              "    </tr>\n",
              "    <tr>\n",
              "      <th>4</th>\n",
              "      <td>00024B3D2352D2D0</td>\n",
              "      <td>19360801</td>\n",
              "      <td>NaN</td>\n",
              "      <td>1</td>\n",
              "      <td>1</td>\n",
              "      <td>0</td>\n",
              "      <td>52</td>\n",
              "      <td>590</td>\n",
              "      <td>12</td>\n",
              "      <td>12</td>\n",
              "      <td>...</td>\n",
              "      <td>2</td>\n",
              "      <td>0.0</td>\n",
              "      <td>0.0</td>\n",
              "      <td>0.0</td>\n",
              "      <td>30.0</td>\n",
              "      <td>40.0</td>\n",
              "      <td>0.0</td>\n",
              "      <td>220.0</td>\n",
              "      <td>80.0</td>\n",
              "      <td>0.0</td>\n",
              "    </tr>\n",
              "  </tbody>\n",
              "</table>\n",
              "<p>5 rows × 32 columns</p>\n",
              "</div>"
            ],
            "text/plain": [
              "        DESYNPUF_ID  BENE_BIRTH_DT  BENE_DEATH_DT  BENE_SEX_IDENT_CD  \\\n",
              "0  00013D2EFD8E45D1       19230501            NaN                  1   \n",
              "1  00016F745862898F       19430101            NaN                  1   \n",
              "2  0001FDD721E223DC       19360901            NaN                  2   \n",
              "3  00021CA6FF03E670       19410601            NaN                  1   \n",
              "4  00024B3D2352D2D0       19360801            NaN                  1   \n",
              "\n",
              "   BENE_RACE_CD BENE_ESRD_IND  SP_STATE_CODE  BENE_COUNTY_CD  \\\n",
              "0             1             0             26             950   \n",
              "1             1             0             39             230   \n",
              "2             1             0             39             280   \n",
              "3             5             0              6             290   \n",
              "4             1             0             52             590   \n",
              "\n",
              "   BENE_HI_CVRAGE_TOT_MONS  BENE_SMI_CVRAGE_TOT_MONS  ...  SP_STRKETIA  \\\n",
              "0                       12                        12  ...            2   \n",
              "1                       12                        12  ...            2   \n",
              "2                       12                        12  ...            2   \n",
              "3                        0                         0  ...            2   \n",
              "4                       12                        12  ...            2   \n",
              "\n",
              "   MEDREIMB_IP  BENRES_IP  PPPYMT_IP  MEDREIMB_OP  BENRES_OP  PPPYMT_OP  \\\n",
              "0          0.0        0.0        0.0         50.0       10.0        0.0   \n",
              "1          0.0        0.0        0.0          0.0        0.0        0.0   \n",
              "2          0.0        0.0        0.0          0.0        0.0        0.0   \n",
              "3          0.0        0.0        0.0          0.0        0.0        0.0   \n",
              "4          0.0        0.0        0.0         30.0       40.0        0.0   \n",
              "\n",
              "   MEDREIMB_CAR  BENRES_CAR  PPPYMT_CAR  \n",
              "0           0.0         0.0         0.0  \n",
              "1         700.0       240.0         0.0  \n",
              "2           0.0         0.0         0.0  \n",
              "3           0.0         0.0         0.0  \n",
              "4         220.0        80.0         0.0  \n",
              "\n",
              "[5 rows x 32 columns]"
            ]
          },
          "execution_count": 43,
          "metadata": {},
          "output_type": "execute_result"
        }
      ],
      "source": [
        "beneficiary.head()"
      ]
    },
    {
      "cell_type": "markdown",
      "metadata": {
        "id": "rsyNPmpFnsFX"
      },
      "source": [
        "We have to do some munging to get the dates and age from the data:"
      ]
    },
    {
      "cell_type": "code",
      "execution_count": 44,
      "metadata": {
        "id": "zXMleg9dJjAG"
      },
      "outputs": [],
      "source": [
        "date_of_birth = pd.to_datetime(beneficiary.set_index('DESYNPUF_ID')['BENE_BIRTH_DT'], format='%Y%m%d', errors='coerce')"
      ]
    },
    {
      "cell_type": "code",
      "execution_count": 45,
      "metadata": {
        "id": "dY_6DWt4_lNX"
      },
      "outputs": [],
      "source": [
        "# sidenote: Pandas index feature makes these operations easier\n",
        "# Thank you, Wes! And Jeff. And many others!\n",
        "inpatient['date_of_birth'] = date_of_birth"
      ]
    },
    {
      "cell_type": "code",
      "execution_count": 46,
      "metadata": {
        "id": "zYyaOv0I-eQP"
      },
      "outputs": [],
      "source": [
        "inpatient['date'] =  pd.to_datetime(inpatient['clm_from_dt'], format='%Y%m%d', errors='coerce')"
      ]
    },
    {
      "cell_type": "code",
      "execution_count": 47,
      "metadata": {
        "id": "aL8G_m7BpFVS"
      },
      "outputs": [],
      "source": [
        "import numpy as np\n",
        "inpatient['age'] = (inpatient.date-inpatient.date_of_birth).dt.days.div(365).apply(np.floor).astype('Int64')"
      ]
    },
    {
      "cell_type": "code",
      "execution_count": 48,
      "metadata": {
        "colab": {
          "base_uri": "https://localhost:8080/",
          "height": 248
        },
        "id": "zno6BfXxsW3O",
        "outputId": "07493b84-0cb3-43eb-9ec9-f89288ed337b"
      },
      "outputs": [
        {
          "data": {
            "text/plain": [
              "pid_index\n",
              "00013D2EFD8E45D1    86\n",
              "00016F745862898F    66\n",
              "00016F745862898F    66\n",
              "00016F745862898F    66\n",
              "00016F745862898F    67\n",
              "                    ..\n",
              "FFF8B49458F9FFA7    88\n",
              "FFF8B49458F9FFA7    88\n",
              "FFFA950301FCA748    50\n",
              "FFFC880E13CA6278    71\n",
              "FFFE3ED9582AD46E    92\n",
              "Name: age, Length: 66773, dtype: Int64"
            ]
          },
          "execution_count": 48,
          "metadata": {},
          "output_type": "execute_result"
        }
      ],
      "source": [
        "inpatient['age'].apply(np.floor).astype('Int64')\n",
        "# sidenote: inpatient.age.astype('Int64') does not work. Bug?"
      ]
    },
    {
      "cell_type": "markdown",
      "metadata": {
        "id": "U1zeaxC5zsCZ"
      },
      "source": [
        "# Finally, Charlson. Dinner is served!\n",
        "\n",
        "Finally, we have everything in order and we can calculate Charlson comorbidity index for all patients by iterating over the comorbidities, marking the persons who have one of the codes for that comorbidity, assigning points if they do, and summing points for each persons for each comorbidity. By making this all a function, we make it so flxible that other people can use different coding systems and weights if they want:"
      ]
    },
    {
      "cell_type": "code",
      "execution_count": 57,
      "metadata": {
        "id": "1TodTpUhzr6M"
      },
      "outputs": [],
      "source": [
        "# calculating the Charlson comorbidity index\n",
        "import numpy as np\n",
        "\n",
        "def calc_charlson(df, cols, codes, weight, pid='pid', age='age', date_col='date', log=False):\n",
        "  sum_points=0\n",
        "\n",
        "  for disease, codelist in codes.items():\n",
        "    has_disease = get_rows(df=df.set_index(pid), codes=codelist, cols=cols).any()\n",
        "    # used to be .any(level=0), but this doe snot work in newer pandas versions. Think any() is ok\n",
        "\n",
        "    #has_disease = get_rows(df=df, codes=codelist, cols=cols).any(level=0)\n",
        "    points = has_disease * weight[disease]\n",
        "    if log:\n",
        "      print(disease, points.sum())\n",
        "    sum_points = sum_points + points\n",
        "  \n",
        "  # add age points  \n",
        "\n",
        "  age_points = df.groupby(pid)[age].max()\n",
        "  age_points = age_points.sub(40).div(10).apply(np.floor).astype('Int64')\n",
        "  age_points = np.where(age_points<0, 0, age_points)\n",
        "  age_points = np.where(age_points>4, 4, age_points)\n",
        "  sum_points = sum_points + age_points\n",
        "\n",
        "  return sum_points\n",
        "\n"
      ]
    },
    {
      "cell_type": "code",
      "execution_count": 58,
      "metadata": {
        "colab": {
          "base_uri": "https://localhost:8080/",
          "height": 319
        },
        "id": "Rd8YwwbB2bss",
        "outputId": "272f42a9-fd8b-4b65-e41c-1ea5da27b48b"
      },
      "outputs": [
        {
          "name": "stdout",
          "output_type": "stream",
          "text": [
            "infarction 1\n",
            "heart_failure 1\n",
            "peripheral_vascular 1\n",
            "cerebrovascular 1\n",
            "dementia 1\n",
            "pulmonary 1\n",
            "rheumatic 1\n",
            "peptic_ulcer 1\n",
            "liver_mild 1\n",
            "diabetes_without_complication 1\n",
            "diabetes_with_complication 2\n",
            "plegia 2\n",
            "renal 2\n",
            "malignancy 2\n",
            "liver_not_mild 3\n",
            "tumor 6\n",
            "hiv 6\n"
          ]
        }
      ],
      "source": [
        "charlson =calc_charlson(df=inpatient, cols=icd_cols, age='age', codes=codes, weight=charlson_points, log=True)"
      ]
    },
    {
      "cell_type": "markdown",
      "metadata": {
        "id": "SCT0AdTt2RJY"
      },
      "source": [
        "Let's see the individual Charlson scores for our patients"
      ]
    },
    {
      "cell_type": "code",
      "execution_count": 61,
      "metadata": {
        "colab": {
          "base_uri": "https://localhost:8080/",
          "height": 248
        },
        "id": "1q1NUozyIM2G",
        "outputId": "0d5218cc-79cc-412d-fb92-e63710ff4e94"
      },
      "outputs": [
        {
          "data": {
            "text/plain": [
              "array([37, 35, 36, ..., 34, 36, 37], dtype=object)"
            ]
          },
          "execution_count": 61,
          "metadata": {},
          "output_type": "execute_result"
        }
      ],
      "source": [
        "charlson"
      ]
    },
    {
      "cell_type": "markdown",
      "metadata": {
        "id": "JrNOhv7i2aq-"
      },
      "source": [
        "### And the distribution of scores:"
      ]
    },
    {
      "cell_type": "code",
      "execution_count": 54,
      "metadata": {
        "id": "OrjRh7OCVtRE"
      },
      "outputs": [],
      "source": [
        "#Increase the size of figures\n",
        "import matplotlib.pyplot as plt\n",
        "plt.rcParams['figure.dpi'] = 150\n",
        "# Alternative: %config InlineBackend.figure_format = 'retina'"
      ]
    },
    {
      "cell_type": "code",
      "execution_count": 60,
      "metadata": {
        "colab": {
          "base_uri": "https://localhost:8080/",
          "height": 541
        },
        "id": "2AAPQlld0Wyx",
        "outputId": "42c8ec43-541d-4ff6-d498-061e5a033eab"
      },
      "outputs": [
        {
          "data": {
            "image/png": "[encoded data removed]",
            "text/plain": [
              "<Figure size 960x720 with 1 Axes>"
            ]
          },
          "metadata": {},
          "output_type": "display_data"
        }
      ],
      "source": [
        "pd.Series(charlson).value_counts(normalize=True).sort_index().plot.bar();"
      ]
    },
    {
      "cell_type": "markdown",
      "metadata": {
        "id": "FN1YU7nh26jx"
      },
      "source": [
        "A small, but important, sidenote: There may be some empty categories (for instance there does not seem to be a person who has a score of 26 in our data, but somebody has 30. If we want to adjust for this in the plot, we can reindex the dataframe like this (In our case it does not make a big difference, but it could):"
      ]
    },
    {
      "cell_type": "code",
      "execution_count": 62,
      "metadata": {
        "colab": {
          "base_uri": "https://localhost:8080/",
          "height": 572
        },
        "id": "oN2fUIXZkc1M",
        "outputId": "a0adf952-87a6-418f-b794-2cebf2d2bd32"
      },
      "outputs": [
        {
          "data": {
            "image/png": "[encoded data removed]",
            "text/plain": [
              "<Figure size 960x720 with 1 Axes>"
            ]
          },
          "metadata": {},
          "output_type": "display_data"
        }
      ],
      "source": [
        "pd.Series(charlson).value_counts(normalize=True).sort_index().reindex(range(31)).plot.bar(title='Distribution of Charlson Comorbodity index (Percent of patients)');"
      ]
    },
    {
      "cell_type": "markdown",
      "metadata": {
        "id": "_0ITgonevPrv"
      },
      "source": [
        "## A never ending story!\n",
        "The story of the Charlson comorbidity index can be expanded in many directions:\n",
        "* How to transform and calculate a comparable index when you have different datasets with different coding systems? \n",
        "* How to calculate different versions of the index and create a package that would make it easy for other people do do the calculations?\n",
        "* Could we create functions that make it even easier to express a system of code groups in a single string, insterad of first creating a large number of lists?\n",
        "* Also: Maybe the approach could be expanded to include calculations of other similar types of indicies that are commonly used in medical research? \n",
        "\n",
        "However, these are topics for a new notebook. The aim of this notebook was limited to developing functions that would make it easier to express groups of medical codes. The Charlson comorbidity index demonstrates the usefulness of this notatio; not only to express groups, but also to avoid mistakes since the notation makes patterns more visible, and avoids verbose lists that are too large to double-check quickly.\n",
        "\n",
        "\n",
        "# More\n",
        "There is a good package in R, [comorbodity](https://ellessenne.github.io/comorbidity/), that calculates different versions of comorbidity indicies. "
      ]
    },
    {
      "cell_type": "markdown",
      "metadata": {},
      "source": []
    }
  ],
  "metadata": {
    "colab": {
      "collapsed_sections": [],
      "include_colab_link": true,
      "name": "Notation to deal with medical codes and Charlsons comorbidity index ",
      "provenance": []
    },
    "kernelspec": {
      "display_name": "Python 3",
      "name": "python3"
    },
    "language_info": {
      "codemirror_mode": {
        "name": "ipython",
        "version": 3
      },
      "file_extension": ".py",
      "mimetype": "text/x-python",
      "name": "python",
      "nbconvert_exporter": "python",
      "pygments_lexer": "ipython3",
      "version": "3.10.13"
    }
  },
  "nbformat": 4,
  "nbformat_minor": 0
}
