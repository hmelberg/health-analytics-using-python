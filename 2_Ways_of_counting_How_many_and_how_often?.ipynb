{
  "nbformat": 4,
  "nbformat_minor": 0,
  "metadata": {
    "colab": {
      "name": "2. Ways of counting: How many and how often?",
      "provenance": [],
      "collapsed_sections": [],
      "include_colab_link": true
    },
    "kernelspec": {
      "name": "python3",
      "display_name": "Python 3"
    }
  },
  "cells": [
    {
      "cell_type": "markdown",
      "metadata": {
        "id": "view-in-github",
        "colab_type": "text"
      },
      "source": [
        "<a href=\"https://colab.research.google.com/github/hmelberg/health-analytics-using-python/blob/dev/2_Ways_of_counting_How_many_and_how_often%3F.ipynb\" target=\"_parent\"><img src=\"https://colab.research.google.com/assets/colab-badge.svg\" alt=\"Open In Colab\"/></a>"
      ]
    },
    {
      "cell_type": "markdown",
      "metadata": {
        "id": "vosA89WEixQc",
        "colab_type": "text"
      },
      "source": [
        "#2. Ways of counting: How many and how often?\n",
        "\n",
        "\n"
      ]
    },
    {
      "cell_type": "markdown",
      "metadata": {
        "id": "2GUKCMPsixU0",
        "colab_type": "text"
      },
      "source": [
        "## Background\n",
        "When analyzing health data we ofte have a dataset where each person can have many events like prescriptions or hospital visits. Event based data is well suited to answer event level questions like:\n",
        "* How many hospital stays are related to pneumonia? \n",
        "* How often is a certain pharmaceutical prescribed?\n",
        "\n",
        "However, often we also want to use the event level data to answer individual level questions. For instance: \n",
        "* How many different patients have been admitted to hospital for inflammatory bowel disease? \n",
        "* How many individuals with a given disease have received a prescription for steroids? \n",
        "\n",
        "Answering individual level questions using event level data is sometimes easy, but quite often it requires careful thought and several lines of coding. In this chapter we will show you examples of how it can be done in Pyton and Pandas. \n",
        "\n",
        "The starting point is an example where we count the number of hospital events and unique persons related to a medical code - pneumonia - that is located in a single column in the dataframe. We then treat more complicated cases, with multiple columns and multiple codes. Towards the end we will merge the different cases and create a new method that make it easier to use event level data to answer individual level questions.\n"
      ]
    },
    {
      "cell_type": "markdown",
      "metadata": {
        "id": "_BTQBowI7knx",
        "colab_type": "text"
      },
      "source": [
        "## Example: Pneumonia\n",
        "\n",
        "\n"
      ]
    },
    {
      "cell_type": "markdown",
      "metadata": {
        "id": "ZbLLRYi3mgYy",
        "colab_type": "text"
      },
      "source": [
        "###Import libraries"
      ]
    },
    {
      "cell_type": "code",
      "metadata": {
        "id": "5ntpfR-cycAM",
        "colab_type": "code",
        "colab": {}
      },
      "source": [
        "import pandas as pd"
      ],
      "execution_count": 0,
      "outputs": []
    },
    {
      "cell_type": "markdown",
      "metadata": {
        "id": "wHaacHNOx_IS",
        "colab_type": "text"
      },
      "source": [
        "### Get data\n",
        "\n",
        "We will use data from Medicare. It is a sample of data that is artificial, but with some features that makes it look like the actual data they have of hospital events between 2008 and 2010.\n",
        "\n",
        "For more information about the data, see [The Centers for Medicare & Medicaid Services](https://www.cms.gov/Research-Statistics-Data-and-Systems/Downloadable-Public-Use-Files/SynPUFs/DE_Syn_PUF).\n"
      ]
    },
    {
      "cell_type": "code",
      "metadata": {
        "id": "DN4PP997bD__",
        "colab_type": "code",
        "colab": {}
      },
      "source": [
        "# Read synthetic medicare sample data on inpatient hospital stays\n",
        "path = 'https://www.cms.gov/Research-Statistics-Data-and-Systems/Downloadable-Public-Use-Files/SynPUFs/Downloads/'\n",
        "inpatient_file = 'DE1_0_2008_to_2010_Inpatient_Claims_Sample_1.zip'\n",
        "inpatient = pd.read_csv(path+inpatient_file)"
      ],
      "execution_count": 0,
      "outputs": []
    },
    {
      "cell_type": "markdown",
      "metadata": {
        "id": "ynyUNdjWm0mQ",
        "colab_type": "text"
      },
      "source": [
        "### First look\n"
      ]
    },
    {
      "cell_type": "code",
      "metadata": {
        "id": "-p7pbe9o0WBt",
        "colab_type": "code",
        "outputId": "ee83d003-4b61-4d30-df0e-2ddc259088ba",
        "colab": {
          "base_uri": "https://localhost:8080/",
          "height": 256
        }
      },
      "source": [
        "inpatient.head()"
      ],
      "execution_count": 0,
      "outputs": [
        {
          "output_type": "execute_result",
          "data": {
            "text/html": [
              "<div>\n",
              "<style scoped>\n",
              "    .dataframe tbody tr th:only-of-type {\n",
              "        vertical-align: middle;\n",
              "    }\n",
              "\n",
              "    .dataframe tbody tr th {\n",
              "        vertical-align: top;\n",
              "    }\n",
              "\n",
              "    .dataframe thead th {\n",
              "        text-align: right;\n",
              "    }\n",
              "</style>\n",
              "<table border=\"1\" class=\"dataframe\">\n",
              "  <thead>\n",
              "    <tr style=\"text-align: right;\">\n",
              "      <th></th>\n",
              "      <th>DESYNPUF_ID</th>\n",
              "      <th>CLM_ID</th>\n",
              "      <th>SEGMENT</th>\n",
              "      <th>CLM_FROM_DT</th>\n",
              "      <th>CLM_THRU_DT</th>\n",
              "      <th>PRVDR_NUM</th>\n",
              "      <th>CLM_PMT_AMT</th>\n",
              "      <th>NCH_PRMRY_PYR_CLM_PD_AMT</th>\n",
              "      <th>AT_PHYSN_NPI</th>\n",
              "      <th>OP_PHYSN_NPI</th>\n",
              "      <th>OT_PHYSN_NPI</th>\n",
              "      <th>CLM_ADMSN_DT</th>\n",
              "      <th>ADMTNG_ICD9_DGNS_CD</th>\n",
              "      <th>CLM_PASS_THRU_PER_DIEM_AMT</th>\n",
              "      <th>NCH_BENE_IP_DDCTBL_AMT</th>\n",
              "      <th>NCH_BENE_PTA_COINSRNC_LBLTY_AM</th>\n",
              "      <th>NCH_BENE_BLOOD_DDCTBL_LBLTY_AM</th>\n",
              "      <th>CLM_UTLZTN_DAY_CNT</th>\n",
              "      <th>NCH_BENE_DSCHRG_DT</th>\n",
              "      <th>CLM_DRG_CD</th>\n",
              "      <th>ICD9_DGNS_CD_1</th>\n",
              "      <th>ICD9_DGNS_CD_2</th>\n",
              "      <th>ICD9_DGNS_CD_3</th>\n",
              "      <th>ICD9_DGNS_CD_4</th>\n",
              "      <th>ICD9_DGNS_CD_5</th>\n",
              "      <th>ICD9_DGNS_CD_6</th>\n",
              "      <th>ICD9_DGNS_CD_7</th>\n",
              "      <th>ICD9_DGNS_CD_8</th>\n",
              "      <th>ICD9_DGNS_CD_9</th>\n",
              "      <th>ICD9_DGNS_CD_10</th>\n",
              "      <th>ICD9_PRCDR_CD_1</th>\n",
              "      <th>ICD9_PRCDR_CD_2</th>\n",
              "      <th>ICD9_PRCDR_CD_3</th>\n",
              "      <th>ICD9_PRCDR_CD_4</th>\n",
              "      <th>ICD9_PRCDR_CD_5</th>\n",
              "      <th>ICD9_PRCDR_CD_6</th>\n",
              "      <th>HCPCS_CD_1</th>\n",
              "      <th>HCPCS_CD_2</th>\n",
              "      <th>HCPCS_CD_3</th>\n",
              "      <th>HCPCS_CD_4</th>\n",
              "      <th>...</th>\n",
              "      <th>HCPCS_CD_6</th>\n",
              "      <th>HCPCS_CD_7</th>\n",
              "      <th>HCPCS_CD_8</th>\n",
              "      <th>HCPCS_CD_9</th>\n",
              "      <th>HCPCS_CD_10</th>\n",
              "      <th>HCPCS_CD_11</th>\n",
              "      <th>HCPCS_CD_12</th>\n",
              "      <th>HCPCS_CD_13</th>\n",
              "      <th>HCPCS_CD_14</th>\n",
              "      <th>HCPCS_CD_15</th>\n",
              "      <th>HCPCS_CD_16</th>\n",
              "      <th>HCPCS_CD_17</th>\n",
              "      <th>HCPCS_CD_18</th>\n",
              "      <th>HCPCS_CD_19</th>\n",
              "      <th>HCPCS_CD_20</th>\n",
              "      <th>HCPCS_CD_21</th>\n",
              "      <th>HCPCS_CD_22</th>\n",
              "      <th>HCPCS_CD_23</th>\n",
              "      <th>HCPCS_CD_24</th>\n",
              "      <th>HCPCS_CD_25</th>\n",
              "      <th>HCPCS_CD_26</th>\n",
              "      <th>HCPCS_CD_27</th>\n",
              "      <th>HCPCS_CD_28</th>\n",
              "      <th>HCPCS_CD_29</th>\n",
              "      <th>HCPCS_CD_30</th>\n",
              "      <th>HCPCS_CD_31</th>\n",
              "      <th>HCPCS_CD_32</th>\n",
              "      <th>HCPCS_CD_33</th>\n",
              "      <th>HCPCS_CD_34</th>\n",
              "      <th>HCPCS_CD_35</th>\n",
              "      <th>HCPCS_CD_36</th>\n",
              "      <th>HCPCS_CD_37</th>\n",
              "      <th>HCPCS_CD_38</th>\n",
              "      <th>HCPCS_CD_39</th>\n",
              "      <th>HCPCS_CD_40</th>\n",
              "      <th>HCPCS_CD_41</th>\n",
              "      <th>HCPCS_CD_42</th>\n",
              "      <th>HCPCS_CD_43</th>\n",
              "      <th>HCPCS_CD_44</th>\n",
              "      <th>HCPCS_CD_45</th>\n",
              "    </tr>\n",
              "  </thead>\n",
              "  <tbody>\n",
              "    <tr>\n",
              "      <th>0</th>\n",
              "      <td>00013D2EFD8E45D1</td>\n",
              "      <td>196661176988405</td>\n",
              "      <td>1</td>\n",
              "      <td>20100312.0</td>\n",
              "      <td>20100313.0</td>\n",
              "      <td>2600GD</td>\n",
              "      <td>4000.0</td>\n",
              "      <td>0.0</td>\n",
              "      <td>3.139084e+09</td>\n",
              "      <td>NaN</td>\n",
              "      <td>NaN</td>\n",
              "      <td>20100312</td>\n",
              "      <td>4580</td>\n",
              "      <td>0.0</td>\n",
              "      <td>1100.0</td>\n",
              "      <td>0.0</td>\n",
              "      <td>0.0</td>\n",
              "      <td>1.0</td>\n",
              "      <td>20100313</td>\n",
              "      <td>217</td>\n",
              "      <td>7802</td>\n",
              "      <td>78820</td>\n",
              "      <td>V4501</td>\n",
              "      <td>4280</td>\n",
              "      <td>2720</td>\n",
              "      <td>4019</td>\n",
              "      <td>V4502</td>\n",
              "      <td>73300</td>\n",
              "      <td>E9330</td>\n",
              "      <td>NaN</td>\n",
              "      <td>NaN</td>\n",
              "      <td>NaN</td>\n",
              "      <td>NaN</td>\n",
              "      <td>NaN</td>\n",
              "      <td>NaN</td>\n",
              "      <td>NaN</td>\n",
              "      <td>NaN</td>\n",
              "      <td>NaN</td>\n",
              "      <td>NaN</td>\n",
              "      <td>NaN</td>\n",
              "      <td>...</td>\n",
              "      <td>NaN</td>\n",
              "      <td>NaN</td>\n",
              "      <td>NaN</td>\n",
              "      <td>NaN</td>\n",
              "      <td>NaN</td>\n",
              "      <td>NaN</td>\n",
              "      <td>NaN</td>\n",
              "      <td>NaN</td>\n",
              "      <td>NaN</td>\n",
              "      <td>NaN</td>\n",
              "      <td>NaN</td>\n",
              "      <td>NaN</td>\n",
              "      <td>NaN</td>\n",
              "      <td>NaN</td>\n",
              "      <td>NaN</td>\n",
              "      <td>NaN</td>\n",
              "      <td>NaN</td>\n",
              "      <td>NaN</td>\n",
              "      <td>NaN</td>\n",
              "      <td>NaN</td>\n",
              "      <td>NaN</td>\n",
              "      <td>NaN</td>\n",
              "      <td>NaN</td>\n",
              "      <td>NaN</td>\n",
              "      <td>NaN</td>\n",
              "      <td>NaN</td>\n",
              "      <td>NaN</td>\n",
              "      <td>NaN</td>\n",
              "      <td>NaN</td>\n",
              "      <td>NaN</td>\n",
              "      <td>NaN</td>\n",
              "      <td>NaN</td>\n",
              "      <td>NaN</td>\n",
              "      <td>NaN</td>\n",
              "      <td>NaN</td>\n",
              "      <td>NaN</td>\n",
              "      <td>NaN</td>\n",
              "      <td>NaN</td>\n",
              "      <td>NaN</td>\n",
              "      <td>NaN</td>\n",
              "    </tr>\n",
              "    <tr>\n",
              "      <th>1</th>\n",
              "      <td>00016F745862898F</td>\n",
              "      <td>196201177000368</td>\n",
              "      <td>1</td>\n",
              "      <td>20090412.0</td>\n",
              "      <td>20090418.0</td>\n",
              "      <td>3900MB</td>\n",
              "      <td>26000.0</td>\n",
              "      <td>0.0</td>\n",
              "      <td>6.476809e+09</td>\n",
              "      <td>NaN</td>\n",
              "      <td>NaN</td>\n",
              "      <td>20090412</td>\n",
              "      <td>7866</td>\n",
              "      <td>0.0</td>\n",
              "      <td>1068.0</td>\n",
              "      <td>0.0</td>\n",
              "      <td>0.0</td>\n",
              "      <td>6.0</td>\n",
              "      <td>20090418</td>\n",
              "      <td>201</td>\n",
              "      <td>1970</td>\n",
              "      <td>4019</td>\n",
              "      <td>5853</td>\n",
              "      <td>7843</td>\n",
              "      <td>2768</td>\n",
              "      <td>71590</td>\n",
              "      <td>2724</td>\n",
              "      <td>19889</td>\n",
              "      <td>5849</td>\n",
              "      <td>NaN</td>\n",
              "      <td>NaN</td>\n",
              "      <td>NaN</td>\n",
              "      <td>NaN</td>\n",
              "      <td>NaN</td>\n",
              "      <td>NaN</td>\n",
              "      <td>NaN</td>\n",
              "      <td>NaN</td>\n",
              "      <td>NaN</td>\n",
              "      <td>NaN</td>\n",
              "      <td>NaN</td>\n",
              "      <td>...</td>\n",
              "      <td>NaN</td>\n",
              "      <td>NaN</td>\n",
              "      <td>NaN</td>\n",
              "      <td>NaN</td>\n",
              "      <td>NaN</td>\n",
              "      <td>NaN</td>\n",
              "      <td>NaN</td>\n",
              "      <td>NaN</td>\n",
              "      <td>NaN</td>\n",
              "      <td>NaN</td>\n",
              "      <td>NaN</td>\n",
              "      <td>NaN</td>\n",
              "      <td>NaN</td>\n",
              "      <td>NaN</td>\n",
              "      <td>NaN</td>\n",
              "      <td>NaN</td>\n",
              "      <td>NaN</td>\n",
              "      <td>NaN</td>\n",
              "      <td>NaN</td>\n",
              "      <td>NaN</td>\n",
              "      <td>NaN</td>\n",
              "      <td>NaN</td>\n",
              "      <td>NaN</td>\n",
              "      <td>NaN</td>\n",
              "      <td>NaN</td>\n",
              "      <td>NaN</td>\n",
              "      <td>NaN</td>\n",
              "      <td>NaN</td>\n",
              "      <td>NaN</td>\n",
              "      <td>NaN</td>\n",
              "      <td>NaN</td>\n",
              "      <td>NaN</td>\n",
              "      <td>NaN</td>\n",
              "      <td>NaN</td>\n",
              "      <td>NaN</td>\n",
              "      <td>NaN</td>\n",
              "      <td>NaN</td>\n",
              "      <td>NaN</td>\n",
              "      <td>NaN</td>\n",
              "      <td>NaN</td>\n",
              "    </tr>\n",
              "    <tr>\n",
              "      <th>2</th>\n",
              "      <td>00016F745862898F</td>\n",
              "      <td>196661177015632</td>\n",
              "      <td>1</td>\n",
              "      <td>20090831.0</td>\n",
              "      <td>20090902.0</td>\n",
              "      <td>3900HM</td>\n",
              "      <td>5000.0</td>\n",
              "      <td>0.0</td>\n",
              "      <td>6.119985e+08</td>\n",
              "      <td>6.119985e+08</td>\n",
              "      <td>NaN</td>\n",
              "      <td>20090831</td>\n",
              "      <td>6186</td>\n",
              "      <td>0.0</td>\n",
              "      <td>1068.0</td>\n",
              "      <td>0.0</td>\n",
              "      <td>0.0</td>\n",
              "      <td>2.0</td>\n",
              "      <td>20090902</td>\n",
              "      <td>750</td>\n",
              "      <td>6186</td>\n",
              "      <td>2948</td>\n",
              "      <td>56400</td>\n",
              "      <td>NaN</td>\n",
              "      <td>NaN</td>\n",
              "      <td>NaN</td>\n",
              "      <td>NaN</td>\n",
              "      <td>NaN</td>\n",
              "      <td>NaN</td>\n",
              "      <td>NaN</td>\n",
              "      <td>7092.0</td>\n",
              "      <td>6186</td>\n",
              "      <td>V5866</td>\n",
              "      <td>NaN</td>\n",
              "      <td>NaN</td>\n",
              "      <td>NaN</td>\n",
              "      <td>NaN</td>\n",
              "      <td>NaN</td>\n",
              "      <td>NaN</td>\n",
              "      <td>NaN</td>\n",
              "      <td>...</td>\n",
              "      <td>NaN</td>\n",
              "      <td>NaN</td>\n",
              "      <td>NaN</td>\n",
              "      <td>NaN</td>\n",
              "      <td>NaN</td>\n",
              "      <td>NaN</td>\n",
              "      <td>NaN</td>\n",
              "      <td>NaN</td>\n",
              "      <td>NaN</td>\n",
              "      <td>NaN</td>\n",
              "      <td>NaN</td>\n",
              "      <td>NaN</td>\n",
              "      <td>NaN</td>\n",
              "      <td>NaN</td>\n",
              "      <td>NaN</td>\n",
              "      <td>NaN</td>\n",
              "      <td>NaN</td>\n",
              "      <td>NaN</td>\n",
              "      <td>NaN</td>\n",
              "      <td>NaN</td>\n",
              "      <td>NaN</td>\n",
              "      <td>NaN</td>\n",
              "      <td>NaN</td>\n",
              "      <td>NaN</td>\n",
              "      <td>NaN</td>\n",
              "      <td>NaN</td>\n",
              "      <td>NaN</td>\n",
              "      <td>NaN</td>\n",
              "      <td>NaN</td>\n",
              "      <td>NaN</td>\n",
              "      <td>NaN</td>\n",
              "      <td>NaN</td>\n",
              "      <td>NaN</td>\n",
              "      <td>NaN</td>\n",
              "      <td>NaN</td>\n",
              "      <td>NaN</td>\n",
              "      <td>NaN</td>\n",
              "      <td>NaN</td>\n",
              "      <td>NaN</td>\n",
              "      <td>NaN</td>\n",
              "    </tr>\n",
              "    <tr>\n",
              "      <th>3</th>\n",
              "      <td>00016F745862898F</td>\n",
              "      <td>196091176981058</td>\n",
              "      <td>1</td>\n",
              "      <td>20090917.0</td>\n",
              "      <td>20090920.0</td>\n",
              "      <td>3913XU</td>\n",
              "      <td>5000.0</td>\n",
              "      <td>0.0</td>\n",
              "      <td>4.971603e+09</td>\n",
              "      <td>NaN</td>\n",
              "      <td>1.119000e+09</td>\n",
              "      <td>20090917</td>\n",
              "      <td>29590</td>\n",
              "      <td>0.0</td>\n",
              "      <td>1068.0</td>\n",
              "      <td>0.0</td>\n",
              "      <td>0.0</td>\n",
              "      <td>3.0</td>\n",
              "      <td>20090920</td>\n",
              "      <td>883</td>\n",
              "      <td>29623</td>\n",
              "      <td>30390</td>\n",
              "      <td>71690</td>\n",
              "      <td>34590</td>\n",
              "      <td>V1581</td>\n",
              "      <td>32723</td>\n",
              "      <td>NaN</td>\n",
              "      <td>NaN</td>\n",
              "      <td>NaN</td>\n",
              "      <td>NaN</td>\n",
              "      <td>NaN</td>\n",
              "      <td>NaN</td>\n",
              "      <td>NaN</td>\n",
              "      <td>NaN</td>\n",
              "      <td>NaN</td>\n",
              "      <td>NaN</td>\n",
              "      <td>NaN</td>\n",
              "      <td>NaN</td>\n",
              "      <td>NaN</td>\n",
              "      <td>NaN</td>\n",
              "      <td>...</td>\n",
              "      <td>NaN</td>\n",
              "      <td>NaN</td>\n",
              "      <td>NaN</td>\n",
              "      <td>NaN</td>\n",
              "      <td>NaN</td>\n",
              "      <td>NaN</td>\n",
              "      <td>NaN</td>\n",
              "      <td>NaN</td>\n",
              "      <td>NaN</td>\n",
              "      <td>NaN</td>\n",
              "      <td>NaN</td>\n",
              "      <td>NaN</td>\n",
              "      <td>NaN</td>\n",
              "      <td>NaN</td>\n",
              "      <td>NaN</td>\n",
              "      <td>NaN</td>\n",
              "      <td>NaN</td>\n",
              "      <td>NaN</td>\n",
              "      <td>NaN</td>\n",
              "      <td>NaN</td>\n",
              "      <td>NaN</td>\n",
              "      <td>NaN</td>\n",
              "      <td>NaN</td>\n",
              "      <td>NaN</td>\n",
              "      <td>NaN</td>\n",
              "      <td>NaN</td>\n",
              "      <td>NaN</td>\n",
              "      <td>NaN</td>\n",
              "      <td>NaN</td>\n",
              "      <td>NaN</td>\n",
              "      <td>NaN</td>\n",
              "      <td>NaN</td>\n",
              "      <td>NaN</td>\n",
              "      <td>NaN</td>\n",
              "      <td>NaN</td>\n",
              "      <td>NaN</td>\n",
              "      <td>NaN</td>\n",
              "      <td>NaN</td>\n",
              "      <td>NaN</td>\n",
              "      <td>NaN</td>\n",
              "    </tr>\n",
              "    <tr>\n",
              "      <th>4</th>\n",
              "      <td>00016F745862898F</td>\n",
              "      <td>196261176983265</td>\n",
              "      <td>1</td>\n",
              "      <td>20100626.0</td>\n",
              "      <td>20100701.0</td>\n",
              "      <td>3900MB</td>\n",
              "      <td>16000.0</td>\n",
              "      <td>0.0</td>\n",
              "      <td>6.408400e+09</td>\n",
              "      <td>1.960860e+09</td>\n",
              "      <td>NaN</td>\n",
              "      <td>20100626</td>\n",
              "      <td>5849</td>\n",
              "      <td>0.0</td>\n",
              "      <td>1100.0</td>\n",
              "      <td>0.0</td>\n",
              "      <td>0.0</td>\n",
              "      <td>5.0</td>\n",
              "      <td>20100701</td>\n",
              "      <td>983</td>\n",
              "      <td>3569</td>\n",
              "      <td>4019</td>\n",
              "      <td>3542</td>\n",
              "      <td>V8801</td>\n",
              "      <td>78820</td>\n",
              "      <td>2639</td>\n",
              "      <td>7840</td>\n",
              "      <td>7856</td>\n",
              "      <td>4271</td>\n",
              "      <td>NaN</td>\n",
              "      <td>NaN</td>\n",
              "      <td>E8889</td>\n",
              "      <td>NaN</td>\n",
              "      <td>NaN</td>\n",
              "      <td>NaN</td>\n",
              "      <td>NaN</td>\n",
              "      <td>NaN</td>\n",
              "      <td>NaN</td>\n",
              "      <td>NaN</td>\n",
              "      <td>NaN</td>\n",
              "      <td>...</td>\n",
              "      <td>NaN</td>\n",
              "      <td>NaN</td>\n",
              "      <td>NaN</td>\n",
              "      <td>NaN</td>\n",
              "      <td>NaN</td>\n",
              "      <td>NaN</td>\n",
              "      <td>NaN</td>\n",
              "      <td>NaN</td>\n",
              "      <td>NaN</td>\n",
              "      <td>NaN</td>\n",
              "      <td>NaN</td>\n",
              "      <td>NaN</td>\n",
              "      <td>NaN</td>\n",
              "      <td>NaN</td>\n",
              "      <td>NaN</td>\n",
              "      <td>NaN</td>\n",
              "      <td>NaN</td>\n",
              "      <td>NaN</td>\n",
              "      <td>NaN</td>\n",
              "      <td>NaN</td>\n",
              "      <td>NaN</td>\n",
              "      <td>NaN</td>\n",
              "      <td>NaN</td>\n",
              "      <td>NaN</td>\n",
              "      <td>NaN</td>\n",
              "      <td>NaN</td>\n",
              "      <td>NaN</td>\n",
              "      <td>NaN</td>\n",
              "      <td>NaN</td>\n",
              "      <td>NaN</td>\n",
              "      <td>NaN</td>\n",
              "      <td>NaN</td>\n",
              "      <td>NaN</td>\n",
              "      <td>NaN</td>\n",
              "      <td>NaN</td>\n",
              "      <td>NaN</td>\n",
              "      <td>NaN</td>\n",
              "      <td>NaN</td>\n",
              "      <td>NaN</td>\n",
              "      <td>NaN</td>\n",
              "    </tr>\n",
              "  </tbody>\n",
              "</table>\n",
              "<p>5 rows × 81 columns</p>\n",
              "</div>"
            ],
            "text/plain": [
              "        DESYNPUF_ID           CLM_ID  ...  HCPCS_CD_44  HCPCS_CD_45\n",
              "0  00013D2EFD8E45D1  196661176988405  ...          NaN          NaN\n",
              "1  00016F745862898F  196201177000368  ...          NaN          NaN\n",
              "2  00016F745862898F  196661177015632  ...          NaN          NaN\n",
              "3  00016F745862898F  196091176981058  ...          NaN          NaN\n",
              "4  00016F745862898F  196261176983265  ...          NaN          NaN\n",
              "\n",
              "[5 rows x 81 columns]"
            ]
          },
          "metadata": {
            "tags": []
          },
          "execution_count": 3
        }
      ]
    },
    {
      "cell_type": "markdown",
      "metadata": {
        "id": "oSD0-qiKU-XB",
        "colab_type": "text"
      },
      "source": [
        "\n",
        "Each row in the data represents an inpatient hospital event for a person. Each person can have multiple events and we have a dataframe with the persons' unique id (*desynpuf_id*), and many other columns such as:\n",
        "* the date of the claim (*clm_from_dt*)\n",
        "* the claim's DRG code (*clm_drg_cd*)* the diagnostic codes used (*icd9_dgns_cd_1* etc.)\n",
        "* precdure codes (*icd9_prcdr_cd_1* etc).\n",
        "\n",
        "For more information about the definition of the variables, see [ResDAC](https://www.resdac.org/cms-data/files/ip-encounter-final/data-documentation)\n"
      ]
    },
    {
      "cell_type": "code",
      "metadata": {
        "id": "aEmMlXsCZWdy",
        "colab_type": "code",
        "outputId": "a1887569-e5a3-44e6-9f8c-32831b446ece",
        "colab": {
          "base_uri": "https://localhost:8080/",
          "height": 463
        }
      },
      "source": [
        "#Overview of variables (column names)\n",
        "inpatient.columns"
      ],
      "execution_count": 0,
      "outputs": [
        {
          "output_type": "execute_result",
          "data": {
            "text/plain": [
              "Index(['DESYNPUF_ID', 'CLM_ID', 'SEGMENT', 'CLM_FROM_DT', 'CLM_THRU_DT',\n",
              "       'PRVDR_NUM', 'CLM_PMT_AMT', 'NCH_PRMRY_PYR_CLM_PD_AMT', 'AT_PHYSN_NPI',\n",
              "       'OP_PHYSN_NPI', 'OT_PHYSN_NPI', 'CLM_ADMSN_DT', 'ADMTNG_ICD9_DGNS_CD',\n",
              "       'CLM_PASS_THRU_PER_DIEM_AMT', 'NCH_BENE_IP_DDCTBL_AMT',\n",
              "       'NCH_BENE_PTA_COINSRNC_LBLTY_AM', 'NCH_BENE_BLOOD_DDCTBL_LBLTY_AM',\n",
              "       'CLM_UTLZTN_DAY_CNT', 'NCH_BENE_DSCHRG_DT', 'CLM_DRG_CD',\n",
              "       'ICD9_DGNS_CD_1', 'ICD9_DGNS_CD_2', 'ICD9_DGNS_CD_3', 'ICD9_DGNS_CD_4',\n",
              "       'ICD9_DGNS_CD_5', 'ICD9_DGNS_CD_6', 'ICD9_DGNS_CD_7', 'ICD9_DGNS_CD_8',\n",
              "       'ICD9_DGNS_CD_9', 'ICD9_DGNS_CD_10', 'ICD9_PRCDR_CD_1',\n",
              "       'ICD9_PRCDR_CD_2', 'ICD9_PRCDR_CD_3', 'ICD9_PRCDR_CD_4',\n",
              "       'ICD9_PRCDR_CD_5', 'ICD9_PRCDR_CD_6', 'HCPCS_CD_1', 'HCPCS_CD_2',\n",
              "       'HCPCS_CD_3', 'HCPCS_CD_4', 'HCPCS_CD_5', 'HCPCS_CD_6', 'HCPCS_CD_7',\n",
              "       'HCPCS_CD_8', 'HCPCS_CD_9', 'HCPCS_CD_10', 'HCPCS_CD_11', 'HCPCS_CD_12',\n",
              "       'HCPCS_CD_13', 'HCPCS_CD_14', 'HCPCS_CD_15', 'HCPCS_CD_16',\n",
              "       'HCPCS_CD_17', 'HCPCS_CD_18', 'HCPCS_CD_19', 'HCPCS_CD_20',\n",
              "       'HCPCS_CD_21', 'HCPCS_CD_22', 'HCPCS_CD_23', 'HCPCS_CD_24',\n",
              "       'HCPCS_CD_25', 'HCPCS_CD_26', 'HCPCS_CD_27', 'HCPCS_CD_28',\n",
              "       'HCPCS_CD_29', 'HCPCS_CD_30', 'HCPCS_CD_31', 'HCPCS_CD_32',\n",
              "       'HCPCS_CD_33', 'HCPCS_CD_34', 'HCPCS_CD_35', 'HCPCS_CD_36',\n",
              "       'HCPCS_CD_37', 'HCPCS_CD_38', 'HCPCS_CD_39', 'HCPCS_CD_40',\n",
              "       'HCPCS_CD_41', 'HCPCS_CD_42', 'HCPCS_CD_43', 'HCPCS_CD_44',\n",
              "       'HCPCS_CD_45'],\n",
              "      dtype='object')"
            ]
          },
          "metadata": {
            "tags": []
          },
          "execution_count": 5
        }
      ]
    },
    {
      "cell_type": "code",
      "metadata": {
        "id": "Dss6MR89gmsH",
        "colab_type": "code",
        "outputId": "1f45c8e1-7da0-46e3-cec2-4883294fe997",
        "colab": {
          "base_uri": "https://localhost:8080/",
          "height": 265
        }
      },
      "source": [
        "# Number of missing valules in different columns\n",
        "inpatient.isnull().sum().head(15).plot.barh();"
      ],
      "execution_count": 0,
      "outputs": [
        {
          "output_type": "display_data",
          "data": {
            "image/png": "[encoded data removed]",
            "text/plain": [
              "<Figure size 432x288 with 1 Axes>"
            ]
          },
          "metadata": {
            "tags": []
          }
        }
      ]
    },
    {
      "cell_type": "markdown",
      "metadata": {
        "id": "Kjc-3b99Vncq",
        "colab_type": "text"
      },
      "source": [
        "### Initial cleaning\n",
        "* At first sight it may be tempting to change column names to something more intuitive, but it is probably better to keep it as it is because we will need to use the precise name when we want more information about how it is defined. \n",
        "\n",
        "* One might, instead, add some columns with names that are easier to use. For instance, instead of using *desynpuf_id* as the personal identifier, one might use a new column labelled *pid*.\n",
        "\n",
        "* Upper case columns names are often cumbersome to type and one might want to change it all to lower case.\n",
        "\n",
        "* It is very often useful to have the personal id as the index column since this will make it easier to merge the dataframe with other dataframes or series that have more information about the patients. However, the name of the index column should not conflict with a column name, so we set the index column to be *pid*, keep the original pid column, and label the index column *pid_index.*\n",
        "\n",
        "* There are many other issues that should be checked and changed before analysis, such as datatype definitions and validation, but this is the topic of a separate chapter. For now, we press on with the main concern: How to use these data to answer questions about the frequency of events and the number of people who have been registered with specific diseases."
      ]
    },
    {
      "cell_type": "code",
      "metadata": {
        "id": "SKyYHyRN0WJd",
        "colab_type": "code",
        "colab": {}
      },
      "source": [
        "# Initial data preparation\n",
        "\n",
        "inpatient.columns=inpatient.columns.str.lower()\n",
        "inpatient['pid']=inpatient.desynpuf_id\n",
        "inpatient=inpatient.set_index('pid', drop=False)\n",
        "inpatient.index.name='pid_index'"
      ],
      "execution_count": 0,
      "outputs": []
    },
    {
      "cell_type": "markdown",
      "metadata": {
        "id": "1pOXdWcAuAT6",
        "colab_type": "text"
      },
      "source": [
        "##How many pneumonia events and patients?\n",
        "\n",
        "In the ICD 9 coding system, the code for 'Pneumonia' with unspecified origin is *486*. We also know that the admitting ICD 9 diagnosis recorded for a patient is in the column *admtng_icd9_dgns*. This means that to find the number of pneumonia events, we may start with the *inpatient* dataframe, select the *admtng_icd9_dgns_cd* column, check if the rows are equal to 486, and sum the number of times this is true. In code, which reads almost like the verbal description, we have:\n",
        "\n"
      ]
    },
    {
      "cell_type": "code",
      "metadata": {
        "id": "DkYFqM9Wj93k",
        "colab_type": "code",
        "outputId": "8c9b4cb5-f3b0-4bff-dbd8-11721fb44ddb",
        "colab": {
          "base_uri": "https://localhost:8080/",
          "height": 36
        }
      },
      "source": [
        "# Number of pneumonia events as the admitting diagnosis code\n",
        "\n",
        "(inpatient.admtng_icd9_dgns_cd == '486').sum()\n"
      ],
      "execution_count": 0,
      "outputs": [
        {
          "output_type": "execute_result",
          "data": {
            "text/plain": [
              "2363"
            ]
          },
          "metadata": {
            "tags": []
          },
          "execution_count": 85
        }
      ]
    },
    {
      "cell_type": "markdown",
      "metadata": {
        "id": "JXj3_mIsa1X-",
        "colab_type": "text"
      },
      "source": [
        "Since the same patient may get pneumonia several times, the number of events will not be the same as the number of people who have had pneumonia. To find the number of persons, we can use a two step approach. First we identify the rows with a pneumonia diagnosis. We then select the relevant rows and count how many unique persons there are using the *nunique()* method in Pandas: "
      ]
    },
    {
      "cell_type": "markdown",
      "metadata": {
        "id": "uI3vWJ16oVwG",
        "colab_type": "text"
      },
      "source": [
        "### Identify relevant rows and count unique person ids using *nunique()*"
      ]
    },
    {
      "cell_type": "code",
      "metadata": {
        "id": "cMTAEPVeoMSl",
        "colab_type": "code",
        "outputId": "8f0b6dc5-c56a-4855-bdf5-5318a302b15f",
        "colab": {
          "base_uri": "https://localhost:8080/",
          "height": 36
        }
      },
      "source": [
        "pneumonia_rows=(inpatient.admtng_icd9_dgns_cd == '486')\n",
        "\n",
        "inpatient[pneumonia_rows].pid.nunique()"
      ],
      "execution_count": 0,
      "outputs": [
        {
          "output_type": "execute_result",
          "data": {
            "text/plain": [
              "2290"
            ]
          },
          "metadata": {
            "tags": []
          },
          "execution_count": 86
        }
      ]
    },
    {
      "cell_type": "markdown",
      "metadata": {
        "id": "qBVNzlEvotUb",
        "colab_type": "text"
      },
      "source": [
        "Above we used a two step approach where we first selected the relevant rows, and then used this to find the number of patients with pneumonia. We could have done this all in one single operation:\n",
        "\n"
      ]
    },
    {
      "cell_type": "code",
      "metadata": {
        "colab_type": "code",
        "outputId": "a106b915-dddc-44dd-baa7-3a3d82e198ff",
        "id": "j5Y9tt8DeWsb",
        "colab": {
          "base_uri": "https://localhost:8080/",
          "height": 36
        }
      },
      "source": [
        "# Number of patients who have had a pneumonia event\n",
        "\n",
        "inpatient[inpatient.admtng_icd9_dgns_cd == '486'].pid.nunique()\n",
        "\n",
        "# Or, the same as above, but using the query method to select the relevant rows\n",
        "\n",
        "inpatient.query(\"admtng_icd9_dgns_cd=='486'\").pid.nunique()\n"
      ],
      "execution_count": 0,
      "outputs": [
        {
          "output_type": "execute_result",
          "data": {
            "text/plain": [
              "2290"
            ]
          },
          "metadata": {
            "tags": []
          },
          "execution_count": 26
        }
      ]
    },
    {
      "cell_type": "markdown",
      "metadata": {
        "id": "mcysTTMOpVx5",
        "colab_type": "text"
      },
      "source": [
        "The long chain is not too bad in this case, but in general it is better to  break the analysis down into small and readable steps since this makes it easier to discover mistakes in the analysis. In this sense, \n",
        "\n",
        "```inpatient[pneumonia_rows].pid.nunique()```\n",
        "\n",
        "is better than \n",
        "\n",
        "```inpatient[inpatient.admtng_icd9_dgns_cd == '486'].pid.nunique()```\n",
        "\n",
        "Not only is it more readable, is is also reusable. We have created an object, *pneumonia_rows*, that can be used later on when we want to select these rows, without having to write the code and the conditions once again. For instance, if we want to find out how many pneumonia events there were in 2010:\n",
        "\n",
        "\n",
        "\n"
      ]
    },
    {
      "cell_type": "code",
      "metadata": {
        "id": "NjpBDboP0taa",
        "colab_type": "code",
        "outputId": "63766389-8469-4841-aeb6-88abbeaccfbd",
        "colab": {
          "base_uri": "https://localhost:8080/",
          "height": 36
        }
      },
      "source": [
        "# mark rows with claims from dates in 2010\n",
        "year_2010_rows = inpatient.clm_from_dt.astype(str).str.startswith('2010')\n",
        "\n",
        "# how many events have pneumonia codes as the admission diagnosis and are in 2010\n",
        "(pneumonia_rows & year_2010_rows).sum()"
      ],
      "execution_count": 0,
      "outputs": [
        {
          "output_type": "execute_result",
          "data": {
            "text/plain": [
              "413"
            ]
          },
          "metadata": {
            "tags": []
          },
          "execution_count": 48
        }
      ]
    },
    {
      "cell_type": "markdown",
      "metadata": {
        "id": "uYbU6rB97ZHh",
        "colab_type": "text"
      },
      "source": [
        "In this code we reused the object called *pneumonia_rows*. The code also shows some of the simpliclity and power of the notation of python and pandas. A simple symbol - & - between two objects will automatically produce a new object that is true for those rows where both objects are true ie. the row is from 2010 and it has a pneumonia dianosis."
      ]
    },
    {
      "cell_type": "markdown",
      "metadata": {
        "id": "F6NVD8Ob0rrA",
        "colab_type": "text"
      },
      "source": [
        "Note (Gotcha): If you change the length or the row-order (sorting) of the dataframe, the *pneumonia_rows* object should be recalculated."
      ]
    },
    {
      "cell_type": "markdown",
      "metadata": {
        "id": "S9oUn5fgEknA",
        "colab_type": "text"
      },
      "source": [
        "## Potential problem: Multiple code columns\n",
        "\n",
        "The method outlined above works well when we are counting a single code that exists in a single column. Often, however, we have many columns with diagnostic codes (icd_1, icd_2 etc). Pandas can handle this quite easily by first selecting the relevant columns and then asking which of the cells that contain the code we are interested in. "
      ]
    },
    {
      "cell_type": "markdown",
      "metadata": {
        "id": "qEK_d7109V8F",
        "colab_type": "text"
      },
      "source": [
        "Make a list of relevant columns"
      ]
    },
    {
      "cell_type": "code",
      "metadata": {
        "colab_type": "code",
        "id": "avS5uvanBfI8",
        "colab": {}
      },
      "source": [
        "icd_columns = ['icd9_dgns_cd_1', 'icd9_dgns_cd_2', 'icd9_dgns_cd_3', 'icd9_dgns_cd_4',\n",
        "       'icd9_dgns_cd_5', 'icd9_dgns_cd_6', 'icd9_dgns_cd_7', 'icd9_dgns_cd_8',\n",
        "       'icd9_dgns_cd_9', 'icd9_dgns_cd_10']"
      ],
      "execution_count": 0,
      "outputs": []
    },
    {
      "cell_type": "markdown",
      "metadata": {
        "id": "BT6S9oak9c-K",
        "colab_type": "text"
      },
      "source": [
        "Select the columns from the dataframe"
      ]
    },
    {
      "cell_type": "code",
      "metadata": {
        "colab_type": "code",
        "outputId": "9320407e-ad53-4b3c-8a52-aa2890e0cf15",
        "id": "87YUESJRBfJN",
        "colab": {
          "base_uri": "https://localhost:8080/",
          "height": 475
        }
      },
      "source": [
        "inpatient[icd_columns] "
      ],
      "execution_count": 0,
      "outputs": [
        {
          "output_type": "execute_result",
          "data": {
            "text/html": [
              "<div>\n",
              "<style scoped>\n",
              "    .dataframe tbody tr th:only-of-type {\n",
              "        vertical-align: middle;\n",
              "    }\n",
              "\n",
              "    .dataframe tbody tr th {\n",
              "        vertical-align: top;\n",
              "    }\n",
              "\n",
              "    .dataframe thead th {\n",
              "        text-align: right;\n",
              "    }\n",
              "</style>\n",
              "<table border=\"1\" class=\"dataframe\">\n",
              "  <thead>\n",
              "    <tr style=\"text-align: right;\">\n",
              "      <th></th>\n",
              "      <th>icd9_dgns_cd_1</th>\n",
              "      <th>icd9_dgns_cd_2</th>\n",
              "      <th>icd9_dgns_cd_3</th>\n",
              "      <th>icd9_dgns_cd_4</th>\n",
              "      <th>icd9_dgns_cd_5</th>\n",
              "      <th>icd9_dgns_cd_6</th>\n",
              "      <th>icd9_dgns_cd_7</th>\n",
              "      <th>icd9_dgns_cd_8</th>\n",
              "      <th>icd9_dgns_cd_9</th>\n",
              "      <th>icd9_dgns_cd_10</th>\n",
              "    </tr>\n",
              "    <tr>\n",
              "      <th>pid_index</th>\n",
              "      <th></th>\n",
              "      <th></th>\n",
              "      <th></th>\n",
              "      <th></th>\n",
              "      <th></th>\n",
              "      <th></th>\n",
              "      <th></th>\n",
              "      <th></th>\n",
              "      <th></th>\n",
              "      <th></th>\n",
              "    </tr>\n",
              "  </thead>\n",
              "  <tbody>\n",
              "    <tr>\n",
              "      <th>00013D2EFD8E45D1</th>\n",
              "      <td>7802</td>\n",
              "      <td>78820</td>\n",
              "      <td>V4501</td>\n",
              "      <td>4280</td>\n",
              "      <td>2720</td>\n",
              "      <td>4019</td>\n",
              "      <td>V4502</td>\n",
              "      <td>73300</td>\n",
              "      <td>E9330</td>\n",
              "      <td>NaN</td>\n",
              "    </tr>\n",
              "    <tr>\n",
              "      <th>00016F745862898F</th>\n",
              "      <td>1970</td>\n",
              "      <td>4019</td>\n",
              "      <td>5853</td>\n",
              "      <td>7843</td>\n",
              "      <td>2768</td>\n",
              "      <td>71590</td>\n",
              "      <td>2724</td>\n",
              "      <td>19889</td>\n",
              "      <td>5849</td>\n",
              "      <td>NaN</td>\n",
              "    </tr>\n",
              "    <tr>\n",
              "      <th>00016F745862898F</th>\n",
              "      <td>6186</td>\n",
              "      <td>2948</td>\n",
              "      <td>56400</td>\n",
              "      <td>NaN</td>\n",
              "      <td>NaN</td>\n",
              "      <td>NaN</td>\n",
              "      <td>NaN</td>\n",
              "      <td>NaN</td>\n",
              "      <td>NaN</td>\n",
              "      <td>NaN</td>\n",
              "    </tr>\n",
              "    <tr>\n",
              "      <th>00016F745862898F</th>\n",
              "      <td>29623</td>\n",
              "      <td>30390</td>\n",
              "      <td>71690</td>\n",
              "      <td>34590</td>\n",
              "      <td>V1581</td>\n",
              "      <td>32723</td>\n",
              "      <td>NaN</td>\n",
              "      <td>NaN</td>\n",
              "      <td>NaN</td>\n",
              "      <td>NaN</td>\n",
              "    </tr>\n",
              "    <tr>\n",
              "      <th>00016F745862898F</th>\n",
              "      <td>3569</td>\n",
              "      <td>4019</td>\n",
              "      <td>3542</td>\n",
              "      <td>V8801</td>\n",
              "      <td>78820</td>\n",
              "      <td>2639</td>\n",
              "      <td>7840</td>\n",
              "      <td>7856</td>\n",
              "      <td>4271</td>\n",
              "      <td>NaN</td>\n",
              "    </tr>\n",
              "    <tr>\n",
              "      <th>...</th>\n",
              "      <td>...</td>\n",
              "      <td>...</td>\n",
              "      <td>...</td>\n",
              "      <td>...</td>\n",
              "      <td>...</td>\n",
              "      <td>...</td>\n",
              "      <td>...</td>\n",
              "      <td>...</td>\n",
              "      <td>...</td>\n",
              "      <td>...</td>\n",
              "    </tr>\n",
              "    <tr>\n",
              "      <th>FFF8B49458F9FFA7</th>\n",
              "      <td>4871</td>\n",
              "      <td>41400</td>\n",
              "      <td>27651</td>\n",
              "      <td>60000</td>\n",
              "      <td>40390</td>\n",
              "      <td>3659</td>\n",
              "      <td>NaN</td>\n",
              "      <td>NaN</td>\n",
              "      <td>NaN</td>\n",
              "      <td>NaN</td>\n",
              "    </tr>\n",
              "    <tr>\n",
              "      <th>FFF8B49458F9FFA7</th>\n",
              "      <td>9694</td>\n",
              "      <td>2989</td>\n",
              "      <td>9663</td>\n",
              "      <td>58881</td>\n",
              "      <td>2859</td>\n",
              "      <td>5790</td>\n",
              "      <td>NaN</td>\n",
              "      <td>NaN</td>\n",
              "      <td>NaN</td>\n",
              "      <td>NaN</td>\n",
              "    </tr>\n",
              "    <tr>\n",
              "      <th>FFFA950301FCA748</th>\n",
              "      <td>1985</td>\n",
              "      <td>3694</td>\n",
              "      <td>25000</td>\n",
              "      <td>73300</td>\n",
              "      <td>33829</td>\n",
              "      <td>4168</td>\n",
              "      <td>2859</td>\n",
              "      <td>28522</td>\n",
              "      <td>NaN</td>\n",
              "      <td>NaN</td>\n",
              "    </tr>\n",
              "    <tr>\n",
              "      <th>FFFC880E13CA6278</th>\n",
              "      <td>1519</td>\n",
              "      <td>1977</td>\n",
              "      <td>70725</td>\n",
              "      <td>2724</td>\n",
              "      <td>5723</td>\n",
              "      <td>2639</td>\n",
              "      <td>E969</td>\n",
              "      <td>5070</td>\n",
              "      <td>7830</td>\n",
              "      <td>NaN</td>\n",
              "    </tr>\n",
              "    <tr>\n",
              "      <th>FFFE3ED9582AD46E</th>\n",
              "      <td>41400</td>\n",
              "      <td>60000</td>\n",
              "      <td>V1582</td>\n",
              "      <td>4111</td>\n",
              "      <td>V854</td>\n",
              "      <td>4019</td>\n",
              "      <td>25000</td>\n",
              "      <td>V1251</td>\n",
              "      <td>2720</td>\n",
              "      <td>NaN</td>\n",
              "    </tr>\n",
              "  </tbody>\n",
              "</table>\n",
              "<p>66773 rows × 10 columns</p>\n",
              "</div>"
            ],
            "text/plain": [
              "                 icd9_dgns_cd_1 icd9_dgns_cd_2  ... icd9_dgns_cd_9 icd9_dgns_cd_10\n",
              "pid_index                                       ...                               \n",
              "00013D2EFD8E45D1           7802          78820  ...          E9330             NaN\n",
              "00016F745862898F           1970           4019  ...           5849             NaN\n",
              "00016F745862898F           6186           2948  ...            NaN             NaN\n",
              "00016F745862898F          29623          30390  ...            NaN             NaN\n",
              "00016F745862898F           3569           4019  ...           4271             NaN\n",
              "...                         ...            ...  ...            ...             ...\n",
              "FFF8B49458F9FFA7           4871          41400  ...            NaN             NaN\n",
              "FFF8B49458F9FFA7           9694           2989  ...            NaN             NaN\n",
              "FFFA950301FCA748           1985           3694  ...            NaN             NaN\n",
              "FFFC880E13CA6278           1519           1977  ...           7830             NaN\n",
              "FFFE3ED9582AD46E          41400          60000  ...           2720             NaN\n",
              "\n",
              "[66773 rows x 10 columns]"
            ]
          },
          "metadata": {
            "tags": []
          },
          "execution_count": 8
        }
      ]
    },
    {
      "cell_type": "markdown",
      "metadata": {
        "id": "8Em7viSu9QOY",
        "colab_type": "text"
      },
      "source": [
        "Mark the cells that are equal to code 486"
      ]
    },
    {
      "cell_type": "code",
      "metadata": {
        "id": "YS0HPDgtCatr",
        "colab_type": "code",
        "outputId": "a119a08b-8861-4cdf-82d1-dfa54ecac63b",
        "colab": {
          "base_uri": "https://localhost:8080/",
          "height": 475
        }
      },
      "source": [
        "inpatient[icd_columns] == '486'"
      ],
      "execution_count": 0,
      "outputs": [
        {
          "output_type": "execute_result",
          "data": {
            "text/html": [
              "<div>\n",
              "<style scoped>\n",
              "    .dataframe tbody tr th:only-of-type {\n",
              "        vertical-align: middle;\n",
              "    }\n",
              "\n",
              "    .dataframe tbody tr th {\n",
              "        vertical-align: top;\n",
              "    }\n",
              "\n",
              "    .dataframe thead th {\n",
              "        text-align: right;\n",
              "    }\n",
              "</style>\n",
              "<table border=\"1\" class=\"dataframe\">\n",
              "  <thead>\n",
              "    <tr style=\"text-align: right;\">\n",
              "      <th></th>\n",
              "      <th>icd9_dgns_cd_1</th>\n",
              "      <th>icd9_dgns_cd_2</th>\n",
              "      <th>icd9_dgns_cd_3</th>\n",
              "      <th>icd9_dgns_cd_4</th>\n",
              "      <th>icd9_dgns_cd_5</th>\n",
              "      <th>icd9_dgns_cd_6</th>\n",
              "      <th>icd9_dgns_cd_7</th>\n",
              "      <th>icd9_dgns_cd_8</th>\n",
              "      <th>icd9_dgns_cd_9</th>\n",
              "      <th>icd9_dgns_cd_10</th>\n",
              "    </tr>\n",
              "    <tr>\n",
              "      <th>pid_index</th>\n",
              "      <th></th>\n",
              "      <th></th>\n",
              "      <th></th>\n",
              "      <th></th>\n",
              "      <th></th>\n",
              "      <th></th>\n",
              "      <th></th>\n",
              "      <th></th>\n",
              "      <th></th>\n",
              "      <th></th>\n",
              "    </tr>\n",
              "  </thead>\n",
              "  <tbody>\n",
              "    <tr>\n",
              "      <th>00013D2EFD8E45D1</th>\n",
              "      <td>False</td>\n",
              "      <td>False</td>\n",
              "      <td>False</td>\n",
              "      <td>False</td>\n",
              "      <td>False</td>\n",
              "      <td>False</td>\n",
              "      <td>False</td>\n",
              "      <td>False</td>\n",
              "      <td>False</td>\n",
              "      <td>False</td>\n",
              "    </tr>\n",
              "    <tr>\n",
              "      <th>00016F745862898F</th>\n",
              "      <td>False</td>\n",
              "      <td>False</td>\n",
              "      <td>False</td>\n",
              "      <td>False</td>\n",
              "      <td>False</td>\n",
              "      <td>False</td>\n",
              "      <td>False</td>\n",
              "      <td>False</td>\n",
              "      <td>False</td>\n",
              "      <td>False</td>\n",
              "    </tr>\n",
              "    <tr>\n",
              "      <th>00016F745862898F</th>\n",
              "      <td>False</td>\n",
              "      <td>False</td>\n",
              "      <td>False</td>\n",
              "      <td>False</td>\n",
              "      <td>False</td>\n",
              "      <td>False</td>\n",
              "      <td>False</td>\n",
              "      <td>False</td>\n",
              "      <td>False</td>\n",
              "      <td>False</td>\n",
              "    </tr>\n",
              "    <tr>\n",
              "      <th>00016F745862898F</th>\n",
              "      <td>False</td>\n",
              "      <td>False</td>\n",
              "      <td>False</td>\n",
              "      <td>False</td>\n",
              "      <td>False</td>\n",
              "      <td>False</td>\n",
              "      <td>False</td>\n",
              "      <td>False</td>\n",
              "      <td>False</td>\n",
              "      <td>False</td>\n",
              "    </tr>\n",
              "    <tr>\n",
              "      <th>00016F745862898F</th>\n",
              "      <td>False</td>\n",
              "      <td>False</td>\n",
              "      <td>False</td>\n",
              "      <td>False</td>\n",
              "      <td>False</td>\n",
              "      <td>False</td>\n",
              "      <td>False</td>\n",
              "      <td>False</td>\n",
              "      <td>False</td>\n",
              "      <td>False</td>\n",
              "    </tr>\n",
              "    <tr>\n",
              "      <th>...</th>\n",
              "      <td>...</td>\n",
              "      <td>...</td>\n",
              "      <td>...</td>\n",
              "      <td>...</td>\n",
              "      <td>...</td>\n",
              "      <td>...</td>\n",
              "      <td>...</td>\n",
              "      <td>...</td>\n",
              "      <td>...</td>\n",
              "      <td>...</td>\n",
              "    </tr>\n",
              "    <tr>\n",
              "      <th>FFF8B49458F9FFA7</th>\n",
              "      <td>False</td>\n",
              "      <td>False</td>\n",
              "      <td>False</td>\n",
              "      <td>False</td>\n",
              "      <td>False</td>\n",
              "      <td>False</td>\n",
              "      <td>False</td>\n",
              "      <td>False</td>\n",
              "      <td>False</td>\n",
              "      <td>False</td>\n",
              "    </tr>\n",
              "    <tr>\n",
              "      <th>FFF8B49458F9FFA7</th>\n",
              "      <td>False</td>\n",
              "      <td>False</td>\n",
              "      <td>False</td>\n",
              "      <td>False</td>\n",
              "      <td>False</td>\n",
              "      <td>False</td>\n",
              "      <td>False</td>\n",
              "      <td>False</td>\n",
              "      <td>False</td>\n",
              "      <td>False</td>\n",
              "    </tr>\n",
              "    <tr>\n",
              "      <th>FFFA950301FCA748</th>\n",
              "      <td>False</td>\n",
              "      <td>False</td>\n",
              "      <td>False</td>\n",
              "      <td>False</td>\n",
              "      <td>False</td>\n",
              "      <td>False</td>\n",
              "      <td>False</td>\n",
              "      <td>False</td>\n",
              "      <td>False</td>\n",
              "      <td>False</td>\n",
              "    </tr>\n",
              "    <tr>\n",
              "      <th>FFFC880E13CA6278</th>\n",
              "      <td>False</td>\n",
              "      <td>False</td>\n",
              "      <td>False</td>\n",
              "      <td>False</td>\n",
              "      <td>False</td>\n",
              "      <td>False</td>\n",
              "      <td>False</td>\n",
              "      <td>False</td>\n",
              "      <td>False</td>\n",
              "      <td>False</td>\n",
              "    </tr>\n",
              "    <tr>\n",
              "      <th>FFFE3ED9582AD46E</th>\n",
              "      <td>False</td>\n",
              "      <td>False</td>\n",
              "      <td>False</td>\n",
              "      <td>False</td>\n",
              "      <td>False</td>\n",
              "      <td>False</td>\n",
              "      <td>False</td>\n",
              "      <td>False</td>\n",
              "      <td>False</td>\n",
              "      <td>False</td>\n",
              "    </tr>\n",
              "  </tbody>\n",
              "</table>\n",
              "<p>66773 rows × 10 columns</p>\n",
              "</div>"
            ],
            "text/plain": [
              "                  icd9_dgns_cd_1  ...  icd9_dgns_cd_10\n",
              "pid_index                         ...                 \n",
              "00013D2EFD8E45D1           False  ...            False\n",
              "00016F745862898F           False  ...            False\n",
              "00016F745862898F           False  ...            False\n",
              "00016F745862898F           False  ...            False\n",
              "00016F745862898F           False  ...            False\n",
              "...                          ...  ...              ...\n",
              "FFF8B49458F9FFA7           False  ...            False\n",
              "FFF8B49458F9FFA7           False  ...            False\n",
              "FFFA950301FCA748           False  ...            False\n",
              "FFFC880E13CA6278           False  ...            False\n",
              "FFFE3ED9582AD46E           False  ...            False\n",
              "\n",
              "[66773 rows x 10 columns]"
            ]
          },
          "metadata": {
            "tags": []
          },
          "execution_count": 43
        }
      ]
    },
    {
      "cell_type": "code",
      "metadata": {
        "id": "xvj4CvN1Cahr",
        "colab_type": "code",
        "outputId": "db2798dd-2710-4eab-e4bb-59b6f63c127b",
        "colab": {
          "base_uri": "https://localhost:8080/",
          "height": 36
        }
      },
      "source": [
        "# Sum all the values in the dataframe\n",
        "(inpatient[icd_columns] == '486').values.sum()"
      ],
      "execution_count": 0,
      "outputs": [
        {
          "output_type": "execute_result",
          "data": {
            "text/plain": [
              "6064"
            ]
          },
          "metadata": {
            "tags": []
          },
          "execution_count": 44
        }
      ]
    },
    {
      "cell_type": "markdown",
      "metadata": {
        "id": "TRQorvY2DYEE",
        "colab_type": "text"
      },
      "source": [
        "Notice that we this time get more events since we counted not only the single admission diagnostic code, but all (ten) possible diagnostic codes that were used to describe the event. Pneumonia could be a secondary or third diagnosis and this last counting includes these codes as well.\n",
        "\n",
        "The approach of creating a new dataframe with cells that are true or false depending on a condition, is a powerful idea that can be used when we only want to include some cells in a calculation. You will often see this referred to as a 'mask.' ie:\n",
        "\n"
      ]
    },
    {
      "cell_type": "code",
      "metadata": {
        "id": "_cgE0GcoE99g",
        "colab_type": "code",
        "outputId": "c838998b-f2d6-44b6-eeaa-92be1399f5db",
        "colab": {
          "base_uri": "https://localhost:8080/",
          "height": 36
        }
      },
      "source": [
        "mask= inpatient[icd_columns] == '486'\n",
        "mask.values.sum()\n"
      ],
      "execution_count": 0,
      "outputs": [
        {
          "output_type": "execute_result",
          "data": {
            "text/plain": [
              "6064"
            ]
          },
          "metadata": {
            "tags": []
          },
          "execution_count": 45
        }
      ]
    },
    {
      "cell_type": "markdown",
      "metadata": {
        "id": "s084sNpqFNjK",
        "colab_type": "text"
      },
      "source": [
        "Note also that it is possible to select the relevant columns using *.loc()* and so-called fancy-indexing:"
      ]
    },
    {
      "cell_type": "code",
      "metadata": {
        "id": "GV2b_ln8F0v3",
        "colab_type": "code",
        "outputId": "84320f29-d023-4a7e-b49e-c38629352da4",
        "colab": {
          "base_uri": "https://localhost:8080/",
          "height": 475
        }
      },
      "source": [
        "# use loc to select relevant colums. \n",
        "inpatient.loc[:,'icd9_dgns_cd_1':'icd9_dgns_cd_10']"
      ],
      "execution_count": 0,
      "outputs": [
        {
          "output_type": "execute_result",
          "data": {
            "text/html": [
              "<div>\n",
              "<style scoped>\n",
              "    .dataframe tbody tr th:only-of-type {\n",
              "        vertical-align: middle;\n",
              "    }\n",
              "\n",
              "    .dataframe tbody tr th {\n",
              "        vertical-align: top;\n",
              "    }\n",
              "\n",
              "    .dataframe thead th {\n",
              "        text-align: right;\n",
              "    }\n",
              "</style>\n",
              "<table border=\"1\" class=\"dataframe\">\n",
              "  <thead>\n",
              "    <tr style=\"text-align: right;\">\n",
              "      <th></th>\n",
              "      <th>icd9_dgns_cd_1</th>\n",
              "      <th>icd9_dgns_cd_2</th>\n",
              "      <th>icd9_dgns_cd_3</th>\n",
              "      <th>icd9_dgns_cd_4</th>\n",
              "      <th>icd9_dgns_cd_5</th>\n",
              "      <th>icd9_dgns_cd_6</th>\n",
              "      <th>icd9_dgns_cd_7</th>\n",
              "      <th>icd9_dgns_cd_8</th>\n",
              "      <th>icd9_dgns_cd_9</th>\n",
              "      <th>icd9_dgns_cd_10</th>\n",
              "    </tr>\n",
              "    <tr>\n",
              "      <th>pid_index</th>\n",
              "      <th></th>\n",
              "      <th></th>\n",
              "      <th></th>\n",
              "      <th></th>\n",
              "      <th></th>\n",
              "      <th></th>\n",
              "      <th></th>\n",
              "      <th></th>\n",
              "      <th></th>\n",
              "      <th></th>\n",
              "    </tr>\n",
              "  </thead>\n",
              "  <tbody>\n",
              "    <tr>\n",
              "      <th>00013D2EFD8E45D1</th>\n",
              "      <td>7802</td>\n",
              "      <td>78820</td>\n",
              "      <td>V4501</td>\n",
              "      <td>4280</td>\n",
              "      <td>2720</td>\n",
              "      <td>4019</td>\n",
              "      <td>V4502</td>\n",
              "      <td>73300</td>\n",
              "      <td>E9330</td>\n",
              "      <td>NaN</td>\n",
              "    </tr>\n",
              "    <tr>\n",
              "      <th>00016F745862898F</th>\n",
              "      <td>1970</td>\n",
              "      <td>4019</td>\n",
              "      <td>5853</td>\n",
              "      <td>7843</td>\n",
              "      <td>2768</td>\n",
              "      <td>71590</td>\n",
              "      <td>2724</td>\n",
              "      <td>19889</td>\n",
              "      <td>5849</td>\n",
              "      <td>NaN</td>\n",
              "    </tr>\n",
              "    <tr>\n",
              "      <th>00016F745862898F</th>\n",
              "      <td>6186</td>\n",
              "      <td>2948</td>\n",
              "      <td>56400</td>\n",
              "      <td>NaN</td>\n",
              "      <td>NaN</td>\n",
              "      <td>NaN</td>\n",
              "      <td>NaN</td>\n",
              "      <td>NaN</td>\n",
              "      <td>NaN</td>\n",
              "      <td>NaN</td>\n",
              "    </tr>\n",
              "    <tr>\n",
              "      <th>00016F745862898F</th>\n",
              "      <td>29623</td>\n",
              "      <td>30390</td>\n",
              "      <td>71690</td>\n",
              "      <td>34590</td>\n",
              "      <td>V1581</td>\n",
              "      <td>32723</td>\n",
              "      <td>NaN</td>\n",
              "      <td>NaN</td>\n",
              "      <td>NaN</td>\n",
              "      <td>NaN</td>\n",
              "    </tr>\n",
              "    <tr>\n",
              "      <th>00016F745862898F</th>\n",
              "      <td>3569</td>\n",
              "      <td>4019</td>\n",
              "      <td>3542</td>\n",
              "      <td>V8801</td>\n",
              "      <td>78820</td>\n",
              "      <td>2639</td>\n",
              "      <td>7840</td>\n",
              "      <td>7856</td>\n",
              "      <td>4271</td>\n",
              "      <td>NaN</td>\n",
              "    </tr>\n",
              "    <tr>\n",
              "      <th>...</th>\n",
              "      <td>...</td>\n",
              "      <td>...</td>\n",
              "      <td>...</td>\n",
              "      <td>...</td>\n",
              "      <td>...</td>\n",
              "      <td>...</td>\n",
              "      <td>...</td>\n",
              "      <td>...</td>\n",
              "      <td>...</td>\n",
              "      <td>...</td>\n",
              "    </tr>\n",
              "    <tr>\n",
              "      <th>FFF8B49458F9FFA7</th>\n",
              "      <td>4871</td>\n",
              "      <td>41400</td>\n",
              "      <td>27651</td>\n",
              "      <td>60000</td>\n",
              "      <td>40390</td>\n",
              "      <td>3659</td>\n",
              "      <td>NaN</td>\n",
              "      <td>NaN</td>\n",
              "      <td>NaN</td>\n",
              "      <td>NaN</td>\n",
              "    </tr>\n",
              "    <tr>\n",
              "      <th>FFF8B49458F9FFA7</th>\n",
              "      <td>9694</td>\n",
              "      <td>2989</td>\n",
              "      <td>9663</td>\n",
              "      <td>58881</td>\n",
              "      <td>2859</td>\n",
              "      <td>5790</td>\n",
              "      <td>NaN</td>\n",
              "      <td>NaN</td>\n",
              "      <td>NaN</td>\n",
              "      <td>NaN</td>\n",
              "    </tr>\n",
              "    <tr>\n",
              "      <th>FFFA950301FCA748</th>\n",
              "      <td>1985</td>\n",
              "      <td>3694</td>\n",
              "      <td>25000</td>\n",
              "      <td>73300</td>\n",
              "      <td>33829</td>\n",
              "      <td>4168</td>\n",
              "      <td>2859</td>\n",
              "      <td>28522</td>\n",
              "      <td>NaN</td>\n",
              "      <td>NaN</td>\n",
              "    </tr>\n",
              "    <tr>\n",
              "      <th>FFFC880E13CA6278</th>\n",
              "      <td>1519</td>\n",
              "      <td>1977</td>\n",
              "      <td>70725</td>\n",
              "      <td>2724</td>\n",
              "      <td>5723</td>\n",
              "      <td>2639</td>\n",
              "      <td>E969</td>\n",
              "      <td>5070</td>\n",
              "      <td>7830</td>\n",
              "      <td>NaN</td>\n",
              "    </tr>\n",
              "    <tr>\n",
              "      <th>FFFE3ED9582AD46E</th>\n",
              "      <td>41400</td>\n",
              "      <td>60000</td>\n",
              "      <td>V1582</td>\n",
              "      <td>4111</td>\n",
              "      <td>V854</td>\n",
              "      <td>4019</td>\n",
              "      <td>25000</td>\n",
              "      <td>V1251</td>\n",
              "      <td>2720</td>\n",
              "      <td>NaN</td>\n",
              "    </tr>\n",
              "  </tbody>\n",
              "</table>\n",
              "<p>66773 rows × 10 columns</p>\n",
              "</div>"
            ],
            "text/plain": [
              "                 icd9_dgns_cd_1 icd9_dgns_cd_2  ... icd9_dgns_cd_9 icd9_dgns_cd_10\n",
              "pid_index                                       ...                               \n",
              "00013D2EFD8E45D1           7802          78820  ...          E9330             NaN\n",
              "00016F745862898F           1970           4019  ...           5849             NaN\n",
              "00016F745862898F           6186           2948  ...            NaN             NaN\n",
              "00016F745862898F          29623          30390  ...            NaN             NaN\n",
              "00016F745862898F           3569           4019  ...           4271             NaN\n",
              "...                         ...            ...  ...            ...             ...\n",
              "FFF8B49458F9FFA7           4871          41400  ...            NaN             NaN\n",
              "FFF8B49458F9FFA7           9694           2989  ...            NaN             NaN\n",
              "FFFA950301FCA748           1985           3694  ...            NaN             NaN\n",
              "FFFC880E13CA6278           1519           1977  ...           7830             NaN\n",
              "FFFE3ED9582AD46E          41400          60000  ...           2720             NaN\n",
              "\n",
              "[66773 rows x 10 columns]"
            ]
          },
          "metadata": {
            "tags": []
          },
          "execution_count": 46
        }
      ]
    },
    {
      "cell_type": "markdown",
      "metadata": {
        "id": "sLn2hRIUBx6j",
        "colab_type": "text"
      },
      "source": [
        "The format for the *.loc()* method is: \n",
        "\n",
        "```loc[row selection, column selection]```\n",
        "\n",
        "The fancy notation for selection means that it is possible to use several efficient shortcuts. For instance, consider again:\n",
        "\n",
        "```inpatient.loc[:,'icd9_dgns_cd_1':'icd9_dgns_cd_10']```\n",
        "\n",
        "The row selector is just a colon (:) which is shorthand for \"select every row\" while the colum selector ```'icd9_dgns_cd_1':'icd9_dgns_cd_10'``` means \"use every column between (and including) *icd9_dgns_cd_1* and *icd9_dgns_cd_10*.\n",
        "\n",
        "In this way we do not have to specify the full list of columns. This is very useful for quick explorations, but it also makes the analysis dependent on the order of the columns. In this sense it is less robust than the explicit approach of naming all the relevant columns. For productions and publication analysis one should consider the more explicit approach."
      ]
    },
    {
      "cell_type": "markdown",
      "metadata": {
        "id": "gkU3ULQ55x8s",
        "colab_type": "text"
      },
      "source": [
        "###A side note on the *.loc()* notation\n",
        "\n",
        "```(inpatient[icd_columns] == '486').values.sum()```\n",
        "\n",
        "does the same as:\n",
        "\n",
        "```(inpatient.loc[:,icd_columns] == '486').values.sum()```\n",
        "\n",
        "One difference, and an advantage of using *loc()*, is that it is posssible to combine both row and column selection. For instance, if we want to count the number of pneumonia events in 2010:"
      ]
    },
    {
      "cell_type": "code",
      "metadata": {
        "id": "7AytenI4HzFA",
        "colab_type": "code",
        "outputId": "7abc3dc4-d99f-4e8e-e340-ff6fde8796b4",
        "colab": {
          "base_uri": "https://localhost:8080/",
          "height": 36
        }
      },
      "source": [
        "# Using *.loc()* to select on rows as well as columns\n",
        "(inpatient.loc[year_2010_rows,icd_columns] == '486').values.sum()"
      ],
      "execution_count": 0,
      "outputs": [
        {
          "output_type": "execute_result",
          "data": {
            "text/plain": [
              "1166"
            ]
          },
          "metadata": {
            "tags": []
          },
          "execution_count": 49
        }
      ]
    },
    {
      "cell_type": "markdown",
      "metadata": {
        "id": "xyNY2eiD66fl",
        "colab_type": "text"
      },
      "source": [
        "Once again, we get more events this time because we use all ten diagnoses and not only the main diagnosis.\n",
        "\n",
        "\n",
        "Lastly, *.loc()* should be used when you want to assign values as opposed to just viewing or counting. Despite its slightly more complicated structure, many recommend that *.loc()* always be used to select from dataframes."
      ]
    },
    {
      "cell_type": "markdown",
      "metadata": {
        "id": "ktGKYTJxj04t",
        "colab_type": "text"
      },
      "source": [
        "## Counting persons with mutiple relevant columns\n",
        "\n",
        "Having counted the number of *events* of a given code acrosss several columns, the next question is how many *individuals*  who have a pneumonia code in any of the specified columns. To answer this we use Pandas *.any()* method which returns True or False if any of the values in a row (axis=1), or a column (axis=0), or for unique values in the index (level=1) are True.\n",
        "\n",
        "To find the total number of patients admitted with pneumonia, unspecified organism (code 486) across all diagnoses we start by creating a mask, like we did when counting events:"
      ]
    },
    {
      "cell_type": "code",
      "metadata": {
        "id": "T36oXxx3FYNw",
        "colab_type": "code",
        "outputId": "c065fe8f-4a72-4778-8e1d-9b3ac9d7024d",
        "colab": {
          "base_uri": "https://localhost:8080/",
          "height": 258
        }
      },
      "source": [
        "# Create a mask that mark cells with the code 486\n",
        "mask = inpatient[icd_columns] == '486'\n",
        "mask.head()"
      ],
      "execution_count": 0,
      "outputs": [
        {
          "output_type": "execute_result",
          "data": {
            "text/html": [
              "<div>\n",
              "<style scoped>\n",
              "    .dataframe tbody tr th:only-of-type {\n",
              "        vertical-align: middle;\n",
              "    }\n",
              "\n",
              "    .dataframe tbody tr th {\n",
              "        vertical-align: top;\n",
              "    }\n",
              "\n",
              "    .dataframe thead th {\n",
              "        text-align: right;\n",
              "    }\n",
              "</style>\n",
              "<table border=\"1\" class=\"dataframe\">\n",
              "  <thead>\n",
              "    <tr style=\"text-align: right;\">\n",
              "      <th></th>\n",
              "      <th>icd9_dgns_cd_1</th>\n",
              "      <th>icd9_dgns_cd_2</th>\n",
              "      <th>icd9_dgns_cd_3</th>\n",
              "      <th>icd9_dgns_cd_4</th>\n",
              "      <th>icd9_dgns_cd_5</th>\n",
              "      <th>icd9_dgns_cd_6</th>\n",
              "      <th>icd9_dgns_cd_7</th>\n",
              "      <th>icd9_dgns_cd_8</th>\n",
              "      <th>icd9_dgns_cd_9</th>\n",
              "      <th>icd9_dgns_cd_10</th>\n",
              "    </tr>\n",
              "    <tr>\n",
              "      <th>pid_index</th>\n",
              "      <th></th>\n",
              "      <th></th>\n",
              "      <th></th>\n",
              "      <th></th>\n",
              "      <th></th>\n",
              "      <th></th>\n",
              "      <th></th>\n",
              "      <th></th>\n",
              "      <th></th>\n",
              "      <th></th>\n",
              "    </tr>\n",
              "  </thead>\n",
              "  <tbody>\n",
              "    <tr>\n",
              "      <th>00013D2EFD8E45D1</th>\n",
              "      <td>False</td>\n",
              "      <td>False</td>\n",
              "      <td>False</td>\n",
              "      <td>False</td>\n",
              "      <td>False</td>\n",
              "      <td>False</td>\n",
              "      <td>False</td>\n",
              "      <td>False</td>\n",
              "      <td>False</td>\n",
              "      <td>False</td>\n",
              "    </tr>\n",
              "    <tr>\n",
              "      <th>00016F745862898F</th>\n",
              "      <td>False</td>\n",
              "      <td>False</td>\n",
              "      <td>False</td>\n",
              "      <td>False</td>\n",
              "      <td>False</td>\n",
              "      <td>False</td>\n",
              "      <td>False</td>\n",
              "      <td>False</td>\n",
              "      <td>False</td>\n",
              "      <td>False</td>\n",
              "    </tr>\n",
              "    <tr>\n",
              "      <th>00016F745862898F</th>\n",
              "      <td>False</td>\n",
              "      <td>False</td>\n",
              "      <td>False</td>\n",
              "      <td>False</td>\n",
              "      <td>False</td>\n",
              "      <td>False</td>\n",
              "      <td>False</td>\n",
              "      <td>False</td>\n",
              "      <td>False</td>\n",
              "      <td>False</td>\n",
              "    </tr>\n",
              "    <tr>\n",
              "      <th>00016F745862898F</th>\n",
              "      <td>False</td>\n",
              "      <td>False</td>\n",
              "      <td>False</td>\n",
              "      <td>False</td>\n",
              "      <td>False</td>\n",
              "      <td>False</td>\n",
              "      <td>False</td>\n",
              "      <td>False</td>\n",
              "      <td>False</td>\n",
              "      <td>False</td>\n",
              "    </tr>\n",
              "    <tr>\n",
              "      <th>00016F745862898F</th>\n",
              "      <td>False</td>\n",
              "      <td>False</td>\n",
              "      <td>False</td>\n",
              "      <td>False</td>\n",
              "      <td>False</td>\n",
              "      <td>False</td>\n",
              "      <td>False</td>\n",
              "      <td>False</td>\n",
              "      <td>False</td>\n",
              "      <td>False</td>\n",
              "    </tr>\n",
              "  </tbody>\n",
              "</table>\n",
              "</div>"
            ],
            "text/plain": [
              "                  icd9_dgns_cd_1  ...  icd9_dgns_cd_10\n",
              "pid_index                         ...                 \n",
              "00013D2EFD8E45D1           False  ...            False\n",
              "00016F745862898F           False  ...            False\n",
              "00016F745862898F           False  ...            False\n",
              "00016F745862898F           False  ...            False\n",
              "00016F745862898F           False  ...            False\n",
              "\n",
              "[5 rows x 10 columns]"
            ]
          },
          "metadata": {
            "tags": []
          },
          "execution_count": 50
        }
      ]
    },
    {
      "cell_type": "markdown",
      "metadata": {
        "id": "znn38CMT-Aa7",
        "colab_type": "text"
      },
      "source": [
        "We then ask if any of the row values are True i.e. if there is a pneumonia diagnois in any of the ICD columns for that row:"
      ]
    },
    {
      "cell_type": "code",
      "metadata": {
        "id": "3AZQS0RIlkRD",
        "colab_type": "code",
        "outputId": "75ebde5b-6ecf-4c93-ccd2-aa935072b0c7",
        "colab": {
          "base_uri": "https://localhost:8080/",
          "height": 258
        }
      },
      "source": [
        "pneumonia_rows = mask.any(axis=1)\n",
        "pneumonia_rows"
      ],
      "execution_count": 0,
      "outputs": [
        {
          "output_type": "execute_result",
          "data": {
            "text/plain": [
              "pid_index\n",
              "00013D2EFD8E45D1    False\n",
              "00016F745862898F    False\n",
              "00016F745862898F    False\n",
              "00016F745862898F    False\n",
              "00016F745862898F    False\n",
              "                    ...  \n",
              "FFF8B49458F9FFA7    False\n",
              "FFF8B49458F9FFA7    False\n",
              "FFFA950301FCA748    False\n",
              "FFFC880E13CA6278    False\n",
              "FFFE3ED9582AD46E    False\n",
              "Length: 66773, dtype: bool"
            ]
          },
          "metadata": {
            "tags": []
          },
          "execution_count": 51
        }
      ]
    },
    {
      "cell_type": "markdown",
      "metadata": {
        "id": "qpf0R_BES8jr",
        "colab_type": "text"
      },
      "source": [
        "Once we have the rows, we can count the number of unique persons (pids) that exist in the dataframe with the relevant rows. This will be the number of people with pneumonia:"
      ]
    },
    {
      "cell_type": "code",
      "metadata": {
        "id": "MHv9pmAMTBmw",
        "colab_type": "code",
        "outputId": "c71b3c7e-7245-48a7-e6e1-d44b3575b96b",
        "colab": {
          "base_uri": "https://localhost:8080/",
          "height": 36
        }
      },
      "source": [
        "inpatient[pneumonia_rows].pid.nunique()"
      ],
      "execution_count": 0,
      "outputs": [
        {
          "output_type": "execute_result",
          "data": {
            "text/plain": [
              "5509"
            ]
          },
          "metadata": {
            "tags": []
          },
          "execution_count": 46
        }
      ]
    },
    {
      "cell_type": "markdown",
      "metadata": {
        "id": "_jmb4n5w-dLR",
        "colab_type": "text"
      },
      "source": [
        "It may be instructive to contrast this with another approach. Instead of counting personal ids, we could use the *level=1* argument in *any()* to see if persons with the same id has any True observations. True here means \"have received a pneumonia diagnosis\". Like this:"
      ]
    },
    {
      "cell_type": "code",
      "metadata": {
        "id": "d5Z2bkLTlkE4",
        "colab_type": "code",
        "outputId": "0aedd37d-c9f3-49f5-c748-bad40c008e41",
        "colab": {
          "base_uri": "https://localhost:8080/",
          "height": 258
        }
      },
      "source": [
        "# Ask if any of the observations for the same pid (in the index) are True (i.e. if the person has ever received code 486)\n",
        "pneumonia_rows.any(level=0) "
      ],
      "execution_count": 0,
      "outputs": [
        {
          "output_type": "execute_result",
          "data": {
            "text/plain": [
              "pid_index\n",
              "00013D2EFD8E45D1    False\n",
              "00016F745862898F    False\n",
              "00052705243EA128     True\n",
              "0007F12A492FD25D    False\n",
              "000B97BA2314E971    False\n",
              "                    ...  \n",
              "FFF5F9218AB04A41    False\n",
              "FFF8B49458F9FFA7    False\n",
              "FFFA950301FCA748    False\n",
              "FFFC880E13CA6278    False\n",
              "FFFE3ED9582AD46E    False\n",
              "Length: 37780, dtype: bool"
            ]
          },
          "metadata": {
            "tags": []
          },
          "execution_count": 42
        }
      ]
    },
    {
      "cell_type": "markdown",
      "metadata": {
        "id": "qJbwYjE7P-fx",
        "colab_type": "text"
      },
      "source": [
        "Note that this approach depends on the fact that the individual id is in the index.\n",
        "\n",
        "Finally, we sum the number of individuals who have a pneumonia diagnosis in any of the rows to get the same answer as previously:\n"
      ]
    },
    {
      "cell_type": "code",
      "metadata": {
        "id": "n9d0rzE-mbBm",
        "colab_type": "code",
        "outputId": "448d423f-321b-423d-f37c-96969bce6931",
        "colab": {
          "base_uri": "https://localhost:8080/",
          "height": 36
        }
      },
      "source": [
        "# Sum the number of people who have received a pneumonia code\n",
        "pneumonia_rows.any(level=0).sum()"
      ],
      "execution_count": 0,
      "outputs": [
        {
          "output_type": "execute_result",
          "data": {
            "text/plain": [
              "5509"
            ]
          },
          "metadata": {
            "tags": []
          },
          "execution_count": 44
        }
      ]
    },
    {
      "cell_type": "markdown",
      "metadata": {
        "id": "OfbVw_bmQ66S",
        "colab_type": "text"
      },
      "source": [
        "These methods are so powerful that it is useful to summarize:\n",
        "* *.any(axis=0)* : For each row it returns true if any of the values in the rows are true\n",
        "* *.any(axis=1)* : For each column it returns true if any of the values in the column is true\n",
        "* *.any(level=0)* : For each unique value in the index it returns true if any of the observations with the same index value is true.\n",
        "\n",
        "All of this, in one long chain is:\n"
      ]
    },
    {
      "cell_type": "code",
      "metadata": {
        "id": "6RAOETgrmaqP",
        "colab_type": "code",
        "outputId": "1c07578c-5d5d-40ae-aa09-6ddfda21dd49",
        "colab": {
          "base_uri": "https://localhost:8080/",
          "height": 36
        }
      },
      "source": [
        "# All in one chain\n",
        "(inpatient.loc[:,icd_columns] == '486').any(axis=1).any(level=0).sum()"
      ],
      "execution_count": 0,
      "outputs": [
        {
          "output_type": "execute_result",
          "data": {
            "text/plain": [
              "5509"
            ]
          },
          "metadata": {
            "tags": []
          },
          "execution_count": 52
        }
      ]
    },
    {
      "cell_type": "markdown",
      "metadata": {
        "id": "iUJyX_gnScy2",
        "colab_type": "text"
      },
      "source": [
        "Once again it may be easy to understand the long chain if you are used to the Pandas API, but giving thing names and breaking it up is usually a good idea.\n",
        "\n",
        "For instance, the use of *any()* twice in a row may sometimes confuse people. Similarly the meaning of the argument \"*level=1* may not be obvious. All in all, it seems that the most flexible and readable approach is to first name all rows that have a pneumonia code and then use this to count the unique persons.\n",
        "\n",
        "The preferred approach is also more explicit in its focus on counting persons sice it uses a reference to pid. \n",
        "\n",
        "Altogether, it reads more like a sentence: Take the inpatient dataframe, select the rows with pneummonia, focus on the pids and count how many of them that are unique."
      ]
    },
    {
      "cell_type": "code",
      "metadata": {
        "colab_type": "code",
        "outputId": "f7f47e06-5dc5-42fb-bed5-88b7e0a60f7b",
        "id": "MHzG-7wrUdsY",
        "colab": {
          "base_uri": "https://localhost:8080/",
          "height": 36
        }
      },
      "source": [
        "%%timeit\n",
        "inpatient[pneumonia_rows].pid.nunique()"
      ],
      "execution_count": 0,
      "outputs": [
        {
          "output_type": "stream",
          "text": [
            "100 loops, best of 3: 12.6 ms per loop\n"
          ],
          "name": "stdout"
        }
      ]
    },
    {
      "cell_type": "markdown",
      "metadata": {
        "id": "R5PIFyS3L7Uo",
        "colab_type": "text"
      },
      "source": [
        "which looks better than the more complex:"
      ]
    },
    {
      "cell_type": "code",
      "metadata": {
        "id": "zejozZAXN0AI",
        "colab_type": "code",
        "outputId": "62ce6fc9-786d-4247-d907-a3456a196fab",
        "colab": {
          "base_uri": "https://localhost:8080/",
          "height": 35
        }
      },
      "source": [
        "\n",
        "inpatient[inpatient.loc[:,icd_columns] == '486'].any(axis=1).any(level=0).sum() "
      ],
      "execution_count": 0,
      "outputs": [
        {
          "output_type": "execute_result",
          "data": {
            "text/plain": [
              "5509"
            ]
          },
          "metadata": {
            "tags": []
          },
          "execution_count": 17
        }
      ]
    },
    {
      "cell_type": "markdown",
      "metadata": {
        "id": "91DGXcpHMPXD",
        "colab_type": "text"
      },
      "source": [
        "And it is also more intuitive and explicit than:"
      ]
    },
    {
      "cell_type": "code",
      "metadata": {
        "id": "1KttCxk_MAiw",
        "colab_type": "code",
        "outputId": "95067f37-01bf-4ba3-ede8-3ad00b4e7655",
        "colab": {
          "base_uri": "https://localhost:8080/",
          "height": 36
        }
      },
      "source": [
        "pneumonia_rows.any(level=0).sum()"
      ],
      "execution_count": 0,
      "outputs": [
        {
          "output_type": "stream",
          "text": [
            "100 loops, best of 3: 9.84 ms per loop\n"
          ],
          "name": "stdout"
        }
      ]
    },
    {
      "cell_type": "markdown",
      "metadata": {
        "id": "cg2JfBc3Mxjw",
        "colab_type": "text"
      },
      "source": [
        "which does not have an explicit reference to counting personal id's. \n",
        "\n",
        " In short, to count the number of people with a diagnosis across several columns with diagnostic codes, we should first select the relecant rows, then focus on counting the unique pids in these rows:"
      ]
    },
    {
      "cell_type": "code",
      "metadata": {
        "id": "XH04HPszOFkf",
        "colab_type": "code",
        "colab": {}
      },
      "source": [
        "pneumonia_rows = (inpatient[icd_columns] == '486').any(axis=1)\n",
        "inpatient[pneumonia_rows].pid.nunique()"
      ],
      "execution_count": 0,
      "outputs": []
    },
    {
      "cell_type": "markdown",
      "metadata": {
        "id": "fTAJwStfo71o",
        "colab_type": "text"
      },
      "source": [
        "# What if you also have multiple codes?\n",
        "\n",
        "So far we have counted the number of events and persons using only one code. This works if we want to count only one specific type of pneomonia, but what if there are many many medical codes that are relevant to pneumonia and you want to include them all? \n",
        "\n",
        "The general question is how we can count the number of cases when these cases are defined by multiple codes - and they are recorded in in multiple columns.\n",
        "\n",
        "First of all we need to identify the relevant codes. The following reads a codebook for the diagnostic classification system used in the data we have (the International Classification of Diseases, ICD 9):"
      ]
    },
    {
      "cell_type": "code",
      "metadata": {
        "colab_type": "code",
        "outputId": "d20b12f2-398e-48e1-eb97-44625bc113b5",
        "id": "VjXP_6AIW_eb",
        "colab": {
          "base_uri": "https://localhost:8080/",
          "height": 206
        }
      },
      "source": [
        "icd9 = pd.read_csv('https://www.nber.org/data/ICD9ProviderDiagnosticCodes/2010/icd9dx2010.csv')\n",
        "icd9.head()\n"
      ],
      "execution_count": 0,
      "outputs": [
        {
          "output_type": "execute_result",
          "data": {
            "text/html": [
              "<div>\n",
              "<style scoped>\n",
              "    .dataframe tbody tr th:only-of-type {\n",
              "        vertical-align: middle;\n",
              "    }\n",
              "\n",
              "    .dataframe tbody tr th {\n",
              "        vertical-align: top;\n",
              "    }\n",
              "\n",
              "    .dataframe thead th {\n",
              "        text-align: right;\n",
              "    }\n",
              "</style>\n",
              "<table border=\"1\" class=\"dataframe\">\n",
              "  <thead>\n",
              "    <tr style=\"text-align: right;\">\n",
              "      <th></th>\n",
              "      <th>dgns_cd</th>\n",
              "      <th>shortdesc</th>\n",
              "      <th>version</th>\n",
              "      <th>fyear</th>\n",
              "    </tr>\n",
              "  </thead>\n",
              "  <tbody>\n",
              "    <tr>\n",
              "      <th>0</th>\n",
              "      <td>0010</td>\n",
              "      <td>Cholera d/t vib cholerae</td>\n",
              "      <td>27</td>\n",
              "      <td>2010</td>\n",
              "    </tr>\n",
              "    <tr>\n",
              "      <th>1</th>\n",
              "      <td>0011</td>\n",
              "      <td>Cholera d/t vib el tor</td>\n",
              "      <td>27</td>\n",
              "      <td>2010</td>\n",
              "    </tr>\n",
              "    <tr>\n",
              "      <th>2</th>\n",
              "      <td>0019</td>\n",
              "      <td>Cholera NOS</td>\n",
              "      <td>27</td>\n",
              "      <td>2010</td>\n",
              "    </tr>\n",
              "    <tr>\n",
              "      <th>3</th>\n",
              "      <td>0020</td>\n",
              "      <td>Typhoid fever</td>\n",
              "      <td>27</td>\n",
              "      <td>2010</td>\n",
              "    </tr>\n",
              "    <tr>\n",
              "      <th>4</th>\n",
              "      <td>0021</td>\n",
              "      <td>Paratyphoid fever a</td>\n",
              "      <td>27</td>\n",
              "      <td>2010</td>\n",
              "    </tr>\n",
              "  </tbody>\n",
              "</table>\n",
              "</div>"
            ],
            "text/plain": [
              "  dgns_cd                 shortdesc  version  fyear\n",
              "0    0010  Cholera d/t vib cholerae       27   2010\n",
              "1    0011    Cholera d/t vib el tor       27   2010\n",
              "2    0019               Cholera NOS       27   2010\n",
              "3    0020             Typhoid fever       27   2010\n",
              "4    0021       Paratyphoid fever a       27   2010"
            ]
          },
          "metadata": {
            "tags": []
          },
          "execution_count": 54
        }
      ]
    },
    {
      "cell_type": "markdown",
      "metadata": {
        "id": "HDEx8YN4qMz6",
        "colab_type": "text"
      },
      "source": [
        "To identify the codes that mention pneumonia we use *str.contains()*"
      ]
    },
    {
      "cell_type": "code",
      "metadata": {
        "colab_type": "code",
        "outputId": "7c2b0e16-1700-4232-b9f0-c3bcd31bdd48",
        "id": "kYGN5ebSW_eq",
        "colab": {
          "base_uri": "https://localhost:8080/",
          "height": 959
        }
      },
      "source": [
        "icd9[icd9.shortdesc.str.contains('pneumonia')]"
      ],
      "execution_count": 0,
      "outputs": [
        {
          "output_type": "execute_result",
          "data": {
            "text/html": [
              "<div>\n",
              "<style scoped>\n",
              "    .dataframe tbody tr th:only-of-type {\n",
              "        vertical-align: middle;\n",
              "    }\n",
              "\n",
              "    .dataframe tbody tr th {\n",
              "        vertical-align: top;\n",
              "    }\n",
              "\n",
              "    .dataframe thead th {\n",
              "        text-align: right;\n",
              "    }\n",
              "</style>\n",
              "<table border=\"1\" class=\"dataframe\">\n",
              "  <thead>\n",
              "    <tr style=\"text-align: right;\">\n",
              "      <th></th>\n",
              "      <th>dgns_cd</th>\n",
              "      <th>shortdesc</th>\n",
              "      <th>version</th>\n",
              "      <th>fyear</th>\n",
              "    </tr>\n",
              "  </thead>\n",
              "  <tbody>\n",
              "    <tr>\n",
              "      <th>12</th>\n",
              "      <td>00322</td>\n",
              "      <td>Salmonella pneumonia</td>\n",
              "      <td>27</td>\n",
              "      <td>2010</td>\n",
              "    </tr>\n",
              "    <tr>\n",
              "      <th>150</th>\n",
              "      <td>01160</td>\n",
              "      <td>TB pneumonia-unspec</td>\n",
              "      <td>27</td>\n",
              "      <td>2010</td>\n",
              "    </tr>\n",
              "    <tr>\n",
              "      <th>151</th>\n",
              "      <td>01161</td>\n",
              "      <td>TB pneumonia-no exam</td>\n",
              "      <td>27</td>\n",
              "      <td>2010</td>\n",
              "    </tr>\n",
              "    <tr>\n",
              "      <th>152</th>\n",
              "      <td>01162</td>\n",
              "      <td>TB pneumonia-exam unkn</td>\n",
              "      <td>27</td>\n",
              "      <td>2010</td>\n",
              "    </tr>\n",
              "    <tr>\n",
              "      <th>153</th>\n",
              "      <td>01163</td>\n",
              "      <td>TB pneumonia-micro dx</td>\n",
              "      <td>27</td>\n",
              "      <td>2010</td>\n",
              "    </tr>\n",
              "    <tr>\n",
              "      <th>154</th>\n",
              "      <td>01164</td>\n",
              "      <td>TB pneumonia-cult dx</td>\n",
              "      <td>27</td>\n",
              "      <td>2010</td>\n",
              "    </tr>\n",
              "    <tr>\n",
              "      <th>155</th>\n",
              "      <td>01165</td>\n",
              "      <td>TB pneumonia-histo dx</td>\n",
              "      <td>27</td>\n",
              "      <td>2010</td>\n",
              "    </tr>\n",
              "    <tr>\n",
              "      <th>156</th>\n",
              "      <td>01166</td>\n",
              "      <td>TB pneumonia-oth test</td>\n",
              "      <td>27</td>\n",
              "      <td>2010</td>\n",
              "    </tr>\n",
              "    <tr>\n",
              "      <th>621</th>\n",
              "      <td>0413</td>\n",
              "      <td>Klebsiella pneumoniae</td>\n",
              "      <td>27</td>\n",
              "      <td>2010</td>\n",
              "    </tr>\n",
              "    <tr>\n",
              "      <th>724</th>\n",
              "      <td>0551</td>\n",
              "      <td>Postmeasles pneumonia</td>\n",
              "      <td>27</td>\n",
              "      <td>2010</td>\n",
              "    </tr>\n",
              "    <tr>\n",
              "      <th>829</th>\n",
              "      <td>0730</td>\n",
              "      <td>Ornithosis pneumonia</td>\n",
              "      <td>27</td>\n",
              "      <td>2010</td>\n",
              "    </tr>\n",
              "    <tr>\n",
              "      <th>1131</th>\n",
              "      <td>11515</td>\n",
              "      <td>Histoplasm dub pneumonia</td>\n",
              "      <td>27</td>\n",
              "      <td>2010</td>\n",
              "    </tr>\n",
              "    <tr>\n",
              "      <th>1138</th>\n",
              "      <td>11595</td>\n",
              "      <td>Histoplasmosis pneumonia</td>\n",
              "      <td>27</td>\n",
              "      <td>2010</td>\n",
              "    </tr>\n",
              "    <tr>\n",
              "      <th>5072</th>\n",
              "      <td>4800</td>\n",
              "      <td>Adenoviral pneumonia</td>\n",
              "      <td>27</td>\n",
              "      <td>2010</td>\n",
              "    </tr>\n",
              "    <tr>\n",
              "      <th>5076</th>\n",
              "      <td>4808</td>\n",
              "      <td>Viral pneumonia NEC</td>\n",
              "      <td>27</td>\n",
              "      <td>2010</td>\n",
              "    </tr>\n",
              "    <tr>\n",
              "      <th>5077</th>\n",
              "      <td>4809</td>\n",
              "      <td>Viral pneumonia NOS</td>\n",
              "      <td>27</td>\n",
              "      <td>2010</td>\n",
              "    </tr>\n",
              "    <tr>\n",
              "      <th>5078</th>\n",
              "      <td>481</td>\n",
              "      <td>Pneumococcal pneumonia</td>\n",
              "      <td>27</td>\n",
              "      <td>2010</td>\n",
              "    </tr>\n",
              "    <tr>\n",
              "      <th>5079</th>\n",
              "      <td>4820</td>\n",
              "      <td>K. pneumoniae pneumonia</td>\n",
              "      <td>27</td>\n",
              "      <td>2010</td>\n",
              "    </tr>\n",
              "    <tr>\n",
              "      <th>5080</th>\n",
              "      <td>4821</td>\n",
              "      <td>Pseudomonal pneumonia</td>\n",
              "      <td>27</td>\n",
              "      <td>2010</td>\n",
              "    </tr>\n",
              "    <tr>\n",
              "      <th>5081</th>\n",
              "      <td>4822</td>\n",
              "      <td>H.influenzae pneumonia</td>\n",
              "      <td>27</td>\n",
              "      <td>2010</td>\n",
              "    </tr>\n",
              "    <tr>\n",
              "      <th>5089</th>\n",
              "      <td>48249</td>\n",
              "      <td>Staph pneumonia NEC</td>\n",
              "      <td>27</td>\n",
              "      <td>2010</td>\n",
              "    </tr>\n",
              "    <tr>\n",
              "      <th>5095</th>\n",
              "      <td>4829</td>\n",
              "      <td>Bacterial pneumonia NOS</td>\n",
              "      <td>27</td>\n",
              "      <td>2010</td>\n",
              "    </tr>\n",
              "    <tr>\n",
              "      <th>5096</th>\n",
              "      <td>4830</td>\n",
              "      <td>Pneu mycplsm pneumoniae</td>\n",
              "      <td>27</td>\n",
              "      <td>2010</td>\n",
              "    </tr>\n",
              "    <tr>\n",
              "      <th>5105</th>\n",
              "      <td>485</td>\n",
              "      <td>Bronchopneumonia org NOS</td>\n",
              "      <td>27</td>\n",
              "      <td>2010</td>\n",
              "    </tr>\n",
              "    <tr>\n",
              "      <th>5107</th>\n",
              "      <td>4870</td>\n",
              "      <td>Influenza with pneumonia</td>\n",
              "      <td>27</td>\n",
              "      <td>2010</td>\n",
              "    </tr>\n",
              "    <tr>\n",
              "      <th>5188</th>\n",
              "      <td>5171</td>\n",
              "      <td>Rheumatic pneumonia</td>\n",
              "      <td>27</td>\n",
              "      <td>2010</td>\n",
              "    </tr>\n",
              "    <tr>\n",
              "      <th>8946</th>\n",
              "      <td>7700</td>\n",
              "      <td>Congenital pneumonia</td>\n",
              "      <td>27</td>\n",
              "      <td>2010</td>\n",
              "    </tr>\n",
              "    <tr>\n",
              "      <th>11936</th>\n",
              "      <td>99731</td>\n",
              "      <td>Ventltr assoc pneumonia</td>\n",
              "      <td>27</td>\n",
              "      <td>2010</td>\n",
              "    </tr>\n",
              "    <tr>\n",
              "      <th>13445</th>\n",
              "      <td>V1261</td>\n",
              "      <td>Prsnl hx recur pneumonia</td>\n",
              "      <td>27</td>\n",
              "      <td>2010</td>\n",
              "    </tr>\n",
              "  </tbody>\n",
              "</table>\n",
              "</div>"
            ],
            "text/plain": [
              "      dgns_cd                 shortdesc  version  fyear\n",
              "12      00322      Salmonella pneumonia       27   2010\n",
              "150     01160       TB pneumonia-unspec       27   2010\n",
              "151     01161      TB pneumonia-no exam       27   2010\n",
              "152     01162    TB pneumonia-exam unkn       27   2010\n",
              "153     01163     TB pneumonia-micro dx       27   2010\n",
              "154     01164      TB pneumonia-cult dx       27   2010\n",
              "155     01165     TB pneumonia-histo dx       27   2010\n",
              "156     01166     TB pneumonia-oth test       27   2010\n",
              "621      0413     Klebsiella pneumoniae       27   2010\n",
              "724      0551     Postmeasles pneumonia       27   2010\n",
              "829      0730      Ornithosis pneumonia       27   2010\n",
              "1131    11515  Histoplasm dub pneumonia       27   2010\n",
              "1138    11595  Histoplasmosis pneumonia       27   2010\n",
              "5072     4800      Adenoviral pneumonia       27   2010\n",
              "5076     4808       Viral pneumonia NEC       27   2010\n",
              "5077     4809       Viral pneumonia NOS       27   2010\n",
              "5078      481    Pneumococcal pneumonia       27   2010\n",
              "5079     4820   K. pneumoniae pneumonia       27   2010\n",
              "5080     4821     Pseudomonal pneumonia       27   2010\n",
              "5081     4822    H.influenzae pneumonia       27   2010\n",
              "5089    48249       Staph pneumonia NEC       27   2010\n",
              "5095     4829   Bacterial pneumonia NOS       27   2010\n",
              "5096     4830   Pneu mycplsm pneumoniae       27   2010\n",
              "5105      485  Bronchopneumonia org NOS       27   2010\n",
              "5107     4870  Influenza with pneumonia       27   2010\n",
              "5188     5171       Rheumatic pneumonia       27   2010\n",
              "8946     7700      Congenital pneumonia       27   2010\n",
              "11936   99731   Ventltr assoc pneumonia       27   2010\n",
              "13445   V1261  Prsnl hx recur pneumonia       27   2010"
            ]
          },
          "metadata": {
            "tags": []
          },
          "execution_count": 55
        }
      ]
    },
    {
      "cell_type": "markdown",
      "metadata": {
        "id": "E0vW-mUqqcTu",
        "colab_type": "text"
      },
      "source": [
        "This may seem fine, but notice that the code we have used so far - 486 - is not on the list. A common mistake is to forget that *str.contains()* is case-sensitive, so the above will not catch codes with the text \"Pneumonia.\" To solve this, use *case=False*:"
      ]
    },
    {
      "cell_type": "code",
      "metadata": {
        "id": "cw1Rmft6Zglo",
        "colab_type": "code",
        "outputId": "ac9ad3dd-cb45-4141-c4f6-809a0f7a7a68",
        "colab": {
          "base_uri": "https://localhost:8080/",
          "height": 1000
        }
      },
      "source": [
        "icd9[icd9.shortdesc.str.contains('pneumonia', case=False)]"
      ],
      "execution_count": 0,
      "outputs": [
        {
          "output_type": "execute_result",
          "data": {
            "text/html": [
              "<div>\n",
              "<style scoped>\n",
              "    .dataframe tbody tr th:only-of-type {\n",
              "        vertical-align: middle;\n",
              "    }\n",
              "\n",
              "    .dataframe tbody tr th {\n",
              "        vertical-align: top;\n",
              "    }\n",
              "\n",
              "    .dataframe thead th {\n",
              "        text-align: right;\n",
              "    }\n",
              "</style>\n",
              "<table border=\"1\" class=\"dataframe\">\n",
              "  <thead>\n",
              "    <tr style=\"text-align: right;\">\n",
              "      <th></th>\n",
              "      <th>dgns_cd</th>\n",
              "      <th>shortdesc</th>\n",
              "      <th>version</th>\n",
              "      <th>fyear</th>\n",
              "    </tr>\n",
              "  </thead>\n",
              "  <tbody>\n",
              "    <tr>\n",
              "      <th>12</th>\n",
              "      <td>00322</td>\n",
              "      <td>Salmonella pneumonia</td>\n",
              "      <td>27</td>\n",
              "      <td>2010</td>\n",
              "    </tr>\n",
              "    <tr>\n",
              "      <th>150</th>\n",
              "      <td>01160</td>\n",
              "      <td>TB pneumonia-unspec</td>\n",
              "      <td>27</td>\n",
              "      <td>2010</td>\n",
              "    </tr>\n",
              "    <tr>\n",
              "      <th>151</th>\n",
              "      <td>01161</td>\n",
              "      <td>TB pneumonia-no exam</td>\n",
              "      <td>27</td>\n",
              "      <td>2010</td>\n",
              "    </tr>\n",
              "    <tr>\n",
              "      <th>152</th>\n",
              "      <td>01162</td>\n",
              "      <td>TB pneumonia-exam unkn</td>\n",
              "      <td>27</td>\n",
              "      <td>2010</td>\n",
              "    </tr>\n",
              "    <tr>\n",
              "      <th>153</th>\n",
              "      <td>01163</td>\n",
              "      <td>TB pneumonia-micro dx</td>\n",
              "      <td>27</td>\n",
              "      <td>2010</td>\n",
              "    </tr>\n",
              "    <tr>\n",
              "      <th>154</th>\n",
              "      <td>01164</td>\n",
              "      <td>TB pneumonia-cult dx</td>\n",
              "      <td>27</td>\n",
              "      <td>2010</td>\n",
              "    </tr>\n",
              "    <tr>\n",
              "      <th>155</th>\n",
              "      <td>01165</td>\n",
              "      <td>TB pneumonia-histo dx</td>\n",
              "      <td>27</td>\n",
              "      <td>2010</td>\n",
              "    </tr>\n",
              "    <tr>\n",
              "      <th>156</th>\n",
              "      <td>01166</td>\n",
              "      <td>TB pneumonia-oth test</td>\n",
              "      <td>27</td>\n",
              "      <td>2010</td>\n",
              "    </tr>\n",
              "    <tr>\n",
              "      <th>621</th>\n",
              "      <td>0413</td>\n",
              "      <td>Klebsiella pneumoniae</td>\n",
              "      <td>27</td>\n",
              "      <td>2010</td>\n",
              "    </tr>\n",
              "    <tr>\n",
              "      <th>724</th>\n",
              "      <td>0551</td>\n",
              "      <td>Postmeasles pneumonia</td>\n",
              "      <td>27</td>\n",
              "      <td>2010</td>\n",
              "    </tr>\n",
              "    <tr>\n",
              "      <th>829</th>\n",
              "      <td>0730</td>\n",
              "      <td>Ornithosis pneumonia</td>\n",
              "      <td>27</td>\n",
              "      <td>2010</td>\n",
              "    </tr>\n",
              "    <tr>\n",
              "      <th>1131</th>\n",
              "      <td>11515</td>\n",
              "      <td>Histoplasm dub pneumonia</td>\n",
              "      <td>27</td>\n",
              "      <td>2010</td>\n",
              "    </tr>\n",
              "    <tr>\n",
              "      <th>1138</th>\n",
              "      <td>11595</td>\n",
              "      <td>Histoplasmosis pneumonia</td>\n",
              "      <td>27</td>\n",
              "      <td>2010</td>\n",
              "    </tr>\n",
              "    <tr>\n",
              "      <th>5072</th>\n",
              "      <td>4800</td>\n",
              "      <td>Adenoviral pneumonia</td>\n",
              "      <td>27</td>\n",
              "      <td>2010</td>\n",
              "    </tr>\n",
              "    <tr>\n",
              "      <th>5075</th>\n",
              "      <td>4803</td>\n",
              "      <td>Pneumonia due to SARS</td>\n",
              "      <td>27</td>\n",
              "      <td>2010</td>\n",
              "    </tr>\n",
              "    <tr>\n",
              "      <th>5076</th>\n",
              "      <td>4808</td>\n",
              "      <td>Viral pneumonia NEC</td>\n",
              "      <td>27</td>\n",
              "      <td>2010</td>\n",
              "    </tr>\n",
              "    <tr>\n",
              "      <th>5077</th>\n",
              "      <td>4809</td>\n",
              "      <td>Viral pneumonia NOS</td>\n",
              "      <td>27</td>\n",
              "      <td>2010</td>\n",
              "    </tr>\n",
              "    <tr>\n",
              "      <th>5078</th>\n",
              "      <td>481</td>\n",
              "      <td>Pneumococcal pneumonia</td>\n",
              "      <td>27</td>\n",
              "      <td>2010</td>\n",
              "    </tr>\n",
              "    <tr>\n",
              "      <th>5079</th>\n",
              "      <td>4820</td>\n",
              "      <td>K. pneumoniae pneumonia</td>\n",
              "      <td>27</td>\n",
              "      <td>2010</td>\n",
              "    </tr>\n",
              "    <tr>\n",
              "      <th>5080</th>\n",
              "      <td>4821</td>\n",
              "      <td>Pseudomonal pneumonia</td>\n",
              "      <td>27</td>\n",
              "      <td>2010</td>\n",
              "    </tr>\n",
              "    <tr>\n",
              "      <th>5081</th>\n",
              "      <td>4822</td>\n",
              "      <td>H.influenzae pneumonia</td>\n",
              "      <td>27</td>\n",
              "      <td>2010</td>\n",
              "    </tr>\n",
              "    <tr>\n",
              "      <th>5083</th>\n",
              "      <td>48231</td>\n",
              "      <td>Pneumonia strptococcus a</td>\n",
              "      <td>27</td>\n",
              "      <td>2010</td>\n",
              "    </tr>\n",
              "    <tr>\n",
              "      <th>5084</th>\n",
              "      <td>48232</td>\n",
              "      <td>Pneumonia strptococcus b</td>\n",
              "      <td>27</td>\n",
              "      <td>2010</td>\n",
              "    </tr>\n",
              "    <tr>\n",
              "      <th>5085</th>\n",
              "      <td>48239</td>\n",
              "      <td>Pneumonia oth strep</td>\n",
              "      <td>27</td>\n",
              "      <td>2010</td>\n",
              "    </tr>\n",
              "    <tr>\n",
              "      <th>5089</th>\n",
              "      <td>48249</td>\n",
              "      <td>Staph pneumonia NEC</td>\n",
              "      <td>27</td>\n",
              "      <td>2010</td>\n",
              "    </tr>\n",
              "    <tr>\n",
              "      <th>5090</th>\n",
              "      <td>48281</td>\n",
              "      <td>Pneumonia anaerobes</td>\n",
              "      <td>27</td>\n",
              "      <td>2010</td>\n",
              "    </tr>\n",
              "    <tr>\n",
              "      <th>5091</th>\n",
              "      <td>48282</td>\n",
              "      <td>Pneumonia e coli</td>\n",
              "      <td>27</td>\n",
              "      <td>2010</td>\n",
              "    </tr>\n",
              "    <tr>\n",
              "      <th>5094</th>\n",
              "      <td>48289</td>\n",
              "      <td>Pneumonia oth spcf bact</td>\n",
              "      <td>27</td>\n",
              "      <td>2010</td>\n",
              "    </tr>\n",
              "    <tr>\n",
              "      <th>5095</th>\n",
              "      <td>4829</td>\n",
              "      <td>Bacterial pneumonia NOS</td>\n",
              "      <td>27</td>\n",
              "      <td>2010</td>\n",
              "    </tr>\n",
              "    <tr>\n",
              "      <th>5096</th>\n",
              "      <td>4830</td>\n",
              "      <td>Pneu mycplsm pneumoniae</td>\n",
              "      <td>27</td>\n",
              "      <td>2010</td>\n",
              "    </tr>\n",
              "    <tr>\n",
              "      <th>5097</th>\n",
              "      <td>4831</td>\n",
              "      <td>Pneumonia d/t chlamydia</td>\n",
              "      <td>27</td>\n",
              "      <td>2010</td>\n",
              "    </tr>\n",
              "    <tr>\n",
              "      <th>5100</th>\n",
              "      <td>4843</td>\n",
              "      <td>Pneumonia in whoop cough</td>\n",
              "      <td>27</td>\n",
              "      <td>2010</td>\n",
              "    </tr>\n",
              "    <tr>\n",
              "      <th>5101</th>\n",
              "      <td>4845</td>\n",
              "      <td>Pneumonia in anthrax</td>\n",
              "      <td>27</td>\n",
              "      <td>2010</td>\n",
              "    </tr>\n",
              "    <tr>\n",
              "      <th>5105</th>\n",
              "      <td>485</td>\n",
              "      <td>Bronchopneumonia org NOS</td>\n",
              "      <td>27</td>\n",
              "      <td>2010</td>\n",
              "    </tr>\n",
              "    <tr>\n",
              "      <th>5106</th>\n",
              "      <td>486</td>\n",
              "      <td>Pneumonia, organism NOS</td>\n",
              "      <td>27</td>\n",
              "      <td>2010</td>\n",
              "    </tr>\n",
              "    <tr>\n",
              "      <th>5107</th>\n",
              "      <td>4870</td>\n",
              "      <td>Influenza with pneumonia</td>\n",
              "      <td>27</td>\n",
              "      <td>2010</td>\n",
              "    </tr>\n",
              "    <tr>\n",
              "      <th>5188</th>\n",
              "      <td>5171</td>\n",
              "      <td>Rheumatic pneumonia</td>\n",
              "      <td>27</td>\n",
              "      <td>2010</td>\n",
              "    </tr>\n",
              "    <tr>\n",
              "      <th>8946</th>\n",
              "      <td>7700</td>\n",
              "      <td>Congenital pneumonia</td>\n",
              "      <td>27</td>\n",
              "      <td>2010</td>\n",
              "    </tr>\n",
              "    <tr>\n",
              "      <th>11936</th>\n",
              "      <td>99731</td>\n",
              "      <td>Ventltr assoc pneumonia</td>\n",
              "      <td>27</td>\n",
              "      <td>2010</td>\n",
              "    </tr>\n",
              "    <tr>\n",
              "      <th>13445</th>\n",
              "      <td>V1261</td>\n",
              "      <td>Prsnl hx recur pneumonia</td>\n",
              "      <td>27</td>\n",
              "      <td>2010</td>\n",
              "    </tr>\n",
              "  </tbody>\n",
              "</table>\n",
              "</div>"
            ],
            "text/plain": [
              "      dgns_cd                 shortdesc  version  fyear\n",
              "12      00322      Salmonella pneumonia       27   2010\n",
              "150     01160       TB pneumonia-unspec       27   2010\n",
              "151     01161      TB pneumonia-no exam       27   2010\n",
              "152     01162    TB pneumonia-exam unkn       27   2010\n",
              "153     01163     TB pneumonia-micro dx       27   2010\n",
              "154     01164      TB pneumonia-cult dx       27   2010\n",
              "155     01165     TB pneumonia-histo dx       27   2010\n",
              "156     01166     TB pneumonia-oth test       27   2010\n",
              "621      0413     Klebsiella pneumoniae       27   2010\n",
              "724      0551     Postmeasles pneumonia       27   2010\n",
              "829      0730      Ornithosis pneumonia       27   2010\n",
              "1131    11515  Histoplasm dub pneumonia       27   2010\n",
              "1138    11595  Histoplasmosis pneumonia       27   2010\n",
              "5072     4800      Adenoviral pneumonia       27   2010\n",
              "5075     4803     Pneumonia due to SARS       27   2010\n",
              "5076     4808       Viral pneumonia NEC       27   2010\n",
              "5077     4809       Viral pneumonia NOS       27   2010\n",
              "5078      481    Pneumococcal pneumonia       27   2010\n",
              "5079     4820   K. pneumoniae pneumonia       27   2010\n",
              "5080     4821     Pseudomonal pneumonia       27   2010\n",
              "5081     4822    H.influenzae pneumonia       27   2010\n",
              "5083    48231  Pneumonia strptococcus a       27   2010\n",
              "5084    48232  Pneumonia strptococcus b       27   2010\n",
              "5085    48239       Pneumonia oth strep       27   2010\n",
              "5089    48249       Staph pneumonia NEC       27   2010\n",
              "5090    48281       Pneumonia anaerobes       27   2010\n",
              "5091    48282          Pneumonia e coli       27   2010\n",
              "5094    48289   Pneumonia oth spcf bact       27   2010\n",
              "5095     4829   Bacterial pneumonia NOS       27   2010\n",
              "5096     4830   Pneu mycplsm pneumoniae       27   2010\n",
              "5097     4831   Pneumonia d/t chlamydia       27   2010\n",
              "5100     4843  Pneumonia in whoop cough       27   2010\n",
              "5101     4845      Pneumonia in anthrax       27   2010\n",
              "5105      485  Bronchopneumonia org NOS       27   2010\n",
              "5106      486   Pneumonia, organism NOS       27   2010\n",
              "5107     4870  Influenza with pneumonia       27   2010\n",
              "5188     5171       Rheumatic pneumonia       27   2010\n",
              "8946     7700      Congenital pneumonia       27   2010\n",
              "11936   99731   Ventltr assoc pneumonia       27   2010\n",
              "13445   V1261  Prsnl hx recur pneumonia       27   2010"
            ]
          },
          "metadata": {
            "tags": []
          },
          "execution_count": 57
        }
      ]
    },
    {
      "cell_type": "markdown",
      "metadata": {
        "id": "V6jDeQUYYWdT",
        "colab_type": "text"
      },
      "source": [
        "At this point one would normally discuss with clinicians and others which codes that should be used to count pneumonia patients. For the sake of simplicity, we will use all codes that have pneumonia in the description:"
      ]
    },
    {
      "cell_type": "code",
      "metadata": {
        "id": "zEd1iVJfEhlL",
        "colab_type": "code",
        "colab": {}
      },
      "source": [
        "pneumonia_codes = set(icd9[icd9.shortdesc.str.contains('pneumonia', case=False)].dgns_cd.unique())\n",
        "pneumonia_codes"
      ],
      "execution_count": 0,
      "outputs": []
    },
    {
      "cell_type": "markdown",
      "metadata": {
        "id": "P81S6dcHZEyg",
        "colab_type": "text"
      },
      "source": [
        "When we only to deal with a single code, we created a mask by asking for cells that were equal ('==') to the relevant code. Now, since we have multiple codes, the equality test does not work, but Pandas has a method called *isin()* that can handle multiple codes:"
      ]
    },
    {
      "cell_type": "code",
      "metadata": {
        "id": "XxrJ0wS0Ehat",
        "colab_type": "code",
        "outputId": "408ee13b-0a14-4e4e-8dc3-49c67df1810d",
        "colab": {
          "base_uri": "https://localhost:8080/",
          "height": 475
        }
      },
      "source": [
        "#use .isin() to search for multiple codes (in multiple columns)\n",
        "\n",
        "pneumonia_mask = inpatient[icd_columns].isin(pneumonia_codes)\n",
        "pneumonia_mask"
      ],
      "execution_count": 0,
      "outputs": [
        {
          "output_type": "execute_result",
          "data": {
            "text/html": [
              "<div>\n",
              "<style scoped>\n",
              "    .dataframe tbody tr th:only-of-type {\n",
              "        vertical-align: middle;\n",
              "    }\n",
              "\n",
              "    .dataframe tbody tr th {\n",
              "        vertical-align: top;\n",
              "    }\n",
              "\n",
              "    .dataframe thead th {\n",
              "        text-align: right;\n",
              "    }\n",
              "</style>\n",
              "<table border=\"1\" class=\"dataframe\">\n",
              "  <thead>\n",
              "    <tr style=\"text-align: right;\">\n",
              "      <th></th>\n",
              "      <th>icd9_dgns_cd_1</th>\n",
              "      <th>icd9_dgns_cd_2</th>\n",
              "      <th>icd9_dgns_cd_3</th>\n",
              "      <th>icd9_dgns_cd_4</th>\n",
              "      <th>icd9_dgns_cd_5</th>\n",
              "      <th>icd9_dgns_cd_6</th>\n",
              "      <th>icd9_dgns_cd_7</th>\n",
              "      <th>icd9_dgns_cd_8</th>\n",
              "      <th>icd9_dgns_cd_9</th>\n",
              "      <th>icd9_dgns_cd_10</th>\n",
              "    </tr>\n",
              "    <tr>\n",
              "      <th>pid_index</th>\n",
              "      <th></th>\n",
              "      <th></th>\n",
              "      <th></th>\n",
              "      <th></th>\n",
              "      <th></th>\n",
              "      <th></th>\n",
              "      <th></th>\n",
              "      <th></th>\n",
              "      <th></th>\n",
              "      <th></th>\n",
              "    </tr>\n",
              "  </thead>\n",
              "  <tbody>\n",
              "    <tr>\n",
              "      <th>00013D2EFD8E45D1</th>\n",
              "      <td>False</td>\n",
              "      <td>False</td>\n",
              "      <td>False</td>\n",
              "      <td>False</td>\n",
              "      <td>False</td>\n",
              "      <td>False</td>\n",
              "      <td>False</td>\n",
              "      <td>False</td>\n",
              "      <td>False</td>\n",
              "      <td>False</td>\n",
              "    </tr>\n",
              "    <tr>\n",
              "      <th>00016F745862898F</th>\n",
              "      <td>False</td>\n",
              "      <td>False</td>\n",
              "      <td>False</td>\n",
              "      <td>False</td>\n",
              "      <td>False</td>\n",
              "      <td>False</td>\n",
              "      <td>False</td>\n",
              "      <td>False</td>\n",
              "      <td>False</td>\n",
              "      <td>False</td>\n",
              "    </tr>\n",
              "    <tr>\n",
              "      <th>00016F745862898F</th>\n",
              "      <td>False</td>\n",
              "      <td>False</td>\n",
              "      <td>False</td>\n",
              "      <td>False</td>\n",
              "      <td>False</td>\n",
              "      <td>False</td>\n",
              "      <td>False</td>\n",
              "      <td>False</td>\n",
              "      <td>False</td>\n",
              "      <td>False</td>\n",
              "    </tr>\n",
              "    <tr>\n",
              "      <th>00016F745862898F</th>\n",
              "      <td>False</td>\n",
              "      <td>False</td>\n",
              "      <td>False</td>\n",
              "      <td>False</td>\n",
              "      <td>False</td>\n",
              "      <td>False</td>\n",
              "      <td>False</td>\n",
              "      <td>False</td>\n",
              "      <td>False</td>\n",
              "      <td>False</td>\n",
              "    </tr>\n",
              "    <tr>\n",
              "      <th>00016F745862898F</th>\n",
              "      <td>False</td>\n",
              "      <td>False</td>\n",
              "      <td>False</td>\n",
              "      <td>False</td>\n",
              "      <td>False</td>\n",
              "      <td>False</td>\n",
              "      <td>False</td>\n",
              "      <td>False</td>\n",
              "      <td>False</td>\n",
              "      <td>False</td>\n",
              "    </tr>\n",
              "    <tr>\n",
              "      <th>...</th>\n",
              "      <td>...</td>\n",
              "      <td>...</td>\n",
              "      <td>...</td>\n",
              "      <td>...</td>\n",
              "      <td>...</td>\n",
              "      <td>...</td>\n",
              "      <td>...</td>\n",
              "      <td>...</td>\n",
              "      <td>...</td>\n",
              "      <td>...</td>\n",
              "    </tr>\n",
              "    <tr>\n",
              "      <th>FFF8B49458F9FFA7</th>\n",
              "      <td>False</td>\n",
              "      <td>False</td>\n",
              "      <td>False</td>\n",
              "      <td>False</td>\n",
              "      <td>False</td>\n",
              "      <td>False</td>\n",
              "      <td>False</td>\n",
              "      <td>False</td>\n",
              "      <td>False</td>\n",
              "      <td>False</td>\n",
              "    </tr>\n",
              "    <tr>\n",
              "      <th>FFF8B49458F9FFA7</th>\n",
              "      <td>False</td>\n",
              "      <td>False</td>\n",
              "      <td>False</td>\n",
              "      <td>False</td>\n",
              "      <td>False</td>\n",
              "      <td>False</td>\n",
              "      <td>False</td>\n",
              "      <td>False</td>\n",
              "      <td>False</td>\n",
              "      <td>False</td>\n",
              "    </tr>\n",
              "    <tr>\n",
              "      <th>FFFA950301FCA748</th>\n",
              "      <td>False</td>\n",
              "      <td>False</td>\n",
              "      <td>False</td>\n",
              "      <td>False</td>\n",
              "      <td>False</td>\n",
              "      <td>False</td>\n",
              "      <td>False</td>\n",
              "      <td>False</td>\n",
              "      <td>False</td>\n",
              "      <td>False</td>\n",
              "    </tr>\n",
              "    <tr>\n",
              "      <th>FFFC880E13CA6278</th>\n",
              "      <td>False</td>\n",
              "      <td>False</td>\n",
              "      <td>False</td>\n",
              "      <td>False</td>\n",
              "      <td>False</td>\n",
              "      <td>False</td>\n",
              "      <td>False</td>\n",
              "      <td>False</td>\n",
              "      <td>False</td>\n",
              "      <td>False</td>\n",
              "    </tr>\n",
              "    <tr>\n",
              "      <th>FFFE3ED9582AD46E</th>\n",
              "      <td>False</td>\n",
              "      <td>False</td>\n",
              "      <td>False</td>\n",
              "      <td>False</td>\n",
              "      <td>False</td>\n",
              "      <td>False</td>\n",
              "      <td>False</td>\n",
              "      <td>False</td>\n",
              "      <td>False</td>\n",
              "      <td>False</td>\n",
              "    </tr>\n",
              "  </tbody>\n",
              "</table>\n",
              "<p>66773 rows × 10 columns</p>\n",
              "</div>"
            ],
            "text/plain": [
              "                  icd9_dgns_cd_1  ...  icd9_dgns_cd_10\n",
              "pid_index                         ...                 \n",
              "00013D2EFD8E45D1           False  ...            False\n",
              "00016F745862898F           False  ...            False\n",
              "00016F745862898F           False  ...            False\n",
              "00016F745862898F           False  ...            False\n",
              "00016F745862898F           False  ...            False\n",
              "...                          ...  ...              ...\n",
              "FFF8B49458F9FFA7           False  ...            False\n",
              "FFF8B49458F9FFA7           False  ...            False\n",
              "FFFA950301FCA748           False  ...            False\n",
              "FFFC880E13CA6278           False  ...            False\n",
              "FFFE3ED9582AD46E           False  ...            False\n",
              "\n",
              "[66773 rows x 10 columns]"
            ]
          },
          "metadata": {
            "tags": []
          },
          "execution_count": 60
        }
      ]
    },
    {
      "cell_type": "markdown",
      "metadata": {
        "id": "jzPvhDjXadwc",
        "colab_type": "text"
      },
      "source": [
        "The number of events with pneumonia, using all pneumonia codes and all columns with diagnostic codes:"
      ]
    },
    {
      "cell_type": "code",
      "metadata": {
        "id": "5Tr811lqYagB",
        "colab_type": "code",
        "outputId": "37cd296c-feb5-4e5d-f7e8-fa3d6367464f",
        "colab": {
          "base_uri": "https://localhost:8080/",
          "height": 36
        }
      },
      "source": [
        "# events\n",
        "pneumonia_mask.values.sum()"
      ],
      "execution_count": 0,
      "outputs": [
        {
          "output_type": "execute_result",
          "data": {
            "text/plain": [
              "7339"
            ]
          },
          "metadata": {
            "tags": []
          },
          "execution_count": 61
        }
      ]
    },
    {
      "cell_type": "markdown",
      "metadata": {
        "id": "HowdGQ9ka0r6",
        "colab_type": "text"
      },
      "source": [
        "To count the number of persons with a pneumonia diagnosis, we do the same as before, and create an intermediate object marking the rows that have a pneumonia diagnosis an any of the columns:"
      ]
    },
    {
      "cell_type": "code",
      "metadata": {
        "id": "S_Xm1Ssp-VEr",
        "colab_type": "code",
        "colab": {}
      },
      "source": [
        "# update rows and pids for pneumonia based on using all pneumonia codes and all icd columns\n",
        "pneumonia_rows = pneumonia_mask.any(axis=1)\n"
      ],
      "execution_count": 0,
      "outputs": []
    },
    {
      "cell_type": "markdown",
      "metadata": {
        "id": "yYT2ddu5cEEp",
        "colab_type": "text"
      },
      "source": [
        "And, finally we use the row selector to count the number of unique person ids in the rows with pneumonia:"
      ]
    },
    {
      "cell_type": "code",
      "metadata": {
        "id": "kcKcEgNgbVZ4",
        "colab_type": "code",
        "outputId": "d17bc441-10ec-4cee-b0dd-2d3d78ac16b8",
        "colab": {
          "base_uri": "https://localhost:8080/",
          "height": 36
        }
      },
      "source": [
        "# Count number of unique personal ids\n",
        "inpatient[pneumonia_rows].pid.nunique()\n"
      ],
      "execution_count": 0,
      "outputs": [
        {
          "output_type": "execute_result",
          "data": {
            "text/plain": [
              "6389"
            ]
          },
          "metadata": {
            "tags": []
          },
          "execution_count": 98
        }
      ]
    },
    {
      "cell_type": "markdown",
      "metadata": {
        "id": "CE8oXgcsX-xl",
        "colab_type": "text"
      },
      "source": [
        "## What if you do not have single-value columns?\n",
        "\n",
        "One event in a hospital can be associated with many different diagnostic codes and our dataframe there are up to 10 ICD 9 diagnostic codes. Each cell contains only a single icd code, but sometimes we have data where all the diagnostic codes are merged in one column. For instance, it could look like this:"
      ]
    },
    {
      "cell_type": "code",
      "metadata": {
        "id": "U7Q6WEUmZQ8_",
        "colab_type": "code",
        "outputId": "d379eae6-a813-47eb-8883-e2fa1876e80f",
        "colab": {
          "base_uri": "https://localhost:8080/",
          "height": 167
        }
      },
      "source": [
        "# concatenate content from many columns to one string\n",
        "icd9_all = inpatient.icd9_dgns_cd_1.str.cat(inpatient[icd_columns[1:]], sep=',', na_rep='').str.rstrip(',')\n",
        "icd9_all.head()"
      ],
      "execution_count": 0,
      "outputs": [
        {
          "output_type": "execute_result",
          "data": {
            "text/plain": [
              "pid_index\n",
              "00013D2EFD8E45D1    7802,78820,V4501,4280,2720,4019,V4502,73300,E9330\n",
              "00016F745862898F       1970,4019,5853,7843,2768,71590,2724,19889,5849\n",
              "00016F745862898F                                      6186,2948,56400\n",
              "00016F745862898F                  29623,30390,71690,34590,V1581,32723\n",
              "00016F745862898F       3569,4019,3542,V8801,78820,2639,7840,7856,4271\n",
              "Name: icd9_dgns_cd_1, dtype: object"
            ]
          },
          "metadata": {
            "tags": []
          },
          "execution_count": 63
        }
      ]
    },
    {
      "cell_type": "markdown",
      "metadata": {
        "id": "DXdNgZ5gZ0Ug",
        "colab_type": "text"
      },
      "source": [
        "To count the number of persons who have had pneumonia with this data structure, we cannot use the same approache as before with masks and *isin()*\n",
        "\n",
        "There are several ways to solve this. One is to restructure the data i.e. to split the single column with many values into multiple columns with single values:"
      ]
    },
    {
      "cell_type": "code",
      "metadata": {
        "id": "tpYXE0MbZ0AK",
        "colab_type": "code",
        "outputId": "c9d8bac6-4e65-41c8-fc8a-b2373b9782f2",
        "colab": {
          "base_uri": "https://localhost:8080/",
          "height": 455
        }
      },
      "source": [
        "icd9_all.str.split(pat=',', expand=True)"
      ],
      "execution_count": 0,
      "outputs": [
        {
          "output_type": "execute_result",
          "data": {
            "text/html": [
              "<div>\n",
              "<style scoped>\n",
              "    .dataframe tbody tr th:only-of-type {\n",
              "        vertical-align: middle;\n",
              "    }\n",
              "\n",
              "    .dataframe tbody tr th {\n",
              "        vertical-align: top;\n",
              "    }\n",
              "\n",
              "    .dataframe thead th {\n",
              "        text-align: right;\n",
              "    }\n",
              "</style>\n",
              "<table border=\"1\" class=\"dataframe\">\n",
              "  <thead>\n",
              "    <tr style=\"text-align: right;\">\n",
              "      <th></th>\n",
              "      <th>0</th>\n",
              "      <th>1</th>\n",
              "      <th>2</th>\n",
              "      <th>3</th>\n",
              "      <th>4</th>\n",
              "      <th>5</th>\n",
              "      <th>6</th>\n",
              "      <th>7</th>\n",
              "      <th>8</th>\n",
              "      <th>9</th>\n",
              "    </tr>\n",
              "    <tr>\n",
              "      <th>pid_index</th>\n",
              "      <th></th>\n",
              "      <th></th>\n",
              "      <th></th>\n",
              "      <th></th>\n",
              "      <th></th>\n",
              "      <th></th>\n",
              "      <th></th>\n",
              "      <th></th>\n",
              "      <th></th>\n",
              "      <th></th>\n",
              "    </tr>\n",
              "  </thead>\n",
              "  <tbody>\n",
              "    <tr>\n",
              "      <th>00013D2EFD8E45D1</th>\n",
              "      <td>7802</td>\n",
              "      <td>78820</td>\n",
              "      <td>V4501</td>\n",
              "      <td>4280</td>\n",
              "      <td>2720</td>\n",
              "      <td>4019</td>\n",
              "      <td>V4502</td>\n",
              "      <td>73300</td>\n",
              "      <td>E9330</td>\n",
              "      <td>None</td>\n",
              "    </tr>\n",
              "    <tr>\n",
              "      <th>00016F745862898F</th>\n",
              "      <td>1970</td>\n",
              "      <td>4019</td>\n",
              "      <td>5853</td>\n",
              "      <td>7843</td>\n",
              "      <td>2768</td>\n",
              "      <td>71590</td>\n",
              "      <td>2724</td>\n",
              "      <td>19889</td>\n",
              "      <td>5849</td>\n",
              "      <td>None</td>\n",
              "    </tr>\n",
              "    <tr>\n",
              "      <th>00016F745862898F</th>\n",
              "      <td>6186</td>\n",
              "      <td>2948</td>\n",
              "      <td>56400</td>\n",
              "      <td>None</td>\n",
              "      <td>None</td>\n",
              "      <td>None</td>\n",
              "      <td>None</td>\n",
              "      <td>None</td>\n",
              "      <td>None</td>\n",
              "      <td>None</td>\n",
              "    </tr>\n",
              "    <tr>\n",
              "      <th>00016F745862898F</th>\n",
              "      <td>29623</td>\n",
              "      <td>30390</td>\n",
              "      <td>71690</td>\n",
              "      <td>34590</td>\n",
              "      <td>V1581</td>\n",
              "      <td>32723</td>\n",
              "      <td>None</td>\n",
              "      <td>None</td>\n",
              "      <td>None</td>\n",
              "      <td>None</td>\n",
              "    </tr>\n",
              "    <tr>\n",
              "      <th>00016F745862898F</th>\n",
              "      <td>3569</td>\n",
              "      <td>4019</td>\n",
              "      <td>3542</td>\n",
              "      <td>V8801</td>\n",
              "      <td>78820</td>\n",
              "      <td>2639</td>\n",
              "      <td>7840</td>\n",
              "      <td>7856</td>\n",
              "      <td>4271</td>\n",
              "      <td>None</td>\n",
              "    </tr>\n",
              "    <tr>\n",
              "      <th>...</th>\n",
              "      <td>...</td>\n",
              "      <td>...</td>\n",
              "      <td>...</td>\n",
              "      <td>...</td>\n",
              "      <td>...</td>\n",
              "      <td>...</td>\n",
              "      <td>...</td>\n",
              "      <td>...</td>\n",
              "      <td>...</td>\n",
              "      <td>...</td>\n",
              "    </tr>\n",
              "    <tr>\n",
              "      <th>FFF8B49458F9FFA7</th>\n",
              "      <td>4871</td>\n",
              "      <td>41400</td>\n",
              "      <td>27651</td>\n",
              "      <td>60000</td>\n",
              "      <td>40390</td>\n",
              "      <td>3659</td>\n",
              "      <td>None</td>\n",
              "      <td>None</td>\n",
              "      <td>None</td>\n",
              "      <td>None</td>\n",
              "    </tr>\n",
              "    <tr>\n",
              "      <th>FFF8B49458F9FFA7</th>\n",
              "      <td>9694</td>\n",
              "      <td>2989</td>\n",
              "      <td>9663</td>\n",
              "      <td>58881</td>\n",
              "      <td>2859</td>\n",
              "      <td>5790</td>\n",
              "      <td>None</td>\n",
              "      <td>None</td>\n",
              "      <td>None</td>\n",
              "      <td>None</td>\n",
              "    </tr>\n",
              "    <tr>\n",
              "      <th>FFFA950301FCA748</th>\n",
              "      <td>1985</td>\n",
              "      <td>3694</td>\n",
              "      <td>25000</td>\n",
              "      <td>73300</td>\n",
              "      <td>33829</td>\n",
              "      <td>4168</td>\n",
              "      <td>2859</td>\n",
              "      <td>28522</td>\n",
              "      <td>None</td>\n",
              "      <td>None</td>\n",
              "    </tr>\n",
              "    <tr>\n",
              "      <th>FFFC880E13CA6278</th>\n",
              "      <td>1519</td>\n",
              "      <td>1977</td>\n",
              "      <td>70725</td>\n",
              "      <td>2724</td>\n",
              "      <td>5723</td>\n",
              "      <td>2639</td>\n",
              "      <td>E969</td>\n",
              "      <td>5070</td>\n",
              "      <td>7830</td>\n",
              "      <td>None</td>\n",
              "    </tr>\n",
              "    <tr>\n",
              "      <th>FFFE3ED9582AD46E</th>\n",
              "      <td>41400</td>\n",
              "      <td>60000</td>\n",
              "      <td>V1582</td>\n",
              "      <td>4111</td>\n",
              "      <td>V854</td>\n",
              "      <td>4019</td>\n",
              "      <td>25000</td>\n",
              "      <td>V1251</td>\n",
              "      <td>2720</td>\n",
              "      <td>None</td>\n",
              "    </tr>\n",
              "  </tbody>\n",
              "</table>\n",
              "<p>66773 rows × 10 columns</p>\n",
              "</div>"
            ],
            "text/plain": [
              "                      0      1      2      3  ...      6      7      8     9\n",
              "pid_index                                     ...                           \n",
              "00013D2EFD8E45D1   7802  78820  V4501   4280  ...  V4502  73300  E9330  None\n",
              "00016F745862898F   1970   4019   5853   7843  ...   2724  19889   5849  None\n",
              "00016F745862898F   6186   2948  56400   None  ...   None   None   None  None\n",
              "00016F745862898F  29623  30390  71690  34590  ...   None   None   None  None\n",
              "00016F745862898F   3569   4019   3542  V8801  ...   7840   7856   4271  None\n",
              "...                 ...    ...    ...    ...  ...    ...    ...    ...   ...\n",
              "FFF8B49458F9FFA7   4871  41400  27651  60000  ...   None   None   None  None\n",
              "FFF8B49458F9FFA7   9694   2989   9663  58881  ...   None   None   None  None\n",
              "FFFA950301FCA748   1985   3694  25000  73300  ...   2859  28522   None  None\n",
              "FFFC880E13CA6278   1519   1977  70725   2724  ...   E969   5070   7830  None\n",
              "FFFE3ED9582AD46E  41400  60000  V1582   4111  ...  25000  V1251   2720  None\n",
              "\n",
              "[66773 rows x 10 columns]"
            ]
          },
          "metadata": {
            "tags": []
          },
          "execution_count": 62
        }
      ]
    },
    {
      "cell_type": "markdown",
      "metadata": {
        "id": "VaD1t94tbIiS",
        "colab_type": "text"
      },
      "source": [
        "Single valued columns allows us to use the original approach to count events and persons. However, if you have very large data, the process  of splitting and expanding the data can be very time consuming and memory intensive. Sometimes the memory requirement may be so large that it is impossible. This means that we should also try to find a method that works without changing the structure of the data.\n",
        "\n",
        "To count the number of events, we migth try:"
      ]
    },
    {
      "cell_type": "code",
      "metadata": {
        "id": "PbRa-qQfb-f5",
        "colab_type": "code",
        "outputId": "82d4dd2e-fc01-4fd2-d615-3bf5b5333f9f",
        "colab": {
          "base_uri": "https://localhost:8080/",
          "height": 36
        }
      },
      "source": [
        "icd9_all.str.count('486').sum()"
      ],
      "execution_count": 0,
      "outputs": [
        {
          "output_type": "execute_result",
          "data": {
            "text/plain": [
              "6065"
            ]
          },
          "metadata": {
            "tags": []
          },
          "execution_count": 66
        }
      ]
    },
    {
      "cell_type": "markdown",
      "metadata": {
        "id": "w79kTatBcsCL",
        "colab_type": "text"
      },
      "source": [
        "This counts the number of occurrences of the code 486, but there are at least two problems. \n",
        "\n",
        "First, we want to count more than one code, not just 486. Luckily - well it is probably more due to cleverness than luck, but we are lucky that the pandas team is clever and generous. Anyway, the point is we are allowed to use so called regex expressions in the *count()* method. \n",
        "\n",
        "A regex expression is a string with special symbols that enable us to say things like \"search for x or y.\" The symbol for *or* is |, so if we want to search for 486 or 399 we would write ```.count('486|399')```\n",
        "\n",
        "In our case we already hava a list of codes, so we use the *.join()* method to make a string of all the elements in the list:"
      ]
    },
    {
      "cell_type": "code",
      "metadata": {
        "id": "xnPplu1bdCE9",
        "colab_type": "code",
        "outputId": "9429ef34-5065-4d77-8ca5-d2e3fdef18b6",
        "colab": {
          "base_uri": "https://localhost:8080/",
          "height": 56
        }
      },
      "source": [
        "pneumonia_codes_regex = '|'.join(pneumonia_codes)\n",
        "pneumonia_codes_regex\n"
      ],
      "execution_count": 0,
      "outputs": [
        {
          "output_type": "execute_result",
          "data": {
            "text/plain": [
              "'486|48281|4845|5171|485|4831|48232|4808|48282|4809|01162|48239|0551|4830|01165|0730|481|0413|4820|4821|00322|11515|4843|99731|01163|01161|01160|48231|4870|4800|4803|01164|11595|4829|7700|48249|V1261|01166|48289|4822'"
            ]
          },
          "metadata": {
            "tags": []
          },
          "execution_count": 65
        }
      ]
    },
    {
      "cell_type": "code",
      "metadata": {
        "id": "YLBpn_zadB6T",
        "colab_type": "code",
        "outputId": "214158ec-9da7-45a8-c8c6-7c8a7e8dd41d",
        "colab": {
          "base_uri": "https://localhost:8080/",
          "height": 36
        }
      },
      "source": [
        "icd9_all.str.count(pneumonia_codes_regex).sum()"
      ],
      "execution_count": 0,
      "outputs": [
        {
          "output_type": "execute_result",
          "data": {
            "text/plain": [
              "9532"
            ]
          },
          "metadata": {
            "tags": []
          },
          "execution_count": 66
        }
      ]
    },
    {
      "cell_type": "markdown",
      "metadata": {
        "id": "iHSjBaQpeD8L",
        "colab_type": "text"
      },
      "source": [
        "This number is much higher than the one we got previously, which brings us to the second problem.\n",
        "\n",
        "Searching for '486' in a text will count '5486' since it contains '486', but 5486 may be a code unrelated to pneumonia.\n",
        "\n",
        "Once again the solution is regex. In the regex expression we can add a special symbol before and after the word we are looking for (*\\b*) which indicates that the phrase we want to count must have a boundary before and after. Commas, space and so on represent boundaries, but - crucially - numbers and alphanumeric characters are not word boundaries. This means that we will not find codes that are in the middle of other numbers.\n",
        "\n",
        "To create the regex expression where each code is surrounded by the symbols *\\b* we use list comprehension:"
      ]
    },
    {
      "cell_type": "code",
      "metadata": {
        "id": "4Ztv1189dBz2",
        "colab_type": "code",
        "outputId": "acff3716-162b-46fa-fd52-ce88c81ead00",
        "colab": {
          "base_uri": "https://localhost:8080/",
          "height": 56
        }
      },
      "source": [
        "pneumonia_codes_words = [rf'\\b{code}\\b' for code in pneumonia_codes]\n",
        "pneumonia_codes_regex = '|'.join(pneumonia_codes_words)\n",
        "pneumonia_codes_regex"
      ],
      "execution_count": 0,
      "outputs": [
        {
          "output_type": "execute_result",
          "data": {
            "text/plain": [
              "'\\\\b48249\\\\b|\\\\b4845\\\\b|\\\\b0551\\\\b|\\\\b4831\\\\b|\\\\b485\\\\b|\\\\b00322\\\\b|\\\\b01165\\\\b|\\\\b48281\\\\b|\\\\b4809\\\\b|\\\\b11515\\\\b|\\\\b4843\\\\b|\\\\b4822\\\\b|\\\\b01160\\\\b|\\\\b48239\\\\b|\\\\b0730\\\\b|\\\\b4870\\\\b|\\\\b4821\\\\b|\\\\b48231\\\\b|\\\\b7700\\\\b|\\\\b11595\\\\b|\\\\b99731\\\\b|\\\\b48289\\\\b|\\\\bV1261\\\\b|\\\\b4803\\\\b|\\\\b01162\\\\b|\\\\b481\\\\b|\\\\b01166\\\\b|\\\\b0413\\\\b|\\\\b01163\\\\b|\\\\b48232\\\\b|\\\\b4820\\\\b|\\\\b48282\\\\b|\\\\b01164\\\\b|\\\\b01161\\\\b|\\\\b4800\\\\b|\\\\b4808\\\\b|\\\\b4830\\\\b|\\\\b4829\\\\b|\\\\b5171\\\\b|\\\\b486\\\\b'"
            ]
          },
          "metadata": {
            "tags": []
          },
          "execution_count": 91
        }
      ]
    },
    {
      "cell_type": "markdown",
      "metadata": {
        "id": "me2QSM53mGt1",
        "colab_type": "text"
      },
      "source": [
        "Finally, using this expression in the *str.count()* methods gives the correct answer of how many pneumonia events there are:"
      ]
    },
    {
      "cell_type": "code",
      "metadata": {
        "id": "uShjgQQUhMks",
        "colab_type": "code",
        "outputId": "dbaa4929-18c8-4b47-d0b4-6e96de923742",
        "colab": {
          "base_uri": "https://localhost:8080/",
          "height": 36
        }
      },
      "source": [
        "icd9_all.str.count(pneumonia_codes_regex).sum()"
      ],
      "execution_count": 0,
      "outputs": [
        {
          "output_type": "execute_result",
          "data": {
            "text/plain": [
              "7339"
            ]
          },
          "metadata": {
            "tags": []
          },
          "execution_count": 92
        }
      ]
    },
    {
      "cell_type": "markdown",
      "metadata": {
        "id": "6tQxIVJHmeco",
        "colab_type": "text"
      },
      "source": [
        "Note that counting the number of events when we had a data structure with multiple diagnosis in a single column case, was quite hard. \n",
        "\n",
        "In contrast, as you can see below, counting the number of persons who have had pneumonia is quite easy when we have a single column data structure.\n",
        "\n",
        "Since there is only a single column, and the number of diagnoses is not relevant, we can use *.str.contains()*\n"
      ]
    },
    {
      "cell_type": "code",
      "metadata": {
        "id": "SdmgJLPKhMYU",
        "colab_type": "code",
        "outputId": "60bd6b2f-3750-4f23-c6b2-1de08d6bf185",
        "colab": {
          "base_uri": "https://localhost:8080/",
          "height": 258
        }
      },
      "source": [
        "pneumonia_rows = icd9_all.str.contains(pneumonia_codes_regex)\n",
        "pneumonia_rows"
      ],
      "execution_count": 0,
      "outputs": [
        {
          "output_type": "execute_result",
          "data": {
            "text/plain": [
              "pid_index\n",
              "00013D2EFD8E45D1    False\n",
              "00016F745862898F    False\n",
              "00016F745862898F    False\n",
              "00016F745862898F    False\n",
              "00016F745862898F    False\n",
              "                    ...  \n",
              "FFF8B49458F9FFA7    False\n",
              "FFF8B49458F9FFA7    False\n",
              "FFFA950301FCA748    False\n",
              "FFFC880E13CA6278    False\n",
              "FFFE3ED9582AD46E    False\n",
              "Name: icd9_dgns_cd_1, Length: 66773, dtype: bool"
            ]
          },
          "metadata": {
            "tags": []
          },
          "execution_count": 67
        }
      ]
    },
    {
      "cell_type": "markdown",
      "metadata": {
        "id": "pVdQBHminTnT",
        "colab_type": "text"
      },
      "source": [
        "And count the number of unique persons ids in the pneumonia_rows: "
      ]
    },
    {
      "cell_type": "code",
      "metadata": {
        "id": "q2kMOI8UnRyD",
        "colab_type": "code",
        "outputId": "3a324ca8-c74e-44f0-e746-ac9e32f6df86",
        "colab": {
          "base_uri": "https://localhost:8080/",
          "height": 36
        }
      },
      "source": [
        "inpatient[pneumonia_rows].pid.nunique()"
      ],
      "execution_count": 0,
      "outputs": [
        {
          "output_type": "execute_result",
          "data": {
            "text/plain": [
              "7816"
            ]
          },
          "metadata": {
            "tags": []
          },
          "execution_count": 68
        }
      ]
    },
    {
      "cell_type": "markdown",
      "metadata": {
        "id": "858fuBD8URB3",
        "colab_type": "text"
      },
      "source": [
        "The example illustrates how the data structure can make some things easy, and other things difficult. Mutiple columns and multiple codes make it slightly difficult - at least at first sight - to count the number of unique individuals, but quite easy to count the number of events. A data-structure with multiple codes in one column makes it easier to count the number of persons, but more difficult to count the number of events. \n",
        "\n",
        "This opens up the larger question of which data structure one should use and how one might solve a problem by changing the data-structure instead of just trying harder with more elaborate functions and methods. Data structure is a larger and somewhat different theme that deserves it own separate discussion.  For now the topic is just \"counting events and persons.\" It is enough to note that the counting will depend on the data structure as well as the number of codes and columns you have. \n",
        "\n",
        "To end this chapter, we will use what we have done so far to develop a single method that will make it easier and quicker to count persons using event level data."
      ]
    },
    {
      "cell_type": "markdown",
      "metadata": {
        "id": "Qs_ETf_BWGFq",
        "colab_type": "text"
      },
      "source": [
        "##Creating a function to count persons\n",
        "\n",
        "So far we have developed methods to count both events and unique persons when we have:\n",
        "* single code, single column\n",
        "* multiple code, sigle column\n",
        "* single code, multiple columns\n",
        "* multiple codes, multiple columns\n",
        "\n",
        "In addition, the methods also have to work both when we have a data structure where the column could contain single codes or mutiple codes in each cell.\n",
        "\n",
        "We have solutions for all this, but some of these solutions require both a a few line of codes and some cognitive effort. Since counting the number of people who have a given code, or combination of codes, is a common operation in health analytics, it might be useful to create a function so we do not have to remember and think about the different solutions when we meet the problem. Instead we might just write:\n",
        "```\n",
        "inpatient.count_persons(codes=pneumonia_codes, columns=icd_columns)\n",
        "```\n",
        "\n",
        "And this should work for all the different possibilities, regardless of the data structure.\n",
        "\n",
        "To do this, we break the problem up. Recall that in all approaches one of the first steps was to make the rows with the relevant codes. Lets create a function that does this. As argument to the function we just give it a dataframe, the relevant codes, the columns we want to use, whether the codes have a seperator (i.e. there are multiple codes in cells that are separated by a symbol) and the name of the column that contains the personal id:"
      ]
    },
    {
      "cell_type": "code",
      "metadata": {
        "colab_type": "code",
        "id": "cWj_y9QDWCiA",
        "colab": {}
      },
      "source": [
        "def get_rows(df, codes, cols=None, sep=None, pid='pid'):\n",
        "  \"\"\"\n",
        "  Make a boolean series that is true for all rows that contain the codes\n",
        "  \n",
        "  Args\n",
        "    df (dataframe or series): The dataframe with codes\n",
        "    codes (str, list, set, dict): codes to be counted\n",
        "    cols (str or list): list of columns to search in\n",
        "    sep (str): The symbol that seperates the codes if there are multiple codes in a column (default: None)\n",
        "    pid (str): The name of the column with the personal identifier\n",
        "\n",
        "  \"\"\"\n",
        "    \n",
        "  # string as input for single codes is allowed\n",
        "  # but then must make it a list\n",
        "  if isinstance(codes, str):\n",
        "    codes = [codes]\n",
        "  \n",
        "  # same for cols\n",
        "  # must be a list sine we may loop over it\n",
        "  if not isinstance(cols, list):\n",
        "    cols = [cols]\n",
        "  \n",
        "  # approach depends on whether we have multi-value cells or not\n",
        "  # if sep exist, then have multi-value cells\n",
        "  if sep:\n",
        "    # have multi valued cells\n",
        "    codes = [rf'\\b{code}\\b' for code in codes]\n",
        "    codes_regex = '|'.join(codes)\n",
        "    \n",
        "    # starting point: no codes have been found\n",
        "    # needed since otherwise the function might return None if no codes exist\n",
        "    rows = pd.Series(False*len(df),index=df.index)\n",
        "\n",
        "   # loop over all columns and mark when a code exist  \n",
        "    for col in cols:\n",
        "      rows=rows | df[col].str.contains(codes_regex, na=False)\n",
        "  \n",
        "  # if not multi valued cells\n",
        "  else:\n",
        "    mask = df[cols].isin(codes)\n",
        "    rows = mask.any(axis=1)\n",
        "  return rows"
      ],
      "execution_count": 0,
      "outputs": []
    },
    {
      "cell_type": "code",
      "metadata": {
        "colab_type": "code",
        "id": "QoLV0irpWCiN",
        "colab": {}
      },
      "source": [
        "def count_persons(df, codes, cols=None, pid='pid', sep=None):\n",
        "  \"\"\"\n",
        "  Counts the number of unique persons with some code(s) in some column(s)\n",
        "\n",
        "  Args\n",
        "    df (dataframe or series): The dataframe with codes\n",
        "    codes (str, list, set, dict): codes to be counted\n",
        "    cols (str or list): list of columns to search in\n",
        "    sep (str): The symbol that seperates the codes if there are multiple codes in a column (default: None)\n",
        "    pid (str): The name of the column with the personal identifier\n",
        "  \"\"\"\n",
        "  # allows not only dataframes, but series as input\n",
        "  # assumes pid is in index\n",
        "  # transforms it to a dataframe\n",
        "  if not cols:\n",
        "    if isinstance(df, pd.Series):\n",
        "      df=df.to_frame()\n",
        "      cols=list(df.columns)\n",
        "      df['pid']=df.index\n",
        "    if isinstance(df, pd.DataFrame):\n",
        "      cols=list(df.columns)\n",
        "      df['pid']=df.index\n",
        "    else:\n",
        "      Print('Error: Must specify cols')\n",
        "  # get the rows with the code\n",
        "  rows = get_rows(df=df,codes=codes, cols=cols, sep=sep, pid=pid)\n",
        "  \n",
        "  # count unique pids\n",
        "  n=df[rows][pid].nunique()\n",
        "  return n\n",
        "\n",
        "def get_pids(df,codes, cols=None, pid='pid', sep=None):\n",
        "  \"\"\"\n",
        "  Returns a list of ids of individuals who has some code(s) in some column(s)\n",
        "\n",
        "  Args\n",
        "    df (dataframe or series): The dataframe with codes\n",
        "    codes (str, list, set, dict): codes to be counted\n",
        "    cols (str or list): list of columns to search in\n",
        "    sep (str): The symbol that seperates the codes if there are multiple codes in a column (default: None)\n",
        "    pid (str): The name of the column with the personal identifier\n",
        "  \"\"\"\n",
        "  rows = get_rows(codes=codes, cols=cols, sep=sep, pid=pid)\n",
        "  pids=df[rows][pid].unique()\n",
        "  return pids"
      ],
      "execution_count": 0,
      "outputs": []
    },
    {
      "cell_type": "code",
      "metadata": {
        "id": "diF090CVb99U",
        "colab_type": "code",
        "outputId": "dcfd8b8d-c55f-432a-da9a-0fa19c950659",
        "colab": {
          "base_uri": "https://localhost:8080/",
          "height": 36
        }
      },
      "source": [
        "# Function returns same result as the previous analysis (one code, one column)\n",
        "count_persons(df=inpatient, codes='486', cols = 'admtng_icd9_dgns_cd')"
      ],
      "execution_count": 0,
      "outputs": [
        {
          "output_type": "execute_result",
          "data": {
            "text/plain": [
              "2290"
            ]
          },
          "metadata": {
            "tags": []
          },
          "execution_count": 83
        }
      ]
    },
    {
      "cell_type": "code",
      "metadata": {
        "id": "k-bG-M4IYHew",
        "colab_type": "code",
        "outputId": "b9f25a2d-69de-4c10-a7fc-98dfa568b213",
        "colab": {
          "base_uri": "https://localhost:8080/",
          "height": 36
        }
      },
      "source": [
        "# Function returns same result as the previous analysis (one code, multiple columns)\n",
        "\n",
        "count_persons(df=inpatient, codes='486', cols = icd_columns)"
      ],
      "execution_count": 0,
      "outputs": [
        {
          "output_type": "execute_result",
          "data": {
            "text/plain": [
              "5509"
            ]
          },
          "metadata": {
            "tags": []
          },
          "execution_count": 87
        }
      ]
    },
    {
      "cell_type": "code",
      "metadata": {
        "id": "ld59Pm0GiuSg",
        "colab_type": "code",
        "outputId": "1eb7c6c3-c3da-4a98-9aef-6edb664bbe72",
        "colab": {
          "base_uri": "https://localhost:8080/",
          "height": 74
        }
      },
      "source": [
        "# Function returns same result as the previous analysis (multiple codes, multiple columns)\n",
        "count_persons(df=inpatient, codes=pneumonia_codes, cols = icd_columns)"
      ],
      "execution_count": 0,
      "outputs": [
        {
          "output_type": "stream",
          "text": [
            "['icd9_dgns_cd_1', 'icd9_dgns_cd_2', 'icd9_dgns_cd_3', 'icd9_dgns_cd_4', 'icd9_dgns_cd_5', 'icd9_dgns_cd_6', 'icd9_dgns_cd_7', 'icd9_dgns_cd_8', 'icd9_dgns_cd_9', 'icd9_dgns_cd_10'] {'486', '48281', '4845', '5171', '485', '4831', '48232', '4808', '48282', '4809', '01162', '48239', '0551', '4830', '01165', '0730', '481', '0413', '4820', '4821', '00322', '11515', '4843', '99731', '01163', '01161', '01160', '48231', '4870', '4800', '4803', '01164', '11595', '4829', '7700', '48249', 'V1261', '01166', '48289', '4822'}\n"
          ],
          "name": "stdout"
        },
        {
          "output_type": "execute_result",
          "data": {
            "text/plain": [
              "6389"
            ]
          },
          "metadata": {
            "tags": []
          },
          "execution_count": 96
        }
      ]
    },
    {
      "cell_type": "markdown",
      "metadata": {
        "id": "6cqkKuoScYDF",
        "colab_type": "text"
      },
      "source": [
        "## Making the function a method on the dataframe\n",
        "\n",
        "So far we have built a function that can be used, but as mentioned the Pandas approach is often to use an object oriented approach. In other words, we would like to be able to write:\n",
        "\n",
        "```df.icd.count_persons(codes=pneumina_codes)```\n",
        "\n",
        "Instead of:\n",
        "\n",
        "```count_persons(df=df, col='icd', codes=pneumonia_codes)```\n",
        "\n",
        "To do we may use what is called monkey-patching where we set the function we have created as an attribute on the Pandas Dataframe or Series object:"
      ]
    },
    {
      "cell_type": "code",
      "metadata": {
        "id": "Hq7OZ9wvj4ZU",
        "colab_type": "code",
        "colab": {}
      },
      "source": [
        "#monkey patch: Set function to be a method on the object\n",
        "setattr(pd.DataFrame, 'count_persons', count_persons)\n",
        "setattr(pd.Series, 'count_persons', count_persons)"
      ],
      "execution_count": 0,
      "outputs": []
    },
    {
      "cell_type": "markdown",
      "metadata": {
        "id": "xgqXii_ieRZS",
        "colab_type": "text"
      },
      "source": [
        "And we can check if it works:"
      ]
    },
    {
      "cell_type": "code",
      "metadata": {
        "id": "fZ5CCeGEp9fs",
        "colab_type": "code",
        "outputId": "36449094-0fee-4d42-d82c-8b3efaec6261",
        "colab": {
          "base_uri": "https://localhost:8080/",
          "height": 36
        }
      },
      "source": [
        "inpatient.admtng_icd9_dgns_cd.count_persons('486')"
      ],
      "execution_count": 0,
      "outputs": [
        {
          "output_type": "execute_result",
          "data": {
            "text/plain": [
              "2290"
            ]
          },
          "metadata": {
            "tags": []
          },
          "execution_count": 114
        }
      ]
    },
    {
      "cell_type": "markdown",
      "metadata": {
        "id": "6qm63yNHrXui",
        "colab_type": "text"
      },
      "source": [
        "As you might have guesssed from the name, monkey patching is a bit like a band-aid and although it has it uses,it is often considered bad practise. A key problem is that you do not signal to the user that this is a user defined method and that it is is different from a standard Pandas method. \n",
        "\n",
        "At the same time, it is very useful to be able to create new methods, and to make it possible without monkey patching, Pandas provides an extension system.\n",
        "\n",
        "Here is how we would register 'count person()' as an extension in Pandas. Notice that this time we signal to the user that we are goint outside of standard pandas method when we use count_function in our code, because we have to type a user defined accessor (rr, register research) before we type the name of the function:"
      ]
    },
    {
      "cell_type": "code",
      "metadata": {
        "id": "4myoWTpsrXZh",
        "colab_type": "code",
        "outputId": "c0331e04-c4fb-4429-be69-1bb7534fc628",
        "colab": {
          "base_uri": "https://localhost:8080/",
          "height": 74
        }
      },
      "source": [
        "@pd.api.extensions.register_dataframe_accessor(\"rr\")\n",
        "class RegisterResearcAccessor:\n",
        "    def __init__(self, pandas_obj):\n",
        "        self._obj = pandas_obj\n",
        "\n",
        "    def count_p(self, codes, cols=None, pid='pid', sep=None):\n",
        "      n=count_persons(df=self._obj, codes=codes, cols=cols, pid=pid, sep=sep)\n",
        "      return n"
      ],
      "execution_count": 0,
      "outputs": [
        {
          "output_type": "stream",
          "text": [
            "/usr/local/lib/python3.6/dist-packages/ipykernel_launcher.py:1: UserWarning: registration of accessor <class '__main__.RegisterResearcAccessor'> under name 'rr' for type <class 'pandas.core.frame.DataFrame'> is overriding a preexisting attribute with the same name.\n",
            "  \"\"\"Entry point for launching an IPython kernel.\n"
          ],
          "name": "stderr"
        }
      ]
    },
    {
      "cell_type": "code",
      "metadata": {
        "id": "ob_DKLCIrXN6",
        "colab_type": "code",
        "outputId": "67cdeb9d-7829-4fec-fdb0-f78ebca3714d",
        "colab": {
          "base_uri": "https://localhost:8080/",
          "height": 36
        }
      },
      "source": [
        "inpatient.rr.count_p(codes='486', cols='admtng_icd9_dgns_cd')"
      ],
      "execution_count": 0,
      "outputs": [
        {
          "output_type": "execute_result",
          "data": {
            "text/plain": [
              "2290"
            ]
          },
          "metadata": {
            "tags": []
          },
          "execution_count": 151
        }
      ]
    },
    {
      "cell_type": "markdown",
      "metadata": {
        "id": "Kuen4oTwmSsN",
        "colab_type": "text"
      },
      "source": [
        "#Summing up\n",
        "\n",
        "Someting as simple as counting how may patients who have a given codition, can be suprisingly hard. By using Pandas methods such as *isin()*, *any()*, *str_contains()*, and *nunique()* it becomes easier - and by creating a function that does it for us, we increase the speed and reliability of future analysis. We avoid having to do everything from scrach, which reduce the probability of silly small mistakes that tend to creep in, and by making it an extension we can even use the new methods as part of the natural flow in a Pandas chain of methods.\n",
        "\n",
        "Having built a funtion, one often start to wonder how it can be made even better. For instance, sometimes we do not only want to count how many people who have a code (existence condition), but say, how many who have \"code X and Y\" or \"code X before Y\" or even \"min 3 of code X within 100 days after 1st Y.\" These more advanced counting operations is the topic of the next chapter. "
      ]
    }
  ]
}